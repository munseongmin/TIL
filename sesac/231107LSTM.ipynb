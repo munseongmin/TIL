{
 "cells": [
  {
   "cell_type": "code",
   "execution_count": 2,
   "id": "3109f90f",
   "metadata": {
    "ExecuteTime": {
     "end_time": "2023-11-07T23:37:25.849237Z",
     "start_time": "2023-11-07T23:37:23.086848Z"
    }
   },
   "outputs": [],
   "source": [
    "import pandas as pd\n",
    "import numpy as np\n",
    "import matplotlib.pyplot as plt\n",
    "import seaborn as sns"
   ]
  },
  {
   "cell_type": "code",
   "execution_count": 3,
   "id": "ab1828ef",
   "metadata": {
    "ExecuteTime": {
     "end_time": "2023-11-07T23:37:26.087408Z",
     "start_time": "2023-11-07T23:37:25.850237Z"
    }
   },
   "outputs": [],
   "source": [
    "import FinanceDataReader as fdr"
   ]
  },
  {
   "cell_type": "code",
   "execution_count": 4,
   "id": "70648424",
   "metadata": {
    "ExecuteTime": {
     "end_time": "2023-11-07T23:37:26.346588Z",
     "start_time": "2023-11-07T23:37:26.088434Z"
    }
   },
   "outputs": [],
   "source": [
    "kakao = fdr.DataReader('035720')"
   ]
  },
  {
   "cell_type": "code",
   "execution_count": 5,
   "id": "545cf715",
   "metadata": {
    "ExecuteTime": {
     "end_time": "2023-11-07T23:37:26.417557Z",
     "start_time": "2023-11-07T23:37:26.346588Z"
    }
   },
   "outputs": [
    {
     "data": {
      "text/html": [
       "<div>\n",
       "<style scoped>\n",
       "    .dataframe tbody tr th:only-of-type {\n",
       "        vertical-align: middle;\n",
       "    }\n",
       "\n",
       "    .dataframe tbody tr th {\n",
       "        vertical-align: top;\n",
       "    }\n",
       "\n",
       "    .dataframe thead th {\n",
       "        text-align: right;\n",
       "    }\n",
       "</style>\n",
       "<table border=\"1\" class=\"dataframe\">\n",
       "  <thead>\n",
       "    <tr style=\"text-align: right;\">\n",
       "      <th></th>\n",
       "      <th>Open</th>\n",
       "      <th>High</th>\n",
       "      <th>Low</th>\n",
       "      <th>Close</th>\n",
       "      <th>Volume</th>\n",
       "      <th>Change</th>\n",
       "    </tr>\n",
       "    <tr>\n",
       "      <th>Date</th>\n",
       "      <th></th>\n",
       "      <th></th>\n",
       "      <th></th>\n",
       "      <th></th>\n",
       "      <th></th>\n",
       "      <th></th>\n",
       "    </tr>\n",
       "  </thead>\n",
       "  <tbody>\n",
       "    <tr>\n",
       "      <th>1999-11-11</th>\n",
       "      <td>999</td>\n",
       "      <td>999</td>\n",
       "      <td>999</td>\n",
       "      <td>999</td>\n",
       "      <td>12</td>\n",
       "      <td>NaN</td>\n",
       "    </tr>\n",
       "    <tr>\n",
       "      <th>1999-11-12</th>\n",
       "      <td>1115</td>\n",
       "      <td>1115</td>\n",
       "      <td>1115</td>\n",
       "      <td>1115</td>\n",
       "      <td>140</td>\n",
       "      <td>0.116116</td>\n",
       "    </tr>\n",
       "    <tr>\n",
       "      <th>1999-11-15</th>\n",
       "      <td>1249</td>\n",
       "      <td>1249</td>\n",
       "      <td>1249</td>\n",
       "      <td>1249</td>\n",
       "      <td>405</td>\n",
       "      <td>0.120179</td>\n",
       "    </tr>\n",
       "    <tr>\n",
       "      <th>1999-11-16</th>\n",
       "      <td>1396</td>\n",
       "      <td>1396</td>\n",
       "      <td>1396</td>\n",
       "      <td>1396</td>\n",
       "      <td>214</td>\n",
       "      <td>0.117694</td>\n",
       "    </tr>\n",
       "    <tr>\n",
       "      <th>1999-11-17</th>\n",
       "      <td>1561</td>\n",
       "      <td>1561</td>\n",
       "      <td>1561</td>\n",
       "      <td>1561</td>\n",
       "      <td>191</td>\n",
       "      <td>0.118195</td>\n",
       "    </tr>\n",
       "    <tr>\n",
       "      <th>...</th>\n",
       "      <td>...</td>\n",
       "      <td>...</td>\n",
       "      <td>...</td>\n",
       "      <td>...</td>\n",
       "      <td>...</td>\n",
       "      <td>...</td>\n",
       "    </tr>\n",
       "    <tr>\n",
       "      <th>2023-11-01</th>\n",
       "      <td>38000</td>\n",
       "      <td>38300</td>\n",
       "      <td>37450</td>\n",
       "      <td>37600</td>\n",
       "      <td>1272093</td>\n",
       "      <td>-0.005291</td>\n",
       "    </tr>\n",
       "    <tr>\n",
       "      <th>2023-11-02</th>\n",
       "      <td>38000</td>\n",
       "      <td>38600</td>\n",
       "      <td>37900</td>\n",
       "      <td>38550</td>\n",
       "      <td>1529650</td>\n",
       "      <td>0.025266</td>\n",
       "    </tr>\n",
       "    <tr>\n",
       "      <th>2023-11-03</th>\n",
       "      <td>39250</td>\n",
       "      <td>41550</td>\n",
       "      <td>38900</td>\n",
       "      <td>41300</td>\n",
       "      <td>3675484</td>\n",
       "      <td>0.071336</td>\n",
       "    </tr>\n",
       "    <tr>\n",
       "      <th>2023-11-06</th>\n",
       "      <td>43000</td>\n",
       "      <td>44700</td>\n",
       "      <td>42300</td>\n",
       "      <td>44700</td>\n",
       "      <td>4871031</td>\n",
       "      <td>0.082324</td>\n",
       "    </tr>\n",
       "    <tr>\n",
       "      <th>2023-11-07</th>\n",
       "      <td>44700</td>\n",
       "      <td>44750</td>\n",
       "      <td>42850</td>\n",
       "      <td>43750</td>\n",
       "      <td>2026104</td>\n",
       "      <td>-0.021253</td>\n",
       "    </tr>\n",
       "  </tbody>\n",
       "</table>\n",
       "<p>5921 rows × 6 columns</p>\n",
       "</div>"
      ],
      "text/plain": [
       "             Open   High    Low  Close   Volume    Change\n",
       "Date                                                     \n",
       "1999-11-11    999    999    999    999       12       NaN\n",
       "1999-11-12   1115   1115   1115   1115      140  0.116116\n",
       "1999-11-15   1249   1249   1249   1249      405  0.120179\n",
       "1999-11-16   1396   1396   1396   1396      214  0.117694\n",
       "1999-11-17   1561   1561   1561   1561      191  0.118195\n",
       "...           ...    ...    ...    ...      ...       ...\n",
       "2023-11-01  38000  38300  37450  37600  1272093 -0.005291\n",
       "2023-11-02  38000  38600  37900  38550  1529650  0.025266\n",
       "2023-11-03  39250  41550  38900  41300  3675484  0.071336\n",
       "2023-11-06  43000  44700  42300  44700  4871031  0.082324\n",
       "2023-11-07  44700  44750  42850  43750  2026104 -0.021253\n",
       "\n",
       "[5921 rows x 6 columns]"
      ]
     },
     "execution_count": 5,
     "metadata": {},
     "output_type": "execute_result"
    }
   ],
   "source": [
    "kakao"
   ]
  },
  {
   "cell_type": "code",
   "execution_count": 6,
   "id": "17852163",
   "metadata": {
    "ExecuteTime": {
     "end_time": "2023-11-07T23:37:26.423355Z",
     "start_time": "2023-11-07T23:37:26.418557Z"
    }
   },
   "outputs": [
    {
     "data": {
      "text/plain": [
       "DatetimeIndex(['1999-11-11', '1999-11-12', '1999-11-15', '1999-11-16',\n",
       "               '1999-11-17', '1999-11-18', '1999-11-19', '1999-11-22',\n",
       "               '1999-11-23', '1999-11-24',\n",
       "               ...\n",
       "               '2023-10-25', '2023-10-26', '2023-10-27', '2023-10-30',\n",
       "               '2023-10-31', '2023-11-01', '2023-11-02', '2023-11-03',\n",
       "               '2023-11-06', '2023-11-07'],\n",
       "              dtype='datetime64[ns]', name='Date', length=5921, freq=None)"
      ]
     },
     "execution_count": 6,
     "metadata": {},
     "output_type": "execute_result"
    }
   ],
   "source": [
    "kakao.index"
   ]
  },
  {
   "cell_type": "code",
   "execution_count": 7,
   "id": "aa8f89ed",
   "metadata": {
    "ExecuteTime": {
     "end_time": "2023-11-07T23:37:27.781423Z",
     "start_time": "2023-11-07T23:37:27.776376Z"
    }
   },
   "outputs": [],
   "source": [
    "kakao['year'] = kakao.index.year"
   ]
  },
  {
   "cell_type": "code",
   "execution_count": 8,
   "id": "c87cc4fd",
   "metadata": {
    "ExecuteTime": {
     "end_time": "2023-11-07T23:37:28.059996Z",
     "start_time": "2023-11-07T23:37:28.041422Z"
    }
   },
   "outputs": [],
   "source": [
    "kakao['month'] = kakao.index.month"
   ]
  },
  {
   "cell_type": "code",
   "execution_count": 9,
   "id": "a90bbe50",
   "metadata": {
    "ExecuteTime": {
     "end_time": "2023-11-07T23:37:28.307648Z",
     "start_time": "2023-11-07T23:37:28.291604Z"
    }
   },
   "outputs": [],
   "source": [
    "kakao['day'] = kakao.index.day"
   ]
  },
  {
   "cell_type": "code",
   "execution_count": 10,
   "id": "d565f43a",
   "metadata": {
    "ExecuteTime": {
     "end_time": "2023-11-07T23:37:28.611083Z",
     "start_time": "2023-11-07T23:37:28.591531Z"
    }
   },
   "outputs": [
    {
     "data": {
      "text/html": [
       "<div>\n",
       "<style scoped>\n",
       "    .dataframe tbody tr th:only-of-type {\n",
       "        vertical-align: middle;\n",
       "    }\n",
       "\n",
       "    .dataframe tbody tr th {\n",
       "        vertical-align: top;\n",
       "    }\n",
       "\n",
       "    .dataframe thead th {\n",
       "        text-align: right;\n",
       "    }\n",
       "</style>\n",
       "<table border=\"1\" class=\"dataframe\">\n",
       "  <thead>\n",
       "    <tr style=\"text-align: right;\">\n",
       "      <th></th>\n",
       "      <th>Open</th>\n",
       "      <th>High</th>\n",
       "      <th>Low</th>\n",
       "      <th>Close</th>\n",
       "      <th>Volume</th>\n",
       "      <th>Change</th>\n",
       "      <th>year</th>\n",
       "      <th>month</th>\n",
       "      <th>day</th>\n",
       "    </tr>\n",
       "    <tr>\n",
       "      <th>Date</th>\n",
       "      <th></th>\n",
       "      <th></th>\n",
       "      <th></th>\n",
       "      <th></th>\n",
       "      <th></th>\n",
       "      <th></th>\n",
       "      <th></th>\n",
       "      <th></th>\n",
       "      <th></th>\n",
       "    </tr>\n",
       "  </thead>\n",
       "  <tbody>\n",
       "    <tr>\n",
       "      <th>1999-11-11</th>\n",
       "      <td>999</td>\n",
       "      <td>999</td>\n",
       "      <td>999</td>\n",
       "      <td>999</td>\n",
       "      <td>12</td>\n",
       "      <td>NaN</td>\n",
       "      <td>1999</td>\n",
       "      <td>11</td>\n",
       "      <td>11</td>\n",
       "    </tr>\n",
       "    <tr>\n",
       "      <th>1999-11-12</th>\n",
       "      <td>1115</td>\n",
       "      <td>1115</td>\n",
       "      <td>1115</td>\n",
       "      <td>1115</td>\n",
       "      <td>140</td>\n",
       "      <td>0.116116</td>\n",
       "      <td>1999</td>\n",
       "      <td>11</td>\n",
       "      <td>12</td>\n",
       "    </tr>\n",
       "    <tr>\n",
       "      <th>1999-11-15</th>\n",
       "      <td>1249</td>\n",
       "      <td>1249</td>\n",
       "      <td>1249</td>\n",
       "      <td>1249</td>\n",
       "      <td>405</td>\n",
       "      <td>0.120179</td>\n",
       "      <td>1999</td>\n",
       "      <td>11</td>\n",
       "      <td>15</td>\n",
       "    </tr>\n",
       "    <tr>\n",
       "      <th>1999-11-16</th>\n",
       "      <td>1396</td>\n",
       "      <td>1396</td>\n",
       "      <td>1396</td>\n",
       "      <td>1396</td>\n",
       "      <td>214</td>\n",
       "      <td>0.117694</td>\n",
       "      <td>1999</td>\n",
       "      <td>11</td>\n",
       "      <td>16</td>\n",
       "    </tr>\n",
       "    <tr>\n",
       "      <th>1999-11-17</th>\n",
       "      <td>1561</td>\n",
       "      <td>1561</td>\n",
       "      <td>1561</td>\n",
       "      <td>1561</td>\n",
       "      <td>191</td>\n",
       "      <td>0.118195</td>\n",
       "      <td>1999</td>\n",
       "      <td>11</td>\n",
       "      <td>17</td>\n",
       "    </tr>\n",
       "    <tr>\n",
       "      <th>...</th>\n",
       "      <td>...</td>\n",
       "      <td>...</td>\n",
       "      <td>...</td>\n",
       "      <td>...</td>\n",
       "      <td>...</td>\n",
       "      <td>...</td>\n",
       "      <td>...</td>\n",
       "      <td>...</td>\n",
       "      <td>...</td>\n",
       "    </tr>\n",
       "    <tr>\n",
       "      <th>2023-11-01</th>\n",
       "      <td>38000</td>\n",
       "      <td>38300</td>\n",
       "      <td>37450</td>\n",
       "      <td>37600</td>\n",
       "      <td>1272093</td>\n",
       "      <td>-0.005291</td>\n",
       "      <td>2023</td>\n",
       "      <td>11</td>\n",
       "      <td>1</td>\n",
       "    </tr>\n",
       "    <tr>\n",
       "      <th>2023-11-02</th>\n",
       "      <td>38000</td>\n",
       "      <td>38600</td>\n",
       "      <td>37900</td>\n",
       "      <td>38550</td>\n",
       "      <td>1529650</td>\n",
       "      <td>0.025266</td>\n",
       "      <td>2023</td>\n",
       "      <td>11</td>\n",
       "      <td>2</td>\n",
       "    </tr>\n",
       "    <tr>\n",
       "      <th>2023-11-03</th>\n",
       "      <td>39250</td>\n",
       "      <td>41550</td>\n",
       "      <td>38900</td>\n",
       "      <td>41300</td>\n",
       "      <td>3675484</td>\n",
       "      <td>0.071336</td>\n",
       "      <td>2023</td>\n",
       "      <td>11</td>\n",
       "      <td>3</td>\n",
       "    </tr>\n",
       "    <tr>\n",
       "      <th>2023-11-06</th>\n",
       "      <td>43000</td>\n",
       "      <td>44700</td>\n",
       "      <td>42300</td>\n",
       "      <td>44700</td>\n",
       "      <td>4871031</td>\n",
       "      <td>0.082324</td>\n",
       "      <td>2023</td>\n",
       "      <td>11</td>\n",
       "      <td>6</td>\n",
       "    </tr>\n",
       "    <tr>\n",
       "      <th>2023-11-07</th>\n",
       "      <td>44700</td>\n",
       "      <td>44750</td>\n",
       "      <td>42850</td>\n",
       "      <td>43750</td>\n",
       "      <td>2026104</td>\n",
       "      <td>-0.021253</td>\n",
       "      <td>2023</td>\n",
       "      <td>11</td>\n",
       "      <td>7</td>\n",
       "    </tr>\n",
       "  </tbody>\n",
       "</table>\n",
       "<p>5921 rows × 9 columns</p>\n",
       "</div>"
      ],
      "text/plain": [
       "             Open   High    Low  Close   Volume    Change  year  month  day\n",
       "Date                                                                       \n",
       "1999-11-11    999    999    999    999       12       NaN  1999     11   11\n",
       "1999-11-12   1115   1115   1115   1115      140  0.116116  1999     11   12\n",
       "1999-11-15   1249   1249   1249   1249      405  0.120179  1999     11   15\n",
       "1999-11-16   1396   1396   1396   1396      214  0.117694  1999     11   16\n",
       "1999-11-17   1561   1561   1561   1561      191  0.118195  1999     11   17\n",
       "...           ...    ...    ...    ...      ...       ...   ...    ...  ...\n",
       "2023-11-01  38000  38300  37450  37600  1272093 -0.005291  2023     11    1\n",
       "2023-11-02  38000  38600  37900  38550  1529650  0.025266  2023     11    2\n",
       "2023-11-03  39250  41550  38900  41300  3675484  0.071336  2023     11    3\n",
       "2023-11-06  43000  44700  42300  44700  4871031  0.082324  2023     11    6\n",
       "2023-11-07  44700  44750  42850  43750  2026104 -0.021253  2023     11    7\n",
       "\n",
       "[5921 rows x 9 columns]"
      ]
     },
     "execution_count": 10,
     "metadata": {},
     "output_type": "execute_result"
    }
   ],
   "source": [
    "kakao"
   ]
  },
  {
   "cell_type": "code",
   "execution_count": 11,
   "id": "14244386",
   "metadata": {
    "ExecuteTime": {
     "end_time": "2023-11-07T23:37:30.113224Z",
     "start_time": "2023-11-07T23:37:29.639669Z"
    }
   },
   "outputs": [
    {
     "data": {
      "text/plain": [
       "Text(0, 0.5, 'price')"
      ]
     },
     "execution_count": 11,
     "metadata": {},
     "output_type": "execute_result"
    },
    {
     "data": {
      "image/png": "[encoded data removed]",
      "text/plain": [
       "<Figure size 1600x900 with 1 Axes>"
      ]
     },
     "metadata": {},
     "output_type": "display_data"
    }
   ],
   "source": [
    "plt.figure(figsize=(16,9))\n",
    "sns.lineplot(y=kakao['Close'], x=kakao.index)\n",
    "plt.xlabel('time')\n",
    "plt.ylabel('price')"
   ]
  },
  {
   "cell_type": "code",
   "execution_count": 12,
   "id": "ed6637d3",
   "metadata": {
    "ExecuteTime": {
     "end_time": "2023-11-07T23:37:31.386906Z",
     "start_time": "2023-11-07T23:37:31.383591Z"
    }
   },
   "outputs": [],
   "source": [
    "ts = [['2000', '2010'],\n",
    "      ['2010', '2015'],\n",
    "      ['2015', '2020'],\n",
    "      ['2020', '2023']]"
   ]
  },
  {
   "cell_type": "code",
   "execution_count": 13,
   "id": "9365d40d",
   "metadata": {
    "ExecuteTime": {
     "end_time": "2023-11-07T23:37:32.594461Z",
     "start_time": "2023-11-07T23:37:31.696821Z"
    }
   },
   "outputs": [
    {
     "data": {
      "image/png": "[encoded data removed]",
      "text/plain": [
       "<Figure size 1600x900 with 4 Axes>"
      ]
     },
     "metadata": {},
     "output_type": "display_data"
    }
   ],
   "source": [
    "fig, axes = plt.subplots(2,2)\n",
    "fig.set_size_inches(16,9)\n",
    "for i in range(4):\n",
    "    ax = axes[i//2, i%2]\n",
    "    df = kakao.loc[(kakao.index > ts[i][0]) & (kakao.index <ts[i][1])]\n",
    "    sns.lineplot(y=df['Close'], x=df.index, ax=ax)\n",
    "    ax.set_title(f'{ts[i][0]}~{ts[i][1]}')\n",
    "    ax.set_xlabel('time')\n",
    "    ax.set_ylabel('price')\n",
    "plt.tight_layout()"
   ]
  },
  {
   "cell_type": "code",
   "execution_count": 14,
   "id": "1ec869a5",
   "metadata": {
    "ExecuteTime": {
     "end_time": "2023-11-07T23:37:34.118079Z",
     "start_time": "2023-11-07T23:37:33.815620Z"
    }
   },
   "outputs": [],
   "source": [
    "from sklearn.preprocessing import MinMaxScaler"
   ]
  },
  {
   "cell_type": "code",
   "execution_count": 15,
   "id": "26662379",
   "metadata": {
    "ExecuteTime": {
     "end_time": "2023-11-07T23:37:34.121709Z",
     "start_time": "2023-11-07T23:37:34.119106Z"
    }
   },
   "outputs": [],
   "source": [
    "scaler = MinMaxScaler()"
   ]
  },
  {
   "cell_type": "code",
   "execution_count": 16,
   "id": "2d7e34dd",
   "metadata": {
    "ExecuteTime": {
     "end_time": "2023-11-07T23:37:34.268296Z",
     "start_time": "2023-11-07T23:37:34.264604Z"
    }
   },
   "outputs": [],
   "source": [
    "cols = ['Open', 'High', 'Low', 'Close', 'Volume']"
   ]
  },
  {
   "cell_type": "code",
   "execution_count": 17,
   "id": "51d1f222",
   "metadata": {
    "ExecuteTime": {
     "end_time": "2023-11-07T23:37:34.488798Z",
     "start_time": "2023-11-07T23:37:34.481079Z"
    }
   },
   "outputs": [],
   "source": [
    "scaled = scaler.fit_transform(kakao[cols])"
   ]
  },
  {
   "cell_type": "code",
   "execution_count": 18,
   "id": "e3e44f23",
   "metadata": {
    "ExecuteTime": {
     "end_time": "2023-11-07T23:37:34.731063Z",
     "start_time": "2023-11-07T23:37:34.727447Z"
    }
   },
   "outputs": [],
   "source": [
    "df = pd.DataFrame(scaled, columns=cols)"
   ]
  },
  {
   "cell_type": "code",
   "execution_count": 19,
   "id": "17366dd3",
   "metadata": {
    "ExecuteTime": {
     "end_time": "2023-11-07T23:37:34.994879Z",
     "start_time": "2023-11-07T23:37:34.980646Z"
    }
   },
   "outputs": [
    {
     "data": {
      "text/html": [
       "<div>\n",
       "<style scoped>\n",
       "    .dataframe tbody tr th:only-of-type {\n",
       "        vertical-align: middle;\n",
       "    }\n",
       "\n",
       "    .dataframe tbody tr th {\n",
       "        vertical-align: top;\n",
       "    }\n",
       "\n",
       "    .dataframe thead th {\n",
       "        text-align: right;\n",
       "    }\n",
       "</style>\n",
       "<table border=\"1\" class=\"dataframe\">\n",
       "  <thead>\n",
       "    <tr style=\"text-align: right;\">\n",
       "      <th></th>\n",
       "      <th>Open</th>\n",
       "      <th>High</th>\n",
       "      <th>Low</th>\n",
       "      <th>Close</th>\n",
       "      <th>Volume</th>\n",
       "    </tr>\n",
       "  </thead>\n",
       "  <tbody>\n",
       "    <tr>\n",
       "      <th>0</th>\n",
       "      <td>0.005808</td>\n",
       "      <td>0.005775</td>\n",
       "      <td>0.006205</td>\n",
       "      <td>0.000000</td>\n",
       "      <td>6.350837e-07</td>\n",
       "    </tr>\n",
       "    <tr>\n",
       "      <th>1</th>\n",
       "      <td>0.006483</td>\n",
       "      <td>0.006445</td>\n",
       "      <td>0.006925</td>\n",
       "      <td>0.000688</td>\n",
       "      <td>7.409310e-06</td>\n",
       "    </tr>\n",
       "    <tr>\n",
       "      <th>2</th>\n",
       "      <td>0.007262</td>\n",
       "      <td>0.007220</td>\n",
       "      <td>0.007758</td>\n",
       "      <td>0.001484</td>\n",
       "      <td>2.143407e-05</td>\n",
       "    </tr>\n",
       "    <tr>\n",
       "      <th>3</th>\n",
       "      <td>0.008116</td>\n",
       "      <td>0.008069</td>\n",
       "      <td>0.008671</td>\n",
       "      <td>0.002356</td>\n",
       "      <td>1.132566e-05</td>\n",
       "    </tr>\n",
       "    <tr>\n",
       "      <th>4</th>\n",
       "      <td>0.009076</td>\n",
       "      <td>0.009023</td>\n",
       "      <td>0.009696</td>\n",
       "      <td>0.003335</td>\n",
       "      <td>1.010842e-05</td>\n",
       "    </tr>\n",
       "    <tr>\n",
       "      <th>...</th>\n",
       "      <td>...</td>\n",
       "      <td>...</td>\n",
       "      <td>...</td>\n",
       "      <td>...</td>\n",
       "      <td>...</td>\n",
       "    </tr>\n",
       "    <tr>\n",
       "      <th>5916</th>\n",
       "      <td>0.220930</td>\n",
       "      <td>0.221387</td>\n",
       "      <td>0.232609</td>\n",
       "      <td>0.217215</td>\n",
       "      <td>6.732379e-02</td>\n",
       "    </tr>\n",
       "    <tr>\n",
       "      <th>5917</th>\n",
       "      <td>0.220930</td>\n",
       "      <td>0.223121</td>\n",
       "      <td>0.235404</td>\n",
       "      <td>0.222853</td>\n",
       "      <td>8.095465e-02</td>\n",
       "    </tr>\n",
       "    <tr>\n",
       "      <th>5918</th>\n",
       "      <td>0.228198</td>\n",
       "      <td>0.240173</td>\n",
       "      <td>0.241615</td>\n",
       "      <td>0.239174</td>\n",
       "      <td>1.945200e-01</td>\n",
       "    </tr>\n",
       "    <tr>\n",
       "      <th>5919</th>\n",
       "      <td>0.250000</td>\n",
       "      <td>0.258382</td>\n",
       "      <td>0.262733</td>\n",
       "      <td>0.259352</td>\n",
       "      <td>2.577927e-01</td>\n",
       "    </tr>\n",
       "    <tr>\n",
       "      <th>5920</th>\n",
       "      <td>0.259884</td>\n",
       "      <td>0.258671</td>\n",
       "      <td>0.266149</td>\n",
       "      <td>0.253714</td>\n",
       "      <td>1.072288e-01</td>\n",
       "    </tr>\n",
       "  </tbody>\n",
       "</table>\n",
       "<p>5921 rows × 5 columns</p>\n",
       "</div>"
      ],
      "text/plain": [
       "          Open      High       Low     Close        Volume\n",
       "0     0.005808  0.005775  0.006205  0.000000  6.350837e-07\n",
       "1     0.006483  0.006445  0.006925  0.000688  7.409310e-06\n",
       "2     0.007262  0.007220  0.007758  0.001484  2.143407e-05\n",
       "3     0.008116  0.008069  0.008671  0.002356  1.132566e-05\n",
       "4     0.009076  0.009023  0.009696  0.003335  1.010842e-05\n",
       "...        ...       ...       ...       ...           ...\n",
       "5916  0.220930  0.221387  0.232609  0.217215  6.732379e-02\n",
       "5917  0.220930  0.223121  0.235404  0.222853  8.095465e-02\n",
       "5918  0.228198  0.240173  0.241615  0.239174  1.945200e-01\n",
       "5919  0.250000  0.258382  0.262733  0.259352  2.577927e-01\n",
       "5920  0.259884  0.258671  0.266149  0.253714  1.072288e-01\n",
       "\n",
       "[5921 rows x 5 columns]"
      ]
     },
     "execution_count": 19,
     "metadata": {},
     "output_type": "execute_result"
    }
   ],
   "source": [
    "df"
   ]
  },
  {
   "cell_type": "code",
   "execution_count": 20,
   "id": "95efb642",
   "metadata": {
    "ExecuteTime": {
     "end_time": "2023-11-07T23:37:36.236314Z",
     "start_time": "2023-11-07T23:37:36.023637Z"
    }
   },
   "outputs": [],
   "source": [
    "from sklearn.model_selection import train_test_split"
   ]
  },
  {
   "cell_type": "code",
   "execution_count": 21,
   "id": "ebf5bb66",
   "metadata": {
    "ExecuteTime": {
     "end_time": "2023-11-07T23:37:36.244415Z",
     "start_time": "2023-11-07T23:37:36.239402Z"
    }
   },
   "outputs": [
    {
     "name": "stderr",
     "output_type": "stream",
     "text": [
      "C:\\Users\\user\\AppData\\Local\\Temp\\ipykernel_14236\\3482217535.py:1: FutureWarning: In a future version of pandas all arguments of DataFrame.drop except for the argument 'labels' will be keyword-only.\n",
      "  xtrain, xtest, ytrain, ytest = train_test_split(df.drop('Close', 1), df['Close'], test_size=0.2, random_state=0, shuffle=False)\n"
     ]
    }
   ],
   "source": [
    "xtrain, xtest, ytrain, ytest = train_test_split(df.drop('Close', 1), df['Close'], test_size=0.2, random_state=0, shuffle=False)"
   ]
  },
  {
   "cell_type": "code",
   "execution_count": 22,
   "id": "c62958bf",
   "metadata": {
    "ExecuteTime": {
     "end_time": "2023-11-07T23:37:37.011646Z",
     "start_time": "2023-11-07T23:37:37.007382Z"
    }
   },
   "outputs": [
    {
     "data": {
      "text/plain": [
       "(4736, 4)"
      ]
     },
     "execution_count": 22,
     "metadata": {},
     "output_type": "execute_result"
    }
   ],
   "source": [
    "xtrain.shape"
   ]
  },
  {
   "cell_type": "code",
   "execution_count": 23,
   "id": "57889525",
   "metadata": {
    "ExecuteTime": {
     "end_time": "2023-11-07T23:37:37.253191Z",
     "start_time": "2023-11-07T23:37:37.244279Z"
    }
   },
   "outputs": [
    {
     "data": {
      "text/plain": [
       "(4736,)"
      ]
     },
     "execution_count": 23,
     "metadata": {},
     "output_type": "execute_result"
    }
   ],
   "source": [
    "ytrain.shape"
   ]
  },
  {
   "cell_type": "code",
   "execution_count": 24,
   "id": "b1129266",
   "metadata": {
    "ExecuteTime": {
     "end_time": "2023-11-07T23:37:37.470061Z",
     "start_time": "2023-11-07T23:37:37.466241Z"
    }
   },
   "outputs": [
    {
     "data": {
      "text/plain": [
       "(1185, 4)"
      ]
     },
     "execution_count": 24,
     "metadata": {},
     "output_type": "execute_result"
    }
   ],
   "source": [
    "xtest.shape"
   ]
  },
  {
   "cell_type": "code",
   "execution_count": 25,
   "id": "22252b99",
   "metadata": {
    "ExecuteTime": {
     "end_time": "2023-11-07T23:37:37.900428Z",
     "start_time": "2023-11-07T23:37:37.895802Z"
    }
   },
   "outputs": [
    {
     "data": {
      "text/plain": [
       "(1185,)"
      ]
     },
     "execution_count": 25,
     "metadata": {},
     "output_type": "execute_result"
    }
   ],
   "source": [
    "ytest.shape"
   ]
  },
  {
   "cell_type": "code",
   "execution_count": 26,
   "id": "2d577a19",
   "metadata": {
    "ExecuteTime": {
     "end_time": "2023-11-07T23:37:38.515892Z",
     "start_time": "2023-11-07T23:37:38.511925Z"
    }
   },
   "outputs": [],
   "source": [
    "def make_dataset(data, label, window_size=20):\n",
    "    feature_list = []\n",
    "    label_list = []\n",
    "    for i in range(len(data) - window_size):\n",
    "        feature_list.append(np.array(data.iloc[i:i+window_size]))\n",
    "        label_list.append(np.array(label.iloc[i+window_size]))\n",
    "    return np.array(feature_list), np.array(label_list)"
   ]
  },
  {
   "cell_type": "code",
   "execution_count": 27,
   "id": "35903c0a",
   "metadata": {
    "ExecuteTime": {
     "end_time": "2023-11-07T23:37:39.053873Z",
     "start_time": "2023-11-07T23:37:38.887191Z"
    }
   },
   "outputs": [],
   "source": [
    "xtrain, ytrain = make_dataset(xtrain, ytrain , 20)"
   ]
  },
  {
   "cell_type": "code",
   "execution_count": 28,
   "id": "ba8ff986",
   "metadata": {
    "ExecuteTime": {
     "end_time": "2023-11-07T23:37:39.406253Z",
     "start_time": "2023-11-07T23:37:39.400713Z"
    },
    "scrolled": true
   },
   "outputs": [
    {
     "data": {
      "text/plain": [
       "array([[[5.80813953e-03, 5.77456647e-03, 6.20496894e-03, 6.35083673e-07],\n",
       "        [6.48255814e-03, 6.44508671e-03, 6.92546584e-03, 7.40930952e-06],\n",
       "        [7.26162791e-03, 7.21965318e-03, 7.75776398e-03, 2.14340740e-05],\n",
       "        ...,\n",
       "        [3.92151163e-02, 3.89884393e-02, 4.18944099e-02, 1.20612974e-04],\n",
       "        [4.38837209e-02, 4.36300578e-02, 4.68819876e-02, 9.83321221e-05],\n",
       "        [4.91279070e-02, 4.88439306e-02, 5.24844720e-02, 2.80495289e-05]],\n",
       "\n",
       "       [[6.48255814e-03, 6.44508671e-03, 6.92546584e-03, 7.40930952e-06],\n",
       "        [7.26162791e-03, 7.21965318e-03, 7.75776398e-03, 2.14340740e-05],\n",
       "        [8.11627907e-03, 8.06936416e-03, 8.67080745e-03, 1.13256588e-05],\n",
       "        ...,\n",
       "        [4.38837209e-02, 4.36300578e-02, 4.68819876e-02, 9.83321221e-05],\n",
       "        [4.91279070e-02, 4.88439306e-02, 5.24844720e-02, 2.80495289e-05],\n",
       "        [5.49883721e-02, 5.46705202e-02, 5.87453416e-02, 1.60358628e-05]],\n",
       "\n",
       "       [[7.26162791e-03, 7.21965318e-03, 7.75776398e-03, 2.14340740e-05],\n",
       "        [8.11627907e-03, 8.06936416e-03, 8.67080745e-03, 1.13256588e-05],\n",
       "        [9.07558140e-03, 9.02312139e-03, 9.69565217e-03, 1.01084151e-05],\n",
       "        ...,\n",
       "        [4.91279070e-02, 4.88439306e-02, 5.24844720e-02, 2.80495289e-05],\n",
       "        [5.49883721e-02, 5.46705202e-02, 5.87453416e-02, 1.60358628e-05],\n",
       "        [6.14709302e-02, 6.11156069e-02, 6.56708075e-02, 4.86368246e-05]],\n",
       "\n",
       "       ...,\n",
       "\n",
       "       [[1.30104651e-01, 1.32832370e-01, 1.37751553e-01, 2.61912212e-02],\n",
       "        [1.28936047e-01, 1.29346821e-01, 1.35881988e-01, 1.04155310e-02],\n",
       "        [1.28360465e-01, 1.29942197e-01, 1.35260870e-01, 9.16399279e-03],\n",
       "        ...,\n",
       "        [1.17860465e-01, 1.19497110e-01, 1.25291925e-01, 1.54311043e-02],\n",
       "        [1.17860465e-01, 1.20080925e-01, 1.25913043e-01, 9.55594526e-03],\n",
       "        [1.19017442e-01, 1.18329480e-01, 1.24409938e-01, 1.28765861e-02]],\n",
       "\n",
       "       [[1.28936047e-01, 1.29346821e-01, 1.35881988e-01, 1.04155310e-02],\n",
       "        [1.28360465e-01, 1.29942197e-01, 1.35260870e-01, 9.16399279e-03],\n",
       "        [1.26604651e-01, 1.28768786e-01, 1.33385093e-01, 1.00006097e-02],\n",
       "        ...,\n",
       "        [1.17860465e-01, 1.20080925e-01, 1.25913043e-01, 9.55594526e-03],\n",
       "        [1.19017442e-01, 1.18329480e-01, 1.24409938e-01, 1.28765861e-02],\n",
       "        [1.16680233e-01, 1.18907514e-01, 1.24037267e-01, 2.01946553e-02]],\n",
       "\n",
       "       [[1.28360465e-01, 1.29942197e-01, 1.35260870e-01, 9.16399279e-03],\n",
       "        [1.26604651e-01, 1.28768786e-01, 1.33385093e-01, 1.00006097e-02],\n",
       "        [1.26610465e-01, 1.26462428e-01, 1.32142857e-01, 1.15636564e-02],\n",
       "        ...,\n",
       "        [1.19017442e-01, 1.18329480e-01, 1.24409938e-01, 1.28765861e-02],\n",
       "        [1.16680233e-01, 1.18907514e-01, 1.24037267e-01, 2.01946553e-02],\n",
       "        [1.17267442e-01, 1.17167630e-01, 1.24409938e-01, 1.14954908e-02]]])"
      ]
     },
     "execution_count": 28,
     "metadata": {},
     "output_type": "execute_result"
    }
   ],
   "source": [
    "xtrain"
   ]
  },
  {
   "cell_type": "code",
   "execution_count": 29,
   "id": "fe004123",
   "metadata": {
    "ExecuteTime": {
     "end_time": "2023-11-07T23:37:40.467866Z",
     "start_time": "2023-11-07T23:37:40.463385Z"
    }
   },
   "outputs": [
    {
     "data": {
      "text/plain": [
       "(4716, 20, 4)"
      ]
     },
     "execution_count": 29,
     "metadata": {},
     "output_type": "execute_result"
    }
   ],
   "source": [
    "xtrain.shape"
   ]
  },
  {
   "cell_type": "code",
   "execution_count": 30,
   "id": "641acae7",
   "metadata": {
    "ExecuteTime": {
     "end_time": "2023-11-07T23:37:40.755687Z",
     "start_time": "2023-11-07T23:37:40.751692Z"
    }
   },
   "outputs": [
    {
     "data": {
      "text/plain": [
       "(4716, 1)"
      ]
     },
     "execution_count": 30,
     "metadata": {},
     "output_type": "execute_result"
    }
   ],
   "source": [
    "ytrain = ytrain.reshape(ytrain.shape[0],1)\n",
    "ytrain.shape"
   ]
  },
  {
   "cell_type": "code",
   "execution_count": 31,
   "id": "26ee2b3b",
   "metadata": {
    "ExecuteTime": {
     "end_time": "2023-11-07T23:37:41.130572Z",
     "start_time": "2023-11-07T23:37:41.080153Z"
    }
   },
   "outputs": [],
   "source": [
    "xtest, ytest = make_dataset(xtest, ytest, 20)"
   ]
  },
  {
   "cell_type": "code",
   "execution_count": 32,
   "id": "547b50df",
   "metadata": {
    "ExecuteTime": {
     "end_time": "2023-11-07T23:37:41.412106Z",
     "start_time": "2023-11-07T23:37:41.395367Z"
    }
   },
   "outputs": [
    {
     "data": {
      "text/plain": [
       "(1165, 20, 4)"
      ]
     },
     "execution_count": 32,
     "metadata": {},
     "output_type": "execute_result"
    }
   ],
   "source": [
    "xtest.shape"
   ]
  },
  {
   "cell_type": "code",
   "execution_count": 33,
   "id": "4b87c8c0",
   "metadata": {
    "ExecuteTime": {
     "end_time": "2023-11-07T23:37:41.724158Z",
     "start_time": "2023-11-07T23:37:41.713273Z"
    }
   },
   "outputs": [
    {
     "data": {
      "text/plain": [
       "(1165, 1)"
      ]
     },
     "execution_count": 33,
     "metadata": {},
     "output_type": "execute_result"
    }
   ],
   "source": [
    "ytest = ytest.reshape(ytest.shape[0], 1)\n",
    "ytest.shape"
   ]
  },
  {
   "cell_type": "code",
   "execution_count": 34,
   "id": "97434b56",
   "metadata": {
    "ExecuteTime": {
     "end_time": "2023-11-07T23:37:50.337286Z",
     "start_time": "2023-11-07T23:37:43.319630Z"
    }
   },
   "outputs": [],
   "source": [
    "from keras.models import Sequential\n",
    "from keras.layers import Dense\n",
    "from keras.callbacks import EarlyStopping, ModelCheckpoint\n",
    "from keras.layers import LSTM"
   ]
  },
  {
   "cell_type": "code",
   "execution_count": 35,
   "id": "fd2a2185",
   "metadata": {
    "ExecuteTime": {
     "end_time": "2023-11-07T23:37:51.211675Z",
     "start_time": "2023-11-07T23:37:51.040347Z"
    }
   },
   "outputs": [],
   "source": [
    "model = Sequential()"
   ]
  },
  {
   "cell_type": "code",
   "execution_count": 36,
   "id": "1e35fa3f",
   "metadata": {
    "ExecuteTime": {
     "end_time": "2023-11-07T23:37:52.163441Z",
     "start_time": "2023-11-07T23:37:51.959511Z"
    }
   },
   "outputs": [],
   "source": [
    "model.add(LSTM(16,\n",
    "               input_shape = (xtrain.shape[1], xtrain.shape[2]),\n",
    "               activation = 'relu',\n",
    "               return_sequences = False))\n",
    "model.add(Dense(1))"
   ]
  },
  {
   "cell_type": "code",
   "execution_count": 37,
   "id": "88407c78",
   "metadata": {
    "ExecuteTime": {
     "end_time": "2023-11-07T23:37:52.885438Z",
     "start_time": "2023-11-07T23:37:52.871333Z"
    }
   },
   "outputs": [],
   "source": [
    "model.compile(loss = 'mean_squared_error', optimizer = 'adam')\n",
    "early_stop = EarlyStopping(monitor = 'val_loss', patience=5)\n",
    "checkpoint = ModelCheckpoint('tmp_checkpoint.h5', monitor='val_loss', verbose=1, save_best_only=True, mode='auto')"
   ]
  },
  {
   "cell_type": "code",
   "execution_count": 38,
   "id": "4b199872",
   "metadata": {
    "ExecuteTime": {
     "end_time": "2023-11-07T23:37:53.220407Z",
     "start_time": "2023-11-07T23:37:53.215930Z"
    }
   },
   "outputs": [],
   "source": [
    "xtrain, x_valid, ytrain, y_valid = train_test_split(xtrain, ytrain, test_size=0.2)"
   ]
  },
  {
   "cell_type": "code",
   "execution_count": 39,
   "id": "30761cdb",
   "metadata": {
    "ExecuteTime": {
     "end_time": "2023-11-07T23:38:34.865464Z",
     "start_time": "2023-11-07T23:37:53.743678Z"
    },
    "scrolled": true
   },
   "outputs": [
    {
     "name": "stdout",
     "output_type": "stream",
     "text": [
      "Epoch 1/200\n",
      "224/236 [===========================>..] - ETA: 0s - loss: 8.0723e-04\n",
      "Epoch 1: val_loss improved from inf to 0.00005, saving model to tmp_checkpoint.h5\n",
      "236/236 [==============================] - 2s 5ms/step - loss: 7.6955e-04 - val_loss: 4.5407e-05\n",
      "Epoch 2/200\n",
      " 37/236 [===>..........................] - ETA: 0s - loss: 8.3372e-05"
     ]
    },
    {
     "name": "stderr",
     "output_type": "stream",
     "text": [
      "C:\\Users\\user\\anaconda3\\Lib\\site-packages\\keras\\src\\engine\\training.py:3079: UserWarning: You are saving your model as an HDF5 file via `model.save()`. This file format is considered legacy. We recommend using instead the native Keras format, e.g. `model.save('my_model.keras')`.\n",
      "  saving_api.save_model(\n"
     ]
    },
    {
     "name": "stdout",
     "output_type": "stream",
     "text": [
      "221/236 [===========================>..] - ETA: 0s - loss: 5.7312e-05\n",
      "Epoch 2: val_loss improved from 0.00005 to 0.00004, saving model to tmp_checkpoint.h5\n",
      "236/236 [==============================] - 1s 4ms/step - loss: 5.5919e-05 - val_loss: 4.1975e-05\n",
      "Epoch 3/200\n",
      "228/236 [===========================>..] - ETA: 0s - loss: 5.2385e-05\n",
      "Epoch 3: val_loss did not improve from 0.00004\n",
      "236/236 [==============================] - 1s 4ms/step - loss: 5.1588e-05 - val_loss: 4.3911e-05\n",
      "Epoch 4/200\n",
      "235/236 [============================>.] - ETA: 0s - loss: 4.9930e-05\n",
      "Epoch 4: val_loss did not improve from 0.00004\n",
      "236/236 [==============================] - 1s 4ms/step - loss: 4.9801e-05 - val_loss: 4.6413e-05\n",
      "Epoch 5/200\n",
      "233/236 [============================>.] - ETA: 0s - loss: 4.6953e-05\n",
      "Epoch 5: val_loss improved from 0.00004 to 0.00004, saving model to tmp_checkpoint.h5\n",
      "236/236 [==============================] - 1s 4ms/step - loss: 4.6764e-05 - val_loss: 3.5907e-05\n",
      "Epoch 6/200\n",
      "231/236 [============================>.] - ETA: 0s - loss: 4.5042e-05\n",
      "Epoch 6: val_loss did not improve from 0.00004\n",
      "236/236 [==============================] - 1s 4ms/step - loss: 4.4900e-05 - val_loss: 3.6237e-05\n",
      "Epoch 7/200\n",
      "235/236 [============================>.] - ETA: 0s - loss: 4.0616e-05\n",
      "Epoch 7: val_loss improved from 0.00004 to 0.00003, saving model to tmp_checkpoint.h5\n",
      "236/236 [==============================] - 1s 4ms/step - loss: 4.0576e-05 - val_loss: 3.4200e-05\n",
      "Epoch 8/200\n",
      "234/236 [============================>.] - ETA: 0s - loss: 3.9856e-05\n",
      "Epoch 8: val_loss improved from 0.00003 to 0.00003, saving model to tmp_checkpoint.h5\n",
      "236/236 [==============================] - 1s 4ms/step - loss: 3.9742e-05 - val_loss: 3.1701e-05\n",
      "Epoch 9/200\n",
      "227/236 [===========================>..] - ETA: 0s - loss: 3.8582e-05\n",
      "Epoch 9: val_loss did not improve from 0.00003\n",
      "236/236 [==============================] - 1s 4ms/step - loss: 3.8113e-05 - val_loss: 4.2115e-05\n",
      "Epoch 10/200\n",
      "236/236 [==============================] - ETA: 0s - loss: 3.5062e-05\n",
      "Epoch 10: val_loss did not improve from 0.00003\n",
      "236/236 [==============================] - 1s 4ms/step - loss: 3.5062e-05 - val_loss: 3.2144e-05\n",
      "Epoch 11/200\n",
      "228/236 [===========================>..] - ETA: 0s - loss: 3.1818e-05\n",
      "Epoch 11: val_loss improved from 0.00003 to 0.00003, saving model to tmp_checkpoint.h5\n",
      "236/236 [==============================] - 1s 4ms/step - loss: 3.1607e-05 - val_loss: 2.8243e-05\n",
      "Epoch 12/200\n",
      "230/236 [============================>.] - ETA: 0s - loss: 3.1213e-05\n",
      "Epoch 12: val_loss did not improve from 0.00003\n",
      "236/236 [==============================] - 1s 4ms/step - loss: 3.0810e-05 - val_loss: 2.8695e-05\n",
      "Epoch 13/200\n",
      "230/236 [============================>.] - ETA: 0s - loss: 2.8106e-05\n",
      "Epoch 13: val_loss improved from 0.00003 to 0.00003, saving model to tmp_checkpoint.h5\n",
      "236/236 [==============================] - 1s 4ms/step - loss: 2.7854e-05 - val_loss: 2.6425e-05\n",
      "Epoch 14/200\n",
      "233/236 [============================>.] - ETA: 0s - loss: 2.7555e-05\n",
      "Epoch 14: val_loss improved from 0.00003 to 0.00002, saving model to tmp_checkpoint.h5\n",
      "236/236 [==============================] - 1s 4ms/step - loss: 2.7383e-05 - val_loss: 2.3231e-05\n",
      "Epoch 15/200\n",
      "225/236 [===========================>..] - ETA: 0s - loss: 2.5785e-05\n",
      "Epoch 15: val_loss did not improve from 0.00002\n",
      "236/236 [==============================] - 1s 4ms/step - loss: 2.5610e-05 - val_loss: 2.4574e-05\n",
      "Epoch 16/200\n",
      "234/236 [============================>.] - ETA: 0s - loss: 2.4996e-05\n",
      "Epoch 16: val_loss did not improve from 0.00002\n",
      "236/236 [==============================] - 1s 4ms/step - loss: 2.4941e-05 - val_loss: 2.7350e-05\n",
      "Epoch 17/200\n",
      "229/236 [============================>.] - ETA: 0s - loss: 2.3054e-05\n",
      "Epoch 17: val_loss improved from 0.00002 to 0.00002, saving model to tmp_checkpoint.h5\n",
      "236/236 [==============================] - 1s 4ms/step - loss: 2.3885e-05 - val_loss: 2.2172e-05\n",
      "Epoch 18/200\n",
      "228/236 [===========================>..] - ETA: 0s - loss: 2.1915e-05\n",
      "Epoch 18: val_loss did not improve from 0.00002\n",
      "236/236 [==============================] - 1s 4ms/step - loss: 2.2973e-05 - val_loss: 2.6212e-05\n",
      "Epoch 19/200\n",
      "235/236 [============================>.] - ETA: 0s - loss: 2.1711e-05\n",
      "Epoch 19: val_loss improved from 0.00002 to 0.00002, saving model to tmp_checkpoint.h5\n",
      "236/236 [==============================] - 1s 4ms/step - loss: 2.1726e-05 - val_loss: 2.1487e-05\n",
      "Epoch 20/200\n",
      "236/236 [==============================] - ETA: 0s - loss: 2.4781e-05\n",
      "Epoch 20: val_loss improved from 0.00002 to 0.00002, saving model to tmp_checkpoint.h5\n",
      "236/236 [==============================] - 1s 4ms/step - loss: 2.4781e-05 - val_loss: 2.0783e-05\n",
      "Epoch 21/200\n",
      "235/236 [============================>.] - ETA: 0s - loss: 2.1093e-05\n",
      "Epoch 21: val_loss did not improve from 0.00002\n",
      "236/236 [==============================] - 1s 4ms/step - loss: 2.1052e-05 - val_loss: 2.1136e-05\n",
      "Epoch 22/200\n",
      "232/236 [============================>.] - ETA: 0s - loss: 2.1414e-05\n",
      "Epoch 22: val_loss did not improve from 0.00002\n",
      "236/236 [==============================] - 1s 4ms/step - loss: 2.1530e-05 - val_loss: 2.2057e-05\n",
      "Epoch 23/200\n",
      "220/236 [==========================>...] - ETA: 0s - loss: 2.0203e-05\n",
      "Epoch 23: val_loss improved from 0.00002 to 0.00002, saving model to tmp_checkpoint.h5\n",
      "236/236 [==============================] - 1s 4ms/step - loss: 2.0364e-05 - val_loss: 2.0740e-05\n",
      "Epoch 24/200\n",
      "234/236 [============================>.] - ETA: 0s - loss: 2.1586e-05\n",
      "Epoch 24: val_loss did not improve from 0.00002\n",
      "236/236 [==============================] - 1s 4ms/step - loss: 2.1554e-05 - val_loss: 2.2376e-05\n",
      "Epoch 25/200\n",
      "233/236 [============================>.] - ETA: 0s - loss: 2.0460e-05\n",
      "Epoch 25: val_loss did not improve from 0.00002\n",
      "236/236 [==============================] - 1s 4ms/step - loss: 2.0527e-05 - val_loss: 2.8649e-05\n",
      "Epoch 26/200\n",
      "231/236 [============================>.] - ETA: 0s - loss: 2.0855e-05\n",
      "Epoch 26: val_loss did not improve from 0.00002\n",
      "236/236 [==============================] - 1s 4ms/step - loss: 2.0700e-05 - val_loss: 2.0851e-05\n",
      "Epoch 27/200\n",
      "223/236 [===========================>..] - ETA: 0s - loss: 1.9095e-05\n",
      "Epoch 27: val_loss did not improve from 0.00002\n",
      "236/236 [==============================] - 1s 4ms/step - loss: 1.9603e-05 - val_loss: 2.1268e-05\n",
      "Epoch 28/200\n",
      "224/236 [===========================>..] - ETA: 0s - loss: 2.1429e-05\n",
      "Epoch 28: val_loss improved from 0.00002 to 0.00002, saving model to tmp_checkpoint.h5\n",
      "236/236 [==============================] - 1s 4ms/step - loss: 2.1189e-05 - val_loss: 2.0527e-05\n",
      "Epoch 29/200\n",
      "235/236 [============================>.] - ETA: 0s - loss: 2.0308e-05\n",
      "Epoch 29: val_loss did not improve from 0.00002\n",
      "236/236 [==============================] - 1s 4ms/step - loss: 2.0274e-05 - val_loss: 2.5807e-05\n",
      "Epoch 30/200\n",
      "229/236 [============================>.] - ETA: 0s - loss: 1.8877e-05\n",
      "Epoch 30: val_loss improved from 0.00002 to 0.00002, saving model to tmp_checkpoint.h5\n",
      "236/236 [==============================] - 1s 4ms/step - loss: 1.8995e-05 - val_loss: 2.0374e-05\n",
      "Epoch 31/200\n",
      "231/236 [============================>.] - ETA: 0s - loss: 1.8820e-05\n",
      "Epoch 31: val_loss did not improve from 0.00002\n",
      "236/236 [==============================] - 1s 4ms/step - loss: 1.8849e-05 - val_loss: 2.4066e-05\n",
      "Epoch 32/200\n",
      "235/236 [============================>.] - ETA: 0s - loss: 2.0044e-05\n",
      "Epoch 32: val_loss improved from 0.00002 to 0.00002, saving model to tmp_checkpoint.h5\n",
      "236/236 [==============================] - 1s 4ms/step - loss: 2.0052e-05 - val_loss: 2.0121e-05\n",
      "Epoch 33/200\n",
      "234/236 [============================>.] - ETA: 0s - loss: 1.8954e-05\n",
      "Epoch 33: val_loss did not improve from 0.00002\n",
      "236/236 [==============================] - 1s 4ms/step - loss: 1.9010e-05 - val_loss: 2.4813e-05\n",
      "Epoch 34/200\n",
      "221/236 [===========================>..] - ETA: 0s - loss: 1.9296e-05\n",
      "Epoch 34: val_loss did not improve from 0.00002\n",
      "236/236 [==============================] - 1s 4ms/step - loss: 1.9030e-05 - val_loss: 2.0508e-05\n",
      "Epoch 35/200\n",
      "233/236 [============================>.] - ETA: 0s - loss: 1.8789e-05\n",
      "Epoch 35: val_loss improved from 0.00002 to 0.00002, saving model to tmp_checkpoint.h5\n"
     ]
    },
    {
     "name": "stdout",
     "output_type": "stream",
     "text": [
      "236/236 [==============================] - 1s 4ms/step - loss: 1.8668e-05 - val_loss: 1.9768e-05\n",
      "Epoch 36/200\n",
      "232/236 [============================>.] - ETA: 0s - loss: 1.9101e-05\n",
      "Epoch 36: val_loss did not improve from 0.00002\n",
      "236/236 [==============================] - 1s 4ms/step - loss: 1.9099e-05 - val_loss: 2.5950e-05\n",
      "Epoch 37/200\n",
      "225/236 [===========================>..] - ETA: 0s - loss: 1.7787e-05\n",
      "Epoch 37: val_loss did not improve from 0.00002\n",
      "236/236 [==============================] - 1s 4ms/step - loss: 1.7954e-05 - val_loss: 2.2273e-05\n",
      "Epoch 38/200\n",
      "236/236 [==============================] - ETA: 0s - loss: 1.8834e-05\n",
      "Epoch 38: val_loss did not improve from 0.00002\n",
      "236/236 [==============================] - 1s 4ms/step - loss: 1.8834e-05 - val_loss: 2.3102e-05\n",
      "Epoch 39/200\n",
      "235/236 [============================>.] - ETA: 0s - loss: 1.7401e-05\n",
      "Epoch 39: val_loss did not improve from 0.00002\n",
      "236/236 [==============================] - 1s 4ms/step - loss: 1.7422e-05 - val_loss: 2.3729e-05\n",
      "Epoch 40/200\n",
      "223/236 [===========================>..] - ETA: 0s - loss: 1.8873e-05\n",
      "Epoch 40: val_loss did not improve from 0.00002\n",
      "236/236 [==============================] - 1s 4ms/step - loss: 1.9152e-05 - val_loss: 2.0376e-05\n"
     ]
    }
   ],
   "source": [
    "history = model.fit(xtrain, ytrain,\n",
    "                    epochs=200,\n",
    "                    batch_size=16,\n",
    "                    validation_data=(x_valid, y_valid),\n",
    "                    callbacks=[early_stop, checkpoint])"
   ]
  },
  {
   "cell_type": "code",
   "execution_count": 40,
   "id": "ddebbd81",
   "metadata": {
    "ExecuteTime": {
     "end_time": "2023-11-07T23:38:34.880133Z",
     "start_time": "2023-11-07T23:38:34.865530Z"
    }
   },
   "outputs": [],
   "source": [
    "model.load_weights('tmp_checkpoint.h5')"
   ]
  },
  {
   "cell_type": "code",
   "execution_count": 41,
   "id": "8b501a51",
   "metadata": {
    "ExecuteTime": {
     "end_time": "2023-11-07T23:38:35.192544Z",
     "start_time": "2023-11-07T23:38:34.881133Z"
    }
   },
   "outputs": [
    {
     "name": "stdout",
     "output_type": "stream",
     "text": [
      "37/37 [==============================] - 0s 2ms/step\n"
     ]
    }
   ],
   "source": [
    "pred = model.predict(xtest)"
   ]
  },
  {
   "cell_type": "code",
   "execution_count": 42,
   "id": "2912aeb0",
   "metadata": {
    "ExecuteTime": {
     "end_time": "2023-11-07T23:38:35.197864Z",
     "start_time": "2023-11-07T23:38:35.194542Z"
    }
   },
   "outputs": [
    {
     "data": {
      "text/plain": [
       "(1165, 1)"
      ]
     },
     "execution_count": 42,
     "metadata": {},
     "output_type": "execute_result"
    }
   ],
   "source": [
    "pred.shape"
   ]
  },
  {
   "cell_type": "code",
   "execution_count": 43,
   "id": "8761044b",
   "metadata": {
    "ExecuteTime": {
     "end_time": "2023-11-07T23:38:35.396222Z",
     "start_time": "2023-11-07T23:38:35.198865Z"
    }
   },
   "outputs": [
    {
     "data": {
      "image/png": "[encoded data removed]",
      "text/plain": [
       "<Figure size 1200x900 with 1 Axes>"
      ]
     },
     "metadata": {},
     "output_type": "display_data"
    }
   ],
   "source": [
    "plt.figure(figsize=(12,9))\n",
    "plt.plot(ytest, label='actual')\n",
    "plt.plot(pred, label='prediction')\n",
    "plt.legend()\n",
    "plt.show()"
   ]
  },
  {
   "cell_type": "code",
   "execution_count": null,
   "id": "b8d1b08b",
   "metadata": {},
   "outputs": [],
   "source": []
  },
  {
   "cell_type": "code",
   "execution_count": 45,
   "id": "064d3c64",
   "metadata": {
    "ExecuteTime": {
     "end_time": "2023-11-07T23:40:13.927648Z",
     "start_time": "2023-11-07T23:40:13.712696Z"
    }
   },
   "outputs": [
    {
     "name": "stdout",
     "output_type": "stream",
     "text": [
      "Model: \"sequential_2\"\n",
      "_________________________________________________________________\n",
      " Layer (type)                Output Shape              Param #   \n",
      "=================================================================\n",
      " simple_rnn (SimpleRNN)      (None, 3)                 42        \n",
      "                                                                 \n",
      "=================================================================\n",
      "Total params: 42 (168.00 Byte)\n",
      "Trainable params: 42 (168.00 Byte)\n",
      "Non-trainable params: 0 (0.00 Byte)\n",
      "_________________________________________________________________\n"
     ]
    }
   ],
   "source": [
    "from tensorflow.keras.models import  Sequential\n",
    "from tensorflow.keras.layers import SimpleRNN\n",
    "\n",
    "model = Sequential()\n",
    "model.add(SimpleRNN(3, input_shape=(2,10)))\n",
    "model.summary()"
   ]
  },
  {
   "cell_type": "code",
   "execution_count": 46,
   "id": "3c4480b0",
   "metadata": {
    "ExecuteTime": {
     "end_time": "2023-11-07T23:40:14.430351Z",
     "start_time": "2023-11-07T23:40:14.423471Z"
    }
   },
   "outputs": [],
   "source": [
    "import numpy as np\n",
    "from tensorflow.keras.preprocessing.text import Tokenizer\n",
    "from tensorflow.keras.preprocessing.sequence import pad_sequences\n",
    "from tensorflow.keras.utils import to_categorical"
   ]
  },
  {
   "cell_type": "code",
   "execution_count": 47,
   "id": "b8217445",
   "metadata": {
    "ExecuteTime": {
     "end_time": "2023-11-07T23:40:14.780397Z",
     "start_time": "2023-11-07T23:40:14.771809Z"
    }
   },
   "outputs": [],
   "source": [
    "text = \"\"\"경마장에 있는 말이 뛰고 있다\\n\n",
    "그의 말이 법이다\\n\n",
    "가는 말이 고와야 오는 말이 곱다\\n\"\"\""
   ]
  },
  {
   "cell_type": "code",
   "execution_count": 51,
   "id": "8fd873d8",
   "metadata": {
    "ExecuteTime": {
     "end_time": "2023-11-07T23:40:28.004412Z",
     "start_time": "2023-11-07T23:40:27.999508Z"
    }
   },
   "outputs": [
    {
     "data": {
      "text/plain": [
       "{'말이': 1,\n",
       " '경마장에': 2,\n",
       " '있는': 3,\n",
       " '뛰고': 4,\n",
       " '있다': 5,\n",
       " '그의': 6,\n",
       " '법이다': 7,\n",
       " '가는': 8,\n",
       " '고와야': 9,\n",
       " '오는': 10,\n",
       " '곱다': 11}"
      ]
     },
     "execution_count": 51,
     "metadata": {},
     "output_type": "execute_result"
    }
   ],
   "source": [
    "tokenizer.word_index"
   ]
  },
  {
   "cell_type": "code",
   "execution_count": 52,
   "id": "b31df067",
   "metadata": {
    "ExecuteTime": {
     "end_time": "2023-11-07T23:40:28.548135Z",
     "start_time": "2023-11-07T23:40:28.543677Z"
    }
   },
   "outputs": [
    {
     "data": {
      "text/plain": [
       "11"
      ]
     },
     "execution_count": 52,
     "metadata": {},
     "output_type": "execute_result"
    }
   ],
   "source": [
    "len(tokenizer.word_index)"
   ]
  },
  {
   "cell_type": "code",
   "execution_count": 50,
   "id": "0db60e2e",
   "metadata": {
    "ExecuteTime": {
     "end_time": "2023-11-07T23:40:25.979720Z",
     "start_time": "2023-11-07T23:40:25.976936Z"
    }
   },
   "outputs": [],
   "source": [
    "tokenizer = Tokenizer()\n",
    "tokenizer.fit_on_texts([text])\n",
    "vocab_size = len(tokenizer.word_index) + 1"
   ]
  },
  {
   "cell_type": "code",
   "execution_count": 53,
   "id": "90d84dfe",
   "metadata": {
    "ExecuteTime": {
     "end_time": "2023-11-07T23:40:32.676507Z",
     "start_time": "2023-11-07T23:40:32.672094Z"
    }
   },
   "outputs": [],
   "source": [
    "sequences = list()\n",
    "for line in text.split('\\n'):\n",
    "    encoded = tokenizer.texts_to_sequences([line])[0]\n",
    "    for i in range(1, len(encoded)):\n",
    "        sequence = encoded[:i+1]\n",
    "        sequences.append(sequence)"
   ]
  },
  {
   "cell_type": "code",
   "execution_count": 54,
   "id": "f2fc0dcd",
   "metadata": {
    "ExecuteTime": {
     "end_time": "2023-11-07T23:40:33.133080Z",
     "start_time": "2023-11-07T23:40:33.127942Z"
    }
   },
   "outputs": [
    {
     "data": {
      "text/plain": [
       "[[2, 3],\n",
       " [2, 3, 1],\n",
       " [2, 3, 1, 4],\n",
       " [2, 3, 1, 4, 5],\n",
       " [6, 1],\n",
       " [6, 1, 7],\n",
       " [8, 1],\n",
       " [8, 1, 9],\n",
       " [8, 1, 9, 10],\n",
       " [8, 1, 9, 10, 1],\n",
       " [8, 1, 9, 10, 1, 11]]"
      ]
     },
     "execution_count": 54,
     "metadata": {},
     "output_type": "execute_result"
    }
   ],
   "source": [
    "sequences"
   ]
  },
  {
   "cell_type": "code",
   "execution_count": 55,
   "id": "effd6ccb",
   "metadata": {
    "ExecuteTime": {
     "end_time": "2023-11-07T23:40:33.571201Z",
     "start_time": "2023-11-07T23:40:33.568235Z"
    }
   },
   "outputs": [],
   "source": [
    "max_len = max(len(l) for l in sequences)"
   ]
  },
  {
   "cell_type": "code",
   "execution_count": 56,
   "id": "043063dd",
   "metadata": {
    "ExecuteTime": {
     "end_time": "2023-11-07T23:40:33.922772Z",
     "start_time": "2023-11-07T23:40:33.919845Z"
    }
   },
   "outputs": [],
   "source": [
    "sequences = pad_sequences(sequences, maxlen=max_len, padding='pre')"
   ]
  },
  {
   "cell_type": "code",
   "execution_count": 57,
   "id": "b20ef578",
   "metadata": {
    "ExecuteTime": {
     "end_time": "2023-11-07T23:40:34.212629Z",
     "start_time": "2023-11-07T23:40:34.194599Z"
    }
   },
   "outputs": [
    {
     "data": {
      "text/plain": [
       "array([[ 0,  0,  0,  0,  2,  3],\n",
       "       [ 0,  0,  0,  2,  3,  1],\n",
       "       [ 0,  0,  2,  3,  1,  4],\n",
       "       [ 0,  2,  3,  1,  4,  5],\n",
       "       [ 0,  0,  0,  0,  6,  1],\n",
       "       [ 0,  0,  0,  6,  1,  7],\n",
       "       [ 0,  0,  0,  0,  8,  1],\n",
       "       [ 0,  0,  0,  8,  1,  9],\n",
       "       [ 0,  0,  8,  1,  9, 10],\n",
       "       [ 0,  8,  1,  9, 10,  1],\n",
       "       [ 8,  1,  9, 10,  1, 11]])"
      ]
     },
     "execution_count": 57,
     "metadata": {},
     "output_type": "execute_result"
    }
   ],
   "source": [
    "sequences"
   ]
  },
  {
   "cell_type": "code",
   "execution_count": 58,
   "id": "24e716a4",
   "metadata": {
    "ExecuteTime": {
     "end_time": "2023-11-07T23:40:35.403077Z",
     "start_time": "2023-11-07T23:40:35.399701Z"
    }
   },
   "outputs": [],
   "source": [
    "sequences = np.array(sequences)\n",
    "X = sequences[:,:-1]\n",
    "y = sequences[:,-1]"
   ]
  },
  {
   "cell_type": "code",
   "execution_count": 59,
   "id": "8a9e3241",
   "metadata": {
    "ExecuteTime": {
     "end_time": "2023-11-07T23:40:35.724390Z",
     "start_time": "2023-11-07T23:40:35.719454Z"
    }
   },
   "outputs": [
    {
     "data": {
      "text/plain": [
       "array([[ 0,  0,  0,  0,  2],\n",
       "       [ 0,  0,  0,  2,  3],\n",
       "       [ 0,  0,  2,  3,  1],\n",
       "       [ 0,  2,  3,  1,  4],\n",
       "       [ 0,  0,  0,  0,  6],\n",
       "       [ 0,  0,  0,  6,  1],\n",
       "       [ 0,  0,  0,  0,  8],\n",
       "       [ 0,  0,  0,  8,  1],\n",
       "       [ 0,  0,  8,  1,  9],\n",
       "       [ 0,  8,  1,  9, 10],\n",
       "       [ 8,  1,  9, 10,  1]])"
      ]
     },
     "execution_count": 59,
     "metadata": {},
     "output_type": "execute_result"
    }
   ],
   "source": [
    "X"
   ]
  },
  {
   "cell_type": "code",
   "execution_count": 60,
   "id": "cb4a5205",
   "metadata": {
    "ExecuteTime": {
     "end_time": "2023-11-07T23:40:36.412290Z",
     "start_time": "2023-11-07T23:40:36.407458Z"
    }
   },
   "outputs": [
    {
     "data": {
      "text/plain": [
       "array([ 3,  1,  4,  5,  1,  7,  1,  9, 10,  1, 11])"
      ]
     },
     "execution_count": 60,
     "metadata": {},
     "output_type": "execute_result"
    }
   ],
   "source": [
    "y"
   ]
  },
  {
   "cell_type": "code",
   "execution_count": 61,
   "id": "4fab99e1",
   "metadata": {
    "ExecuteTime": {
     "end_time": "2023-11-07T23:40:36.794898Z",
     "start_time": "2023-11-07T23:40:36.778108Z"
    }
   },
   "outputs": [],
   "source": [
    "y = to_categorical(y, num_classes=vocab_size)"
   ]
  },
  {
   "cell_type": "code",
   "execution_count": 62,
   "id": "d283a409",
   "metadata": {
    "ExecuteTime": {
     "end_time": "2023-11-07T23:40:37.330907Z",
     "start_time": "2023-11-07T23:40:37.327531Z"
    }
   },
   "outputs": [],
   "source": [
    "from tensorflow.keras.models import Sequential\n",
    "from tensorflow.keras.layers import Embedding, Dense, SimpleRNN"
   ]
  },
  {
   "cell_type": "code",
   "execution_count": 63,
   "id": "c159b25f",
   "metadata": {
    "ExecuteTime": {
     "end_time": "2023-11-07T23:40:41.089916Z",
     "start_time": "2023-11-07T23:40:38.223755Z"
    }
   },
   "outputs": [
    {
     "name": "stdout",
     "output_type": "stream",
     "text": [
      "Epoch 1/200\n",
      "1/1 - 2s - loss: 2.4862 - accuracy: 0.0000e+00 - 2s/epoch - 2s/step\n",
      "Epoch 2/200\n",
      "1/1 - 0s - loss: 2.4834 - accuracy: 0.0000e+00 - 15ms/epoch - 15ms/step\n",
      "Epoch 3/200\n",
      "1/1 - 0s - loss: 2.4806 - accuracy: 0.2727 - 0s/epoch - 0s/step\n",
      "Epoch 4/200\n",
      "1/1 - 0s - loss: 2.4778 - accuracy: 0.3636 - 0s/epoch - 0s/step\n",
      "Epoch 5/200\n",
      "1/1 - 0s - loss: 2.4750 - accuracy: 0.4545 - 15ms/epoch - 15ms/step\n",
      "Epoch 6/200\n",
      "1/1 - 0s - loss: 2.4721 - accuracy: 0.4545 - 0s/epoch - 0s/step\n",
      "Epoch 7/200\n",
      "1/1 - 0s - loss: 2.4693 - accuracy: 0.3636 - 0s/epoch - 0s/step\n",
      "Epoch 8/200\n",
      "1/1 - 0s - loss: 2.4663 - accuracy: 0.3636 - 17ms/epoch - 17ms/step\n",
      "Epoch 9/200\n",
      "1/1 - 0s - loss: 2.4633 - accuracy: 0.3636 - 0s/epoch - 0s/step\n",
      "Epoch 10/200\n",
      "1/1 - 0s - loss: 2.4602 - accuracy: 0.3636 - 0s/epoch - 0s/step\n",
      "Epoch 11/200\n",
      "1/1 - 0s - loss: 2.4570 - accuracy: 0.3636 - 4ms/epoch - 4ms/step\n",
      "Epoch 12/200\n",
      "1/1 - 0s - loss: 2.4537 - accuracy: 0.3636 - 4ms/epoch - 4ms/step\n",
      "Epoch 13/200\n",
      "1/1 - 0s - loss: 2.4503 - accuracy: 0.3636 - 3ms/epoch - 3ms/step\n",
      "Epoch 14/200\n",
      "1/1 - 0s - loss: 2.4467 - accuracy: 0.3636 - 4ms/epoch - 4ms/step\n",
      "Epoch 15/200\n",
      "1/1 - 0s - loss: 2.4430 - accuracy: 0.3636 - 4ms/epoch - 4ms/step\n",
      "Epoch 16/200\n",
      "1/1 - 0s - loss: 2.4391 - accuracy: 0.3636 - 4ms/epoch - 4ms/step\n",
      "Epoch 17/200\n",
      "1/1 - 0s - loss: 2.4351 - accuracy: 0.3636 - 366us/epoch - 366us/step\n",
      "Epoch 18/200\n",
      "1/1 - 0s - loss: 2.4308 - accuracy: 0.3636 - 0s/epoch - 0s/step\n",
      "Epoch 19/200\n",
      "1/1 - 0s - loss: 2.4264 - accuracy: 0.3636 - 0s/epoch - 0s/step\n",
      "Epoch 20/200\n",
      "1/1 - 0s - loss: 2.4217 - accuracy: 0.3636 - 4ms/epoch - 4ms/step\n",
      "Epoch 21/200\n",
      "1/1 - 0s - loss: 2.4167 - accuracy: 0.3636 - 4ms/epoch - 4ms/step\n",
      "Epoch 22/200\n",
      "1/1 - 0s - loss: 2.4115 - accuracy: 0.3636 - 4ms/epoch - 4ms/step\n",
      "Epoch 23/200\n",
      "1/1 - 0s - loss: 2.4060 - accuracy: 0.3636 - 4ms/epoch - 4ms/step\n",
      "Epoch 24/200\n",
      "1/1 - 0s - loss: 2.4002 - accuracy: 0.3636 - 4ms/epoch - 4ms/step\n",
      "Epoch 25/200\n",
      "1/1 - 0s - loss: 2.3941 - accuracy: 0.3636 - 4ms/epoch - 4ms/step\n",
      "Epoch 26/200\n",
      "1/1 - 0s - loss: 2.3876 - accuracy: 0.3636 - 2ms/epoch - 2ms/step\n",
      "Epoch 27/200\n",
      "1/1 - 0s - loss: 2.3807 - accuracy: 0.3636 - 0s/epoch - 0s/step\n",
      "Epoch 28/200\n",
      "1/1 - 0s - loss: 2.3734 - accuracy: 0.3636 - 0s/epoch - 0s/step\n",
      "Epoch 29/200\n",
      "1/1 - 0s - loss: 2.3656 - accuracy: 0.3636 - 17ms/epoch - 17ms/step\n",
      "Epoch 30/200\n",
      "1/1 - 0s - loss: 2.3574 - accuracy: 0.3636 - 0s/epoch - 0s/step\n",
      "Epoch 31/200\n",
      "1/1 - 0s - loss: 2.3486 - accuracy: 0.3636 - 0s/epoch - 0s/step\n",
      "Epoch 32/200\n",
      "1/1 - 0s - loss: 2.3392 - accuracy: 0.3636 - 19ms/epoch - 19ms/step\n",
      "Epoch 33/200\n",
      "1/1 - 0s - loss: 2.3293 - accuracy: 0.3636 - 4ms/epoch - 4ms/step\n",
      "Epoch 34/200\n",
      "1/1 - 0s - loss: 2.3187 - accuracy: 0.3636 - 4ms/epoch - 4ms/step\n",
      "Epoch 35/200\n",
      "1/1 - 0s - loss: 2.3073 - accuracy: 0.3636 - 3ms/epoch - 3ms/step\n",
      "Epoch 36/200\n",
      "1/1 - 0s - loss: 2.2953 - accuracy: 0.3636 - 0s/epoch - 0s/step\n",
      "Epoch 37/200\n",
      "1/1 - 0s - loss: 2.2824 - accuracy: 0.3636 - 0s/epoch - 0s/step\n",
      "Epoch 38/200\n",
      "1/1 - 0s - loss: 2.2688 - accuracy: 0.3636 - 17ms/epoch - 17ms/step\n",
      "Epoch 39/200\n",
      "1/1 - 0s - loss: 2.2542 - accuracy: 0.3636 - 4ms/epoch - 4ms/step\n",
      "Epoch 40/200\n",
      "1/1 - 0s - loss: 2.2387 - accuracy: 0.3636 - 4ms/epoch - 4ms/step\n",
      "Epoch 41/200\n",
      "1/1 - 0s - loss: 2.2223 - accuracy: 0.3636 - 4ms/epoch - 4ms/step\n",
      "Epoch 42/200\n",
      "1/1 - 0s - loss: 2.2049 - accuracy: 0.3636 - 4ms/epoch - 4ms/step\n",
      "Epoch 43/200\n",
      "1/1 - 0s - loss: 2.1866 - accuracy: 0.3636 - 4ms/epoch - 4ms/step\n",
      "Epoch 44/200\n",
      "1/1 - 0s - loss: 2.1674 - accuracy: 0.3636 - 4ms/epoch - 4ms/step\n",
      "Epoch 45/200\n",
      "1/1 - 0s - loss: 2.1473 - accuracy: 0.3636 - 0s/epoch - 0s/step\n",
      "Epoch 46/200\n",
      "1/1 - 0s - loss: 2.1265 - accuracy: 0.3636 - 0s/epoch - 0s/step\n",
      "Epoch 47/200\n",
      "1/1 - 0s - loss: 2.1051 - accuracy: 0.3636 - 16ms/epoch - 16ms/step\n",
      "Epoch 48/200\n",
      "1/1 - 0s - loss: 2.0833 - accuracy: 0.3636 - 4ms/epoch - 4ms/step\n",
      "Epoch 49/200\n",
      "1/1 - 0s - loss: 2.0616 - accuracy: 0.3636 - 3ms/epoch - 3ms/step\n",
      "Epoch 50/200\n",
      "1/1 - 0s - loss: 2.0404 - accuracy: 0.3636 - 5ms/epoch - 5ms/step\n",
      "Epoch 51/200\n",
      "1/1 - 0s - loss: 2.0202 - accuracy: 0.3636 - 1ms/epoch - 1ms/step\n",
      "Epoch 52/200\n",
      "1/1 - 0s - loss: 2.0017 - accuracy: 0.3636 - 0s/epoch - 0s/step\n",
      "Epoch 53/200\n",
      "1/1 - 0s - loss: 1.9856 - accuracy: 0.3636 - 0s/epoch - 0s/step\n",
      "Epoch 54/200\n",
      "1/1 - 0s - loss: 1.9725 - accuracy: 0.3636 - 362us/epoch - 362us/step\n",
      "Epoch 55/200\n",
      "1/1 - 0s - loss: 1.9629 - accuracy: 0.3636 - 0s/epoch - 0s/step\n",
      "Epoch 56/200\n",
      "1/1 - 0s - loss: 1.9566 - accuracy: 0.3636 - 0s/epoch - 0s/step\n",
      "Epoch 57/200\n",
      "1/1 - 0s - loss: 1.9530 - accuracy: 0.3636 - 1ms/epoch - 1ms/step\n",
      "Epoch 58/200\n",
      "1/1 - 0s - loss: 1.9508 - accuracy: 0.3636 - 0s/epoch - 0s/step\n",
      "Epoch 59/200\n",
      "1/1 - 0s - loss: 1.9483 - accuracy: 0.3636 - 0s/epoch - 0s/step\n",
      "Epoch 60/200\n",
      "1/1 - 0s - loss: 1.9445 - accuracy: 0.3636 - 19ms/epoch - 19ms/step\n",
      "Epoch 61/200\n",
      "1/1 - 0s - loss: 1.9387 - accuracy: 0.3636 - 4ms/epoch - 4ms/step\n",
      "Epoch 62/200\n",
      "1/1 - 0s - loss: 1.9311 - accuracy: 0.3636 - 4ms/epoch - 4ms/step\n",
      "Epoch 63/200\n",
      "1/1 - 0s - loss: 1.9221 - accuracy: 0.3636 - 4ms/epoch - 4ms/step\n",
      "Epoch 64/200\n",
      "1/1 - 0s - loss: 1.9124 - accuracy: 0.3636 - 3ms/epoch - 3ms/step\n",
      "Epoch 65/200\n",
      "1/1 - 0s - loss: 1.9028 - accuracy: 0.3636 - 4ms/epoch - 4ms/step\n",
      "Epoch 66/200\n",
      "1/1 - 0s - loss: 1.8938 - accuracy: 0.3636 - 4ms/epoch - 4ms/step\n",
      "Epoch 67/200\n",
      "1/1 - 0s - loss: 1.8856 - accuracy: 0.3636 - 0s/epoch - 0s/step\n",
      "Epoch 68/200\n",
      "1/1 - 0s - loss: 1.8785 - accuracy: 0.3636 - 0s/epoch - 0s/step\n",
      "Epoch 69/200\n",
      "1/1 - 0s - loss: 1.8723 - accuracy: 0.3636 - 16ms/epoch - 16ms/step\n",
      "Epoch 70/200\n",
      "1/1 - 0s - loss: 1.8669 - accuracy: 0.3636 - 0s/epoch - 0s/step\n",
      "Epoch 71/200\n",
      "1/1 - 0s - loss: 1.8620 - accuracy: 0.3636 - 0s/epoch - 0s/step\n",
      "Epoch 72/200\n",
      "1/1 - 0s - loss: 1.8573 - accuracy: 0.3636 - 0s/epoch - 0s/step\n",
      "Epoch 73/200\n",
      "1/1 - 0s - loss: 1.8527 - accuracy: 0.3636 - 4ms/epoch - 4ms/step\n",
      "Epoch 74/200\n",
      "1/1 - 0s - loss: 1.8479 - accuracy: 0.3636 - 5ms/epoch - 5ms/step\n",
      "Epoch 75/200\n",
      "1/1 - 0s - loss: 1.8429 - accuracy: 0.3636 - 4ms/epoch - 4ms/step\n",
      "Epoch 76/200\n",
      "1/1 - 0s - loss: 1.8375 - accuracy: 0.3636 - 4ms/epoch - 4ms/step\n",
      "Epoch 77/200\n",
      "1/1 - 0s - loss: 1.8319 - accuracy: 0.3636 - 4ms/epoch - 4ms/step\n",
      "Epoch 78/200\n",
      "1/1 - 0s - loss: 1.8260 - accuracy: 0.3636 - 4ms/epoch - 4ms/step\n",
      "Epoch 79/200\n",
      "1/1 - 0s - loss: 1.8199 - accuracy: 0.3636 - 1ms/epoch - 1ms/step\n",
      "Epoch 80/200\n",
      "1/1 - 0s - loss: 1.8137 - accuracy: 0.3636 - 0s/epoch - 0s/step\n",
      "Epoch 81/200\n",
      "1/1 - 0s - loss: 1.8075 - accuracy: 0.3636 - 0s/epoch - 0s/step\n",
      "Epoch 82/200\n",
      "1/1 - 0s - loss: 1.8014 - accuracy: 0.3636 - 18ms/epoch - 18ms/step\n",
      "Epoch 83/200\n",
      "1/1 - 0s - loss: 1.7954 - accuracy: 0.3636 - 4ms/epoch - 4ms/step\n",
      "Epoch 84/200\n",
      "1/1 - 0s - loss: 1.7895 - accuracy: 0.3636 - 4ms/epoch - 4ms/step\n",
      "Epoch 85/200\n",
      "1/1 - 0s - loss: 1.7838 - accuracy: 0.3636 - 4ms/epoch - 4ms/step\n",
      "Epoch 86/200\n",
      "1/1 - 0s - loss: 1.7781 - accuracy: 0.3636 - 4ms/epoch - 4ms/step\n",
      "Epoch 87/200\n",
      "1/1 - 0s - loss: 1.7724 - accuracy: 0.3636 - 4ms/epoch - 4ms/step\n",
      "Epoch 88/200\n",
      "1/1 - 0s - loss: 1.7667 - accuracy: 0.3636 - 4ms/epoch - 4ms/step\n",
      "Epoch 89/200\n",
      "1/1 - 0s - loss: 1.7608 - accuracy: 0.3636 - 0s/epoch - 0s/step\n",
      "Epoch 90/200\n",
      "1/1 - 0s - loss: 1.7548 - accuracy: 0.3636 - 0s/epoch - 0s/step\n",
      "Epoch 91/200\n",
      "1/1 - 0s - loss: 1.7485 - accuracy: 0.3636 - 0s/epoch - 0s/step\n",
      "Epoch 92/200\n",
      "1/1 - 0s - loss: 1.7420 - accuracy: 0.3636 - 0s/epoch - 0s/step\n",
      "Epoch 93/200\n",
      "1/1 - 0s - loss: 1.7354 - accuracy: 0.3636 - 0s/epoch - 0s/step\n",
      "Epoch 94/200\n",
      "1/1 - 0s - loss: 1.7286 - accuracy: 0.3636 - 0s/epoch - 0s/step\n",
      "Epoch 95/200\n",
      "1/1 - 0s - loss: 1.7217 - accuracy: 0.3636 - 4ms/epoch - 4ms/step\n",
      "Epoch 96/200\n",
      "1/1 - 0s - loss: 1.7147 - accuracy: 0.3636 - 5ms/epoch - 5ms/step\n",
      "Epoch 97/200\n",
      "1/1 - 0s - loss: 1.7076 - accuracy: 0.3636 - 3ms/epoch - 3ms/step\n",
      "Epoch 98/200\n",
      "1/1 - 0s - loss: 1.7005 - accuracy: 0.3636 - 5ms/epoch - 5ms/step\n",
      "Epoch 99/200\n",
      "1/1 - 0s - loss: 1.6932 - accuracy: 0.3636 - 4ms/epoch - 4ms/step\n",
      "Epoch 100/200\n",
      "1/1 - 0s - loss: 1.6859 - accuracy: 0.3636 - 3ms/epoch - 3ms/step\n",
      "Epoch 101/200\n",
      "1/1 - 0s - loss: 1.6783 - accuracy: 0.3636 - 2ms/epoch - 2ms/step\n",
      "Epoch 102/200\n",
      "1/1 - 0s - loss: 1.6706 - accuracy: 0.3636 - 0s/epoch - 0s/step\n",
      "Epoch 103/200\n",
      "1/1 - 0s - loss: 1.6627 - accuracy: 0.3636 - 0s/epoch - 0s/step\n",
      "Epoch 104/200\n",
      "1/1 - 0s - loss: 1.6545 - accuracy: 0.3636 - 17ms/epoch - 17ms/step\n",
      "Epoch 105/200\n",
      "1/1 - 0s - loss: 1.6462 - accuracy: 0.4545 - 4ms/epoch - 4ms/step\n"
     ]
    },
    {
     "name": "stdout",
     "output_type": "stream",
     "text": [
      "Epoch 106/200\n",
      "1/1 - 0s - loss: 1.6377 - accuracy: 0.4545 - 4ms/epoch - 4ms/step\n",
      "Epoch 107/200\n",
      "1/1 - 0s - loss: 1.6290 - accuracy: 0.4545 - 4ms/epoch - 4ms/step\n",
      "Epoch 108/200\n",
      "1/1 - 0s - loss: 1.6202 - accuracy: 0.4545 - 4ms/epoch - 4ms/step\n",
      "Epoch 109/200\n",
      "1/1 - 0s - loss: 1.6111 - accuracy: 0.4545 - 3ms/epoch - 3ms/step\n",
      "Epoch 110/200\n",
      "1/1 - 0s - loss: 1.6020 - accuracy: 0.4545 - 5ms/epoch - 5ms/step\n",
      "Epoch 111/200\n",
      "1/1 - 0s - loss: 1.5927 - accuracy: 0.4545 - 0s/epoch - 0s/step\n",
      "Epoch 112/200\n",
      "1/1 - 0s - loss: 1.5832 - accuracy: 0.4545 - 0s/epoch - 0s/step\n",
      "Epoch 113/200\n",
      "1/1 - 0s - loss: 1.5736 - accuracy: 0.4545 - 0s/epoch - 0s/step\n",
      "Epoch 114/200\n",
      "1/1 - 0s - loss: 1.5639 - accuracy: 0.4545 - 19ms/epoch - 19ms/step\n",
      "Epoch 115/200\n",
      "1/1 - 0s - loss: 1.5539 - accuracy: 0.4545 - 4ms/epoch - 4ms/step\n",
      "Epoch 116/200\n",
      "1/1 - 0s - loss: 1.5439 - accuracy: 0.4545 - 3ms/epoch - 3ms/step\n",
      "Epoch 117/200\n",
      "1/1 - 0s - loss: 1.5337 - accuracy: 0.4545 - 4ms/epoch - 4ms/step\n",
      "Epoch 118/200\n",
      "1/1 - 0s - loss: 1.5233 - accuracy: 0.4545 - 0s/epoch - 0s/step\n",
      "Epoch 119/200\n",
      "1/1 - 0s - loss: 1.5129 - accuracy: 0.4545 - 0s/epoch - 0s/step\n",
      "Epoch 120/200\n",
      "1/1 - 0s - loss: 1.5023 - accuracy: 0.4545 - 16ms/epoch - 16ms/step\n",
      "Epoch 121/200\n",
      "1/1 - 0s - loss: 1.4917 - accuracy: 0.4545 - 4ms/epoch - 4ms/step\n",
      "Epoch 122/200\n",
      "1/1 - 0s - loss: 1.4809 - accuracy: 0.4545 - 4ms/epoch - 4ms/step\n",
      "Epoch 123/200\n",
      "1/1 - 0s - loss: 1.4701 - accuracy: 0.4545 - 4ms/epoch - 4ms/step\n",
      "Epoch 124/200\n",
      "1/1 - 0s - loss: 1.4591 - accuracy: 0.4545 - 3ms/epoch - 3ms/step\n",
      "Epoch 125/200\n",
      "1/1 - 0s - loss: 1.4480 - accuracy: 0.4545 - 3ms/epoch - 3ms/step\n",
      "Epoch 126/200\n",
      "1/1 - 0s - loss: 1.4369 - accuracy: 0.5455 - 4ms/epoch - 4ms/step\n",
      "Epoch 127/200\n",
      "1/1 - 0s - loss: 1.4257 - accuracy: 0.5455 - 0s/epoch - 0s/step\n",
      "Epoch 128/200\n",
      "1/1 - 0s - loss: 1.4144 - accuracy: 0.5455 - 0s/epoch - 0s/step\n",
      "Epoch 129/200\n",
      "1/1 - 0s - loss: 1.4030 - accuracy: 0.5455 - 0s/epoch - 0s/step\n",
      "Epoch 130/200\n",
      "1/1 - 0s - loss: 1.3916 - accuracy: 0.5455 - 1ms/epoch - 1ms/step\n",
      "Epoch 131/200\n",
      "1/1 - 0s - loss: 1.3802 - accuracy: 0.5455 - 0s/epoch - 0s/step\n",
      "Epoch 132/200\n",
      "1/1 - 0s - loss: 1.3688 - accuracy: 0.5455 - 0s/epoch - 0s/step\n",
      "Epoch 133/200\n",
      "1/1 - 0s - loss: 1.3573 - accuracy: 0.5455 - 19ms/epoch - 19ms/step\n",
      "Epoch 134/200\n",
      "1/1 - 0s - loss: 1.3458 - accuracy: 0.6364 - 4ms/epoch - 4ms/step\n",
      "Epoch 135/200\n",
      "1/1 - 0s - loss: 1.3343 - accuracy: 0.6364 - 4ms/epoch - 4ms/step\n",
      "Epoch 136/200\n",
      "1/1 - 0s - loss: 1.3229 - accuracy: 0.6364 - 5ms/epoch - 5ms/step\n",
      "Epoch 137/200\n",
      "1/1 - 0s - loss: 1.3114 - accuracy: 0.6364 - 4ms/epoch - 4ms/step\n",
      "Epoch 138/200\n",
      "1/1 - 0s - loss: 1.3000 - accuracy: 0.6364 - 4ms/epoch - 4ms/step\n",
      "Epoch 139/200\n",
      "1/1 - 0s - loss: 1.2886 - accuracy: 0.6364 - 4ms/epoch - 4ms/step\n",
      "Epoch 140/200\n",
      "1/1 - 0s - loss: 1.2772 - accuracy: 0.6364 - 0s/epoch - 0s/step\n",
      "Epoch 141/200\n",
      "1/1 - 0s - loss: 1.2659 - accuracy: 0.6364 - 0s/epoch - 0s/step\n",
      "Epoch 142/200\n",
      "1/1 - 0s - loss: 1.2545 - accuracy: 0.6364 - 16ms/epoch - 16ms/step\n",
      "Epoch 143/200\n",
      "1/1 - 0s - loss: 1.2432 - accuracy: 0.6364 - 4ms/epoch - 4ms/step\n",
      "Epoch 144/200\n",
      "1/1 - 0s - loss: 1.2319 - accuracy: 0.6364 - 3ms/epoch - 3ms/step\n",
      "Epoch 145/200\n",
      "1/1 - 0s - loss: 1.2206 - accuracy: 0.6364 - 3ms/epoch - 3ms/step\n",
      "Epoch 146/200\n",
      "1/1 - 0s - loss: 1.2093 - accuracy: 0.6364 - 5ms/epoch - 5ms/step\n",
      "Epoch 147/200\n",
      "1/1 - 0s - loss: 1.1980 - accuracy: 0.6364 - 4ms/epoch - 4ms/step\n",
      "Epoch 148/200\n",
      "1/1 - 0s - loss: 1.1867 - accuracy: 0.6364 - 4ms/epoch - 4ms/step\n",
      "Epoch 149/200\n",
      "1/1 - 0s - loss: 1.1754 - accuracy: 0.6364 - 2ms/epoch - 2ms/step\n",
      "Epoch 150/200\n",
      "1/1 - 0s - loss: 1.1642 - accuracy: 0.6364 - 0s/epoch - 0s/step\n",
      "Epoch 151/200\n",
      "1/1 - 0s - loss: 1.1529 - accuracy: 0.6364 - 0s/epoch - 0s/step\n",
      "Epoch 152/200\n",
      "1/1 - 0s - loss: 1.1416 - accuracy: 0.6364 - 18ms/epoch - 18ms/step\n",
      "Epoch 153/200\n",
      "1/1 - 0s - loss: 1.1304 - accuracy: 0.6364 - 4ms/epoch - 4ms/step\n",
      "Epoch 154/200\n",
      "1/1 - 0s - loss: 1.1191 - accuracy: 0.6364 - 5ms/epoch - 5ms/step\n",
      "Epoch 155/200\n",
      "1/1 - 0s - loss: 1.1079 - accuracy: 0.6364 - 3ms/epoch - 3ms/step\n",
      "Epoch 156/200\n",
      "1/1 - 0s - loss: 1.0967 - accuracy: 0.6364 - 0s/epoch - 0s/step\n",
      "Epoch 157/200\n",
      "1/1 - 0s - loss: 1.0855 - accuracy: 0.6364 - 0s/epoch - 0s/step\n",
      "Epoch 158/200\n",
      "1/1 - 0s - loss: 1.0744 - accuracy: 0.6364 - 16ms/epoch - 16ms/step\n",
      "Epoch 159/200\n",
      "1/1 - 0s - loss: 1.0633 - accuracy: 0.6364 - 4ms/epoch - 4ms/step\n",
      "Epoch 160/200\n",
      "1/1 - 0s - loss: 1.0522 - accuracy: 0.6364 - 3ms/epoch - 3ms/step\n",
      "Epoch 161/200\n",
      "1/1 - 0s - loss: 1.0411 - accuracy: 0.6364 - 4ms/epoch - 4ms/step\n",
      "Epoch 162/200\n",
      "1/1 - 0s - loss: 1.0300 - accuracy: 0.6364 - 5ms/epoch - 5ms/step\n",
      "Epoch 163/200\n",
      "1/1 - 0s - loss: 1.0189 - accuracy: 0.6364 - 3ms/epoch - 3ms/step\n",
      "Epoch 164/200\n",
      "1/1 - 0s - loss: 1.0078 - accuracy: 0.6364 - 4ms/epoch - 4ms/step\n",
      "Epoch 165/200\n",
      "1/1 - 0s - loss: 0.9967 - accuracy: 0.6364 - 312us/epoch - 312us/step\n",
      "Epoch 166/200\n",
      "1/1 - 0s - loss: 0.9855 - accuracy: 0.6364 - 0s/epoch - 0s/step\n",
      "Epoch 167/200\n",
      "1/1 - 0s - loss: 0.9744 - accuracy: 0.6364 - 0s/epoch - 0s/step\n",
      "Epoch 168/200\n",
      "1/1 - 0s - loss: 0.9632 - accuracy: 0.6364 - 19ms/epoch - 19ms/step\n",
      "Epoch 169/200\n",
      "1/1 - 0s - loss: 0.9520 - accuracy: 0.6364 - 4ms/epoch - 4ms/step\n",
      "Epoch 170/200\n",
      "1/1 - 0s - loss: 0.9408 - accuracy: 0.6364 - 4ms/epoch - 4ms/step\n",
      "Epoch 171/200\n",
      "1/1 - 0s - loss: 0.9296 - accuracy: 0.6364 - 4ms/epoch - 4ms/step\n",
      "Epoch 172/200\n",
      "1/1 - 0s - loss: 0.9183 - accuracy: 0.6364 - 4ms/epoch - 4ms/step\n",
      "Epoch 173/200\n",
      "1/1 - 0s - loss: 0.9071 - accuracy: 0.6364 - 4ms/epoch - 4ms/step\n",
      "Epoch 174/200\n",
      "1/1 - 0s - loss: 0.8959 - accuracy: 0.6364 - 3ms/epoch - 3ms/step\n",
      "Epoch 175/200\n",
      "1/1 - 0s - loss: 0.8846 - accuracy: 0.6364 - 0s/epoch - 0s/step\n",
      "Epoch 176/200\n",
      "1/1 - 0s - loss: 0.8734 - accuracy: 0.6364 - 0s/epoch - 0s/step\n",
      "Epoch 177/200\n",
      "1/1 - 0s - loss: 0.8622 - accuracy: 0.6364 - 16ms/epoch - 16ms/step\n",
      "Epoch 178/200\n",
      "1/1 - 0s - loss: 0.8510 - accuracy: 0.6364 - 0s/epoch - 0s/step\n",
      "Epoch 179/200\n",
      "1/1 - 0s - loss: 0.8399 - accuracy: 0.6364 - 0s/epoch - 0s/step\n",
      "Epoch 180/200\n",
      "1/1 - 0s - loss: 0.8287 - accuracy: 0.7273 - 18ms/epoch - 18ms/step\n",
      "Epoch 181/200\n",
      "1/1 - 0s - loss: 0.8176 - accuracy: 0.7273 - 3ms/epoch - 3ms/step\n",
      "Epoch 182/200\n",
      "1/1 - 0s - loss: 0.8066 - accuracy: 0.7273 - 4ms/epoch - 4ms/step\n",
      "Epoch 183/200\n",
      "1/1 - 0s - loss: 0.7956 - accuracy: 0.7273 - 4ms/epoch - 4ms/step\n",
      "Epoch 184/200\n",
      "1/1 - 0s - loss: 0.7846 - accuracy: 0.7273 - 0s/epoch - 0s/step\n",
      "Epoch 185/200\n",
      "1/1 - 0s - loss: 0.7737 - accuracy: 0.7273 - 0s/epoch - 0s/step\n",
      "Epoch 186/200\n",
      "1/1 - 0s - loss: 0.7628 - accuracy: 0.7273 - 15ms/epoch - 15ms/step\n",
      "Epoch 187/200\n",
      "1/1 - 0s - loss: 0.7520 - accuracy: 0.8182 - 5ms/epoch - 5ms/step\n",
      "Epoch 188/200\n",
      "1/1 - 0s - loss: 0.7413 - accuracy: 0.8182 - 4ms/epoch - 4ms/step\n",
      "Epoch 189/200\n",
      "1/1 - 0s - loss: 0.7307 - accuracy: 0.8182 - 4ms/epoch - 4ms/step\n",
      "Epoch 190/200\n",
      "1/1 - 0s - loss: 0.7201 - accuracy: 0.8182 - 4ms/epoch - 4ms/step\n",
      "Epoch 191/200\n",
      "1/1 - 0s - loss: 0.7096 - accuracy: 0.8182 - 3ms/epoch - 3ms/step\n",
      "Epoch 192/200\n",
      "1/1 - 0s - loss: 0.6992 - accuracy: 0.8182 - 3ms/epoch - 3ms/step\n",
      "Epoch 193/200\n",
      "1/1 - 0s - loss: 0.6888 - accuracy: 0.8182 - 721us/epoch - 721us/step\n",
      "Epoch 194/200\n",
      "1/1 - 0s - loss: 0.6786 - accuracy: 0.8182 - 0s/epoch - 0s/step\n",
      "Epoch 195/200\n",
      "1/1 - 0s - loss: 0.6685 - accuracy: 0.8182 - 0s/epoch - 0s/step\n",
      "Epoch 196/200\n",
      "1/1 - 0s - loss: 0.6585 - accuracy: 0.8182 - 18ms/epoch - 18ms/step\n",
      "Epoch 197/200\n",
      "1/1 - 0s - loss: 0.6486 - accuracy: 0.8182 - 4ms/epoch - 4ms/step\n",
      "Epoch 198/200\n",
      "1/1 - 0s - loss: 0.6388 - accuracy: 0.8182 - 3ms/epoch - 3ms/step\n",
      "Epoch 199/200\n",
      "1/1 - 0s - loss: 0.6292 - accuracy: 0.8182 - 4ms/epoch - 4ms/step\n",
      "Epoch 200/200\n",
      "1/1 - 0s - loss: 0.6196 - accuracy: 0.8182 - 4ms/epoch - 4ms/step\n"
     ]
    },
    {
     "data": {
      "text/plain": [
       "<keras.src.callbacks.History at 0x1eedfa70250>"
      ]
     },
     "execution_count": 63,
     "metadata": {},
     "output_type": "execute_result"
    }
   ],
   "source": [
    "embedding_dim = 10\n",
    "hidden_units = 32\n",
    "\n",
    "model = Sequential()\n",
    "model.add(Embedding(vocab_size, embedding_dim))\n",
    "model.add(LSTM(hidden_units))\n",
    "model.add(Dense(vocab_size, activation='softmax'))\n",
    "model.compile(loss='categorical_crossentropy', optimizer='adam', metrics=['accuracy'])\n",
    "model.fit(X, y, epochs=200, verbose=2)"
   ]
  },
  {
   "cell_type": "code",
   "execution_count": 64,
   "id": "696f7881",
   "metadata": {
    "ExecuteTime": {
     "end_time": "2023-11-07T23:40:54.405764Z",
     "start_time": "2023-11-07T23:40:54.400794Z"
    }
   },
   "outputs": [],
   "source": [
    "def sentence_generation(model, tokenizer, current_word, n): # 모델, 토크나이저, 현재 단어, 반복할 횟수\n",
    "    init_word = current_word\n",
    "    sentence = ''\n",
    "\n",
    "    # n번 반복\n",
    "    for _ in range(n):\n",
    "        encoded = tokenizer.texts_to_sequences([current_word])[0]\n",
    "        encoded = pad_sequences([encoded], maxlen=max_len-1, padding='pre')\n",
    "\n",
    "        # 입력한 X(현재 단어)에 대해서 y를 예측하고 y(예측한 단어)를 result에 저장.\n",
    "        result = model.predict(encoded, verbose=0)\n",
    "        result = np.argmax(result, axis=1)\n",
    "\n",
    "        for word, index in tokenizer.word_index.items(): \n",
    "            # 만약 예측한 단어와 인덱스와 동일한 단어가 있다면\n",
    "            if index == result:\n",
    "                break\n",
    "\n",
    "        # 현재 단어 + ' ' + 예측 단어를 현재 단어로 변경\n",
    "        current_word = current_word + ' '  + word\n",
    "\n",
    "        # 예측 단어를 문장에 저장\n",
    "        sentence = sentence + ' ' + word\n",
    "\n",
    "    sentence = init_word + sentence\n",
    "    return sentence"
   ]
  },
  {
   "cell_type": "code",
   "execution_count": 67,
   "id": "1198e2e5",
   "metadata": {
    "ExecuteTime": {
     "end_time": "2023-11-07T23:42:18.965396Z",
     "start_time": "2023-11-07T23:42:18.767810Z"
    }
   },
   "outputs": [
    {
     "name": "stdout",
     "output_type": "stream",
     "text": [
      "가는 말이 고와야 오는 말이 곱다\n"
     ]
    }
   ],
   "source": [
    "print(sentence_generation(model, tokenizer, '가는', 5))"
   ]
  },
  {
   "cell_type": "code",
   "execution_count": 68,
   "id": "3d17ebd0",
   "metadata": {
    "ExecuteTime": {
     "end_time": "2023-11-07T23:47:30.469464Z",
     "start_time": "2023-11-07T23:47:30.465314Z"
    }
   },
   "outputs": [],
   "source": [
    "text = '''\n",
    "\n",
    "화려한 도시를 그리며 찾아왔네\n",
    "\n",
    "그 곳은 춥고도 험한 곳\n",
    "\n",
    "여기저기 헤매다 초라한 문턱에서\n",
    "\n",
    "뜨거운 눈물을 먹는다\n",
    "\n",
    "머나먼 길을 찾아 여기에 꿈을 찾아 여기에\n",
    "\n",
    "괴롭고도 험한 이 길을 왔는데\n",
    "\n",
    "이 세상 어디가 숲인지 어디가 늪인지\n",
    "\n",
    "그 누구도 말을 않네\n",
    "\n",
    "사람들은 저마다 고향을 찾아가네\n",
    "\n",
    "나는 지금 홀로 남아서\n",
    "\n",
    "빌딩 속을 헤매이다 초라한 골목에서\n",
    "\n",
    "뜨거운 눈물을 먹는다\n",
    "\n",
    "저기 저 별은 나의 마음을 알까 나의 꿈을 알까\n",
    "\n",
    "괴로울 땐 슬픈 노래를 부른다\n",
    "\n",
    "슬퍼질 땐 차라리 나 홀로 눈을 감고 싶어\n",
    "\n",
    "고향의 향기 들으면서\n",
    "\n",
    "저기 저 별은 나의 마음 알까 나의 꿈을 알까\n",
    "\n",
    "괴로울 땐 슬픈 노래를 부른다\n",
    "\n",
    "이 세상 어디가 숲인지 어디가 늪인지\n",
    "\n",
    "그 누구도 말을 않네\n",
    "\n",
    "슬퍼질 땐 차라리 나 홀로 눈을 감고 싶어\n",
    "\n",
    "고향의 향기 들으면서\n",
    "\n",
    "고향의 향기 들으면서\n",
    "\n",
    "'''"
   ]
  },
  {
   "cell_type": "code",
   "execution_count": 69,
   "id": "f9baceef",
   "metadata": {
    "ExecuteTime": {
     "end_time": "2023-11-07T23:49:27.828842Z",
     "start_time": "2023-11-07T23:49:27.824960Z"
    }
   },
   "outputs": [],
   "source": [
    "tokenizer = Tokenizer()\n",
    "tokenizer.fit_on_texts([text])\n",
    "vocab_size = len(tokenizer.word_index) + 1"
   ]
  },
  {
   "cell_type": "code",
   "execution_count": 70,
   "id": "6ef97e09",
   "metadata": {
    "ExecuteTime": {
     "end_time": "2023-11-07T23:49:54.022864Z",
     "start_time": "2023-11-07T23:49:54.016465Z"
    },
    "scrolled": true
   },
   "outputs": [
    {
     "data": {
      "text/plain": [
       "{'어디가': 1,\n",
       " '나의': 2,\n",
       " '알까': 3,\n",
       " '땐': 4,\n",
       " '그': 5,\n",
       " '꿈을': 6,\n",
       " '이': 7,\n",
       " '홀로': 8,\n",
       " '고향의': 9,\n",
       " '향기': 10,\n",
       " '들으면서': 11,\n",
       " '험한': 12,\n",
       " '초라한': 13,\n",
       " '뜨거운': 14,\n",
       " '눈물을': 15,\n",
       " '먹는다': 16,\n",
       " '길을': 17,\n",
       " '찾아': 18,\n",
       " '여기에': 19,\n",
       " '세상': 20,\n",
       " '숲인지': 21,\n",
       " '늪인지': 22,\n",
       " '누구도': 23,\n",
       " '말을': 24,\n",
       " '않네': 25,\n",
       " '저기': 26,\n",
       " '저': 27,\n",
       " '별은': 28,\n",
       " '괴로울': 29,\n",
       " '슬픈': 30,\n",
       " '노래를': 31,\n",
       " '부른다': 32,\n",
       " '슬퍼질': 33,\n",
       " '차라리': 34,\n",
       " '나': 35,\n",
       " '눈을': 36,\n",
       " '감고': 37,\n",
       " '싶어': 38,\n",
       " '화려한': 39,\n",
       " '도시를': 40,\n",
       " '그리며': 41,\n",
       " '찾아왔네': 42,\n",
       " '곳은': 43,\n",
       " '춥고도': 44,\n",
       " '곳': 45,\n",
       " '여기저기': 46,\n",
       " '헤매다': 47,\n",
       " '문턱에서': 48,\n",
       " '머나먼': 49,\n",
       " '괴롭고도': 50,\n",
       " '왔는데': 51,\n",
       " '사람들은': 52,\n",
       " '저마다': 53,\n",
       " '고향을': 54,\n",
       " '찾아가네': 55,\n",
       " '나는': 56,\n",
       " '지금': 57,\n",
       " '남아서': 58,\n",
       " '빌딩': 59,\n",
       " '속을': 60,\n",
       " '헤매이다': 61,\n",
       " '골목에서': 62,\n",
       " '마음을': 63,\n",
       " '마음': 64}"
      ]
     },
     "execution_count": 70,
     "metadata": {},
     "output_type": "execute_result"
    }
   ],
   "source": [
    "tokenizer.word_index"
   ]
  },
  {
   "cell_type": "code",
   "execution_count": 75,
   "id": "49edc9c6",
   "metadata": {
    "ExecuteTime": {
     "end_time": "2023-11-07T23:53:11.541186Z",
     "start_time": "2023-11-07T23:53:11.537128Z"
    }
   },
   "outputs": [],
   "source": [
    "sequences = list()\n",
    "for line in text.split('\\n'):\n",
    "    encoded = tokenizer.texts_to_sequences([line])[0]\n",
    "    for i in range(1, len(encoded)):\n",
    "        sequence = encoded[:i+1]\n",
    "        sequences.append(sequence)"
   ]
  },
  {
   "cell_type": "code",
   "execution_count": 76,
   "id": "760a9520",
   "metadata": {
    "ExecuteTime": {
     "end_time": "2023-11-07T23:53:11.607151Z",
     "start_time": "2023-11-07T23:53:11.593112Z"
    },
    "scrolled": true
   },
   "outputs": [
    {
     "data": {
      "text/plain": [
       "[[39, 40],\n",
       " [39, 40, 41],\n",
       " [39, 40, 41, 42],\n",
       " [5, 43],\n",
       " [5, 43, 44],\n",
       " [5, 43, 44, 12],\n",
       " [5, 43, 44, 12, 45],\n",
       " [46, 47],\n",
       " [46, 47, 13],\n",
       " [46, 47, 13, 48],\n",
       " [14, 15],\n",
       " [14, 15, 16],\n",
       " [49, 17],\n",
       " [49, 17, 18],\n",
       " [49, 17, 18, 19],\n",
       " [49, 17, 18, 19, 6],\n",
       " [49, 17, 18, 19, 6, 18],\n",
       " [49, 17, 18, 19, 6, 18, 19],\n",
       " [50, 12],\n",
       " [50, 12, 7],\n",
       " [50, 12, 7, 17],\n",
       " [50, 12, 7, 17, 51],\n",
       " [7, 20],\n",
       " [7, 20, 1],\n",
       " [7, 20, 1, 21],\n",
       " [7, 20, 1, 21, 1],\n",
       " [7, 20, 1, 21, 1, 22],\n",
       " [5, 23],\n",
       " [5, 23, 24],\n",
       " [5, 23, 24, 25],\n",
       " [52, 53],\n",
       " [52, 53, 54],\n",
       " [52, 53, 54, 55],\n",
       " [56, 57],\n",
       " [56, 57, 8],\n",
       " [56, 57, 8, 58],\n",
       " [59, 60],\n",
       " [59, 60, 61],\n",
       " [59, 60, 61, 13],\n",
       " [59, 60, 61, 13, 62],\n",
       " [14, 15],\n",
       " [14, 15, 16],\n",
       " [26, 27],\n",
       " [26, 27, 28],\n",
       " [26, 27, 28, 2],\n",
       " [26, 27, 28, 2, 63],\n",
       " [26, 27, 28, 2, 63, 3],\n",
       " [26, 27, 28, 2, 63, 3, 2],\n",
       " [26, 27, 28, 2, 63, 3, 2, 6],\n",
       " [26, 27, 28, 2, 63, 3, 2, 6, 3],\n",
       " [29, 4],\n",
       " [29, 4, 30],\n",
       " [29, 4, 30, 31],\n",
       " [29, 4, 30, 31, 32],\n",
       " [33, 4],\n",
       " [33, 4, 34],\n",
       " [33, 4, 34, 35],\n",
       " [33, 4, 34, 35, 8],\n",
       " [33, 4, 34, 35, 8, 36],\n",
       " [33, 4, 34, 35, 8, 36, 37],\n",
       " [33, 4, 34, 35, 8, 36, 37, 38],\n",
       " [9, 10],\n",
       " [9, 10, 11],\n",
       " [26, 27],\n",
       " [26, 27, 28],\n",
       " [26, 27, 28, 2],\n",
       " [26, 27, 28, 2, 64],\n",
       " [26, 27, 28, 2, 64, 3],\n",
       " [26, 27, 28, 2, 64, 3, 2],\n",
       " [26, 27, 28, 2, 64, 3, 2, 6],\n",
       " [26, 27, 28, 2, 64, 3, 2, 6, 3],\n",
       " [29, 4],\n",
       " [29, 4, 30],\n",
       " [29, 4, 30, 31],\n",
       " [29, 4, 30, 31, 32],\n",
       " [7, 20],\n",
       " [7, 20, 1],\n",
       " [7, 20, 1, 21],\n",
       " [7, 20, 1, 21, 1],\n",
       " [7, 20, 1, 21, 1, 22],\n",
       " [5, 23],\n",
       " [5, 23, 24],\n",
       " [5, 23, 24, 25],\n",
       " [33, 4],\n",
       " [33, 4, 34],\n",
       " [33, 4, 34, 35],\n",
       " [33, 4, 34, 35, 8],\n",
       " [33, 4, 34, 35, 8, 36],\n",
       " [33, 4, 34, 35, 8, 36, 37],\n",
       " [33, 4, 34, 35, 8, 36, 37, 38],\n",
       " [9, 10],\n",
       " [9, 10, 11],\n",
       " [9, 10],\n",
       " [9, 10, 11]]"
      ]
     },
     "execution_count": 76,
     "metadata": {},
     "output_type": "execute_result"
    }
   ],
   "source": [
    "sequences"
   ]
  },
  {
   "cell_type": "code",
   "execution_count": 77,
   "id": "517959b2",
   "metadata": {
    "ExecuteTime": {
     "end_time": "2023-11-07T23:53:48.859623Z",
     "start_time": "2023-11-07T23:53:48.856193Z"
    }
   },
   "outputs": [],
   "source": [
    "max_len = max(len(l) for l in sequences)"
   ]
  },
  {
   "cell_type": "code",
   "execution_count": 78,
   "id": "dd0b541a",
   "metadata": {
    "ExecuteTime": {
     "end_time": "2023-11-07T23:54:41.972182Z",
     "start_time": "2023-11-07T23:54:41.968989Z"
    }
   },
   "outputs": [],
   "source": [
    "sequences = pad_sequences(sequences, maxlen = max_len, padding='pre')"
   ]
  },
  {
   "cell_type": "code",
   "execution_count": 79,
   "id": "f2793774",
   "metadata": {
    "ExecuteTime": {
     "end_time": "2023-11-07T23:54:44.758835Z",
     "start_time": "2023-11-07T23:54:44.752469Z"
    },
    "scrolled": true
   },
   "outputs": [
    {
     "data": {
      "text/plain": [
       "array([[ 0,  0,  0,  0,  0,  0,  0, 39, 40],\n",
       "       [ 0,  0,  0,  0,  0,  0, 39, 40, 41],\n",
       "       [ 0,  0,  0,  0,  0, 39, 40, 41, 42],\n",
       "       [ 0,  0,  0,  0,  0,  0,  0,  5, 43],\n",
       "       [ 0,  0,  0,  0,  0,  0,  5, 43, 44],\n",
       "       [ 0,  0,  0,  0,  0,  5, 43, 44, 12],\n",
       "       [ 0,  0,  0,  0,  5, 43, 44, 12, 45],\n",
       "       [ 0,  0,  0,  0,  0,  0,  0, 46, 47],\n",
       "       [ 0,  0,  0,  0,  0,  0, 46, 47, 13],\n",
       "       [ 0,  0,  0,  0,  0, 46, 47, 13, 48],\n",
       "       [ 0,  0,  0,  0,  0,  0,  0, 14, 15],\n",
       "       [ 0,  0,  0,  0,  0,  0, 14, 15, 16],\n",
       "       [ 0,  0,  0,  0,  0,  0,  0, 49, 17],\n",
       "       [ 0,  0,  0,  0,  0,  0, 49, 17, 18],\n",
       "       [ 0,  0,  0,  0,  0, 49, 17, 18, 19],\n",
       "       [ 0,  0,  0,  0, 49, 17, 18, 19,  6],\n",
       "       [ 0,  0,  0, 49, 17, 18, 19,  6, 18],\n",
       "       [ 0,  0, 49, 17, 18, 19,  6, 18, 19],\n",
       "       [ 0,  0,  0,  0,  0,  0,  0, 50, 12],\n",
       "       [ 0,  0,  0,  0,  0,  0, 50, 12,  7],\n",
       "       [ 0,  0,  0,  0,  0, 50, 12,  7, 17],\n",
       "       [ 0,  0,  0,  0, 50, 12,  7, 17, 51],\n",
       "       [ 0,  0,  0,  0,  0,  0,  0,  7, 20],\n",
       "       [ 0,  0,  0,  0,  0,  0,  7, 20,  1],\n",
       "       [ 0,  0,  0,  0,  0,  7, 20,  1, 21],\n",
       "       [ 0,  0,  0,  0,  7, 20,  1, 21,  1],\n",
       "       [ 0,  0,  0,  7, 20,  1, 21,  1, 22],\n",
       "       [ 0,  0,  0,  0,  0,  0,  0,  5, 23],\n",
       "       [ 0,  0,  0,  0,  0,  0,  5, 23, 24],\n",
       "       [ 0,  0,  0,  0,  0,  5, 23, 24, 25],\n",
       "       [ 0,  0,  0,  0,  0,  0,  0, 52, 53],\n",
       "       [ 0,  0,  0,  0,  0,  0, 52, 53, 54],\n",
       "       [ 0,  0,  0,  0,  0, 52, 53, 54, 55],\n",
       "       [ 0,  0,  0,  0,  0,  0,  0, 56, 57],\n",
       "       [ 0,  0,  0,  0,  0,  0, 56, 57,  8],\n",
       "       [ 0,  0,  0,  0,  0, 56, 57,  8, 58],\n",
       "       [ 0,  0,  0,  0,  0,  0,  0, 59, 60],\n",
       "       [ 0,  0,  0,  0,  0,  0, 59, 60, 61],\n",
       "       [ 0,  0,  0,  0,  0, 59, 60, 61, 13],\n",
       "       [ 0,  0,  0,  0, 59, 60, 61, 13, 62],\n",
       "       [ 0,  0,  0,  0,  0,  0,  0, 14, 15],\n",
       "       [ 0,  0,  0,  0,  0,  0, 14, 15, 16],\n",
       "       [ 0,  0,  0,  0,  0,  0,  0, 26, 27],\n",
       "       [ 0,  0,  0,  0,  0,  0, 26, 27, 28],\n",
       "       [ 0,  0,  0,  0,  0, 26, 27, 28,  2],\n",
       "       [ 0,  0,  0,  0, 26, 27, 28,  2, 63],\n",
       "       [ 0,  0,  0, 26, 27, 28,  2, 63,  3],\n",
       "       [ 0,  0, 26, 27, 28,  2, 63,  3,  2],\n",
       "       [ 0, 26, 27, 28,  2, 63,  3,  2,  6],\n",
       "       [26, 27, 28,  2, 63,  3,  2,  6,  3],\n",
       "       [ 0,  0,  0,  0,  0,  0,  0, 29,  4],\n",
       "       [ 0,  0,  0,  0,  0,  0, 29,  4, 30],\n",
       "       [ 0,  0,  0,  0,  0, 29,  4, 30, 31],\n",
       "       [ 0,  0,  0,  0, 29,  4, 30, 31, 32],\n",
       "       [ 0,  0,  0,  0,  0,  0,  0, 33,  4],\n",
       "       [ 0,  0,  0,  0,  0,  0, 33,  4, 34],\n",
       "       [ 0,  0,  0,  0,  0, 33,  4, 34, 35],\n",
       "       [ 0,  0,  0,  0, 33,  4, 34, 35,  8],\n",
       "       [ 0,  0,  0, 33,  4, 34, 35,  8, 36],\n",
       "       [ 0,  0, 33,  4, 34, 35,  8, 36, 37],\n",
       "       [ 0, 33,  4, 34, 35,  8, 36, 37, 38],\n",
       "       [ 0,  0,  0,  0,  0,  0,  0,  9, 10],\n",
       "       [ 0,  0,  0,  0,  0,  0,  9, 10, 11],\n",
       "       [ 0,  0,  0,  0,  0,  0,  0, 26, 27],\n",
       "       [ 0,  0,  0,  0,  0,  0, 26, 27, 28],\n",
       "       [ 0,  0,  0,  0,  0, 26, 27, 28,  2],\n",
       "       [ 0,  0,  0,  0, 26, 27, 28,  2, 64],\n",
       "       [ 0,  0,  0, 26, 27, 28,  2, 64,  3],\n",
       "       [ 0,  0, 26, 27, 28,  2, 64,  3,  2],\n",
       "       [ 0, 26, 27, 28,  2, 64,  3,  2,  6],\n",
       "       [26, 27, 28,  2, 64,  3,  2,  6,  3],\n",
       "       [ 0,  0,  0,  0,  0,  0,  0, 29,  4],\n",
       "       [ 0,  0,  0,  0,  0,  0, 29,  4, 30],\n",
       "       [ 0,  0,  0,  0,  0, 29,  4, 30, 31],\n",
       "       [ 0,  0,  0,  0, 29,  4, 30, 31, 32],\n",
       "       [ 0,  0,  0,  0,  0,  0,  0,  7, 20],\n",
       "       [ 0,  0,  0,  0,  0,  0,  7, 20,  1],\n",
       "       [ 0,  0,  0,  0,  0,  7, 20,  1, 21],\n",
       "       [ 0,  0,  0,  0,  7, 20,  1, 21,  1],\n",
       "       [ 0,  0,  0,  7, 20,  1, 21,  1, 22],\n",
       "       [ 0,  0,  0,  0,  0,  0,  0,  5, 23],\n",
       "       [ 0,  0,  0,  0,  0,  0,  5, 23, 24],\n",
       "       [ 0,  0,  0,  0,  0,  5, 23, 24, 25],\n",
       "       [ 0,  0,  0,  0,  0,  0,  0, 33,  4],\n",
       "       [ 0,  0,  0,  0,  0,  0, 33,  4, 34],\n",
       "       [ 0,  0,  0,  0,  0, 33,  4, 34, 35],\n",
       "       [ 0,  0,  0,  0, 33,  4, 34, 35,  8],\n",
       "       [ 0,  0,  0, 33,  4, 34, 35,  8, 36],\n",
       "       [ 0,  0, 33,  4, 34, 35,  8, 36, 37],\n",
       "       [ 0, 33,  4, 34, 35,  8, 36, 37, 38],\n",
       "       [ 0,  0,  0,  0,  0,  0,  0,  9, 10],\n",
       "       [ 0,  0,  0,  0,  0,  0,  9, 10, 11],\n",
       "       [ 0,  0,  0,  0,  0,  0,  0,  9, 10],\n",
       "       [ 0,  0,  0,  0,  0,  0,  9, 10, 11]])"
      ]
     },
     "execution_count": 79,
     "metadata": {},
     "output_type": "execute_result"
    }
   ],
   "source": [
    "sequences"
   ]
  },
  {
   "cell_type": "code",
   "execution_count": 80,
   "id": "f1e9a0f9",
   "metadata": {
    "ExecuteTime": {
     "end_time": "2023-11-07T23:55:38.214354Z",
     "start_time": "2023-11-07T23:55:38.211289Z"
    }
   },
   "outputs": [],
   "source": [
    "sequences =np.array(sequences)\n",
    "X = sequences[:,:-1]\n",
    "y = sequences[:,-1]"
   ]
  },
  {
   "cell_type": "code",
   "execution_count": 81,
   "id": "151d1ca0",
   "metadata": {
    "ExecuteTime": {
     "end_time": "2023-11-07T23:55:40.864410Z",
     "start_time": "2023-11-07T23:55:40.848933Z"
    },
    "scrolled": true
   },
   "outputs": [
    {
     "data": {
      "text/plain": [
       "array([[ 0,  0,  0,  0,  0,  0,  0, 39],\n",
       "       [ 0,  0,  0,  0,  0,  0, 39, 40],\n",
       "       [ 0,  0,  0,  0,  0, 39, 40, 41],\n",
       "       [ 0,  0,  0,  0,  0,  0,  0,  5],\n",
       "       [ 0,  0,  0,  0,  0,  0,  5, 43],\n",
       "       [ 0,  0,  0,  0,  0,  5, 43, 44],\n",
       "       [ 0,  0,  0,  0,  5, 43, 44, 12],\n",
       "       [ 0,  0,  0,  0,  0,  0,  0, 46],\n",
       "       [ 0,  0,  0,  0,  0,  0, 46, 47],\n",
       "       [ 0,  0,  0,  0,  0, 46, 47, 13],\n",
       "       [ 0,  0,  0,  0,  0,  0,  0, 14],\n",
       "       [ 0,  0,  0,  0,  0,  0, 14, 15],\n",
       "       [ 0,  0,  0,  0,  0,  0,  0, 49],\n",
       "       [ 0,  0,  0,  0,  0,  0, 49, 17],\n",
       "       [ 0,  0,  0,  0,  0, 49, 17, 18],\n",
       "       [ 0,  0,  0,  0, 49, 17, 18, 19],\n",
       "       [ 0,  0,  0, 49, 17, 18, 19,  6],\n",
       "       [ 0,  0, 49, 17, 18, 19,  6, 18],\n",
       "       [ 0,  0,  0,  0,  0,  0,  0, 50],\n",
       "       [ 0,  0,  0,  0,  0,  0, 50, 12],\n",
       "       [ 0,  0,  0,  0,  0, 50, 12,  7],\n",
       "       [ 0,  0,  0,  0, 50, 12,  7, 17],\n",
       "       [ 0,  0,  0,  0,  0,  0,  0,  7],\n",
       "       [ 0,  0,  0,  0,  0,  0,  7, 20],\n",
       "       [ 0,  0,  0,  0,  0,  7, 20,  1],\n",
       "       [ 0,  0,  0,  0,  7, 20,  1, 21],\n",
       "       [ 0,  0,  0,  7, 20,  1, 21,  1],\n",
       "       [ 0,  0,  0,  0,  0,  0,  0,  5],\n",
       "       [ 0,  0,  0,  0,  0,  0,  5, 23],\n",
       "       [ 0,  0,  0,  0,  0,  5, 23, 24],\n",
       "       [ 0,  0,  0,  0,  0,  0,  0, 52],\n",
       "       [ 0,  0,  0,  0,  0,  0, 52, 53],\n",
       "       [ 0,  0,  0,  0,  0, 52, 53, 54],\n",
       "       [ 0,  0,  0,  0,  0,  0,  0, 56],\n",
       "       [ 0,  0,  0,  0,  0,  0, 56, 57],\n",
       "       [ 0,  0,  0,  0,  0, 56, 57,  8],\n",
       "       [ 0,  0,  0,  0,  0,  0,  0, 59],\n",
       "       [ 0,  0,  0,  0,  0,  0, 59, 60],\n",
       "       [ 0,  0,  0,  0,  0, 59, 60, 61],\n",
       "       [ 0,  0,  0,  0, 59, 60, 61, 13],\n",
       "       [ 0,  0,  0,  0,  0,  0,  0, 14],\n",
       "       [ 0,  0,  0,  0,  0,  0, 14, 15],\n",
       "       [ 0,  0,  0,  0,  0,  0,  0, 26],\n",
       "       [ 0,  0,  0,  0,  0,  0, 26, 27],\n",
       "       [ 0,  0,  0,  0,  0, 26, 27, 28],\n",
       "       [ 0,  0,  0,  0, 26, 27, 28,  2],\n",
       "       [ 0,  0,  0, 26, 27, 28,  2, 63],\n",
       "       [ 0,  0, 26, 27, 28,  2, 63,  3],\n",
       "       [ 0, 26, 27, 28,  2, 63,  3,  2],\n",
       "       [26, 27, 28,  2, 63,  3,  2,  6],\n",
       "       [ 0,  0,  0,  0,  0,  0,  0, 29],\n",
       "       [ 0,  0,  0,  0,  0,  0, 29,  4],\n",
       "       [ 0,  0,  0,  0,  0, 29,  4, 30],\n",
       "       [ 0,  0,  0,  0, 29,  4, 30, 31],\n",
       "       [ 0,  0,  0,  0,  0,  0,  0, 33],\n",
       "       [ 0,  0,  0,  0,  0,  0, 33,  4],\n",
       "       [ 0,  0,  0,  0,  0, 33,  4, 34],\n",
       "       [ 0,  0,  0,  0, 33,  4, 34, 35],\n",
       "       [ 0,  0,  0, 33,  4, 34, 35,  8],\n",
       "       [ 0,  0, 33,  4, 34, 35,  8, 36],\n",
       "       [ 0, 33,  4, 34, 35,  8, 36, 37],\n",
       "       [ 0,  0,  0,  0,  0,  0,  0,  9],\n",
       "       [ 0,  0,  0,  0,  0,  0,  9, 10],\n",
       "       [ 0,  0,  0,  0,  0,  0,  0, 26],\n",
       "       [ 0,  0,  0,  0,  0,  0, 26, 27],\n",
       "       [ 0,  0,  0,  0,  0, 26, 27, 28],\n",
       "       [ 0,  0,  0,  0, 26, 27, 28,  2],\n",
       "       [ 0,  0,  0, 26, 27, 28,  2, 64],\n",
       "       [ 0,  0, 26, 27, 28,  2, 64,  3],\n",
       "       [ 0, 26, 27, 28,  2, 64,  3,  2],\n",
       "       [26, 27, 28,  2, 64,  3,  2,  6],\n",
       "       [ 0,  0,  0,  0,  0,  0,  0, 29],\n",
       "       [ 0,  0,  0,  0,  0,  0, 29,  4],\n",
       "       [ 0,  0,  0,  0,  0, 29,  4, 30],\n",
       "       [ 0,  0,  0,  0, 29,  4, 30, 31],\n",
       "       [ 0,  0,  0,  0,  0,  0,  0,  7],\n",
       "       [ 0,  0,  0,  0,  0,  0,  7, 20],\n",
       "       [ 0,  0,  0,  0,  0,  7, 20,  1],\n",
       "       [ 0,  0,  0,  0,  7, 20,  1, 21],\n",
       "       [ 0,  0,  0,  7, 20,  1, 21,  1],\n",
       "       [ 0,  0,  0,  0,  0,  0,  0,  5],\n",
       "       [ 0,  0,  0,  0,  0,  0,  5, 23],\n",
       "       [ 0,  0,  0,  0,  0,  5, 23, 24],\n",
       "       [ 0,  0,  0,  0,  0,  0,  0, 33],\n",
       "       [ 0,  0,  0,  0,  0,  0, 33,  4],\n",
       "       [ 0,  0,  0,  0,  0, 33,  4, 34],\n",
       "       [ 0,  0,  0,  0, 33,  4, 34, 35],\n",
       "       [ 0,  0,  0, 33,  4, 34, 35,  8],\n",
       "       [ 0,  0, 33,  4, 34, 35,  8, 36],\n",
       "       [ 0, 33,  4, 34, 35,  8, 36, 37],\n",
       "       [ 0,  0,  0,  0,  0,  0,  0,  9],\n",
       "       [ 0,  0,  0,  0,  0,  0,  9, 10],\n",
       "       [ 0,  0,  0,  0,  0,  0,  0,  9],\n",
       "       [ 0,  0,  0,  0,  0,  0,  9, 10]])"
      ]
     },
     "execution_count": 81,
     "metadata": {},
     "output_type": "execute_result"
    }
   ],
   "source": [
    "X"
   ]
  },
  {
   "cell_type": "code",
   "execution_count": 82,
   "id": "38fa0154",
   "metadata": {
    "ExecuteTime": {
     "end_time": "2023-11-07T23:55:49.172265Z",
     "start_time": "2023-11-07T23:55:49.168014Z"
    }
   },
   "outputs": [
    {
     "data": {
      "text/plain": [
       "array([40, 41, 42, 43, 44, 12, 45, 47, 13, 48, 15, 16, 17, 18, 19,  6, 18,\n",
       "       19, 12,  7, 17, 51, 20,  1, 21,  1, 22, 23, 24, 25, 53, 54, 55, 57,\n",
       "        8, 58, 60, 61, 13, 62, 15, 16, 27, 28,  2, 63,  3,  2,  6,  3,  4,\n",
       "       30, 31, 32,  4, 34, 35,  8, 36, 37, 38, 10, 11, 27, 28,  2, 64,  3,\n",
       "        2,  6,  3,  4, 30, 31, 32, 20,  1, 21,  1, 22, 23, 24, 25,  4, 34,\n",
       "       35,  8, 36, 37, 38, 10, 11, 10, 11])"
      ]
     },
     "execution_count": 82,
     "metadata": {},
     "output_type": "execute_result"
    }
   ],
   "source": [
    "y"
   ]
  },
  {
   "cell_type": "code",
   "execution_count": 83,
   "id": "19c0ca86",
   "metadata": {
    "ExecuteTime": {
     "end_time": "2023-11-07T23:57:02.871649Z",
     "start_time": "2023-11-07T23:57:02.868498Z"
    }
   },
   "outputs": [],
   "source": [
    "y = to_categorical(y, num_classes = vocab_size)"
   ]
  },
  {
   "cell_type": "code",
   "execution_count": 84,
   "id": "a0cd3d20",
   "metadata": {
    "ExecuteTime": {
     "end_time": "2023-11-07T23:57:04.247813Z",
     "start_time": "2023-11-07T23:57:04.243014Z"
    }
   },
   "outputs": [
    {
     "data": {
      "text/plain": [
       "array([[0., 0., 0., ..., 0., 0., 0.],\n",
       "       [0., 0., 0., ..., 0., 0., 0.],\n",
       "       [0., 0., 0., ..., 0., 0., 0.],\n",
       "       ...,\n",
       "       [0., 0., 0., ..., 0., 0., 0.],\n",
       "       [0., 0., 0., ..., 0., 0., 0.],\n",
       "       [0., 0., 0., ..., 0., 0., 0.]], dtype=float32)"
      ]
     },
     "execution_count": 84,
     "metadata": {},
     "output_type": "execute_result"
    }
   ],
   "source": [
    "y"
   ]
  },
  {
   "cell_type": "code",
   "execution_count": 85,
   "id": "b9a70e00",
   "metadata": {
    "ExecuteTime": {
     "end_time": "2023-11-07T23:57:58.549089Z",
     "start_time": "2023-11-07T23:57:58.545599Z"
    }
   },
   "outputs": [],
   "source": [
    "from tensorflow.keras.models import Sequential\n",
    "from tensorflow.keras.layers import Embedding, Dense, SimpleRNN"
   ]
  },
  {
   "cell_type": "code",
   "execution_count": 111,
   "id": "ea31632e",
   "metadata": {
    "ExecuteTime": {
     "end_time": "2023-11-08T00:36:19.723818Z",
     "start_time": "2023-11-08T00:36:07.936120Z"
    },
    "scrolled": true
   },
   "outputs": [
    {
     "name": "stdout",
     "output_type": "stream",
     "text": [
      "Epoch 1/300\n",
      "3/3 - 2s - loss: 4.1754 - accuracy: 0.0213 - 2s/epoch - 585ms/step\n",
      "Epoch 2/300\n",
      "3/3 - 0s - loss: 4.1676 - accuracy: 0.0851 - 43ms/epoch - 14ms/step\n",
      "Epoch 3/300\n",
      "3/3 - 0s - loss: 4.1584 - accuracy: 0.0957 - 39ms/epoch - 13ms/step\n",
      "Epoch 4/300\n",
      "3/3 - 0s - loss: 4.1452 - accuracy: 0.0851 - 33ms/epoch - 11ms/step\n",
      "Epoch 5/300\n",
      "3/3 - 0s - loss: 4.1194 - accuracy: 0.0638 - 33ms/epoch - 11ms/step\n",
      "Epoch 6/300\n",
      "3/3 - 0s - loss: 4.0692 - accuracy: 0.0532 - 32ms/epoch - 11ms/step\n",
      "Epoch 7/300\n",
      "3/3 - 0s - loss: 3.9730 - accuracy: 0.0426 - 32ms/epoch - 11ms/step\n",
      "Epoch 8/300\n",
      "3/3 - 0s - loss: 3.9365 - accuracy: 0.0213 - 32ms/epoch - 11ms/step\n",
      "Epoch 9/300\n",
      "3/3 - 0s - loss: 3.9065 - accuracy: 0.0745 - 32ms/epoch - 11ms/step\n",
      "Epoch 10/300\n",
      "3/3 - 0s - loss: 3.8726 - accuracy: 0.0957 - 32ms/epoch - 11ms/step\n",
      "Epoch 11/300\n",
      "3/3 - 0s - loss: 3.8654 - accuracy: 0.0745 - 32ms/epoch - 11ms/step\n",
      "Epoch 12/300\n",
      "3/3 - 0s - loss: 3.8536 - accuracy: 0.0532 - 32ms/epoch - 11ms/step\n",
      "Epoch 13/300\n",
      "3/3 - 0s - loss: 3.8354 - accuracy: 0.0957 - 31ms/epoch - 10ms/step\n",
      "Epoch 14/300\n",
      "3/3 - 0s - loss: 3.8216 - accuracy: 0.0532 - 32ms/epoch - 11ms/step\n",
      "Epoch 15/300\n",
      "3/3 - 0s - loss: 3.8152 - accuracy: 0.0638 - 31ms/epoch - 10ms/step\n",
      "Epoch 16/300\n",
      "3/3 - 0s - loss: 3.8043 - accuracy: 0.0745 - 32ms/epoch - 11ms/step\n",
      "Epoch 17/300\n",
      "3/3 - 0s - loss: 3.7912 - accuracy: 0.0638 - 31ms/epoch - 10ms/step\n",
      "Epoch 18/300\n",
      "3/3 - 0s - loss: 3.7681 - accuracy: 0.0638 - 32ms/epoch - 11ms/step\n",
      "Epoch 19/300\n",
      "3/3 - 0s - loss: 3.7287 - accuracy: 0.0745 - 31ms/epoch - 10ms/step\n",
      "Epoch 20/300\n",
      "3/3 - 0s - loss: 3.6853 - accuracy: 0.0957 - 32ms/epoch - 11ms/step\n",
      "Epoch 21/300\n",
      "3/3 - 0s - loss: 3.6274 - accuracy: 0.0851 - 32ms/epoch - 11ms/step\n",
      "Epoch 22/300\n",
      "3/3 - 0s - loss: 3.5440 - accuracy: 0.0638 - 36ms/epoch - 12ms/step\n",
      "Epoch 23/300\n",
      "3/3 - 0s - loss: 3.4894 - accuracy: 0.1064 - 31ms/epoch - 10ms/step\n",
      "Epoch 24/300\n",
      "3/3 - 0s - loss: 3.4326 - accuracy: 0.0957 - 31ms/epoch - 10ms/step\n",
      "Epoch 25/300\n",
      "3/3 - 0s - loss: 3.3966 - accuracy: 0.0851 - 31ms/epoch - 10ms/step\n",
      "Epoch 26/300\n",
      "3/3 - 0s - loss: 3.3580 - accuracy: 0.0638 - 33ms/epoch - 11ms/step\n",
      "Epoch 27/300\n",
      "3/3 - 0s - loss: 3.3096 - accuracy: 0.1170 - 31ms/epoch - 10ms/step\n",
      "Epoch 28/300\n",
      "3/3 - 0s - loss: 3.3222 - accuracy: 0.1170 - 32ms/epoch - 11ms/step\n",
      "Epoch 29/300\n",
      "3/3 - 0s - loss: 3.2893 - accuracy: 0.0957 - 32ms/epoch - 11ms/step\n",
      "Epoch 30/300\n",
      "3/3 - 0s - loss: 3.2181 - accuracy: 0.0957 - 31ms/epoch - 10ms/step\n",
      "Epoch 31/300\n",
      "3/3 - 0s - loss: 3.2077 - accuracy: 0.0957 - 32ms/epoch - 11ms/step\n",
      "Epoch 32/300\n",
      "3/3 - 0s - loss: 3.1968 - accuracy: 0.1277 - 31ms/epoch - 10ms/step\n",
      "Epoch 33/300\n",
      "3/3 - 0s - loss: 3.1889 - accuracy: 0.1277 - 31ms/epoch - 10ms/step\n",
      "Epoch 34/300\n",
      "3/3 - 0s - loss: 3.1423 - accuracy: 0.1489 - 35ms/epoch - 12ms/step\n",
      "Epoch 35/300\n",
      "3/3 - 0s - loss: 3.1143 - accuracy: 0.2021 - 32ms/epoch - 11ms/step\n",
      "Epoch 36/300\n",
      "3/3 - 0s - loss: 3.0259 - accuracy: 0.2340 - 35ms/epoch - 12ms/step\n",
      "Epoch 37/300\n",
      "3/3 - 0s - loss: 3.0381 - accuracy: 0.2128 - 31ms/epoch - 10ms/step\n",
      "Epoch 38/300\n",
      "3/3 - 0s - loss: 2.9854 - accuracy: 0.1809 - 31ms/epoch - 10ms/step\n",
      "Epoch 39/300\n",
      "3/3 - 0s - loss: 2.9305 - accuracy: 0.2447 - 32ms/epoch - 11ms/step\n",
      "Epoch 40/300\n",
      "3/3 - 0s - loss: 2.9006 - accuracy: 0.2021 - 32ms/epoch - 11ms/step\n",
      "Epoch 41/300\n",
      "3/3 - 0s - loss: 2.8549 - accuracy: 0.2660 - 32ms/epoch - 11ms/step\n",
      "Epoch 42/300\n",
      "3/3 - 0s - loss: 2.8095 - accuracy: 0.3191 - 32ms/epoch - 11ms/step\n",
      "Epoch 43/300\n",
      "3/3 - 0s - loss: 2.7668 - accuracy: 0.3298 - 31ms/epoch - 10ms/step\n",
      "Epoch 44/300\n",
      "3/3 - 0s - loss: 2.7588 - accuracy: 0.2979 - 33ms/epoch - 11ms/step\n",
      "Epoch 45/300\n",
      "3/3 - 0s - loss: 2.6872 - accuracy: 0.3191 - 33ms/epoch - 11ms/step\n",
      "Epoch 46/300\n",
      "3/3 - 0s - loss: 2.6749 - accuracy: 0.3723 - 35ms/epoch - 12ms/step\n",
      "Epoch 47/300\n",
      "3/3 - 0s - loss: 2.6636 - accuracy: 0.2979 - 34ms/epoch - 11ms/step\n",
      "Epoch 48/300\n",
      "3/3 - 0s - loss: 2.5855 - accuracy: 0.3617 - 34ms/epoch - 11ms/step\n",
      "Epoch 49/300\n",
      "3/3 - 0s - loss: 2.5322 - accuracy: 0.3617 - 33ms/epoch - 11ms/step\n",
      "Epoch 50/300\n",
      "3/3 - 0s - loss: 2.5080 - accuracy: 0.3830 - 32ms/epoch - 11ms/step\n",
      "Epoch 51/300\n",
      "3/3 - 0s - loss: 2.4566 - accuracy: 0.3936 - 32ms/epoch - 11ms/step\n",
      "Epoch 52/300\n",
      "3/3 - 0s - loss: 2.4541 - accuracy: 0.3404 - 32ms/epoch - 11ms/step\n",
      "Epoch 53/300\n",
      "3/3 - 0s - loss: 2.4486 - accuracy: 0.3511 - 31ms/epoch - 10ms/step\n",
      "Epoch 54/300\n",
      "3/3 - 0s - loss: 2.3972 - accuracy: 0.3723 - 31ms/epoch - 10ms/step\n",
      "Epoch 55/300\n",
      "3/3 - 0s - loss: 2.3078 - accuracy: 0.4149 - 32ms/epoch - 11ms/step\n",
      "Epoch 56/300\n",
      "3/3 - 0s - loss: 2.3013 - accuracy: 0.4043 - 32ms/epoch - 11ms/step\n",
      "Epoch 57/300\n",
      "3/3 - 0s - loss: 2.2640 - accuracy: 0.3936 - 31ms/epoch - 10ms/step\n",
      "Epoch 58/300\n",
      "3/3 - 0s - loss: 2.2168 - accuracy: 0.4362 - 31ms/epoch - 10ms/step\n",
      "Epoch 59/300\n",
      "3/3 - 0s - loss: 2.1741 - accuracy: 0.4468 - 31ms/epoch - 10ms/step\n",
      "Epoch 60/300\n",
      "3/3 - 0s - loss: 2.1406 - accuracy: 0.5000 - 31ms/epoch - 10ms/step\n",
      "Epoch 61/300\n",
      "3/3 - 0s - loss: 2.1057 - accuracy: 0.4681 - 31ms/epoch - 10ms/step\n",
      "Epoch 62/300\n",
      "3/3 - 0s - loss: 2.0558 - accuracy: 0.5106 - 31ms/epoch - 10ms/step\n",
      "Epoch 63/300\n",
      "3/3 - 0s - loss: 2.0419 - accuracy: 0.5213 - 32ms/epoch - 11ms/step\n",
      "Epoch 64/300\n",
      "3/3 - 0s - loss: 2.0049 - accuracy: 0.5213 - 31ms/epoch - 10ms/step\n",
      "Epoch 65/300\n",
      "3/3 - 0s - loss: 1.9814 - accuracy: 0.5319 - 31ms/epoch - 10ms/step\n",
      "Epoch 66/300\n",
      "3/3 - 0s - loss: 1.9497 - accuracy: 0.5000 - 30ms/epoch - 10ms/step\n",
      "Epoch 67/300\n",
      "3/3 - 0s - loss: 1.9468 - accuracy: 0.5000 - 31ms/epoch - 10ms/step\n",
      "Epoch 68/300\n",
      "3/3 - 0s - loss: 1.9034 - accuracy: 0.5000 - 32ms/epoch - 11ms/step\n",
      "Epoch 69/300\n",
      "3/3 - 0s - loss: 1.9130 - accuracy: 0.4787 - 32ms/epoch - 11ms/step\n",
      "Epoch 70/300\n",
      "3/3 - 0s - loss: 1.8630 - accuracy: 0.5426 - 32ms/epoch - 11ms/step\n",
      "Epoch 71/300\n",
      "3/3 - 0s - loss: 1.8416 - accuracy: 0.5319 - 32ms/epoch - 11ms/step\n",
      "Epoch 72/300\n",
      "3/3 - 0s - loss: 1.7984 - accuracy: 0.5213 - 33ms/epoch - 11ms/step\n",
      "Epoch 73/300\n",
      "3/3 - 0s - loss: 1.7726 - accuracy: 0.5532 - 31ms/epoch - 10ms/step\n",
      "Epoch 74/300\n",
      "3/3 - 0s - loss: 1.7282 - accuracy: 0.5957 - 32ms/epoch - 11ms/step\n",
      "Epoch 75/300\n",
      "3/3 - 0s - loss: 1.7130 - accuracy: 0.6064 - 32ms/epoch - 11ms/step\n",
      "Epoch 76/300\n",
      "3/3 - 0s - loss: 1.7068 - accuracy: 0.5638 - 32ms/epoch - 11ms/step\n",
      "Epoch 77/300\n",
      "3/3 - 0s - loss: 1.6983 - accuracy: 0.5851 - 32ms/epoch - 11ms/step\n",
      "Epoch 78/300\n",
      "3/3 - 0s - loss: 1.6379 - accuracy: 0.5851 - 32ms/epoch - 11ms/step\n",
      "Epoch 79/300\n",
      "3/3 - 0s - loss: 1.6907 - accuracy: 0.5532 - 31ms/epoch - 10ms/step\n",
      "Epoch 80/300\n",
      "3/3 - 0s - loss: 1.6604 - accuracy: 0.5638 - 32ms/epoch - 11ms/step\n",
      "Epoch 81/300\n",
      "3/3 - 0s - loss: 1.7410 - accuracy: 0.5426 - 31ms/epoch - 10ms/step\n",
      "Epoch 82/300\n",
      "3/3 - 0s - loss: 1.6103 - accuracy: 0.6170 - 31ms/epoch - 10ms/step\n",
      "Epoch 83/300\n",
      "3/3 - 0s - loss: 1.6020 - accuracy: 0.6170 - 31ms/epoch - 10ms/step\n",
      "Epoch 84/300\n",
      "3/3 - 0s - loss: 1.5652 - accuracy: 0.6170 - 31ms/epoch - 10ms/step\n",
      "Epoch 85/300\n",
      "3/3 - 0s - loss: 1.5286 - accuracy: 0.6383 - 32ms/epoch - 11ms/step\n",
      "Epoch 86/300\n",
      "3/3 - 0s - loss: 1.5017 - accuracy: 0.6809 - 31ms/epoch - 10ms/step\n",
      "Epoch 87/300\n",
      "3/3 - 0s - loss: 1.4963 - accuracy: 0.6383 - 32ms/epoch - 11ms/step\n",
      "Epoch 88/300\n",
      "3/3 - 0s - loss: 1.4797 - accuracy: 0.6383 - 31ms/epoch - 10ms/step\n",
      "Epoch 89/300\n",
      "3/3 - 0s - loss: 1.4232 - accuracy: 0.6489 - 31ms/epoch - 10ms/step\n",
      "Epoch 90/300\n",
      "3/3 - 0s - loss: 1.4121 - accuracy: 0.6596 - 31ms/epoch - 10ms/step\n",
      "Epoch 91/300\n",
      "3/3 - 0s - loss: 1.3852 - accuracy: 0.6596 - 31ms/epoch - 10ms/step\n",
      "Epoch 92/300\n",
      "3/3 - 0s - loss: 1.3747 - accuracy: 0.6596 - 32ms/epoch - 11ms/step\n",
      "Epoch 93/300\n",
      "3/3 - 0s - loss: 1.3489 - accuracy: 0.6809 - 32ms/epoch - 11ms/step\n",
      "Epoch 94/300\n",
      "3/3 - 0s - loss: 1.3122 - accuracy: 0.6915 - 31ms/epoch - 10ms/step\n",
      "Epoch 95/300\n",
      "3/3 - 0s - loss: 1.2974 - accuracy: 0.6596 - 32ms/epoch - 11ms/step\n",
      "Epoch 96/300\n",
      "3/3 - 0s - loss: 1.2740 - accuracy: 0.7128 - 31ms/epoch - 10ms/step\n",
      "Epoch 97/300\n",
      "3/3 - 0s - loss: 1.2758 - accuracy: 0.6809 - 32ms/epoch - 11ms/step\n",
      "Epoch 98/300\n",
      "3/3 - 0s - loss: 1.2525 - accuracy: 0.6915 - 32ms/epoch - 11ms/step\n",
      "Epoch 99/300\n",
      "3/3 - 0s - loss: 1.2518 - accuracy: 0.6915 - 32ms/epoch - 11ms/step\n",
      "Epoch 100/300\n",
      "3/3 - 0s - loss: 1.2603 - accuracy: 0.7128 - 37ms/epoch - 12ms/step\n",
      "Epoch 101/300\n",
      "3/3 - 0s - loss: 1.2088 - accuracy: 0.7340 - 32ms/epoch - 11ms/step\n",
      "Epoch 102/300\n",
      "3/3 - 0s - loss: 1.2406 - accuracy: 0.6809 - 32ms/epoch - 11ms/step\n"
     ]
    },
    {
     "name": "stdout",
     "output_type": "stream",
     "text": [
      "Epoch 103/300\n",
      "3/3 - 0s - loss: 1.2200 - accuracy: 0.7021 - 31ms/epoch - 10ms/step\n",
      "Epoch 104/300\n",
      "3/3 - 0s - loss: 1.1916 - accuracy: 0.6915 - 31ms/epoch - 10ms/step\n",
      "Epoch 105/300\n",
      "3/3 - 0s - loss: 1.1734 - accuracy: 0.7553 - 31ms/epoch - 10ms/step\n",
      "Epoch 106/300\n",
      "3/3 - 0s - loss: 1.1259 - accuracy: 0.7447 - 31ms/epoch - 10ms/step\n",
      "Epoch 107/300\n",
      "3/3 - 0s - loss: 1.1249 - accuracy: 0.7340 - 32ms/epoch - 11ms/step\n",
      "Epoch 108/300\n",
      "3/3 - 0s - loss: 1.1118 - accuracy: 0.7553 - 32ms/epoch - 11ms/step\n",
      "Epoch 109/300\n",
      "3/3 - 0s - loss: 1.0904 - accuracy: 0.7553 - 32ms/epoch - 11ms/step\n",
      "Epoch 110/300\n",
      "3/3 - 0s - loss: 1.0676 - accuracy: 0.7234 - 31ms/epoch - 10ms/step\n",
      "Epoch 111/300\n",
      "3/3 - 0s - loss: 1.0562 - accuracy: 0.7340 - 31ms/epoch - 10ms/step\n",
      "Epoch 112/300\n",
      "3/3 - 0s - loss: 1.0216 - accuracy: 0.7340 - 31ms/epoch - 10ms/step\n",
      "Epoch 113/300\n",
      "3/3 - 0s - loss: 1.0079 - accuracy: 0.7447 - 31ms/epoch - 10ms/step\n",
      "Epoch 114/300\n",
      "3/3 - 0s - loss: 1.0084 - accuracy: 0.7553 - 31ms/epoch - 10ms/step\n",
      "Epoch 115/300\n",
      "3/3 - 0s - loss: 0.9971 - accuracy: 0.7766 - 31ms/epoch - 10ms/step\n",
      "Epoch 116/300\n",
      "3/3 - 0s - loss: 0.9842 - accuracy: 0.7979 - 32ms/epoch - 11ms/step\n",
      "Epoch 117/300\n",
      "3/3 - 0s - loss: 0.9590 - accuracy: 0.7872 - 31ms/epoch - 10ms/step\n",
      "Epoch 118/300\n",
      "3/3 - 0s - loss: 0.9560 - accuracy: 0.7766 - 30ms/epoch - 10ms/step\n",
      "Epoch 119/300\n",
      "3/3 - 0s - loss: 0.9562 - accuracy: 0.7872 - 31ms/epoch - 10ms/step\n",
      "Epoch 120/300\n",
      "3/3 - 0s - loss: 0.9113 - accuracy: 0.7979 - 31ms/epoch - 10ms/step\n",
      "Epoch 121/300\n",
      "3/3 - 0s - loss: 0.9020 - accuracy: 0.8085 - 31ms/epoch - 10ms/step\n",
      "Epoch 122/300\n",
      "3/3 - 0s - loss: 0.8841 - accuracy: 0.7979 - 32ms/epoch - 11ms/step\n",
      "Epoch 123/300\n",
      "3/3 - 0s - loss: 0.8997 - accuracy: 0.8085 - 31ms/epoch - 10ms/step\n",
      "Epoch 124/300\n",
      "3/3 - 0s - loss: 0.8806 - accuracy: 0.8085 - 31ms/epoch - 10ms/step\n",
      "Epoch 125/300\n",
      "3/3 - 0s - loss: 0.8639 - accuracy: 0.8298 - 32ms/epoch - 11ms/step\n",
      "Epoch 126/300\n",
      "3/3 - 0s - loss: 0.8592 - accuracy: 0.8085 - 31ms/epoch - 10ms/step\n",
      "Epoch 127/300\n",
      "3/3 - 0s - loss: 0.8447 - accuracy: 0.8191 - 32ms/epoch - 11ms/step\n",
      "Epoch 128/300\n",
      "3/3 - 0s - loss: 0.8321 - accuracy: 0.8085 - 32ms/epoch - 11ms/step\n",
      "Epoch 129/300\n",
      "3/3 - 0s - loss: 0.8216 - accuracy: 0.8191 - 31ms/epoch - 10ms/step\n",
      "Epoch 130/300\n",
      "3/3 - 0s - loss: 0.8165 - accuracy: 0.8404 - 31ms/epoch - 10ms/step\n",
      "Epoch 131/300\n",
      "3/3 - 0s - loss: 0.8018 - accuracy: 0.8511 - 31ms/epoch - 10ms/step\n",
      "Epoch 132/300\n",
      "3/3 - 0s - loss: 0.7905 - accuracy: 0.8404 - 31ms/epoch - 10ms/step\n",
      "Epoch 133/300\n",
      "3/3 - 0s - loss: 0.7859 - accuracy: 0.8404 - 32ms/epoch - 11ms/step\n",
      "Epoch 134/300\n",
      "3/3 - 0s - loss: 0.7783 - accuracy: 0.8191 - 31ms/epoch - 10ms/step\n",
      "Epoch 135/300\n",
      "3/3 - 0s - loss: 0.7806 - accuracy: 0.7979 - 30ms/epoch - 10ms/step\n",
      "Epoch 136/300\n",
      "3/3 - 0s - loss: 0.7558 - accuracy: 0.8085 - 31ms/epoch - 10ms/step\n",
      "Epoch 137/300\n",
      "3/3 - 0s - loss: 0.7627 - accuracy: 0.8404 - 37ms/epoch - 12ms/step\n",
      "Epoch 138/300\n",
      "3/3 - 0s - loss: 0.7388 - accuracy: 0.8404 - 36ms/epoch - 12ms/step\n",
      "Epoch 139/300\n",
      "3/3 - 0s - loss: 0.7568 - accuracy: 0.8298 - 36ms/epoch - 12ms/step\n",
      "Epoch 140/300\n",
      "3/3 - 0s - loss: 0.7941 - accuracy: 0.8085 - 35ms/epoch - 12ms/step\n",
      "Epoch 141/300\n",
      "3/3 - 0s - loss: 0.7933 - accuracy: 0.8191 - 33ms/epoch - 11ms/step\n",
      "Epoch 142/300\n",
      "3/3 - 0s - loss: 0.7612 - accuracy: 0.8404 - 32ms/epoch - 11ms/step\n",
      "Epoch 143/300\n",
      "3/3 - 0s - loss: 0.7521 - accuracy: 0.8191 - 31ms/epoch - 10ms/step\n",
      "Epoch 144/300\n",
      "3/3 - 0s - loss: 0.7231 - accuracy: 0.8298 - 31ms/epoch - 10ms/step\n",
      "Epoch 145/300\n",
      "3/3 - 0s - loss: 0.6935 - accuracy: 0.8404 - 31ms/epoch - 10ms/step\n",
      "Epoch 146/300\n",
      "3/3 - 0s - loss: 0.6888 - accuracy: 0.8511 - 31ms/epoch - 10ms/step\n",
      "Epoch 147/300\n",
      "3/3 - 0s - loss: 0.6744 - accuracy: 0.8723 - 31ms/epoch - 10ms/step\n",
      "Epoch 148/300\n",
      "3/3 - 0s - loss: 0.6663 - accuracy: 0.8617 - 31ms/epoch - 10ms/step\n",
      "Epoch 149/300\n",
      "3/3 - 0s - loss: 0.6583 - accuracy: 0.8617 - 31ms/epoch - 10ms/step\n",
      "Epoch 150/300\n",
      "3/3 - 0s - loss: 0.6330 - accuracy: 0.8830 - 31ms/epoch - 10ms/step\n",
      "Epoch 151/300\n",
      "3/3 - 0s - loss: 0.6375 - accuracy: 0.8936 - 31ms/epoch - 10ms/step\n",
      "Epoch 152/300\n",
      "3/3 - 0s - loss: 0.6137 - accuracy: 0.8830 - 32ms/epoch - 11ms/step\n",
      "Epoch 153/300\n",
      "3/3 - 0s - loss: 0.6121 - accuracy: 0.9043 - 32ms/epoch - 11ms/step\n",
      "Epoch 154/300\n",
      "3/3 - 0s - loss: 0.6006 - accuracy: 0.9043 - 31ms/epoch - 10ms/step\n",
      "Epoch 155/300\n",
      "3/3 - 0s - loss: 0.5898 - accuracy: 0.9043 - 31ms/epoch - 10ms/step\n",
      "Epoch 156/300\n",
      "3/3 - 0s - loss: 0.5797 - accuracy: 0.8936 - 31ms/epoch - 10ms/step\n",
      "Epoch 157/300\n",
      "3/3 - 0s - loss: 0.5749 - accuracy: 0.8936 - 31ms/epoch - 10ms/step\n",
      "Epoch 158/300\n",
      "3/3 - 0s - loss: 0.5711 - accuracy: 0.8830 - 31ms/epoch - 10ms/step\n",
      "Epoch 159/300\n",
      "3/3 - 0s - loss: 0.5505 - accuracy: 0.8936 - 32ms/epoch - 11ms/step\n",
      "Epoch 160/300\n",
      "3/3 - 0s - loss: 0.5627 - accuracy: 0.8936 - 31ms/epoch - 10ms/step\n",
      "Epoch 161/300\n",
      "3/3 - 0s - loss: 0.5504 - accuracy: 0.9043 - 32ms/epoch - 11ms/step\n",
      "Epoch 162/300\n",
      "3/3 - 0s - loss: 0.5432 - accuracy: 0.9043 - 31ms/epoch - 10ms/step\n",
      "Epoch 163/300\n",
      "3/3 - 0s - loss: 0.5424 - accuracy: 0.8936 - 32ms/epoch - 11ms/step\n",
      "Epoch 164/300\n",
      "3/3 - 0s - loss: 0.5365 - accuracy: 0.8936 - 30ms/epoch - 10ms/step\n",
      "Epoch 165/300\n",
      "3/3 - 0s - loss: 0.5154 - accuracy: 0.9043 - 31ms/epoch - 10ms/step\n",
      "Epoch 166/300\n",
      "3/3 - 0s - loss: 0.5068 - accuracy: 0.8936 - 31ms/epoch - 10ms/step\n",
      "Epoch 167/300\n",
      "3/3 - 0s - loss: 0.5078 - accuracy: 0.8936 - 32ms/epoch - 11ms/step\n",
      "Epoch 168/300\n",
      "3/3 - 0s - loss: 0.4938 - accuracy: 0.9043 - 31ms/epoch - 10ms/step\n",
      "Epoch 169/300\n",
      "3/3 - 0s - loss: 0.4904 - accuracy: 0.9043 - 31ms/epoch - 10ms/step\n",
      "Epoch 170/300\n",
      "3/3 - 0s - loss: 0.4878 - accuracy: 0.9043 - 32ms/epoch - 11ms/step\n",
      "Epoch 171/300\n",
      "3/3 - 0s - loss: 0.4895 - accuracy: 0.9043 - 31ms/epoch - 10ms/step\n",
      "Epoch 172/300\n",
      "3/3 - 0s - loss: 0.4854 - accuracy: 0.9255 - 32ms/epoch - 11ms/step\n",
      "Epoch 173/300\n",
      "3/3 - 0s - loss: 0.4712 - accuracy: 0.9255 - 32ms/epoch - 11ms/step\n",
      "Epoch 174/300\n",
      "3/3 - 0s - loss: 0.4607 - accuracy: 0.9362 - 32ms/epoch - 11ms/step\n",
      "Epoch 175/300\n",
      "3/3 - 0s - loss: 0.4577 - accuracy: 0.9255 - 31ms/epoch - 10ms/step\n",
      "Epoch 176/300\n",
      "3/3 - 0s - loss: 0.4479 - accuracy: 0.9255 - 32ms/epoch - 11ms/step\n",
      "Epoch 177/300\n",
      "3/3 - 0s - loss: 0.4450 - accuracy: 0.9255 - 31ms/epoch - 10ms/step\n",
      "Epoch 178/300\n",
      "3/3 - 0s - loss: 0.4456 - accuracy: 0.9255 - 31ms/epoch - 10ms/step\n",
      "Epoch 179/300\n",
      "3/3 - 0s - loss: 0.4408 - accuracy: 0.9149 - 31ms/epoch - 10ms/step\n",
      "Epoch 180/300\n",
      "3/3 - 0s - loss: 0.4351 - accuracy: 0.9255 - 31ms/epoch - 10ms/step\n",
      "Epoch 181/300\n",
      "3/3 - 0s - loss: 0.4275 - accuracy: 0.9362 - 33ms/epoch - 11ms/step\n",
      "Epoch 182/300\n",
      "3/3 - 0s - loss: 0.4264 - accuracy: 0.9362 - 33ms/epoch - 11ms/step\n",
      "Epoch 183/300\n",
      "3/3 - 0s - loss: 0.4223 - accuracy: 0.9362 - 32ms/epoch - 11ms/step\n",
      "Epoch 184/300\n",
      "3/3 - 0s - loss: 0.4114 - accuracy: 0.9362 - 32ms/epoch - 11ms/step\n",
      "Epoch 185/300\n",
      "3/3 - 0s - loss: 0.4107 - accuracy: 0.9362 - 32ms/epoch - 11ms/step\n",
      "Epoch 186/300\n",
      "3/3 - 0s - loss: 0.4086 - accuracy: 0.9362 - 32ms/epoch - 11ms/step\n",
      "Epoch 187/300\n",
      "3/3 - 0s - loss: 0.3913 - accuracy: 0.9362 - 32ms/epoch - 11ms/step\n",
      "Epoch 188/300\n",
      "3/3 - 0s - loss: 0.3977 - accuracy: 0.9468 - 32ms/epoch - 11ms/step\n",
      "Epoch 189/300\n",
      "3/3 - 0s - loss: 0.3909 - accuracy: 0.9468 - 31ms/epoch - 10ms/step\n",
      "Epoch 190/300\n",
      "3/3 - 0s - loss: 0.3931 - accuracy: 0.9362 - 31ms/epoch - 10ms/step\n",
      "Epoch 191/300\n",
      "3/3 - 0s - loss: 0.3727 - accuracy: 0.9362 - 31ms/epoch - 10ms/step\n",
      "Epoch 192/300\n",
      "3/3 - 0s - loss: 0.3859 - accuracy: 0.9468 - 31ms/epoch - 10ms/step\n",
      "Epoch 193/300\n",
      "3/3 - 0s - loss: 0.3649 - accuracy: 0.9362 - 32ms/epoch - 11ms/step\n",
      "Epoch 194/300\n",
      "3/3 - 0s - loss: 0.3676 - accuracy: 0.9255 - 31ms/epoch - 10ms/step\n",
      "Epoch 195/300\n",
      "3/3 - 0s - loss: 0.3609 - accuracy: 0.9468 - 32ms/epoch - 11ms/step\n",
      "Epoch 196/300\n",
      "3/3 - 0s - loss: 0.3551 - accuracy: 0.9574 - 31ms/epoch - 10ms/step\n",
      "Epoch 197/300\n",
      "3/3 - 0s - loss: 0.3503 - accuracy: 0.9574 - 32ms/epoch - 11ms/step\n",
      "Epoch 198/300\n",
      "3/3 - 0s - loss: 0.3452 - accuracy: 0.9468 - 31ms/epoch - 10ms/step\n",
      "Epoch 199/300\n",
      "3/3 - 0s - loss: 0.3384 - accuracy: 0.9574 - 31ms/epoch - 10ms/step\n",
      "Epoch 200/300\n",
      "3/3 - 0s - loss: 0.3503 - accuracy: 0.9468 - 31ms/epoch - 10ms/step\n",
      "Epoch 201/300\n",
      "3/3 - 0s - loss: 0.3421 - accuracy: 0.9574 - 31ms/epoch - 10ms/step\n",
      "Epoch 202/300\n",
      "3/3 - 0s - loss: 0.3290 - accuracy: 0.9362 - 31ms/epoch - 10ms/step\n"
     ]
    },
    {
     "name": "stdout",
     "output_type": "stream",
     "text": [
      "Epoch 203/300\n",
      "3/3 - 0s - loss: 0.3208 - accuracy: 0.9468 - 36ms/epoch - 12ms/step\n",
      "Epoch 204/300\n",
      "3/3 - 0s - loss: 0.3221 - accuracy: 0.9468 - 31ms/epoch - 10ms/step\n",
      "Epoch 205/300\n",
      "3/3 - 0s - loss: 0.3134 - accuracy: 0.9468 - 31ms/epoch - 10ms/step\n",
      "Epoch 206/300\n",
      "3/3 - 0s - loss: 0.3080 - accuracy: 0.9574 - 30ms/epoch - 10ms/step\n",
      "Epoch 207/300\n",
      "3/3 - 0s - loss: 0.3077 - accuracy: 0.9574 - 31ms/epoch - 10ms/step\n",
      "Epoch 208/300\n",
      "3/3 - 0s - loss: 0.3019 - accuracy: 0.9468 - 31ms/epoch - 10ms/step\n",
      "Epoch 209/300\n",
      "3/3 - 0s - loss: 0.2977 - accuracy: 0.9574 - 31ms/epoch - 10ms/step\n",
      "Epoch 210/300\n",
      "3/3 - 0s - loss: 0.3002 - accuracy: 0.9468 - 31ms/epoch - 10ms/step\n",
      "Epoch 211/300\n",
      "3/3 - 0s - loss: 0.2966 - accuracy: 0.9468 - 31ms/epoch - 10ms/step\n",
      "Epoch 212/300\n",
      "3/3 - 0s - loss: 0.2846 - accuracy: 0.9574 - 32ms/epoch - 11ms/step\n",
      "Epoch 213/300\n",
      "3/3 - 0s - loss: 0.2867 - accuracy: 0.9787 - 31ms/epoch - 10ms/step\n",
      "Epoch 214/300\n",
      "3/3 - 0s - loss: 0.2804 - accuracy: 0.9574 - 31ms/epoch - 10ms/step\n",
      "Epoch 215/300\n",
      "3/3 - 0s - loss: 0.2842 - accuracy: 0.9574 - 32ms/epoch - 11ms/step\n",
      "Epoch 216/300\n",
      "3/3 - 0s - loss: 0.2824 - accuracy: 0.9681 - 31ms/epoch - 10ms/step\n",
      "Epoch 217/300\n",
      "3/3 - 0s - loss: 0.2798 - accuracy: 0.9468 - 31ms/epoch - 10ms/step\n",
      "Epoch 218/300\n",
      "3/3 - 0s - loss: 0.2723 - accuracy: 0.9787 - 32ms/epoch - 11ms/step\n",
      "Epoch 219/300\n",
      "3/3 - 0s - loss: 0.2752 - accuracy: 0.9574 - 31ms/epoch - 10ms/step\n",
      "Epoch 220/300\n",
      "3/3 - 0s - loss: 0.2643 - accuracy: 0.9574 - 32ms/epoch - 11ms/step\n",
      "Epoch 221/300\n",
      "3/3 - 0s - loss: 0.2640 - accuracy: 0.9787 - 31ms/epoch - 10ms/step\n",
      "Epoch 222/300\n",
      "3/3 - 0s - loss: 0.2586 - accuracy: 0.9574 - 32ms/epoch - 11ms/step\n",
      "Epoch 223/300\n",
      "3/3 - 0s - loss: 0.2593 - accuracy: 0.9681 - 33ms/epoch - 11ms/step\n",
      "Epoch 224/300\n",
      "3/3 - 0s - loss: 0.2506 - accuracy: 0.9681 - 32ms/epoch - 11ms/step\n",
      "Epoch 225/300\n",
      "3/3 - 0s - loss: 0.2507 - accuracy: 0.9681 - 32ms/epoch - 11ms/step\n",
      "Epoch 226/300\n",
      "3/3 - 0s - loss: 0.2505 - accuracy: 0.9574 - 31ms/epoch - 10ms/step\n",
      "Epoch 227/300\n",
      "3/3 - 0s - loss: 0.2498 - accuracy: 0.9574 - 31ms/epoch - 10ms/step\n",
      "Epoch 228/300\n",
      "3/3 - 0s - loss: 0.2380 - accuracy: 0.9574 - 31ms/epoch - 10ms/step\n",
      "Epoch 229/300\n",
      "3/3 - 0s - loss: 0.2397 - accuracy: 0.9681 - 31ms/epoch - 10ms/step\n",
      "Epoch 230/300\n",
      "3/3 - 0s - loss: 0.2315 - accuracy: 0.9681 - 31ms/epoch - 10ms/step\n",
      "Epoch 231/300\n",
      "3/3 - 0s - loss: 0.2349 - accuracy: 0.9681 - 32ms/epoch - 11ms/step\n",
      "Epoch 232/300\n",
      "3/3 - 0s - loss: 0.2298 - accuracy: 0.9787 - 32ms/epoch - 11ms/step\n",
      "Epoch 233/300\n",
      "3/3 - 0s - loss: 0.2272 - accuracy: 0.9787 - 32ms/epoch - 11ms/step\n",
      "Epoch 234/300\n",
      "3/3 - 0s - loss: 0.2294 - accuracy: 0.9574 - 31ms/epoch - 10ms/step\n",
      "Epoch 235/300\n",
      "3/3 - 0s - loss: 0.2284 - accuracy: 0.9574 - 31ms/epoch - 10ms/step\n",
      "Epoch 236/300\n",
      "3/3 - 0s - loss: 0.2170 - accuracy: 0.9787 - 30ms/epoch - 10ms/step\n",
      "Epoch 237/300\n",
      "3/3 - 0s - loss: 0.2174 - accuracy: 0.9574 - 31ms/epoch - 10ms/step\n",
      "Epoch 238/300\n",
      "3/3 - 0s - loss: 0.2169 - accuracy: 0.9574 - 30ms/epoch - 10ms/step\n",
      "Epoch 239/300\n",
      "3/3 - 0s - loss: 0.2105 - accuracy: 0.9787 - 31ms/epoch - 10ms/step\n",
      "Epoch 240/300\n",
      "3/3 - 0s - loss: 0.2102 - accuracy: 0.9681 - 31ms/epoch - 10ms/step\n",
      "Epoch 241/300\n",
      "3/3 - 0s - loss: 0.2123 - accuracy: 0.9787 - 30ms/epoch - 10ms/step\n",
      "Epoch 242/300\n",
      "3/3 - 0s - loss: 0.2020 - accuracy: 0.9681 - 30ms/epoch - 10ms/step\n",
      "Epoch 243/300\n",
      "3/3 - 0s - loss: 0.2054 - accuracy: 0.9574 - 30ms/epoch - 10ms/step\n",
      "Epoch 244/300\n",
      "3/3 - 0s - loss: 0.2016 - accuracy: 0.9787 - 30ms/epoch - 10ms/step\n",
      "Epoch 245/300\n",
      "3/3 - 0s - loss: 0.1975 - accuracy: 0.9787 - 30ms/epoch - 10ms/step\n",
      "Epoch 246/300\n",
      "3/3 - 0s - loss: 0.1962 - accuracy: 0.9574 - 30ms/epoch - 10ms/step\n",
      "Epoch 247/300\n",
      "3/3 - 0s - loss: 0.1921 - accuracy: 0.9787 - 31ms/epoch - 10ms/step\n",
      "Epoch 248/300\n",
      "3/3 - 0s - loss: 0.1904 - accuracy: 0.9787 - 31ms/epoch - 10ms/step\n",
      "Epoch 249/300\n",
      "3/3 - 0s - loss: 0.1889 - accuracy: 0.9681 - 31ms/epoch - 10ms/step\n",
      "Epoch 250/300\n",
      "3/3 - 0s - loss: 0.1877 - accuracy: 0.9787 - 30ms/epoch - 10ms/step\n",
      "Epoch 251/300\n",
      "3/3 - 0s - loss: 0.1883 - accuracy: 0.9787 - 31ms/epoch - 10ms/step\n",
      "Epoch 252/300\n",
      "3/3 - 0s - loss: 0.1890 - accuracy: 0.9574 - 30ms/epoch - 10ms/step\n",
      "Epoch 253/300\n",
      "3/3 - 0s - loss: 0.1826 - accuracy: 0.9787 - 30ms/epoch - 10ms/step\n",
      "Epoch 254/300\n",
      "3/3 - 0s - loss: 0.1823 - accuracy: 0.9787 - 30ms/epoch - 10ms/step\n",
      "Epoch 255/300\n",
      "3/3 - 0s - loss: 0.1794 - accuracy: 0.9681 - 30ms/epoch - 10ms/step\n",
      "Epoch 256/300\n",
      "3/3 - 0s - loss: 0.1805 - accuracy: 0.9787 - 31ms/epoch - 10ms/step\n",
      "Epoch 257/300\n",
      "3/3 - 0s - loss: 0.1756 - accuracy: 0.9787 - 31ms/epoch - 10ms/step\n",
      "Epoch 258/300\n",
      "3/3 - 0s - loss: 0.1764 - accuracy: 0.9681 - 31ms/epoch - 10ms/step\n",
      "Epoch 259/300\n",
      "3/3 - 0s - loss: 0.1744 - accuracy: 0.9787 - 30ms/epoch - 10ms/step\n",
      "Epoch 260/300\n",
      "3/3 - 0s - loss: 0.1695 - accuracy: 0.9681 - 30ms/epoch - 10ms/step\n",
      "Epoch 261/300\n",
      "3/3 - 0s - loss: 0.1711 - accuracy: 0.9787 - 30ms/epoch - 10ms/step\n",
      "Epoch 262/300\n",
      "3/3 - 0s - loss: 0.1680 - accuracy: 0.9787 - 31ms/epoch - 10ms/step\n",
      "Epoch 263/300\n",
      "3/3 - 0s - loss: 0.1669 - accuracy: 0.9787 - 31ms/epoch - 10ms/step\n",
      "Epoch 264/300\n",
      "3/3 - 0s - loss: 0.1688 - accuracy: 0.9681 - 30ms/epoch - 10ms/step\n",
      "Epoch 265/300\n",
      "3/3 - 0s - loss: 0.1713 - accuracy: 0.9787 - 30ms/epoch - 10ms/step\n",
      "Epoch 266/300\n",
      "3/3 - 0s - loss: 0.1768 - accuracy: 0.9574 - 31ms/epoch - 10ms/step\n",
      "Epoch 267/300\n",
      "3/3 - 0s - loss: 0.1655 - accuracy: 0.9681 - 31ms/epoch - 10ms/step\n",
      "Epoch 268/300\n",
      "3/3 - 0s - loss: 0.1661 - accuracy: 0.9787 - 30ms/epoch - 10ms/step\n",
      "Epoch 269/300\n",
      "3/3 - 0s - loss: 0.1649 - accuracy: 0.9787 - 30ms/epoch - 10ms/step\n",
      "Epoch 270/300\n",
      "3/3 - 0s - loss: 0.1650 - accuracy: 0.9681 - 30ms/epoch - 10ms/step\n",
      "Epoch 271/300\n",
      "3/3 - 0s - loss: 0.1574 - accuracy: 0.9787 - 30ms/epoch - 10ms/step\n",
      "Epoch 272/300\n",
      "3/3 - 0s - loss: 0.1552 - accuracy: 0.9787 - 30ms/epoch - 10ms/step\n",
      "Epoch 273/300\n",
      "3/3 - 0s - loss: 0.1520 - accuracy: 0.9787 - 30ms/epoch - 10ms/step\n",
      "Epoch 274/300\n",
      "3/3 - 0s - loss: 0.1517 - accuracy: 0.9787 - 31ms/epoch - 10ms/step\n",
      "Epoch 275/300\n",
      "3/3 - 0s - loss: 0.1498 - accuracy: 0.9787 - 30ms/epoch - 10ms/step\n",
      "Epoch 276/300\n",
      "3/3 - 0s - loss: 0.1475 - accuracy: 0.9787 - 30ms/epoch - 10ms/step\n",
      "Epoch 277/300\n",
      "3/3 - 0s - loss: 0.1443 - accuracy: 0.9787 - 31ms/epoch - 10ms/step\n",
      "Epoch 278/300\n",
      "3/3 - 0s - loss: 0.1455 - accuracy: 0.9787 - 30ms/epoch - 10ms/step\n",
      "Epoch 279/300\n",
      "3/3 - 0s - loss: 0.1442 - accuracy: 0.9681 - 31ms/epoch - 10ms/step\n",
      "Epoch 280/300\n",
      "3/3 - 0s - loss: 0.1414 - accuracy: 0.9787 - 30ms/epoch - 10ms/step\n",
      "Epoch 281/300\n",
      "3/3 - 0s - loss: 0.1423 - accuracy: 0.9787 - 31ms/epoch - 10ms/step\n",
      "Epoch 282/300\n",
      "3/3 - 0s - loss: 0.1401 - accuracy: 0.9787 - 31ms/epoch - 10ms/step\n",
      "Epoch 283/300\n",
      "3/3 - 0s - loss: 0.1376 - accuracy: 0.9787 - 30ms/epoch - 10ms/step\n",
      "Epoch 284/300\n",
      "3/3 - 0s - loss: 0.1398 - accuracy: 0.9787 - 31ms/epoch - 10ms/step\n",
      "Epoch 285/300\n",
      "3/3 - 0s - loss: 0.1352 - accuracy: 0.9787 - 30ms/epoch - 10ms/step\n",
      "Epoch 286/300\n",
      "3/3 - 0s - loss: 0.1369 - accuracy: 0.9787 - 30ms/epoch - 10ms/step\n",
      "Epoch 287/300\n",
      "3/3 - 0s - loss: 0.1369 - accuracy: 0.9681 - 32ms/epoch - 11ms/step\n",
      "Epoch 288/300\n",
      "3/3 - 0s - loss: 0.1301 - accuracy: 0.9787 - 31ms/epoch - 10ms/step\n",
      "Epoch 289/300\n",
      "3/3 - 0s - loss: 0.1349 - accuracy: 0.9787 - 30ms/epoch - 10ms/step\n",
      "Epoch 290/300\n",
      "3/3 - 0s - loss: 0.1322 - accuracy: 0.9681 - 31ms/epoch - 10ms/step\n",
      "Epoch 291/300\n",
      "3/3 - 0s - loss: 0.1287 - accuracy: 0.9787 - 31ms/epoch - 10ms/step\n",
      "Epoch 292/300\n",
      "3/3 - 0s - loss: 0.1283 - accuracy: 0.9787 - 31ms/epoch - 10ms/step\n",
      "Epoch 293/300\n",
      "3/3 - 0s - loss: 0.1253 - accuracy: 0.9787 - 31ms/epoch - 10ms/step\n",
      "Epoch 294/300\n",
      "3/3 - 0s - loss: 0.1264 - accuracy: 0.9681 - 30ms/epoch - 10ms/step\n",
      "Epoch 295/300\n",
      "3/3 - 0s - loss: 0.1238 - accuracy: 0.9787 - 30ms/epoch - 10ms/step\n",
      "Epoch 296/300\n",
      "3/3 - 0s - loss: 0.1231 - accuracy: 0.9787 - 31ms/epoch - 10ms/step\n",
      "Epoch 297/300\n",
      "3/3 - 0s - loss: 0.1208 - accuracy: 0.9787 - 31ms/epoch - 10ms/step\n",
      "Epoch 298/300\n",
      "3/3 - 0s - loss: 0.1217 - accuracy: 0.9681 - 31ms/epoch - 10ms/step\n",
      "Epoch 299/300\n",
      "3/3 - 0s - loss: 0.1210 - accuracy: 0.9681 - 31ms/epoch - 10ms/step\n",
      "Epoch 300/300\n",
      "3/3 - 0s - loss: 0.1186 - accuracy: 0.9787 - 31ms/epoch - 10ms/step\n"
     ]
    },
    {
     "data": {
      "text/plain": [
       "<keras.src.callbacks.History at 0x1eeefdf6dd0>"
      ]
     },
     "execution_count": 111,
     "metadata": {},
     "output_type": "execute_result"
    }
   ],
   "source": [
    "embedding_dim = 10\n",
    "hidden_units = 256\n",
    "\n",
    "model = Sequential()\n",
    "model.add(Embedding(vocab_size, embedding_dim))\n",
    "model.add(LSTM(hidden_units))\n",
    "model.add(Dense(vocab_size, activation='softmax'))\n",
    "model.compile(loss='categorical_crossentropy', optimizer='adam', metrics=['accuracy'])\n",
    "model.fit(X, y, epochs=300, verbose=2)"
   ]
  },
  {
   "cell_type": "code",
   "execution_count": 112,
   "id": "35bb6fa2",
   "metadata": {
    "ExecuteTime": {
     "end_time": "2023-11-08T00:36:31.202936Z",
     "start_time": "2023-11-08T00:36:31.197091Z"
    }
   },
   "outputs": [],
   "source": [
    "def sentence_generation(model, tokenizer, current_word, n):\n",
    "    init_word = current_word\n",
    "    sentence = ''\n",
    "    \n",
    "    for _ in range(n):\n",
    "        encoded = tokenizer.texts_to_sequences([current_word])[0]\n",
    "        encoded = pad_sequences([encoded], maxlen=5, padding='pre')\n",
    "        \n",
    "        result = model.predict(encoded, verbose=0)\n",
    "        result = np.argmax(result, axis=1)\n",
    "        \n",
    "        for word, index in tokenizer.word_index.items():\n",
    "            if index == result:\n",
    "                break\n",
    "                \n",
    "        current_word = current_word + ' ' + word\n",
    "        \n",
    "        sentence = sentence + ' ' + word\n",
    "        \n",
    "    sentence = init_word + sentence\n",
    "    return sentence"
   ]
  },
  {
   "cell_type": "code",
   "execution_count": 116,
   "id": "78910bac",
   "metadata": {
    "ExecuteTime": {
     "end_time": "2023-11-08T05:07:31.778542Z",
     "start_time": "2023-11-08T05:07:31.614354Z"
    }
   },
   "outputs": [
    {
     "name": "stdout",
     "output_type": "stream",
     "text": [
      "화려한 도시를 그리며 찾아왔네 눈을\n"
     ]
    }
   ],
   "source": [
    "print(sentence_generation(model, tokenizer, '화려한', 4))"
   ]
  },
  {
   "cell_type": "code",
   "execution_count": null,
   "id": "621ecf21",
   "metadata": {},
   "outputs": [],
   "source": []
  }
 ],
 "metadata": {
  "kernelspec": {
   "display_name": "Python 3 (ipykernel)",
   "language": "python",
   "name": "python3"
  },
  "language_info": {
   "codemirror_mode": {
    "name": "ipython",
    "version": 3
   },
   "file_extension": ".py",
   "mimetype": "text/x-python",
   "name": "python",
   "nbconvert_exporter": "python",
   "pygments_lexer": "ipython3",
   "version": "3.11.4"
  },
  "toc": {
   "base_numbering": 1,
   "nav_menu": {},
   "number_sections": true,
   "sideBar": true,
   "skip_h1_title": false,
   "title_cell": "Table of Contents",
   "title_sidebar": "Contents",
   "toc_cell": false,
   "toc_position": {},
   "toc_section_display": true,
   "toc_window_display": false
  }
 },
 "nbformat": 4,
 "nbformat_minor": 5
}
