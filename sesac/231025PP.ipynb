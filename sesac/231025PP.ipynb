{
 "cells": [
  {
   "cell_type": "markdown",
   "id": "e3745a08",
   "metadata": {},
   "source": [
    "# 10월 25일 수요일 연습문제"
   ]
  },
  {
   "cell_type": "markdown",
   "id": "830a7bdc",
   "metadata": {},
   "source": [
    "- 가장 많이 방문한 시간 10개 출력 (연 월 일 시까지 기준)\n",
    "- 가정 적게 방문한 시간 10개 출력 (연 월 일 시까지 기준)\n",
    "- 가장 많이 구매한 상품 10개 출력\n",
    "- 가장 적게 구매한 상품 10개 출력\n",
    "- 어떤 요일에 구매가 가장 많았는가?\n",
    "- 어떤 월에 구매가 가장 많이 있었는가?\n",
    "- 연도별 구매횟수 비교"
   ]
  },
  {
   "cell_type": "code",
   "execution_count": 45,
   "id": "eb0e8bfe",
   "metadata": {
    "ExecuteTime": {
     "end_time": "2023-10-25T23:47:47.482445Z",
     "start_time": "2023-10-25T23:47:47.373508Z"
    }
   },
   "outputs": [
    {
     "name": "stderr",
     "output_type": "stream",
     "text": [
      "C:\\Users\\user\\AppData\\Local\\Temp\\ipykernel_11524\\3572696704.py:1: UserWarning: Parsing dates in DD/MM/YYYY format when dayfirst=False (the default) was specified. This may lead to inconsistently parsed dates! Specify a format to ensure consistent parsing.\n",
      "  df=pd.read_csv(\"ex_data.csv\", parse_dates=['Date'])\n"
     ]
    },
    {
     "data": {
      "text/html": [
       "<div>\n",
       "<style scoped>\n",
       "    .dataframe tbody tr th:only-of-type {\n",
       "        vertical-align: middle;\n",
       "    }\n",
       "\n",
       "    .dataframe tbody tr th {\n",
       "        vertical-align: top;\n",
       "    }\n",
       "\n",
       "    .dataframe thead th {\n",
       "        text-align: right;\n",
       "    }\n",
       "</style>\n",
       "<table border=\"1\" class=\"dataframe\">\n",
       "  <thead>\n",
       "    <tr style=\"text-align: right;\">\n",
       "      <th></th>\n",
       "      <th>Member_number</th>\n",
       "      <th>Date</th>\n",
       "      <th>itemDescription</th>\n",
       "    </tr>\n",
       "  </thead>\n",
       "  <tbody>\n",
       "    <tr>\n",
       "      <th>0</th>\n",
       "      <td>1808</td>\n",
       "      <td>2015-07-21</td>\n",
       "      <td>tropical fruit</td>\n",
       "    </tr>\n",
       "    <tr>\n",
       "      <th>1</th>\n",
       "      <td>2552</td>\n",
       "      <td>2015-05-01</td>\n",
       "      <td>whole milk</td>\n",
       "    </tr>\n",
       "    <tr>\n",
       "      <th>2</th>\n",
       "      <td>2300</td>\n",
       "      <td>2015-09-19</td>\n",
       "      <td>pip fruit</td>\n",
       "    </tr>\n",
       "    <tr>\n",
       "      <th>3</th>\n",
       "      <td>1187</td>\n",
       "      <td>2015-12-12</td>\n",
       "      <td>other vegetables</td>\n",
       "    </tr>\n",
       "    <tr>\n",
       "      <th>4</th>\n",
       "      <td>3037</td>\n",
       "      <td>2015-01-02</td>\n",
       "      <td>whole milk</td>\n",
       "    </tr>\n",
       "    <tr>\n",
       "      <th>...</th>\n",
       "      <td>...</td>\n",
       "      <td>...</td>\n",
       "      <td>...</td>\n",
       "    </tr>\n",
       "    <tr>\n",
       "      <th>38760</th>\n",
       "      <td>4471</td>\n",
       "      <td>2014-08-10</td>\n",
       "      <td>sliced cheese</td>\n",
       "    </tr>\n",
       "    <tr>\n",
       "      <th>38761</th>\n",
       "      <td>2022</td>\n",
       "      <td>2014-02-23</td>\n",
       "      <td>candy</td>\n",
       "    </tr>\n",
       "    <tr>\n",
       "      <th>38762</th>\n",
       "      <td>1097</td>\n",
       "      <td>2014-04-16</td>\n",
       "      <td>cake bar</td>\n",
       "    </tr>\n",
       "    <tr>\n",
       "      <th>38763</th>\n",
       "      <td>1510</td>\n",
       "      <td>2014-03-12</td>\n",
       "      <td>fruit/vegetable juice</td>\n",
       "    </tr>\n",
       "    <tr>\n",
       "      <th>38764</th>\n",
       "      <td>1521</td>\n",
       "      <td>2014-12-26</td>\n",
       "      <td>cat food</td>\n",
       "    </tr>\n",
       "  </tbody>\n",
       "</table>\n",
       "<p>38765 rows × 3 columns</p>\n",
       "</div>"
      ],
      "text/plain": [
       "       Member_number       Date        itemDescription\n",
       "0               1808 2015-07-21         tropical fruit\n",
       "1               2552 2015-05-01             whole milk\n",
       "2               2300 2015-09-19              pip fruit\n",
       "3               1187 2015-12-12       other vegetables\n",
       "4               3037 2015-01-02             whole milk\n",
       "...              ...        ...                    ...\n",
       "38760           4471 2014-08-10          sliced cheese\n",
       "38761           2022 2014-02-23                  candy\n",
       "38762           1097 2014-04-16               cake bar\n",
       "38763           1510 2014-03-12  fruit/vegetable juice\n",
       "38764           1521 2014-12-26               cat food\n",
       "\n",
       "[38765 rows x 3 columns]"
      ]
     },
     "execution_count": 45,
     "metadata": {},
     "output_type": "execute_result"
    }
   ],
   "source": [
    "df=pd.read_csv(\"ex_data.csv\", parse_dates=['Date'])\n",
    "df"
   ]
  },
  {
   "cell_type": "code",
   "execution_count": 46,
   "id": "ce4645de",
   "metadata": {
    "ExecuteTime": {
     "end_time": "2023-10-25T23:47:53.218619Z",
     "start_time": "2023-10-25T23:47:53.203009Z"
    }
   },
   "outputs": [
    {
     "name": "stdout",
     "output_type": "stream",
     "text": [
      "<class 'pandas.core.frame.DataFrame'>\n",
      "RangeIndex: 38765 entries, 0 to 38764\n",
      "Data columns (total 3 columns):\n",
      " #   Column           Non-Null Count  Dtype         \n",
      "---  ------           --------------  -----         \n",
      " 0   Member_number    38765 non-null  int64         \n",
      " 1   Date             38765 non-null  datetime64[ns]\n",
      " 2   itemDescription  38765 non-null  object        \n",
      "dtypes: datetime64[ns](1), int64(1), object(1)\n",
      "memory usage: 908.7+ KB\n"
     ]
    }
   ],
   "source": [
    "df.info()"
   ]
  },
  {
   "cell_type": "code",
   "execution_count": 47,
   "id": "a66310c6",
   "metadata": {
    "ExecuteTime": {
     "end_time": "2023-10-25T23:48:12.186105Z",
     "start_time": "2023-10-25T23:48:12.147221Z"
    }
   },
   "outputs": [],
   "source": [
    "df['year']=df.Date.dt.year\n",
    "df['month']=df.Date.dt.month\n",
    "df['day']=df.Date.dt.day\n",
    "df['day_of_week']=df.Date.dt.day_name()"
   ]
  },
  {
   "cell_type": "code",
   "execution_count": 48,
   "id": "b0dd5e69",
   "metadata": {
    "ExecuteTime": {
     "end_time": "2023-10-25T23:48:20.495831Z",
     "start_time": "2023-10-25T23:48:20.484981Z"
    }
   },
   "outputs": [
    {
     "data": {
      "text/html": [
       "<div>\n",
       "<style scoped>\n",
       "    .dataframe tbody tr th:only-of-type {\n",
       "        vertical-align: middle;\n",
       "    }\n",
       "\n",
       "    .dataframe tbody tr th {\n",
       "        vertical-align: top;\n",
       "    }\n",
       "\n",
       "    .dataframe thead th {\n",
       "        text-align: right;\n",
       "    }\n",
       "</style>\n",
       "<table border=\"1\" class=\"dataframe\">\n",
       "  <thead>\n",
       "    <tr style=\"text-align: right;\">\n",
       "      <th></th>\n",
       "      <th>Member_number</th>\n",
       "      <th>Date</th>\n",
       "      <th>itemDescription</th>\n",
       "      <th>year</th>\n",
       "      <th>month</th>\n",
       "      <th>day</th>\n",
       "      <th>day_of_week</th>\n",
       "    </tr>\n",
       "  </thead>\n",
       "  <tbody>\n",
       "    <tr>\n",
       "      <th>0</th>\n",
       "      <td>1808</td>\n",
       "      <td>2015-07-21</td>\n",
       "      <td>tropical fruit</td>\n",
       "      <td>2015</td>\n",
       "      <td>7</td>\n",
       "      <td>21</td>\n",
       "      <td>Tuesday</td>\n",
       "    </tr>\n",
       "    <tr>\n",
       "      <th>1</th>\n",
       "      <td>2552</td>\n",
       "      <td>2015-05-01</td>\n",
       "      <td>whole milk</td>\n",
       "      <td>2015</td>\n",
       "      <td>5</td>\n",
       "      <td>1</td>\n",
       "      <td>Friday</td>\n",
       "    </tr>\n",
       "    <tr>\n",
       "      <th>2</th>\n",
       "      <td>2300</td>\n",
       "      <td>2015-09-19</td>\n",
       "      <td>pip fruit</td>\n",
       "      <td>2015</td>\n",
       "      <td>9</td>\n",
       "      <td>19</td>\n",
       "      <td>Saturday</td>\n",
       "    </tr>\n",
       "    <tr>\n",
       "      <th>3</th>\n",
       "      <td>1187</td>\n",
       "      <td>2015-12-12</td>\n",
       "      <td>other vegetables</td>\n",
       "      <td>2015</td>\n",
       "      <td>12</td>\n",
       "      <td>12</td>\n",
       "      <td>Saturday</td>\n",
       "    </tr>\n",
       "    <tr>\n",
       "      <th>4</th>\n",
       "      <td>3037</td>\n",
       "      <td>2015-01-02</td>\n",
       "      <td>whole milk</td>\n",
       "      <td>2015</td>\n",
       "      <td>1</td>\n",
       "      <td>2</td>\n",
       "      <td>Friday</td>\n",
       "    </tr>\n",
       "    <tr>\n",
       "      <th>...</th>\n",
       "      <td>...</td>\n",
       "      <td>...</td>\n",
       "      <td>...</td>\n",
       "      <td>...</td>\n",
       "      <td>...</td>\n",
       "      <td>...</td>\n",
       "      <td>...</td>\n",
       "    </tr>\n",
       "    <tr>\n",
       "      <th>38760</th>\n",
       "      <td>4471</td>\n",
       "      <td>2014-08-10</td>\n",
       "      <td>sliced cheese</td>\n",
       "      <td>2014</td>\n",
       "      <td>8</td>\n",
       "      <td>10</td>\n",
       "      <td>Sunday</td>\n",
       "    </tr>\n",
       "    <tr>\n",
       "      <th>38761</th>\n",
       "      <td>2022</td>\n",
       "      <td>2014-02-23</td>\n",
       "      <td>candy</td>\n",
       "      <td>2014</td>\n",
       "      <td>2</td>\n",
       "      <td>23</td>\n",
       "      <td>Sunday</td>\n",
       "    </tr>\n",
       "    <tr>\n",
       "      <th>38762</th>\n",
       "      <td>1097</td>\n",
       "      <td>2014-04-16</td>\n",
       "      <td>cake bar</td>\n",
       "      <td>2014</td>\n",
       "      <td>4</td>\n",
       "      <td>16</td>\n",
       "      <td>Wednesday</td>\n",
       "    </tr>\n",
       "    <tr>\n",
       "      <th>38763</th>\n",
       "      <td>1510</td>\n",
       "      <td>2014-03-12</td>\n",
       "      <td>fruit/vegetable juice</td>\n",
       "      <td>2014</td>\n",
       "      <td>3</td>\n",
       "      <td>12</td>\n",
       "      <td>Wednesday</td>\n",
       "    </tr>\n",
       "    <tr>\n",
       "      <th>38764</th>\n",
       "      <td>1521</td>\n",
       "      <td>2014-12-26</td>\n",
       "      <td>cat food</td>\n",
       "      <td>2014</td>\n",
       "      <td>12</td>\n",
       "      <td>26</td>\n",
       "      <td>Friday</td>\n",
       "    </tr>\n",
       "  </tbody>\n",
       "</table>\n",
       "<p>38765 rows × 7 columns</p>\n",
       "</div>"
      ],
      "text/plain": [
       "       Member_number       Date        itemDescription  year  month  day  \\\n",
       "0               1808 2015-07-21         tropical fruit  2015      7   21   \n",
       "1               2552 2015-05-01             whole milk  2015      5    1   \n",
       "2               2300 2015-09-19              pip fruit  2015      9   19   \n",
       "3               1187 2015-12-12       other vegetables  2015     12   12   \n",
       "4               3037 2015-01-02             whole milk  2015      1    2   \n",
       "...              ...        ...                    ...   ...    ...  ...   \n",
       "38760           4471 2014-08-10          sliced cheese  2014      8   10   \n",
       "38761           2022 2014-02-23                  candy  2014      2   23   \n",
       "38762           1097 2014-04-16               cake bar  2014      4   16   \n",
       "38763           1510 2014-03-12  fruit/vegetable juice  2014      3   12   \n",
       "38764           1521 2014-12-26               cat food  2014     12   26   \n",
       "\n",
       "      day_of_week  \n",
       "0         Tuesday  \n",
       "1          Friday  \n",
       "2        Saturday  \n",
       "3        Saturday  \n",
       "4          Friday  \n",
       "...           ...  \n",
       "38760      Sunday  \n",
       "38761      Sunday  \n",
       "38762   Wednesday  \n",
       "38763   Wednesday  \n",
       "38764      Friday  \n",
       "\n",
       "[38765 rows x 7 columns]"
      ]
     },
     "execution_count": 48,
     "metadata": {},
     "output_type": "execute_result"
    }
   ],
   "source": [
    "df"
   ]
  },
  {
   "cell_type": "code",
   "execution_count": 58,
   "id": "18d78735",
   "metadata": {
    "ExecuteTime": {
     "end_time": "2023-10-25T23:52:37.353675Z",
     "start_time": "2023-10-25T23:52:37.340785Z"
    }
   },
   "outputs": [
    {
     "data": {
      "text/plain": [
       "Date\n",
       "2014-08-28    39\n",
       "2014-10-27    36\n",
       "2014-05-11    35\n",
       "2014-05-30    35\n",
       "2015-01-21    34\n",
       "2014-04-13    34\n",
       "2014-03-04    34\n",
       "2014-07-07    33\n",
       "2015-08-21    32\n",
       "2014-09-21    32\n",
       "Name: Member_number, dtype: int64"
      ]
     },
     "execution_count": 58,
     "metadata": {},
     "output_type": "execute_result"
    }
   ],
   "source": [
    "df.groupby('Date')['Member_number'].nunique().sort_values(ascending=False).head(10)"
   ]
  },
  {
   "cell_type": "code",
   "execution_count": 62,
   "id": "e828f021",
   "metadata": {
    "ExecuteTime": {
     "end_time": "2023-10-25T23:54:04.321164Z",
     "start_time": "2023-10-25T23:54:04.308608Z"
    }
   },
   "outputs": [
    {
     "data": {
      "text/plain": [
       "Date\n",
       "2015-01-09     7\n",
       "2015-03-16     9\n",
       "2015-03-06    10\n",
       "2014-04-07    10\n",
       "2015-02-02    11\n",
       "2015-03-17    11\n",
       "2015-10-20    11\n",
       "2015-12-21    11\n",
       "2015-10-30    11\n",
       "2015-05-11    11\n",
       "Name: Member_number, dtype: int64"
      ]
     },
     "execution_count": 62,
     "metadata": {},
     "output_type": "execute_result"
    }
   ],
   "source": [
    "df.groupby('Date')['Member_number'].nunique().sort_values(ascending=True).head(10)"
   ]
  },
  {
   "cell_type": "code",
   "execution_count": 65,
   "id": "adc2d7f1",
   "metadata": {
    "ExecuteTime": {
     "end_time": "2023-10-25T23:55:06.004203Z",
     "start_time": "2023-10-25T23:55:05.996732Z"
    }
   },
   "outputs": [
    {
     "data": {
      "text/plain": [
       "whole milk          2502\n",
       "other vegetables    1898\n",
       "rolls/buns          1716\n",
       "soda                1514\n",
       "yogurt              1334\n",
       "root vegetables     1071\n",
       "tropical fruit      1032\n",
       "bottled water        933\n",
       "sausage              924\n",
       "citrus fruit         812\n",
       "Name: itemDescription, dtype: int64"
      ]
     },
     "execution_count": 65,
     "metadata": {},
     "output_type": "execute_result"
    }
   ],
   "source": [
    "df.itemDescription.value_counts().head(10)"
   ]
  },
  {
   "cell_type": "code",
   "execution_count": 66,
   "id": "b1517f7b",
   "metadata": {
    "ExecuteTime": {
     "end_time": "2023-10-25T23:55:37.892797Z",
     "start_time": "2023-10-25T23:55:37.885166Z"
    }
   },
   "outputs": [
    {
     "data": {
      "text/plain": [
       "preservation products    1\n",
       "kitchen utensil          1\n",
       "baby cosmetics           3\n",
       "bags                     4\n",
       "make up remover          5\n",
       "toilet cleaner           5\n",
       "frozen chicken           5\n",
       "rubbing alcohol          5\n",
       "salad dressing           6\n",
       "whisky                   8\n",
       "Name: itemDescription, dtype: int64"
      ]
     },
     "execution_count": 66,
     "metadata": {},
     "output_type": "execute_result"
    }
   ],
   "source": [
    "df.itemDescription.value_counts(ascending=True).head(10)"
   ]
  },
  {
   "cell_type": "code",
   "execution_count": 73,
   "id": "32f2c62a",
   "metadata": {
    "ExecuteTime": {
     "end_time": "2023-10-25T23:58:58.125477Z",
     "start_time": "2023-10-25T23:58:58.109305Z"
    }
   },
   "outputs": [
    {
     "data": {
      "text/plain": [
       "day_of_week\n",
       "Friday       163\n",
       "Monday       163\n",
       "Wednesday    161\n",
       "Thursday     160\n",
       "Saturday     158\n",
       "Sunday       158\n",
       "Tuesday      157\n",
       "Name: itemDescription, dtype: int64"
      ]
     },
     "execution_count": 73,
     "metadata": {},
     "output_type": "execute_result"
    }
   ],
   "source": [
    "df.groupby('day_of_week')['itemDescription'].nunique().sort_values(ascending=False)"
   ]
  },
  {
   "cell_type": "code",
   "execution_count": 74,
   "id": "1f2e4dbb",
   "metadata": {
    "ExecuteTime": {
     "end_time": "2023-10-25T23:59:57.009886Z",
     "start_time": "2023-10-25T23:59:56.997282Z"
    }
   },
   "outputs": [
    {
     "data": {
      "text/plain": [
       "month\n",
       "4     158\n",
       "8     155\n",
       "1     154\n",
       "12    153\n",
       "6     152\n",
       "10    151\n",
       "11    151\n",
       "3     150\n",
       "5     150\n",
       "7     150\n",
       "9     148\n",
       "2     146\n",
       "Name: itemDescription, dtype: int64"
      ]
     },
     "execution_count": 74,
     "metadata": {},
     "output_type": "execute_result"
    }
   ],
   "source": [
    "df.groupby('month')['itemDescription'].nunique().sort_values(ascending=False)"
   ]
  },
  {
   "cell_type": "code",
   "execution_count": 75,
   "id": "f6959345",
   "metadata": {
    "ExecuteTime": {
     "end_time": "2023-10-26T00:00:13.512650Z",
     "start_time": "2023-10-26T00:00:13.501476Z"
    }
   },
   "outputs": [
    {
     "data": {
      "text/plain": [
       "year\n",
       "2014    167\n",
       "2015    164\n",
       "Name: itemDescription, dtype: int64"
      ]
     },
     "execution_count": 75,
     "metadata": {},
     "output_type": "execute_result"
    }
   ],
   "source": [
    "df.groupby('year')['itemDescription'].nunique().sort_values(ascending=False)"
   ]
  },
  {
   "cell_type": "code",
   "execution_count": null,
   "id": "3ed53253",
   "metadata": {},
   "outputs": [],
   "source": []
  }
 ],
 "metadata": {
  "kernelspec": {
   "display_name": "Python 3 (ipykernel)",
   "language": "python",
   "name": "python3"
  },
  "language_info": {
   "codemirror_mode": {
    "name": "ipython",
    "version": 3
   },
   "file_extension": ".py",
   "mimetype": "text/x-python",
   "name": "python",
   "nbconvert_exporter": "python",
   "pygments_lexer": "ipython3",
   "version": "3.11.4"
  },
  "toc": {
   "base_numbering": 1,
   "nav_menu": {},
   "number_sections": true,
   "sideBar": true,
   "skip_h1_title": false,
   "title_cell": "Table of Contents",
   "title_sidebar": "Contents",
   "toc_cell": false,
   "toc_position": {},
   "toc_section_display": true,
   "toc_window_display": false
  }
 },
 "nbformat": 4,
 "nbformat_minor": 5
}
