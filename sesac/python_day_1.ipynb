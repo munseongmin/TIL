{
 "cells": [
  {
   "cell_type": "code",
   "execution_count": 1,
   "id": "29396b64",
   "metadata": {},
   "outputs": [
    {
     "data": {
      "text/plain": [
       "'hello sesac'"
      ]
     },
     "execution_count": 1,
     "metadata": {},
     "output_type": "execute_result"
    }
   ],
   "source": [
    "'hello sesac'\n",
    "'hello sesac' #print 명령문 없이는 마지막만 출력"
   ]
  },
  {
   "cell_type": "code",
   "execution_count": 2,
   "id": "929351dd",
   "metadata": {},
   "outputs": [
    {
     "name": "stdout",
     "output_type": "stream",
     "text": [
      "hello sesac\n",
      "hello sesac\n"
     ]
    }
   ],
   "source": [
    "print('hello sesac')\n",
    "print('hello sesac')"
   ]
  },
  {
   "cell_type": "code",
   "execution_count": 3,
   "id": "3294d203",
   "metadata": {},
   "outputs": [
    {
     "data": {
      "text/plain": [
       "2"
      ]
     },
     "execution_count": 3,
     "metadata": {},
     "output_type": "execute_result"
    }
   ],
   "source": [
    "x=3\n",
    "y=2\n",
    "x\n",
    "y #print 명령문 없이는 마지막만 출력"
   ]
  },
  {
   "cell_type": "code",
   "execution_count": 4,
   "id": "96c2196c",
   "metadata": {},
   "outputs": [
    {
     "name": "stdout",
     "output_type": "stream",
     "text": [
      "3\n",
      "2\n"
     ]
    }
   ],
   "source": [
    "x=3\n",
    "y=2\n",
    "print(x)\n",
    "print(y)"
   ]
  },
  {
   "cell_type": "code",
   "execution_count": 5,
   "id": "fd271d4e",
   "metadata": {},
   "outputs": [
    {
     "data": {
      "text/plain": [
       "3"
      ]
     },
     "execution_count": 5,
     "metadata": {},
     "output_type": "execute_result"
    }
   ],
   "source": [
    "x=1\n",
    "y=2\n",
    "x+y"
   ]
  },
  {
   "cell_type": "code",
   "execution_count": 6,
   "id": "040bfc4a",
   "metadata": {},
   "outputs": [
    {
     "data": {
      "text/plain": [
       "81"
      ]
     },
     "execution_count": 6,
     "metadata": {},
     "output_type": "execute_result"
    }
   ],
   "source": [
    "3**4 #3의 4승"
   ]
  },
  {
   "cell_type": "code",
   "execution_count": 7,
   "id": "3e8f48e7",
   "metadata": {},
   "outputs": [
    {
     "data": {
      "text/plain": [
       "1"
      ]
     },
     "execution_count": 7,
     "metadata": {},
     "output_type": "execute_result"
    }
   ],
   "source": [
    "4%3 #나눴을 때 나머지"
   ]
  },
  {
   "cell_type": "code",
   "execution_count": 8,
   "id": "cdc0851e",
   "metadata": {},
   "outputs": [
    {
     "data": {
      "text/plain": [
       "1"
      ]
     },
     "execution_count": 8,
     "metadata": {},
     "output_type": "execute_result"
    }
   ],
   "source": [
    "4//3 #나눴을 때 몫"
   ]
  },
  {
   "cell_type": "code",
   "execution_count": 9,
   "id": "6a48367e",
   "metadata": {},
   "outputs": [
    {
     "data": {
      "text/plain": [
       "'\\nhi\\nhello\\n'"
      ]
     },
     "execution_count": 9,
     "metadata": {},
     "output_type": "execute_result"
    }
   ],
   "source": [
    "'''\n",
    "hi\n",
    "hello\n",
    "'''\n",
    "#장문의 문자열 작성할 때 \n",
    "\"\"\"\n",
    "hi\n",
    "hello\n",
    "\"\"\"\n",
    "#\\n은 줄바꿈"
   ]
  },
  {
   "cell_type": "code",
   "execution_count": 14,
   "id": "5c900412",
   "metadata": {},
   "outputs": [
    {
     "ename": "SyntaxError",
     "evalue": "unterminated string literal (detected at line 1) (3233848643.py, line 1)",
     "output_type": "error",
     "traceback": [
      "\u001b[1;36m  Cell \u001b[1;32mIn[14], line 1\u001b[1;36m\u001b[0m\n\u001b[1;33m    n='kim's'\u001b[0m\n\u001b[1;37m            ^\u001b[0m\n\u001b[1;31mSyntaxError\u001b[0m\u001b[1;31m:\u001b[0m unterminated string literal (detected at line 1)\n"
     ]
    }
   ],
   "source": [
    "n='kim's'\n",
    "n"
   ]
  },
  {
   "cell_type": "code",
   "execution_count": 15,
   "id": "561e013d",
   "metadata": {},
   "outputs": [
    {
     "data": {
      "text/plain": [
       "\"kim's\""
      ]
     },
     "execution_count": 15,
     "metadata": {},
     "output_type": "execute_result"
    }
   ],
   "source": [
    "n=\"kim's\" #큰 따옴표 안에 작은 따옴표로 문자열 출력\n",
    "n"
   ]
  },
  {
   "cell_type": "code",
   "execution_count": 16,
   "id": "40d0d78b",
   "metadata": {},
   "outputs": [
    {
     "name": "stdout",
     "output_type": "stream",
     "text": [
      "he\tllo\n",
      "hi\n"
     ]
    }
   ],
   "source": [
    "msg=\"he\\tllo\\nhi\"\n",
    "msg\n",
    "print(msg) #\\n 줄바꿈, \\t tap 간격"
   ]
  },
  {
   "cell_type": "code",
   "execution_count": 17,
   "id": "ccffb972",
   "metadata": {},
   "outputs": [
    {
     "data": {
      "text/plain": [
       "'hihello'"
      ]
     },
     "execution_count": 17,
     "metadata": {},
     "output_type": "execute_result"
    }
   ],
   "source": [
    "\"hi\" + \"hello\""
   ]
  },
  {
   "cell_type": "code",
   "execution_count": 19,
   "id": "3406d5ca",
   "metadata": {},
   "outputs": [
    {
     "name": "stdout",
     "output_type": "stream",
     "text": [
      "hihihihihihihihihihihihihihihihihihihihihihihihihihihihihihihihihihihihihihihihihihihihihihihihihihihihihihihihihihihihihihihihihihihihihihihihihihihihihihihihihihihihihihihihihihihihihihihihihihihihi\n",
      "==================================================\n"
     ]
    }
   ],
   "source": [
    "print(\"hi\" * 100)\n",
    "print(\"=\" * 50) #문자 반복"
   ]
  },
  {
   "cell_type": "code",
   "execution_count": 21,
   "id": "c6231c35",
   "metadata": {},
   "outputs": [
    {
     "name": "stdout",
     "output_type": "stream",
     "text": [
      "5\n",
      "6\n"
     ]
    }
   ],
   "source": [
    "print(len(\"hello\")) #len 문자열의 길이\n",
    "print(len(\"h ello\")) #띄어쓰기도 문자열로 포함"
   ]
  },
  {
   "cell_type": "code",
   "execution_count": 22,
   "id": "b2941905",
   "metadata": {},
   "outputs": [],
   "source": [
    "a=\"hello\""
   ]
  },
  {
   "cell_type": "code",
   "execution_count": 23,
   "id": "1c30ca00",
   "metadata": {},
   "outputs": [
    {
     "data": {
      "text/plain": [
       "'h'"
      ]
     },
     "execution_count": 23,
     "metadata": {},
     "output_type": "execute_result"
    }
   ],
   "source": [
    "a[0] #문자열의 위치 출력"
   ]
  },
  {
   "cell_type": "code",
   "execution_count": 24,
   "id": "9b003116",
   "metadata": {},
   "outputs": [
    {
     "data": {
      "text/plain": [
       "'o'"
      ]
     },
     "execution_count": 24,
     "metadata": {},
     "output_type": "execute_result"
    }
   ],
   "source": [
    "a[4] #문자열의 마지막 문자 위치 = len() -1"
   ]
  },
  {
   "cell_type": "code",
   "execution_count": 25,
   "id": "890ccb8f",
   "metadata": {},
   "outputs": [
    {
     "data": {
      "text/plain": [
       "'o'"
      ]
     },
     "execution_count": 25,
     "metadata": {},
     "output_type": "execute_result"
    }
   ],
   "source": [
    "a[-1] #a[4]와 같은 문자열 위치 출력"
   ]
  },
  {
   "cell_type": "code",
   "execution_count": 26,
   "id": "3bccdf74",
   "metadata": {},
   "outputs": [
    {
     "data": {
      "text/plain": [
       "'hell'"
      ]
     },
     "execution_count": 26,
     "metadata": {},
     "output_type": "execute_result"
    }
   ],
   "source": [
    "b=\"hello world\"\n",
    "b[0:4] # [포함:불포함]"
   ]
  },
  {
   "cell_type": "code",
   "execution_count": 27,
   "id": "8a0e4a41",
   "metadata": {},
   "outputs": [
    {
     "data": {
      "text/plain": [
       "'오늘은 교육 2알째 입니다,'"
      ]
     },
     "execution_count": 27,
     "metadata": {},
     "output_type": "execute_result"
    }
   ],
   "source": [
    "\"오늘은 교육 %d알째 입니다,\" % 2 #숫자"
   ]
  },
  {
   "cell_type": "code",
   "execution_count": 28,
   "id": "1b293c7e",
   "metadata": {},
   "outputs": [
    {
     "data": {
      "text/plain": [
       "'오늘은 교육 이틀째 입니다,'"
      ]
     },
     "execution_count": 28,
     "metadata": {},
     "output_type": "execute_result"
    }
   ],
   "source": [
    "\"오늘은 교육 %s째 입니다,\" % \"이틀\" #문자"
   ]
  },
  {
   "cell_type": "code",
   "execution_count": 29,
   "id": "1aedcf3b",
   "metadata": {},
   "outputs": [
    {
     "data": {
      "text/plain": [
       "'오늘은 교육 2알째 5번째 실습입니다,'"
      ]
     },
     "execution_count": 29,
     "metadata": {},
     "output_type": "execute_result"
    }
   ],
   "source": [
    "\"오늘은 교육 %d알째 %d번째 %s입니다,\" % (2, 5, \"실습\")"
   ]
  },
  {
   "cell_type": "code",
   "execution_count": null,
   "id": "539ff695",
   "metadata": {},
   "outputs": [],
   "source": [
    "\"모델의 정확도가 %d%% 입니다.\" % 90 #%를 문자열로 출력하고 싶을 때 %%"
   ]
  },
  {
   "cell_type": "code",
   "execution_count": 30,
   "id": "1cecb081",
   "metadata": {},
   "outputs": [
    {
     "name": "stdout",
     "output_type": "stream",
     "text": [
      "        hi\n",
      "   hellohi\n"
     ]
    }
   ],
   "source": [
    "print(\"%10s\" % \"hi\")\n",
    "print(\"%10s\" % \"hellohi\") #오른쪽 정렬"
   ]
  },
  {
   "cell_type": "code",
   "execution_count": 31,
   "id": "5a77d30a",
   "metadata": {},
   "outputs": [
    {
     "name": "stdout",
     "output_type": "stream",
     "text": [
      "      3.14\n",
      "      2.72\n"
     ]
    }
   ],
   "source": [
    "print(\"%10.2f\" % 3.141592)\n",
    "print(\"%10.2f\" % 2.718) #소수점 두번째 자리까지 출력"
   ]
  },
  {
   "cell_type": "code",
   "execution_count": 33,
   "id": "bebab12b",
   "metadata": {},
   "outputs": [
    {
     "data": {
      "text/plain": [
       "'5일 동안 훈련한 모델의 acc가 90% 입니다.'"
      ]
     },
     "execution_count": 33,
     "metadata": {},
     "output_type": "execute_result"
    }
   ],
   "source": [
    "\"{2}일 동안 훈련한 모델의 {0}가 {1}% 입니다.\".format(\"acc\", 90, 5) #format() 사용"
   ]
  },
  {
   "cell_type": "code",
   "execution_count": 34,
   "id": "23f07d47",
   "metadata": {},
   "outputs": [],
   "source": [
    "x=\"머신러닝딥러닝\""
   ]
  },
  {
   "cell_type": "code",
   "execution_count": 35,
   "id": "2bc5536f",
   "metadata": {},
   "outputs": [
    {
     "data": {
      "text/plain": [
       "2"
      ]
     },
     "execution_count": 35,
     "metadata": {},
     "output_type": "execute_result"
    }
   ],
   "source": [
    "x.count(\"러\") #러의 개수"
   ]
  },
  {
   "cell_type": "code",
   "execution_count": 36,
   "id": "3872e4c7",
   "metadata": {},
   "outputs": [
    {
     "data": {
      "text/plain": [
       "-1"
      ]
     },
     "execution_count": 36,
     "metadata": {},
     "output_type": "execute_result"
    }
   ],
   "source": [
    "x.find(\"라\") # -1 문자열 검색 실패"
   ]
  },
  {
   "cell_type": "code",
   "execution_count": 37,
   "id": "72acce81",
   "metadata": {},
   "outputs": [
    {
     "data": {
      "text/plain": [
       "2"
      ]
     },
     "execution_count": 37,
     "metadata": {},
     "output_type": "execute_result"
    }
   ],
   "source": [
    "x.find(\"러\") # 맨 왼쪽부터 검색해 나감 (권장)"
   ]
  },
  {
   "cell_type": "code",
   "execution_count": 38,
   "id": "5d492a28",
   "metadata": {},
   "outputs": [
    {
     "data": {
      "text/plain": [
       "2"
      ]
     },
     "execution_count": 38,
     "metadata": {},
     "output_type": "execute_result"
    }
   ],
   "source": [
    "x.index(\"러\") # 맨 왼쪽부터 검색해 나감"
   ]
  },
  {
   "cell_type": "code",
   "execution_count": 39,
   "id": "c7b931cb",
   "metadata": {},
   "outputs": [
    {
     "ename": "ValueError",
     "evalue": "substring not found",
     "output_type": "error",
     "traceback": [
      "\u001b[1;31m---------------------------------------------------------------------------\u001b[0m",
      "\u001b[1;31mValueError\u001b[0m                                Traceback (most recent call last)",
      "Cell \u001b[1;32mIn[39], line 1\u001b[0m\n\u001b[1;32m----> 1\u001b[0m x\u001b[38;5;241m.\u001b[39mindex(\u001b[38;5;124m\"\u001b[39m\u001b[38;5;124m라\u001b[39m\u001b[38;5;124m\"\u001b[39m)\n",
      "\u001b[1;31mValueError\u001b[0m: substring not found"
     ]
    }
   ],
   "source": [
    "x.index(\"라\") #검색 실패 시 에러"
   ]
  },
  {
   "cell_type": "code",
   "execution_count": 40,
   "id": "5347f836",
   "metadata": {},
   "outputs": [
    {
     "data": {
      "text/plain": [
       "'머신학습딥학습'"
      ]
     },
     "execution_count": 40,
     "metadata": {},
     "output_type": "execute_result"
    }
   ],
   "source": [
    "x=\"머신러닝딥러닝\"\n",
    "x.replace(\"러닝\",\"학습\") #x의 러닝을 학습으로 변환"
   ]
  },
  {
   "cell_type": "code",
   "execution_count": 41,
   "id": "61f61134",
   "metadata": {},
   "outputs": [
    {
     "data": {
      "text/plain": [
       "'머신런닝딥런닝'"
      ]
     },
     "execution_count": 41,
     "metadata": {},
     "output_type": "execute_result"
    }
   ],
   "source": [
    "trule=str.maketrans(\"러\",\"런\")\n",
    "x.translate(trule) #translate 함수를 사용하여 러를 런으로 변환"
   ]
  },
  {
   "cell_type": "code",
   "execution_count": 42,
   "id": "31ebc98c",
   "metadata": {},
   "outputs": [
    {
     "data": {
      "text/plain": [
       "['머신', '러닝', '딥', '러닝']"
      ]
     },
     "execution_count": 42,
     "metadata": {},
     "output_type": "execute_result"
    }
   ],
   "source": [
    "\"머신 러닝 딥 러닝\".split() #공백을 기준으로 분리"
   ]
  },
  {
   "cell_type": "code",
   "execution_count": 43,
   "id": "9c56c468",
   "metadata": {},
   "outputs": [
    {
     "data": {
      "text/plain": [
       "['머신 러닝', '딥 러닝']"
      ]
     },
     "execution_count": 43,
     "metadata": {},
     "output_type": "execute_result"
    }
   ],
   "source": [
    "\"머신 러닝@딥 러닝\".split(\"@\") #@을 기준으로 분리"
   ]
  },
  {
   "cell_type": "code",
   "execution_count": 44,
   "id": "a215da39",
   "metadata": {},
   "outputs": [
    {
     "data": {
      "text/plain": [
       "'x,y,z'"
      ]
     },
     "execution_count": 44,
     "metadata": {},
     "output_type": "execute_result"
    }
   ],
   "source": [
    "res=\",\".join(\"xyz\")\n",
    "res #join 함수 사용"
   ]
  },
  {
   "cell_type": "code",
   "execution_count": 45,
   "id": "aa4f1f06",
   "metadata": {},
   "outputs": [
    {
     "data": {
      "text/plain": [
       "'HELLO'"
      ]
     },
     "execution_count": 45,
     "metadata": {},
     "output_type": "execute_result"
    }
   ],
   "source": [
    "\"hello\".upper() #대문자로 출력"
   ]
  },
  {
   "cell_type": "code",
   "execution_count": 46,
   "id": "02ad43c5",
   "metadata": {},
   "outputs": [
    {
     "data": {
      "text/plain": [
       "'hello'"
      ]
     },
     "execution_count": 46,
     "metadata": {},
     "output_type": "execute_result"
    }
   ],
   "source": [
    "\"HELLO\".lower() #소문자로 출력"
   ]
  },
  {
   "cell_type": "code",
   "execution_count": 47,
   "id": "a1881ff6",
   "metadata": {},
   "outputs": [
    {
     "name": "stdout",
     "output_type": "stream",
     "text": [
      "python\n",
      "    python\n",
      "python    \n"
     ]
    }
   ],
   "source": [
    "print(\"    python    \".strip()) #모든 공백 제거\n",
    "print(\"    python    \".rstrip()) #오른쪽 공백만 제거\n",
    "print(\"    python    \".lstrip()) #왼쪽 공백만 제거"
   ]
  },
  {
   "cell_type": "code",
   "execution_count": 48,
   "id": "e1c96e20",
   "metadata": {},
   "outputs": [
    {
     "data": {
      "text/plain": [
       "'000hi'"
      ]
     },
     "execution_count": 48,
     "metadata": {},
     "output_type": "execute_result"
    }
   ],
   "source": [
    "\"hi\".zfill(5) #5개중 나머지를 0으로 채움"
   ]
  },
  {
   "cell_type": "code",
   "execution_count": 49,
   "id": "b0201906",
   "metadata": {},
   "outputs": [
    {
     "data": {
      "text/plain": [
       "0"
      ]
     },
     "execution_count": 49,
     "metadata": {},
     "output_type": "execute_result"
    }
   ],
   "source": [
    "\"apple pineapple\".find(\"ap\") #ap 위치 왼쪽부터 찾아 출력"
   ]
  },
  {
   "cell_type": "code",
   "execution_count": null,
   "id": "2ab5ebd9",
   "metadata": {},
   "outputs": [],
   "source": [
    "\"\"\"\n",
    "자료구조 : 자료를 저장 및 관리하는 방법\n",
    "알고리즘 : 문제를 해결하는 좋은 방법\n",
    "\n",
    "파이썬 자료구조 : 리스트, 딕셔너리, 집합, 튜플\n",
    "=> 리스트, 딕셔너리 가장 많이 사용\n",
    "프로그래밍 언어 알고리즘 : \n",
    "검색 : 순차, 이진, DFS, BFS ...\n",
    "정렬 : 선택, 버블, 퀵, 계수 ...\n",
    "----------------------------------------------------------------------------\n",
    "예측 /분류 모델(머신러닝, 딥런닝) : 의사결정트리, 랜덤포레스트, 신경망 ... \n",
    "\"\"\""
   ]
  }
 ],
 "metadata": {
  "kernelspec": {
   "display_name": "Python 3 (ipykernel)",
   "language": "python",
   "name": "python3"
  },
  "language_info": {
   "codemirror_mode": {
    "name": "ipython",
    "version": 3
   },
   "file_extension": ".py",
   "mimetype": "text/x-python",
   "name": "python",
   "nbconvert_exporter": "python",
   "pygments_lexer": "ipython3",
   "version": "3.11.4"
  }
 },
 "nbformat": 4,
 "nbformat_minor": 5
}
