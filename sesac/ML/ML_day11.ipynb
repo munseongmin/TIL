{
 "cells": [
  {
   "cell_type": "code",
   "execution_count": null,
   "id": "014c185d",
   "metadata": {},
   "outputs": [],
   "source": [
    "'''\n",
    "자연어 : 일상에서 사용하는 언어\n",
    "\n",
    "자연어 처리 : 음성인식, 요약, 변역, 감성분석, 분류, 질의응답, 챗봇 등\n",
    "\n",
    "환경 구성 : 아나콘다(머신러닝, 시각화, 데이터 분석, nltk(영어) 등)(기본 설치) + 텐서플로우, 젠심, 파이토치 , konlpy(한국어) (별도 설치)등\n",
    "\n",
    "1) 텍스트 전처리 (토큰화, 정제, 어간추출(스테밍), 불용어 제거, 정수 인코딩, 패딩)\n",
    "\n",
    "2) 텍스트의 수치 표현 (BoW, DTM/TDM, TF-IDF)\n",
    "\n",
    "3) 유사도(문서 / 단어 / 문장)\n",
    "\n",
    "4) 머신/딥러닝 모델 생성\n",
    "'''"
   ]
  },
  {
   "cell_type": "code",
   "execution_count": 1,
   "id": "17897b3b",
   "metadata": {
    "ExecuteTime": {
     "end_time": "2023-10-27T00:48:33.646100Z",
     "start_time": "2023-10-27T00:48:28.812143Z"
    }
   },
   "outputs": [
    {
     "name": "stdout",
     "output_type": "stream",
     "text": [
      "Requirement already satisfied: konlpy in c:\\users\\user\\anaconda3\\lib\\site-packages (0.6.0)Note: you may need to restart the kernel to use updated packages.\n",
      "\n",
      "Requirement already satisfied: JPype1>=0.7.0 in c:\\users\\user\\anaconda3\\lib\\site-packages (from konlpy) (1.4.1)\n",
      "Requirement already satisfied: lxml>=4.1.0 in c:\\users\\user\\anaconda3\\lib\\site-packages (from konlpy) (4.9.2)\n",
      "Requirement already satisfied: numpy>=1.6 in c:\\users\\user\\anaconda3\\lib\\site-packages (from konlpy) (1.24.3)\n",
      "Requirement already satisfied: packaging in c:\\users\\user\\anaconda3\\lib\\site-packages (from JPype1>=0.7.0->konlpy) (23.0)\n"
     ]
    }
   ],
   "source": [
    "pip install konlpy"
   ]
  },
  {
   "cell_type": "code",
   "execution_count": 2,
   "id": "28410286",
   "metadata": {
    "ExecuteTime": {
     "end_time": "2023-10-27T00:49:58.729614Z",
     "start_time": "2023-10-27T00:49:58.579604Z"
    }
   },
   "outputs": [],
   "source": [
    "from konlpy.tag import Okt"
   ]
  },
  {
   "cell_type": "code",
   "execution_count": 3,
   "id": "ddad81de",
   "metadata": {
    "ExecuteTime": {
     "end_time": "2023-10-27T00:50:12.490996Z",
     "start_time": "2023-10-27T00:50:11.795927Z"
    },
    "scrolled": true
   },
   "outputs": [],
   "source": [
    "okt=Okt()"
   ]
  },
  {
   "cell_type": "code",
   "execution_count": 4,
   "id": "abb6e3e9",
   "metadata": {
    "ExecuteTime": {
     "end_time": "2023-10-27T00:51:30.865179Z",
     "start_time": "2023-10-27T00:51:28.023842Z"
    }
   },
   "outputs": [
    {
     "name": "stdout",
     "output_type": "stream",
     "text": [
      "['단독', '입찰', '보다', '복수', '입찰', '의', '경우']\n"
     ]
    }
   ],
   "source": [
    "print(okt.morphs(u'단독입찰보다 복수입찰의 경우'))"
   ]
  },
  {
   "cell_type": "code",
   "execution_count": 5,
   "id": "8324e122",
   "metadata": {
    "ExecuteTime": {
     "end_time": "2023-10-27T00:51:57.923938Z",
     "start_time": "2023-10-27T00:51:57.319532Z"
    }
   },
   "outputs": [
    {
     "name": "stdout",
     "output_type": "stream",
     "text": [
      "['항공기', '체계', '종합', '개발', '경험']\n"
     ]
    }
   ],
   "source": [
    "print(okt.nouns(u'유일하게 항공기 체계 종합개발 경험을 갖고 있는 KAI는'))"
   ]
  },
  {
   "cell_type": "code",
   "execution_count": 6,
   "id": "591885a7",
   "metadata": {
    "ExecuteTime": {
     "end_time": "2023-10-27T00:52:42.230374Z",
     "start_time": "2023-10-27T00:52:42.218420Z"
    }
   },
   "outputs": [
    {
     "name": "stdout",
     "output_type": "stream",
     "text": [
      "[('이', 'Determiner'), ('것', 'Noun'), ('도', 'Josa'), ('되나욬', 'Noun'), ('ㅋㅋ', 'KoreanParticle')]\n"
     ]
    }
   ],
   "source": [
    "print(okt.pos(u'이것도 되나욬ㅋㅋ'))"
   ]
  },
  {
   "cell_type": "code",
   "execution_count": 7,
   "id": "4055ae37",
   "metadata": {
    "ExecuteTime": {
     "end_time": "2023-10-27T00:58:39.736126Z",
     "start_time": "2023-10-27T00:58:39.732535Z"
    }
   },
   "outputs": [],
   "source": [
    "from konlpy.tag import *"
   ]
  },
  {
   "cell_type": "code",
   "execution_count": 8,
   "id": "eb8e10a5",
   "metadata": {
    "ExecuteTime": {
     "end_time": "2023-10-27T00:59:10.348148Z",
     "start_time": "2023-10-27T00:59:10.277839Z"
    }
   },
   "outputs": [],
   "source": [
    "han=Hannanum()\n",
    "kkma=Kkma()"
   ]
  },
  {
   "cell_type": "code",
   "execution_count": 9,
   "id": "2eff7059",
   "metadata": {
    "ExecuteTime": {
     "end_time": "2023-10-27T01:00:19.313934Z",
     "start_time": "2023-10-27T01:00:19.279868Z"
    }
   },
   "outputs": [
    {
     "data": {
      "text/plain": [
       "[('아버지', 'Noun'), ('가방', 'Noun'), ('에', 'Josa'), ('들어가신다', 'Verb')]"
      ]
     },
     "execution_count": 9,
     "metadata": {},
     "output_type": "execute_result"
    }
   ],
   "source": [
    "okt.pos('아버지가방에들어가신다')"
   ]
  },
  {
   "cell_type": "code",
   "execution_count": 10,
   "id": "614c64c5",
   "metadata": {
    "ExecuteTime": {
     "end_time": "2023-10-27T01:00:44.467942Z",
     "start_time": "2023-10-27T01:00:43.201220Z"
    }
   },
   "outputs": [
    {
     "data": {
      "text/plain": [
       "[('아버지가방에들어가', 'N'), ('이', 'J'), ('시ㄴ다', 'E')]"
      ]
     },
     "execution_count": 10,
     "metadata": {},
     "output_type": "execute_result"
    }
   ],
   "source": [
    "han.pos('아버지가방에들어가신다')"
   ]
  },
  {
   "cell_type": "code",
   "execution_count": 11,
   "id": "9b20db35",
   "metadata": {
    "ExecuteTime": {
     "end_time": "2023-10-27T01:00:52.396476Z",
     "start_time": "2023-10-27T01:00:45.721060Z"
    }
   },
   "outputs": [
    {
     "data": {
      "text/plain": [
       "[('아버지', 'NNG'),\n",
       " ('가방', 'NNG'),\n",
       " ('에', 'JKM'),\n",
       " ('들어가', 'VV'),\n",
       " ('시', 'EPH'),\n",
       " ('ㄴ다', 'EFN')]"
      ]
     },
     "execution_count": 11,
     "metadata": {},
     "output_type": "execute_result"
    }
   ],
   "source": [
    "kkma.pos('아버지가방에들어가신다')"
   ]
  },
  {
   "cell_type": "code",
   "execution_count": 12,
   "id": "5e944bb1",
   "metadata": {
    "ExecuteTime": {
     "end_time": "2023-10-27T01:03:07.393401Z",
     "start_time": "2023-10-27T01:03:07.374062Z"
    }
   },
   "outputs": [
    {
     "data": {
      "text/plain": [
       "[('정부', 'Noun'),\n",
       " ('가', 'Josa'),\n",
       " ('발표', 'Noun'),\n",
       " ('하는', 'Verb'),\n",
       " ('물가상승률', 'Noun'),\n",
       " ('과', 'Josa'),\n",
       " ('소비자', 'Noun'),\n",
       " ('가', 'Josa'),\n",
       " ('느끼는', 'Verb'),\n",
       " ('물가상승률', 'Noun'),\n",
       " ('은', 'Josa'),\n",
       " ('다르다', 'Adjective'),\n",
       " ('.', 'Punctuation')]"
      ]
     },
     "execution_count": 12,
     "metadata": {},
     "output_type": "execute_result"
    }
   ],
   "source": [
    "okt.pos(\"정부가 발표하는 물가상승률과 소비자가 느끼는 물가상승률은 다르다.\")"
   ]
  },
  {
   "cell_type": "code",
   "execution_count": 14,
   "id": "93686457",
   "metadata": {
    "ExecuteTime": {
     "end_time": "2023-10-27T01:03:22.657480Z",
     "start_time": "2023-10-27T01:03:22.645611Z"
    }
   },
   "outputs": [
    {
     "data": {
      "text/plain": [
       "[('정부', 'N'),\n",
       " ('가', 'J'),\n",
       " ('발표', 'N'),\n",
       " ('하', 'X'),\n",
       " ('는', 'E'),\n",
       " ('물가상승률', 'N'),\n",
       " ('과', 'J'),\n",
       " ('소비자', 'N'),\n",
       " ('가', 'J'),\n",
       " ('느끼', 'P'),\n",
       " ('는', 'E'),\n",
       " ('물가상승률', 'N'),\n",
       " ('은', 'J'),\n",
       " ('다르', 'P'),\n",
       " ('다', 'E'),\n",
       " ('.', 'S')]"
      ]
     },
     "execution_count": 14,
     "metadata": {},
     "output_type": "execute_result"
    }
   ],
   "source": [
    "han.pos(\"정부가 발표하는 물가상승률과 소비자가 느끼는 물가상승률은 다르다.\")"
   ]
  },
  {
   "cell_type": "code",
   "execution_count": 13,
   "id": "c4eb0204",
   "metadata": {
    "ExecuteTime": {
     "end_time": "2023-10-27T01:03:21.210381Z",
     "start_time": "2023-10-27T01:03:21.142368Z"
    }
   },
   "outputs": [
    {
     "data": {
      "text/plain": [
       "[('정부', 'NNG'),\n",
       " ('가', 'JKS'),\n",
       " ('발표', 'NNG'),\n",
       " ('하', 'XSV'),\n",
       " ('는', 'ETD'),\n",
       " ('물가', 'NNG'),\n",
       " ('상승률', 'NNG'),\n",
       " ('과', 'JC'),\n",
       " ('소비자', 'NNG'),\n",
       " ('가', 'JKS'),\n",
       " ('느끼', 'VV'),\n",
       " ('는', 'ETD'),\n",
       " ('물가', 'NNG'),\n",
       " ('상승률', 'NNG'),\n",
       " ('은', 'JX'),\n",
       " ('다르', 'VA'),\n",
       " ('다', 'EFN'),\n",
       " ('.', 'SF')]"
      ]
     },
     "execution_count": 13,
     "metadata": {},
     "output_type": "execute_result"
    }
   ],
   "source": [
    "kkma.pos(\"정부가 발표하는 물가상승률과 소비자가 느끼는 물가상승률은 다르다.\")"
   ]
  },
  {
   "cell_type": "code",
   "execution_count": null,
   "id": "3c146f3e",
   "metadata": {},
   "outputs": [],
   "source": [
    "'''\n",
    "df('바나나') = 2\n",
    "\n",
    "단어의 갯수가 아니라 몇개의 문서에서 출력됬는가\n",
    "\n",
    "tf*idf = 문서에서 각 단어의 중요도를 나타낸 행렬\n",
    "\n",
    "각 문서에서 중요 단어가 무엇인지 알고자 함 => 키워드 => 토픽 모델링\n",
    "\n",
    "tfidf는 단어 중요도\n",
    "\n",
    "tfidf = tf * idf\n",
    "\n",
    "df가 크다 => 많은 문서에서 등장 => 단어의 중요도가 떨어짐 => df의 수가 작아져야 tfidf 값이 커짐 => df의 역수\n",
    "\n",
    "N = 문서의 개수, idf = log(N / df(w) + 1), log = idf의 값이 기하급수적으로 커지는 것 방지\n",
    "\n",
    "tfidf = tf * log(N / df(w) + 1)(단어(w) 등장 안했을 때 0이 되는 것을 방지)\n",
    "\n",
    "'''"
   ]
  },
  {
   "cell_type": "code",
   "execution_count": 15,
   "id": "a072ad29",
   "metadata": {
    "ExecuteTime": {
     "end_time": "2023-10-27T01:05:44.462240Z",
     "start_time": "2023-10-27T01:05:44.458669Z"
    }
   },
   "outputs": [],
   "source": [
    "from math import log \n",
    "docs = [\n",
    "  '먹고 싶은 사과',\n",
    "  '먹고 싶은 바나나',\n",
    "  '길고 노란 바나나 바나나',\n",
    "  '저는 과일이 좋아요'\n",
    "]"
   ]
  },
  {
   "cell_type": "code",
   "execution_count": 18,
   "id": "78d21659",
   "metadata": {
    "ExecuteTime": {
     "end_time": "2023-10-27T01:08:32.051935Z",
     "start_time": "2023-10-27T01:08:32.046441Z"
    }
   },
   "outputs": [
    {
     "data": {
      "text/plain": [
       "['먹고', '노란', '과일이', '싶은', '사과', '길고', '좋아요', '저는', '바나나']"
      ]
     },
     "execution_count": 18,
     "metadata": {},
     "output_type": "execute_result"
    }
   ],
   "source": [
    "vocab=list(set([w for doc in docs for w in doc.split()]))\n",
    "vocab"
   ]
  },
  {
   "cell_type": "code",
   "execution_count": 19,
   "id": "a18a44bf",
   "metadata": {
    "ExecuteTime": {
     "end_time": "2023-10-27T01:08:45.484435Z",
     "start_time": "2023-10-27T01:08:45.481305Z"
    }
   },
   "outputs": [],
   "source": [
    "vocab.sort()"
   ]
  },
  {
   "cell_type": "code",
   "execution_count": 20,
   "id": "4b13b4ce",
   "metadata": {
    "ExecuteTime": {
     "end_time": "2023-10-27T01:08:50.523757Z",
     "start_time": "2023-10-27T01:08:50.519433Z"
    }
   },
   "outputs": [
    {
     "data": {
      "text/plain": [
       "['과일이', '길고', '노란', '먹고', '바나나', '사과', '싶은', '저는', '좋아요']"
      ]
     },
     "execution_count": 20,
     "metadata": {},
     "output_type": "execute_result"
    }
   ],
   "source": [
    "vocab #코퍼스(말뭉치) : 전체 문서에 등장하는 단어 집합"
   ]
  },
  {
   "cell_type": "code",
   "execution_count": 23,
   "id": "140acba0",
   "metadata": {
    "ExecuteTime": {
     "end_time": "2023-10-27T01:11:27.241687Z",
     "start_time": "2023-10-27T01:11:25.082614Z"
    }
   },
   "outputs": [],
   "source": [
    "import pandas as pd"
   ]
  },
  {
   "cell_type": "code",
   "execution_count": 21,
   "id": "238b0101",
   "metadata": {
    "ExecuteTime": {
     "end_time": "2023-10-27T01:11:00.975204Z",
     "start_time": "2023-10-27T01:11:00.971005Z"
    }
   },
   "outputs": [],
   "source": [
    "N = len(docs) \n",
    "\n",
    "def tf(t, d):\n",
    "  return d.count(t)\n",
    "\n",
    "def idf(t):\n",
    "  df = 0\n",
    "  for doc in docs:\n",
    "    df += t in doc\n",
    "  return log(N/(df+1))\n",
    "\n",
    "def tfidf(t, d):\n",
    "  return tf(t,d)* idf(t)"
   ]
  },
  {
   "cell_type": "code",
   "execution_count": 24,
   "id": "11e8b6e4",
   "metadata": {
    "ExecuteTime": {
     "end_time": "2023-10-27T01:11:27.250505Z",
     "start_time": "2023-10-27T01:11:27.242680Z"
    }
   },
   "outputs": [],
   "source": [
    "result = []\n",
    "\n",
    "# 각 문서에 대해서 아래 연산을 반복\n",
    "for i in range(N):\n",
    "  result.append([]) #[[]]\n",
    "  d = docs[i] #'먹고 싶은 사과'\n",
    "  for j in range(len(vocab)): # 9번 반복\n",
    "    t = vocab[j] #'과일이'\n",
    "    result[-1].append(tf(t, d))\n",
    "\n",
    "tf_ = pd.DataFrame(result, columns = vocab)"
   ]
  },
  {
   "cell_type": "code",
   "execution_count": 25,
   "id": "1aafe3f1",
   "metadata": {
    "ExecuteTime": {
     "end_time": "2023-10-27T01:11:30.721437Z",
     "start_time": "2023-10-27T01:11:30.652027Z"
    }
   },
   "outputs": [
    {
     "data": {
      "text/html": [
       "<div>\n",
       "<style scoped>\n",
       "    .dataframe tbody tr th:only-of-type {\n",
       "        vertical-align: middle;\n",
       "    }\n",
       "\n",
       "    .dataframe tbody tr th {\n",
       "        vertical-align: top;\n",
       "    }\n",
       "\n",
       "    .dataframe thead th {\n",
       "        text-align: right;\n",
       "    }\n",
       "</style>\n",
       "<table border=\"1\" class=\"dataframe\">\n",
       "  <thead>\n",
       "    <tr style=\"text-align: right;\">\n",
       "      <th></th>\n",
       "      <th>과일이</th>\n",
       "      <th>길고</th>\n",
       "      <th>노란</th>\n",
       "      <th>먹고</th>\n",
       "      <th>바나나</th>\n",
       "      <th>사과</th>\n",
       "      <th>싶은</th>\n",
       "      <th>저는</th>\n",
       "      <th>좋아요</th>\n",
       "    </tr>\n",
       "  </thead>\n",
       "  <tbody>\n",
       "    <tr>\n",
       "      <th>0</th>\n",
       "      <td>0</td>\n",
       "      <td>0</td>\n",
       "      <td>0</td>\n",
       "      <td>1</td>\n",
       "      <td>0</td>\n",
       "      <td>1</td>\n",
       "      <td>1</td>\n",
       "      <td>0</td>\n",
       "      <td>0</td>\n",
       "    </tr>\n",
       "    <tr>\n",
       "      <th>1</th>\n",
       "      <td>0</td>\n",
       "      <td>0</td>\n",
       "      <td>0</td>\n",
       "      <td>1</td>\n",
       "      <td>1</td>\n",
       "      <td>0</td>\n",
       "      <td>1</td>\n",
       "      <td>0</td>\n",
       "      <td>0</td>\n",
       "    </tr>\n",
       "    <tr>\n",
       "      <th>2</th>\n",
       "      <td>0</td>\n",
       "      <td>1</td>\n",
       "      <td>1</td>\n",
       "      <td>0</td>\n",
       "      <td>2</td>\n",
       "      <td>0</td>\n",
       "      <td>0</td>\n",
       "      <td>0</td>\n",
       "      <td>0</td>\n",
       "    </tr>\n",
       "    <tr>\n",
       "      <th>3</th>\n",
       "      <td>1</td>\n",
       "      <td>0</td>\n",
       "      <td>0</td>\n",
       "      <td>0</td>\n",
       "      <td>0</td>\n",
       "      <td>0</td>\n",
       "      <td>0</td>\n",
       "      <td>1</td>\n",
       "      <td>1</td>\n",
       "    </tr>\n",
       "  </tbody>\n",
       "</table>\n",
       "</div>"
      ],
      "text/plain": [
       "   과일이  길고  노란  먹고  바나나  사과  싶은  저는  좋아요\n",
       "0    0   0   0   1    0   1   1   0    0\n",
       "1    0   0   0   1    1   0   1   0    0\n",
       "2    0   1   1   0    2   0   0   0    0\n",
       "3    1   0   0   0    0   0   0   1    1"
      ]
     },
     "execution_count": 25,
     "metadata": {},
     "output_type": "execute_result"
    }
   ],
   "source": [
    "tf_ # tf 행렬 = DTM(문서 단어 행렬), 행 : 문서집합, 열 : 단어, 데이터 : 빈도수"
   ]
  },
  {
   "cell_type": "code",
   "execution_count": 26,
   "id": "e7d1632a",
   "metadata": {
    "ExecuteTime": {
     "end_time": "2023-10-27T01:17:16.637941Z",
     "start_time": "2023-10-27T01:17:16.634707Z"
    }
   },
   "outputs": [],
   "source": [
    "#DTM 만들기\n",
    "from sklearn.feature_extraction.text import CountVectorizer"
   ]
  },
  {
   "cell_type": "code",
   "execution_count": 27,
   "id": "5ec85ec9",
   "metadata": {
    "ExecuteTime": {
     "end_time": "2023-10-27T01:17:31.135521Z",
     "start_time": "2023-10-27T01:17:31.132084Z"
    }
   },
   "outputs": [],
   "source": [
    "vec=CountVectorizer()"
   ]
  },
  {
   "cell_type": "code",
   "execution_count": 28,
   "id": "aa778cfa",
   "metadata": {
    "ExecuteTime": {
     "end_time": "2023-10-27T01:17:59.494016Z",
     "start_time": "2023-10-27T01:17:59.483243Z"
    }
   },
   "outputs": [
    {
     "data": {
      "text/plain": [
       "array([[0, 0, 0, 1, 0, 1, 1, 0, 0],\n",
       "       [0, 0, 0, 1, 1, 0, 1, 0, 0],\n",
       "       [0, 1, 1, 0, 2, 0, 0, 0, 0],\n",
       "       [1, 0, 0, 0, 0, 0, 0, 1, 1]], dtype=int64)"
      ]
     },
     "execution_count": 28,
     "metadata": {},
     "output_type": "execute_result"
    }
   ],
   "source": [
    "vec.fit_transform(docs).toarray()"
   ]
  },
  {
   "cell_type": "code",
   "execution_count": 34,
   "id": "1a5b70e4",
   "metadata": {
    "ExecuteTime": {
     "end_time": "2023-10-27T01:19:38.250941Z",
     "start_time": "2023-10-27T01:19:38.246392Z"
    }
   },
   "outputs": [
    {
     "data": {
      "text/plain": [
       "{'먹고': 3,\n",
       " '싶은': 6,\n",
       " '사과': 5,\n",
       " '바나나': 4,\n",
       " '길고': 1,\n",
       " '노란': 2,\n",
       " '저는': 7,\n",
       " '과일이': 0,\n",
       " '좋아요': 8}"
      ]
     },
     "execution_count": 34,
     "metadata": {},
     "output_type": "execute_result"
    }
   ],
   "source": [
    "vec.vocabulary_ #인덱스 별 이름"
   ]
  },
  {
   "cell_type": "code",
   "execution_count": 35,
   "id": "98c20499",
   "metadata": {
    "ExecuteTime": {
     "end_time": "2023-10-27T02:05:23.185281Z",
     "start_time": "2023-10-27T02:05:23.181876Z"
    }
   },
   "outputs": [],
   "source": [
    "#tf-idf 행렬 구하는 법\n",
    "from sklearn.feature_extraction.text import TfidfVectorizer"
   ]
  },
  {
   "cell_type": "code",
   "execution_count": 36,
   "id": "e0b9d1e1",
   "metadata": {
    "ExecuteTime": {
     "end_time": "2023-10-27T02:05:31.172045Z",
     "start_time": "2023-10-27T02:05:31.165359Z"
    }
   },
   "outputs": [
    {
     "data": {
      "text/html": [
       "<div>\n",
       "<style scoped>\n",
       "    .dataframe tbody tr th:only-of-type {\n",
       "        vertical-align: middle;\n",
       "    }\n",
       "\n",
       "    .dataframe tbody tr th {\n",
       "        vertical-align: top;\n",
       "    }\n",
       "\n",
       "    .dataframe thead th {\n",
       "        text-align: right;\n",
       "    }\n",
       "</style>\n",
       "<table border=\"1\" class=\"dataframe\">\n",
       "  <thead>\n",
       "    <tr style=\"text-align: right;\">\n",
       "      <th></th>\n",
       "      <th>IDF</th>\n",
       "    </tr>\n",
       "  </thead>\n",
       "  <tbody>\n",
       "    <tr>\n",
       "      <th>과일이</th>\n",
       "      <td>0.693147</td>\n",
       "    </tr>\n",
       "    <tr>\n",
       "      <th>길고</th>\n",
       "      <td>0.693147</td>\n",
       "    </tr>\n",
       "    <tr>\n",
       "      <th>노란</th>\n",
       "      <td>0.693147</td>\n",
       "    </tr>\n",
       "    <tr>\n",
       "      <th>먹고</th>\n",
       "      <td>0.287682</td>\n",
       "    </tr>\n",
       "    <tr>\n",
       "      <th>바나나</th>\n",
       "      <td>0.287682</td>\n",
       "    </tr>\n",
       "    <tr>\n",
       "      <th>사과</th>\n",
       "      <td>0.693147</td>\n",
       "    </tr>\n",
       "    <tr>\n",
       "      <th>싶은</th>\n",
       "      <td>0.287682</td>\n",
       "    </tr>\n",
       "    <tr>\n",
       "      <th>저는</th>\n",
       "      <td>0.693147</td>\n",
       "    </tr>\n",
       "    <tr>\n",
       "      <th>좋아요</th>\n",
       "      <td>0.693147</td>\n",
       "    </tr>\n",
       "  </tbody>\n",
       "</table>\n",
       "</div>"
      ],
      "text/plain": [
       "          IDF\n",
       "과일이  0.693147\n",
       "길고   0.693147\n",
       "노란   0.693147\n",
       "먹고   0.287682\n",
       "바나나  0.287682\n",
       "사과   0.693147\n",
       "싶은   0.287682\n",
       "저는   0.693147\n",
       "좋아요  0.693147"
      ]
     },
     "execution_count": 36,
     "metadata": {},
     "output_type": "execute_result"
    }
   ],
   "source": [
    "result = []\n",
    "for j in range(len(vocab)):\n",
    "    t = vocab[j]\n",
    "    result.append(idf(t))\n",
    "\n",
    "idf_ = pd.DataFrame(result, index=vocab, columns=[\"IDF\"])\n",
    "idf_\n",
    "#idf 값이 작을 수록 중요도가 떨어짐 -> 많이 등장"
   ]
  },
  {
   "cell_type": "code",
   "execution_count": 37,
   "id": "0b3f2357",
   "metadata": {
    "ExecuteTime": {
     "end_time": "2023-10-27T02:08:41.006656Z",
     "start_time": "2023-10-27T02:08:40.999674Z"
    }
   },
   "outputs": [
    {
     "data": {
      "text/html": [
       "<div>\n",
       "<style scoped>\n",
       "    .dataframe tbody tr th:only-of-type {\n",
       "        vertical-align: middle;\n",
       "    }\n",
       "\n",
       "    .dataframe tbody tr th {\n",
       "        vertical-align: top;\n",
       "    }\n",
       "\n",
       "    .dataframe thead th {\n",
       "        text-align: right;\n",
       "    }\n",
       "</style>\n",
       "<table border=\"1\" class=\"dataframe\">\n",
       "  <thead>\n",
       "    <tr style=\"text-align: right;\">\n",
       "      <th></th>\n",
       "      <th>과일이</th>\n",
       "      <th>길고</th>\n",
       "      <th>노란</th>\n",
       "      <th>먹고</th>\n",
       "      <th>바나나</th>\n",
       "      <th>사과</th>\n",
       "      <th>싶은</th>\n",
       "      <th>저는</th>\n",
       "      <th>좋아요</th>\n",
       "    </tr>\n",
       "  </thead>\n",
       "  <tbody>\n",
       "    <tr>\n",
       "      <th>0</th>\n",
       "      <td>0</td>\n",
       "      <td>0</td>\n",
       "      <td>0</td>\n",
       "      <td>1</td>\n",
       "      <td>0</td>\n",
       "      <td>1</td>\n",
       "      <td>1</td>\n",
       "      <td>0</td>\n",
       "      <td>0</td>\n",
       "    </tr>\n",
       "    <tr>\n",
       "      <th>1</th>\n",
       "      <td>0</td>\n",
       "      <td>0</td>\n",
       "      <td>0</td>\n",
       "      <td>1</td>\n",
       "      <td>1</td>\n",
       "      <td>0</td>\n",
       "      <td>1</td>\n",
       "      <td>0</td>\n",
       "      <td>0</td>\n",
       "    </tr>\n",
       "    <tr>\n",
       "      <th>2</th>\n",
       "      <td>0</td>\n",
       "      <td>1</td>\n",
       "      <td>1</td>\n",
       "      <td>0</td>\n",
       "      <td>2</td>\n",
       "      <td>0</td>\n",
       "      <td>0</td>\n",
       "      <td>0</td>\n",
       "      <td>0</td>\n",
       "    </tr>\n",
       "    <tr>\n",
       "      <th>3</th>\n",
       "      <td>1</td>\n",
       "      <td>0</td>\n",
       "      <td>0</td>\n",
       "      <td>0</td>\n",
       "      <td>0</td>\n",
       "      <td>0</td>\n",
       "      <td>0</td>\n",
       "      <td>1</td>\n",
       "      <td>1</td>\n",
       "    </tr>\n",
       "  </tbody>\n",
       "</table>\n",
       "</div>"
      ],
      "text/plain": [
       "   과일이  길고  노란  먹고  바나나  사과  싶은  저는  좋아요\n",
       "0    0   0   0   1    0   1   1   0    0\n",
       "1    0   0   0   1    1   0   1   0    0\n",
       "2    0   1   1   0    2   0   0   0    0\n",
       "3    1   0   0   0    0   0   0   1    1"
      ]
     },
     "execution_count": 37,
     "metadata": {},
     "output_type": "execute_result"
    }
   ],
   "source": [
    "tf_"
   ]
  },
  {
   "cell_type": "code",
   "execution_count": 38,
   "id": "b085557b",
   "metadata": {
    "ExecuteTime": {
     "end_time": "2023-10-27T02:09:34.380876Z",
     "start_time": "2023-10-27T02:09:34.367723Z"
    }
   },
   "outputs": [
    {
     "data": {
      "text/html": [
       "<div>\n",
       "<style scoped>\n",
       "    .dataframe tbody tr th:only-of-type {\n",
       "        vertical-align: middle;\n",
       "    }\n",
       "\n",
       "    .dataframe tbody tr th {\n",
       "        vertical-align: top;\n",
       "    }\n",
       "\n",
       "    .dataframe thead th {\n",
       "        text-align: right;\n",
       "    }\n",
       "</style>\n",
       "<table border=\"1\" class=\"dataframe\">\n",
       "  <thead>\n",
       "    <tr style=\"text-align: right;\">\n",
       "      <th></th>\n",
       "      <th>과일이</th>\n",
       "      <th>길고</th>\n",
       "      <th>노란</th>\n",
       "      <th>먹고</th>\n",
       "      <th>바나나</th>\n",
       "      <th>사과</th>\n",
       "      <th>싶은</th>\n",
       "      <th>저는</th>\n",
       "      <th>좋아요</th>\n",
       "    </tr>\n",
       "  </thead>\n",
       "  <tbody>\n",
       "    <tr>\n",
       "      <th>0</th>\n",
       "      <td>0.000000</td>\n",
       "      <td>0.000000</td>\n",
       "      <td>0.000000</td>\n",
       "      <td>0.287682</td>\n",
       "      <td>0.000000</td>\n",
       "      <td>0.693147</td>\n",
       "      <td>0.287682</td>\n",
       "      <td>0.000000</td>\n",
       "      <td>0.000000</td>\n",
       "    </tr>\n",
       "    <tr>\n",
       "      <th>1</th>\n",
       "      <td>0.000000</td>\n",
       "      <td>0.000000</td>\n",
       "      <td>0.000000</td>\n",
       "      <td>0.287682</td>\n",
       "      <td>0.287682</td>\n",
       "      <td>0.000000</td>\n",
       "      <td>0.287682</td>\n",
       "      <td>0.000000</td>\n",
       "      <td>0.000000</td>\n",
       "    </tr>\n",
       "    <tr>\n",
       "      <th>2</th>\n",
       "      <td>0.000000</td>\n",
       "      <td>0.693147</td>\n",
       "      <td>0.693147</td>\n",
       "      <td>0.000000</td>\n",
       "      <td>0.575364</td>\n",
       "      <td>0.000000</td>\n",
       "      <td>0.000000</td>\n",
       "      <td>0.000000</td>\n",
       "      <td>0.000000</td>\n",
       "    </tr>\n",
       "    <tr>\n",
       "      <th>3</th>\n",
       "      <td>0.693147</td>\n",
       "      <td>0.000000</td>\n",
       "      <td>0.000000</td>\n",
       "      <td>0.000000</td>\n",
       "      <td>0.000000</td>\n",
       "      <td>0.000000</td>\n",
       "      <td>0.000000</td>\n",
       "      <td>0.693147</td>\n",
       "      <td>0.693147</td>\n",
       "    </tr>\n",
       "  </tbody>\n",
       "</table>\n",
       "</div>"
      ],
      "text/plain": [
       "        과일이        길고        노란        먹고       바나나        사과        싶은  \\\n",
       "0  0.000000  0.000000  0.000000  0.287682  0.000000  0.693147  0.287682   \n",
       "1  0.000000  0.000000  0.000000  0.287682  0.287682  0.000000  0.287682   \n",
       "2  0.000000  0.693147  0.693147  0.000000  0.575364  0.000000  0.000000   \n",
       "3  0.693147  0.000000  0.000000  0.000000  0.000000  0.000000  0.000000   \n",
       "\n",
       "         저는       좋아요  \n",
       "0  0.000000  0.000000  \n",
       "1  0.000000  0.000000  \n",
       "2  0.000000  0.000000  \n",
       "3  0.693147  0.693147  "
      ]
     },
     "execution_count": 38,
     "metadata": {},
     "output_type": "execute_result"
    }
   ],
   "source": [
    "result = []\n",
    "for i in range(N):\n",
    "  result.append([])\n",
    "  d = docs[i]\n",
    "  for j in range(len(vocab)):\n",
    "    t = vocab[j]\n",
    "    result[-1].append(tfidf(t,d))\n",
    "\n",
    "tfidf_ = pd.DataFrame(result, columns = vocab)\n",
    "tfidf_"
   ]
  },
  {
   "cell_type": "code",
   "execution_count": null,
   "id": "7578ed30",
   "metadata": {},
   "outputs": [],
   "source": [
    "'''\n",
    "0. 데이터 전처리\n",
    "\n",
    "1. 각 문서(영화)에서 중요 단어 추출\n",
    "\n",
    "2. 코사인 유삳도 기반 가장 유사한 문서(영화) 검색\n",
    "'''"
   ]
  },
  {
   "cell_type": "code",
   "execution_count": 40,
   "id": "b5f7a4f1",
   "metadata": {
    "ExecuteTime": {
     "end_time": "2023-10-27T02:18:53.877304Z",
     "start_time": "2023-10-27T02:17:49.900282Z"
    }
   },
   "outputs": [
    {
     "name": "stdout",
     "output_type": "stream",
     "text": [
      "Collecting tensorflow\n",
      "  Obtaining dependency information for tensorflow from https://files.pythonhosted.org/packages/80/6f/57d36f6507e432d7fc1956b2e9e8530c5c2d2bfcd8821bcbfae271cd6688/tensorflow-2.14.0-cp311-cp311-win_amd64.whl.metadata\n",
      "  Downloading tensorflow-2.14.0-cp311-cp311-win_amd64.whl.metadata (3.3 kB)\n",
      "Collecting tensorflow-intel==2.14.0 (from tensorflow)\n",
      "  Obtaining dependency information for tensorflow-intel==2.14.0 from https://files.pythonhosted.org/packages/ad/6e/1bfe367855dd87467564f7bf9fa14f3b17889988e79598bc37bf18f5ffb6/tensorflow_intel-2.14.0-cp311-cp311-win_amd64.whl.metadata\n",
      "  Downloading tensorflow_intel-2.14.0-cp311-cp311-win_amd64.whl.metadata (4.8 kB)\n",
      "Collecting absl-py>=1.0.0 (from tensorflow-intel==2.14.0->tensorflow)\n",
      "  Obtaining dependency information for absl-py>=1.0.0 from https://files.pythonhosted.org/packages/01/e4/dc0a1dcc4e74e08d7abedab278c795eef54a224363bb18f5692f416d834f/absl_py-2.0.0-py3-none-any.whl.metadata\n",
      "  Downloading absl_py-2.0.0-py3-none-any.whl.metadata (2.3 kB)\n",
      "Collecting astunparse>=1.6.0 (from tensorflow-intel==2.14.0->tensorflow)\n",
      "  Downloading astunparse-1.6.3-py2.py3-none-any.whl (12 kB)\n",
      "Collecting flatbuffers>=23.5.26 (from tensorflow-intel==2.14.0->tensorflow)\n",
      "  Obtaining dependency information for flatbuffers>=23.5.26 from https://files.pythonhosted.org/packages/6f/12/d5c79ee252793ffe845d58a913197bfa02ae9a0b5c9bc3dc4b58d477b9e7/flatbuffers-23.5.26-py2.py3-none-any.whl.metadata\n",
      "  Downloading flatbuffers-23.5.26-py2.py3-none-any.whl.metadata (850 bytes)\n",
      "Collecting gast!=0.5.0,!=0.5.1,!=0.5.2,>=0.2.1 (from tensorflow-intel==2.14.0->tensorflow)\n",
      "  Downloading gast-0.5.4-py3-none-any.whl (19 kB)\n",
      "Collecting google-pasta>=0.1.1 (from tensorflow-intel==2.14.0->tensorflow)\n",
      "  Downloading google_pasta-0.2.0-py3-none-any.whl (57 kB)\n",
      "     ---------------------------------------- 0.0/57.5 kB ? eta -:--:--\n",
      "     ---------------------------------------- 57.5/57.5 kB 3.0 MB/s eta 0:00:00\n",
      "Requirement already satisfied: h5py>=2.9.0 in c:\\users\\user\\anaconda3\\lib\\site-packages (from tensorflow-intel==2.14.0->tensorflow) (3.7.0)\n",
      "Collecting libclang>=13.0.0 (from tensorflow-intel==2.14.0->tensorflow)\n",
      "  Obtaining dependency information for libclang>=13.0.0 from https://files.pythonhosted.org/packages/02/8c/dc970bc00867fe290e8c8a7befa1635af716a9ebdfe3fb9dce0ca4b522ce/libclang-16.0.6-py2.py3-none-win_amd64.whl.metadata\n",
      "  Downloading libclang-16.0.6-py2.py3-none-win_amd64.whl.metadata (5.3 kB)\n",
      "Collecting ml-dtypes==0.2.0 (from tensorflow-intel==2.14.0->tensorflow)\n",
      "  Obtaining dependency information for ml-dtypes==0.2.0 from https://files.pythonhosted.org/packages/08/89/c727fde1a3d12586e0b8c01abf53754707d76beaa9987640e70807d4545f/ml_dtypes-0.2.0-cp311-cp311-win_amd64.whl.metadata\n",
      "  Downloading ml_dtypes-0.2.0-cp311-cp311-win_amd64.whl.metadata (20 kB)\n",
      "Requirement already satisfied: numpy>=1.23.5 in c:\\users\\user\\anaconda3\\lib\\site-packages (from tensorflow-intel==2.14.0->tensorflow) (1.24.3)\n",
      "Collecting opt-einsum>=2.3.2 (from tensorflow-intel==2.14.0->tensorflow)\n",
      "  Downloading opt_einsum-3.3.0-py3-none-any.whl (65 kB)\n",
      "     ---------------------------------------- 0.0/65.5 kB ? eta -:--:--\n",
      "     ------------------------------------- -- 61.4/65.5 kB ? eta -:--:--\n",
      "     ------------------------------------- -- 61.4/65.5 kB ? eta -:--:--\n",
      "     -------------------------------------- 65.5/65.5 kB 587.7 kB/s eta 0:00:00\n",
      "Requirement already satisfied: packaging in c:\\users\\user\\anaconda3\\lib\\site-packages (from tensorflow-intel==2.14.0->tensorflow) (23.0)\n",
      "Collecting protobuf!=4.21.0,!=4.21.1,!=4.21.2,!=4.21.3,!=4.21.4,!=4.21.5,<5.0.0dev,>=3.20.3 (from tensorflow-intel==2.14.0->tensorflow)\n",
      "  Obtaining dependency information for protobuf!=4.21.0,!=4.21.1,!=4.21.2,!=4.21.3,!=4.21.4,!=4.21.5,<5.0.0dev,>=3.20.3 from https://files.pythonhosted.org/packages/c2/59/f89c04923d68595d359f4cd7adbbdf5e5d791257945f8873d88b2fd1f979/protobuf-4.24.4-cp310-abi3-win_amd64.whl.metadata\n",
      "  Downloading protobuf-4.24.4-cp310-abi3-win_amd64.whl.metadata (540 bytes)\n",
      "Requirement already satisfied: setuptools in c:\\users\\user\\anaconda3\\lib\\site-packages (from tensorflow-intel==2.14.0->tensorflow) (68.0.0)\n",
      "Requirement already satisfied: six>=1.12.0 in c:\\users\\user\\anaconda3\\lib\\site-packages (from tensorflow-intel==2.14.0->tensorflow) (1.16.0)\n",
      "Collecting termcolor>=1.1.0 (from tensorflow-intel==2.14.0->tensorflow)\n",
      "  Downloading termcolor-2.3.0-py3-none-any.whl (6.9 kB)\n",
      "Requirement already satisfied: typing-extensions>=3.6.6 in c:\\users\\user\\anaconda3\\lib\\site-packages (from tensorflow-intel==2.14.0->tensorflow) (4.7.1)\n",
      "Requirement already satisfied: wrapt<1.15,>=1.11.0 in c:\\users\\user\\anaconda3\\lib\\site-packages (from tensorflow-intel==2.14.0->tensorflow) (1.14.1)\n",
      "Collecting tensorflow-io-gcs-filesystem>=0.23.1 (from tensorflow-intel==2.14.0->tensorflow)\n",
      "  Downloading tensorflow_io_gcs_filesystem-0.31.0-cp311-cp311-win_amd64.whl (1.5 MB)\n",
      "     ---------------------------------------- 0.0/1.5 MB ? eta -:--:--\n",
      "     ---------------------------------------  1.5/1.5 MB 46.1 MB/s eta 0:00:01\n",
      "     ---------------------------------------- 1.5/1.5 MB 31.4 MB/s eta 0:00:00\n",
      "Collecting grpcio<2.0,>=1.24.3 (from tensorflow-intel==2.14.0->tensorflow)\n",
      "  Obtaining dependency information for grpcio<2.0,>=1.24.3 from https://files.pythonhosted.org/packages/75/c5/fb3ed7495c73c0de58b08376a468a35bdb61b89ddfbdb96a37bceb54f959/grpcio-1.59.0-cp311-cp311-win_amd64.whl.metadata\n",
      "  Downloading grpcio-1.59.0-cp311-cp311-win_amd64.whl.metadata (4.2 kB)\n",
      "Collecting tensorboard<2.15,>=2.14 (from tensorflow-intel==2.14.0->tensorflow)\n",
      "  Obtaining dependency information for tensorboard<2.15,>=2.14 from https://files.pythonhosted.org/packages/73/a2/66ed644f6ed1562e0285fcd959af17670ea313c8f331c46f79ee77187eb9/tensorboard-2.14.1-py3-none-any.whl.metadata\n",
      "  Downloading tensorboard-2.14.1-py3-none-any.whl.metadata (1.7 kB)\n",
      "Collecting tensorflow-estimator<2.15,>=2.14.0 (from tensorflow-intel==2.14.0->tensorflow)\n",
      "  Obtaining dependency information for tensorflow-estimator<2.15,>=2.14.0 from https://files.pythonhosted.org/packages/d1/da/4f264c196325bb6e37a6285caec5b12a03def489b57cc1fdac02bb6272cd/tensorflow_estimator-2.14.0-py2.py3-none-any.whl.metadata\n",
      "  Downloading tensorflow_estimator-2.14.0-py2.py3-none-any.whl.metadata (1.3 kB)\n",
      "Collecting keras<2.15,>=2.14.0 (from tensorflow-intel==2.14.0->tensorflow)\n",
      "  Obtaining dependency information for keras<2.15,>=2.14.0 from https://files.pythonhosted.org/packages/fe/58/34d4d8f1aa11120c2d36d7ad27d0526164b1a8ae45990a2fede31d0e59bf/keras-2.14.0-py3-none-any.whl.metadata\n",
      "  Downloading keras-2.14.0-py3-none-any.whl.metadata (2.4 kB)\n",
      "Requirement already satisfied: wheel<1.0,>=0.23.0 in c:\\users\\user\\anaconda3\\lib\\site-packages (from astunparse>=1.6.0->tensorflow-intel==2.14.0->tensorflow) (0.38.4)\n",
      "Collecting google-auth<3,>=1.6.3 (from tensorboard<2.15,>=2.14->tensorflow-intel==2.14.0->tensorflow)\n",
      "  Obtaining dependency information for google-auth<3,>=1.6.3 from https://files.pythonhosted.org/packages/39/7c/2e4fa55a99f83ef9ef229ac5d59c44ceb90e2d0145711590c0fa39669f32/google_auth-2.23.3-py2.py3-none-any.whl.metadata\n",
      "  Downloading google_auth-2.23.3-py2.py3-none-any.whl.metadata (4.2 kB)\n",
      "Collecting google-auth-oauthlib<1.1,>=0.5 (from tensorboard<2.15,>=2.14->tensorflow-intel==2.14.0->tensorflow)\n",
      "  Downloading google_auth_oauthlib-1.0.0-py2.py3-none-any.whl (18 kB)\n",
      "Requirement already satisfied: markdown>=2.6.8 in c:\\users\\user\\anaconda3\\lib\\site-packages (from tensorboard<2.15,>=2.14->tensorflow-intel==2.14.0->tensorflow) (3.4.1)\n",
      "Requirement already satisfied: requests<3,>=2.21.0 in c:\\users\\user\\anaconda3\\lib\\site-packages (from tensorboard<2.15,>=2.14->tensorflow-intel==2.14.0->tensorflow) (2.31.0)\n",
      "Collecting tensorboard-data-server<0.8.0,>=0.7.0 (from tensorboard<2.15,>=2.14->tensorflow-intel==2.14.0->tensorflow)\n",
      "  Obtaining dependency information for tensorboard-data-server<0.8.0,>=0.7.0 from https://files.pythonhosted.org/packages/7a/13/e503968fefabd4c6b2650af21e110aa8466fe21432cd7c43a84577a89438/tensorboard_data_server-0.7.2-py3-none-any.whl.metadata\n",
      "  Downloading tensorboard_data_server-0.7.2-py3-none-any.whl.metadata (1.1 kB)\n",
      "Requirement already satisfied: werkzeug>=1.0.1 in c:\\users\\user\\anaconda3\\lib\\site-packages (from tensorboard<2.15,>=2.14->tensorflow-intel==2.14.0->tensorflow) (2.2.3)\n",
      "Collecting cachetools<6.0,>=2.0.0 (from google-auth<3,>=1.6.3->tensorboard<2.15,>=2.14->tensorflow-intel==2.14.0->tensorflow)\n",
      "  Obtaining dependency information for cachetools<6.0,>=2.0.0 from https://files.pythonhosted.org/packages/a2/91/2d843adb9fbd911e0da45fbf6f18ca89d07a087c3daa23e955584f90ebf4/cachetools-5.3.2-py3-none-any.whl.metadata\n",
      "  Downloading cachetools-5.3.2-py3-none-any.whl.metadata (5.2 kB)\n",
      "Requirement already satisfied: pyasn1-modules>=0.2.1 in c:\\users\\user\\anaconda3\\lib\\site-packages (from google-auth<3,>=1.6.3->tensorboard<2.15,>=2.14->tensorflow-intel==2.14.0->tensorflow) (0.2.8)\n",
      "Collecting rsa<5,>=3.1.4 (from google-auth<3,>=1.6.3->tensorboard<2.15,>=2.14->tensorflow-intel==2.14.0->tensorflow)\n",
      "  Downloading rsa-4.9-py3-none-any.whl (34 kB)\n",
      "Collecting requests-oauthlib>=0.7.0 (from google-auth-oauthlib<1.1,>=0.5->tensorboard<2.15,>=2.14->tensorflow-intel==2.14.0->tensorflow)\n",
      "  Downloading requests_oauthlib-1.3.1-py2.py3-none-any.whl (23 kB)\n",
      "Requirement already satisfied: charset-normalizer<4,>=2 in c:\\users\\user\\anaconda3\\lib\\site-packages (from requests<3,>=2.21.0->tensorboard<2.15,>=2.14->tensorflow-intel==2.14.0->tensorflow) (2.0.4)\n",
      "Requirement already satisfied: idna<4,>=2.5 in c:\\users\\user\\anaconda3\\lib\\site-packages (from requests<3,>=2.21.0->tensorboard<2.15,>=2.14->tensorflow-intel==2.14.0->tensorflow) (3.4)\n",
      "Requirement already satisfied: urllib3<3,>=1.21.1 in c:\\users\\user\\anaconda3\\lib\\site-packages (from requests<3,>=2.21.0->tensorboard<2.15,>=2.14->tensorflow-intel==2.14.0->tensorflow) (1.26.16)\n",
      "Requirement already satisfied: certifi>=2017.4.17 in c:\\users\\user\\anaconda3\\lib\\site-packages (from requests<3,>=2.21.0->tensorboard<2.15,>=2.14->tensorflow-intel==2.14.0->tensorflow) (2023.7.22)\n",
      "Requirement already satisfied: MarkupSafe>=2.1.1 in c:\\users\\user\\anaconda3\\lib\\site-packages (from werkzeug>=1.0.1->tensorboard<2.15,>=2.14->tensorflow-intel==2.14.0->tensorflow) (2.1.1)\n",
      "Requirement already satisfied: pyasn1<0.5.0,>=0.4.6 in c:\\users\\user\\anaconda3\\lib\\site-packages (from pyasn1-modules>=0.2.1->google-auth<3,>=1.6.3->tensorboard<2.15,>=2.14->tensorflow-intel==2.14.0->tensorflow) (0.4.8)\n",
      "Collecting oauthlib>=3.0.0 (from requests-oauthlib>=0.7.0->google-auth-oauthlib<1.1,>=0.5->tensorboard<2.15,>=2.14->tensorflow-intel==2.14.0->tensorflow)\n",
      "  Downloading oauthlib-3.2.2-py3-none-any.whl (151 kB)\n",
      "     ---------------------------------------- 0.0/151.7 kB ? eta -:--:--\n",
      "     -------------------------------------- 151.7/151.7 kB 8.8 MB/s eta 0:00:00\n",
      "Downloading tensorflow-2.14.0-cp311-cp311-win_amd64.whl (2.1 kB)\n",
      "Downloading tensorflow_intel-2.14.0-cp311-cp311-win_amd64.whl (284.2 MB)\n",
      "   ---------------------------------------- 0.0/284.2 MB ? eta -:--:--\n",
      "   ---------------------------------------- 2.4/284.2 MB 76.6 MB/s eta 0:00:04\n",
      "    --------------------------------------- 4.6/284.2 MB 59.5 MB/s eta 0:00:05\n",
      "    --------------------------------------- 6.5/284.2 MB 59.1 MB/s eta 0:00:05\n",
      "   - -------------------------------------- 8.1/284.2 MB 57.1 MB/s eta 0:00:05\n",
      "   - -------------------------------------- 9.8/284.2 MB 52.5 MB/s eta 0:00:06\n",
      "   - -------------------------------------- 11.4/284.2 MB 54.4 MB/s eta 0:00:06\n",
      "   - -------------------------------------- 13.0/284.2 MB 50.4 MB/s eta 0:00:06\n",
      "   -- ------------------------------------- 14.3/284.2 MB 46.7 MB/s eta 0:00:06\n",
      "   -- ------------------------------------- 15.6/284.2 MB 43.7 MB/s eta 0:00:07\n",
      "   -- ------------------------------------- 17.2/284.2 MB 43.7 MB/s eta 0:00:07\n",
      "   -- ------------------------------------- 19.0/284.2 MB 40.9 MB/s eta 0:00:07\n",
      "   -- ------------------------------------- 20.7/284.2 MB 43.7 MB/s eta 0:00:07\n",
      "   --- ------------------------------------ 22.3/284.2 MB 43.5 MB/s eta 0:00:07\n",
      "   --- ------------------------------------ 23.9/284.2 MB 46.7 MB/s eta 0:00:06\n",
      "   --- ------------------------------------ 25.4/284.2 MB 43.5 MB/s eta 0:00:06\n",
      "   --- ------------------------------------ 26.6/284.2 MB 43.7 MB/s eta 0:00:06\n",
      "   --- ------------------------------------ 28.0/284.2 MB 43.7 MB/s eta 0:00:06\n",
      "   ---- ----------------------------------- 29.2/284.2 MB 40.9 MB/s eta 0:00:07\n",
      "   ---- ----------------------------------- 30.6/284.2 MB 38.6 MB/s eta 0:00:07\n",
      "   ---- ----------------------------------- 31.9/284.2 MB 38.5 MB/s eta 0:00:07\n",
      "   ---- ----------------------------------- 33.2/284.2 MB 36.3 MB/s eta 0:00:07\n",
      "   ---- ----------------------------------- 34.5/284.2 MB 36.4 MB/s eta 0:00:07\n",
      "   ----- ---------------------------------- 35.7/284.2 MB 36.4 MB/s eta 0:00:07\n",
      "   ----- ---------------------------------- 37.0/284.2 MB 34.4 MB/s eta 0:00:08\n",
      "   ----- ---------------------------------- 38.3/284.2 MB 36.4 MB/s eta 0:00:07\n",
      "   ----- ---------------------------------- 39.5/284.2 MB 36.4 MB/s eta 0:00:07\n",
      "   ----- ---------------------------------- 40.7/284.2 MB 36.3 MB/s eta 0:00:07\n",
      "   ----- ---------------------------------- 42.0/284.2 MB 34.4 MB/s eta 0:00:08\n",
      "   ------ --------------------------------- 43.2/284.2 MB 34.4 MB/s eta 0:00:07\n",
      "   ------ --------------------------------- 44.4/284.2 MB 34.4 MB/s eta 0:00:07\n",
      "   ------ --------------------------------- 45.6/284.2 MB 34.4 MB/s eta 0:00:07\n",
      "   ------ --------------------------------- 46.6/284.2 MB 32.8 MB/s eta 0:00:08\n",
      "   ------ --------------------------------- 47.8/284.2 MB 34.6 MB/s eta 0:00:07\n",
      "   ------ --------------------------------- 48.9/284.2 MB 34.4 MB/s eta 0:00:07\n",
      "   ------- -------------------------------- 50.1/284.2 MB 32.7 MB/s eta 0:00:08\n",
      "   ------- -------------------------------- 51.2/284.2 MB 32.7 MB/s eta 0:00:08\n",
      "   ------- -------------------------------- 52.3/284.2 MB 32.8 MB/s eta 0:00:08\n",
      "   ------- -------------------------------- 53.0/284.2 MB 29.7 MB/s eta 0:00:08\n",
      "   ------- -------------------------------- 54.3/284.2 MB 29.7 MB/s eta 0:00:08\n",
      "   ------- -------------------------------- 55.5/284.2 MB 31.2 MB/s eta 0:00:08\n",
      "   ------- -------------------------------- 56.4/284.2 MB 31.2 MB/s eta 0:00:08\n",
      "   -------- ------------------------------- 57.3/284.2 MB 29.7 MB/s eta 0:00:08\n",
      "   -------- ------------------------------- 58.2/284.2 MB 29.7 MB/s eta 0:00:08\n",
      "   -------- ------------------------------- 59.0/284.2 MB 28.5 MB/s eta 0:00:08\n",
      "   -------- ------------------------------- 59.7/284.2 MB 26.2 MB/s eta 0:00:09\n",
      "   -------- ------------------------------- 60.4/284.2 MB 26.2 MB/s eta 0:00:09\n",
      "   -------- ------------------------------- 61.1/284.2 MB 25.2 MB/s eta 0:00:09\n",
      "   -------- ------------------------------- 61.8/284.2 MB 25.1 MB/s eta 0:00:09\n",
      "   -------- ------------------------------- 62.6/284.2 MB 23.4 MB/s eta 0:00:10\n",
      "   -------- ------------------------------- 63.4/284.2 MB 24.2 MB/s eta 0:00:10\n",
      "   --------- ------------------------------ 64.2/284.2 MB 23.4 MB/s eta 0:00:10\n",
      "   --------- ------------------------------ 65.0/284.2 MB 22.6 MB/s eta 0:00:10\n",
      "   --------- ------------------------------ 65.8/284.2 MB 21.8 MB/s eta 0:00:11\n",
      "   --------- ------------------------------ 67.0/284.2 MB 22.6 MB/s eta 0:00:10\n",
      "   --------- ------------------------------ 68.1/284.2 MB 22.6 MB/s eta 0:00:10\n",
      "   --------- ------------------------------ 69.3/284.2 MB 24.2 MB/s eta 0:00:09\n",
      "   --------- ------------------------------ 70.5/284.2 MB 26.2 MB/s eta 0:00:09\n",
      "   ---------- ----------------------------- 71.6/284.2 MB 27.3 MB/s eta 0:00:08\n",
      "   ---------- ----------------------------- 72.7/284.2 MB 27.3 MB/s eta 0:00:08\n",
      "   ---------- ----------------------------- 73.7/284.2 MB 28.5 MB/s eta 0:00:08\n",
      "   ---------- ----------------------------- 74.6/284.2 MB 29.8 MB/s eta 0:00:08\n",
      "   ---------- ----------------------------- 75.2/284.2 MB 29.7 MB/s eta 0:00:08\n",
      "   ---------- ----------------------------- 76.1/284.2 MB 28.4 MB/s eta 0:00:08\n",
      "   ---------- ----------------------------- 76.9/284.2 MB 28.4 MB/s eta 0:00:08\n",
      "   ---------- ----------------------------- 77.5/284.2 MB 27.3 MB/s eta 0:00:08\n",
      "   ----------- ---------------------------- 78.4/284.2 MB 26.2 MB/s eta 0:00:08\n",
      "   ----------- ---------------------------- 79.1/284.2 MB 25.2 MB/s eta 0:00:09\n",
      "   ----------- ---------------------------- 79.9/284.2 MB 25.2 MB/s eta 0:00:09\n",
      "   ----------- ---------------------------- 80.7/284.2 MB 23.4 MB/s eta 0:00:09\n",
      "   ----------- ---------------------------- 81.6/284.2 MB 23.4 MB/s eta 0:00:09\n",
      "   ----------- ---------------------------- 82.3/284.2 MB 23.4 MB/s eta 0:00:09\n",
      "   ----------- ---------------------------- 83.4/284.2 MB 23.4 MB/s eta 0:00:09\n",
      "   ----------- ---------------------------- 84.4/284.2 MB 22.6 MB/s eta 0:00:09\n",
      "   ------------ --------------------------- 85.8/284.2 MB 24.2 MB/s eta 0:00:09\n",
      "   ------------ --------------------------- 87.4/284.2 MB 27.3 MB/s eta 0:00:08\n",
      "   ------------ --------------------------- 88.1/284.2 MB 28.5 MB/s eta 0:00:07\n",
      "   ------------ --------------------------- 88.1/284.2 MB 28.5 MB/s eta 0:00:07\n",
      "   ------------ --------------------------- 88.1/284.2 MB 28.5 MB/s eta 0:00:07\n",
      "   ------------ --------------------------- 88.1/284.2 MB 28.5 MB/s eta 0:00:07\n",
      "   ------------ --------------------------- 88.1/284.2 MB 28.5 MB/s eta 0:00:07\n",
      "   ------------ --------------------------- 88.7/284.2 MB 19.3 MB/s eta 0:00:11\n",
      "   ------------ --------------------------- 89.4/284.2 MB 19.3 MB/s eta 0:00:11\n",
      "   ------------ --------------------------- 90.1/284.2 MB 18.7 MB/s eta 0:00:11\n",
      "   ------------ --------------------------- 90.9/284.2 MB 19.2 MB/s eta 0:00:11\n",
      "   ------------ --------------------------- 91.8/284.2 MB 19.3 MB/s eta 0:00:10\n",
      "   ------------- -------------------------- 92.6/284.2 MB 18.7 MB/s eta 0:00:11\n",
      "   ------------- -------------------------- 93.4/284.2 MB 18.7 MB/s eta 0:00:11\n",
      "   ------------- -------------------------- 94.4/284.2 MB 18.7 MB/s eta 0:00:11\n",
      "   ------------- -------------------------- 95.5/284.2 MB 18.2 MB/s eta 0:00:11\n",
      "   ------------- -------------------------- 96.6/284.2 MB 18.2 MB/s eta 0:00:11\n",
      "   ------------- -------------------------- 97.6/284.2 MB 17.7 MB/s eta 0:00:11\n",
      "   ------------- -------------------------- 98.3/284.2 MB 16.8 MB/s eta 0:00:12\n",
      "   ------------- -------------------------- 98.8/284.2 MB 23.4 MB/s eta 0:00:08\n",
      "   ------------- -------------------------- 99.2/284.2 MB 22.6 MB/s eta 0:00:09\n",
      "   -------------- ------------------------- 99.6/284.2 MB 22.6 MB/s eta 0:00:09\n",
      "   ------------- ------------------------- 100.1/284.2 MB 21.1 MB/s eta 0:00:09\n",
      "   ------------- ------------------------- 100.6/284.2 MB 20.5 MB/s eta 0:00:09\n",
      "   ------------- ------------------------- 101.0/284.2 MB 20.5 MB/s eta 0:00:09\n",
      "   ------------- ------------------------- 101.4/284.2 MB 19.3 MB/s eta 0:00:10\n",
      "   ------------- ------------------------- 101.8/284.2 MB 18.7 MB/s eta 0:00:10\n",
      "   -------------- ------------------------ 102.1/284.2 MB 18.2 MB/s eta 0:00:11\n",
      "   -------------- ------------------------ 102.5/284.2 MB 17.2 MB/s eta 0:00:11\n",
      "   -------------- ------------------------ 102.9/284.2 MB 16.8 MB/s eta 0:00:11\n",
      "   -------------- ------------------------ 103.2/284.2 MB 16.4 MB/s eta 0:00:12\n",
      "   -------------- ------------------------ 103.5/284.2 MB 15.6 MB/s eta 0:00:12\n",
      "   -------------- ------------------------ 103.9/284.2 MB 15.2 MB/s eta 0:00:12\n",
      "   -------------- ------------------------ 104.3/284.2 MB 14.9 MB/s eta 0:00:13\n",
      "   -------------- ------------------------ 104.8/284.2 MB 14.2 MB/s eta 0:00:13\n",
      "   -------------- ------------------------ 105.1/284.2 MB 13.6 MB/s eta 0:00:14\n",
      "   -------------- ------------------------ 105.5/284.2 MB 13.4 MB/s eta 0:00:14\n",
      "   -------------- ------------------------ 105.9/284.2 MB 13.1 MB/s eta 0:00:14\n",
      "   -------------- ------------------------ 106.2/284.2 MB 12.6 MB/s eta 0:00:15\n",
      "   -------------- ------------------------ 106.6/284.2 MB 12.1 MB/s eta 0:00:15\n",
      "   -------------- ------------------------ 106.9/284.2 MB 11.9 MB/s eta 0:00:15\n",
      "   -------------- ------------------------ 107.3/284.2 MB 11.5 MB/s eta 0:00:16\n",
      "   -------------- ------------------------ 107.6/284.2 MB 11.3 MB/s eta 0:00:16\n",
      "   -------------- ------------------------ 107.9/284.2 MB 11.1 MB/s eta 0:00:16\n",
      "   -------------- ------------------------ 108.3/284.2 MB 10.7 MB/s eta 0:00:17\n",
      "   -------------- ------------------------ 108.6/284.2 MB 10.6 MB/s eta 0:00:17\n",
      "   -------------- ------------------------ 108.9/284.2 MB 10.4 MB/s eta 0:00:17\n",
      "   -------------- ------------------------ 109.3/284.2 MB 10.2 MB/s eta 0:00:18\n",
      "   --------------- ----------------------- 109.7/284.2 MB 10.2 MB/s eta 0:00:18\n",
      "   --------------- ----------------------- 110.0/284.2 MB 10.2 MB/s eta 0:00:18\n",
      "   --------------- ----------------------- 110.4/284.2 MB 10.1 MB/s eta 0:00:18\n",
      "   --------------- ----------------------- 110.7/284.2 MB 10.1 MB/s eta 0:00:18\n",
      "   --------------- ----------------------- 111.1/284.2 MB 10.1 MB/s eta 0:00:18\n",
      "   --------------- ------------------------ 111.5/284.2 MB 9.9 MB/s eta 0:00:18\n",
      "   --------------- ------------------------ 111.8/284.2 MB 9.9 MB/s eta 0:00:18\n",
      "   --------------- ------------------------ 112.2/284.2 MB 9.9 MB/s eta 0:00:18\n",
      "   --------------- ----------------------- 112.6/284.2 MB 10.1 MB/s eta 0:00:18\n",
      "   --------------- ----------------------- 113.1/284.2 MB 10.1 MB/s eta 0:00:17\n",
      "   --------------- ----------------------- 113.6/284.2 MB 10.2 MB/s eta 0:00:17\n",
      "   --------------- ----------------------- 114.0/284.2 MB 10.4 MB/s eta 0:00:17\n",
      "   --------------- ----------------------- 114.4/284.2 MB 10.4 MB/s eta 0:00:17\n",
      "   --------------- ----------------------- 114.9/284.2 MB 10.4 MB/s eta 0:00:17\n",
      "   --------------- ----------------------- 115.2/284.2 MB 10.4 MB/s eta 0:00:17\n",
      "   --------------- ----------------------- 115.5/284.2 MB 10.2 MB/s eta 0:00:17\n",
      "   --------------- ----------------------- 115.9/284.2 MB 10.2 MB/s eta 0:00:17\n",
      "   --------------- ----------------------- 116.2/284.2 MB 10.2 MB/s eta 0:00:17\n",
      "   ---------------- ---------------------- 116.6/284.2 MB 10.2 MB/s eta 0:00:17\n",
      "   ---------------- ---------------------- 117.0/284.2 MB 10.2 MB/s eta 0:00:17\n",
      "   ---------------- ---------------------- 117.3/284.2 MB 10.2 MB/s eta 0:00:17\n",
      "   ---------------- ---------------------- 117.7/284.2 MB 10.4 MB/s eta 0:00:17\n",
      "   ---------------- ---------------------- 118.0/284.2 MB 10.2 MB/s eta 0:00:17\n",
      "   ---------------- ---------------------- 118.4/284.2 MB 10.4 MB/s eta 0:00:16\n",
      "   ---------------- ---------------------- 118.8/284.2 MB 10.6 MB/s eta 0:00:16\n",
      "   ---------------- ---------------------- 119.1/284.2 MB 10.4 MB/s eta 0:00:16\n",
      "   ---------------- ---------------------- 119.6/284.2 MB 10.6 MB/s eta 0:00:16\n",
      "   ---------------- ---------------------- 120.0/284.2 MB 10.7 MB/s eta 0:00:16\n",
      "   ---------------- ---------------------- 120.6/284.2 MB 10.7 MB/s eta 0:00:16\n",
      "   ---------------- ---------------------- 121.1/284.2 MB 10.9 MB/s eta 0:00:15\n",
      "   ---------------- ---------------------- 121.6/284.2 MB 11.3 MB/s eta 0:00:15\n",
      "   ---------------- ---------------------- 122.0/284.2 MB 11.5 MB/s eta 0:00:15\n",
      "   ---------------- ---------------------- 122.5/284.2 MB 11.5 MB/s eta 0:00:15\n",
      "   ---------------- ---------------------- 123.0/284.2 MB 11.5 MB/s eta 0:00:15\n",
      "   ---------------- ---------------------- 123.5/284.2 MB 11.7 MB/s eta 0:00:14\n",
      "   ----------------- --------------------- 124.0/284.2 MB 11.5 MB/s eta 0:00:14\n",
      "   ----------------- --------------------- 124.4/284.2 MB 11.7 MB/s eta 0:00:14\n",
      "   ----------------- --------------------- 124.9/284.2 MB 11.7 MB/s eta 0:00:14\n",
      "   ----------------- --------------------- 125.3/284.2 MB 11.9 MB/s eta 0:00:14\n",
      "   ----------------- --------------------- 125.8/284.2 MB 11.9 MB/s eta 0:00:14\n",
      "   ----------------- --------------------- 126.3/284.2 MB 12.1 MB/s eta 0:00:14\n",
      "   ----------------- --------------------- 126.8/284.2 MB 12.4 MB/s eta 0:00:13\n",
      "   ----------------- --------------------- 127.4/284.2 MB 12.6 MB/s eta 0:00:13\n",
      "   ----------------- --------------------- 128.0/284.2 MB 13.1 MB/s eta 0:00:12\n",
      "   ----------------- --------------------- 128.6/284.2 MB 13.6 MB/s eta 0:00:12\n",
      "   ----------------- --------------------- 129.1/284.2 MB 13.6 MB/s eta 0:00:12\n",
      "   ----------------- --------------------- 129.6/284.2 MB 13.9 MB/s eta 0:00:12\n",
      "   ----------------- --------------------- 130.2/284.2 MB 14.2 MB/s eta 0:00:11\n",
      "   ----------------- --------------------- 130.9/284.2 MB 14.2 MB/s eta 0:00:11\n",
      "   ------------------ -------------------- 131.6/284.2 MB 14.6 MB/s eta 0:00:11\n",
      "   ------------------ -------------------- 132.2/284.2 MB 14.9 MB/s eta 0:00:11\n",
      "   ------------------ -------------------- 132.8/284.2 MB 15.2 MB/s eta 0:00:10\n",
      "   ------------------ -------------------- 133.4/284.2 MB 15.2 MB/s eta 0:00:10\n",
      "   ------------------ -------------------- 134.0/284.2 MB 15.6 MB/s eta 0:00:10\n",
      "   ------------------ -------------------- 134.6/284.2 MB 15.6 MB/s eta 0:00:10\n",
      "   ------------------ -------------------- 135.1/284.2 MB 15.6 MB/s eta 0:00:10\n",
      "   ------------------ -------------------- 135.8/284.2 MB 16.4 MB/s eta 0:00:10\n",
      "   ------------------ -------------------- 136.4/284.2 MB 16.8 MB/s eta 0:00:09\n",
      "   ------------------ -------------------- 137.1/284.2 MB 16.8 MB/s eta 0:00:09\n",
      "   ------------------ -------------------- 137.7/284.2 MB 16.8 MB/s eta 0:00:09\n",
      "   ------------------ -------------------- 138.4/284.2 MB 17.2 MB/s eta 0:00:09\n",
      "   ------------------- ------------------- 139.0/284.2 MB 17.2 MB/s eta 0:00:09\n",
      "   ------------------- ------------------- 139.5/284.2 MB 16.8 MB/s eta 0:00:09\n",
      "   ------------------- ------------------- 140.0/284.2 MB 16.8 MB/s eta 0:00:09\n",
      "   ------------------- ------------------- 140.5/284.2 MB 17.3 MB/s eta 0:00:09\n",
      "   ------------------- ------------------- 141.0/284.2 MB 16.4 MB/s eta 0:00:09\n",
      "   ------------------- ------------------- 141.4/284.2 MB 16.4 MB/s eta 0:00:09\n",
      "   ------------------- ------------------- 142.0/284.2 MB 16.4 MB/s eta 0:00:09\n",
      "   ------------------- ------------------- 142.4/284.2 MB 15.6 MB/s eta 0:00:10\n",
      "   ------------------- ------------------- 142.9/284.2 MB 15.6 MB/s eta 0:00:10\n",
      "   ------------------- ------------------- 143.3/284.2 MB 15.2 MB/s eta 0:00:10\n",
      "   ------------------- ------------------- 143.7/284.2 MB 14.9 MB/s eta 0:00:10\n",
      "   ------------------- ------------------- 144.2/284.2 MB 14.9 MB/s eta 0:00:10\n",
      "   ------------------- ------------------- 144.6/284.2 MB 14.5 MB/s eta 0:00:10\n",
      "   ------------------- ------------------- 145.0/284.2 MB 14.6 MB/s eta 0:00:10\n",
      "   ------------------- ------------------- 145.4/284.2 MB 14.2 MB/s eta 0:00:10\n",
      "   -------------------- ------------------ 145.8/284.2 MB 13.9 MB/s eta 0:00:10\n",
      "   -------------------- ------------------ 146.2/284.2 MB 13.9 MB/s eta 0:00:10\n",
      "   -------------------- ------------------ 146.6/284.2 MB 13.4 MB/s eta 0:00:11\n",
      "   -------------------- ------------------ 147.1/284.2 MB 13.4 MB/s eta 0:00:11\n",
      "   -------------------- ------------------ 147.5/284.2 MB 13.1 MB/s eta 0:00:11\n",
      "   -------------------- ------------------ 148.0/284.2 MB 12.9 MB/s eta 0:00:11\n",
      "   -------------------- ------------------ 148.6/284.2 MB 12.8 MB/s eta 0:00:11\n",
      "   -------------------- ------------------ 149.0/284.2 MB 12.8 MB/s eta 0:00:11\n",
      "   -------------------- ------------------ 149.6/284.2 MB 12.6 MB/s eta 0:00:11\n",
      "   -------------------- ------------------ 150.1/284.2 MB 12.6 MB/s eta 0:00:11\n",
      "   -------------------- ------------------ 150.6/284.2 MB 12.8 MB/s eta 0:00:11\n",
      "   -------------------- ------------------ 151.1/284.2 MB 12.8 MB/s eta 0:00:11\n",
      "   -------------------- ------------------ 151.6/284.2 MB 12.9 MB/s eta 0:00:11\n",
      "   -------------------- ------------------ 152.1/284.2 MB 12.8 MB/s eta 0:00:11\n",
      "   -------------------- ------------------ 152.6/284.2 MB 13.1 MB/s eta 0:00:11\n",
      "   --------------------- ----------------- 153.1/284.2 MB 12.8 MB/s eta 0:00:11\n",
      "   --------------------- ----------------- 153.7/284.2 MB 13.1 MB/s eta 0:00:10\n",
      "   --------------------- ----------------- 154.2/284.2 MB 13.4 MB/s eta 0:00:10\n",
      "   --------------------- ----------------- 154.7/284.2 MB 13.4 MB/s eta 0:00:10\n",
      "   --------------------- ----------------- 155.2/284.2 MB 13.6 MB/s eta 0:00:10\n",
      "   --------------------- ----------------- 155.8/284.2 MB 13.9 MB/s eta 0:00:10\n",
      "   --------------------- ----------------- 156.4/284.2 MB 13.9 MB/s eta 0:00:10\n",
      "   --------------------- ----------------- 157.0/284.2 MB 14.2 MB/s eta 0:00:09\n",
      "   --------------------- ----------------- 157.5/284.2 MB 14.6 MB/s eta 0:00:09\n",
      "   --------------------- ----------------- 158.0/284.2 MB 14.6 MB/s eta 0:00:09\n",
      "   --------------------- ----------------- 158.5/284.2 MB 14.6 MB/s eta 0:00:09\n",
      "   --------------------- ----------------- 158.9/284.2 MB 14.6 MB/s eta 0:00:09\n",
      "   --------------------- ----------------- 159.4/284.2 MB 14.6 MB/s eta 0:00:09\n",
      "   --------------------- ----------------- 159.8/284.2 MB 14.2 MB/s eta 0:00:09\n",
      "   --------------------- ----------------- 160.2/284.2 MB 13.9 MB/s eta 0:00:09\n",
      "   ---------------------- ---------------- 160.5/284.2 MB 13.9 MB/s eta 0:00:09\n",
      "   ---------------------- ---------------- 160.8/284.2 MB 13.4 MB/s eta 0:00:10\n",
      "   ---------------------- ---------------- 161.1/284.2 MB 13.4 MB/s eta 0:00:10\n",
      "   ---------------------- ---------------- 161.5/284.2 MB 13.1 MB/s eta 0:00:10\n",
      "   ---------------------- ---------------- 161.9/284.2 MB 12.8 MB/s eta 0:00:10\n",
      "   ---------------------- ---------------- 162.2/284.2 MB 12.8 MB/s eta 0:00:10\n",
      "   ---------------------- ---------------- 162.7/284.2 MB 12.8 MB/s eta 0:00:10\n",
      "   ---------------------- ---------------- 163.1/284.2 MB 12.6 MB/s eta 0:00:10\n",
      "   ---------------------- ---------------- 163.6/284.2 MB 12.6 MB/s eta 0:00:10\n",
      "   ---------------------- ---------------- 164.0/284.2 MB 12.4 MB/s eta 0:00:10\n",
      "   ---------------------- ---------------- 164.5/284.2 MB 12.6 MB/s eta 0:00:10\n",
      "   ---------------------- ---------------- 164.9/284.2 MB 12.4 MB/s eta 0:00:10\n",
      "   ---------------------- ---------------- 165.4/284.2 MB 12.1 MB/s eta 0:00:10\n",
      "   ---------------------- ---------------- 165.8/284.2 MB 12.1 MB/s eta 0:00:10\n",
      "   ---------------------- ---------------- 166.2/284.2 MB 11.9 MB/s eta 0:00:10\n",
      "   ---------------------- ---------------- 166.6/284.2 MB 11.9 MB/s eta 0:00:10\n",
      "   ---------------------- ---------------- 167.0/284.2 MB 11.7 MB/s eta 0:00:11\n",
      "   ---------------------- ---------------- 167.4/284.2 MB 11.5 MB/s eta 0:00:11\n",
      "   ----------------------- --------------- 167.9/284.2 MB 11.5 MB/s eta 0:00:11\n",
      "   ----------------------- --------------- 168.3/284.2 MB 11.5 MB/s eta 0:00:11\n",
      "   ----------------------- --------------- 168.7/284.2 MB 11.3 MB/s eta 0:00:11\n",
      "   ----------------------- --------------- 169.0/284.2 MB 11.1 MB/s eta 0:00:11\n",
      "   ----------------------- --------------- 169.4/284.2 MB 11.1 MB/s eta 0:00:11\n",
      "   ----------------------- --------------- 169.7/284.2 MB 11.1 MB/s eta 0:00:11\n",
      "   ----------------------- --------------- 170.1/284.2 MB 11.1 MB/s eta 0:00:11\n",
      "   ----------------------- --------------- 170.4/284.2 MB 10.9 MB/s eta 0:00:11\n",
      "   ----------------------- --------------- 170.8/284.2 MB 11.1 MB/s eta 0:00:11\n",
      "   ----------------------- --------------- 171.2/284.2 MB 11.1 MB/s eta 0:00:11\n",
      "   ----------------------- --------------- 171.6/284.2 MB 11.1 MB/s eta 0:00:11\n",
      "   ----------------------- --------------- 172.0/284.2 MB 11.1 MB/s eta 0:00:11\n",
      "   ----------------------- --------------- 172.2/284.2 MB 10.9 MB/s eta 0:00:11\n",
      "   ----------------------- --------------- 172.5/284.2 MB 10.9 MB/s eta 0:00:11\n",
      "   ----------------------- --------------- 172.8/284.2 MB 10.9 MB/s eta 0:00:11\n",
      "   ----------------------- --------------- 173.1/284.2 MB 10.6 MB/s eta 0:00:11\n",
      "   ----------------------- --------------- 173.4/284.2 MB 10.6 MB/s eta 0:00:11\n",
      "   ----------------------- --------------- 173.6/284.2 MB 10.4 MB/s eta 0:00:11\n",
      "   ----------------------- --------------- 174.0/284.2 MB 10.2 MB/s eta 0:00:11\n",
      "   ----------------------- --------------- 174.4/284.2 MB 10.2 MB/s eta 0:00:11\n",
      "   ----------------------- --------------- 174.6/284.2 MB 10.1 MB/s eta 0:00:11\n",
      "   ------------------------ -------------- 175.1/284.2 MB 10.1 MB/s eta 0:00:11\n",
      "   ------------------------ --------------- 175.4/284.2 MB 9.9 MB/s eta 0:00:11\n",
      "   ------------------------ --------------- 175.7/284.2 MB 9.9 MB/s eta 0:00:11\n",
      "   ------------------------ --------------- 176.0/284.2 MB 9.6 MB/s eta 0:00:12\n",
      "   ------------------------ --------------- 176.4/284.2 MB 9.6 MB/s eta 0:00:12\n",
      "   ------------------------ --------------- 176.7/284.2 MB 9.6 MB/s eta 0:00:12\n",
      "   ------------------------ --------------- 177.0/284.2 MB 9.5 MB/s eta 0:00:12\n",
      "   ------------------------ --------------- 177.4/284.2 MB 9.5 MB/s eta 0:00:12\n",
      "   ------------------------- -------------- 177.7/284.2 MB 9.5 MB/s eta 0:00:12\n",
      "   ------------------------- -------------- 178.1/284.2 MB 9.5 MB/s eta 0:00:12\n",
      "   ------------------------- -------------- 178.4/284.2 MB 9.4 MB/s eta 0:00:12\n",
      "   ------------------------- -------------- 178.7/284.2 MB 9.4 MB/s eta 0:00:12\n",
      "   ------------------------- -------------- 179.1/284.2 MB 9.4 MB/s eta 0:00:12\n",
      "   ------------------------- -------------- 179.4/284.2 MB 9.2 MB/s eta 0:00:12\n",
      "   ------------------------- -------------- 179.7/284.2 MB 9.2 MB/s eta 0:00:12\n",
      "   ------------------------- -------------- 180.1/284.2 MB 9.2 MB/s eta 0:00:12\n",
      "   ------------------------- -------------- 180.4/284.2 MB 9.1 MB/s eta 0:00:12\n",
      "   ------------------------- -------------- 180.8/284.2 MB 9.2 MB/s eta 0:00:12\n",
      "   ------------------------- -------------- 181.1/284.2 MB 9.2 MB/s eta 0:00:12\n",
      "   ------------------------- -------------- 181.5/284.2 MB 9.2 MB/s eta 0:00:12\n",
      "   ------------------------- -------------- 181.9/284.2 MB 9.2 MB/s eta 0:00:12\n",
      "   ------------------------- -------------- 182.3/284.2 MB 9.2 MB/s eta 0:00:12\n",
      "   ------------------------- -------------- 182.7/284.2 MB 9.5 MB/s eta 0:00:11\n",
      "   ------------------------- -------------- 183.2/284.2 MB 9.5 MB/s eta 0:00:11\n",
      "   ------------------------- -------------- 183.6/284.2 MB 9.8 MB/s eta 0:00:11\n",
      "   ------------------------- -------------- 184.0/284.2 MB 9.9 MB/s eta 0:00:11\n",
      "   ------------------------- -------------- 184.4/284.2 MB 9.9 MB/s eta 0:00:11\n",
      "   -------------------------- ------------- 184.8/284.2 MB 9.9 MB/s eta 0:00:11\n",
      "   ------------------------- ------------- 185.2/284.2 MB 10.1 MB/s eta 0:00:10\n",
      "   ------------------------- ------------- 185.5/284.2 MB 10.1 MB/s eta 0:00:10\n",
      "   ------------------------- ------------- 185.9/284.2 MB 10.2 MB/s eta 0:00:10\n",
      "   ------------------------- ------------- 186.3/284.2 MB 10.2 MB/s eta 0:00:10\n",
      "   ------------------------- ------------- 186.6/284.2 MB 10.2 MB/s eta 0:00:10\n",
      "   ------------------------- ------------- 186.9/284.2 MB 10.1 MB/s eta 0:00:10\n",
      "   ------------------------- ------------- 187.3/284.2 MB 10.1 MB/s eta 0:00:10\n",
      "   ------------------------- ------------- 187.6/284.2 MB 10.1 MB/s eta 0:00:10\n",
      "   ------------------------- ------------- 187.9/284.2 MB 10.1 MB/s eta 0:00:10\n",
      "   ------------------------- ------------- 188.2/284.2 MB 10.1 MB/s eta 0:00:10\n",
      "   ------------------------- ------------- 188.5/284.2 MB 10.1 MB/s eta 0:00:10\n",
      "   ------------------------- ------------- 188.8/284.2 MB 10.1 MB/s eta 0:00:10\n",
      "   -------------------------- ------------- 189.1/284.2 MB 9.9 MB/s eta 0:00:10\n",
      "   -------------------------- ------------ 189.5/284.2 MB 10.1 MB/s eta 0:00:10\n",
      "   -------------------------- ------------- 189.8/284.2 MB 9.9 MB/s eta 0:00:10\n",
      "   -------------------------- ------------- 190.1/284.2 MB 9.9 MB/s eta 0:00:10\n",
      "   -------------------------- ------------- 190.5/284.2 MB 9.9 MB/s eta 0:00:10\n",
      "   -------------------------- ------------ 190.8/284.2 MB 10.1 MB/s eta 0:00:10\n",
      "   -------------------------- ------------- 191.2/284.2 MB 9.9 MB/s eta 0:00:10\n",
      "   -------------------------- ------------- 191.5/284.2 MB 9.9 MB/s eta 0:00:10\n",
      "   -------------------------- ------------ 192.0/284.2 MB 10.1 MB/s eta 0:00:10\n",
      "   --------------------------- ------------ 192.4/284.2 MB 9.9 MB/s eta 0:00:10\n",
      "   -------------------------- ------------ 192.8/284.2 MB 10.1 MB/s eta 0:00:10\n",
      "   -------------------------- ------------ 193.3/284.2 MB 10.1 MB/s eta 0:00:10\n",
      "   --------------------------- ------------ 193.5/284.2 MB 9.9 MB/s eta 0:00:10\n",
      "   --------------------------- ------------ 193.8/284.2 MB 9.8 MB/s eta 0:00:10\n",
      "   --------------------------- ------------ 194.0/284.2 MB 9.6 MB/s eta 0:00:10\n",
      "   --------------------------- ------------ 194.3/284.2 MB 9.6 MB/s eta 0:00:10\n",
      "   --------------------------- ------------ 194.6/284.2 MB 9.5 MB/s eta 0:00:10\n",
      "   --------------------------- ------------ 194.9/284.2 MB 9.4 MB/s eta 0:00:10\n",
      "   --------------------------- ------------ 195.3/284.2 MB 9.5 MB/s eta 0:00:10\n",
      "   --------------------------- ------------ 195.6/284.2 MB 9.2 MB/s eta 0:00:10\n",
      "   --------------------------- ------------ 195.9/284.2 MB 9.2 MB/s eta 0:00:10\n",
      "   --------------------------- ------------ 196.2/284.2 MB 9.2 MB/s eta 0:00:10\n",
      "   --------------------------- ------------ 196.5/284.2 MB 9.2 MB/s eta 0:00:10\n",
      "   --------------------------- ------------ 196.8/284.2 MB 9.1 MB/s eta 0:00:10\n",
      "   --------------------------- ------------ 197.2/284.2 MB 9.2 MB/s eta 0:00:10\n",
      "   --------------------------- ------------ 197.6/284.2 MB 9.4 MB/s eta 0:00:10\n",
      "   --------------------------- ------------ 197.9/284.2 MB 9.4 MB/s eta 0:00:10\n",
      "   --------------------------- ------------ 198.3/284.2 MB 9.4 MB/s eta 0:00:10\n",
      "   --------------------------- ------------ 198.7/284.2 MB 9.5 MB/s eta 0:00:10\n",
      "   ---------------------------- ----------- 199.0/284.2 MB 9.4 MB/s eta 0:00:10\n",
      "   ---------------------------- ----------- 199.4/284.2 MB 9.5 MB/s eta 0:00:09\n",
      "   ---------------------------- ----------- 199.7/284.2 MB 9.6 MB/s eta 0:00:09\n",
      "   ---------------------------- ----------- 200.1/284.2 MB 9.5 MB/s eta 0:00:09\n",
      "   ---------------------------- ----------- 200.5/284.2 MB 9.6 MB/s eta 0:00:09\n",
      "   ---------------------------- ----------- 200.9/284.2 MB 9.6 MB/s eta 0:00:09\n",
      "   ---------------------------- ----------- 201.2/284.2 MB 9.6 MB/s eta 0:00:09\n",
      "   ---------------------------- ----------- 201.6/284.2 MB 9.6 MB/s eta 0:00:09\n",
      "   ---------------------------- ----------- 202.0/284.2 MB 9.6 MB/s eta 0:00:09\n",
      "   ---------------------------- ----------- 202.3/284.2 MB 9.6 MB/s eta 0:00:09\n",
      "   ---------------------------- ----------- 202.7/284.2 MB 9.6 MB/s eta 0:00:09\n",
      "   ---------------------------- ----------- 203.0/284.2 MB 9.5 MB/s eta 0:00:09\n",
      "   ---------------------------- ----------- 203.3/284.2 MB 9.4 MB/s eta 0:00:09\n",
      "   ---------------------------- ----------- 203.6/284.2 MB 9.5 MB/s eta 0:00:09\n",
      "   ---------------------------- ----------- 203.9/284.2 MB 9.2 MB/s eta 0:00:09\n",
      "   ---------------------------- ----------- 204.1/284.2 MB 9.4 MB/s eta 0:00:09\n",
      "   ---------------------------- ----------- 204.3/284.2 MB 9.4 MB/s eta 0:00:09\n",
      "   ---------------------------- ----------- 204.6/284.2 MB 9.2 MB/s eta 0:00:09\n",
      "   ---------------------------- ----------- 204.9/284.2 MB 9.2 MB/s eta 0:00:09\n",
      "   ---------------------------- ----------- 205.1/284.2 MB 9.2 MB/s eta 0:00:09\n",
      "   ---------------------------- ----------- 205.4/284.2 MB 9.2 MB/s eta 0:00:09\n",
      "   ---------------------------- ----------- 205.6/284.2 MB 9.0 MB/s eta 0:00:09\n",
      "   ---------------------------- ----------- 205.8/284.2 MB 9.0 MB/s eta 0:00:09\n",
      "   ----------------------------- ---------- 206.0/284.2 MB 8.7 MB/s eta 0:00:09\n",
      "   ----------------------------- ---------- 206.2/284.2 MB 8.7 MB/s eta 0:00:09\n",
      "   ----------------------------- ---------- 206.5/284.2 MB 8.6 MB/s eta 0:00:10\n",
      "   ----------------------------- ---------- 206.7/284.2 MB 8.5 MB/s eta 0:00:10\n",
      "   ----------------------------- ---------- 206.9/284.2 MB 8.5 MB/s eta 0:00:10\n",
      "   ----------------------------- ---------- 207.1/284.2 MB 8.4 MB/s eta 0:00:10\n",
      "   ----------------------------- ---------- 207.4/284.2 MB 8.3 MB/s eta 0:00:10\n",
      "   ----------------------------- ---------- 207.6/284.2 MB 8.2 MB/s eta 0:00:10\n",
      "   ----------------------------- ---------- 207.9/284.2 MB 8.2 MB/s eta 0:00:10\n",
      "   ----------------------------- ---------- 208.2/284.2 MB 8.1 MB/s eta 0:00:10\n",
      "   ----------------------------- ---------- 208.5/284.2 MB 8.1 MB/s eta 0:00:10\n",
      "   ----------------------------- ---------- 208.7/284.2 MB 8.0 MB/s eta 0:00:10\n",
      "   ----------------------------- ---------- 209.0/284.2 MB 7.9 MB/s eta 0:00:10\n",
      "   ----------------------------- ---------- 209.3/284.2 MB 7.9 MB/s eta 0:00:10\n",
      "   ----------------------------- ---------- 209.6/284.2 MB 7.9 MB/s eta 0:00:10\n",
      "   ----------------------------- ---------- 209.9/284.2 MB 7.8 MB/s eta 0:00:10\n",
      "   ----------------------------- ---------- 210.2/284.2 MB 7.8 MB/s eta 0:00:10\n",
      "   ----------------------------- ---------- 210.5/284.2 MB 7.8 MB/s eta 0:00:10\n",
      "   ----------------------------- ---------- 210.9/284.2 MB 7.7 MB/s eta 0:00:10\n",
      "   ----------------------------- ---------- 211.2/284.2 MB 7.7 MB/s eta 0:00:10\n",
      "   ----------------------------- ---------- 211.5/284.2 MB 7.7 MB/s eta 0:00:10\n",
      "   ----------------------------- ---------- 211.9/284.2 MB 7.7 MB/s eta 0:00:10\n",
      "   ----------------------------- ---------- 212.3/284.2 MB 7.6 MB/s eta 0:00:10\n",
      "   ----------------------------- ---------- 212.6/284.2 MB 7.7 MB/s eta 0:00:10\n",
      "   ----------------------------- ---------- 213.0/284.2 MB 7.6 MB/s eta 0:00:10\n",
      "   ------------------------------ --------- 213.3/284.2 MB 7.6 MB/s eta 0:00:10\n",
      "   ------------------------------ --------- 213.5/284.2 MB 7.7 MB/s eta 0:00:10\n",
      "   ------------------------------ --------- 214.0/284.2 MB 7.8 MB/s eta 0:00:10\n",
      "   ------------------------------ --------- 214.3/284.2 MB 7.8 MB/s eta 0:00:09\n",
      "   ------------------------------ --------- 214.6/284.2 MB 7.9 MB/s eta 0:00:09\n",
      "   ------------------------------ --------- 214.9/284.2 MB 7.9 MB/s eta 0:00:09\n",
      "   ------------------------------ --------- 215.2/284.2 MB 7.9 MB/s eta 0:00:09\n",
      "   ------------------------------ --------- 215.5/284.2 MB 8.0 MB/s eta 0:00:09\n",
      "   ------------------------------ --------- 215.8/284.2 MB 8.1 MB/s eta 0:00:09\n",
      "   ------------------------------ --------- 216.1/284.2 MB 8.2 MB/s eta 0:00:09\n",
      "   ------------------------------ --------- 216.4/284.2 MB 8.2 MB/s eta 0:00:09\n",
      "   ------------------------------ --------- 216.7/284.2 MB 8.3 MB/s eta 0:00:09\n",
      "   ------------------------------ --------- 217.0/284.2 MB 8.3 MB/s eta 0:00:09\n",
      "   ------------------------------ --------- 217.3/284.2 MB 8.4 MB/s eta 0:00:08\n",
      "   ------------------------------ --------- 217.5/284.2 MB 8.4 MB/s eta 0:00:08\n",
      "   ------------------------------ --------- 217.6/284.2 MB 8.4 MB/s eta 0:00:08\n",
      "   ------------------------------ --------- 217.8/284.2 MB 8.3 MB/s eta 0:00:09\n",
      "   ------------------------------ --------- 218.1/284.2 MB 8.3 MB/s eta 0:00:08\n",
      "   ------------------------------ --------- 218.3/284.2 MB 8.3 MB/s eta 0:00:08\n",
      "   ------------------------------ --------- 218.5/284.2 MB 8.2 MB/s eta 0:00:09\n",
      "   ------------------------------ --------- 218.8/284.2 MB 8.2 MB/s eta 0:00:08\n",
      "   ------------------------------ --------- 219.0/284.2 MB 8.1 MB/s eta 0:00:09\n",
      "   ------------------------------ --------- 219.2/284.2 MB 8.1 MB/s eta 0:00:09\n",
      "   ------------------------------ --------- 219.4/284.2 MB 8.0 MB/s eta 0:00:09\n",
      "   ------------------------------ --------- 219.7/284.2 MB 8.0 MB/s eta 0:00:09\n",
      "   ------------------------------ --------- 219.9/284.2 MB 8.0 MB/s eta 0:00:09\n",
      "   ------------------------------ --------- 220.2/284.2 MB 7.9 MB/s eta 0:00:09\n",
      "   ------------------------------- -------- 220.5/284.2 MB 7.9 MB/s eta 0:00:09\n",
      "   ------------------------------- -------- 220.7/284.2 MB 7.9 MB/s eta 0:00:09\n",
      "   ------------------------------- -------- 221.0/284.2 MB 7.8 MB/s eta 0:00:09\n",
      "   ------------------------------- -------- 221.2/284.2 MB 7.7 MB/s eta 0:00:09\n",
      "   ------------------------------- -------- 221.4/284.2 MB 7.7 MB/s eta 0:00:09\n",
      "   ------------------------------- -------- 221.6/284.2 MB 7.6 MB/s eta 0:00:09\n",
      "   ------------------------------- -------- 221.9/284.2 MB 7.5 MB/s eta 0:00:09\n",
      "   ------------------------------- -------- 222.1/284.2 MB 7.4 MB/s eta 0:00:09\n",
      "   ------------------------------- -------- 222.3/284.2 MB 7.4 MB/s eta 0:00:09\n",
      "   ------------------------------- -------- 222.5/284.2 MB 7.4 MB/s eta 0:00:09\n",
      "   ------------------------------- -------- 222.7/284.2 MB 7.2 MB/s eta 0:00:09\n",
      "   ------------------------------- -------- 222.9/284.2 MB 7.1 MB/s eta 0:00:09\n",
      "   ------------------------------- -------- 223.1/284.2 MB 7.0 MB/s eta 0:00:09\n",
      "   ------------------------------- -------- 223.3/284.2 MB 7.0 MB/s eta 0:00:09\n",
      "   ------------------------------- -------- 223.5/284.2 MB 6.9 MB/s eta 0:00:09\n",
      "   ------------------------------- -------- 223.8/284.2 MB 6.8 MB/s eta 0:00:09\n",
      "   ------------------------------- -------- 223.9/284.2 MB 6.8 MB/s eta 0:00:09\n",
      "   ------------------------------- -------- 224.1/284.2 MB 6.7 MB/s eta 0:00:09\n",
      "   ------------------------------- -------- 224.3/284.2 MB 6.6 MB/s eta 0:00:10\n",
      "   ------------------------------- -------- 224.5/284.2 MB 6.5 MB/s eta 0:00:10\n",
      "   ------------------------------- -------- 224.7/284.2 MB 6.5 MB/s eta 0:00:10\n",
      "   ------------------------------- -------- 224.9/284.2 MB 6.4 MB/s eta 0:00:10\n",
      "   ------------------------------- -------- 225.1/284.2 MB 6.4 MB/s eta 0:00:10\n",
      "   ------------------------------- -------- 225.3/284.2 MB 6.3 MB/s eta 0:00:10\n",
      "   ------------------------------- -------- 225.4/284.2 MB 6.2 MB/s eta 0:00:10\n",
      "   ------------------------------- -------- 225.7/284.2 MB 6.2 MB/s eta 0:00:10\n",
      "   ------------------------------- -------- 226.0/284.2 MB 6.2 MB/s eta 0:00:10\n",
      "   ------------------------------- -------- 226.2/284.2 MB 6.2 MB/s eta 0:00:10\n",
      "   ------------------------------- -------- 226.5/284.2 MB 6.2 MB/s eta 0:00:10\n",
      "   ------------------------------- -------- 226.8/284.2 MB 6.2 MB/s eta 0:00:10\n",
      "   ------------------------------- -------- 227.1/284.2 MB 6.2 MB/s eta 0:00:10\n",
      "   -------------------------------- ------- 227.3/284.2 MB 6.2 MB/s eta 0:00:10\n",
      "   -------------------------------- ------- 227.6/284.2 MB 6.2 MB/s eta 0:00:10\n",
      "   -------------------------------- ------- 227.9/284.2 MB 6.3 MB/s eta 0:00:09\n",
      "   -------------------------------- ------- 228.2/284.2 MB 6.4 MB/s eta 0:00:09\n",
      "   -------------------------------- ------- 228.4/284.2 MB 6.4 MB/s eta 0:00:09\n",
      "   -------------------------------- ------- 228.7/284.2 MB 6.4 MB/s eta 0:00:09\n",
      "   -------------------------------- ------- 229.0/284.2 MB 6.4 MB/s eta 0:00:09\n",
      "   -------------------------------- ------- 229.2/284.2 MB 6.4 MB/s eta 0:00:09\n",
      "   -------------------------------- ------- 229.6/284.2 MB 6.5 MB/s eta 0:00:09\n",
      "   -------------------------------- ------- 229.8/284.2 MB 6.5 MB/s eta 0:00:09\n",
      "   -------------------------------- ------- 230.1/284.2 MB 6.5 MB/s eta 0:00:09\n",
      "   -------------------------------- ------- 230.4/284.2 MB 6.5 MB/s eta 0:00:09\n",
      "   -------------------------------- ------- 230.7/284.2 MB 6.5 MB/s eta 0:00:09\n",
      "   -------------------------------- ------- 230.8/284.2 MB 6.5 MB/s eta 0:00:09\n",
      "   -------------------------------- ------- 231.0/284.2 MB 6.4 MB/s eta 0:00:09\n",
      "   -------------------------------- ------- 231.2/284.2 MB 6.4 MB/s eta 0:00:09\n",
      "   -------------------------------- ------- 231.4/284.2 MB 6.4 MB/s eta 0:00:09\n",
      "   -------------------------------- ------- 231.5/284.2 MB 6.3 MB/s eta 0:00:09\n",
      "   -------------------------------- ------- 231.7/284.2 MB 6.3 MB/s eta 0:00:09\n",
      "   -------------------------------- ------- 231.9/284.2 MB 6.3 MB/s eta 0:00:09\n",
      "   -------------------------------- ------- 232.1/284.2 MB 6.2 MB/s eta 0:00:09\n",
      "   -------------------------------- ------- 232.4/284.2 MB 6.3 MB/s eta 0:00:09\n",
      "   -------------------------------- ------- 232.6/284.2 MB 6.3 MB/s eta 0:00:09\n",
      "   -------------------------------- ------- 232.8/284.2 MB 6.2 MB/s eta 0:00:09\n",
      "   -------------------------------- ------- 233.0/284.2 MB 6.3 MB/s eta 0:00:09\n",
      "   -------------------------------- ------- 233.3/284.2 MB 6.4 MB/s eta 0:00:09\n",
      "   -------------------------------- ------- 233.5/284.2 MB 6.4 MB/s eta 0:00:08\n",
      "   -------------------------------- ------- 233.8/284.2 MB 6.4 MB/s eta 0:00:08\n",
      "   -------------------------------- ------- 234.1/284.2 MB 6.5 MB/s eta 0:00:08\n",
      "   -------------------------------- ------- 234.4/284.2 MB 6.5 MB/s eta 0:00:08\n",
      "   --------------------------------- ------ 234.6/284.2 MB 6.6 MB/s eta 0:00:08\n",
      "   --------------------------------- ------ 234.9/284.2 MB 6.7 MB/s eta 0:00:08\n",
      "   --------------------------------- ------ 235.1/284.2 MB 6.7 MB/s eta 0:00:08\n",
      "   --------------------------------- ------ 235.3/284.2 MB 6.7 MB/s eta 0:00:08\n",
      "   --------------------------------- ------ 235.6/284.2 MB 6.7 MB/s eta 0:00:08\n",
      "   --------------------------------- ------ 235.8/284.2 MB 6.7 MB/s eta 0:00:08\n",
      "   --------------------------------- ------ 236.0/284.2 MB 6.7 MB/s eta 0:00:08\n",
      "   --------------------------------- ------ 236.3/284.2 MB 6.8 MB/s eta 0:00:08\n",
      "   --------------------------------- ------ 236.5/284.2 MB 6.7 MB/s eta 0:00:08\n",
      "   --------------------------------- ------ 236.8/284.2 MB 6.7 MB/s eta 0:00:08\n",
      "   --------------------------------- ------ 237.0/284.2 MB 6.7 MB/s eta 0:00:08\n",
      "   --------------------------------- ------ 237.3/284.2 MB 6.7 MB/s eta 0:00:08\n",
      "   --------------------------------- ------ 237.6/284.2 MB 6.7 MB/s eta 0:00:07\n",
      "   --------------------------------- ------ 237.8/284.2 MB 6.7 MB/s eta 0:00:07\n",
      "   --------------------------------- ------ 238.1/284.2 MB 6.7 MB/s eta 0:00:07\n",
      "   --------------------------------- ------ 238.4/284.2 MB 6.7 MB/s eta 0:00:07\n",
      "   --------------------------------- ------ 238.7/284.2 MB 6.8 MB/s eta 0:00:07\n",
      "   --------------------------------- ------ 239.1/284.2 MB 6.8 MB/s eta 0:00:07\n",
      "   --------------------------------- ------ 239.3/284.2 MB 6.8 MB/s eta 0:00:07\n",
      "   --------------------------------- ------ 239.6/284.2 MB 6.8 MB/s eta 0:00:07\n",
      "   --------------------------------- ------ 239.9/284.2 MB 6.8 MB/s eta 0:00:07\n",
      "   --------------------------------- ------ 240.1/284.2 MB 6.7 MB/s eta 0:00:07\n",
      "   --------------------------------- ------ 240.4/284.2 MB 6.7 MB/s eta 0:00:07\n",
      "   --------------------------------- ------ 240.6/284.2 MB 6.7 MB/s eta 0:00:07\n",
      "   --------------------------------- ------ 240.9/284.2 MB 6.7 MB/s eta 0:00:07\n",
      "   --------------------------------- ------ 241.1/284.2 MB 6.8 MB/s eta 0:00:07\n",
      "   --------------------------------- ------ 241.4/284.2 MB 6.8 MB/s eta 0:00:07\n",
      "   ---------------------------------- ----- 241.6/284.2 MB 6.9 MB/s eta 0:00:07\n",
      "   ---------------------------------- ----- 242.0/284.2 MB 7.0 MB/s eta 0:00:06\n",
      "   ---------------------------------- ----- 242.3/284.2 MB 7.1 MB/s eta 0:00:06\n",
      "   ---------------------------------- ----- 242.6/284.2 MB 7.2 MB/s eta 0:00:06\n",
      "   ---------------------------------- ----- 242.9/284.2 MB 7.4 MB/s eta 0:00:06\n",
      "   ---------------------------------- ----- 243.2/284.2 MB 7.4 MB/s eta 0:00:06\n",
      "   ---------------------------------- ----- 243.6/284.2 MB 7.4 MB/s eta 0:00:06\n",
      "   ---------------------------------- ----- 244.0/284.2 MB 7.6 MB/s eta 0:00:06\n",
      "   ---------------------------------- ----- 244.2/284.2 MB 7.5 MB/s eta 0:00:06\n",
      "   ---------------------------------- ----- 244.5/284.2 MB 7.5 MB/s eta 0:00:06\n",
      "   ---------------------------------- ----- 244.8/284.2 MB 7.5 MB/s eta 0:00:06\n",
      "   ---------------------------------- ----- 245.0/284.2 MB 7.5 MB/s eta 0:00:06\n",
      "   ---------------------------------- ----- 245.3/284.2 MB 7.6 MB/s eta 0:00:06\n",
      "   ---------------------------------- ----- 245.6/284.2 MB 7.7 MB/s eta 0:00:06\n",
      "   ---------------------------------- ----- 245.9/284.2 MB 7.7 MB/s eta 0:00:05\n",
      "   ---------------------------------- ----- 246.2/284.2 MB 7.8 MB/s eta 0:00:05\n",
      "   ---------------------------------- ----- 246.5/284.2 MB 7.9 MB/s eta 0:00:05\n",
      "   ---------------------------------- ----- 246.9/284.2 MB 7.9 MB/s eta 0:00:05\n",
      "   ---------------------------------- ----- 247.2/284.2 MB 8.0 MB/s eta 0:00:05\n",
      "   ---------------------------------- ----- 247.5/284.2 MB 8.0 MB/s eta 0:00:05\n",
      "   ---------------------------------- ----- 247.7/284.2 MB 7.9 MB/s eta 0:00:05\n",
      "   ---------------------------------- ----- 248.0/284.2 MB 8.0 MB/s eta 0:00:05\n",
      "   ---------------------------------- ----- 248.3/284.2 MB 8.0 MB/s eta 0:00:05\n",
      "   ---------------------------------- ----- 248.6/284.2 MB 7.9 MB/s eta 0:00:05\n",
      "   ----------------------------------- ---- 248.8/284.2 MB 7.9 MB/s eta 0:00:05\n",
      "   ----------------------------------- ---- 249.0/284.2 MB 7.9 MB/s eta 0:00:05\n",
      "   ----------------------------------- ---- 249.2/284.2 MB 7.8 MB/s eta 0:00:05\n",
      "   ----------------------------------- ---- 249.5/284.2 MB 7.7 MB/s eta 0:00:05\n",
      "   ----------------------------------- ---- 249.6/284.2 MB 7.7 MB/s eta 0:00:05\n",
      "   ----------------------------------- ---- 249.8/284.2 MB 7.5 MB/s eta 0:00:05\n",
      "   ----------------------------------- ---- 250.0/284.2 MB 7.4 MB/s eta 0:00:05\n",
      "   ----------------------------------- ---- 250.2/284.2 MB 7.4 MB/s eta 0:00:05\n",
      "   ----------------------------------- ---- 250.4/284.2 MB 7.4 MB/s eta 0:00:05\n",
      "   ----------------------------------- ---- 250.6/284.2 MB 7.4 MB/s eta 0:00:05\n",
      "   ----------------------------------- ---- 250.9/284.2 MB 7.4 MB/s eta 0:00:05\n",
      "   ----------------------------------- ---- 251.1/284.2 MB 7.4 MB/s eta 0:00:05\n",
      "   ----------------------------------- ---- 251.3/284.2 MB 7.4 MB/s eta 0:00:05\n",
      "   ----------------------------------- ---- 251.6/284.2 MB 7.4 MB/s eta 0:00:05\n",
      "   ----------------------------------- ---- 251.8/284.2 MB 7.4 MB/s eta 0:00:05\n",
      "   ----------------------------------- ---- 252.1/284.2 MB 7.3 MB/s eta 0:00:05\n",
      "   ----------------------------------- ---- 252.3/284.2 MB 7.3 MB/s eta 0:00:05\n",
      "   ----------------------------------- ---- 252.6/284.2 MB 7.2 MB/s eta 0:00:05\n",
      "   ----------------------------------- ---- 252.9/284.2 MB 7.2 MB/s eta 0:00:05\n",
      "   ----------------------------------- ---- 253.2/284.2 MB 7.2 MB/s eta 0:00:05\n",
      "   ----------------------------------- ---- 253.5/284.2 MB 7.3 MB/s eta 0:00:05\n",
      "   ----------------------------------- ---- 253.8/284.2 MB 7.2 MB/s eta 0:00:05\n",
      "   ----------------------------------- ---- 254.1/284.2 MB 7.2 MB/s eta 0:00:05\n",
      "   ----------------------------------- ---- 254.5/284.2 MB 7.2 MB/s eta 0:00:05\n",
      "   ----------------------------------- ---- 254.8/284.2 MB 7.3 MB/s eta 0:00:05\n",
      "   ----------------------------------- ---- 255.1/284.2 MB 7.3 MB/s eta 0:00:04\n",
      "   ----------------------------------- ---- 255.4/284.2 MB 7.4 MB/s eta 0:00:04\n",
      "   ------------------------------------ --- 255.8/284.2 MB 7.4 MB/s eta 0:00:04\n",
      "   ------------------------------------ --- 256.1/284.2 MB 7.4 MB/s eta 0:00:04\n",
      "   ------------------------------------ --- 256.4/284.2 MB 7.4 MB/s eta 0:00:04\n",
      "   ------------------------------------ --- 256.7/284.2 MB 7.4 MB/s eta 0:00:04\n",
      "   ------------------------------------ --- 257.1/284.2 MB 7.4 MB/s eta 0:00:04\n",
      "   ------------------------------------ --- 257.5/284.2 MB 7.5 MB/s eta 0:00:04\n",
      "   ------------------------------------ --- 257.9/284.2 MB 7.5 MB/s eta 0:00:04\n",
      "   ------------------------------------ --- 258.2/284.2 MB 7.6 MB/s eta 0:00:04\n",
      "   ------------------------------------ --- 258.6/284.2 MB 7.7 MB/s eta 0:00:04\n",
      "   ------------------------------------ --- 259.0/284.2 MB 7.7 MB/s eta 0:00:04\n",
      "   ------------------------------------ --- 259.4/284.2 MB 7.9 MB/s eta 0:00:04\n",
      "   ------------------------------------ --- 259.8/284.2 MB 8.2 MB/s eta 0:00:03\n",
      "   ------------------------------------ --- 260.1/284.2 MB 8.5 MB/s eta 0:00:03\n",
      "   ------------------------------------ --- 260.5/284.2 MB 8.7 MB/s eta 0:00:03\n",
      "   ------------------------------------ --- 260.9/284.2 MB 8.8 MB/s eta 0:00:03\n",
      "   ------------------------------------ --- 261.2/284.2 MB 9.1 MB/s eta 0:00:03\n",
      "   ------------------------------------ --- 261.6/284.2 MB 9.1 MB/s eta 0:00:03\n",
      "   ------------------------------------ --- 261.9/284.2 MB 9.2 MB/s eta 0:00:03\n",
      "   ------------------------------------ --- 262.3/284.2 MB 9.5 MB/s eta 0:00:03\n",
      "   ------------------------------------ --- 262.6/284.2 MB 9.5 MB/s eta 0:00:03\n",
      "   ------------------------------------- -- 263.0/284.2 MB 9.6 MB/s eta 0:00:03\n",
      "   ------------------------------------- -- 263.3/284.2 MB 9.8 MB/s eta 0:00:03\n",
      "   ------------------------------------- -- 263.6/284.2 MB 9.6 MB/s eta 0:00:03\n",
      "   ------------------------------------- -- 263.9/284.2 MB 9.6 MB/s eta 0:00:03\n",
      "   ------------------------------------- -- 264.3/284.2 MB 9.8 MB/s eta 0:00:03\n",
      "   ------------------------------------- -- 264.6/284.2 MB 9.8 MB/s eta 0:00:03\n",
      "   ------------------------------------- -- 264.9/284.2 MB 9.6 MB/s eta 0:00:02\n",
      "   ------------------------------------- -- 265.3/284.2 MB 9.8 MB/s eta 0:00:02\n",
      "   ------------------------------------- -- 265.5/284.2 MB 9.6 MB/s eta 0:00:02\n",
      "   ------------------------------------- -- 265.8/284.2 MB 9.6 MB/s eta 0:00:02\n",
      "   ------------------------------------- -- 266.1/284.2 MB 9.6 MB/s eta 0:00:02\n",
      "   ------------------------------------- -- 266.4/284.2 MB 9.6 MB/s eta 0:00:02\n",
      "   ------------------------------------- -- 266.7/284.2 MB 9.6 MB/s eta 0:00:02\n",
      "   ------------------------------------- -- 267.0/284.2 MB 9.5 MB/s eta 0:00:02\n",
      "   ------------------------------------- -- 267.2/284.2 MB 9.4 MB/s eta 0:00:02\n",
      "   ------------------------------------- -- 267.5/284.2 MB 9.4 MB/s eta 0:00:02\n",
      "   ------------------------------------- -- 267.8/284.2 MB 9.2 MB/s eta 0:00:02\n",
      "   ------------------------------------- -- 268.0/284.2 MB 9.1 MB/s eta 0:00:02\n",
      "   ------------------------------------- -- 268.3/284.2 MB 9.1 MB/s eta 0:00:02\n",
      "   ------------------------------------- -- 268.6/284.2 MB 9.0 MB/s eta 0:00:02\n",
      "   ------------------------------------- -- 268.8/284.2 MB 8.8 MB/s eta 0:00:02\n",
      "   ------------------------------------- -- 269.1/284.2 MB 8.8 MB/s eta 0:00:02\n",
      "   ------------------------------------- -- 269.4/284.2 MB 8.7 MB/s eta 0:00:02\n",
      "   ------------------------------------- -- 269.7/284.2 MB 8.6 MB/s eta 0:00:02\n",
      "   ------------------------------------- -- 269.9/284.2 MB 8.6 MB/s eta 0:00:02\n",
      "   -------------------------------------- - 270.3/284.2 MB 8.5 MB/s eta 0:00:02\n",
      "   -------------------------------------- - 270.7/284.2 MB 8.6 MB/s eta 0:00:02\n",
      "   -------------------------------------- - 271.1/284.2 MB 8.6 MB/s eta 0:00:02\n",
      "   -------------------------------------- - 271.4/284.2 MB 8.5 MB/s eta 0:00:02\n",
      "   -------------------------------------- - 271.8/284.2 MB 8.5 MB/s eta 0:00:02\n",
      "   -------------------------------------- - 272.1/284.2 MB 8.6 MB/s eta 0:00:02\n",
      "   -------------------------------------- - 272.5/284.2 MB 8.6 MB/s eta 0:00:02\n",
      "   -------------------------------------- - 272.8/284.2 MB 8.5 MB/s eta 0:00:02\n",
      "   -------------------------------------- - 273.1/284.2 MB 8.6 MB/s eta 0:00:02\n",
      "   -------------------------------------- - 273.4/284.2 MB 8.6 MB/s eta 0:00:02\n",
      "   -------------------------------------- - 273.7/284.2 MB 8.5 MB/s eta 0:00:02\n",
      "   -------------------------------------- - 274.1/284.2 MB 8.5 MB/s eta 0:00:02\n",
      "   -------------------------------------- - 274.4/284.2 MB 8.5 MB/s eta 0:00:02\n",
      "   -------------------------------------- - 274.7/284.2 MB 8.5 MB/s eta 0:00:02\n",
      "   -------------------------------------- - 275.0/284.2 MB 8.5 MB/s eta 0:00:02\n",
      "   -------------------------------------- - 275.3/284.2 MB 8.5 MB/s eta 0:00:02\n",
      "   -------------------------------------- - 275.6/284.2 MB 8.5 MB/s eta 0:00:02\n",
      "   -------------------------------------- - 275.9/284.2 MB 8.4 MB/s eta 0:00:01\n",
      "   -------------------------------------- - 276.1/284.2 MB 8.4 MB/s eta 0:00:01\n",
      "   -------------------------------------- - 276.4/284.2 MB 8.4 MB/s eta 0:00:01\n",
      "   -------------------------------------- - 276.7/284.2 MB 8.3 MB/s eta 0:00:01\n",
      "   -------------------------------------- - 277.0/284.2 MB 8.4 MB/s eta 0:00:01\n",
      "   ---------------------------------------  277.3/284.2 MB 8.5 MB/s eta 0:00:01\n",
      "   ---------------------------------------  277.6/284.2 MB 8.5 MB/s eta 0:00:01\n",
      "   ---------------------------------------  277.9/284.2 MB 8.5 MB/s eta 0:00:01\n",
      "   ---------------------------------------  278.2/284.2 MB 8.6 MB/s eta 0:00:01\n",
      "   ---------------------------------------  278.5/284.2 MB 8.6 MB/s eta 0:00:01\n",
      "   ---------------------------------------  278.8/284.2 MB 8.6 MB/s eta 0:00:01\n",
      "   ---------------------------------------  279.1/284.2 MB 8.7 MB/s eta 0:00:01\n",
      "   ---------------------------------------  279.4/284.2 MB 8.7 MB/s eta 0:00:01\n",
      "   ---------------------------------------  279.7/284.2 MB 8.7 MB/s eta 0:00:01\n",
      "   ---------------------------------------  280.0/284.2 MB 8.8 MB/s eta 0:00:01\n",
      "   ---------------------------------------  280.2/284.2 MB 8.7 MB/s eta 0:00:01\n",
      "   ---------------------------------------  280.5/284.2 MB 8.6 MB/s eta 0:00:01\n",
      "   ---------------------------------------  280.7/284.2 MB 8.5 MB/s eta 0:00:01\n",
      "   ---------------------------------------  280.9/284.2 MB 8.4 MB/s eta 0:00:01\n",
      "   ---------------------------------------  281.1/284.2 MB 8.3 MB/s eta 0:00:01\n",
      "   ---------------------------------------  281.4/284.2 MB 8.2 MB/s eta 0:00:01\n",
      "   ---------------------------------------  281.6/284.2 MB 8.1 MB/s eta 0:00:01\n",
      "   ---------------------------------------  281.8/284.2 MB 8.1 MB/s eta 0:00:01\n",
      "   ---------------------------------------  282.1/284.2 MB 7.9 MB/s eta 0:00:01\n",
      "   ---------------------------------------  282.3/284.2 MB 7.9 MB/s eta 0:00:01\n",
      "   ---------------------------------------  282.5/284.2 MB 7.9 MB/s eta 0:00:01\n",
      "   ---------------------------------------  282.8/284.2 MB 7.7 MB/s eta 0:00:01\n",
      "   ---------------------------------------  283.1/284.2 MB 7.8 MB/s eta 0:00:01\n",
      "   ---------------------------------------  283.3/284.2 MB 7.7 MB/s eta 0:00:01\n",
      "   ---------------------------------------  283.6/284.2 MB 7.6 MB/s eta 0:00:01\n",
      "   ---------------------------------------  283.9/284.2 MB 7.6 MB/s eta 0:00:01\n",
      "   ---------------------------------------  284.2/284.2 MB 7.6 MB/s eta 0:00:01\n",
      "   ---------------------------------------  284.2/284.2 MB 7.6 MB/s eta 0:00:01\n",
      "   ---------------------------------------  284.2/284.2 MB 7.6 MB/s eta 0:00:01\n",
      "   ---------------------------------------  284.2/284.2 MB 7.6 MB/s eta 0:00:01\n",
      "   ---------------------------------------  284.2/284.2 MB 7.6 MB/s eta 0:00:01\n",
      "   ---------------------------------------  284.2/284.2 MB 7.6 MB/s eta 0:00:01\n",
      "   ---------------------------------------  284.2/284.2 MB 7.6 MB/s eta 0:00:01\n",
      "   ---------------------------------------  284.2/284.2 MB 7.6 MB/s eta 0:00:01\n",
      "   ---------------------------------------  284.2/284.2 MB 7.6 MB/s eta 0:00:01\n",
      "   ---------------------------------------  284.2/284.2 MB 7.6 MB/s eta 0:00:01\n",
      "   ---------------------------------------  284.2/284.2 MB 7.6 MB/s eta 0:00:01\n",
      "   ---------------------------------------  284.2/284.2 MB 7.6 MB/s eta 0:00:01\n",
      "   ---------------------------------------  284.2/284.2 MB 7.6 MB/s eta 0:00:01\n",
      "   ---------------------------------------  284.2/284.2 MB 7.6 MB/s eta 0:00:01\n",
      "   ---------------------------------------- 284.2/284.2 MB 5.1 MB/s eta 0:00:00\n",
      "Downloading ml_dtypes-0.2.0-cp311-cp311-win_amd64.whl (938 kB)\n",
      "   ---------------------------------------- 0.0/938.7 kB ? eta -:--:--\n",
      "   ------------ --------------------------- 286.7/938.7 kB 8.9 MB/s eta 0:00:01\n",
      "   ------------------------ --------------- 583.7/938.7 kB 9.2 MB/s eta 0:00:01\n",
      "   ------------------------------------ --- 849.9/938.7 kB 7.7 MB/s eta 0:00:01\n",
      "   ---------------------------------------- 938.7/938.7 kB 6.6 MB/s eta 0:00:00\n",
      "Downloading absl_py-2.0.0-py3-none-any.whl (130 kB)\n",
      "   ---------------------------------------- 0.0/130.2 kB ? eta -:--:--\n",
      "   ------------------------------------- -- 122.9/130.2 kB 7.5 MB/s eta 0:00:01\n",
      "   ---------------------------------------- 130.2/130.2 kB 2.6 MB/s eta 0:00:00\n",
      "Downloading flatbuffers-23.5.26-py2.py3-none-any.whl (26 kB)\n",
      "Downloading grpcio-1.59.0-cp311-cp311-win_amd64.whl (3.7 MB)\n",
      "   ---------------------------------------- 0.0/3.7 MB ? eta -:--:--\n",
      "   --- ------------------------------------ 0.3/3.7 MB 10.6 MB/s eta 0:00:01\n",
      "   ------ --------------------------------- 0.6/3.7 MB 8.8 MB/s eta 0:00:01\n",
      "   --------- ------------------------------ 0.9/3.7 MB 8.0 MB/s eta 0:00:01\n",
      "   ------------ --------------------------- 1.1/3.7 MB 8.1 MB/s eta 0:00:01\n",
      "   -------------- ------------------------- 1.4/3.7 MB 7.9 MB/s eta 0:00:01\n",
      "   ----------------- ---------------------- 1.6/3.7 MB 7.2 MB/s eta 0:00:01\n",
      "   ------------------- -------------------- 1.8/3.7 MB 7.2 MB/s eta 0:00:01\n",
      "   ---------------------- ----------------- 2.0/3.7 MB 7.1 MB/s eta 0:00:01\n",
      "   ------------------------ --------------- 2.2/3.7 MB 6.8 MB/s eta 0:00:01\n",
      "   --------------------------- ------------ 2.5/3.7 MB 6.9 MB/s eta 0:00:01\n",
      "   ----------------------------- ---------- 2.7/3.7 MB 6.7 MB/s eta 0:00:01\n",
      "   -------------------------------- ------- 2.9/3.7 MB 6.7 MB/s eta 0:00:01\n",
      "   ---------------------------------- ----- 3.2/3.7 MB 6.7 MB/s eta 0:00:01\n",
      "   ------------------------------------- -- 3.4/3.7 MB 6.5 MB/s eta 0:00:01\n",
      "   ---------------------------------------  3.6/3.7 MB 6.6 MB/s eta 0:00:01\n",
      "   ---------------------------------------  3.7/3.7 MB 6.7 MB/s eta 0:00:01\n",
      "   ---------------------------------------- 3.7/3.7 MB 6.1 MB/s eta 0:00:00\n",
      "Downloading keras-2.14.0-py3-none-any.whl (1.7 MB)\n",
      "   ---------------------------------------- 0.0/1.7 MB ? eta -:--:--\n",
      "   ------ --------------------------------- 0.3/1.7 MB 8.6 MB/s eta 0:00:01\n",
      "   ----------- ---------------------------- 0.5/1.7 MB 7.6 MB/s eta 0:00:01\n",
      "   ----------------- ---------------------- 0.7/1.7 MB 6.6 MB/s eta 0:00:01\n",
      "   ----------------------- ---------------- 1.0/1.7 MB 6.9 MB/s eta 0:00:01\n",
      "   ---------------------------- ----------- 1.2/1.7 MB 7.0 MB/s eta 0:00:01\n",
      "   --------------------------------- ------ 1.4/1.7 MB 6.5 MB/s eta 0:00:01\n",
      "   ------------------------------------- -- 1.6/1.7 MB 6.3 MB/s eta 0:00:01\n",
      "   ---------------------------------------  1.7/1.7 MB 6.4 MB/s eta 0:00:01\n",
      "   ---------------------------------------- 1.7/1.7 MB 5.7 MB/s eta 0:00:00\n",
      "Downloading libclang-16.0.6-py2.py3-none-win_amd64.whl (24.4 MB)\n",
      "   ---------------------------------------- 0.0/24.4 MB ? eta -:--:--\n",
      "   ---------------------------------------- 0.2/24.4 MB 6.1 MB/s eta 0:00:04\n",
      "    --------------------------------------- 0.4/24.4 MB 6.7 MB/s eta 0:00:04\n",
      "   - -------------------------------------- 0.6/24.4 MB 5.6 MB/s eta 0:00:05\n",
      "   - -------------------------------------- 0.8/24.4 MB 5.9 MB/s eta 0:00:05\n",
      "   - -------------------------------------- 1.1/24.4 MB 6.1 MB/s eta 0:00:04\n",
      "   -- ------------------------------------- 1.3/24.4 MB 6.0 MB/s eta 0:00:04\n",
      "   -- ------------------------------------- 1.6/24.4 MB 6.3 MB/s eta 0:00:04\n",
      "   -- ------------------------------------- 1.8/24.4 MB 6.1 MB/s eta 0:00:04\n",
      "   --- ------------------------------------ 2.1/24.4 MB 6.4 MB/s eta 0:00:04\n",
      "   --- ------------------------------------ 2.4/24.4 MB 6.3 MB/s eta 0:00:04\n",
      "   ---- ----------------------------------- 2.7/24.4 MB 6.5 MB/s eta 0:00:04\n",
      "   ---- ----------------------------------- 3.0/24.4 MB 6.8 MB/s eta 0:00:04\n",
      "   ----- ---------------------------------- 3.3/24.4 MB 6.7 MB/s eta 0:00:04\n",
      "   ----- ---------------------------------- 3.5/24.4 MB 6.8 MB/s eta 0:00:04\n",
      "   ------ --------------------------------- 3.8/24.4 MB 6.9 MB/s eta 0:00:04\n",
      "   ------ --------------------------------- 4.0/24.4 MB 6.7 MB/s eta 0:00:04\n",
      "   ------ --------------------------------- 4.2/24.4 MB 6.7 MB/s eta 0:00:04\n",
      "   ------- -------------------------------- 4.4/24.4 MB 6.7 MB/s eta 0:00:03\n",
      "   ------- -------------------------------- 4.6/24.4 MB 6.6 MB/s eta 0:00:04\n",
      "   ------- -------------------------------- 4.9/24.4 MB 6.6 MB/s eta 0:00:03\n",
      "   -------- ------------------------------- 5.1/24.4 MB 6.6 MB/s eta 0:00:03\n",
      "   -------- ------------------------------- 5.3/24.4 MB 6.7 MB/s eta 0:00:03\n",
      "   --------- ------------------------------ 5.6/24.4 MB 6.6 MB/s eta 0:00:03\n",
      "   --------- ------------------------------ 5.9/24.4 MB 6.7 MB/s eta 0:00:03\n",
      "   ---------- ----------------------------- 6.2/24.4 MB 6.8 MB/s eta 0:00:03\n",
      "   ---------- ----------------------------- 6.4/24.4 MB 6.7 MB/s eta 0:00:03\n",
      "   ---------- ----------------------------- 6.7/24.4 MB 6.8 MB/s eta 0:00:03\n",
      "   ----------- ---------------------------- 6.9/24.4 MB 6.8 MB/s eta 0:00:03\n",
      "   ----------- ---------------------------- 7.1/24.4 MB 6.7 MB/s eta 0:00:03\n",
      "   ----------- ---------------------------- 7.3/24.4 MB 6.7 MB/s eta 0:00:03\n",
      "   ------------ --------------------------- 7.5/24.4 MB 6.6 MB/s eta 0:00:03\n",
      "   ------------ --------------------------- 7.6/24.4 MB 6.5 MB/s eta 0:00:03\n",
      "   ------------ --------------------------- 7.8/24.4 MB 6.5 MB/s eta 0:00:03\n",
      "   ------------- -------------------------- 8.0/24.4 MB 6.5 MB/s eta 0:00:03\n",
      "   ------------- -------------------------- 8.2/24.4 MB 6.4 MB/s eta 0:00:03\n",
      "   ------------- -------------------------- 8.3/24.4 MB 6.3 MB/s eta 0:00:03\n",
      "   ------------- -------------------------- 8.5/24.4 MB 6.2 MB/s eta 0:00:03\n",
      "   -------------- ------------------------- 8.7/24.4 MB 6.2 MB/s eta 0:00:03\n",
      "   -------------- ------------------------- 8.9/24.4 MB 6.2 MB/s eta 0:00:03\n",
      "   -------------- ------------------------- 9.0/24.4 MB 6.2 MB/s eta 0:00:03\n",
      "   --------------- ------------------------ 9.2/24.4 MB 6.1 MB/s eta 0:00:03\n",
      "   --------------- ------------------------ 9.4/24.4 MB 6.1 MB/s eta 0:00:03\n",
      "   --------------- ------------------------ 9.6/24.4 MB 6.2 MB/s eta 0:00:03\n",
      "   ---------------- ----------------------- 9.9/24.4 MB 6.1 MB/s eta 0:00:03\n",
      "   ---------------- ----------------------- 10.1/24.4 MB 6.1 MB/s eta 0:00:03\n",
      "   ---------------- ----------------------- 10.3/24.4 MB 6.1 MB/s eta 0:00:03\n",
      "   ----------------- ---------------------- 10.5/24.4 MB 6.1 MB/s eta 0:00:03\n",
      "   ----------------- ---------------------- 10.7/24.4 MB 6.1 MB/s eta 0:00:03\n",
      "   ----------------- ---------------------- 10.8/24.4 MB 6.1 MB/s eta 0:00:03\n",
      "   ------------------ --------------------- 11.0/24.4 MB 6.0 MB/s eta 0:00:03\n",
      "   ------------------ --------------------- 11.2/24.4 MB 6.0 MB/s eta 0:00:03\n",
      "   ------------------ --------------------- 11.3/24.4 MB 6.0 MB/s eta 0:00:03\n",
      "   ------------------ --------------------- 11.5/24.4 MB 5.9 MB/s eta 0:00:03\n",
      "   ------------------- -------------------- 11.7/24.4 MB 6.0 MB/s eta 0:00:03\n",
      "   ------------------- -------------------- 12.0/24.4 MB 6.0 MB/s eta 0:00:03\n",
      "   ------------------- -------------------- 12.2/24.4 MB 5.9 MB/s eta 0:00:03\n",
      "   -------------------- ------------------- 12.4/24.4 MB 5.9 MB/s eta 0:00:03\n",
      "   -------------------- ------------------- 12.6/24.4 MB 5.8 MB/s eta 0:00:03\n",
      "   -------------------- ------------------- 12.8/24.4 MB 5.8 MB/s eta 0:00:03\n",
      "   --------------------- ------------------ 13.0/24.4 MB 5.8 MB/s eta 0:00:02\n",
      "   --------------------- ------------------ 13.3/24.4 MB 5.8 MB/s eta 0:00:02\n",
      "   ---------------------- ----------------- 13.6/24.4 MB 5.8 MB/s eta 0:00:02\n",
      "   ---------------------- ----------------- 13.9/24.4 MB 5.8 MB/s eta 0:00:02\n",
      "   ----------------------- ---------------- 14.1/24.4 MB 5.8 MB/s eta 0:00:02\n",
      "   ----------------------- ---------------- 14.4/24.4 MB 5.8 MB/s eta 0:00:02\n",
      "   ----------------------- ---------------- 14.6/24.4 MB 5.8 MB/s eta 0:00:02\n",
      "   ------------------------ --------------- 14.8/24.4 MB 5.8 MB/s eta 0:00:02\n",
      "   ------------------------ --------------- 15.1/24.4 MB 5.8 MB/s eta 0:00:02\n",
      "   ------------------------- -------------- 15.3/24.4 MB 5.8 MB/s eta 0:00:02\n",
      "   ------------------------- -------------- 15.6/24.4 MB 5.8 MB/s eta 0:00:02\n",
      "   ------------------------- -------------- 15.8/24.4 MB 5.8 MB/s eta 0:00:02\n",
      "   -------------------------- ------------- 16.1/24.4 MB 5.8 MB/s eta 0:00:02\n",
      "   -------------------------- ------------- 16.3/24.4 MB 5.8 MB/s eta 0:00:02\n",
      "   --------------------------- ------------ 16.6/24.4 MB 5.8 MB/s eta 0:00:02\n",
      "   --------------------------- ------------ 16.8/24.4 MB 5.8 MB/s eta 0:00:02\n",
      "   --------------------------- ------------ 17.1/24.4 MB 5.8 MB/s eta 0:00:02\n",
      "   ---------------------------- ----------- 17.3/24.4 MB 5.8 MB/s eta 0:00:02\n",
      "   ---------------------------- ----------- 17.6/24.4 MB 5.9 MB/s eta 0:00:02\n",
      "   ----------------------------- ---------- 17.9/24.4 MB 6.1 MB/s eta 0:00:02\n",
      "   ----------------------------- ---------- 18.2/24.4 MB 6.1 MB/s eta 0:00:02\n",
      "   ------------------------------ --------- 18.5/24.4 MB 6.2 MB/s eta 0:00:01\n",
      "   ------------------------------ --------- 18.8/24.4 MB 6.3 MB/s eta 0:00:01\n",
      "   ------------------------------- -------- 19.0/24.4 MB 6.4 MB/s eta 0:00:01\n",
      "   ------------------------------- -------- 19.3/24.4 MB 6.4 MB/s eta 0:00:01\n",
      "   ------------------------------- -------- 19.5/24.4 MB 6.5 MB/s eta 0:00:01\n",
      "   -------------------------------- ------- 19.8/24.4 MB 6.4 MB/s eta 0:00:01\n",
      "   -------------------------------- ------- 20.0/24.4 MB 6.5 MB/s eta 0:00:01\n",
      "   --------------------------------- ------ 20.2/24.4 MB 6.5 MB/s eta 0:00:01\n",
      "   --------------------------------- ------ 20.5/24.4 MB 6.5 MB/s eta 0:00:01\n",
      "   --------------------------------- ------ 20.7/24.4 MB 6.5 MB/s eta 0:00:01\n",
      "   ---------------------------------- ----- 20.9/24.4 MB 6.5 MB/s eta 0:00:01\n",
      "   ---------------------------------- ----- 21.1/24.4 MB 6.5 MB/s eta 0:00:01\n",
      "   ---------------------------------- ----- 21.3/24.4 MB 6.5 MB/s eta 0:00:01\n",
      "   ----------------------------------- ---- 21.5/24.4 MB 6.6 MB/s eta 0:00:01\n",
      "   ----------------------------------- ---- 21.7/24.4 MB 6.6 MB/s eta 0:00:01\n",
      "   ----------------------------------- ---- 21.9/24.4 MB 6.6 MB/s eta 0:00:01\n",
      "   ------------------------------------ --- 22.1/24.4 MB 6.6 MB/s eta 0:00:01\n",
      "   ------------------------------------ --- 22.4/24.4 MB 6.7 MB/s eta 0:00:01\n",
      "   ------------------------------------- -- 22.7/24.4 MB 6.7 MB/s eta 0:00:01\n",
      "   ------------------------------------- -- 22.9/24.4 MB 6.8 MB/s eta 0:00:01\n",
      "   -------------------------------------- - 23.2/24.4 MB 6.9 MB/s eta 0:00:01\n",
      "   -------------------------------------- - 23.5/24.4 MB 6.8 MB/s eta 0:00:01\n",
      "   -------------------------------------- - 23.7/24.4 MB 6.8 MB/s eta 0:00:01\n",
      "   ---------------------------------------  24.0/24.4 MB 6.8 MB/s eta 0:00:01\n",
      "   ---------------------------------------  24.3/24.4 MB 6.8 MB/s eta 0:00:01\n",
      "   ---------------------------------------  24.4/24.4 MB 6.8 MB/s eta 0:00:01\n",
      "   ---------------------------------------  24.4/24.4 MB 6.8 MB/s eta 0:00:01\n",
      "   ---------------------------------------  24.4/24.4 MB 6.8 MB/s eta 0:00:01\n",
      "   ---------------------------------------- 24.4/24.4 MB 6.4 MB/s eta 0:00:00\n",
      "Downloading protobuf-4.24.4-cp310-abi3-win_amd64.whl (430 kB)\n",
      "   ---------------------------------------- 0.0/430.5 kB ? eta -:--:--\n",
      "   ----------------------------- --------- 327.7/430.5 kB 10.2 MB/s eta 0:00:01\n",
      "   ---------------------------------------  430.1/430.5 kB 8.9 MB/s eta 0:00:01\n",
      "   ---------------------------------------- 430.5/430.5 kB 6.7 MB/s eta 0:00:00\n",
      "Downloading tensorboard-2.14.1-py3-none-any.whl (5.5 MB)\n",
      "   ---------------------------------------- 0.0/5.5 MB ? eta -:--:--\n",
      "   -- ------------------------------------- 0.3/5.5 MB 8.6 MB/s eta 0:00:01\n",
      "   --- ------------------------------------ 0.5/5.5 MB 6.8 MB/s eta 0:00:01\n",
      "   ----- ---------------------------------- 0.8/5.5 MB 6.9 MB/s eta 0:00:01\n",
      "   ------- -------------------------------- 1.0/5.5 MB 7.0 MB/s eta 0:00:01\n",
      "   -------- ------------------------------- 1.2/5.5 MB 6.5 MB/s eta 0:00:01\n",
      "   ---------- ----------------------------- 1.5/5.5 MB 6.7 MB/s eta 0:00:01\n",
      "   ------------ --------------------------- 1.7/5.5 MB 6.8 MB/s eta 0:00:01\n",
      "   -------------- ------------------------- 1.9/5.5 MB 6.5 MB/s eta 0:00:01\n",
      "   --------------- ------------------------ 2.2/5.5 MB 6.6 MB/s eta 0:00:01\n",
      "   ----------------- ---------------------- 2.4/5.5 MB 6.7 MB/s eta 0:00:01\n",
      "   ------------------- -------------------- 2.7/5.5 MB 6.8 MB/s eta 0:00:01\n",
      "   --------------------- ------------------ 2.9/5.5 MB 6.7 MB/s eta 0:00:01\n",
      "   ----------------------- ---------------- 3.2/5.5 MB 6.9 MB/s eta 0:00:01\n",
      "   ------------------------- -------------- 3.5/5.5 MB 7.0 MB/s eta 0:00:01\n",
      "   --------------------------- ------------ 3.7/5.5 MB 6.8 MB/s eta 0:00:01\n",
      "   ---------------------------- ----------- 4.0/5.5 MB 6.9 MB/s eta 0:00:01\n",
      "   ------------------------------ --------- 4.2/5.5 MB 6.9 MB/s eta 0:00:01\n",
      "   ------------------------------- -------- 4.4/5.5 MB 6.7 MB/s eta 0:00:01\n",
      "   --------------------------------- ------ 4.6/5.5 MB 6.7 MB/s eta 0:00:01\n",
      "   ----------------------------------- ---- 4.8/5.5 MB 6.7 MB/s eta 0:00:01\n",
      "   ------------------------------------ --- 5.1/5.5 MB 6.7 MB/s eta 0:00:01\n",
      "   -------------------------------------- - 5.3/5.5 MB 6.6 MB/s eta 0:00:01\n",
      "   ---------------------------------------  5.5/5.5 MB 6.6 MB/s eta 0:00:01\n",
      "   ---------------------------------------- 5.5/5.5 MB 6.4 MB/s eta 0:00:00\n",
      "Downloading tensorflow_estimator-2.14.0-py2.py3-none-any.whl (440 kB)\n",
      "   ---------------------------------------- 0.0/440.7 kB ? eta -:--:--\n",
      "   -------------------- ------------------- 225.3/440.7 kB 6.9 MB/s eta 0:00:01\n",
      "   ---------------------------------------  440.3/440.7 kB 6.8 MB/s eta 0:00:01\n",
      "   ---------------------------------------- 440.7/440.7 kB 5.5 MB/s eta 0:00:00\n",
      "Downloading google_auth-2.23.3-py2.py3-none-any.whl (182 kB)\n",
      "   ---------------------------------------- 0.0/182.3 kB ? eta -:--:--\n",
      "   -------------------------------------- - 174.1/182.3 kB 5.3 MB/s eta 0:00:01\n",
      "   ---------------------------------------- 182.3/182.3 kB 3.7 MB/s eta 0:00:00\n",
      "Downloading tensorboard_data_server-0.7.2-py3-none-any.whl (2.4 kB)\n",
      "Downloading cachetools-5.3.2-py3-none-any.whl (9.3 kB)\n",
      "Installing collected packages: libclang, flatbuffers, termcolor, tensorflow-io-gcs-filesystem, tensorflow-estimator, tensorboard-data-server, rsa, protobuf, opt-einsum, oauthlib, ml-dtypes, keras, grpcio, google-pasta, gast, cachetools, astunparse, absl-py, requests-oauthlib, google-auth, google-auth-oauthlib, tensorboard, tensorflow-intel, tensorflow\n",
      "Successfully installed absl-py-2.0.0 astunparse-1.6.3 cachetools-5.3.2 flatbuffers-23.5.26 gast-0.5.4 google-auth-2.23.3 google-auth-oauthlib-1.0.0 google-pasta-0.2.0 grpcio-1.59.0 keras-2.14.0 libclang-16.0.6 ml-dtypes-0.2.0 oauthlib-3.2.2 opt-einsum-3.3.0 protobuf-4.24.4 requests-oauthlib-1.3.1 rsa-4.9 tensorboard-2.14.1 tensorboard-data-server-0.7.2 tensorflow-2.14.0 tensorflow-estimator-2.14.0 tensorflow-intel-2.14.0 tensorflow-io-gcs-filesystem-0.31.0 termcolor-2.3.0\n",
      "Note: you may need to restart the kernel to use updated packages.\n"
     ]
    }
   ],
   "source": [
    "pip install tensorflow"
   ]
  },
  {
   "cell_type": "code",
   "execution_count": 41,
   "id": "bcceba7d",
   "metadata": {
    "ExecuteTime": {
     "end_time": "2023-10-27T02:19:06.269736Z",
     "start_time": "2023-10-27T02:18:53.878298Z"
    }
   },
   "outputs": [
    {
     "name": "stdout",
     "output_type": "stream",
     "text": [
      "Requirement already satisfied: gensim in c:\\users\\user\\anaconda3\\lib\\site-packages (4.3.0)\n",
      "Requirement already satisfied: numpy>=1.18.5 in c:\\users\\user\\anaconda3\\lib\\site-packages (from gensim) (1.24.3)\n",
      "Requirement already satisfied: scipy>=1.7.0 in c:\\users\\user\\anaconda3\\lib\\site-packages (from gensim) (1.10.1)\n",
      "Requirement already satisfied: smart-open>=1.8.1 in c:\\users\\user\\anaconda3\\lib\\site-packages (from gensim) (5.2.1)\n",
      "Collecting FuzzyTM>=0.4.0 (from gensim)\n",
      "  Downloading FuzzyTM-2.0.5-py3-none-any.whl (29 kB)\n",
      "Requirement already satisfied: pandas in c:\\users\\user\\anaconda3\\lib\\site-packages (from FuzzyTM>=0.4.0->gensim) (1.5.3)\n",
      "Collecting pyfume (from FuzzyTM>=0.4.0->gensim)\n",
      "  Downloading pyFUME-0.2.25-py3-none-any.whl (67 kB)\n",
      "     ---------------------------------------- 0.0/67.1 kB ? eta -:--:--\n",
      "     ---------------------------------------- 67.1/67.1 kB 1.8 MB/s eta 0:00:00\n",
      "Requirement already satisfied: python-dateutil>=2.8.1 in c:\\users\\user\\anaconda3\\lib\\site-packages (from pandas->FuzzyTM>=0.4.0->gensim) (2.8.2)\n",
      "Requirement already satisfied: pytz>=2020.1 in c:\\users\\user\\anaconda3\\lib\\site-packages (from pandas->FuzzyTM>=0.4.0->gensim) (2022.7)\n",
      "Collecting simpful (from pyfume->FuzzyTM>=0.4.0->gensim)\n",
      "  Downloading simpful-2.11.0-py3-none-any.whl (32 kB)\n",
      "Collecting fst-pso (from pyfume->FuzzyTM>=0.4.0->gensim)\n",
      "  Downloading fst-pso-1.8.1.tar.gz (18 kB)\n",
      "  Preparing metadata (setup.py): started\n",
      "  Preparing metadata (setup.py): finished with status 'done'\n",
      "Requirement already satisfied: six>=1.5 in c:\\users\\user\\anaconda3\\lib\\site-packages (from python-dateutil>=2.8.1->pandas->FuzzyTM>=0.4.0->gensim) (1.16.0)\n",
      "Collecting miniful (from fst-pso->pyfume->FuzzyTM>=0.4.0->gensim)\n",
      "  Downloading miniful-0.0.6.tar.gz (2.8 kB)\n",
      "  Preparing metadata (setup.py): started\n",
      "  Preparing metadata (setup.py): finished with status 'done'\n",
      "Building wheels for collected packages: fst-pso, miniful\n",
      "  Building wheel for fst-pso (setup.py): started\n",
      "  Building wheel for fst-pso (setup.py): finished with status 'done'\n",
      "  Created wheel for fst-pso: filename=fst_pso-1.8.1-py3-none-any.whl size=20448 sha256=b9e7e8dc156bb0d2c1fb1eae0e879eee5f4432cc416c40af1fa337dc394d7e66\n",
      "  Stored in directory: c:\\users\\user\\appdata\\local\\pip\\cache\\wheels\\69\\f5\\e5\\18ad53fe1ed6b2af9fad05ec052e4acbac8e92441df44bad2e\n",
      "  Building wheel for miniful (setup.py): started\n",
      "  Building wheel for miniful (setup.py): finished with status 'done'\n",
      "  Created wheel for miniful: filename=miniful-0.0.6-py3-none-any.whl size=3522 sha256=e66206b3fd354f6c31241277af3a23fcd20b24b160e6262c976fc9d385452131\n",
      "  Stored in directory: c:\\users\\user\\appdata\\local\\pip\\cache\\wheels\\9d\\ff\\2f\\afe4cd56f47de147407705626517d68bea0f3b74eb1fb168e6\n",
      "Successfully built fst-pso miniful\n",
      "Installing collected packages: simpful, miniful, fst-pso, pyfume, FuzzyTM\n",
      "Successfully installed FuzzyTM-2.0.5 fst-pso-1.8.1 miniful-0.0.6 pyfume-0.2.25 simpful-2.11.0\n",
      "Note: you may need to restart the kernel to use updated packages.\n"
     ]
    }
   ],
   "source": [
    "pip install gensim"
   ]
  },
  {
   "cell_type": "code",
   "execution_count": 42,
   "id": "ac1d0925",
   "metadata": {
    "ExecuteTime": {
     "end_time": "2023-10-27T02:19:11.193169Z",
     "start_time": "2023-10-27T02:19:06.270736Z"
    }
   },
   "outputs": [
    {
     "name": "stdout",
     "output_type": "stream",
     "text": [
      "Requirement already satisfied: nltk in c:\\users\\user\\anaconda3\\lib\\site-packages (3.8.1)\n",
      "Requirement already satisfied: click in c:\\users\\user\\anaconda3\\lib\\site-packages (from nltk) (8.0.4)\n",
      "Requirement already satisfied: joblib in c:\\users\\user\\anaconda3\\lib\\site-packages (from nltk) (1.2.0)\n",
      "Requirement already satisfied: regex>=2021.8.3 in c:\\users\\user\\anaconda3\\lib\\site-packages (from nltk) (2022.7.9)\n",
      "Requirement already satisfied: tqdm in c:\\users\\user\\anaconda3\\lib\\site-packages (from nltk) (4.65.0)\n",
      "Requirement already satisfied: colorama in c:\\users\\user\\anaconda3\\lib\\site-packages (from click->nltk) (0.4.6)\n",
      "Note: you may need to restart the kernel to use updated packages.\n"
     ]
    }
   ],
   "source": [
    "pip install nltk"
   ]
  },
  {
   "cell_type": "code",
   "execution_count": 45,
   "id": "d2d43080",
   "metadata": {
    "ExecuteTime": {
     "end_time": "2023-10-27T02:25:45.089746Z",
     "start_time": "2023-10-27T02:25:44.231969Z"
    }
   },
   "outputs": [
    {
     "name": "stderr",
     "output_type": "stream",
     "text": [
      "[nltk_data] Downloading package punkt to\n",
      "[nltk_data]     C:\\Users\\user\\AppData\\Roaming\\nltk_data...\n",
      "[nltk_data]   Unzipping tokenizers\\punkt.zip.\n"
     ]
    },
    {
     "data": {
      "text/plain": [
       "True"
      ]
     },
     "execution_count": 45,
     "metadata": {},
     "output_type": "execute_result"
    }
   ],
   "source": [
    "import nltk\n",
    "nltk.download('punkt')"
   ]
  },
  {
   "cell_type": "code",
   "execution_count": 43,
   "id": "e57de1b5",
   "metadata": {
    "ExecuteTime": {
     "end_time": "2023-10-27T02:19:27.030187Z",
     "start_time": "2023-10-27T02:19:12.748707Z"
    }
   },
   "outputs": [],
   "source": [
    "from nltk.tokenize import word_tokenize\n",
    "from nltk.tokenize import WordPunctTokenizer\n",
    "from tensorflow.keras.preprocessing.text import text_to_word_sequence"
   ]
  },
  {
   "cell_type": "code",
   "execution_count": null,
   "id": "80c7d9b9",
   "metadata": {},
   "outputs": [],
   "source": [
    "'''\n",
    "토큰 : 자연어 처리 작업을 수행하는 기본 단위, 일반적으로는 단어, 문장(문단 -> 문장), 문단(문서->문단)\n",
    "\n",
    "토큰화 : 주어진 코퍼스를 토큰 단위로 나누는 작업\n",
    "\n",
    "자연어 -> 토큰화 -> 세부 작업\n",
    "'''"
   ]
  },
  {
   "cell_type": "code",
   "execution_count": 46,
   "id": "cf259fda",
   "metadata": {
    "ExecuteTime": {
     "end_time": "2023-10-27T02:25:47.150995Z",
     "start_time": "2023-10-27T02:25:47.134956Z"
    }
   },
   "outputs": [
    {
     "name": "stdout",
     "output_type": "stream",
     "text": [
      "단어 토큰화1 : ['Do', \"n't\", 'be', 'fooled', 'by', 'the', 'dark', 'sounding', 'name', ',', 'Mr.', 'Jone', \"'s\", 'Orphanage', 'is', 'as', 'cheery', 'as', 'cheery', 'goes', 'for', 'a', 'pastry', 'shop', '.']\n"
     ]
    }
   ],
   "source": [
    "print('단어 토큰화1 :',word_tokenize(\"Don't be fooled by the dark sounding name, Mr. Jone's Orphanage is as cheery as cheery goes for a pastry shop.\"))"
   ]
  },
  {
   "cell_type": "code",
   "execution_count": 47,
   "id": "9d9ee6f0",
   "metadata": {
    "ExecuteTime": {
     "end_time": "2023-10-27T02:28:00.614662Z",
     "start_time": "2023-10-27T02:28:00.609246Z"
    }
   },
   "outputs": [
    {
     "name": "stdout",
     "output_type": "stream",
     "text": [
      "단어 토큰화2 : ['Don', \"'\", 't', 'be', 'fooled', 'by', 'the', 'dark', 'sounding', 'name', ',', 'Mr', '.', 'Jone', \"'\", 's', 'Orphanage', 'is', 'as', 'cheery', 'as', 'cheery', 'goes', 'for', 'a', 'pastry', 'shop', '.']\n"
     ]
    }
   ],
   "source": [
    "print('단어 토큰화2 :',WordPunctTokenizer().tokenize(\"Don't be fooled by the dark sounding name, Mr. Jone's Orphanage is as cheery as cheery goes for a pastry shop.\"))"
   ]
  },
  {
   "cell_type": "code",
   "execution_count": 48,
   "id": "9301999e",
   "metadata": {
    "ExecuteTime": {
     "end_time": "2023-10-27T02:29:05.676596Z",
     "start_time": "2023-10-27T02:29:05.672188Z"
    }
   },
   "outputs": [
    {
     "name": "stdout",
     "output_type": "stream",
     "text": [
      "단어 토큰화3 : [\"don't\", 'be', 'fooled', 'by', 'the', 'dark', 'sounding', 'name', 'mr', \"jone's\", 'orphanage', 'is', 'as', 'cheery', 'as', 'cheery', 'goes', 'for', 'a', 'pastry', 'shop']\n"
     ]
    }
   ],
   "source": [
    "print('단어 토큰화3 :',text_to_word_sequence(\"Don't be fooled by the dark sounding name, Mr. Jone's Orphanage is as cheery as cheery goes for a pastry shop.\"))"
   ]
  },
  {
   "cell_type": "code",
   "execution_count": 49,
   "id": "25fc758e",
   "metadata": {
    "ExecuteTime": {
     "end_time": "2023-10-27T02:31:16.661900Z",
     "start_time": "2023-10-27T02:31:16.657597Z"
    }
   },
   "outputs": [
    {
     "name": "stdout",
     "output_type": "stream",
     "text": [
      "문장 토큰화1 : ['His barber kept his word.', 'But keeping such a huge secret to himself was driving him crazy.', 'Finally, the barber went up a mountain and almost to the edge of a cliff.', 'He dug a hole in the midst of some reeds.', 'He looked about, to make sure no one was near.']\n"
     ]
    }
   ],
   "source": [
    "from nltk.tokenize import sent_tokenize\n",
    "\n",
    "text = \"His barber kept his word. But keeping such a huge secret to himself was driving him crazy. Finally, the barber went up a mountain and almost to the edge of a cliff. He dug a hole in the midst of some reeds. He looked about, to make sure no one was near.\"\n",
    "print('문장 토큰화1 :',sent_tokenize(text))"
   ]
  },
  {
   "cell_type": "code",
   "execution_count": 50,
   "id": "a1eae6a1",
   "metadata": {
    "ExecuteTime": {
     "end_time": "2023-10-27T02:32:05.173590Z",
     "start_time": "2023-10-27T02:32:05.170534Z"
    }
   },
   "outputs": [
    {
     "name": "stdout",
     "output_type": "stream",
     "text": [
      "문장 토큰화2 : ['I am actively looking for Ph.D. students.', 'and you are a Ph.D student.']\n"
     ]
    }
   ],
   "source": [
    "text = \"I am actively looking for Ph.D. students. and you are a Ph.D student.\"\n",
    "print('문장 토큰화2 :',sent_tokenize(text))"
   ]
  },
  {
   "cell_type": "code",
   "execution_count": null,
   "id": "e653266b",
   "metadata": {},
   "outputs": [],
   "source": [
    "'''\n",
    "정제, 대소문자 통합, 불용어(등장 빈도수 낮은 단어) 제거\n",
    "'''"
   ]
  },
  {
   "cell_type": "code",
   "execution_count": 51,
   "id": "5d531033",
   "metadata": {
    "ExecuteTime": {
     "end_time": "2023-10-27T04:08:43.577736Z",
     "start_time": "2023-10-27T04:08:43.555255Z"
    }
   },
   "outputs": [
    {
     "name": "stdout",
     "output_type": "stream",
     "text": [
      "OKT 형태소 분석 : ['열심히', '코딩', '한', '당신', ',', '연휴', '에는', '여행', '을', '가봐요']\n",
      "OKT 품사 태깅 : [('열심히', 'Adverb'), ('코딩', 'Noun'), ('한', 'Josa'), ('당신', 'Noun'), (',', 'Punctuation'), ('연휴', 'Noun'), ('에는', 'Josa'), ('여행', 'Noun'), ('을', 'Josa'), ('가봐요', 'Verb')]\n",
      "OKT 명사 추출 : ['코딩', '당신', '연휴', '여행']\n"
     ]
    }
   ],
   "source": [
    "from konlpy.tag import Okt\n",
    "from konlpy.tag import Kkma\n",
    "\n",
    "okt = Okt()\n",
    "kkma = Kkma()\n",
    "\n",
    "print('OKT 형태소 분석 :',okt.morphs(\"열심히 코딩한 당신, 연휴에는 여행을 가봐요\"))\n",
    "print('OKT 품사 태깅 :',okt.pos(\"열심히 코딩한 당신, 연휴에는 여행을 가봐요\"))\n",
    "print('OKT 명사 추출 :',okt.nouns(\"열심히 코딩한 당신, 연휴에는 여행을 가봐요\"))"
   ]
  },
  {
   "cell_type": "code",
   "execution_count": 52,
   "id": "92e72a64",
   "metadata": {
    "ExecuteTime": {
     "end_time": "2023-10-27T04:08:50.418422Z",
     "start_time": "2023-10-27T04:08:50.361430Z"
    }
   },
   "outputs": [
    {
     "name": "stdout",
     "output_type": "stream",
     "text": [
      "꼬꼬마 형태소 분석 : ['열심히', '코딩', '하', 'ㄴ', '당신', ',', '연휴', '에', '는', '여행', '을', '가보', '아요']\n",
      "꼬꼬마 품사 태깅 : [('열심히', 'MAG'), ('코딩', 'NNG'), ('하', 'XSV'), ('ㄴ', 'ETD'), ('당신', 'NP'), (',', 'SP'), ('연휴', 'NNG'), ('에', 'JKM'), ('는', 'JX'), ('여행', 'NNG'), ('을', 'JKO'), ('가보', 'VV'), ('아요', 'EFN')]\n",
      "꼬꼬마 명사 추출 : ['코딩', '당신', '연휴', '여행']\n"
     ]
    }
   ],
   "source": [
    "print('꼬꼬마 형태소 분석 :',kkma.morphs(\"열심히 코딩한 당신, 연휴에는 여행을 가봐요\"))\n",
    "print('꼬꼬마 품사 태깅 :',kkma.pos(\"열심히 코딩한 당신, 연휴에는 여행을 가봐요\"))\n",
    "print('꼬꼬마 명사 추출 :',kkma.nouns(\"열심히 코딩한 당신, 연휴에는 여행을 가봐요\"))"
   ]
  },
  {
   "cell_type": "code",
   "execution_count": 56,
   "id": "cb9c3d23",
   "metadata": {
    "ExecuteTime": {
     "end_time": "2023-10-27T04:16:35.231444Z",
     "start_time": "2023-10-27T04:16:35.227140Z"
    }
   },
   "outputs": [
    {
     "name": "stdout",
     "output_type": "stream",
     "text": [
      " was wondering anyone out there could enlighten this car.\n"
     ]
    }
   ],
   "source": [
    "import re\n",
    "text = \"I was wondering if anyone out there could enlighten me on this car.\"\n",
    "\n",
    "# 길이가 1~2인 단어들을 정규 표현식을 이용하여 삭제\n",
    "shortword = re.compile(r'\\W*\\b\\w{1,2}\\b')\n",
    "print(shortword.sub('', text))"
   ]
  },
  {
   "cell_type": "code",
   "execution_count": null,
   "id": "3da240ec",
   "metadata": {},
   "outputs": [],
   "source": [
    "'''\n",
    "형태소 = 어간(stem, 단어 중요 의미) + 접사(부가 의미)\n",
    "\n",
    "dogs => dog + s\n",
    "'''"
   ]
  },
  {
   "cell_type": "code",
   "execution_count": 58,
   "id": "f156da83",
   "metadata": {
    "ExecuteTime": {
     "end_time": "2023-10-27T04:18:31.651089Z",
     "start_time": "2023-10-27T04:18:30.474852Z"
    }
   },
   "outputs": [
    {
     "name": "stderr",
     "output_type": "stream",
     "text": [
      "[nltk_data] Downloading package wordnet to\n",
      "[nltk_data]     C:\\Users\\user\\AppData\\Roaming\\nltk_data...\n"
     ]
    },
    {
     "data": {
      "text/plain": [
       "True"
      ]
     },
     "execution_count": 58,
     "metadata": {},
     "output_type": "execute_result"
    }
   ],
   "source": [
    "import nltk\n",
    "nltk.download('wordnet')"
   ]
  },
  {
   "cell_type": "code",
   "execution_count": 59,
   "id": "04caacdc",
   "metadata": {
    "ExecuteTime": {
     "end_time": "2023-10-27T04:18:36.592904Z",
     "start_time": "2023-10-27T04:18:31.652039Z"
    }
   },
   "outputs": [
    {
     "name": "stdout",
     "output_type": "stream",
     "text": [
      "표제어 추출 전 : ['policy', 'doing', 'organization', 'have', 'going', 'love', 'lives', 'fly', 'dies', 'watched', 'has', 'starting']\n",
      "표제어 추출 후 : ['policy', 'doing', 'organization', 'have', 'going', 'love', 'life', 'fly', 'dy', 'watched', 'ha', 'starting']\n"
     ]
    }
   ],
   "source": [
    "from nltk.stem import WordNetLemmatizer\n",
    "#are, is, am => be(표제어)\n",
    "lemmatizer = WordNetLemmatizer()\n",
    "\n",
    "words = ['policy', 'doing', 'organization', 'have', 'going', 'love', 'lives', 'fly', 'dies', 'watched', 'has', 'starting']\n",
    "\n",
    "print('표제어 추출 전 :',words)\n",
    "print('표제어 추출 후 :',[lemmatizer.lemmatize(word) for word in words])"
   ]
  },
  {
   "cell_type": "code",
   "execution_count": 60,
   "id": "fe735419",
   "metadata": {
    "ExecuteTime": {
     "end_time": "2023-10-27T04:20:36.472716Z",
     "start_time": "2023-10-27T04:20:36.468080Z"
    }
   },
   "outputs": [
    {
     "data": {
      "text/plain": [
       "'be'"
      ]
     },
     "execution_count": 60,
     "metadata": {},
     "output_type": "execute_result"
    }
   ],
   "source": [
    "lemmatizer.lemmatize('is', 'v') # v는 동사"
   ]
  },
  {
   "cell_type": "code",
   "execution_count": 61,
   "id": "d93ba02d",
   "metadata": {
    "ExecuteTime": {
     "end_time": "2023-10-27T04:20:56.136550Z",
     "start_time": "2023-10-27T04:20:56.131855Z"
    }
   },
   "outputs": [
    {
     "data": {
      "text/plain": [
       "'be'"
      ]
     },
     "execution_count": 61,
     "metadata": {},
     "output_type": "execute_result"
    }
   ],
   "source": [
    "lemmatizer.lemmatize('are', 'v')"
   ]
  },
  {
   "cell_type": "code",
   "execution_count": 62,
   "id": "b423aeae",
   "metadata": {
    "ExecuteTime": {
     "end_time": "2023-10-27T04:21:09.680043Z",
     "start_time": "2023-10-27T04:21:09.675538Z"
    }
   },
   "outputs": [
    {
     "data": {
      "text/plain": [
       "'watch'"
      ]
     },
     "execution_count": 62,
     "metadata": {},
     "output_type": "execute_result"
    }
   ],
   "source": [
    "lemmatizer.lemmatize('watched', 'v')"
   ]
  },
  {
   "cell_type": "code",
   "execution_count": 63,
   "id": "8adef385",
   "metadata": {
    "ExecuteTime": {
     "end_time": "2023-10-27T04:21:34.351967Z",
     "start_time": "2023-10-27T04:21:34.347516Z"
    }
   },
   "outputs": [
    {
     "data": {
      "text/plain": [
       "'watch'"
      ]
     },
     "execution_count": 63,
     "metadata": {},
     "output_type": "execute_result"
    }
   ],
   "source": [
    "lemmatizer.lemmatize('watching', 'v')"
   ]
  },
  {
   "cell_type": "code",
   "execution_count": null,
   "id": "46281b4c",
   "metadata": {},
   "outputs": [],
   "source": [
    "#어간추출(stemming)"
   ]
  },
  {
   "cell_type": "code",
   "execution_count": 67,
   "id": "b861b3ad",
   "metadata": {
    "ExecuteTime": {
     "end_time": "2023-10-27T04:25:43.199953Z",
     "start_time": "2023-10-27T04:25:43.196450Z"
    }
   },
   "outputs": [],
   "source": [
    "from nltk.stem import PorterStemmer\n",
    "from nltk.tokenize import word_tokenize\n",
    "from nltk.stem import LancasterStemmer\n",
    "\n",
    "stemmer = PorterStemmer()\n",
    "lancaster_stemmer = LancasterStemmer()"
   ]
  },
  {
   "cell_type": "code",
   "execution_count": 65,
   "id": "0d2a2615",
   "metadata": {
    "ExecuteTime": {
     "end_time": "2023-10-27T04:23:50.334735Z",
     "start_time": "2023-10-27T04:23:50.331320Z"
    }
   },
   "outputs": [],
   "source": [
    "words = ['formalize', 'allowance', 'electricical']"
   ]
  },
  {
   "cell_type": "code",
   "execution_count": 66,
   "id": "11a88e20",
   "metadata": {
    "ExecuteTime": {
     "end_time": "2023-10-27T04:24:10.407525Z",
     "start_time": "2023-10-27T04:24:10.404079Z"
    }
   },
   "outputs": [
    {
     "name": "stdout",
     "output_type": "stream",
     "text": [
      "어간 추출 후 : ['formal', 'allow', 'electric']\n"
     ]
    }
   ],
   "source": [
    "print('어간 추출 후 :',[stemmer.stem(word) for word in words]) #많이 사용, 잘 나오는 듯"
   ]
  },
  {
   "cell_type": "code",
   "execution_count": 68,
   "id": "17303280",
   "metadata": {
    "ExecuteTime": {
     "end_time": "2023-10-27T04:25:59.935633Z",
     "start_time": "2023-10-27T04:25:59.931109Z"
    }
   },
   "outputs": [
    {
     "name": "stdout",
     "output_type": "stream",
     "text": [
      "어간 추출 후 : ['form', 'allow', 'elect']\n"
     ]
    }
   ],
   "source": [
    "print('어간 추출 후 :',[lancaster_stemmer.stem(word) for word in words])"
   ]
  },
  {
   "cell_type": "code",
   "execution_count": 73,
   "id": "cea58d8c",
   "metadata": {
    "ExecuteTime": {
     "end_time": "2023-10-27T04:27:56.049764Z",
     "start_time": "2023-10-27T04:27:55.907844Z"
    }
   },
   "outputs": [
    {
     "name": "stderr",
     "output_type": "stream",
     "text": [
      "[nltk_data] Downloading package stopwords to\n",
      "[nltk_data]     C:\\Users\\user\\AppData\\Roaming\\nltk_data...\n",
      "[nltk_data]   Unzipping corpora\\stopwords.zip.\n"
     ]
    },
    {
     "data": {
      "text/plain": [
       "True"
      ]
     },
     "execution_count": 73,
     "metadata": {},
     "output_type": "execute_result"
    }
   ],
   "source": [
    "nltk.download('stopwords')"
   ]
  },
  {
   "cell_type": "code",
   "execution_count": 69,
   "id": "42625322",
   "metadata": {
    "ExecuteTime": {
     "end_time": "2023-10-27T04:26:45.830524Z",
     "start_time": "2023-10-27T04:26:45.828010Z"
    }
   },
   "outputs": [],
   "source": [
    "from nltk.corpus import stopwords"
   ]
  },
  {
   "cell_type": "code",
   "execution_count": 74,
   "id": "f8e57b2a",
   "metadata": {
    "ExecuteTime": {
     "end_time": "2023-10-27T04:27:57.639952Z",
     "start_time": "2023-10-27T04:27:57.627494Z"
    }
   },
   "outputs": [
    {
     "data": {
      "text/plain": [
       "['i',\n",
       " 'me',\n",
       " 'my',\n",
       " 'myself',\n",
       " 'we',\n",
       " 'our',\n",
       " 'ours',\n",
       " 'ourselves',\n",
       " 'you',\n",
       " \"you're\",\n",
       " \"you've\",\n",
       " \"you'll\",\n",
       " \"you'd\",\n",
       " 'your',\n",
       " 'yours',\n",
       " 'yourself',\n",
       " 'yourselves',\n",
       " 'he',\n",
       " 'him',\n",
       " 'his',\n",
       " 'himself',\n",
       " 'she',\n",
       " \"she's\",\n",
       " 'her',\n",
       " 'hers',\n",
       " 'herself',\n",
       " 'it',\n",
       " \"it's\",\n",
       " 'its',\n",
       " 'itself',\n",
       " 'they',\n",
       " 'them',\n",
       " 'their',\n",
       " 'theirs',\n",
       " 'themselves',\n",
       " 'what',\n",
       " 'which',\n",
       " 'who',\n",
       " 'whom',\n",
       " 'this',\n",
       " 'that',\n",
       " \"that'll\",\n",
       " 'these',\n",
       " 'those',\n",
       " 'am',\n",
       " 'is',\n",
       " 'are',\n",
       " 'was',\n",
       " 'were',\n",
       " 'be',\n",
       " 'been',\n",
       " 'being',\n",
       " 'have',\n",
       " 'has',\n",
       " 'had',\n",
       " 'having',\n",
       " 'do',\n",
       " 'does',\n",
       " 'did',\n",
       " 'doing',\n",
       " 'a',\n",
       " 'an',\n",
       " 'the',\n",
       " 'and',\n",
       " 'but',\n",
       " 'if',\n",
       " 'or',\n",
       " 'because',\n",
       " 'as',\n",
       " 'until',\n",
       " 'while',\n",
       " 'of',\n",
       " 'at',\n",
       " 'by',\n",
       " 'for',\n",
       " 'with',\n",
       " 'about',\n",
       " 'against',\n",
       " 'between',\n",
       " 'into',\n",
       " 'through',\n",
       " 'during',\n",
       " 'before',\n",
       " 'after',\n",
       " 'above',\n",
       " 'below',\n",
       " 'to',\n",
       " 'from',\n",
       " 'up',\n",
       " 'down',\n",
       " 'in',\n",
       " 'out',\n",
       " 'on',\n",
       " 'off',\n",
       " 'over',\n",
       " 'under',\n",
       " 'again',\n",
       " 'further',\n",
       " 'then',\n",
       " 'once',\n",
       " 'here',\n",
       " 'there',\n",
       " 'when',\n",
       " 'where',\n",
       " 'why',\n",
       " 'how',\n",
       " 'all',\n",
       " 'any',\n",
       " 'both',\n",
       " 'each',\n",
       " 'few',\n",
       " 'more',\n",
       " 'most',\n",
       " 'other',\n",
       " 'some',\n",
       " 'such',\n",
       " 'no',\n",
       " 'nor',\n",
       " 'not',\n",
       " 'only',\n",
       " 'own',\n",
       " 'same',\n",
       " 'so',\n",
       " 'than',\n",
       " 'too',\n",
       " 'very',\n",
       " 's',\n",
       " 't',\n",
       " 'can',\n",
       " 'will',\n",
       " 'just',\n",
       " 'don',\n",
       " \"don't\",\n",
       " 'should',\n",
       " \"should've\",\n",
       " 'now',\n",
       " 'd',\n",
       " 'll',\n",
       " 'm',\n",
       " 'o',\n",
       " 're',\n",
       " 've',\n",
       " 'y',\n",
       " 'ain',\n",
       " 'aren',\n",
       " \"aren't\",\n",
       " 'couldn',\n",
       " \"couldn't\",\n",
       " 'didn',\n",
       " \"didn't\",\n",
       " 'doesn',\n",
       " \"doesn't\",\n",
       " 'hadn',\n",
       " \"hadn't\",\n",
       " 'hasn',\n",
       " \"hasn't\",\n",
       " 'haven',\n",
       " \"haven't\",\n",
       " 'isn',\n",
       " \"isn't\",\n",
       " 'ma',\n",
       " 'mightn',\n",
       " \"mightn't\",\n",
       " 'mustn',\n",
       " \"mustn't\",\n",
       " 'needn',\n",
       " \"needn't\",\n",
       " 'shan',\n",
       " \"shan't\",\n",
       " 'shouldn',\n",
       " \"shouldn't\",\n",
       " 'wasn',\n",
       " \"wasn't\",\n",
       " 'weren',\n",
       " \"weren't\",\n",
       " 'won',\n",
       " \"won't\",\n",
       " 'wouldn',\n",
       " \"wouldn't\"]"
      ]
     },
     "execution_count": 74,
     "metadata": {},
     "output_type": "execute_result"
    }
   ],
   "source": [
    "stopwords.words('english')"
   ]
  },
  {
   "cell_type": "code",
   "execution_count": 75,
   "id": "51b2d951",
   "metadata": {
    "ExecuteTime": {
     "end_time": "2023-10-27T04:28:05.104906Z",
     "start_time": "2023-10-27T04:28:05.099357Z"
    }
   },
   "outputs": [
    {
     "name": "stdout",
     "output_type": "stream",
     "text": [
      "불용어 제거 전 : ['Family', 'is', 'not', 'an', 'important', 'thing', '.', 'It', \"'s\", 'everything', '.']\n",
      "불용어 제거 후 : ['Family', 'important', 'thing', '.', 'It', \"'s\", 'everything', '.']\n"
     ]
    }
   ],
   "source": [
    "example = \"Family is not an important thing. It's everything.\"\n",
    "stop_words = set(stopwords.words('english')) \n",
    "\n",
    "word_tokens = word_tokenize(example)\n",
    "\n",
    "result = []\n",
    "for word in word_tokens: \n",
    "    if word not in stop_words: \n",
    "        result.append(word)\n",
    "\n",
    "print('불용어 제거 전 :',word_tokens) \n",
    "print('불용어 제거 후 :',result)"
   ]
  },
  {
   "cell_type": "code",
   "execution_count": 76,
   "id": "179cb89f",
   "metadata": {
    "ExecuteTime": {
     "end_time": "2023-10-27T04:29:43.838319Z",
     "start_time": "2023-10-27T04:29:43.820366Z"
    }
   },
   "outputs": [
    {
     "name": "stdout",
     "output_type": "stream",
     "text": [
      "불용어 제거 전 : ['고기', '를', '아무렇게나', '구', '우려', '고', '하면', '안', '돼', '.', '고기', '라고', '다', '같은', '게', '아니거든', '.', '예컨대', '삼겹살', '을', '구울', '때', '는', '중요한', '게', '있지', '.']\n",
      "불용어 제거 후 : ['고기', '하면', '.', '고기', '라고', '다', '아니거든', '.', '예컨대', '삼겹살', '을', '중요한', '있지', '.']\n"
     ]
    }
   ],
   "source": [
    "example = \"고기를 아무렇게나 구우려고 하면 안 돼. 고기라고 다 같은 게 아니거든. 예컨대 삼겹살을 구울 때는 중요한 게 있지.\"\n",
    "stop_words = \"를 아무렇게나 구 우려 고 안 돼 같은 게 구울 때 는\"\n",
    "\n",
    "stop_words = set(stop_words.split(' '))\n",
    "word_tokens = okt.morphs(example)\n",
    "\n",
    "result = [word for word in word_tokens if not word in stop_words]\n",
    "\n",
    "print('불용어 제거 전 :',word_tokens) \n",
    "print('불용어 제거 후 :',result)"
   ]
  },
  {
   "cell_type": "code",
   "execution_count": null,
   "id": "8f0f5ec1",
   "metadata": {},
   "outputs": [],
   "source": [
    "'''\n",
    "1. TF-IDF 기반 영화 추천 시스템\n",
    "\n",
    "2. 실행 과정\n",
    "\n",
    "즐겁게 봤던 영화 제목을 입력하세요 : Toy Story\n",
    "\n",
    "당신에게 추천하고 싶은 영화 제목은 아래와 같습니다.\n",
    "\n",
    "1)\n",
    "2)\n",
    "...\n",
    "10)\n",
    "\n",
    "3. 개발 방법\n",
    "\n",
    "1) overview 열 추출 -> 단어 전처리(불용어 제거, 대소문자, 특수문자 처리, 단어 통일(wordnet), 정규표현식 등) ->코퍼스\n",
    "2) tf-idf 행렬 생성\n",
    "3) 코사인 유사도를 이용한 영화 추천\n",
    "\n",
    "4. 데이터셋\n",
    "\n",
    "- 5000편 영화\n",
    "\n",
    "5. 카페 제출\n",
    "'''"
   ]
  },
  {
   "cell_type": "code",
   "execution_count": 77,
   "id": "b1236f93",
   "metadata": {
    "ExecuteTime": {
     "end_time": "2023-10-27T04:37:24.183429Z",
     "start_time": "2023-10-27T04:37:24.180122Z"
    }
   },
   "outputs": [],
   "source": [
    "from nltk.corpus import wordnet"
   ]
  },
  {
   "cell_type": "code",
   "execution_count": 78,
   "id": "a07d51cb",
   "metadata": {
    "ExecuteTime": {
     "end_time": "2023-10-27T04:39:20.617649Z",
     "start_time": "2023-10-27T04:39:20.548699Z"
    }
   },
   "outputs": [
    {
     "data": {
      "text/plain": [
       "[Synset('plan.n.01'),\n",
       " Synset('design.n.02'),\n",
       " Synset('plan.n.03'),\n",
       " Synset('plan.v.01'),\n",
       " Synset('plan.v.02'),\n",
       " Synset('plan.v.03'),\n",
       " Synset('design.v.04')]"
      ]
     },
     "execution_count": 78,
     "metadata": {},
     "output_type": "execute_result"
    }
   ],
   "source": [
    "synsets=wordnet.synsets('plan')\n",
    "synsets"
   ]
  },
  {
   "cell_type": "code",
   "execution_count": 79,
   "id": "2ff99646",
   "metadata": {
    "ExecuteTime": {
     "end_time": "2023-10-27T04:42:17.842198Z",
     "start_time": "2023-10-27T04:42:17.837177Z"
    }
   },
   "outputs": [
    {
     "data": {
      "text/plain": [
       "'a series of steps to be carried out or goals to be accomplished'"
      ]
     },
     "execution_count": 79,
     "metadata": {},
     "output_type": "execute_result"
    }
   ],
   "source": [
    "plan=wordnet.synset('plan.n.01')\n",
    "plan.definition()"
   ]
  },
  {
   "cell_type": "code",
   "execution_count": 81,
   "id": "ec7fc6f2",
   "metadata": {
    "ExecuteTime": {
     "end_time": "2023-10-27T04:43:19.929731Z",
     "start_time": "2023-10-27T04:43:19.924710Z"
    }
   },
   "outputs": [
    {
     "data": {
      "text/plain": [
       "'have the will and intention to carry out some action'"
      ]
     },
     "execution_count": 81,
     "metadata": {},
     "output_type": "execute_result"
    }
   ],
   "source": [
    "plan=wordnet.synset('plan.v.01')\n",
    "plan.definition()"
   ]
  },
  {
   "cell_type": "code",
   "execution_count": 86,
   "id": "4d115eaa",
   "metadata": {
    "ExecuteTime": {
     "end_time": "2023-10-27T04:45:40.370410Z",
     "start_time": "2023-10-27T04:45:40.366022Z"
    }
   },
   "outputs": [
    {
     "data": {
      "text/plain": [
       "[Synset('male_child.n.01'),\n",
       " Synset('boy.n.02'),\n",
       " Synset('son.n.01'),\n",
       " Synset('boy.n.04')]"
      ]
     },
     "execution_count": 86,
     "metadata": {},
     "output_type": "execute_result"
    }
   ],
   "source": [
    "#boy man\n",
    "wordnet.synsets('boy')"
   ]
  },
  {
   "cell_type": "code",
   "execution_count": 85,
   "id": "68bc743c",
   "metadata": {
    "ExecuteTime": {
     "end_time": "2023-10-27T04:45:37.650412Z",
     "start_time": "2023-10-27T04:45:37.645612Z"
    }
   },
   "outputs": [
    {
     "data": {
      "text/plain": [
       "[Synset('man.n.01'),\n",
       " Synset('serviceman.n.01'),\n",
       " Synset('man.n.03'),\n",
       " Synset('homo.n.02'),\n",
       " Synset('man.n.05'),\n",
       " Synset('man.n.06'),\n",
       " Synset('valet.n.01'),\n",
       " Synset('man.n.08'),\n",
       " Synset('man.n.09'),\n",
       " Synset('man.n.10'),\n",
       " Synset('world.n.08'),\n",
       " Synset('man.v.01'),\n",
       " Synset('man.v.02')]"
      ]
     },
     "execution_count": 85,
     "metadata": {},
     "output_type": "execute_result"
    }
   ],
   "source": [
    "wordnet.synsets('man')"
   ]
  },
  {
   "cell_type": "code",
   "execution_count": 91,
   "id": "55b406d8",
   "metadata": {
    "ExecuteTime": {
     "end_time": "2023-10-27T04:46:23.384860Z",
     "start_time": "2023-10-27T04:46:23.381696Z"
    }
   },
   "outputs": [],
   "source": [
    "boy=wordnet.synset('boy.n.02')"
   ]
  },
  {
   "cell_type": "code",
   "execution_count": 92,
   "id": "be939568",
   "metadata": {
    "ExecuteTime": {
     "end_time": "2023-10-27T04:46:24.264198Z",
     "start_time": "2023-10-27T04:46:24.260702Z"
    }
   },
   "outputs": [],
   "source": [
    "man=wordnet.synset('man.n.01')"
   ]
  },
  {
   "cell_type": "code",
   "execution_count": 93,
   "id": "5c000b68",
   "metadata": {
    "ExecuteTime": {
     "end_time": "2023-10-27T04:46:24.579354Z",
     "start_time": "2023-10-27T04:46:24.572373Z"
    }
   },
   "outputs": [
    {
     "data": {
      "text/plain": [
       "0.5"
      ]
     },
     "execution_count": 93,
     "metadata": {},
     "output_type": "execute_result"
    }
   ],
   "source": [
    "boy.path_similarity(man)"
   ]
  },
  {
   "cell_type": "code",
   "execution_count": 94,
   "id": "dbbffa81",
   "metadata": {
    "ExecuteTime": {
     "end_time": "2023-10-27T04:49:09.380327Z",
     "start_time": "2023-10-27T04:49:09.374192Z"
    }
   },
   "outputs": [
    {
     "data": {
      "text/plain": [
       "[Synset('car.n.01'),\n",
       " Synset('car.n.02'),\n",
       " Synset('car.n.03'),\n",
       " Synset('car.n.04'),\n",
       " Synset('cable_car.n.01')]"
      ]
     },
     "execution_count": 94,
     "metadata": {},
     "output_type": "execute_result"
    }
   ],
   "source": [
    "#car 단어에 5개의 동의어 그룹이 있음\n",
    "wordnet.synsets('car')"
   ]
  },
  {
   "cell_type": "code",
   "execution_count": 95,
   "id": "141b2f33",
   "metadata": {
    "ExecuteTime": {
     "end_time": "2023-10-27T04:50:20.330209Z",
     "start_time": "2023-10-27T04:50:20.325181Z"
    }
   },
   "outputs": [
    {
     "data": {
      "text/plain": [
       "Synset('car.n.01')"
      ]
     },
     "execution_count": 95,
     "metadata": {},
     "output_type": "execute_result"
    }
   ],
   "source": [
    "wordnet.synsets('car')[0]."
   ]
  },
  {
   "cell_type": "code",
   "execution_count": 96,
   "id": "646ea266",
   "metadata": {
    "ExecuteTime": {
     "end_time": "2023-10-27T04:51:25.689519Z",
     "start_time": "2023-10-27T04:51:25.684502Z"
    }
   },
   "outputs": [
    {
     "data": {
      "text/plain": [
       "'a motor vehicle with four wheels; usually propelled by an internal combustion engine'"
      ]
     },
     "execution_count": 96,
     "metadata": {},
     "output_type": "execute_result"
    }
   ],
   "source": [
    "car=wordnet.synset('car.n.01')\n",
    "car.definition()"
   ]
  },
  {
   "cell_type": "code",
   "execution_count": 97,
   "id": "c03c5c20",
   "metadata": {
    "ExecuteTime": {
     "end_time": "2023-10-27T04:51:34.001544Z",
     "start_time": "2023-10-27T04:51:33.996676Z"
    }
   },
   "outputs": [
    {
     "data": {
      "text/plain": [
       "['car', 'auto', 'automobile', 'machine', 'motorcar']"
      ]
     },
     "execution_count": 97,
     "metadata": {},
     "output_type": "execute_result"
    }
   ],
   "source": [
    "#동의어 찾기\n",
    "car.lemma_names()"
   ]
  },
  {
   "cell_type": "code",
   "execution_count": 98,
   "id": "458e540c",
   "metadata": {
    "ExecuteTime": {
     "end_time": "2023-10-27T04:52:48.418871Z",
     "start_time": "2023-10-27T04:52:48.413884Z"
    }
   },
   "outputs": [
    {
     "data": {
      "text/plain": [
       "[Synset('computer.n.01'), Synset('calculator.n.01')]"
      ]
     },
     "execution_count": 98,
     "metadata": {},
     "output_type": "execute_result"
    }
   ],
   "source": [
    "wordnet.synsets('computer')"
   ]
  },
  {
   "cell_type": "code",
   "execution_count": 99,
   "id": "5fce92f0",
   "metadata": {
    "ExecuteTime": {
     "end_time": "2023-10-27T04:53:08.170712Z",
     "start_time": "2023-10-27T04:53:08.165851Z"
    }
   },
   "outputs": [
    {
     "data": {
      "text/plain": [
       "'a machine for performing calculations automatically'"
      ]
     },
     "execution_count": 99,
     "metadata": {},
     "output_type": "execute_result"
    }
   ],
   "source": [
    "computer=wordnet.synset('computer.n.01')\n",
    "computer.definition()"
   ]
  },
  {
   "cell_type": "code",
   "execution_count": 100,
   "id": "86b35f18",
   "metadata": {
    "ExecuteTime": {
     "end_time": "2023-10-27T04:53:16.890652Z",
     "start_time": "2023-10-27T04:53:16.886208Z"
    }
   },
   "outputs": [
    {
     "data": {
      "text/plain": [
       "['computer',\n",
       " 'computing_machine',\n",
       " 'computing_device',\n",
       " 'data_processor',\n",
       " 'electronic_computer',\n",
       " 'information_processing_system']"
      ]
     },
     "execution_count": 100,
     "metadata": {},
     "output_type": "execute_result"
    }
   ],
   "source": [
    "computer.lemma_names()"
   ]
  },
  {
   "cell_type": "code",
   "execution_count": null,
   "id": "f9b901d4",
   "metadata": {},
   "outputs": [],
   "source": []
  }
 ],
 "metadata": {
  "kernelspec": {
   "display_name": "Python 3 (ipykernel)",
   "language": "python",
   "name": "python3"
  },
  "language_info": {
   "codemirror_mode": {
    "name": "ipython",
    "version": 3
   },
   "file_extension": ".py",
   "mimetype": "text/x-python",
   "name": "python",
   "nbconvert_exporter": "python",
   "pygments_lexer": "ipython3",
   "version": "3.11.4"
  },
  "toc": {
   "base_numbering": 1,
   "nav_menu": {},
   "number_sections": true,
   "sideBar": true,
   "skip_h1_title": false,
   "title_cell": "Table of Contents",
   "title_sidebar": "Contents",
   "toc_cell": false,
   "toc_position": {},
   "toc_section_display": true,
   "toc_window_display": false
  }
 },
 "nbformat": 4,
 "nbformat_minor": 5
}
