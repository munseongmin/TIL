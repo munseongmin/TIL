{
 "cells": [
  {
   "cell_type": "code",
   "execution_count": 62,
   "id": "ae5f785b",
   "metadata": {
    "ExecuteTime": {
     "end_time": "2023-11-09T06:42:55.953997Z",
     "start_time": "2023-11-09T06:42:55.950013Z"
    }
   },
   "outputs": [
    {
     "data": {
      "text/plain": [
       "'\\n메일 스팸/햄 분류기\\n\\nMany-to-One\\n\\n1. 제목 열 추출\\n2. 공백(nltk, keras ..) / 형태소 분리 (konlpy)\\n3. 불용어, 조사 등 제거 (정규표현식 사용)\\n4. 유일한 단어 -> 길이(코퍼스 크기)\\n5. 각 단어 숫자 부여\\n6. 가장 긴 문장 길이 조사 (maxlen=30)\\n7. 모든 문장 길이 동일하게 (pre, post)\\n-> 전처리 과정 data 준비\\n\\n1. timestep\\n2. word_dim\\n3. batch_size\\n4. LSTM cell 출력차원\\n-> LSTM, RNN 기반 설계 진행시 항상 고민\\n\\n입력과 셀 사이에 임베딩 층 (차원 축소 역할)\\n'"
      ]
     },
     "execution_count": 62,
     "metadata": {},
     "output_type": "execute_result"
    }
   ],
   "source": [
    "'''\n",
    "메일 스팸/햄 분류기\n",
    "\n",
    "Many-to-One\n",
    "\n",
    "1. 제목 열 추출\n",
    "2. 공백(nltk, keras ..) / 형태소 분리 (konlpy)\n",
    "3. 불용어, 조사 등 제거 (정규표현식 사용)\n",
    "4. 유일한 단어 -> 길이(코퍼스 크기)\n",
    "5. 각 단어 숫자 부여\n",
    "6. 가장 긴 문장 길이 조사 (maxlen=30)\n",
    "7. 모든 문장 길이 동일하게 (pre, post)\n",
    "-> 전처리 과정 data 준비\n",
    "\n",
    "1. timestep\n",
    "2. word_dim\n",
    "3. batch_size\n",
    "4. LSTM cell 출력차원\n",
    "-> LSTM, RNN 기반 설계 진행시 항상 고민\n",
    "\n",
    "입력과 셀 사이에 임베딩 층 (차원 축소 역할)\n",
    "'''"
   ]
  },
  {
   "cell_type": "code",
   "execution_count": 63,
   "id": "64b4d301",
   "metadata": {
    "ExecuteTime": {
     "end_time": "2023-11-09T06:42:56.027972Z",
     "start_time": "2023-11-09T06:42:55.954989Z"
    }
   },
   "outputs": [],
   "source": [
    "from tensorflow.keras.models import Sequential\n",
    "from tensorflow.keras.layers import Dense, LSTM, Embedding\n",
    "from tensorflow.keras.utils import to_categorical\n",
    "from tensorflow.keras.preprocessing import sequence\n",
    "from tensorflow.keras.datasets import reuters       # 로이터 뉴스 데이터셋 불러오기\n",
    "from tensorflow.keras.callbacks import EarlyStopping"
   ]
  },
  {
   "cell_type": "code",
   "execution_count": 64,
   "id": "4bda2f58",
   "metadata": {
    "ExecuteTime": {
     "end_time": "2023-11-09T06:42:56.084161Z",
     "start_time": "2023-11-09T06:42:56.029973Z"
    }
   },
   "outputs": [],
   "source": [
    "import numpy as np\n",
    "import matplotlib.pyplot as plt"
   ]
  },
  {
   "cell_type": "code",
   "execution_count": 65,
   "id": "d0b8f675",
   "metadata": {
    "ExecuteTime": {
     "end_time": "2023-11-09T06:42:56.645716Z",
     "start_time": "2023-11-09T06:42:56.085153Z"
    }
   },
   "outputs": [],
   "source": [
    "(X_train, y_train), (X_test, y_test) = reuters.load_data(num_words=1000, test_split=0.2)"
   ]
  },
  {
   "cell_type": "code",
   "execution_count": 66,
   "id": "79cbe52a",
   "metadata": {
    "ExecuteTime": {
     "end_time": "2023-11-09T06:42:56.650378Z",
     "start_time": "2023-11-09T06:42:56.646711Z"
    }
   },
   "outputs": [
    {
     "data": {
      "text/plain": [
       "(8982,)"
      ]
     },
     "execution_count": 66,
     "metadata": {},
     "output_type": "execute_result"
    }
   ],
   "source": [
    "X_train.shape #8982개의 뉴스기사"
   ]
  },
  {
   "cell_type": "code",
   "execution_count": 67,
   "id": "e06f9a39",
   "metadata": {
    "ExecuteTime": {
     "end_time": "2023-11-09T06:42:56.709459Z",
     "start_time": "2023-11-09T06:42:56.651373Z"
    },
    "scrolled": true
   },
   "outputs": [
    {
     "data": {
      "text/plain": [
       "[1,\n",
       " 2,\n",
       " 2,\n",
       " 8,\n",
       " 43,\n",
       " 10,\n",
       " 447,\n",
       " 5,\n",
       " 25,\n",
       " 207,\n",
       " 270,\n",
       " 5,\n",
       " 2,\n",
       " 111,\n",
       " 16,\n",
       " 369,\n",
       " 186,\n",
       " 90,\n",
       " 67,\n",
       " 7,\n",
       " 89,\n",
       " 5,\n",
       " 19,\n",
       " 102,\n",
       " 6,\n",
       " 19,\n",
       " 124,\n",
       " 15,\n",
       " 90,\n",
       " 67,\n",
       " 84,\n",
       " 22,\n",
       " 482,\n",
       " 26,\n",
       " 7,\n",
       " 48,\n",
       " 4,\n",
       " 49,\n",
       " 8,\n",
       " 864,\n",
       " 39,\n",
       " 209,\n",
       " 154,\n",
       " 6,\n",
       " 151,\n",
       " 6,\n",
       " 83,\n",
       " 11,\n",
       " 15,\n",
       " 22,\n",
       " 155,\n",
       " 11,\n",
       " 15,\n",
       " 7,\n",
       " 48,\n",
       " 9,\n",
       " 2,\n",
       " 2,\n",
       " 504,\n",
       " 6,\n",
       " 258,\n",
       " 6,\n",
       " 272,\n",
       " 11,\n",
       " 15,\n",
       " 22,\n",
       " 134,\n",
       " 44,\n",
       " 11,\n",
       " 15,\n",
       " 16,\n",
       " 8,\n",
       " 197,\n",
       " 2,\n",
       " 90,\n",
       " 67,\n",
       " 52,\n",
       " 29,\n",
       " 209,\n",
       " 30,\n",
       " 32,\n",
       " 132,\n",
       " 6,\n",
       " 109,\n",
       " 15,\n",
       " 17,\n",
       " 12]"
      ]
     },
     "execution_count": 67,
     "metadata": {},
     "output_type": "execute_result"
    }
   ],
   "source": [
    "X_train[0] #첫번째 뉴스기사, 숫자로 인코딩"
   ]
  },
  {
   "cell_type": "code",
   "execution_count": 68,
   "id": "276b8df0",
   "metadata": {
    "ExecuteTime": {
     "end_time": "2023-11-09T06:42:56.765786Z",
     "start_time": "2023-11-09T06:42:56.710450Z"
    }
   },
   "outputs": [
    {
     "data": {
      "text/plain": [
       "array([ 3,  4,  3, ..., 25,  3, 25], dtype=int64)"
      ]
     },
     "execution_count": 68,
     "metadata": {},
     "output_type": "execute_result"
    }
   ],
   "source": [
    "y_train #뉴스기사 카테고리"
   ]
  },
  {
   "cell_type": "code",
   "execution_count": 69,
   "id": "834cea57",
   "metadata": {
    "ExecuteTime": {
     "end_time": "2023-11-09T06:42:56.824480Z",
     "start_time": "2023-11-09T06:42:56.766779Z"
    }
   },
   "outputs": [
    {
     "data": {
      "text/plain": [
       "45"
      ]
     },
     "execution_count": 69,
     "metadata": {},
     "output_type": "execute_result"
    }
   ],
   "source": [
    "np.max(y_train) # 뉴스 기사 종류가 46개"
   ]
  },
  {
   "cell_type": "code",
   "execution_count": 70,
   "id": "8c684f70",
   "metadata": {
    "ExecuteTime": {
     "end_time": "2023-11-09T06:42:56.880463Z",
     "start_time": "2023-11-09T06:42:56.825472Z"
    }
   },
   "outputs": [
    {
     "data": {
      "text/plain": [
       "0"
      ]
     },
     "execution_count": 70,
     "metadata": {},
     "output_type": "execute_result"
    }
   ],
   "source": [
    "np.min(y_train) # 뉴스 기사 종류가 46개"
   ]
  },
  {
   "cell_type": "code",
   "execution_count": 71,
   "id": "027d9772",
   "metadata": {
    "ExecuteTime": {
     "end_time": "2023-11-09T06:42:56.935459Z",
     "start_time": "2023-11-09T06:42:56.882480Z"
    }
   },
   "outputs": [],
   "source": [
    "#모든 문장의 최대 길이를 100으로 정함\n",
    "#y_train 원핫인코딩"
   ]
  },
  {
   "cell_type": "code",
   "execution_count": 72,
   "id": "c7abe529",
   "metadata": {
    "ExecuteTime": {
     "end_time": "2023-11-09T06:42:57.049656Z",
     "start_time": "2023-11-09T06:42:56.936453Z"
    }
   },
   "outputs": [],
   "source": [
    "X_train = sequence.pad_sequences(X_train, maxlen=100)\n",
    "X_test =  sequence.pad_sequences(X_test, maxlen=100)"
   ]
  },
  {
   "cell_type": "code",
   "execution_count": 73,
   "id": "92dc0aef",
   "metadata": {
    "ExecuteTime": {
     "end_time": "2023-11-09T06:42:57.054156Z",
     "start_time": "2023-11-09T06:42:57.050676Z"
    }
   },
   "outputs": [],
   "source": [
    "y_train = to_categorical(y_train)\n",
    "y_test = to_categorical(y_test)"
   ]
  },
  {
   "cell_type": "code",
   "execution_count": 74,
   "id": "1f7136a0",
   "metadata": {
    "ExecuteTime": {
     "end_time": "2023-11-09T06:42:57.112775Z",
     "start_time": "2023-11-09T06:42:57.055151Z"
    }
   },
   "outputs": [],
   "source": [
    "model = Sequential()"
   ]
  },
  {
   "cell_type": "code",
   "execution_count": 75,
   "id": "b57dcd7a",
   "metadata": {
    "ExecuteTime": {
     "end_time": "2023-11-09T06:42:57.195277Z",
     "start_time": "2023-11-09T06:42:57.113590Z"
    }
   },
   "outputs": [],
   "source": [
    "model.add(Embedding(1000, 100))"
   ]
  },
  {
   "cell_type": "code",
   "execution_count": 76,
   "id": "45ef3579",
   "metadata": {
    "ExecuteTime": {
     "end_time": "2023-11-09T06:42:57.419726Z",
     "start_time": "2023-11-09T06:42:57.196271Z"
    }
   },
   "outputs": [],
   "source": [
    "model.add(LSTM(100))"
   ]
  },
  {
   "cell_type": "code",
   "execution_count": 77,
   "id": "49bf9537",
   "metadata": {
    "ExecuteTime": {
     "end_time": "2023-11-09T06:42:57.432785Z",
     "start_time": "2023-11-09T06:42:57.420708Z"
    }
   },
   "outputs": [],
   "source": [
    "model.add(Dense(46, activation='softmax'))"
   ]
  },
  {
   "cell_type": "code",
   "execution_count": 78,
   "id": "8525aa5c",
   "metadata": {
    "ExecuteTime": {
     "end_time": "2023-11-09T06:42:57.486973Z",
     "start_time": "2023-11-09T06:42:57.433674Z"
    }
   },
   "outputs": [],
   "source": [
    "model.compile(loss='categorical_crossentropy', optimizer='adam', metrics=['accuracy'])"
   ]
  },
  {
   "cell_type": "code",
   "execution_count": 79,
   "id": "77b19726",
   "metadata": {
    "ExecuteTime": {
     "end_time": "2023-11-09T06:42:57.540071Z",
     "start_time": "2023-11-09T06:42:57.487966Z"
    }
   },
   "outputs": [],
   "source": [
    "early_stopping_callback = EarlyStopping(monitor='val_loss', patience=5)"
   ]
  },
  {
   "cell_type": "code",
   "execution_count": 80,
   "id": "174fa784",
   "metadata": {
    "ExecuteTime": {
     "end_time": "2023-11-09T06:43:29.804060Z",
     "start_time": "2023-11-09T06:42:57.544042Z"
    }
   },
   "outputs": [
    {
     "name": "stdout",
     "output_type": "stream",
     "text": [
      "Epoch 1/200\n",
      "450/450 [==============================] - 21s 43ms/step - loss: 2.1621 - accuracy: 0.4521 - val_loss: 1.8632 - val_accuracy: 0.5058\n",
      "Epoch 2/200\n",
      "263/450 [================>.............] - ETA: 7s - loss: 1.8081 - accuracy: 0.5240"
     ]
    },
    {
     "ename": "KeyboardInterrupt",
     "evalue": "",
     "output_type": "error",
     "traceback": [
      "\u001b[1;31m---------------------------------------------------------------------------\u001b[0m",
      "\u001b[1;31mKeyboardInterrupt\u001b[0m                         Traceback (most recent call last)",
      "Cell \u001b[1;32mIn[80], line 1\u001b[0m\n\u001b[1;32m----> 1\u001b[0m history \u001b[38;5;241m=\u001b[39m model\u001b[38;5;241m.\u001b[39mfit(X_train, y_train, batch_size\u001b[38;5;241m=\u001b[39m\u001b[38;5;241m20\u001b[39m, epochs\u001b[38;5;241m=\u001b[39m\u001b[38;5;241m200\u001b[39m, validation_data\u001b[38;5;241m=\u001b[39m(X_test, y_test), callbacks\u001b[38;5;241m=\u001b[39m[early_stopping_callback])\n",
      "File \u001b[1;32m~\\anaconda3\\Lib\\site-packages\\keras\\src\\utils\\traceback_utils.py:65\u001b[0m, in \u001b[0;36mfilter_traceback.<locals>.error_handler\u001b[1;34m(*args, **kwargs)\u001b[0m\n\u001b[0;32m     63\u001b[0m filtered_tb \u001b[38;5;241m=\u001b[39m \u001b[38;5;28;01mNone\u001b[39;00m\n\u001b[0;32m     64\u001b[0m \u001b[38;5;28;01mtry\u001b[39;00m:\n\u001b[1;32m---> 65\u001b[0m     \u001b[38;5;28;01mreturn\u001b[39;00m fn(\u001b[38;5;241m*\u001b[39margs, \u001b[38;5;241m*\u001b[39m\u001b[38;5;241m*\u001b[39mkwargs)\n\u001b[0;32m     66\u001b[0m \u001b[38;5;28;01mexcept\u001b[39;00m \u001b[38;5;167;01mException\u001b[39;00m \u001b[38;5;28;01mas\u001b[39;00m e:\n\u001b[0;32m     67\u001b[0m     filtered_tb \u001b[38;5;241m=\u001b[39m _process_traceback_frames(e\u001b[38;5;241m.\u001b[39m__traceback__)\n",
      "File \u001b[1;32m~\\anaconda3\\Lib\\site-packages\\keras\\src\\engine\\training.py:1783\u001b[0m, in \u001b[0;36mModel.fit\u001b[1;34m(self, x, y, batch_size, epochs, verbose, callbacks, validation_split, validation_data, shuffle, class_weight, sample_weight, initial_epoch, steps_per_epoch, validation_steps, validation_batch_size, validation_freq, max_queue_size, workers, use_multiprocessing)\u001b[0m\n\u001b[0;32m   1775\u001b[0m \u001b[38;5;28;01mwith\u001b[39;00m tf\u001b[38;5;241m.\u001b[39mprofiler\u001b[38;5;241m.\u001b[39mexperimental\u001b[38;5;241m.\u001b[39mTrace(\n\u001b[0;32m   1776\u001b[0m     \u001b[38;5;124m\"\u001b[39m\u001b[38;5;124mtrain\u001b[39m\u001b[38;5;124m\"\u001b[39m,\n\u001b[0;32m   1777\u001b[0m     epoch_num\u001b[38;5;241m=\u001b[39mepoch,\n\u001b[1;32m   (...)\u001b[0m\n\u001b[0;32m   1780\u001b[0m     _r\u001b[38;5;241m=\u001b[39m\u001b[38;5;241m1\u001b[39m,\n\u001b[0;32m   1781\u001b[0m ):\n\u001b[0;32m   1782\u001b[0m     callbacks\u001b[38;5;241m.\u001b[39mon_train_batch_begin(step)\n\u001b[1;32m-> 1783\u001b[0m     tmp_logs \u001b[38;5;241m=\u001b[39m \u001b[38;5;28mself\u001b[39m\u001b[38;5;241m.\u001b[39mtrain_function(iterator)\n\u001b[0;32m   1784\u001b[0m     \u001b[38;5;28;01mif\u001b[39;00m data_handler\u001b[38;5;241m.\u001b[39mshould_sync:\n\u001b[0;32m   1785\u001b[0m         context\u001b[38;5;241m.\u001b[39masync_wait()\n",
      "File \u001b[1;32m~\\anaconda3\\Lib\\site-packages\\tensorflow\\python\\util\\traceback_utils.py:150\u001b[0m, in \u001b[0;36mfilter_traceback.<locals>.error_handler\u001b[1;34m(*args, **kwargs)\u001b[0m\n\u001b[0;32m    148\u001b[0m filtered_tb \u001b[38;5;241m=\u001b[39m \u001b[38;5;28;01mNone\u001b[39;00m\n\u001b[0;32m    149\u001b[0m \u001b[38;5;28;01mtry\u001b[39;00m:\n\u001b[1;32m--> 150\u001b[0m   \u001b[38;5;28;01mreturn\u001b[39;00m fn(\u001b[38;5;241m*\u001b[39margs, \u001b[38;5;241m*\u001b[39m\u001b[38;5;241m*\u001b[39mkwargs)\n\u001b[0;32m    151\u001b[0m \u001b[38;5;28;01mexcept\u001b[39;00m \u001b[38;5;167;01mException\u001b[39;00m \u001b[38;5;28;01mas\u001b[39;00m e:\n\u001b[0;32m    152\u001b[0m   filtered_tb \u001b[38;5;241m=\u001b[39m _process_traceback_frames(e\u001b[38;5;241m.\u001b[39m__traceback__)\n",
      "File \u001b[1;32m~\\anaconda3\\Lib\\site-packages\\tensorflow\\python\\eager\\polymorphic_function\\polymorphic_function.py:831\u001b[0m, in \u001b[0;36mFunction.__call__\u001b[1;34m(self, *args, **kwds)\u001b[0m\n\u001b[0;32m    828\u001b[0m compiler \u001b[38;5;241m=\u001b[39m \u001b[38;5;124m\"\u001b[39m\u001b[38;5;124mxla\u001b[39m\u001b[38;5;124m\"\u001b[39m \u001b[38;5;28;01mif\u001b[39;00m \u001b[38;5;28mself\u001b[39m\u001b[38;5;241m.\u001b[39m_jit_compile \u001b[38;5;28;01melse\u001b[39;00m \u001b[38;5;124m\"\u001b[39m\u001b[38;5;124mnonXla\u001b[39m\u001b[38;5;124m\"\u001b[39m\n\u001b[0;32m    830\u001b[0m \u001b[38;5;28;01mwith\u001b[39;00m OptionalXlaContext(\u001b[38;5;28mself\u001b[39m\u001b[38;5;241m.\u001b[39m_jit_compile):\n\u001b[1;32m--> 831\u001b[0m   result \u001b[38;5;241m=\u001b[39m \u001b[38;5;28mself\u001b[39m\u001b[38;5;241m.\u001b[39m_call(\u001b[38;5;241m*\u001b[39margs, \u001b[38;5;241m*\u001b[39m\u001b[38;5;241m*\u001b[39mkwds)\n\u001b[0;32m    833\u001b[0m new_tracing_count \u001b[38;5;241m=\u001b[39m \u001b[38;5;28mself\u001b[39m\u001b[38;5;241m.\u001b[39mexperimental_get_tracing_count()\n\u001b[0;32m    834\u001b[0m without_tracing \u001b[38;5;241m=\u001b[39m (tracing_count \u001b[38;5;241m==\u001b[39m new_tracing_count)\n",
      "File \u001b[1;32m~\\anaconda3\\Lib\\site-packages\\tensorflow\\python\\eager\\polymorphic_function\\polymorphic_function.py:867\u001b[0m, in \u001b[0;36mFunction._call\u001b[1;34m(self, *args, **kwds)\u001b[0m\n\u001b[0;32m    864\u001b[0m   \u001b[38;5;28mself\u001b[39m\u001b[38;5;241m.\u001b[39m_lock\u001b[38;5;241m.\u001b[39mrelease()\n\u001b[0;32m    865\u001b[0m   \u001b[38;5;66;03m# In this case we have created variables on the first call, so we run the\u001b[39;00m\n\u001b[0;32m    866\u001b[0m   \u001b[38;5;66;03m# defunned version which is guaranteed to never create variables.\u001b[39;00m\n\u001b[1;32m--> 867\u001b[0m   \u001b[38;5;28;01mreturn\u001b[39;00m tracing_compilation\u001b[38;5;241m.\u001b[39mcall_function(\n\u001b[0;32m    868\u001b[0m       args, kwds, \u001b[38;5;28mself\u001b[39m\u001b[38;5;241m.\u001b[39m_no_variable_creation_config\n\u001b[0;32m    869\u001b[0m   )\n\u001b[0;32m    870\u001b[0m \u001b[38;5;28;01melif\u001b[39;00m \u001b[38;5;28mself\u001b[39m\u001b[38;5;241m.\u001b[39m_variable_creation_config \u001b[38;5;129;01mis\u001b[39;00m \u001b[38;5;129;01mnot\u001b[39;00m \u001b[38;5;28;01mNone\u001b[39;00m:\n\u001b[0;32m    871\u001b[0m   \u001b[38;5;66;03m# Release the lock early so that multiple threads can perform the call\u001b[39;00m\n\u001b[0;32m    872\u001b[0m   \u001b[38;5;66;03m# in parallel.\u001b[39;00m\n\u001b[0;32m    873\u001b[0m   \u001b[38;5;28mself\u001b[39m\u001b[38;5;241m.\u001b[39m_lock\u001b[38;5;241m.\u001b[39mrelease()\n",
      "File \u001b[1;32m~\\anaconda3\\Lib\\site-packages\\tensorflow\\python\\eager\\polymorphic_function\\tracing_compilation.py:139\u001b[0m, in \u001b[0;36mcall_function\u001b[1;34m(args, kwargs, tracing_options)\u001b[0m\n\u001b[0;32m    137\u001b[0m bound_args \u001b[38;5;241m=\u001b[39m function\u001b[38;5;241m.\u001b[39mfunction_type\u001b[38;5;241m.\u001b[39mbind(\u001b[38;5;241m*\u001b[39margs, \u001b[38;5;241m*\u001b[39m\u001b[38;5;241m*\u001b[39mkwargs)\n\u001b[0;32m    138\u001b[0m flat_inputs \u001b[38;5;241m=\u001b[39m function\u001b[38;5;241m.\u001b[39mfunction_type\u001b[38;5;241m.\u001b[39munpack_inputs(bound_args)\n\u001b[1;32m--> 139\u001b[0m \u001b[38;5;28;01mreturn\u001b[39;00m function\u001b[38;5;241m.\u001b[39m_call_flat(  \u001b[38;5;66;03m# pylint: disable=protected-access\u001b[39;00m\n\u001b[0;32m    140\u001b[0m     flat_inputs, captured_inputs\u001b[38;5;241m=\u001b[39mfunction\u001b[38;5;241m.\u001b[39mcaptured_inputs\n\u001b[0;32m    141\u001b[0m )\n",
      "File \u001b[1;32m~\\anaconda3\\Lib\\site-packages\\tensorflow\\python\\eager\\polymorphic_function\\concrete_function.py:1264\u001b[0m, in \u001b[0;36mConcreteFunction._call_flat\u001b[1;34m(self, tensor_inputs, captured_inputs)\u001b[0m\n\u001b[0;32m   1260\u001b[0m possible_gradient_type \u001b[38;5;241m=\u001b[39m gradients_util\u001b[38;5;241m.\u001b[39mPossibleTapeGradientTypes(args)\n\u001b[0;32m   1261\u001b[0m \u001b[38;5;28;01mif\u001b[39;00m (possible_gradient_type \u001b[38;5;241m==\u001b[39m gradients_util\u001b[38;5;241m.\u001b[39mPOSSIBLE_GRADIENT_TYPES_NONE\n\u001b[0;32m   1262\u001b[0m     \u001b[38;5;129;01mand\u001b[39;00m executing_eagerly):\n\u001b[0;32m   1263\u001b[0m   \u001b[38;5;66;03m# No tape is watching; skip to running the function.\u001b[39;00m\n\u001b[1;32m-> 1264\u001b[0m   \u001b[38;5;28;01mreturn\u001b[39;00m \u001b[38;5;28mself\u001b[39m\u001b[38;5;241m.\u001b[39m_inference_function\u001b[38;5;241m.\u001b[39mflat_call(args)\n\u001b[0;32m   1265\u001b[0m forward_backward \u001b[38;5;241m=\u001b[39m \u001b[38;5;28mself\u001b[39m\u001b[38;5;241m.\u001b[39m_select_forward_and_backward_functions(\n\u001b[0;32m   1266\u001b[0m     args,\n\u001b[0;32m   1267\u001b[0m     possible_gradient_type,\n\u001b[0;32m   1268\u001b[0m     executing_eagerly)\n\u001b[0;32m   1269\u001b[0m forward_function, args_with_tangents \u001b[38;5;241m=\u001b[39m forward_backward\u001b[38;5;241m.\u001b[39mforward()\n",
      "File \u001b[1;32m~\\anaconda3\\Lib\\site-packages\\tensorflow\\python\\eager\\polymorphic_function\\atomic_function.py:217\u001b[0m, in \u001b[0;36mAtomicFunction.flat_call\u001b[1;34m(self, args)\u001b[0m\n\u001b[0;32m    215\u001b[0m \u001b[38;5;28;01mdef\u001b[39;00m \u001b[38;5;21mflat_call\u001b[39m(\u001b[38;5;28mself\u001b[39m, args: Sequence[core\u001b[38;5;241m.\u001b[39mTensor]) \u001b[38;5;241m-\u001b[39m\u001b[38;5;241m>\u001b[39m Any:\n\u001b[0;32m    216\u001b[0m \u001b[38;5;250m  \u001b[39m\u001b[38;5;124;03m\"\"\"Calls with tensor inputs and returns the structured output.\"\"\"\u001b[39;00m\n\u001b[1;32m--> 217\u001b[0m   flat_outputs \u001b[38;5;241m=\u001b[39m \u001b[38;5;28mself\u001b[39m(\u001b[38;5;241m*\u001b[39margs)\n\u001b[0;32m    218\u001b[0m   \u001b[38;5;28;01mreturn\u001b[39;00m \u001b[38;5;28mself\u001b[39m\u001b[38;5;241m.\u001b[39mfunction_type\u001b[38;5;241m.\u001b[39mpack_output(flat_outputs)\n",
      "File \u001b[1;32m~\\anaconda3\\Lib\\site-packages\\tensorflow\\python\\eager\\polymorphic_function\\atomic_function.py:252\u001b[0m, in \u001b[0;36mAtomicFunction.__call__\u001b[1;34m(self, *args)\u001b[0m\n\u001b[0;32m    250\u001b[0m \u001b[38;5;28;01mwith\u001b[39;00m record\u001b[38;5;241m.\u001b[39mstop_recording():\n\u001b[0;32m    251\u001b[0m   \u001b[38;5;28;01mif\u001b[39;00m \u001b[38;5;28mself\u001b[39m\u001b[38;5;241m.\u001b[39m_bound_context\u001b[38;5;241m.\u001b[39mexecuting_eagerly():\n\u001b[1;32m--> 252\u001b[0m     outputs \u001b[38;5;241m=\u001b[39m \u001b[38;5;28mself\u001b[39m\u001b[38;5;241m.\u001b[39m_bound_context\u001b[38;5;241m.\u001b[39mcall_function(\n\u001b[0;32m    253\u001b[0m         \u001b[38;5;28mself\u001b[39m\u001b[38;5;241m.\u001b[39mname,\n\u001b[0;32m    254\u001b[0m         \u001b[38;5;28mlist\u001b[39m(args),\n\u001b[0;32m    255\u001b[0m         \u001b[38;5;28mlen\u001b[39m(\u001b[38;5;28mself\u001b[39m\u001b[38;5;241m.\u001b[39mfunction_type\u001b[38;5;241m.\u001b[39mflat_outputs),\n\u001b[0;32m    256\u001b[0m     )\n\u001b[0;32m    257\u001b[0m   \u001b[38;5;28;01melse\u001b[39;00m:\n\u001b[0;32m    258\u001b[0m     outputs \u001b[38;5;241m=\u001b[39m make_call_op_in_graph(\n\u001b[0;32m    259\u001b[0m         \u001b[38;5;28mself\u001b[39m,\n\u001b[0;32m    260\u001b[0m         \u001b[38;5;28mlist\u001b[39m(args),\n\u001b[0;32m    261\u001b[0m         \u001b[38;5;28mself\u001b[39m\u001b[38;5;241m.\u001b[39m_bound_context\u001b[38;5;241m.\u001b[39mfunction_call_options\u001b[38;5;241m.\u001b[39mas_attrs(),\n\u001b[0;32m    262\u001b[0m     )\n",
      "File \u001b[1;32m~\\anaconda3\\Lib\\site-packages\\tensorflow\\python\\eager\\context.py:1479\u001b[0m, in \u001b[0;36mContext.call_function\u001b[1;34m(self, name, tensor_inputs, num_outputs)\u001b[0m\n\u001b[0;32m   1477\u001b[0m cancellation_context \u001b[38;5;241m=\u001b[39m cancellation\u001b[38;5;241m.\u001b[39mcontext()\n\u001b[0;32m   1478\u001b[0m \u001b[38;5;28;01mif\u001b[39;00m cancellation_context \u001b[38;5;129;01mis\u001b[39;00m \u001b[38;5;28;01mNone\u001b[39;00m:\n\u001b[1;32m-> 1479\u001b[0m   outputs \u001b[38;5;241m=\u001b[39m execute\u001b[38;5;241m.\u001b[39mexecute(\n\u001b[0;32m   1480\u001b[0m       name\u001b[38;5;241m.\u001b[39mdecode(\u001b[38;5;124m\"\u001b[39m\u001b[38;5;124mutf-8\u001b[39m\u001b[38;5;124m\"\u001b[39m),\n\u001b[0;32m   1481\u001b[0m       num_outputs\u001b[38;5;241m=\u001b[39mnum_outputs,\n\u001b[0;32m   1482\u001b[0m       inputs\u001b[38;5;241m=\u001b[39mtensor_inputs,\n\u001b[0;32m   1483\u001b[0m       attrs\u001b[38;5;241m=\u001b[39mattrs,\n\u001b[0;32m   1484\u001b[0m       ctx\u001b[38;5;241m=\u001b[39m\u001b[38;5;28mself\u001b[39m,\n\u001b[0;32m   1485\u001b[0m   )\n\u001b[0;32m   1486\u001b[0m \u001b[38;5;28;01melse\u001b[39;00m:\n\u001b[0;32m   1487\u001b[0m   outputs \u001b[38;5;241m=\u001b[39m execute\u001b[38;5;241m.\u001b[39mexecute_with_cancellation(\n\u001b[0;32m   1488\u001b[0m       name\u001b[38;5;241m.\u001b[39mdecode(\u001b[38;5;124m\"\u001b[39m\u001b[38;5;124mutf-8\u001b[39m\u001b[38;5;124m\"\u001b[39m),\n\u001b[0;32m   1489\u001b[0m       num_outputs\u001b[38;5;241m=\u001b[39mnum_outputs,\n\u001b[1;32m   (...)\u001b[0m\n\u001b[0;32m   1493\u001b[0m       cancellation_manager\u001b[38;5;241m=\u001b[39mcancellation_context,\n\u001b[0;32m   1494\u001b[0m   )\n",
      "File \u001b[1;32m~\\anaconda3\\Lib\\site-packages\\tensorflow\\python\\eager\\execute.py:60\u001b[0m, in \u001b[0;36mquick_execute\u001b[1;34m(op_name, num_outputs, inputs, attrs, ctx, name)\u001b[0m\n\u001b[0;32m     53\u001b[0m   \u001b[38;5;66;03m# Convert any objects of type core_types.Tensor to Tensor.\u001b[39;00m\n\u001b[0;32m     54\u001b[0m   inputs \u001b[38;5;241m=\u001b[39m [\n\u001b[0;32m     55\u001b[0m       tensor_conversion_registry\u001b[38;5;241m.\u001b[39mconvert(t)\n\u001b[0;32m     56\u001b[0m       \u001b[38;5;28;01mif\u001b[39;00m \u001b[38;5;28misinstance\u001b[39m(t, core_types\u001b[38;5;241m.\u001b[39mTensor)\n\u001b[0;32m     57\u001b[0m       \u001b[38;5;28;01melse\u001b[39;00m t\n\u001b[0;32m     58\u001b[0m       \u001b[38;5;28;01mfor\u001b[39;00m t \u001b[38;5;129;01min\u001b[39;00m inputs\n\u001b[0;32m     59\u001b[0m   ]\n\u001b[1;32m---> 60\u001b[0m   tensors \u001b[38;5;241m=\u001b[39m pywrap_tfe\u001b[38;5;241m.\u001b[39mTFE_Py_Execute(ctx\u001b[38;5;241m.\u001b[39m_handle, device_name, op_name,\n\u001b[0;32m     61\u001b[0m                                       inputs, attrs, num_outputs)\n\u001b[0;32m     62\u001b[0m \u001b[38;5;28;01mexcept\u001b[39;00m core\u001b[38;5;241m.\u001b[39m_NotOkStatusException \u001b[38;5;28;01mas\u001b[39;00m e:\n\u001b[0;32m     63\u001b[0m   \u001b[38;5;28;01mif\u001b[39;00m name \u001b[38;5;129;01mis\u001b[39;00m \u001b[38;5;129;01mnot\u001b[39;00m \u001b[38;5;28;01mNone\u001b[39;00m:\n",
      "\u001b[1;31mKeyboardInterrupt\u001b[0m: "
     ]
    }
   ],
   "source": [
    "history = model.fit(X_train, y_train, batch_size=20, epochs=200, validation_data=(X_test, y_test), callbacks=[early_stopping_callback])"
   ]
  },
  {
   "cell_type": "code",
   "execution_count": null,
   "id": "ee85a5d0",
   "metadata": {
    "ExecuteTime": {
     "end_time": "2023-11-09T06:43:29.806078Z",
     "start_time": "2023-11-09T06:43:29.806078Z"
    },
    "scrolled": true
   },
   "outputs": [],
   "source": [
    "print(\"\\n Test Accuracy: %.4f\" % (model.evaluate(X_test, y_test)[1]))"
   ]
  },
  {
   "cell_type": "code",
   "execution_count": null,
   "id": "c8e023dd",
   "metadata": {
    "ExecuteTime": {
     "end_time": "2023-11-09T06:43:29.806078Z",
     "start_time": "2023-11-09T06:43:29.806078Z"
    }
   },
   "outputs": [],
   "source": [
    "#history = model.fit(X_train, y_train, batch_size=20, epochs=200, validation_split=0.2, callbacks=[early_stopping_callback])\n",
    "#X_train, y_train 데이터에 대해 20%를 검증(validation)용으로 사용"
   ]
  },
  {
   "cell_type": "code",
   "execution_count": 103,
   "id": "c6a15324",
   "metadata": {
    "ExecuteTime": {
     "end_time": "2023-11-09T06:43:59.774868Z",
     "start_time": "2023-11-09T06:43:59.770949Z"
    }
   },
   "outputs": [],
   "source": [
    "import numpy as np \n",
    "import pandas as pd \n",
    "import seaborn as sns\n",
    "import matplotlib.pyplot as plt"
   ]
  },
  {
   "cell_type": "code",
   "execution_count": 104,
   "id": "2445cff4",
   "metadata": {
    "ExecuteTime": {
     "end_time": "2023-11-09T06:44:00.088570Z",
     "start_time": "2023-11-09T06:44:00.082601Z"
    }
   },
   "outputs": [],
   "source": [
    "data = pd.read_csv(\"tsla.us.txt\")"
   ]
  },
  {
   "cell_type": "code",
   "execution_count": 105,
   "id": "ddddbfa6",
   "metadata": {
    "ExecuteTime": {
     "end_time": "2023-11-09T06:44:00.343596Z",
     "start_time": "2023-11-09T06:44:00.333138Z"
    }
   },
   "outputs": [
    {
     "data": {
      "text/html": [
       "<div>\n",
       "<style scoped>\n",
       "    .dataframe tbody tr th:only-of-type {\n",
       "        vertical-align: middle;\n",
       "    }\n",
       "\n",
       "    .dataframe tbody tr th {\n",
       "        vertical-align: top;\n",
       "    }\n",
       "\n",
       "    .dataframe thead th {\n",
       "        text-align: right;\n",
       "    }\n",
       "</style>\n",
       "<table border=\"1\" class=\"dataframe\">\n",
       "  <thead>\n",
       "    <tr style=\"text-align: right;\">\n",
       "      <th></th>\n",
       "      <th>Date</th>\n",
       "      <th>Open</th>\n",
       "      <th>High</th>\n",
       "      <th>Low</th>\n",
       "      <th>Close</th>\n",
       "      <th>Volume</th>\n",
       "      <th>OpenInt</th>\n",
       "    </tr>\n",
       "  </thead>\n",
       "  <tbody>\n",
       "    <tr>\n",
       "      <th>0</th>\n",
       "      <td>2010-06-28</td>\n",
       "      <td>17.00</td>\n",
       "      <td>17.00</td>\n",
       "      <td>17.00</td>\n",
       "      <td>17.00</td>\n",
       "      <td>0</td>\n",
       "      <td>0</td>\n",
       "    </tr>\n",
       "    <tr>\n",
       "      <th>1</th>\n",
       "      <td>2010-06-29</td>\n",
       "      <td>19.00</td>\n",
       "      <td>25.00</td>\n",
       "      <td>17.54</td>\n",
       "      <td>23.89</td>\n",
       "      <td>18783276</td>\n",
       "      <td>0</td>\n",
       "    </tr>\n",
       "    <tr>\n",
       "      <th>2</th>\n",
       "      <td>2010-06-30</td>\n",
       "      <td>25.79</td>\n",
       "      <td>30.42</td>\n",
       "      <td>23.30</td>\n",
       "      <td>23.83</td>\n",
       "      <td>17194394</td>\n",
       "      <td>0</td>\n",
       "    </tr>\n",
       "    <tr>\n",
       "      <th>3</th>\n",
       "      <td>2010-07-01</td>\n",
       "      <td>25.00</td>\n",
       "      <td>25.92</td>\n",
       "      <td>20.27</td>\n",
       "      <td>21.96</td>\n",
       "      <td>8229863</td>\n",
       "      <td>0</td>\n",
       "    </tr>\n",
       "    <tr>\n",
       "      <th>4</th>\n",
       "      <td>2010-07-02</td>\n",
       "      <td>23.00</td>\n",
       "      <td>23.10</td>\n",
       "      <td>18.71</td>\n",
       "      <td>19.20</td>\n",
       "      <td>5141807</td>\n",
       "      <td>0</td>\n",
       "    </tr>\n",
       "    <tr>\n",
       "      <th>...</th>\n",
       "      <td>...</td>\n",
       "      <td>...</td>\n",
       "      <td>...</td>\n",
       "      <td>...</td>\n",
       "      <td>...</td>\n",
       "      <td>...</td>\n",
       "      <td>...</td>\n",
       "    </tr>\n",
       "    <tr>\n",
       "      <th>1853</th>\n",
       "      <td>2017-11-06</td>\n",
       "      <td>307.00</td>\n",
       "      <td>307.50</td>\n",
       "      <td>299.01</td>\n",
       "      <td>302.78</td>\n",
       "      <td>6482486</td>\n",
       "      <td>0</td>\n",
       "    </tr>\n",
       "    <tr>\n",
       "      <th>1854</th>\n",
       "      <td>2017-11-07</td>\n",
       "      <td>301.02</td>\n",
       "      <td>306.50</td>\n",
       "      <td>300.03</td>\n",
       "      <td>306.05</td>\n",
       "      <td>5286320</td>\n",
       "      <td>0</td>\n",
       "    </tr>\n",
       "    <tr>\n",
       "      <th>1855</th>\n",
       "      <td>2017-11-08</td>\n",
       "      <td>305.50</td>\n",
       "      <td>306.89</td>\n",
       "      <td>301.30</td>\n",
       "      <td>304.31</td>\n",
       "      <td>4725510</td>\n",
       "      <td>0</td>\n",
       "    </tr>\n",
       "    <tr>\n",
       "      <th>1856</th>\n",
       "      <td>2017-11-09</td>\n",
       "      <td>302.50</td>\n",
       "      <td>304.46</td>\n",
       "      <td>296.30</td>\n",
       "      <td>302.99</td>\n",
       "      <td>5440335</td>\n",
       "      <td>0</td>\n",
       "    </tr>\n",
       "    <tr>\n",
       "      <th>1857</th>\n",
       "      <td>2017-11-10</td>\n",
       "      <td>302.50</td>\n",
       "      <td>308.36</td>\n",
       "      <td>301.85</td>\n",
       "      <td>302.99</td>\n",
       "      <td>4621912</td>\n",
       "      <td>0</td>\n",
       "    </tr>\n",
       "  </tbody>\n",
       "</table>\n",
       "<p>1858 rows × 7 columns</p>\n",
       "</div>"
      ],
      "text/plain": [
       "            Date    Open    High     Low   Close    Volume  OpenInt\n",
       "0     2010-06-28   17.00   17.00   17.00   17.00         0        0\n",
       "1     2010-06-29   19.00   25.00   17.54   23.89  18783276        0\n",
       "2     2010-06-30   25.79   30.42   23.30   23.83  17194394        0\n",
       "3     2010-07-01   25.00   25.92   20.27   21.96   8229863        0\n",
       "4     2010-07-02   23.00   23.10   18.71   19.20   5141807        0\n",
       "...          ...     ...     ...     ...     ...       ...      ...\n",
       "1853  2017-11-06  307.00  307.50  299.01  302.78   6482486        0\n",
       "1854  2017-11-07  301.02  306.50  300.03  306.05   5286320        0\n",
       "1855  2017-11-08  305.50  306.89  301.30  304.31   4725510        0\n",
       "1856  2017-11-09  302.50  304.46  296.30  302.99   5440335        0\n",
       "1857  2017-11-10  302.50  308.36  301.85  302.99   4621912        0\n",
       "\n",
       "[1858 rows x 7 columns]"
      ]
     },
     "execution_count": 105,
     "metadata": {},
     "output_type": "execute_result"
    }
   ],
   "source": [
    "data"
   ]
  },
  {
   "cell_type": "code",
   "execution_count": 106,
   "id": "d9acd54a",
   "metadata": {
    "ExecuteTime": {
     "end_time": "2023-11-09T06:44:01.316404Z",
     "start_time": "2023-11-09T06:44:01.307945Z"
    }
   },
   "outputs": [
    {
     "data": {
      "text/html": [
       "<div>\n",
       "<style scoped>\n",
       "    .dataframe tbody tr th:only-of-type {\n",
       "        vertical-align: middle;\n",
       "    }\n",
       "\n",
       "    .dataframe tbody tr th {\n",
       "        vertical-align: top;\n",
       "    }\n",
       "\n",
       "    .dataframe thead th {\n",
       "        text-align: right;\n",
       "    }\n",
       "</style>\n",
       "<table border=\"1\" class=\"dataframe\">\n",
       "  <thead>\n",
       "    <tr style=\"text-align: right;\">\n",
       "      <th></th>\n",
       "      <th>Date</th>\n",
       "      <th>Open</th>\n",
       "      <th>High</th>\n",
       "      <th>Low</th>\n",
       "      <th>Close</th>\n",
       "      <th>Volume</th>\n",
       "      <th>OpenInt</th>\n",
       "    </tr>\n",
       "  </thead>\n",
       "  <tbody>\n",
       "    <tr>\n",
       "      <th>0</th>\n",
       "      <td>2010-06-28</td>\n",
       "      <td>17.00</td>\n",
       "      <td>17.00</td>\n",
       "      <td>17.00</td>\n",
       "      <td>17.00</td>\n",
       "      <td>0</td>\n",
       "      <td>0</td>\n",
       "    </tr>\n",
       "    <tr>\n",
       "      <th>1</th>\n",
       "      <td>2010-06-29</td>\n",
       "      <td>19.00</td>\n",
       "      <td>25.00</td>\n",
       "      <td>17.54</td>\n",
       "      <td>23.89</td>\n",
       "      <td>18783276</td>\n",
       "      <td>0</td>\n",
       "    </tr>\n",
       "    <tr>\n",
       "      <th>2</th>\n",
       "      <td>2010-06-30</td>\n",
       "      <td>25.79</td>\n",
       "      <td>30.42</td>\n",
       "      <td>23.30</td>\n",
       "      <td>23.83</td>\n",
       "      <td>17194394</td>\n",
       "      <td>0</td>\n",
       "    </tr>\n",
       "    <tr>\n",
       "      <th>3</th>\n",
       "      <td>2010-07-01</td>\n",
       "      <td>25.00</td>\n",
       "      <td>25.92</td>\n",
       "      <td>20.27</td>\n",
       "      <td>21.96</td>\n",
       "      <td>8229863</td>\n",
       "      <td>0</td>\n",
       "    </tr>\n",
       "    <tr>\n",
       "      <th>4</th>\n",
       "      <td>2010-07-02</td>\n",
       "      <td>23.00</td>\n",
       "      <td>23.10</td>\n",
       "      <td>18.71</td>\n",
       "      <td>19.20</td>\n",
       "      <td>5141807</td>\n",
       "      <td>0</td>\n",
       "    </tr>\n",
       "  </tbody>\n",
       "</table>\n",
       "</div>"
      ],
      "text/plain": [
       "         Date   Open   High    Low  Close    Volume  OpenInt\n",
       "0  2010-06-28  17.00  17.00  17.00  17.00         0        0\n",
       "1  2010-06-29  19.00  25.00  17.54  23.89  18783276        0\n",
       "2  2010-06-30  25.79  30.42  23.30  23.83  17194394        0\n",
       "3  2010-07-01  25.00  25.92  20.27  21.96   8229863        0\n",
       "4  2010-07-02  23.00  23.10  18.71  19.20   5141807        0"
      ]
     },
     "execution_count": 106,
     "metadata": {},
     "output_type": "execute_result"
    }
   ],
   "source": [
    "data.head()"
   ]
  },
  {
   "cell_type": "code",
   "execution_count": 107,
   "id": "60595f2d",
   "metadata": {
    "ExecuteTime": {
     "end_time": "2023-11-09T06:44:02.239649Z",
     "start_time": "2023-11-09T06:44:02.234757Z"
    }
   },
   "outputs": [
    {
     "data": {
      "text/plain": [
       "(1858, 7)"
      ]
     },
     "execution_count": 107,
     "metadata": {},
     "output_type": "execute_result"
    }
   ],
   "source": [
    "data.shape"
   ]
  },
  {
   "cell_type": "code",
   "execution_count": 108,
   "id": "ca6f3fb9",
   "metadata": {
    "ExecuteTime": {
     "end_time": "2023-11-09T06:44:02.655383Z",
     "start_time": "2023-11-09T06:44:02.635586Z"
    }
   },
   "outputs": [
    {
     "data": {
      "text/html": [
       "<div>\n",
       "<style scoped>\n",
       "    .dataframe tbody tr th:only-of-type {\n",
       "        vertical-align: middle;\n",
       "    }\n",
       "\n",
       "    .dataframe tbody tr th {\n",
       "        vertical-align: top;\n",
       "    }\n",
       "\n",
       "    .dataframe thead th {\n",
       "        text-align: right;\n",
       "    }\n",
       "</style>\n",
       "<table border=\"1\" class=\"dataframe\">\n",
       "  <thead>\n",
       "    <tr style=\"text-align: right;\">\n",
       "      <th></th>\n",
       "      <th>Open</th>\n",
       "      <th>High</th>\n",
       "      <th>Low</th>\n",
       "      <th>Close</th>\n",
       "      <th>Volume</th>\n",
       "      <th>OpenInt</th>\n",
       "    </tr>\n",
       "  </thead>\n",
       "  <tbody>\n",
       "    <tr>\n",
       "      <th>count</th>\n",
       "      <td>1858.000000</td>\n",
       "      <td>1858.000000</td>\n",
       "      <td>1858.000000</td>\n",
       "      <td>1858.000000</td>\n",
       "      <td>1.858000e+03</td>\n",
       "      <td>1858.0</td>\n",
       "    </tr>\n",
       "    <tr>\n",
       "      <th>mean</th>\n",
       "      <td>150.389741</td>\n",
       "      <td>152.898737</td>\n",
       "      <td>147.688064</td>\n",
       "      <td>150.355047</td>\n",
       "      <td>4.416508e+06</td>\n",
       "      <td>0.0</td>\n",
       "    </tr>\n",
       "    <tr>\n",
       "      <th>std</th>\n",
       "      <td>107.071675</td>\n",
       "      <td>108.490099</td>\n",
       "      <td>105.481665</td>\n",
       "      <td>107.023737</td>\n",
       "      <td>4.244294e+06</td>\n",
       "      <td>0.0</td>\n",
       "    </tr>\n",
       "    <tr>\n",
       "      <th>min</th>\n",
       "      <td>16.140000</td>\n",
       "      <td>16.630000</td>\n",
       "      <td>8.030000</td>\n",
       "      <td>15.800000</td>\n",
       "      <td>0.000000e+00</td>\n",
       "      <td>0.0</td>\n",
       "    </tr>\n",
       "    <tr>\n",
       "      <th>25%</th>\n",
       "      <td>31.002500</td>\n",
       "      <td>31.732500</td>\n",
       "      <td>30.285000</td>\n",
       "      <td>31.112500</td>\n",
       "      <td>1.283324e+06</td>\n",
       "      <td>0.0</td>\n",
       "    </tr>\n",
       "    <tr>\n",
       "      <th>50%</th>\n",
       "      <td>184.440000</td>\n",
       "      <td>188.660000</td>\n",
       "      <td>181.450000</td>\n",
       "      <td>184.850000</td>\n",
       "      <td>3.421026e+06</td>\n",
       "      <td>0.0</td>\n",
       "    </tr>\n",
       "    <tr>\n",
       "      <th>75%</th>\n",
       "      <td>231.477500</td>\n",
       "      <td>235.375000</td>\n",
       "      <td>227.772500</td>\n",
       "      <td>230.920000</td>\n",
       "      <td>5.917672e+06</td>\n",
       "      <td>0.0</td>\n",
       "    </tr>\n",
       "    <tr>\n",
       "      <th>max</th>\n",
       "      <td>386.690000</td>\n",
       "      <td>389.610000</td>\n",
       "      <td>379.345000</td>\n",
       "      <td>385.000000</td>\n",
       "      <td>3.714989e+07</td>\n",
       "      <td>0.0</td>\n",
       "    </tr>\n",
       "  </tbody>\n",
       "</table>\n",
       "</div>"
      ],
      "text/plain": [
       "              Open         High          Low        Close        Volume  \\\n",
       "count  1858.000000  1858.000000  1858.000000  1858.000000  1.858000e+03   \n",
       "mean    150.389741   152.898737   147.688064   150.355047  4.416508e+06   \n",
       "std     107.071675   108.490099   105.481665   107.023737  4.244294e+06   \n",
       "min      16.140000    16.630000     8.030000    15.800000  0.000000e+00   \n",
       "25%      31.002500    31.732500    30.285000    31.112500  1.283324e+06   \n",
       "50%     184.440000   188.660000   181.450000   184.850000  3.421026e+06   \n",
       "75%     231.477500   235.375000   227.772500   230.920000  5.917672e+06   \n",
       "max     386.690000   389.610000   379.345000   385.000000  3.714989e+07   \n",
       "\n",
       "       OpenInt  \n",
       "count   1858.0  \n",
       "mean       0.0  \n",
       "std        0.0  \n",
       "min        0.0  \n",
       "25%        0.0  \n",
       "50%        0.0  \n",
       "75%        0.0  \n",
       "max        0.0  "
      ]
     },
     "execution_count": 108,
     "metadata": {},
     "output_type": "execute_result"
    }
   ],
   "source": [
    "data.describe()"
   ]
  },
  {
   "cell_type": "code",
   "execution_count": 109,
   "id": "af9c3203",
   "metadata": {
    "ExecuteTime": {
     "end_time": "2023-11-09T06:44:03.049302Z",
     "start_time": "2023-11-09T06:44:03.043273Z"
    }
   },
   "outputs": [
    {
     "data": {
      "text/plain": [
       "Date       0\n",
       "Open       0\n",
       "High       0\n",
       "Low        0\n",
       "Close      0\n",
       "Volume     0\n",
       "OpenInt    0\n",
       "dtype: int64"
      ]
     },
     "execution_count": 109,
     "metadata": {},
     "output_type": "execute_result"
    }
   ],
   "source": [
    "data.isna().sum()"
   ]
  },
  {
   "cell_type": "code",
   "execution_count": 110,
   "id": "261d7864",
   "metadata": {
    "ExecuteTime": {
     "end_time": "2023-11-09T06:44:03.886738Z",
     "start_time": "2023-11-09T06:44:03.883038Z"
    }
   },
   "outputs": [],
   "source": [
    "training_size = int(len(data)*0.80)\n",
    "data_len = len(data)"
   ]
  },
  {
   "cell_type": "code",
   "execution_count": 111,
   "id": "86cc30f0",
   "metadata": {
    "ExecuteTime": {
     "end_time": "2023-11-09T06:44:04.119174Z",
     "start_time": "2023-11-09T06:44:04.116065Z"
    }
   },
   "outputs": [],
   "source": [
    "train, test = data[0:training_size],data[training_size:data_len]"
   ]
  },
  {
   "cell_type": "code",
   "execution_count": 112,
   "id": "9975abfc",
   "metadata": {
    "ExecuteTime": {
     "end_time": "2023-11-09T06:44:04.303466Z",
     "start_time": "2023-11-09T06:44:04.299714Z"
    }
   },
   "outputs": [
    {
     "name": "stdout",
     "output_type": "stream",
     "text": [
      "Training Size -->  1486\n",
      "total length of data -->  1858\n",
      "Train length -->  1486\n",
      "Test length -->  372\n"
     ]
    }
   ],
   "source": [
    "print(\"Training Size --> \", training_size)\n",
    "print(\"total length of data --> \", data_len)\n",
    "print(\"Train length --> \", len(train))\n",
    "print(\"Test length --> \", len(test))"
   ]
  },
  {
   "cell_type": "code",
   "execution_count": 113,
   "id": "fdb68275",
   "metadata": {
    "ExecuteTime": {
     "end_time": "2023-11-09T06:44:11.151639Z",
     "start_time": "2023-11-09T06:44:11.147000Z"
    }
   },
   "outputs": [],
   "source": [
    "train = train.loc[:, [\"Open\"]].values"
   ]
  },
  {
   "cell_type": "code",
   "execution_count": 114,
   "id": "943cd00e",
   "metadata": {
    "ExecuteTime": {
     "end_time": "2023-11-09T06:44:12.040028Z",
     "start_time": "2023-11-09T06:44:12.034816Z"
    }
   },
   "outputs": [
    {
     "data": {
      "text/plain": [
       "array([[ 17.  ],\n",
       "       [ 19.  ],\n",
       "       [ 25.79],\n",
       "       ...,\n",
       "       [213.62],\n",
       "       [216.99],\n",
       "       [219.87]])"
      ]
     },
     "execution_count": 114,
     "metadata": {},
     "output_type": "execute_result"
    }
   ],
   "source": [
    "train"
   ]
  },
  {
   "cell_type": "code",
   "execution_count": 115,
   "id": "96a017d5",
   "metadata": {
    "ExecuteTime": {
     "end_time": "2023-11-09T06:44:12.343734Z",
     "start_time": "2023-11-09T06:44:12.339507Z"
    }
   },
   "outputs": [],
   "source": [
    "from sklearn.preprocessing import MinMaxScaler\n",
    "scaler = MinMaxScaler(feature_range=(0, 1)) # 0~1 사이로 스케일링\n",
    "train_scaled = scaler.fit_transform(train)"
   ]
  },
  {
   "cell_type": "code",
   "execution_count": 116,
   "id": "b5e0a602",
   "metadata": {
    "ExecuteTime": {
     "end_time": "2023-11-09T06:44:13.215867Z",
     "start_time": "2023-11-09T06:44:13.211452Z"
    }
   },
   "outputs": [
    {
     "data": {
      "text/plain": [
       "array([[0.00316724],\n",
       "       [0.01053291],\n",
       "       [0.03553935],\n",
       "       ...,\n",
       "       [0.72728612],\n",
       "       [0.73969727],\n",
       "       [0.75030383]])"
      ]
     },
     "execution_count": 116,
     "metadata": {},
     "output_type": "execute_result"
    }
   ],
   "source": [
    "train_scaled"
   ]
  },
  {
   "cell_type": "code",
   "execution_count": 117,
   "id": "7e6cf5cf",
   "metadata": {
    "ExecuteTime": {
     "end_time": "2023-11-09T06:44:14.328490Z",
     "start_time": "2023-11-09T06:44:14.323935Z"
    }
   },
   "outputs": [
    {
     "data": {
      "text/plain": [
       "1486"
      ]
     },
     "execution_count": 117,
     "metadata": {},
     "output_type": "execute_result"
    }
   ],
   "source": [
    "end_len = len(train_scaled)\n",
    "end_len"
   ]
  },
  {
   "cell_type": "code",
   "execution_count": 118,
   "id": "ef5c7d56",
   "metadata": {
    "ExecuteTime": {
     "end_time": "2023-11-09T06:44:15.623731Z",
     "start_time": "2023-11-09T06:44:15.620255Z"
    }
   },
   "outputs": [],
   "source": [
    "X_train = []\n",
    "y_train = []\n",
    "timesteps = 40"
   ]
  },
  {
   "cell_type": "code",
   "execution_count": 119,
   "id": "795a1436",
   "metadata": {
    "ExecuteTime": {
     "end_time": "2023-11-09T06:44:15.992045Z",
     "start_time": "2023-11-09T06:44:15.987495Z"
    }
   },
   "outputs": [],
   "source": [
    "for i in range(timesteps, end_len):\n",
    "    X_train.append(train_scaled[i-timesteps:i, 0])\n",
    "    y_train.append(train_scaled[i,0])"
   ]
  },
  {
   "cell_type": "code",
   "execution_count": 120,
   "id": "db360bb2",
   "metadata": {
    "ExecuteTime": {
     "end_time": "2023-11-09T06:44:16.448666Z",
     "start_time": "2023-11-09T06:44:16.442846Z"
    }
   },
   "outputs": [
    {
     "data": {
      "text/plain": [
       "array([0.00316724, 0.01053291, 0.03553935, 0.03262991, 0.02526424,\n",
       "       0.01421574, 0.00095754, 0.        , 0.00530328, 0.00666593,\n",
       "       0.00460354, 0.0066291 , 0.01399477, 0.01679372, 0.01926122,\n",
       "       0.02102898, 0.01664641, 0.01605716, 0.01859831, 0.01973999,\n",
       "       0.01756712, 0.0162413 , 0.01705152, 0.01495231, 0.01605716,\n",
       "       0.01789857, 0.02139727, 0.01988731, 0.01458402, 0.01384746,\n",
       "       0.01292675, 0.00939123, 0.0061135 , 0.00751298, 0.00850735,\n",
       "       0.01038559, 0.01270578, 0.0088388 , 0.00924391, 0.01086436])"
      ]
     },
     "execution_count": 120,
     "metadata": {},
     "output_type": "execute_result"
    }
   ],
   "source": [
    "train_scaled[0:40,0] #40일간의 시가"
   ]
  },
  {
   "cell_type": "code",
   "execution_count": 99,
   "id": "7325be8d",
   "metadata": {
    "ExecuteTime": {
     "end_time": "2023-11-09T06:43:39.663438Z",
     "start_time": "2023-11-09T06:43:39.658490Z"
    }
   },
   "outputs": [
    {
     "data": {
      "text/plain": [
       "0.01145361470187456"
      ]
     },
     "execution_count": 99,
     "metadata": {},
     "output_type": "execute_result"
    }
   ],
   "source": [
    "train_scaled[40,0] #40+1번째의 "
   ]
  },
  {
   "cell_type": "code",
   "execution_count": 121,
   "id": "a33fbc67",
   "metadata": {
    "ExecuteTime": {
     "end_time": "2023-11-09T06:44:22.088023Z",
     "start_time": "2023-11-09T06:44:22.083906Z"
    }
   },
   "outputs": [],
   "source": [
    "X_train, y_train = np.array(X_train), np.array(y_train)"
   ]
  },
  {
   "cell_type": "code",
   "execution_count": 122,
   "id": "7f00e878",
   "metadata": {
    "ExecuteTime": {
     "end_time": "2023-11-09T06:44:22.888455Z",
     "start_time": "2023-11-09T06:44:22.883470Z"
    }
   },
   "outputs": [
    {
     "data": {
      "text/plain": [
       "(1446, 40)"
      ]
     },
     "execution_count": 122,
     "metadata": {},
     "output_type": "execute_result"
    }
   ],
   "source": [
    "X_train.shape"
   ]
  },
  {
   "cell_type": "code",
   "execution_count": 123,
   "id": "c075a863",
   "metadata": {
    "ExecuteTime": {
     "end_time": "2023-11-09T06:44:23.295160Z",
     "start_time": "2023-11-09T06:44:23.291379Z"
    }
   },
   "outputs": [
    {
     "data": {
      "text/plain": [
       "(1446,)"
      ]
     },
     "execution_count": 123,
     "metadata": {},
     "output_type": "execute_result"
    }
   ],
   "source": [
    "y_train.shape"
   ]
  },
  {
   "cell_type": "code",
   "execution_count": null,
   "id": "c9fb4664",
   "metadata": {},
   "outputs": [],
   "source": [
    "# RNN : 입력 데이터의 구조를 3차원으로 해야함"
   ]
  },
  {
   "cell_type": "code",
   "execution_count": 126,
   "id": "50c1c7ec",
   "metadata": {
    "ExecuteTime": {
     "end_time": "2023-11-09T06:48:02.199257Z",
     "start_time": "2023-11-09T06:48:02.195550Z"
    }
   },
   "outputs": [],
   "source": [
    "X_train\n",
    "X_train = np.reshape(X_train, (X_train.shape[0], X_train.shape[1],1))"
   ]
  },
  {
   "cell_type": "code",
   "execution_count": 128,
   "id": "dbea9a8b",
   "metadata": {
    "ExecuteTime": {
     "end_time": "2023-11-09T06:48:11.872113Z",
     "start_time": "2023-11-09T06:48:11.868125Z"
    }
   },
   "outputs": [
    {
     "data": {
      "text/plain": [
       "(1446, 40, 1)"
      ]
     },
     "execution_count": 128,
     "metadata": {},
     "output_type": "execute_result"
    }
   ],
   "source": [
    "X_train.shape\n",
    "#(데이터 갯수, timestep, dimension)"
   ]
  },
  {
   "cell_type": "code",
   "execution_count": 129,
   "id": "b51b7e68",
   "metadata": {
    "ExecuteTime": {
     "end_time": "2023-11-09T06:49:29.447222Z",
     "start_time": "2023-11-09T06:49:29.444087Z"
    }
   },
   "outputs": [],
   "source": [
    "from keras.models import Sequential\n",
    "from keras.layers import Dense\n",
    "from keras.layers import SimpleRNN\n",
    "from keras.layers import Dropout"
   ]
  },
  {
   "cell_type": "code",
   "execution_count": 130,
   "id": "c0042b55",
   "metadata": {
    "ExecuteTime": {
     "end_time": "2023-11-09T06:50:16.250063Z",
     "start_time": "2023-11-09T06:50:16.244143Z"
    }
   },
   "outputs": [],
   "source": [
    "regressor = Sequential()"
   ]
  },
  {
   "cell_type": "code",
   "execution_count": 131,
   "id": "234515dd",
   "metadata": {
    "ExecuteTime": {
     "end_time": "2023-11-09T06:58:07.954692Z",
     "start_time": "2023-11-09T06:58:07.765921Z"
    }
   },
   "outputs": [],
   "source": [
    "regressor.add(SimpleRNN(units=50, activation='tanh', return_sequences=True, input_shape=(X_train.shape[1], 1)))\n",
    "regressor.add(Dropout(0.2))\n",
    "regressor.add(SimpleRNN(units=50, activation='tanh', return_sequences=True))\n",
    "regressor.add(Dropout(0.2))\n",
    "regressor.add(SimpleRNN(units=50, activation='tanh', return_sequences=True))\n",
    "regressor.add(Dropout(0.2))\n",
    "regressor.add(SimpleRNN(units=50, activation='tanh'))\n",
    "regressor.add(Dropout(0.2))\n",
    "regressor.add(Dense(units=1))"
   ]
  },
  {
   "cell_type": "code",
   "execution_count": 132,
   "id": "4bf28f34",
   "metadata": {
    "ExecuteTime": {
     "end_time": "2023-11-09T06:59:21.581879Z",
     "start_time": "2023-11-09T06:59:21.572350Z"
    }
   },
   "outputs": [],
   "source": [
    "regressor.compile(optimizer= \"adam\", loss = \"mean_squared_error\")"
   ]
  },
  {
   "cell_type": "code",
   "execution_count": 133,
   "id": "43a04210",
   "metadata": {
    "ExecuteTime": {
     "end_time": "2023-11-09T07:00:11.095880Z",
     "start_time": "2023-11-09T07:00:11.092741Z"
    }
   },
   "outputs": [],
   "source": [
    "epochs = 100 \n",
    "batch_size = 20"
   ]
  },
  {
   "cell_type": "code",
   "execution_count": 134,
   "id": "19a1037b",
   "metadata": {
    "ExecuteTime": {
     "end_time": "2023-11-09T07:01:56.828321Z",
     "start_time": "2023-11-09T07:00:16.235360Z"
    }
   },
   "outputs": [
    {
     "name": "stdout",
     "output_type": "stream",
     "text": [
      "Epoch 1/100\n",
      "73/73 [==============================] - 3s 14ms/step - loss: 0.2771\n",
      "Epoch 2/100\n",
      "73/73 [==============================] - 1s 14ms/step - loss: 0.1452\n",
      "Epoch 3/100\n",
      "73/73 [==============================] - 1s 14ms/step - loss: 0.0763\n",
      "Epoch 4/100\n",
      "73/73 [==============================] - 1s 14ms/step - loss: 0.0626\n",
      "Epoch 5/100\n",
      "73/73 [==============================] - 1s 13ms/step - loss: 0.0450\n",
      "Epoch 6/100\n",
      "73/73 [==============================] - 1s 13ms/step - loss: 0.0339\n",
      "Epoch 7/100\n",
      "73/73 [==============================] - 1s 13ms/step - loss: 0.0293\n",
      "Epoch 8/100\n",
      "73/73 [==============================] - 1s 13ms/step - loss: 0.0228\n",
      "Epoch 9/100\n",
      "73/73 [==============================] - 1s 13ms/step - loss: 0.0200\n",
      "Epoch 10/100\n",
      "73/73 [==============================] - 1s 13ms/step - loss: 0.0184\n",
      "Epoch 11/100\n",
      "73/73 [==============================] - 1s 13ms/step - loss: 0.0170\n",
      "Epoch 12/100\n",
      "73/73 [==============================] - 1s 13ms/step - loss: 0.0154\n",
      "Epoch 13/100\n",
      "73/73 [==============================] - 1s 13ms/step - loss: 0.0153\n",
      "Epoch 14/100\n",
      "73/73 [==============================] - 1s 14ms/step - loss: 0.0130\n",
      "Epoch 15/100\n",
      "73/73 [==============================] - 1s 13ms/step - loss: 0.0101\n",
      "Epoch 16/100\n",
      "73/73 [==============================] - 1s 13ms/step - loss: 0.0099\n",
      "Epoch 17/100\n",
      "73/73 [==============================] - 1s 13ms/step - loss: 0.0088\n",
      "Epoch 18/100\n",
      "73/73 [==============================] - 1s 13ms/step - loss: 0.0094\n",
      "Epoch 19/100\n",
      "73/73 [==============================] - 1s 13ms/step - loss: 0.0081\n",
      "Epoch 20/100\n",
      "73/73 [==============================] - 1s 14ms/step - loss: 0.0070\n",
      "Epoch 21/100\n",
      "73/73 [==============================] - 1s 13ms/step - loss: 0.0074\n",
      "Epoch 22/100\n",
      "73/73 [==============================] - 1s 13ms/step - loss: 0.0065\n",
      "Epoch 23/100\n",
      "73/73 [==============================] - 1s 13ms/step - loss: 0.0064\n",
      "Epoch 24/100\n",
      "73/73 [==============================] - 1s 13ms/step - loss: 0.0061\n",
      "Epoch 25/100\n",
      "73/73 [==============================] - 1s 13ms/step - loss: 0.0059\n",
      "Epoch 26/100\n",
      "73/73 [==============================] - 1s 13ms/step - loss: 0.0049\n",
      "Epoch 27/100\n",
      "73/73 [==============================] - 1s 13ms/step - loss: 0.0053\n",
      "Epoch 28/100\n",
      "73/73 [==============================] - 1s 13ms/step - loss: 0.0046\n",
      "Epoch 29/100\n",
      "73/73 [==============================] - 1s 13ms/step - loss: 0.0041\n",
      "Epoch 30/100\n",
      "73/73 [==============================] - 1s 13ms/step - loss: 0.0041\n",
      "Epoch 31/100\n",
      "73/73 [==============================] - 1s 13ms/step - loss: 0.0041\n",
      "Epoch 32/100\n",
      "73/73 [==============================] - 1s 13ms/step - loss: 0.0042\n",
      "Epoch 33/100\n",
      "73/73 [==============================] - 1s 13ms/step - loss: 0.0046\n",
      "Epoch 34/100\n",
      "73/73 [==============================] - 1s 13ms/step - loss: 0.0041\n",
      "Epoch 35/100\n",
      "73/73 [==============================] - 1s 13ms/step - loss: 0.0036\n",
      "Epoch 36/100\n",
      "73/73 [==============================] - 1s 13ms/step - loss: 0.0035\n",
      "Epoch 37/100\n",
      "73/73 [==============================] - 1s 13ms/step - loss: 0.0037\n",
      "Epoch 38/100\n",
      "73/73 [==============================] - 1s 13ms/step - loss: 0.0038\n",
      "Epoch 39/100\n",
      "73/73 [==============================] - 1s 13ms/step - loss: 0.0032\n",
      "Epoch 40/100\n",
      "73/73 [==============================] - 1s 13ms/step - loss: 0.0029\n",
      "Epoch 41/100\n",
      "73/73 [==============================] - 1s 13ms/step - loss: 0.0034\n",
      "Epoch 42/100\n",
      "73/73 [==============================] - 1s 13ms/step - loss: 0.0033\n",
      "Epoch 43/100\n",
      "73/73 [==============================] - 1s 13ms/step - loss: 0.0030\n",
      "Epoch 44/100\n",
      "73/73 [==============================] - 1s 13ms/step - loss: 0.0027\n",
      "Epoch 45/100\n",
      "73/73 [==============================] - 1s 13ms/step - loss: 0.0036\n",
      "Epoch 46/100\n",
      "73/73 [==============================] - 1s 13ms/step - loss: 0.0028\n",
      "Epoch 47/100\n",
      "73/73 [==============================] - 1s 13ms/step - loss: 0.0029\n",
      "Epoch 48/100\n",
      "73/73 [==============================] - 1s 13ms/step - loss: 0.0027\n",
      "Epoch 49/100\n",
      "73/73 [==============================] - 1s 13ms/step - loss: 0.0030\n",
      "Epoch 50/100\n",
      "73/73 [==============================] - 1s 13ms/step - loss: 0.0025\n",
      "Epoch 51/100\n",
      "73/73 [==============================] - 1s 13ms/step - loss: 0.0029\n",
      "Epoch 52/100\n",
      "73/73 [==============================] - 1s 13ms/step - loss: 0.0025\n",
      "Epoch 53/100\n",
      "73/73 [==============================] - 1s 13ms/step - loss: 0.0026\n",
      "Epoch 54/100\n",
      "73/73 [==============================] - 1s 13ms/step - loss: 0.0024\n",
      "Epoch 55/100\n",
      "73/73 [==============================] - 1s 13ms/step - loss: 0.0023\n",
      "Epoch 56/100\n",
      "73/73 [==============================] - 1s 13ms/step - loss: 0.0023\n",
      "Epoch 57/100\n",
      "73/73 [==============================] - 1s 13ms/step - loss: 0.0024\n",
      "Epoch 58/100\n",
      "73/73 [==============================] - 1s 13ms/step - loss: 0.0023\n",
      "Epoch 59/100\n",
      "73/73 [==============================] - 1s 13ms/step - loss: 0.0022\n",
      "Epoch 60/100\n",
      "73/73 [==============================] - 1s 13ms/step - loss: 0.0023\n",
      "Epoch 61/100\n",
      "73/73 [==============================] - 1s 13ms/step - loss: 0.0024\n",
      "Epoch 62/100\n",
      "73/73 [==============================] - 1s 13ms/step - loss: 0.0022\n",
      "Epoch 63/100\n",
      "73/73 [==============================] - 1s 13ms/step - loss: 0.0024\n",
      "Epoch 64/100\n",
      "73/73 [==============================] - 1s 13ms/step - loss: 0.0020\n",
      "Epoch 65/100\n",
      "73/73 [==============================] - 1s 13ms/step - loss: 0.0021\n",
      "Epoch 66/100\n",
      "73/73 [==============================] - 1s 13ms/step - loss: 0.0025\n",
      "Epoch 67/100\n",
      "73/73 [==============================] - 1s 13ms/step - loss: 0.0024\n",
      "Epoch 68/100\n",
      "73/73 [==============================] - 1s 13ms/step - loss: 0.0024\n",
      "Epoch 69/100\n",
      "73/73 [==============================] - 1s 13ms/step - loss: 0.0020\n",
      "Epoch 70/100\n",
      "73/73 [==============================] - 1s 13ms/step - loss: 0.0021\n",
      "Epoch 71/100\n",
      "73/73 [==============================] - 1s 13ms/step - loss: 0.0019\n",
      "Epoch 72/100\n",
      "73/73 [==============================] - 1s 13ms/step - loss: 0.0019\n",
      "Epoch 73/100\n",
      "73/73 [==============================] - 1s 13ms/step - loss: 0.0020\n",
      "Epoch 74/100\n",
      "73/73 [==============================] - 1s 13ms/step - loss: 0.0019\n",
      "Epoch 75/100\n",
      "73/73 [==============================] - 1s 13ms/step - loss: 0.0019\n",
      "Epoch 76/100\n",
      "73/73 [==============================] - 1s 13ms/step - loss: 0.0019\n",
      "Epoch 77/100\n",
      "73/73 [==============================] - 1s 13ms/step - loss: 0.0019\n",
      "Epoch 78/100\n",
      "73/73 [==============================] - 1s 13ms/step - loss: 0.0018\n",
      "Epoch 79/100\n",
      "73/73 [==============================] - 1s 13ms/step - loss: 0.0020\n",
      "Epoch 80/100\n",
      "73/73 [==============================] - 1s 13ms/step - loss: 0.0023\n",
      "Epoch 81/100\n",
      "73/73 [==============================] - 1s 13ms/step - loss: 0.0018\n",
      "Epoch 82/100\n",
      "73/73 [==============================] - 1s 13ms/step - loss: 0.0018\n",
      "Epoch 83/100\n",
      "73/73 [==============================] - 1s 14ms/step - loss: 0.0018\n",
      "Epoch 84/100\n",
      "73/73 [==============================] - 1s 13ms/step - loss: 0.0020\n",
      "Epoch 85/100\n",
      "73/73 [==============================] - 1s 13ms/step - loss: 0.0019\n",
      "Epoch 86/100\n",
      "73/73 [==============================] - 1s 14ms/step - loss: 0.0018\n",
      "Epoch 87/100\n",
      "73/73 [==============================] - 1s 13ms/step - loss: 0.0020\n",
      "Epoch 88/100\n",
      "73/73 [==============================] - 1s 14ms/step - loss: 0.0017\n",
      "Epoch 89/100\n",
      "73/73 [==============================] - 1s 13ms/step - loss: 0.0017\n",
      "Epoch 90/100\n",
      "73/73 [==============================] - 1s 13ms/step - loss: 0.0019\n",
      "Epoch 91/100\n",
      "73/73 [==============================] - 1s 14ms/step - loss: 0.0018\n",
      "Epoch 92/100\n",
      "73/73 [==============================] - 1s 13ms/step - loss: 0.0019\n",
      "Epoch 93/100\n",
      "73/73 [==============================] - 1s 13ms/step - loss: 0.0019\n",
      "Epoch 94/100\n",
      "73/73 [==============================] - 1s 14ms/step - loss: 0.0019\n",
      "Epoch 95/100\n",
      "73/73 [==============================] - 1s 13ms/step - loss: 0.0019\n",
      "Epoch 96/100\n",
      "73/73 [==============================] - 1s 13ms/step - loss: 0.0016\n",
      "Epoch 97/100\n",
      "73/73 [==============================] - 1s 13ms/step - loss: 0.0019\n",
      "Epoch 98/100\n",
      "73/73 [==============================] - 1s 13ms/step - loss: 0.0018\n",
      "Epoch 99/100\n",
      "73/73 [==============================] - 1s 14ms/step - loss: 0.0017\n",
      "Epoch 100/100\n",
      "73/73 [==============================] - 1s 13ms/step - loss: 0.0018\n"
     ]
    },
    {
     "data": {
      "text/plain": [
       "<keras.src.callbacks.History at 0x202d4981850>"
      ]
     },
     "execution_count": 134,
     "metadata": {},
     "output_type": "execute_result"
    }
   ],
   "source": [
    "regressor.fit(X_train, y_train, epochs = epochs, batch_size = batch_size)"
   ]
  },
  {
   "cell_type": "code",
   "execution_count": 135,
   "id": "9048dc9e",
   "metadata": {
    "ExecuteTime": {
     "end_time": "2023-11-09T07:02:14.078735Z",
     "start_time": "2023-11-09T07:02:14.068951Z"
    }
   },
   "outputs": [
    {
     "data": {
      "text/html": [
       "<div>\n",
       "<style scoped>\n",
       "    .dataframe tbody tr th:only-of-type {\n",
       "        vertical-align: middle;\n",
       "    }\n",
       "\n",
       "    .dataframe tbody tr th {\n",
       "        vertical-align: top;\n",
       "    }\n",
       "\n",
       "    .dataframe thead th {\n",
       "        text-align: right;\n",
       "    }\n",
       "</style>\n",
       "<table border=\"1\" class=\"dataframe\">\n",
       "  <thead>\n",
       "    <tr style=\"text-align: right;\">\n",
       "      <th></th>\n",
       "      <th>Date</th>\n",
       "      <th>Open</th>\n",
       "      <th>High</th>\n",
       "      <th>Low</th>\n",
       "      <th>Close</th>\n",
       "      <th>Volume</th>\n",
       "      <th>OpenInt</th>\n",
       "    </tr>\n",
       "  </thead>\n",
       "  <tbody>\n",
       "    <tr>\n",
       "      <th>1486</th>\n",
       "      <td>2016-05-24</td>\n",
       "      <td>216.60</td>\n",
       "      <td>218.74</td>\n",
       "      <td>215.18</td>\n",
       "      <td>217.91</td>\n",
       "      <td>2928659</td>\n",
       "      <td>0</td>\n",
       "    </tr>\n",
       "    <tr>\n",
       "      <th>1487</th>\n",
       "      <td>2016-05-25</td>\n",
       "      <td>217.91</td>\n",
       "      <td>221.36</td>\n",
       "      <td>216.51</td>\n",
       "      <td>219.58</td>\n",
       "      <td>2514028</td>\n",
       "      <td>0</td>\n",
       "    </tr>\n",
       "    <tr>\n",
       "      <th>1488</th>\n",
       "      <td>2016-05-26</td>\n",
       "      <td>220.50</td>\n",
       "      <td>225.26</td>\n",
       "      <td>219.05</td>\n",
       "      <td>225.12</td>\n",
       "      <td>3560997</td>\n",
       "      <td>0</td>\n",
       "    </tr>\n",
       "    <tr>\n",
       "      <th>1489</th>\n",
       "      <td>2016-05-27</td>\n",
       "      <td>224.99</td>\n",
       "      <td>225.93</td>\n",
       "      <td>220.75</td>\n",
       "      <td>223.04</td>\n",
       "      <td>3081734</td>\n",
       "      <td>0</td>\n",
       "    </tr>\n",
       "    <tr>\n",
       "      <th>1490</th>\n",
       "      <td>2016-05-31</td>\n",
       "      <td>223.04</td>\n",
       "      <td>224.75</td>\n",
       "      <td>221.50</td>\n",
       "      <td>223.23</td>\n",
       "      <td>2046828</td>\n",
       "      <td>0</td>\n",
       "    </tr>\n",
       "  </tbody>\n",
       "</table>\n",
       "</div>"
      ],
      "text/plain": [
       "            Date    Open    High     Low   Close   Volume  OpenInt\n",
       "1486  2016-05-24  216.60  218.74  215.18  217.91  2928659        0\n",
       "1487  2016-05-25  217.91  221.36  216.51  219.58  2514028        0\n",
       "1488  2016-05-26  220.50  225.26  219.05  225.12  3560997        0\n",
       "1489  2016-05-27  224.99  225.93  220.75  223.04  3081734        0\n",
       "1490  2016-05-31  223.04  224.75  221.50  223.23  2046828        0"
      ]
     },
     "execution_count": 135,
     "metadata": {},
     "output_type": "execute_result"
    }
   ],
   "source": [
    "test.head()"
   ]
  },
  {
   "cell_type": "code",
   "execution_count": 136,
   "id": "29bf261b",
   "metadata": {
    "ExecuteTime": {
     "end_time": "2023-11-09T07:02:38.753185Z",
     "start_time": "2023-11-09T07:02:38.749458Z"
    }
   },
   "outputs": [],
   "source": [
    "real_price = test.loc[:, [\"Open\"]].values"
   ]
  },
  {
   "cell_type": "code",
   "execution_count": 159,
   "id": "631e8de0",
   "metadata": {
    "ExecuteTime": {
     "end_time": "2023-11-09T07:51:37.381194Z",
     "start_time": "2023-11-09T07:51:37.377305Z"
    }
   },
   "outputs": [],
   "source": [
    "dataset_total = pd.concat((data['Open'], test['Open']), axis=-0)"
   ]
  },
  {
   "cell_type": "code",
   "execution_count": 166,
   "id": "c7ab67c6",
   "metadata": {
    "ExecuteTime": {
     "end_time": "2023-11-09T07:56:22.318040Z",
     "start_time": "2023-11-09T07:56:22.313619Z"
    }
   },
   "outputs": [
    {
     "data": {
      "text/plain": [
       "(412,)"
      ]
     },
     "execution_count": 166,
     "metadata": {},
     "output_type": "execute_result"
    }
   ],
   "source": [
    "dataset_total[1818:].shape"
   ]
  },
  {
   "cell_type": "code",
   "execution_count": 161,
   "id": "99dd8361",
   "metadata": {
    "ExecuteTime": {
     "end_time": "2023-11-09T07:52:02.054750Z",
     "start_time": "2023-11-09T07:52:02.050034Z"
    }
   },
   "outputs": [
    {
     "data": {
      "text/plain": [
       "(412, 1)"
      ]
     },
     "execution_count": 161,
     "metadata": {},
     "output_type": "execute_result"
    }
   ],
   "source": [
    "inputs = dataset_total[len(dataset_total)-len(test)-timesteps:].values.reshape(-1,1) #2230 - 372 - 40 = 1818\n",
    "inputs.shape"
   ]
  },
  {
   "cell_type": "code",
   "execution_count": 142,
   "id": "70b47889",
   "metadata": {
    "ExecuteTime": {
     "end_time": "2023-11-09T07:08:42.046707Z",
     "start_time": "2023-11-09T07:08:42.037605Z"
    }
   },
   "outputs": [
    {
     "data": {
      "text/plain": [
       "array([[1.3409568 ],\n",
       "       [1.34003609],\n",
       "       [1.31425625],\n",
       "       [1.32125364],\n",
       "       [1.290281  ],\n",
       "       [1.24115199],\n",
       "       [1.2329761 ],\n",
       "       [1.22918278],\n",
       "       [1.19228078],\n",
       "       [1.19957279],\n",
       "       [1.20200346],\n",
       "       [1.1776231 ],\n",
       "       [1.23415461],\n",
       "       [1.25164807],\n",
       "       [1.24096785],\n",
       "       [1.22826207],\n",
       "       [1.21776599],\n",
       "       [1.24387729],\n",
       "       [1.24041542],\n",
       "       [1.25525725],\n",
       "       [1.24339852],\n",
       "       [1.23290244],\n",
       "       [1.25153758],\n",
       "       [1.25002762],\n",
       "       [1.23945789],\n",
       "       [1.22910912],\n",
       "       [1.18830332],\n",
       "       [1.18056937],\n",
       "       [1.14771848],\n",
       "       [1.11814532],\n",
       "       [1.11604611],\n",
       "       [1.11991309],\n",
       "       [1.16418075],\n",
       "       [1.04588812],\n",
       "       [1.04356793],\n",
       "       [1.07118919],\n",
       "       [1.04916584],\n",
       "       [1.06566494],\n",
       "       [1.05461643],\n",
       "       [1.05461643],\n",
       "       [0.73826097],\n",
       "       [0.74308548],\n",
       "       [0.75262402],\n",
       "       [0.76915995],\n",
       "       [0.76197842],\n",
       "       [0.7562332 ],\n",
       "       [0.74927264],\n",
       "       [0.7507826 ],\n",
       "       [0.74341693],\n",
       "       [0.75903215],\n",
       "       [0.80160572],\n",
       "       [0.80595146],\n",
       "       [0.77799875],\n",
       "       [0.74894119],\n",
       "       [0.74665783],\n",
       "       [0.73954996],\n",
       "       [0.74128089],\n",
       "       [0.7427172 ],\n",
       "       [0.74894119],\n",
       "       [0.75328693],\n",
       "       [0.67517401],\n",
       "       [0.6612529 ],\n",
       "       [0.64048171],\n",
       "       [0.64346481],\n",
       "       [0.68408647],\n",
       "       [0.69601886],\n",
       "       [0.72489228],\n",
       "       [0.69973852],\n",
       "       [0.71295989],\n",
       "       [0.71395426],\n",
       "       [0.72537105],\n",
       "       [0.74268037],\n",
       "       [0.75063529],\n",
       "       [0.76588222],\n",
       "       [0.77103819],\n",
       "       [0.76227305],\n",
       "       [0.76006334],\n",
       "       [0.74945678],\n",
       "       [0.76919677],\n",
       "       [0.77461054],\n",
       "       [0.77287961],\n",
       "       [0.75811144],\n",
       "       [0.75914264],\n",
       "       [0.7791036 ],\n",
       "       [0.78518027],\n",
       "       [0.78006114],\n",
       "       [0.79018893],\n",
       "       [0.80786653],\n",
       "       [0.78529076],\n",
       "       [0.77792509],\n",
       "       [0.77173793],\n",
       "       [0.78761095],\n",
       "       [0.78024528],\n",
       "       [0.77589953],\n",
       "       [0.78112916],\n",
       "       [0.77350569],\n",
       "       [0.77070674],\n",
       "       [0.77295326],\n",
       "       [0.77100136],\n",
       "       [0.76672927],\n",
       "       [0.76485103],\n",
       "       [0.76381984],\n",
       "       [0.76614002],\n",
       "       [0.76669245],\n",
       "       [0.77674658],\n",
       "       [0.76223622],\n",
       "       [0.75866387],\n",
       "       [0.75133503],\n",
       "       [0.73645638],\n",
       "       [0.71553788],\n",
       "       [0.71030825],\n",
       "       [0.68570692],\n",
       "       [0.67351674],\n",
       "       [0.6973815 ],\n",
       "       [0.67546864],\n",
       "       [0.67377454],\n",
       "       [0.65871174],\n",
       "       [0.66629838],\n",
       "       [0.66147387],\n",
       "       [0.66419917],\n",
       "       [0.67867271],\n",
       "       [0.70290576],\n",
       "       [0.70235333],\n",
       "       [0.70058557],\n",
       "       [0.70069606],\n",
       "       [0.69918609],\n",
       "       [0.70106434],\n",
       "       [0.71266527],\n",
       "       [0.704784  ],\n",
       "       [0.69774979],\n",
       "       [0.68526498],\n",
       "       [0.72242478],\n",
       "       [0.72537105],\n",
       "       [0.72220381],\n",
       "       [0.68618569],\n",
       "       [0.68080875],\n",
       "       [0.68209774],\n",
       "       [0.68393916],\n",
       "       [0.68062461],\n",
       "       [0.67896733],\n",
       "       [0.67955659],\n",
       "       [0.66626155],\n",
       "       [0.66235775],\n",
       "       [0.67616838],\n",
       "       [0.68493352],\n",
       "       [0.67196995],\n",
       "       [0.68080875],\n",
       "       [0.68780614],\n",
       "       [0.68080875],\n",
       "       [0.71888926],\n",
       "       [0.69185725],\n",
       "       [0.68629617],\n",
       "       [0.66990756],\n",
       "       [0.64048171],\n",
       "       [0.63661474],\n",
       "       [0.63661474],\n",
       "       [0.65351895],\n",
       "       [0.65425552],\n",
       "       [0.62878872],\n",
       "       [0.64416455],\n",
       "       [0.61908445],\n",
       "       [0.6329319 ],\n",
       "       [0.61370751],\n",
       "       [0.61322874],\n",
       "       [0.61632232],\n",
       "       [0.64269142],\n",
       "       [0.62203071],\n",
       "       [0.62497698],\n",
       "       [0.6425441 ],\n",
       "       [0.65370309],\n",
       "       [0.66047951],\n",
       "       [0.66077413],\n",
       "       [0.64398041],\n",
       "       [0.63385261],\n",
       "       [0.61407579],\n",
       "       [0.61271314],\n",
       "       [0.62379848],\n",
       "       [0.62611866],\n",
       "       [0.64784738],\n",
       "       [0.64350164],\n",
       "       [0.65060951],\n",
       "       [0.65200899],\n",
       "       [0.67248554],\n",
       "       [0.67127021],\n",
       "       [0.67005487],\n",
       "       [0.68629617],\n",
       "       [0.68835856],\n",
       "       [0.70824587],\n",
       "       [0.70739881],\n",
       "       [0.70658859],\n",
       "       [0.73192649],\n",
       "       [0.75641734],\n",
       "       [0.74547932],\n",
       "       [0.73715612],\n",
       "       [0.73185283],\n",
       "       [0.73144772],\n",
       "       [0.7744264 ],\n",
       "       [0.77630464],\n",
       "       [0.78381763],\n",
       "       [0.79497661],\n",
       "       [0.78418591],\n",
       "       [0.78414908],\n",
       "       [0.78761095],\n",
       "       [0.81228594],\n",
       "       [0.81210179],\n",
       "       [0.85113984],\n",
       "       [0.84454756],\n",
       "       [0.84598387],\n",
       "       [0.86126763],\n",
       "       [0.88818915],\n",
       "       [0.87706699],\n",
       "       [0.86634994],\n",
       "       [0.8705852 ],\n",
       "       [0.85846868],\n",
       "       [0.87250028],\n",
       "       [0.85515413],\n",
       "       [0.86830185],\n",
       "       [0.86495047],\n",
       "       [0.89143004],\n",
       "       [0.88833646],\n",
       "       [0.92111369],\n",
       "       [0.93415092],\n",
       "       [0.93764962],\n",
       "       [0.96818031],\n",
       "       [0.97175266],\n",
       "       [0.96291386],\n",
       "       [0.91945641],\n",
       "       [0.95499576],\n",
       "       [0.97289434],\n",
       "       [0.91282731],\n",
       "       [0.87106397],\n",
       "       [0.85452804],\n",
       "       [0.83987036],\n",
       "       [0.87666188],\n",
       "       [0.86019961],\n",
       "       [0.86399293],\n",
       "       [0.85357051],\n",
       "       [0.86833867],\n",
       "       [0.85021913],\n",
       "       [0.85253931],\n",
       "       [0.84730969],\n",
       "       [0.84060693],\n",
       "       [0.84694141],\n",
       "       [0.88704747],\n",
       "       [0.90693478],\n",
       "       [0.91282731],\n",
       "       [0.90030568],\n",
       "       [0.9085184 ],\n",
       "       [0.86701285],\n",
       "       [0.88111811],\n",
       "       [0.88225979],\n",
       "       [0.90030568],\n",
       "       [0.96077781],\n",
       "       [0.96563916],\n",
       "       [0.96453431],\n",
       "       [0.96707546],\n",
       "       [0.99716422],\n",
       "       [1.03395573],\n",
       "       [1.05292233],\n",
       "       [1.0339189 ],\n",
       "       [1.03620226],\n",
       "       [1.07910728],\n",
       "       [1.09468567],\n",
       "       [1.06875852],\n",
       "       [1.03325599],\n",
       "       [1.055353  ],\n",
       "       [1.0443045 ],\n",
       "       [1.05446912],\n",
       "       [1.0693846 ],\n",
       "       [1.05277502],\n",
       "       [1.07936508],\n",
       "       [1.07487202],\n",
       "       [1.09096601],\n",
       "       [1.08846168],\n",
       "       [1.08161161],\n",
       "       [1.10020992],\n",
       "       [1.13379737],\n",
       "       [1.11048503],\n",
       "       [1.07279122],\n",
       "       [1.03804368],\n",
       "       [1.08555224],\n",
       "       [1.07995433],\n",
       "       [1.12481125],\n",
       "       [1.13158767],\n",
       "       [1.13924797],\n",
       "       [1.11309984],\n",
       "       [1.1101904 ],\n",
       "       [1.09840533],\n",
       "       [1.07118919],\n",
       "       [1.10249328],\n",
       "       [1.09254963],\n",
       "       [1.08393179],\n",
       "       [1.0693846 ],\n",
       "       [1.08599418],\n",
       "       [1.10904872],\n",
       "       [1.14116304],\n",
       "       [1.18421537],\n",
       "       [1.20745406],\n",
       "       [1.19187567],\n",
       "       [1.18719847],\n",
       "       [1.21003204],\n",
       "       [1.25290023],\n",
       "       [1.28019003],\n",
       "       [1.31948588],\n",
       "       [1.25897691],\n",
       "       [1.2944426 ],\n",
       "       [1.34403197],\n",
       "       [1.31241483],\n",
       "       [1.33257835],\n",
       "       [1.32162192],\n",
       "       [1.32777225],\n",
       "       [1.31922808],\n",
       "       [1.33263359],\n",
       "       [1.34905904],\n",
       "       [1.36467425],\n",
       "       [1.32677789],\n",
       "       [1.29098074],\n",
       "       [1.30545428],\n",
       "       [1.28004272],\n",
       "       [1.30409163],\n",
       "       [1.21923913],\n",
       "       [1.10897507],\n",
       "       [1.09512761],\n",
       "       [1.09291791],\n",
       "       [1.1043347 ],\n",
       "       [1.15736751],\n",
       "       [1.15629949],\n",
       "       [1.13081427],\n",
       "       [1.13946894],\n",
       "       [1.10985895],\n",
       "       [1.14937576],\n",
       "       [1.14447759],\n",
       "       [1.15390565],\n",
       "       [1.15677826],\n",
       "       [1.21113689],\n",
       "       [1.19404854],\n",
       "       [1.21481973],\n",
       "       [1.1812691 ],\n",
       "       [1.17614997],\n",
       "       [1.13011454],\n",
       "       [1.11516223],\n",
       "       [1.21235223],\n",
       "       [1.21850256],\n",
       "       [1.25661989],\n",
       "       [1.2572828 ],\n",
       "       [1.27006224],\n",
       "       [1.27227194],\n",
       "       [1.25522042],\n",
       "       [1.28343093],\n",
       "       [1.28553014],\n",
       "       [1.27742791],\n",
       "       [1.27083564],\n",
       "       [1.24026811],\n",
       "       [1.21415682],\n",
       "       [1.19688432],\n",
       "       [1.18900306],\n",
       "       [1.2388318 ],\n",
       "       [1.24516628],\n",
       "       [1.21953375],\n",
       "       [1.19080765],\n",
       "       [1.22833573],\n",
       "       [1.24262512],\n",
       "       [1.25209001],\n",
       "       [1.24354583],\n",
       "       [1.22770965],\n",
       "       [1.21474607],\n",
       "       [1.2258314 ],\n",
       "       [1.23452289],\n",
       "       [1.28291533],\n",
       "       [1.28044783],\n",
       "       [1.28232608],\n",
       "       [1.31981733],\n",
       "       [1.3409568 ],\n",
       "       [1.34003609],\n",
       "       [1.31425625],\n",
       "       [1.32125364],\n",
       "       [1.290281  ],\n",
       "       [1.24115199],\n",
       "       [1.2329761 ],\n",
       "       [1.22918278],\n",
       "       [1.19228078],\n",
       "       [1.19957279],\n",
       "       [1.20200346],\n",
       "       [1.1776231 ],\n",
       "       [1.23415461],\n",
       "       [1.25164807],\n",
       "       [1.24096785],\n",
       "       [1.22826207],\n",
       "       [1.21776599],\n",
       "       [1.24387729],\n",
       "       [1.24041542],\n",
       "       [1.25525725],\n",
       "       [1.24339852],\n",
       "       [1.23290244],\n",
       "       [1.25153758],\n",
       "       [1.25002762],\n",
       "       [1.23945789],\n",
       "       [1.22910912],\n",
       "       [1.18830332],\n",
       "       [1.18056937],\n",
       "       [1.14771848],\n",
       "       [1.11814532],\n",
       "       [1.11604611],\n",
       "       [1.11991309],\n",
       "       [1.16418075],\n",
       "       [1.04588812],\n",
       "       [1.04356793],\n",
       "       [1.07118919],\n",
       "       [1.04916584],\n",
       "       [1.06566494],\n",
       "       [1.05461643],\n",
       "       [1.05461643]])"
      ]
     },
     "execution_count": 142,
     "metadata": {},
     "output_type": "execute_result"
    }
   ],
   "source": [
    "inputs = scaler.transform(inputs)\n",
    "inputs"
   ]
  },
  {
   "cell_type": "code",
   "execution_count": 144,
   "id": "929d03b0",
   "metadata": {
    "ExecuteTime": {
     "end_time": "2023-11-09T07:12:10.057687Z",
     "start_time": "2023-11-09T07:12:10.053869Z"
    }
   },
   "outputs": [],
   "source": [
    "X_test=[]\n",
    "for i in range(timesteps, 412):\n",
    "    X_test.append(inputs[i-timesteps:i, 0])"
   ]
  },
  {
   "cell_type": "code",
   "execution_count": 145,
   "id": "6cf02708",
   "metadata": {
    "ExecuteTime": {
     "end_time": "2023-11-09T07:12:24.401361Z",
     "start_time": "2023-11-09T07:12:24.397862Z"
    }
   },
   "outputs": [],
   "source": [
    "X_test = np.array(X_test)"
   ]
  },
  {
   "cell_type": "code",
   "execution_count": 146,
   "id": "b40acb46",
   "metadata": {
    "ExecuteTime": {
     "end_time": "2023-11-09T07:12:33.225306Z",
     "start_time": "2023-11-09T07:12:33.221583Z"
    }
   },
   "outputs": [
    {
     "name": "stdout",
     "output_type": "stream",
     "text": [
      "(372, 40)\n"
     ]
    }
   ],
   "source": [
    "print(X_test.shape)"
   ]
  },
  {
   "cell_type": "code",
   "execution_count": 147,
   "id": "cf87ad83",
   "metadata": {
    "ExecuteTime": {
     "end_time": "2023-11-09T07:14:14.914189Z",
     "start_time": "2023-11-09T07:14:14.910437Z"
    }
   },
   "outputs": [],
   "source": [
    "X_test = np.reshape(X_test, (X_test.shape[0], X_test.shape[1], 1))"
   ]
  },
  {
   "cell_type": "code",
   "execution_count": 148,
   "id": "0df2d61e",
   "metadata": {
    "ExecuteTime": {
     "end_time": "2023-11-09T07:14:35.894433Z",
     "start_time": "2023-11-09T07:14:35.438180Z"
    }
   },
   "outputs": [
    {
     "name": "stdout",
     "output_type": "stream",
     "text": [
      "12/12 [==============================] - 0s 5ms/step\n"
     ]
    }
   ],
   "source": [
    "pred = regressor.predict(X_test)"
   ]
  },
  {
   "cell_type": "code",
   "execution_count": 149,
   "id": "8c74e43d",
   "metadata": {
    "ExecuteTime": {
     "end_time": "2023-11-09T07:14:38.110682Z",
     "start_time": "2023-11-09T07:14:38.102082Z"
    }
   },
   "outputs": [
    {
     "data": {
      "text/plain": [
       "array([[1.0408931 ],\n",
       "       [0.955142  ],\n",
       "       [0.8811228 ],\n",
       "       [0.8616562 ],\n",
       "       [0.8822936 ],\n",
       "       [0.88964427],\n",
       "       [0.8799622 ],\n",
       "       [0.86499304],\n",
       "       [0.8523106 ],\n",
       "       [0.8421041 ],\n",
       "       [0.84436566],\n",
       "       [0.8616645 ],\n",
       "       [0.8790499 ],\n",
       "       [0.87847936],\n",
       "       [0.8573041 ],\n",
       "       [0.8369857 ],\n",
       "       [0.8324954 ],\n",
       "       [0.8370975 ],\n",
       "       [0.8376272 ],\n",
       "       [0.83553815],\n",
       "       [0.8384013 ],\n",
       "       [0.80918175],\n",
       "       [0.77673995],\n",
       "       [0.74650526],\n",
       "       [0.7300017 ],\n",
       "       [0.7490617 ],\n",
       "       [0.77276266],\n",
       "       [0.79413915],\n",
       "       [0.7888464 ],\n",
       "       [0.78498185],\n",
       "       [0.7853597 ],\n",
       "       [0.7939125 ],\n",
       "       [0.81228006],\n",
       "       [0.8276484 ],\n",
       "       [0.84125745],\n",
       "       [0.8475195 ],\n",
       "       [0.84732586],\n",
       "       [0.84665096],\n",
       "       [0.8440092 ],\n",
       "       [0.8517114 ],\n",
       "       [0.8617022 ],\n",
       "       [0.8651577 ],\n",
       "       [0.85914826],\n",
       "       [0.8542665 ],\n",
       "       [0.8607803 ],\n",
       "       [0.87102795],\n",
       "       [0.8738942 ],\n",
       "       [0.87663126],\n",
       "       [0.8850436 ],\n",
       "       [0.8841206 ],\n",
       "       [0.87591636],\n",
       "       [0.8678644 ],\n",
       "       [0.8731386 ],\n",
       "       [0.8778105 ],\n",
       "       [0.8772725 ],\n",
       "       [0.8747761 ],\n",
       "       [0.87087435],\n",
       "       [0.86803865],\n",
       "       [0.86791164],\n",
       "       [0.8675877 ],\n",
       "       [0.86504865],\n",
       "       [0.86310744],\n",
       "       [0.8625204 ],\n",
       "       [0.86187357],\n",
       "       [0.8609163 ],\n",
       "       [0.86428607],\n",
       "       [0.8626239 ],\n",
       "       [0.85793245],\n",
       "       [0.851516  ],\n",
       "       [0.84242296],\n",
       "       [0.82816166],\n",
       "       [0.81616527],\n",
       "       [0.80010283],\n",
       "       [0.78363115],\n",
       "       [0.7829342 ],\n",
       "       [0.7787231 ],\n",
       "       [0.7703459 ],\n",
       "       [0.7558208 ],\n",
       "       [0.74912846],\n",
       "       [0.74640274],\n",
       "       [0.74527776],\n",
       "       [0.7512418 ],\n",
       "       [0.76733077],\n",
       "       [0.778679  ],\n",
       "       [0.782009  ],\n",
       "       [0.7813423 ],\n",
       "       [0.7811985 ],\n",
       "       [0.78356594],\n",
       "       [0.7921103 ],\n",
       "       [0.7943038 ],\n",
       "       [0.790225  ],\n",
       "       [0.7816551 ],\n",
       "       [0.7923299 ],\n",
       "       [0.80586743],\n",
       "       [0.81132853],\n",
       "       [0.7951508 ],\n",
       "       [0.77825236],\n",
       "       [0.7719295 ],\n",
       "       [0.77273047],\n",
       "       [0.7721882 ],\n",
       "       [0.7689549 ],\n",
       "       [0.7669692 ],\n",
       "       [0.76067996],\n",
       "       [0.7520187 ],\n",
       "       [0.7517693 ],\n",
       "       [0.7593827 ],\n",
       "       [0.7613593 ],\n",
       "       [0.76170874],\n",
       "       [0.764783  ],\n",
       "       [0.76533914],\n",
       "       [0.78188443],\n",
       "       [0.78616357],\n",
       "       [0.7799173 ],\n",
       "       [0.7650772 ],\n",
       "       [0.7442856 ],\n",
       "       [0.73049814],\n",
       "       [0.7235143 ],\n",
       "       [0.7289461 ],\n",
       "       [0.734686  ],\n",
       "       [0.7243442 ],\n",
       "       [0.7185782 ],\n",
       "       [0.7072375 ],\n",
       "       [0.7053071 ],\n",
       "       [0.69710034],\n",
       "       [0.68987584],\n",
       "       [0.68697286],\n",
       "       [0.6991383 ],\n",
       "       [0.70364195],\n",
       "       [0.7006475 ],\n",
       "       [0.70383525],\n",
       "       [0.7171559 ],\n",
       "       [0.73031175],\n",
       "       [0.73658884],\n",
       "       [0.7308787 ],\n",
       "       [0.7212806 ],\n",
       "       [0.7061165 ],\n",
       "       [0.69573367],\n",
       "       [0.69551307],\n",
       "       [0.7000653 ],\n",
       "       [0.7135261 ],\n",
       "       [0.7214148 ],\n",
       "       [0.72368014],\n",
       "       [0.72476506],\n",
       "       [0.73654103],\n",
       "       [0.7480816 ],\n",
       "       [0.752589  ],\n",
       "       [0.7596803 ],\n",
       "       [0.76734984],\n",
       "       [0.7804616 ],\n",
       "       [0.78994465],\n",
       "       [0.7924893 ],\n",
       "       [0.80343664],\n",
       "       [0.82371634],\n",
       "       [0.83407456],\n",
       "       [0.83158803],\n",
       "       [0.8251366 ],\n",
       "       [0.8237473 ],\n",
       "       [0.8423952 ],\n",
       "       [0.859004  ],\n",
       "       [0.8681662 ],\n",
       "       [0.8749082 ],\n",
       "       [0.8755276 ],\n",
       "       [0.8748853 ],\n",
       "       [0.87534523],\n",
       "       [0.8864373 ],\n",
       "       [0.89708614],\n",
       "       [0.9152727 ],\n",
       "       [0.9230499 ],\n",
       "       [0.92434895],\n",
       "       [0.92932355],\n",
       "       [0.9436792 ],\n",
       "       [0.95096517],\n",
       "       [0.9479158 ],\n",
       "       [0.9454678 ],\n",
       "       [0.9441019 ],\n",
       "       [0.9485744 ],\n",
       "       [0.946169  ],\n",
       "       [0.9470426 ],\n",
       "       [0.94758034],\n",
       "       [0.95603955],\n",
       "       [0.9616717 ],\n",
       "       [0.9713627 ],\n",
       "       [0.9801904 ],\n",
       "       [0.98611534],\n",
       "       [0.9961518 ],\n",
       "       [1.0027341 ],\n",
       "       [1.0030043 ],\n",
       "       [0.9906186 ],\n",
       "       [0.9918219 ],\n",
       "       [1.0029632 ],\n",
       "       [0.99393666],\n",
       "       [0.97007453],\n",
       "       [0.95150936],\n",
       "       [0.94351363],\n",
       "       [0.9524232 ],\n",
       "       [0.9543339 ],\n",
       "       [0.9520503 ],\n",
       "       [0.9451611 ],\n",
       "       [0.9465766 ],\n",
       "       [0.9434154 ],\n",
       "       [0.9390868 ],\n",
       "       [0.93487155],\n",
       "       [0.9340966 ],\n",
       "       [0.9352454 ],\n",
       "       [0.94705975],\n",
       "       [0.9605639 ],\n",
       "       [0.9696263 ],\n",
       "       [0.96818125],\n",
       "       [0.96775675],\n",
       "       [0.95604396],\n",
       "       [0.9519267 ],\n",
       "       [0.956427  ],\n",
       "       [0.9666661 ],\n",
       "       [0.98711026],\n",
       "       [0.999248  ],\n",
       "       [1.0013252 ],\n",
       "       [0.99993384],\n",
       "       [1.0081085 ],\n",
       "       [1.02416   ],\n",
       "       [1.0356158 ],\n",
       "       [1.0339864 ],\n",
       "       [1.0317844 ],\n",
       "       [1.0410991 ],\n",
       "       [1.0516708 ],\n",
       "       [1.0491415 ],\n",
       "       [1.0362684 ],\n",
       "       [1.0348794 ],\n",
       "       [1.03773   ],\n",
       "       [1.041601  ],\n",
       "       [1.0447801 ],\n",
       "       [1.0434183 ],\n",
       "       [1.0475632 ],\n",
       "       [1.0493842 ],\n",
       "       [1.0522391 ],\n",
       "       [1.0520577 ],\n",
       "       [1.0506047 ],\n",
       "       [1.05449   ],\n",
       "       [1.063202  ],\n",
       "       [1.0615659 ],\n",
       "       [1.0504513 ],\n",
       "       [1.0379205 ],\n",
       "       [1.0445105 ],\n",
       "       [1.0512443 ],\n",
       "       [1.0606108 ],\n",
       "       [1.0650978 ],\n",
       "       [1.0671705 ],\n",
       "       [1.061961  ],\n",
       "       [1.056984  ],\n",
       "       [1.0534323 ],\n",
       "       [1.0485698 ],\n",
       "       [1.053424  ],\n",
       "       [1.0568889 ],\n",
       "       [1.0543199 ],\n",
       "       [1.047135  ],\n",
       "       [1.0480272 ],\n",
       "       [1.0560564 ],\n",
       "       [1.0661241 ],\n",
       "       [1.075734  ],\n",
       "       [1.0825933 ],\n",
       "       [1.0803976 ],\n",
       "       [1.0766157 ],\n",
       "       [1.0790997 ],\n",
       "       [1.0885434 ],\n",
       "       [1.0969597 ],\n",
       "       [1.104181  ],\n",
       "       [1.0960134 ],\n",
       "       [1.0940318 ],\n",
       "       [1.1026103 ],\n",
       "       [1.1036249 ],\n",
       "       [1.1036475 ],\n",
       "       [1.1024879 ],\n",
       "       [1.1031066 ],\n",
       "       [1.1022456 ],\n",
       "       [1.1034634 ],\n",
       "       [1.1065106 ],\n",
       "       [1.1100554 ],\n",
       "       [1.1051729 ],\n",
       "       [1.0967414 ],\n",
       "       [1.0955702 ],\n",
       "       [1.0948517 ],\n",
       "       [1.099111  ],\n",
       "       [1.0888112 ],\n",
       "       [1.060452  ],\n",
       "       [1.0439942 ],\n",
       "       [1.0476795 ],\n",
       "       [1.0574199 ],\n",
       "       [1.0706911 ],\n",
       "       [1.074693  ],\n",
       "       [1.0675128 ],\n",
       "       [1.0635952 ],\n",
       "       [1.0581851 ],\n",
       "       [1.0640994 ],\n",
       "       [1.0686425 ],\n",
       "       [1.0717129 ],\n",
       "       [1.0717818 ],\n",
       "       [1.0794159 ],\n",
       "       [1.0807856 ],\n",
       "       [1.0827411 ],\n",
       "       [1.0774369 ],\n",
       "       [1.0721955 ],\n",
       "       [1.0629139 ],\n",
       "       [1.057371  ],\n",
       "       [1.0749438 ],\n",
       "       [1.0881785 ],\n",
       "       [1.0943618 ],\n",
       "       [1.0927174 ],\n",
       "       [1.0922327 ],\n",
       "       [1.0926231 ],\n",
       "       [1.0906463 ],\n",
       "       [1.0939107 ],\n",
       "       [1.0966533 ],\n",
       "       [1.0952203 ],\n",
       "       [1.0935881 ],\n",
       "       [1.0883095 ],\n",
       "       [1.081622  ],\n",
       "       [1.0769374 ],\n",
       "       [1.0758787 ],\n",
       "       [1.0849494 ],\n",
       "       [1.0911489 ],\n",
       "       [1.0877997 ],\n",
       "       [1.0791848 ],\n",
       "       [1.0816952 ],\n",
       "       [1.0885707 ],\n",
       "       [1.0923287 ],\n",
       "       [1.0909439 ],\n",
       "       [1.0867373 ],\n",
       "       [1.0822713 ],\n",
       "       [1.0831839 ],\n",
       "       [1.0861038 ],\n",
       "       [1.0954336 ],\n",
       "       [1.0985475 ],\n",
       "       [1.0979197 ],\n",
       "       [1.1012727 ],\n",
       "       [1.1051368 ],\n",
       "       [1.1061454 ],\n",
       "       [1.1019173 ],\n",
       "       [1.1006963 ],\n",
       "       [1.0966847 ],\n",
       "       [1.0878909 ],\n",
       "       [1.0835167 ],\n",
       "       [1.0845419 ],\n",
       "       [1.0805302 ],\n",
       "       [1.0787176 ],\n",
       "       [1.0795048 ],\n",
       "       [1.0771068 ],\n",
       "       [1.0843502 ],\n",
       "       [1.0921625 ],\n",
       "       [1.0920014 ],\n",
       "       [1.0860195 ],\n",
       "       [1.0815576 ],\n",
       "       [1.0863988 ],\n",
       "       [1.0898004 ],\n",
       "       [1.0917827 ],\n",
       "       [1.0898123 ],\n",
       "       [1.0863892 ],\n",
       "       [1.0879791 ],\n",
       "       [1.0901401 ],\n",
       "       [1.0887598 ],\n",
       "       [1.0854849 ],\n",
       "       [1.0782826 ],\n",
       "       [1.0740843 ],\n",
       "       [1.0679011 ],\n",
       "       [1.0609447 ],\n",
       "       [1.0592259 ],\n",
       "       [1.0610237 ],\n",
       "       [1.070764  ],\n",
       "       [1.0522062 ],\n",
       "       [1.0348989 ],\n",
       "       [1.0377145 ],\n",
       "       [1.042452  ],\n",
       "       [1.0454998 ],\n",
       "       [1.0425934 ]], dtype=float32)"
      ]
     },
     "execution_count": 149,
     "metadata": {},
     "output_type": "execute_result"
    }
   ],
   "source": [
    "pred"
   ]
  },
  {
   "cell_type": "code",
   "execution_count": 151,
   "id": "bfefa785",
   "metadata": {
    "ExecuteTime": {
     "end_time": "2023-11-09T07:14:55.298803Z",
     "start_time": "2023-11-09T07:14:55.294537Z"
    }
   },
   "outputs": [
    {
     "data": {
      "text/plain": [
       "(372, 1)"
      ]
     },
     "execution_count": 151,
     "metadata": {},
     "output_type": "execute_result"
    }
   ],
   "source": [
    "pred.shape"
   ]
  },
  {
   "cell_type": "code",
   "execution_count": 152,
   "id": "b03ad0a7",
   "metadata": {
    "ExecuteTime": {
     "end_time": "2023-11-09T07:15:46.800091Z",
     "start_time": "2023-11-09T07:15:46.790571Z"
    }
   },
   "outputs": [
    {
     "data": {
      "text/plain": [
       "array([[298.7737 ],\n",
       "       [275.48972],\n",
       "       [255.39128],\n",
       "       [250.10551],\n",
       "       [255.70918],\n",
       "       [257.7051 ],\n",
       "       [255.07614],\n",
       "       [251.01157],\n",
       "       [247.5679 ],\n",
       "       [244.79652],\n",
       "       [245.41061],\n",
       "       [250.10776],\n",
       "       [254.82843],\n",
       "       [254.67351],\n",
       "       [248.92378],\n",
       "       [243.40674],\n",
       "       [242.18748],\n",
       "       [243.4371 ],\n",
       "       [243.58092],\n",
       "       [243.01369],\n",
       "       [243.79112],\n",
       "       [235.85713],\n",
       "       [227.0482 ],\n",
       "       [218.83858],\n",
       "       [214.35736],\n",
       "       [219.53273],\n",
       "       [225.96825],\n",
       "       [231.77261],\n",
       "       [230.33546],\n",
       "       [229.28613],\n",
       "       [229.38872],\n",
       "       [231.71106],\n",
       "       [236.69841],\n",
       "       [240.87138],\n",
       "       [244.56665],\n",
       "       [246.26698],\n",
       "       [246.2144 ],\n",
       "       [246.03114],\n",
       "       [245.31383],\n",
       "       [247.4052 ],\n",
       "       [250.11801],\n",
       "       [251.05629],\n",
       "       [249.42453],\n",
       "       [248.099  ],\n",
       "       [249.86768],\n",
       "       [252.65022],\n",
       "       [253.4285 ],\n",
       "       [254.17169],\n",
       "       [256.4559 ],\n",
       "       [256.20526],\n",
       "       [253.97757],\n",
       "       [251.79121],\n",
       "       [253.22333],\n",
       "       [254.49188],\n",
       "       [254.34581],\n",
       "       [253.66797],\n",
       "       [252.60852],\n",
       "       [251.83855],\n",
       "       [251.80405],\n",
       "       [251.7161 ],\n",
       "       [251.02667],\n",
       "       [250.49957],\n",
       "       [250.34016],\n",
       "       [250.16454],\n",
       "       [249.90462],\n",
       "       [250.8196 ],\n",
       "       [250.36827],\n",
       "       [249.0944 ],\n",
       "       [247.35214],\n",
       "       [244.88312],\n",
       "       [241.01074],\n",
       "       [237.75336],\n",
       "       [233.39192],\n",
       "       [228.91937],\n",
       "       [228.73013],\n",
       "       [227.5867 ],\n",
       "       [225.31204],\n",
       "       [221.36803],\n",
       "       [219.55086],\n",
       "       [218.81075],\n",
       "       [218.50528],\n",
       "       [220.1247 ],\n",
       "       [224.49333],\n",
       "       [227.57472],\n",
       "       [228.47891],\n",
       "       [228.29788],\n",
       "       [228.25883],\n",
       "       [228.90167],\n",
       "       [231.22173],\n",
       "       [231.8173 ],\n",
       "       [230.70981],\n",
       "       [228.38281],\n",
       "       [231.28134],\n",
       "       [234.95718],\n",
       "       [236.44005],\n",
       "       [232.0473 ],\n",
       "       [227.45888],\n",
       "       [225.74202],\n",
       "       [225.95952],\n",
       "       [225.81227],\n",
       "       [224.93433],\n",
       "       [224.39516],\n",
       "       [222.68744],\n",
       "       [220.33565],\n",
       "       [220.26793],\n",
       "       [222.3352 ],\n",
       "       [222.87189],\n",
       "       [222.96678],\n",
       "       [223.80154],\n",
       "       [223.95255],\n",
       "       [228.44508],\n",
       "       [229.607  ],\n",
       "       [227.91095],\n",
       "       [223.88141],\n",
       "       [218.23587],\n",
       "       [214.49217],\n",
       "       [212.59586],\n",
       "       [214.07074],\n",
       "       [215.6293 ],\n",
       "       [212.82118],\n",
       "       [211.25555],\n",
       "       [208.1762 ],\n",
       "       [207.65205],\n",
       "       [205.42366],\n",
       "       [203.46199],\n",
       "       [202.67375],\n",
       "       [205.97702],\n",
       "       [207.1999 ],\n",
       "       [206.38681],\n",
       "       [207.2524 ],\n",
       "       [210.86934],\n",
       "       [214.44156],\n",
       "       [216.14598],\n",
       "       [214.5955 ],\n",
       "       [211.98932],\n",
       "       [207.87183],\n",
       "       [205.05257],\n",
       "       [204.99268],\n",
       "       [206.22874],\n",
       "       [209.88376],\n",
       "       [212.02577],\n",
       "       [212.64087],\n",
       "       [212.93547],\n",
       "       [216.133  ],\n",
       "       [219.26662],\n",
       "       [220.4905 ],\n",
       "       [222.41599],\n",
       "       [224.4985 ],\n",
       "       [228.05875],\n",
       "       [230.63368],\n",
       "       [231.32463],\n",
       "       [234.29715],\n",
       "       [239.80371],\n",
       "       [242.61627],\n",
       "       [241.9411 ],\n",
       "       [240.18935],\n",
       "       [239.8121 ],\n",
       "       [244.87556],\n",
       "       [249.38538],\n",
       "       [251.87318],\n",
       "       [253.70383],\n",
       "       [253.87202],\n",
       "       [253.69762],\n",
       "       [253.8225 ],\n",
       "       [256.83432],\n",
       "       [259.7258 ],\n",
       "       [264.664  ],\n",
       "       [266.77576],\n",
       "       [267.12848],\n",
       "       [268.47922],\n",
       "       [272.37723],\n",
       "       [274.3556 ],\n",
       "       [273.5276 ],\n",
       "       [272.86288],\n",
       "       [272.492  ],\n",
       "       [273.70642],\n",
       "       [273.05328],\n",
       "       [273.29047],\n",
       "       [273.4365 ],\n",
       "       [275.73343],\n",
       "       [277.26273],\n",
       "       [279.89413],\n",
       "       [282.2911 ],\n",
       "       [283.8999 ],\n",
       "       [286.6251 ],\n",
       "       [288.41238],\n",
       "       [288.48578],\n",
       "       [285.12268],\n",
       "       [285.4494 ],\n",
       "       [288.4746 ],\n",
       "       [286.02362],\n",
       "       [279.54434],\n",
       "       [274.50336],\n",
       "       [272.33228],\n",
       "       [274.7515 ],\n",
       "       [275.2703 ],\n",
       "       [274.65024],\n",
       "       [272.7796 ],\n",
       "       [273.16394],\n",
       "       [272.3056 ],\n",
       "       [271.13025],\n",
       "       [269.9857 ],\n",
       "       [269.77524],\n",
       "       [270.0872 ],\n",
       "       [273.29514],\n",
       "       [276.9619 ],\n",
       "       [279.42264],\n",
       "       [279.03027],\n",
       "       [278.915  ],\n",
       "       [275.73462],\n",
       "       [274.61667],\n",
       "       [275.83862],\n",
       "       [278.61887],\n",
       "       [284.17004],\n",
       "       [287.46582],\n",
       "       [288.02985],\n",
       "       [287.65204],\n",
       "       [289.8717 ],\n",
       "       [294.2302 ],\n",
       "       [297.34076],\n",
       "       [296.89835],\n",
       "       [296.3004 ],\n",
       "       [298.82965],\n",
       "       [301.70016],\n",
       "       [301.0134 ],\n",
       "       [297.51794],\n",
       "       [297.1408 ],\n",
       "       [297.91483],\n",
       "       [298.9659 ],\n",
       "       [299.82916],\n",
       "       [299.45938],\n",
       "       [300.58484],\n",
       "       [301.0793 ],\n",
       "       [301.8545 ],\n",
       "       [301.80524],\n",
       "       [301.4107 ],\n",
       "       [302.46567],\n",
       "       [304.83124],\n",
       "       [304.387  ],\n",
       "       [301.36905],\n",
       "       [297.96655],\n",
       "       [299.75595],\n",
       "       [301.58435],\n",
       "       [304.12766],\n",
       "       [305.346  ],\n",
       "       [305.9088 ],\n",
       "       [304.4943 ],\n",
       "       [303.14285],\n",
       "       [302.1785 ],\n",
       "       [300.85815],\n",
       "       [302.17624],\n",
       "       [303.11707],\n",
       "       [302.41946],\n",
       "       [300.46857],\n",
       "       [300.71082],\n",
       "       [302.891  ],\n",
       "       [305.62466],\n",
       "       [308.23407],\n",
       "       [310.09656],\n",
       "       [309.50037],\n",
       "       [308.47348],\n",
       "       [309.14795],\n",
       "       [311.7122 ],\n",
       "       [313.99747],\n",
       "       [315.95828],\n",
       "       [313.74054],\n",
       "       [313.20245],\n",
       "       [315.5318 ],\n",
       "       [315.80728],\n",
       "       [315.81342],\n",
       "       [315.49857],\n",
       "       [315.66653],\n",
       "       [315.43274],\n",
       "       [315.76343],\n",
       "       [316.59085],\n",
       "       [317.55338],\n",
       "       [316.2276 ],\n",
       "       [313.9382 ],\n",
       "       [313.62018],\n",
       "       [313.4251 ],\n",
       "       [314.5816 ],\n",
       "       [311.7849 ],\n",
       "       [304.08453],\n",
       "       [299.61575],\n",
       "       [300.61642],\n",
       "       [303.26123],\n",
       "       [306.86478],\n",
       "       [307.9514 ],\n",
       "       [306.00174],\n",
       "       [304.93802],\n",
       "       [303.469  ],\n",
       "       [305.07492],\n",
       "       [306.3085 ],\n",
       "       [307.1422 ],\n",
       "       [307.16092],\n",
       "       [309.23383],\n",
       "       [309.60574],\n",
       "       [310.13672],\n",
       "       [308.69644],\n",
       "       [307.27325],\n",
       "       [304.75302],\n",
       "       [303.24796],\n",
       "       [308.0195 ],\n",
       "       [311.61313],\n",
       "       [313.29205],\n",
       "       [312.84555],\n",
       "       [312.71396],\n",
       "       [312.81995],\n",
       "       [312.28317],\n",
       "       [313.1696 ],\n",
       "       [313.91428],\n",
       "       [313.52518],\n",
       "       [313.082  ],\n",
       "       [311.64868],\n",
       "       [309.83282],\n",
       "       [308.56082],\n",
       "       [308.27335],\n",
       "       [310.7363 ],\n",
       "       [312.41965],\n",
       "       [311.51025],\n",
       "       [309.17105],\n",
       "       [309.8527 ],\n",
       "       [311.7196 ],\n",
       "       [312.74002],\n",
       "       [312.364  ],\n",
       "       [311.22177],\n",
       "       [310.00916],\n",
       "       [310.25693],\n",
       "       [311.04977],\n",
       "       [313.5831 ],\n",
       "       [314.4286 ],\n",
       "       [314.25815],\n",
       "       [315.16858],\n",
       "       [316.2178 ],\n",
       "       [316.49167],\n",
       "       [315.3436 ],\n",
       "       [315.0121 ],\n",
       "       [313.9228 ],\n",
       "       [311.535  ],\n",
       "       [310.3473 ],\n",
       "       [310.62567],\n",
       "       [309.53638],\n",
       "       [309.0442 ],\n",
       "       [309.25797],\n",
       "       [308.6068 ],\n",
       "       [310.57364],\n",
       "       [312.6949 ],\n",
       "       [312.65115],\n",
       "       [311.0269 ],\n",
       "       [309.81534],\n",
       "       [311.12988],\n",
       "       [312.0535 ],\n",
       "       [312.59177],\n",
       "       [312.05673],\n",
       "       [311.12726],\n",
       "       [311.55896],\n",
       "       [312.14575],\n",
       "       [311.77094],\n",
       "       [310.8817 ],\n",
       "       [308.9261 ],\n",
       "       [307.7861 ],\n",
       "       [306.1072 ],\n",
       "       [304.21832],\n",
       "       [303.75162],\n",
       "       [304.23978],\n",
       "       [306.88455],\n",
       "       [301.84555],\n",
       "       [297.1461 ],\n",
       "       [297.9106 ],\n",
       "       [299.197  ],\n",
       "       [300.02457],\n",
       "       [299.23538]], dtype=float32)"
      ]
     },
     "execution_count": 152,
     "metadata": {},
     "output_type": "execute_result"
    }
   ],
   "source": [
    "pred = scaler.inverse_transform(pred)\n",
    "pred"
   ]
  },
  {
   "cell_type": "code",
   "execution_count": 154,
   "id": "b85d49e7",
   "metadata": {
    "ExecuteTime": {
     "end_time": "2023-11-09T07:17:39.522640Z",
     "start_time": "2023-11-09T07:17:39.518651Z"
    }
   },
   "outputs": [
    {
     "data": {
      "text/plain": [
       "(372, 1)"
      ]
     },
     "execution_count": 154,
     "metadata": {},
     "output_type": "execute_result"
    }
   ],
   "source": [
    "real_price.shape"
   ]
  },
  {
   "cell_type": "code",
   "execution_count": 155,
   "id": "e2e48680",
   "metadata": {
    "ExecuteTime": {
     "end_time": "2023-11-09T07:17:54.049239Z",
     "start_time": "2023-11-09T07:17:53.845845Z"
    }
   },
   "outputs": [
    {
     "data": {
      "image/png": "[encoded data removed]",
      "text/plain": [
       "<Figure size 640x480 with 1 Axes>"
      ]
     },
     "metadata": {},
     "output_type": "display_data"
    }
   ],
   "source": [
    "plt.plot(real_price, color = \"red\", label = \"Real Stock Price\")\n",
    "plt.plot(pred, color = \"black\", label = \"Predict Stock Price\")\n",
    "plt.title(\"Stock Price Prediction\")\n",
    "plt.xlabel(\"Time\")\n",
    "plt.ylabel(\"Tesla Stock Price\")\n",
    "plt.legend()\n",
    "plt.show()"
   ]
  },
  {
   "cell_type": "code",
   "execution_count": 167,
   "id": "fd266508",
   "metadata": {
    "ExecuteTime": {
     "end_time": "2023-11-09T08:05:03.861549Z",
     "start_time": "2023-11-09T08:05:03.858800Z"
    }
   },
   "outputs": [],
   "source": [
    "#1. LSTM 변경하고 RNN과 비교\n",
    "#2. 관심있는 회사에 대해 예측모델"
   ]
  },
  {
   "cell_type": "code",
   "execution_count": 168,
   "id": "da635868",
   "metadata": {
    "ExecuteTime": {
     "end_time": "2023-11-09T08:05:05.829794Z",
     "start_time": "2023-11-09T08:05:05.825827Z"
    }
   },
   "outputs": [],
   "source": [
    "import numpy as np \n",
    "import pandas as pd \n",
    "import seaborn as sns\n",
    "import matplotlib.pyplot as plt"
   ]
  },
  {
   "cell_type": "code",
   "execution_count": 169,
   "id": "32a93d13",
   "metadata": {
    "ExecuteTime": {
     "end_time": "2023-11-09T08:05:21.761571Z",
     "start_time": "2023-11-09T08:05:21.753595Z"
    }
   },
   "outputs": [],
   "source": [
    "data = pd.read_csv(\"tsla.us.txt\")"
   ]
  },
  {
   "cell_type": "code",
   "execution_count": 170,
   "id": "7d14a089",
   "metadata": {
    "ExecuteTime": {
     "end_time": "2023-11-09T08:05:25.526241Z",
     "start_time": "2023-11-09T08:05:25.513755Z"
    }
   },
   "outputs": [
    {
     "data": {
      "text/html": [
       "<div>\n",
       "<style scoped>\n",
       "    .dataframe tbody tr th:only-of-type {\n",
       "        vertical-align: middle;\n",
       "    }\n",
       "\n",
       "    .dataframe tbody tr th {\n",
       "        vertical-align: top;\n",
       "    }\n",
       "\n",
       "    .dataframe thead th {\n",
       "        text-align: right;\n",
       "    }\n",
       "</style>\n",
       "<table border=\"1\" class=\"dataframe\">\n",
       "  <thead>\n",
       "    <tr style=\"text-align: right;\">\n",
       "      <th></th>\n",
       "      <th>Date</th>\n",
       "      <th>Open</th>\n",
       "      <th>High</th>\n",
       "      <th>Low</th>\n",
       "      <th>Close</th>\n",
       "      <th>Volume</th>\n",
       "      <th>OpenInt</th>\n",
       "    </tr>\n",
       "  </thead>\n",
       "  <tbody>\n",
       "    <tr>\n",
       "      <th>0</th>\n",
       "      <td>2010-06-28</td>\n",
       "      <td>17.00</td>\n",
       "      <td>17.00</td>\n",
       "      <td>17.00</td>\n",
       "      <td>17.00</td>\n",
       "      <td>0</td>\n",
       "      <td>0</td>\n",
       "    </tr>\n",
       "    <tr>\n",
       "      <th>1</th>\n",
       "      <td>2010-06-29</td>\n",
       "      <td>19.00</td>\n",
       "      <td>25.00</td>\n",
       "      <td>17.54</td>\n",
       "      <td>23.89</td>\n",
       "      <td>18783276</td>\n",
       "      <td>0</td>\n",
       "    </tr>\n",
       "    <tr>\n",
       "      <th>2</th>\n",
       "      <td>2010-06-30</td>\n",
       "      <td>25.79</td>\n",
       "      <td>30.42</td>\n",
       "      <td>23.30</td>\n",
       "      <td>23.83</td>\n",
       "      <td>17194394</td>\n",
       "      <td>0</td>\n",
       "    </tr>\n",
       "    <tr>\n",
       "      <th>3</th>\n",
       "      <td>2010-07-01</td>\n",
       "      <td>25.00</td>\n",
       "      <td>25.92</td>\n",
       "      <td>20.27</td>\n",
       "      <td>21.96</td>\n",
       "      <td>8229863</td>\n",
       "      <td>0</td>\n",
       "    </tr>\n",
       "    <tr>\n",
       "      <th>4</th>\n",
       "      <td>2010-07-02</td>\n",
       "      <td>23.00</td>\n",
       "      <td>23.10</td>\n",
       "      <td>18.71</td>\n",
       "      <td>19.20</td>\n",
       "      <td>5141807</td>\n",
       "      <td>0</td>\n",
       "    </tr>\n",
       "    <tr>\n",
       "      <th>...</th>\n",
       "      <td>...</td>\n",
       "      <td>...</td>\n",
       "      <td>...</td>\n",
       "      <td>...</td>\n",
       "      <td>...</td>\n",
       "      <td>...</td>\n",
       "      <td>...</td>\n",
       "    </tr>\n",
       "    <tr>\n",
       "      <th>1853</th>\n",
       "      <td>2017-11-06</td>\n",
       "      <td>307.00</td>\n",
       "      <td>307.50</td>\n",
       "      <td>299.01</td>\n",
       "      <td>302.78</td>\n",
       "      <td>6482486</td>\n",
       "      <td>0</td>\n",
       "    </tr>\n",
       "    <tr>\n",
       "      <th>1854</th>\n",
       "      <td>2017-11-07</td>\n",
       "      <td>301.02</td>\n",
       "      <td>306.50</td>\n",
       "      <td>300.03</td>\n",
       "      <td>306.05</td>\n",
       "      <td>5286320</td>\n",
       "      <td>0</td>\n",
       "    </tr>\n",
       "    <tr>\n",
       "      <th>1855</th>\n",
       "      <td>2017-11-08</td>\n",
       "      <td>305.50</td>\n",
       "      <td>306.89</td>\n",
       "      <td>301.30</td>\n",
       "      <td>304.31</td>\n",
       "      <td>4725510</td>\n",
       "      <td>0</td>\n",
       "    </tr>\n",
       "    <tr>\n",
       "      <th>1856</th>\n",
       "      <td>2017-11-09</td>\n",
       "      <td>302.50</td>\n",
       "      <td>304.46</td>\n",
       "      <td>296.30</td>\n",
       "      <td>302.99</td>\n",
       "      <td>5440335</td>\n",
       "      <td>0</td>\n",
       "    </tr>\n",
       "    <tr>\n",
       "      <th>1857</th>\n",
       "      <td>2017-11-10</td>\n",
       "      <td>302.50</td>\n",
       "      <td>308.36</td>\n",
       "      <td>301.85</td>\n",
       "      <td>302.99</td>\n",
       "      <td>4621912</td>\n",
       "      <td>0</td>\n",
       "    </tr>\n",
       "  </tbody>\n",
       "</table>\n",
       "<p>1858 rows × 7 columns</p>\n",
       "</div>"
      ],
      "text/plain": [
       "            Date    Open    High     Low   Close    Volume  OpenInt\n",
       "0     2010-06-28   17.00   17.00   17.00   17.00         0        0\n",
       "1     2010-06-29   19.00   25.00   17.54   23.89  18783276        0\n",
       "2     2010-06-30   25.79   30.42   23.30   23.83  17194394        0\n",
       "3     2010-07-01   25.00   25.92   20.27   21.96   8229863        0\n",
       "4     2010-07-02   23.00   23.10   18.71   19.20   5141807        0\n",
       "...          ...     ...     ...     ...     ...       ...      ...\n",
       "1853  2017-11-06  307.00  307.50  299.01  302.78   6482486        0\n",
       "1854  2017-11-07  301.02  306.50  300.03  306.05   5286320        0\n",
       "1855  2017-11-08  305.50  306.89  301.30  304.31   4725510        0\n",
       "1856  2017-11-09  302.50  304.46  296.30  302.99   5440335        0\n",
       "1857  2017-11-10  302.50  308.36  301.85  302.99   4621912        0\n",
       "\n",
       "[1858 rows x 7 columns]"
      ]
     },
     "execution_count": 170,
     "metadata": {},
     "output_type": "execute_result"
    }
   ],
   "source": [
    "data"
   ]
  },
  {
   "cell_type": "code",
   "execution_count": 171,
   "id": "71172222",
   "metadata": {
    "ExecuteTime": {
     "end_time": "2023-11-09T08:05:49.709585Z",
     "start_time": "2023-11-09T08:05:49.706349Z"
    }
   },
   "outputs": [],
   "source": [
    "from sklearn.preprocessing import MinMaxScaler"
   ]
  },
  {
   "cell_type": "code",
   "execution_count": null,
   "id": "cc813309",
   "metadata": {},
   "outputs": [],
   "source": []
  }
 ],
 "metadata": {
  "kernelspec": {
   "display_name": "Python 3 (ipykernel)",
   "language": "python",
   "name": "python3"
  },
  "language_info": {
   "codemirror_mode": {
    "name": "ipython",
    "version": 3
   },
   "file_extension": ".py",
   "mimetype": "text/x-python",
   "name": "python",
   "nbconvert_exporter": "python",
   "pygments_lexer": "ipython3",
   "version": "3.11.4"
  },
  "toc": {
   "base_numbering": 1,
   "nav_menu": {},
   "number_sections": true,
   "sideBar": true,
   "skip_h1_title": false,
   "title_cell": "Table of Contents",
   "title_sidebar": "Contents",
   "toc_cell": false,
   "toc_position": {},
   "toc_section_display": true,
   "toc_window_display": false
  }
 },
 "nbformat": 4,
 "nbformat_minor": 5
}
