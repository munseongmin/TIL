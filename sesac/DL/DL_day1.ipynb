{
 "cells": [
  {
   "cell_type": "code",
   "execution_count": 95,
   "id": "7e9e20bf",
   "metadata": {
    "ExecuteTime": {
     "end_time": "2023-10-31T07:22:55.483287Z",
     "start_time": "2023-10-31T07:22:55.478255Z"
    }
   },
   "outputs": [
    {
     "data": {
      "text/plain": [
       "'\\n케라스(딥러닝 프레임웍)을 이용한 점수 예측\\n\\n입력 특징 : 공부시간, 출석일수, 과제제출횟수\\n\\n츨력 : 시험점수\\n\\n프레임웍 : framework 작업을 쉽게 수행할 수 있게 하는 라이브러리의 집합체\\n\\n종류 : 텐서플로우(케라스가 합쳐짐(탠서플로우 사용하기 쉽게)), 파이토치, 까페 ...\\n\\nReLu = max(0, wx+b) wx+b와 0을 비교하여 큰 값 출력 ex) wx+b=5일 땐 5 출력, wx+b가 -5일 땐 0 출력\\n\\n중간 활성함수에서 sigmoid 함수 잘 안씀 ReLu 많이 씀\\n\\nvanisihing gradient problem (기울기 소실 문제)\\n\\n입력계층 네트워크 히든계층 네트워크 히든계층 출력계층\\n\\n네트워크들의 가중치는 랜덤하게 배정\\n\\n트레이닝 하는 이유 : 가중치 조정해서 최적의 가중치를 찾아내는 과정\\n\\n예측값 실제값 차이의 제곱합 cost 함수(loss 함수) 값이 가장 적게 나오는 시점을 찾는 것\\n\\n\\n'"
      ]
     },
     "execution_count": 95,
     "metadata": {},
     "output_type": "execute_result"
    }
   ],
   "source": [
    "'''\n",
    "케라스(딥러닝 프레임웍)을 이용한 점수 예측\n",
    "\n",
    "입력 특징 : 공부시간, 출석일수, 과제제출횟수\n",
    "\n",
    "츨력 : 시험점수\n",
    "\n",
    "프레임웍 : framework 작업을 쉽게 수행할 수 있게 하는 라이브러리의 집합체\n",
    "\n",
    "종류 : 텐서플로우(케라스가 합쳐짐(탠서플로우 사용하기 쉽게)), 파이토치, 까페 ...\n",
    "\n",
    "ReLu = max(0, wx+b) wx+b와 0을 비교하여 큰 값 출력 ex) wx+b=5일 땐 5 출력, wx+b가 -5일 땐 0 출력\n",
    "\n",
    "중간 활성함수에서 sigmoid 함수 잘 안씀 ReLu 많이 씀\n",
    "\n",
    "vanisihing gradient problem (기울기 소실 문제)\n",
    "\n",
    "입력계층 네트워크 히든계층 네트워크 히든계층 출력계층\n",
    "\n",
    "네트워크들의 가중치는 랜덤하게 배정\n",
    "\n",
    "트레이닝 하는 이유 : 가중치 조정해서 최적의 가중치를 찾아내는 과정\n",
    "\n",
    "예측값 실제값 차이의 제곱합 cost 함수(loss 함수) 값이 가장 적게 나오는 시점을 찾는 것\n",
    "\n",
    "\n",
    "'''"
   ]
  },
  {
   "cell_type": "code",
   "execution_count": 96,
   "id": "efec00b7",
   "metadata": {
    "ExecuteTime": {
     "end_time": "2023-10-31T07:22:55.540116Z",
     "start_time": "2023-10-31T07:22:55.485276Z"
    }
   },
   "outputs": [],
   "source": [
    "from tensorflow import keras\n",
    "from tensorflow.keras import layers"
   ]
  },
  {
   "cell_type": "code",
   "execution_count": 97,
   "id": "10ce0b34",
   "metadata": {
    "ExecuteTime": {
     "end_time": "2023-10-31T07:22:55.613228Z",
     "start_time": "2023-10-31T07:22:55.541108Z"
    }
   },
   "outputs": [],
   "source": [
    "model=keras.Sequential([layers.Dense(units=1, input_shape=[3])]) #입력차원 Input_shape 3, 출력차원 units 1, 모델 만듬"
   ]
  },
  {
   "cell_type": "code",
   "execution_count": 98,
   "id": "f21554df",
   "metadata": {
    "ExecuteTime": {
     "end_time": "2023-10-31T07:22:55.678157Z",
     "start_time": "2023-10-31T07:22:55.615222Z"
    }
   },
   "outputs": [],
   "source": [
    "model = keras.Sequential([\n",
    "    layers.Dense(units=4, input_shape=[2], activation='relu'),\n",
    "    layers.Dense(units=3, activation='relu'),\n",
    "    layers.Dense(units=1, activation='sigmoid'),\n",
    "])"
   ]
  },
  {
   "cell_type": "code",
   "execution_count": 99,
   "id": "9cfe6e47",
   "metadata": {
    "ExecuteTime": {
     "end_time": "2023-10-31T07:22:55.722917Z",
     "start_time": "2023-10-31T07:22:55.679167Z"
    }
   },
   "outputs": [
    {
     "name": "stdout",
     "output_type": "stream",
     "text": [
      "Model: \"sequential_9\"\n",
      "_________________________________________________________________\n",
      " Layer (type)                Output Shape              Param #   \n",
      "=================================================================\n",
      " dense_23 (Dense)            (None, 4)                 12        \n",
      "                                                                 \n",
      " dense_24 (Dense)            (None, 3)                 15        \n",
      "                                                                 \n",
      " dense_25 (Dense)            (None, 1)                 4         \n",
      "                                                                 \n",
      "=================================================================\n",
      "Total params: 31 (124.00 Byte)\n",
      "Trainable params: 31 (124.00 Byte)\n",
      "Non-trainable params: 0 (0.00 Byte)\n",
      "_________________________________________________________________\n"
     ]
    }
   ],
   "source": [
    "model.summary()"
   ]
  },
  {
   "cell_type": "code",
   "execution_count": 100,
   "id": "d3bd9a10",
   "metadata": {
    "ExecuteTime": {
     "end_time": "2023-10-31T07:22:55.772840Z",
     "start_time": "2023-10-31T07:22:55.723909Z"
    }
   },
   "outputs": [],
   "source": [
    "#param 12 -> 2*4+4b, 15 -> 4*3+3b, 4 -> 3*1+b"
   ]
  },
  {
   "cell_type": "code",
   "execution_count": 101,
   "id": "faff6a4d",
   "metadata": {
    "ExecuteTime": {
     "end_time": "2023-10-31T07:22:55.836182Z",
     "start_time": "2023-10-31T07:22:55.773835Z"
    }
   },
   "outputs": [],
   "source": [
    "model.compile(optimizer='adam', loss='mae') #모를 때는 아담 사용"
   ]
  },
  {
   "cell_type": "code",
   "execution_count": 102,
   "id": "0ac30297",
   "metadata": {
    "ExecuteTime": {
     "end_time": "2023-10-31T07:22:55.885862Z",
     "start_time": "2023-10-31T07:22:55.836713Z"
    }
   },
   "outputs": [],
   "source": [
    "import pandas as pd"
   ]
  },
  {
   "cell_type": "code",
   "execution_count": 103,
   "id": "75f93424",
   "metadata": {
    "ExecuteTime": {
     "end_time": "2023-10-31T07:22:55.945866Z",
     "start_time": "2023-10-31T07:22:55.887877Z"
    }
   },
   "outputs": [],
   "source": [
    "red_wine = pd.read_csv('red-wine.csv')"
   ]
  },
  {
   "cell_type": "code",
   "execution_count": 104,
   "id": "e049f25e",
   "metadata": {
    "ExecuteTime": {
     "end_time": "2023-10-31T07:22:56.003560Z",
     "start_time": "2023-10-31T07:22:55.946858Z"
    }
   },
   "outputs": [
    {
     "name": "stdout",
     "output_type": "stream",
     "text": [
      "<class 'pandas.core.frame.DataFrame'>\n",
      "RangeIndex: 1599 entries, 0 to 1598\n",
      "Data columns (total 12 columns):\n",
      " #   Column                Non-Null Count  Dtype  \n",
      "---  ------                --------------  -----  \n",
      " 0   fixed acidity         1599 non-null   float64\n",
      " 1   volatile acidity      1599 non-null   float64\n",
      " 2   citric acid           1599 non-null   float64\n",
      " 3   residual sugar        1599 non-null   float64\n",
      " 4   chlorides             1599 non-null   float64\n",
      " 5   free sulfur dioxide   1599 non-null   float64\n",
      " 6   total sulfur dioxide  1599 non-null   float64\n",
      " 7   density               1599 non-null   float64\n",
      " 8   pH                    1599 non-null   float64\n",
      " 9   sulphates             1599 non-null   float64\n",
      " 10  alcohol               1599 non-null   float64\n",
      " 11  quality               1599 non-null   int64  \n",
      "dtypes: float64(11), int64(1)\n",
      "memory usage: 150.0 KB\n"
     ]
    }
   ],
   "source": [
    "red_wine.info()"
   ]
  },
  {
   "cell_type": "code",
   "execution_count": 105,
   "id": "d1269315",
   "metadata": {
    "ExecuteTime": {
     "end_time": "2023-10-31T07:22:56.059599Z",
     "start_time": "2023-10-31T07:22:56.004550Z"
    }
   },
   "outputs": [],
   "source": [
    "df_train = red_wine.sample(frac=0.7, random_state=20231031)"
   ]
  },
  {
   "cell_type": "code",
   "execution_count": 106,
   "id": "ce62038b",
   "metadata": {
    "ExecuteTime": {
     "end_time": "2023-10-31T07:22:56.114828Z",
     "start_time": "2023-10-31T07:22:56.060587Z"
    }
   },
   "outputs": [
    {
     "data": {
      "text/plain": [
       "1119"
      ]
     },
     "execution_count": 106,
     "metadata": {},
     "output_type": "execute_result"
    }
   ],
   "source": [
    "len(df_train)"
   ]
  },
  {
   "cell_type": "code",
   "execution_count": 107,
   "id": "502d2815",
   "metadata": {
    "ExecuteTime": {
     "end_time": "2023-10-31T07:22:56.172088Z",
     "start_time": "2023-10-31T07:22:56.115774Z"
    }
   },
   "outputs": [
    {
     "data": {
      "text/plain": [
       "Int64Index([1385, 1504, 1269, 1457,  671,  404, 1327, 1226,  803, 1563,\n",
       "            ...\n",
       "            1301,  120,  199,   40, 1052, 1043, 1130,  363,  386, 1008],\n",
       "           dtype='int64', length=1119)"
      ]
     },
     "execution_count": 107,
     "metadata": {},
     "output_type": "execute_result"
    }
   ],
   "source": [
    "df_train.index"
   ]
  },
  {
   "cell_type": "code",
   "execution_count": 108,
   "id": "b1735817",
   "metadata": {
    "ExecuteTime": {
     "end_time": "2023-10-31T07:22:56.226449Z",
     "start_time": "2023-10-31T07:22:56.173086Z"
    }
   },
   "outputs": [],
   "source": [
    "df_test = red_wine.drop(df_train.index)"
   ]
  },
  {
   "cell_type": "code",
   "execution_count": 109,
   "id": "8828eea9",
   "metadata": {
    "ExecuteTime": {
     "end_time": "2023-10-31T07:22:56.268120Z",
     "start_time": "2023-10-31T07:22:56.227953Z"
    }
   },
   "outputs": [
    {
     "data": {
      "text/plain": [
       "480"
      ]
     },
     "execution_count": 109,
     "metadata": {},
     "output_type": "execute_result"
    }
   ],
   "source": [
    "len(df_test)"
   ]
  },
  {
   "cell_type": "code",
   "execution_count": 110,
   "id": "e53a6c31",
   "metadata": {
    "ExecuteTime": {
     "end_time": "2023-10-31T07:22:56.331844Z",
     "start_time": "2023-10-31T07:22:56.269114Z"
    }
   },
   "outputs": [
    {
     "data": {
      "text/html": [
       "<div>\n",
       "<style scoped>\n",
       "    .dataframe tbody tr th:only-of-type {\n",
       "        vertical-align: middle;\n",
       "    }\n",
       "\n",
       "    .dataframe tbody tr th {\n",
       "        vertical-align: top;\n",
       "    }\n",
       "\n",
       "    .dataframe thead th {\n",
       "        text-align: right;\n",
       "    }\n",
       "</style>\n",
       "<table border=\"1\" class=\"dataframe\">\n",
       "  <thead>\n",
       "    <tr style=\"text-align: right;\">\n",
       "      <th></th>\n",
       "      <th>fixed acidity</th>\n",
       "      <th>volatile acidity</th>\n",
       "      <th>citric acid</th>\n",
       "      <th>residual sugar</th>\n",
       "      <th>chlorides</th>\n",
       "      <th>free sulfur dioxide</th>\n",
       "      <th>total sulfur dioxide</th>\n",
       "      <th>density</th>\n",
       "      <th>pH</th>\n",
       "      <th>sulphates</th>\n",
       "      <th>alcohol</th>\n",
       "      <th>quality</th>\n",
       "    </tr>\n",
       "  </thead>\n",
       "  <tbody>\n",
       "    <tr>\n",
       "      <th>1385</th>\n",
       "      <td>8.0</td>\n",
       "      <td>0.81</td>\n",
       "      <td>0.25</td>\n",
       "      <td>3.4</td>\n",
       "      <td>0.076</td>\n",
       "      <td>34.0</td>\n",
       "      <td>85.0</td>\n",
       "      <td>0.99668</td>\n",
       "      <td>3.19</td>\n",
       "      <td>0.42</td>\n",
       "      <td>9.2</td>\n",
       "      <td>5</td>\n",
       "    </tr>\n",
       "    <tr>\n",
       "      <th>1504</th>\n",
       "      <td>7.5</td>\n",
       "      <td>0.38</td>\n",
       "      <td>0.57</td>\n",
       "      <td>2.3</td>\n",
       "      <td>0.106</td>\n",
       "      <td>5.0</td>\n",
       "      <td>12.0</td>\n",
       "      <td>0.99605</td>\n",
       "      <td>3.36</td>\n",
       "      <td>0.55</td>\n",
       "      <td>11.4</td>\n",
       "      <td>6</td>\n",
       "    </tr>\n",
       "  </tbody>\n",
       "</table>\n",
       "</div>"
      ],
      "text/plain": [
       "      fixed acidity  volatile acidity  citric acid  residual sugar  chlorides  \\\n",
       "1385            8.0              0.81         0.25             3.4      0.076   \n",
       "1504            7.5              0.38         0.57             2.3      0.106   \n",
       "\n",
       "      free sulfur dioxide  total sulfur dioxide  density    pH  sulphates  \\\n",
       "1385                 34.0                  85.0  0.99668  3.19       0.42   \n",
       "1504                  5.0                  12.0  0.99605  3.36       0.55   \n",
       "\n",
       "      alcohol  quality  \n",
       "1385      9.2        5  \n",
       "1504     11.4        6  "
      ]
     },
     "execution_count": 110,
     "metadata": {},
     "output_type": "execute_result"
    }
   ],
   "source": [
    "df_train[:2]"
   ]
  },
  {
   "cell_type": "code",
   "execution_count": 111,
   "id": "6e258d97",
   "metadata": {
    "ExecuteTime": {
     "end_time": "2023-10-31T07:22:56.386050Z",
     "start_time": "2023-10-31T07:22:56.332832Z"
    }
   },
   "outputs": [],
   "source": [
    "#히든 계층에 노드 갯수 지정해 줄때 일반적으로 2의 n제곱승"
   ]
  },
  {
   "cell_type": "code",
   "execution_count": 112,
   "id": "5e0a5cff",
   "metadata": {
    "ExecuteTime": {
     "end_time": "2023-10-31T07:22:56.442687Z",
     "start_time": "2023-10-31T07:22:56.386646Z"
    }
   },
   "outputs": [],
   "source": [
    "#표준화 minmaxscaler\n",
    "max_=df_train.max()\n",
    "min_=df_train.min()"
   ]
  },
  {
   "cell_type": "code",
   "execution_count": 113,
   "id": "3fb13a78",
   "metadata": {
    "ExecuteTime": {
     "end_time": "2023-10-31T07:22:56.500798Z",
     "start_time": "2023-10-31T07:22:56.443679Z"
    }
   },
   "outputs": [
    {
     "data": {
      "text/plain": [
       "fixed acidity            11.00000\n",
       "volatile acidity          1.21000\n",
       "citric acid               1.00000\n",
       "residual sugar           14.60000\n",
       "chlorides                 0.59900\n",
       "free sulfur dioxide      71.00000\n",
       "total sulfur dioxide    283.00000\n",
       "density                   0.01362\n",
       "pH                        1.27000\n",
       "sulphates                 1.67000\n",
       "alcohol                   5.60000\n",
       "quality                   5.00000\n",
       "dtype: float64"
      ]
     },
     "execution_count": 113,
     "metadata": {},
     "output_type": "execute_result"
    }
   ],
   "source": [
    "max_-min_"
   ]
  },
  {
   "cell_type": "code",
   "execution_count": 114,
   "id": "c2ff9584",
   "metadata": {
    "ExecuteTime": {
     "end_time": "2023-10-31T07:22:56.564424Z",
     "start_time": "2023-10-31T07:22:56.501794Z"
    }
   },
   "outputs": [
    {
     "data": {
      "text/html": [
       "<div>\n",
       "<style scoped>\n",
       "    .dataframe tbody tr th:only-of-type {\n",
       "        vertical-align: middle;\n",
       "    }\n",
       "\n",
       "    .dataframe tbody tr th {\n",
       "        vertical-align: top;\n",
       "    }\n",
       "\n",
       "    .dataframe thead th {\n",
       "        text-align: right;\n",
       "    }\n",
       "</style>\n",
       "<table border=\"1\" class=\"dataframe\">\n",
       "  <thead>\n",
       "    <tr style=\"text-align: right;\">\n",
       "      <th></th>\n",
       "      <th>fixed acidity</th>\n",
       "      <th>volatile acidity</th>\n",
       "      <th>citric acid</th>\n",
       "      <th>residual sugar</th>\n",
       "      <th>chlorides</th>\n",
       "      <th>free sulfur dioxide</th>\n",
       "      <th>total sulfur dioxide</th>\n",
       "      <th>density</th>\n",
       "      <th>pH</th>\n",
       "      <th>sulphates</th>\n",
       "      <th>alcohol</th>\n",
       "      <th>quality</th>\n",
       "    </tr>\n",
       "  </thead>\n",
       "  <tbody>\n",
       "    <tr>\n",
       "      <th>1385</th>\n",
       "      <td>0.309091</td>\n",
       "      <td>0.570248</td>\n",
       "      <td>0.25</td>\n",
       "      <td>0.171233</td>\n",
       "      <td>0.106845</td>\n",
       "      <td>0.464789</td>\n",
       "      <td>0.279152</td>\n",
       "      <td>0.485316</td>\n",
       "      <td>0.354331</td>\n",
       "      <td>0.053892</td>\n",
       "      <td>0.142857</td>\n",
       "      <td>0.4</td>\n",
       "    </tr>\n",
       "    <tr>\n",
       "      <th>1504</th>\n",
       "      <td>0.263636</td>\n",
       "      <td>0.214876</td>\n",
       "      <td>0.57</td>\n",
       "      <td>0.095890</td>\n",
       "      <td>0.156928</td>\n",
       "      <td>0.056338</td>\n",
       "      <td>0.021201</td>\n",
       "      <td>0.439060</td>\n",
       "      <td>0.488189</td>\n",
       "      <td>0.131737</td>\n",
       "      <td>0.535714</td>\n",
       "      <td>0.6</td>\n",
       "    </tr>\n",
       "    <tr>\n",
       "      <th>1269</th>\n",
       "      <td>0.081818</td>\n",
       "      <td>0.305785</td>\n",
       "      <td>0.03</td>\n",
       "      <td>0.061644</td>\n",
       "      <td>0.053422</td>\n",
       "      <td>0.380282</td>\n",
       "      <td>0.286219</td>\n",
       "      <td>0.053598</td>\n",
       "      <td>0.598425</td>\n",
       "      <td>0.293413</td>\n",
       "      <td>1.000000</td>\n",
       "      <td>1.0</td>\n",
       "    </tr>\n",
       "    <tr>\n",
       "      <th>1457</th>\n",
       "      <td>0.272727</td>\n",
       "      <td>0.305785</td>\n",
       "      <td>0.33</td>\n",
       "      <td>0.068493</td>\n",
       "      <td>0.103506</td>\n",
       "      <td>0.366197</td>\n",
       "      <td>0.279152</td>\n",
       "      <td>0.513216</td>\n",
       "      <td>0.527559</td>\n",
       "      <td>0.149701</td>\n",
       "      <td>0.107143</td>\n",
       "      <td>0.4</td>\n",
       "    </tr>\n",
       "    <tr>\n",
       "      <th>671</th>\n",
       "      <td>0.327273</td>\n",
       "      <td>0.504132</td>\n",
       "      <td>0.21</td>\n",
       "      <td>0.054795</td>\n",
       "      <td>0.103506</td>\n",
       "      <td>0.056338</td>\n",
       "      <td>0.024735</td>\n",
       "      <td>0.494126</td>\n",
       "      <td>0.362205</td>\n",
       "      <td>0.113772</td>\n",
       "      <td>0.196429</td>\n",
       "      <td>0.4</td>\n",
       "    </tr>\n",
       "    <tr>\n",
       "      <th>...</th>\n",
       "      <td>...</td>\n",
       "      <td>...</td>\n",
       "      <td>...</td>\n",
       "      <td>...</td>\n",
       "      <td>...</td>\n",
       "      <td>...</td>\n",
       "      <td>...</td>\n",
       "      <td>...</td>\n",
       "      <td>...</td>\n",
       "      <td>...</td>\n",
       "      <td>...</td>\n",
       "      <td>...</td>\n",
       "    </tr>\n",
       "    <tr>\n",
       "      <th>1043</th>\n",
       "      <td>0.445455</td>\n",
       "      <td>0.223140</td>\n",
       "      <td>0.41</td>\n",
       "      <td>0.547945</td>\n",
       "      <td>0.095159</td>\n",
       "      <td>0.239437</td>\n",
       "      <td>0.116608</td>\n",
       "      <td>0.625551</td>\n",
       "      <td>0.433071</td>\n",
       "      <td>0.287425</td>\n",
       "      <td>0.446429</td>\n",
       "      <td>0.8</td>\n",
       "    </tr>\n",
       "    <tr>\n",
       "      <th>1130</th>\n",
       "      <td>0.409091</td>\n",
       "      <td>0.396694</td>\n",
       "      <td>0.00</td>\n",
       "      <td>0.068493</td>\n",
       "      <td>0.076795</td>\n",
       "      <td>0.056338</td>\n",
       "      <td>0.014134</td>\n",
       "      <td>0.560206</td>\n",
       "      <td>0.346457</td>\n",
       "      <td>0.179641</td>\n",
       "      <td>0.357143</td>\n",
       "      <td>0.6</td>\n",
       "    </tr>\n",
       "    <tr>\n",
       "      <th>363</th>\n",
       "      <td>0.718182</td>\n",
       "      <td>0.280992</td>\n",
       "      <td>0.63</td>\n",
       "      <td>0.075342</td>\n",
       "      <td>0.098497</td>\n",
       "      <td>0.070423</td>\n",
       "      <td>0.031802</td>\n",
       "      <td>0.640969</td>\n",
       "      <td>0.196850</td>\n",
       "      <td>0.323353</td>\n",
       "      <td>0.321429</td>\n",
       "      <td>0.4</td>\n",
       "    </tr>\n",
       "    <tr>\n",
       "      <th>386</th>\n",
       "      <td>0.290909</td>\n",
       "      <td>0.347107</td>\n",
       "      <td>0.26</td>\n",
       "      <td>0.075342</td>\n",
       "      <td>0.126878</td>\n",
       "      <td>0.309859</td>\n",
       "      <td>0.148410</td>\n",
       "      <td>0.589574</td>\n",
       "      <td>0.527559</td>\n",
       "      <td>0.245509</td>\n",
       "      <td>0.142857</td>\n",
       "      <td>0.6</td>\n",
       "    </tr>\n",
       "    <tr>\n",
       "      <th>1008</th>\n",
       "      <td>0.390909</td>\n",
       "      <td>0.190083</td>\n",
       "      <td>0.40</td>\n",
       "      <td>0.184932</td>\n",
       "      <td>0.163606</td>\n",
       "      <td>0.154930</td>\n",
       "      <td>0.063604</td>\n",
       "      <td>0.397944</td>\n",
       "      <td>0.385827</td>\n",
       "      <td>0.221557</td>\n",
       "      <td>0.642857</td>\n",
       "      <td>0.8</td>\n",
       "    </tr>\n",
       "  </tbody>\n",
       "</table>\n",
       "<p>1119 rows × 12 columns</p>\n",
       "</div>"
      ],
      "text/plain": [
       "      fixed acidity  volatile acidity  citric acid  residual sugar  chlorides  \\\n",
       "1385       0.309091          0.570248         0.25        0.171233   0.106845   \n",
       "1504       0.263636          0.214876         0.57        0.095890   0.156928   \n",
       "1269       0.081818          0.305785         0.03        0.061644   0.053422   \n",
       "1457       0.272727          0.305785         0.33        0.068493   0.103506   \n",
       "671        0.327273          0.504132         0.21        0.054795   0.103506   \n",
       "...             ...               ...          ...             ...        ...   \n",
       "1043       0.445455          0.223140         0.41        0.547945   0.095159   \n",
       "1130       0.409091          0.396694         0.00        0.068493   0.076795   \n",
       "363        0.718182          0.280992         0.63        0.075342   0.098497   \n",
       "386        0.290909          0.347107         0.26        0.075342   0.126878   \n",
       "1008       0.390909          0.190083         0.40        0.184932   0.163606   \n",
       "\n",
       "      free sulfur dioxide  total sulfur dioxide   density        pH  \\\n",
       "1385             0.464789              0.279152  0.485316  0.354331   \n",
       "1504             0.056338              0.021201  0.439060  0.488189   \n",
       "1269             0.380282              0.286219  0.053598  0.598425   \n",
       "1457             0.366197              0.279152  0.513216  0.527559   \n",
       "671              0.056338              0.024735  0.494126  0.362205   \n",
       "...                   ...                   ...       ...       ...   \n",
       "1043             0.239437              0.116608  0.625551  0.433071   \n",
       "1130             0.056338              0.014134  0.560206  0.346457   \n",
       "363              0.070423              0.031802  0.640969  0.196850   \n",
       "386              0.309859              0.148410  0.589574  0.527559   \n",
       "1008             0.154930              0.063604  0.397944  0.385827   \n",
       "\n",
       "      sulphates   alcohol  quality  \n",
       "1385   0.053892  0.142857      0.4  \n",
       "1504   0.131737  0.535714      0.6  \n",
       "1269   0.293413  1.000000      1.0  \n",
       "1457   0.149701  0.107143      0.4  \n",
       "671    0.113772  0.196429      0.4  \n",
       "...         ...       ...      ...  \n",
       "1043   0.287425  0.446429      0.8  \n",
       "1130   0.179641  0.357143      0.6  \n",
       "363    0.323353  0.321429      0.4  \n",
       "386    0.245509  0.142857      0.6  \n",
       "1008   0.221557  0.642857      0.8  \n",
       "\n",
       "[1119 rows x 12 columns]"
      ]
     },
     "execution_count": 114,
     "metadata": {},
     "output_type": "execute_result"
    }
   ],
   "source": [
    "df_train = (df_train-min_) / (max_-min_)\n",
    "df_train"
   ]
  },
  {
   "cell_type": "code",
   "execution_count": 115,
   "id": "dd5357f2",
   "metadata": {
    "ExecuteTime": {
     "end_time": "2023-10-31T07:22:56.630382Z",
     "start_time": "2023-10-31T07:22:56.565420Z"
    }
   },
   "outputs": [
    {
     "data": {
      "text/html": [
       "<div>\n",
       "<style scoped>\n",
       "    .dataframe tbody tr th:only-of-type {\n",
       "        vertical-align: middle;\n",
       "    }\n",
       "\n",
       "    .dataframe tbody tr th {\n",
       "        vertical-align: top;\n",
       "    }\n",
       "\n",
       "    .dataframe thead th {\n",
       "        text-align: right;\n",
       "    }\n",
       "</style>\n",
       "<table border=\"1\" class=\"dataframe\">\n",
       "  <thead>\n",
       "    <tr style=\"text-align: right;\">\n",
       "      <th></th>\n",
       "      <th>fixed acidity</th>\n",
       "      <th>volatile acidity</th>\n",
       "      <th>citric acid</th>\n",
       "      <th>residual sugar</th>\n",
       "      <th>chlorides</th>\n",
       "      <th>free sulfur dioxide</th>\n",
       "      <th>total sulfur dioxide</th>\n",
       "      <th>density</th>\n",
       "      <th>pH</th>\n",
       "      <th>sulphates</th>\n",
       "      <th>alcohol</th>\n",
       "      <th>quality</th>\n",
       "    </tr>\n",
       "  </thead>\n",
       "  <tbody>\n",
       "    <tr>\n",
       "      <th>1</th>\n",
       "      <td>0.290909</td>\n",
       "      <td>0.628099</td>\n",
       "      <td>0.00</td>\n",
       "      <td>0.116438</td>\n",
       "      <td>0.143573</td>\n",
       "      <td>0.338028</td>\n",
       "      <td>0.215548</td>\n",
       "      <td>0.494126</td>\n",
       "      <td>0.362205</td>\n",
       "      <td>0.209581</td>\n",
       "      <td>0.250000</td>\n",
       "      <td>0.4</td>\n",
       "    </tr>\n",
       "    <tr>\n",
       "      <th>9</th>\n",
       "      <td>0.263636</td>\n",
       "      <td>0.314050</td>\n",
       "      <td>0.36</td>\n",
       "      <td>0.356164</td>\n",
       "      <td>0.098497</td>\n",
       "      <td>0.225352</td>\n",
       "      <td>0.339223</td>\n",
       "      <td>0.567548</td>\n",
       "      <td>0.480315</td>\n",
       "      <td>0.281437</td>\n",
       "      <td>0.375000</td>\n",
       "      <td>0.4</td>\n",
       "    </tr>\n",
       "    <tr>\n",
       "      <th>10</th>\n",
       "      <td>0.190909</td>\n",
       "      <td>0.380165</td>\n",
       "      <td>0.08</td>\n",
       "      <td>0.061644</td>\n",
       "      <td>0.141903</td>\n",
       "      <td>0.197183</td>\n",
       "      <td>0.208481</td>\n",
       "      <td>0.428047</td>\n",
       "      <td>0.425197</td>\n",
       "      <td>0.125749</td>\n",
       "      <td>0.142857</td>\n",
       "      <td>0.4</td>\n",
       "    </tr>\n",
       "    <tr>\n",
       "      <th>16</th>\n",
       "      <td>0.354545</td>\n",
       "      <td>0.132231</td>\n",
       "      <td>0.56</td>\n",
       "      <td>0.061644</td>\n",
       "      <td>0.133556</td>\n",
       "      <td>0.478873</td>\n",
       "      <td>0.342756</td>\n",
       "      <td>0.501468</td>\n",
       "      <td>0.440945</td>\n",
       "      <td>0.251497</td>\n",
       "      <td>0.375000</td>\n",
       "      <td>0.8</td>\n",
       "    </tr>\n",
       "    <tr>\n",
       "      <th>17</th>\n",
       "      <td>0.318182</td>\n",
       "      <td>0.363636</td>\n",
       "      <td>0.28</td>\n",
       "      <td>0.054795</td>\n",
       "      <td>0.594324</td>\n",
       "      <td>0.211268</td>\n",
       "      <td>0.176678</td>\n",
       "      <td>0.494126</td>\n",
       "      <td>0.291339</td>\n",
       "      <td>0.568862</td>\n",
       "      <td>0.160714</td>\n",
       "      <td>0.4</td>\n",
       "    </tr>\n",
       "    <tr>\n",
       "      <th>...</th>\n",
       "      <td>...</td>\n",
       "      <td>...</td>\n",
       "      <td>...</td>\n",
       "      <td>...</td>\n",
       "      <td>...</td>\n",
       "      <td>...</td>\n",
       "      <td>...</td>\n",
       "      <td>...</td>\n",
       "      <td>...</td>\n",
       "      <td>...</td>\n",
       "      <td>...</td>\n",
       "      <td>...</td>\n",
       "    </tr>\n",
       "    <tr>\n",
       "      <th>1581</th>\n",
       "      <td>0.145455</td>\n",
       "      <td>0.363636</td>\n",
       "      <td>0.09</td>\n",
       "      <td>0.054795</td>\n",
       "      <td>0.068447</td>\n",
       "      <td>0.323944</td>\n",
       "      <td>0.091873</td>\n",
       "      <td>0.290015</td>\n",
       "      <td>0.629921</td>\n",
       "      <td>0.161677</td>\n",
       "      <td>0.517857</td>\n",
       "      <td>0.4</td>\n",
       "    </tr>\n",
       "    <tr>\n",
       "      <th>1582</th>\n",
       "      <td>0.136364</td>\n",
       "      <td>0.491736</td>\n",
       "      <td>0.10</td>\n",
       "      <td>0.116438</td>\n",
       "      <td>0.068447</td>\n",
       "      <td>0.169014</td>\n",
       "      <td>0.074205</td>\n",
       "      <td>0.260646</td>\n",
       "      <td>0.653543</td>\n",
       "      <td>0.101796</td>\n",
       "      <td>0.625000</td>\n",
       "      <td>0.4</td>\n",
       "    </tr>\n",
       "    <tr>\n",
       "      <th>1587</th>\n",
       "      <td>0.109091</td>\n",
       "      <td>0.404959</td>\n",
       "      <td>0.11</td>\n",
       "      <td>0.061644</td>\n",
       "      <td>0.090150</td>\n",
       "      <td>0.239437</td>\n",
       "      <td>0.077739</td>\n",
       "      <td>0.349486</td>\n",
       "      <td>0.637795</td>\n",
       "      <td>0.197605</td>\n",
       "      <td>0.446429</td>\n",
       "      <td>0.6</td>\n",
       "    </tr>\n",
       "    <tr>\n",
       "      <th>1588</th>\n",
       "      <td>0.236364</td>\n",
       "      <td>0.446281</td>\n",
       "      <td>0.33</td>\n",
       "      <td>0.109589</td>\n",
       "      <td>0.093489</td>\n",
       "      <td>0.464789</td>\n",
       "      <td>0.339223</td>\n",
       "      <td>0.298825</td>\n",
       "      <td>0.417323</td>\n",
       "      <td>0.269461</td>\n",
       "      <td>0.785714</td>\n",
       "      <td>0.6</td>\n",
       "    </tr>\n",
       "    <tr>\n",
       "      <th>1591</th>\n",
       "      <td>0.072727</td>\n",
       "      <td>0.512397</td>\n",
       "      <td>0.09</td>\n",
       "      <td>0.054795</td>\n",
       "      <td>0.128548</td>\n",
       "      <td>0.211268</td>\n",
       "      <td>0.070671</td>\n",
       "      <td>0.290015</td>\n",
       "      <td>0.732283</td>\n",
       "      <td>0.137725</td>\n",
       "      <td>0.571429</td>\n",
       "      <td>0.6</td>\n",
       "    </tr>\n",
       "  </tbody>\n",
       "</table>\n",
       "<p>480 rows × 12 columns</p>\n",
       "</div>"
      ],
      "text/plain": [
       "      fixed acidity  volatile acidity  citric acid  residual sugar  chlorides  \\\n",
       "1          0.290909          0.628099         0.00        0.116438   0.143573   \n",
       "9          0.263636          0.314050         0.36        0.356164   0.098497   \n",
       "10         0.190909          0.380165         0.08        0.061644   0.141903   \n",
       "16         0.354545          0.132231         0.56        0.061644   0.133556   \n",
       "17         0.318182          0.363636         0.28        0.054795   0.594324   \n",
       "...             ...               ...          ...             ...        ...   \n",
       "1581       0.145455          0.363636         0.09        0.054795   0.068447   \n",
       "1582       0.136364          0.491736         0.10        0.116438   0.068447   \n",
       "1587       0.109091          0.404959         0.11        0.061644   0.090150   \n",
       "1588       0.236364          0.446281         0.33        0.109589   0.093489   \n",
       "1591       0.072727          0.512397         0.09        0.054795   0.128548   \n",
       "\n",
       "      free sulfur dioxide  total sulfur dioxide   density        pH  \\\n",
       "1                0.338028              0.215548  0.494126  0.362205   \n",
       "9                0.225352              0.339223  0.567548  0.480315   \n",
       "10               0.197183              0.208481  0.428047  0.425197   \n",
       "16               0.478873              0.342756  0.501468  0.440945   \n",
       "17               0.211268              0.176678  0.494126  0.291339   \n",
       "...                   ...                   ...       ...       ...   \n",
       "1581             0.323944              0.091873  0.290015  0.629921   \n",
       "1582             0.169014              0.074205  0.260646  0.653543   \n",
       "1587             0.239437              0.077739  0.349486  0.637795   \n",
       "1588             0.464789              0.339223  0.298825  0.417323   \n",
       "1591             0.211268              0.070671  0.290015  0.732283   \n",
       "\n",
       "      sulphates   alcohol  quality  \n",
       "1      0.209581  0.250000      0.4  \n",
       "9      0.281437  0.375000      0.4  \n",
       "10     0.125749  0.142857      0.4  \n",
       "16     0.251497  0.375000      0.8  \n",
       "17     0.568862  0.160714      0.4  \n",
       "...         ...       ...      ...  \n",
       "1581   0.161677  0.517857      0.4  \n",
       "1582   0.101796  0.625000      0.4  \n",
       "1587   0.197605  0.446429      0.6  \n",
       "1588   0.269461  0.785714      0.6  \n",
       "1591   0.137725  0.571429      0.6  \n",
       "\n",
       "[480 rows x 12 columns]"
      ]
     },
     "execution_count": 115,
     "metadata": {},
     "output_type": "execute_result"
    }
   ],
   "source": [
    "df_test = (df_test-min_) / (max_-min_)\n",
    "df_test"
   ]
  },
  {
   "cell_type": "code",
   "execution_count": 116,
   "id": "6cdceb9f",
   "metadata": {
    "ExecuteTime": {
     "end_time": "2023-10-31T07:22:56.677897Z",
     "start_time": "2023-10-31T07:22:56.631377Z"
    }
   },
   "outputs": [],
   "source": [
    "df_train=df_train.drop('quality', axis=1)\n",
    "df_test=df_test.drop('quality', axis=1)"
   ]
  },
  {
   "cell_type": "code",
   "execution_count": 117,
   "id": "91ea31e0",
   "metadata": {
    "ExecuteTime": {
     "end_time": "2023-10-31T07:22:56.734980Z",
     "start_time": "2023-10-31T07:22:56.678883Z"
    }
   },
   "outputs": [],
   "source": [
    "y_train =red_wine['quality'][df_train.index]\n",
    "y_test =red_wine['quality'].drop(df_train.index)"
   ]
  },
  {
   "cell_type": "code",
   "execution_count": 118,
   "id": "5d8190e6",
   "metadata": {
    "ExecuteTime": {
     "end_time": "2023-10-31T07:22:56.788825Z",
     "start_time": "2023-10-31T07:22:56.738898Z"
    }
   },
   "outputs": [],
   "source": [
    "from sklearn.preprocessing import OneHotEncoder"
   ]
  },
  {
   "cell_type": "code",
   "execution_count": 119,
   "id": "b2c69f9a",
   "metadata": {
    "ExecuteTime": {
     "end_time": "2023-10-31T07:22:56.844829Z",
     "start_time": "2023-10-31T07:22:56.789846Z"
    }
   },
   "outputs": [],
   "source": [
    "ohe=OneHotEncoder()"
   ]
  },
  {
   "cell_type": "code",
   "execution_count": 120,
   "id": "a2580df9",
   "metadata": {
    "ExecuteTime": {
     "end_time": "2023-10-31T07:22:56.947631Z",
     "start_time": "2023-10-31T07:22:56.845781Z"
    }
   },
   "outputs": [],
   "source": [
    "y_test_ohe=ohe.fit_transform([y_test])"
   ]
  },
  {
   "cell_type": "code",
   "execution_count": 121,
   "id": "01204b13",
   "metadata": {
    "ExecuteTime": {
     "end_time": "2023-10-31T07:22:56.963003Z",
     "start_time": "2023-10-31T07:22:56.949505Z"
    }
   },
   "outputs": [
    {
     "data": {
      "text/plain": [
       "<1x480 sparse matrix of type '<class 'numpy.float64'>'\n",
       "\twith 480 stored elements in Compressed Sparse Row format>"
      ]
     },
     "execution_count": 121,
     "metadata": {},
     "output_type": "execute_result"
    }
   ],
   "source": [
    "y_test_ohe"
   ]
  },
  {
   "cell_type": "code",
   "execution_count": 123,
   "id": "2a30e33d",
   "metadata": {
    "ExecuteTime": {
     "end_time": "2023-10-31T07:23:10.500583Z",
     "start_time": "2023-10-31T07:23:10.490747Z"
    }
   },
   "outputs": [
    {
     "data": {
      "text/html": [
       "<div>\n",
       "<style scoped>\n",
       "    .dataframe tbody tr th:only-of-type {\n",
       "        vertical-align: middle;\n",
       "    }\n",
       "\n",
       "    .dataframe tbody tr th {\n",
       "        vertical-align: top;\n",
       "    }\n",
       "\n",
       "    .dataframe thead th {\n",
       "        text-align: right;\n",
       "    }\n",
       "</style>\n",
       "<table border=\"1\" class=\"dataframe\">\n",
       "  <thead>\n",
       "    <tr style=\"text-align: right;\">\n",
       "      <th></th>\n",
       "      <th>3</th>\n",
       "      <th>4</th>\n",
       "      <th>5</th>\n",
       "      <th>6</th>\n",
       "      <th>7</th>\n",
       "      <th>8</th>\n",
       "    </tr>\n",
       "  </thead>\n",
       "  <tbody>\n",
       "    <tr>\n",
       "      <th>0</th>\n",
       "      <td>0</td>\n",
       "      <td>0</td>\n",
       "      <td>1</td>\n",
       "      <td>0</td>\n",
       "      <td>0</td>\n",
       "      <td>0</td>\n",
       "    </tr>\n",
       "    <tr>\n",
       "      <th>1</th>\n",
       "      <td>0</td>\n",
       "      <td>0</td>\n",
       "      <td>1</td>\n",
       "      <td>0</td>\n",
       "      <td>0</td>\n",
       "      <td>0</td>\n",
       "    </tr>\n",
       "    <tr>\n",
       "      <th>2</th>\n",
       "      <td>0</td>\n",
       "      <td>0</td>\n",
       "      <td>1</td>\n",
       "      <td>0</td>\n",
       "      <td>0</td>\n",
       "      <td>0</td>\n",
       "    </tr>\n",
       "    <tr>\n",
       "      <th>3</th>\n",
       "      <td>0</td>\n",
       "      <td>0</td>\n",
       "      <td>0</td>\n",
       "      <td>1</td>\n",
       "      <td>0</td>\n",
       "      <td>0</td>\n",
       "    </tr>\n",
       "    <tr>\n",
       "      <th>4</th>\n",
       "      <td>0</td>\n",
       "      <td>0</td>\n",
       "      <td>1</td>\n",
       "      <td>0</td>\n",
       "      <td>0</td>\n",
       "      <td>0</td>\n",
       "    </tr>\n",
       "    <tr>\n",
       "      <th>...</th>\n",
       "      <td>...</td>\n",
       "      <td>...</td>\n",
       "      <td>...</td>\n",
       "      <td>...</td>\n",
       "      <td>...</td>\n",
       "      <td>...</td>\n",
       "    </tr>\n",
       "    <tr>\n",
       "      <th>1594</th>\n",
       "      <td>0</td>\n",
       "      <td>0</td>\n",
       "      <td>1</td>\n",
       "      <td>0</td>\n",
       "      <td>0</td>\n",
       "      <td>0</td>\n",
       "    </tr>\n",
       "    <tr>\n",
       "      <th>1595</th>\n",
       "      <td>0</td>\n",
       "      <td>0</td>\n",
       "      <td>0</td>\n",
       "      <td>1</td>\n",
       "      <td>0</td>\n",
       "      <td>0</td>\n",
       "    </tr>\n",
       "    <tr>\n",
       "      <th>1596</th>\n",
       "      <td>0</td>\n",
       "      <td>0</td>\n",
       "      <td>0</td>\n",
       "      <td>1</td>\n",
       "      <td>0</td>\n",
       "      <td>0</td>\n",
       "    </tr>\n",
       "    <tr>\n",
       "      <th>1597</th>\n",
       "      <td>0</td>\n",
       "      <td>0</td>\n",
       "      <td>1</td>\n",
       "      <td>0</td>\n",
       "      <td>0</td>\n",
       "      <td>0</td>\n",
       "    </tr>\n",
       "    <tr>\n",
       "      <th>1598</th>\n",
       "      <td>0</td>\n",
       "      <td>0</td>\n",
       "      <td>0</td>\n",
       "      <td>1</td>\n",
       "      <td>0</td>\n",
       "      <td>0</td>\n",
       "    </tr>\n",
       "  </tbody>\n",
       "</table>\n",
       "<p>1599 rows × 6 columns</p>\n",
       "</div>"
      ],
      "text/plain": [
       "      3  4  5  6  7  8\n",
       "0     0  0  1  0  0  0\n",
       "1     0  0  1  0  0  0\n",
       "2     0  0  1  0  0  0\n",
       "3     0  0  0  1  0  0\n",
       "4     0  0  1  0  0  0\n",
       "...  .. .. .. .. .. ..\n",
       "1594  0  0  1  0  0  0\n",
       "1595  0  0  0  1  0  0\n",
       "1596  0  0  0  1  0  0\n",
       "1597  0  0  1  0  0  0\n",
       "1598  0  0  0  1  0  0\n",
       "\n",
       "[1599 rows x 6 columns]"
      ]
     },
     "execution_count": 123,
     "metadata": {},
     "output_type": "execute_result"
    }
   ],
   "source": [
    "pd.get_dummies(red_wine['quality'])"
   ]
  },
  {
   "cell_type": "code",
   "execution_count": null,
   "id": "df465d7c",
   "metadata": {
    "ExecuteTime": {
     "end_time": "2023-10-31T07:22:58.347741Z",
     "start_time": "2023-10-31T07:22:58.347741Z"
    }
   },
   "outputs": [],
   "source": [
    "y_test"
   ]
  },
  {
   "cell_type": "code",
   "execution_count": null,
   "id": "1bbaa99a",
   "metadata": {
    "ExecuteTime": {
     "end_time": "2023-10-31T07:22:58.348739Z",
     "start_time": "2023-10-31T07:22:58.348739Z"
    }
   },
   "outputs": [],
   "source": [
    "y_train"
   ]
  },
  {
   "cell_type": "code",
   "execution_count": null,
   "id": "dc8dad63",
   "metadata": {
    "ExecuteTime": {
     "end_time": "2023-10-31T07:22:58.349736Z",
     "start_time": "2023-10-31T07:22:58.349736Z"
    }
   },
   "outputs": [],
   "source": [
    "#품질 : 0~10 까지 부여\n",
    "#범주형 : 원핫인코딩"
   ]
  },
  {
   "cell_type": "code",
   "execution_count": null,
   "id": "fdce97d4",
   "metadata": {
    "ExecuteTime": {
     "end_time": "2023-10-31T07:22:58.350734Z",
     "start_time": "2023-10-31T07:22:58.350734Z"
    }
   },
   "outputs": [],
   "source": [
    "model=keras.Sequential([\n",
    "    layers.Dense(512, activation='relu', input_shape=[11]),\n",
    "    layers.Dense(512, activation='relu'),\n",
    "    layers.Dense(512, activation='relu'),\n",
    "    layers.Dense(6, activation='softmax')\n",
    "    #layers.Dense(1)    \n",
    "])"
   ]
  },
  {
   "cell_type": "code",
   "execution_count": null,
   "id": "72d67d29",
   "metadata": {
    "ExecuteTime": {
     "end_time": "2023-10-31T07:22:58.350734Z",
     "start_time": "2023-10-31T07:22:58.350734Z"
    }
   },
   "outputs": [],
   "source": [
    "model.compile(\n",
    "    optimizer='adam',\n",
    "    loss='mae',\n",
    ")"
   ]
  },
  {
   "cell_type": "code",
   "execution_count": null,
   "id": "2a371364",
   "metadata": {
    "ExecuteTime": {
     "end_time": "2023-10-31T07:22:58.352727Z",
     "start_time": "2023-10-31T07:22:58.352727Z"
    }
   },
   "outputs": [],
   "source": [
    "1119/32"
   ]
  },
  {
   "cell_type": "code",
   "execution_count": null,
   "id": "02f40fe5",
   "metadata": {
    "ExecuteTime": {
     "end_time": "2023-10-31T07:22:58.354751Z",
     "start_time": "2023-10-31T07:22:58.354751Z"
    }
   },
   "outputs": [],
   "source": [
    "model.fit( #batch_size=32\n",
    "df_train, y_train, epochs=10\n",
    ")"
   ]
  },
  {
   "cell_type": "code",
   "execution_count": null,
   "id": "362de4ad",
   "metadata": {
    "ExecuteTime": {
     "end_time": "2023-10-31T07:22:58.354751Z",
     "start_time": "2023-10-31T07:22:58.354751Z"
    }
   },
   "outputs": [],
   "source": [
    "model.predict(df_test)"
   ]
  },
  {
   "cell_type": "code",
   "execution_count": null,
   "id": "70e5c1f5",
   "metadata": {
    "ExecuteTime": {
     "end_time": "2023-10-31T07:22:58.355720Z",
     "start_time": "2023-10-31T07:22:58.355720Z"
    }
   },
   "outputs": [],
   "source": [
    "y_test"
   ]
  },
  {
   "cell_type": "code",
   "execution_count": 126,
   "id": "20c319bc",
   "metadata": {
    "ExecuteTime": {
     "end_time": "2023-10-31T07:28:17.921849Z",
     "start_time": "2023-10-31T07:28:17.897550Z"
    }
   },
   "outputs": [
    {
     "data": {
      "text/html": [
       "<div>\n",
       "<style scoped>\n",
       "    .dataframe tbody tr th:only-of-type {\n",
       "        vertical-align: middle;\n",
       "    }\n",
       "\n",
       "    .dataframe tbody tr th {\n",
       "        vertical-align: top;\n",
       "    }\n",
       "\n",
       "    .dataframe thead th {\n",
       "        text-align: right;\n",
       "    }\n",
       "</style>\n",
       "<table border=\"1\" class=\"dataframe\">\n",
       "  <thead>\n",
       "    <tr style=\"text-align: right;\">\n",
       "      <th></th>\n",
       "      <th>Pregnancies</th>\n",
       "      <th>Glucose</th>\n",
       "      <th>BloodPressure</th>\n",
       "      <th>SkinThickness</th>\n",
       "      <th>Insulin</th>\n",
       "      <th>BMI</th>\n",
       "      <th>DiabetesPedigreeFunction</th>\n",
       "      <th>Age</th>\n",
       "      <th>Outcome</th>\n",
       "    </tr>\n",
       "  </thead>\n",
       "  <tbody>\n",
       "    <tr>\n",
       "      <th>0</th>\n",
       "      <td>6</td>\n",
       "      <td>148</td>\n",
       "      <td>72</td>\n",
       "      <td>35</td>\n",
       "      <td>0</td>\n",
       "      <td>33.6</td>\n",
       "      <td>0.627</td>\n",
       "      <td>50</td>\n",
       "      <td>1</td>\n",
       "    </tr>\n",
       "    <tr>\n",
       "      <th>1</th>\n",
       "      <td>1</td>\n",
       "      <td>85</td>\n",
       "      <td>66</td>\n",
       "      <td>29</td>\n",
       "      <td>0</td>\n",
       "      <td>26.6</td>\n",
       "      <td>0.351</td>\n",
       "      <td>31</td>\n",
       "      <td>0</td>\n",
       "    </tr>\n",
       "    <tr>\n",
       "      <th>2</th>\n",
       "      <td>8</td>\n",
       "      <td>183</td>\n",
       "      <td>64</td>\n",
       "      <td>0</td>\n",
       "      <td>0</td>\n",
       "      <td>23.3</td>\n",
       "      <td>0.672</td>\n",
       "      <td>32</td>\n",
       "      <td>1</td>\n",
       "    </tr>\n",
       "    <tr>\n",
       "      <th>3</th>\n",
       "      <td>1</td>\n",
       "      <td>89</td>\n",
       "      <td>66</td>\n",
       "      <td>23</td>\n",
       "      <td>94</td>\n",
       "      <td>28.1</td>\n",
       "      <td>0.167</td>\n",
       "      <td>21</td>\n",
       "      <td>0</td>\n",
       "    </tr>\n",
       "    <tr>\n",
       "      <th>4</th>\n",
       "      <td>0</td>\n",
       "      <td>137</td>\n",
       "      <td>40</td>\n",
       "      <td>35</td>\n",
       "      <td>168</td>\n",
       "      <td>43.1</td>\n",
       "      <td>2.288</td>\n",
       "      <td>33</td>\n",
       "      <td>1</td>\n",
       "    </tr>\n",
       "    <tr>\n",
       "      <th>...</th>\n",
       "      <td>...</td>\n",
       "      <td>...</td>\n",
       "      <td>...</td>\n",
       "      <td>...</td>\n",
       "      <td>...</td>\n",
       "      <td>...</td>\n",
       "      <td>...</td>\n",
       "      <td>...</td>\n",
       "      <td>...</td>\n",
       "    </tr>\n",
       "    <tr>\n",
       "      <th>763</th>\n",
       "      <td>10</td>\n",
       "      <td>101</td>\n",
       "      <td>76</td>\n",
       "      <td>48</td>\n",
       "      <td>180</td>\n",
       "      <td>32.9</td>\n",
       "      <td>0.171</td>\n",
       "      <td>63</td>\n",
       "      <td>0</td>\n",
       "    </tr>\n",
       "    <tr>\n",
       "      <th>764</th>\n",
       "      <td>2</td>\n",
       "      <td>122</td>\n",
       "      <td>70</td>\n",
       "      <td>27</td>\n",
       "      <td>0</td>\n",
       "      <td>36.8</td>\n",
       "      <td>0.340</td>\n",
       "      <td>27</td>\n",
       "      <td>0</td>\n",
       "    </tr>\n",
       "    <tr>\n",
       "      <th>765</th>\n",
       "      <td>5</td>\n",
       "      <td>121</td>\n",
       "      <td>72</td>\n",
       "      <td>23</td>\n",
       "      <td>112</td>\n",
       "      <td>26.2</td>\n",
       "      <td>0.245</td>\n",
       "      <td>30</td>\n",
       "      <td>0</td>\n",
       "    </tr>\n",
       "    <tr>\n",
       "      <th>766</th>\n",
       "      <td>1</td>\n",
       "      <td>126</td>\n",
       "      <td>60</td>\n",
       "      <td>0</td>\n",
       "      <td>0</td>\n",
       "      <td>30.1</td>\n",
       "      <td>0.349</td>\n",
       "      <td>47</td>\n",
       "      <td>1</td>\n",
       "    </tr>\n",
       "    <tr>\n",
       "      <th>767</th>\n",
       "      <td>1</td>\n",
       "      <td>93</td>\n",
       "      <td>70</td>\n",
       "      <td>31</td>\n",
       "      <td>0</td>\n",
       "      <td>30.4</td>\n",
       "      <td>0.315</td>\n",
       "      <td>23</td>\n",
       "      <td>0</td>\n",
       "    </tr>\n",
       "  </tbody>\n",
       "</table>\n",
       "<p>768 rows × 9 columns</p>\n",
       "</div>"
      ],
      "text/plain": [
       "     Pregnancies  Glucose  BloodPressure  SkinThickness  Insulin   BMI  \\\n",
       "0              6      148             72             35        0  33.6   \n",
       "1              1       85             66             29        0  26.6   \n",
       "2              8      183             64              0        0  23.3   \n",
       "3              1       89             66             23       94  28.1   \n",
       "4              0      137             40             35      168  43.1   \n",
       "..           ...      ...            ...            ...      ...   ...   \n",
       "763           10      101             76             48      180  32.9   \n",
       "764            2      122             70             27        0  36.8   \n",
       "765            5      121             72             23      112  26.2   \n",
       "766            1      126             60              0        0  30.1   \n",
       "767            1       93             70             31        0  30.4   \n",
       "\n",
       "     DiabetesPedigreeFunction  Age  Outcome  \n",
       "0                       0.627   50        1  \n",
       "1                       0.351   31        0  \n",
       "2                       0.672   32        1  \n",
       "3                       0.167   21        0  \n",
       "4                       2.288   33        1  \n",
       "..                        ...  ...      ...  \n",
       "763                     0.171   63        0  \n",
       "764                     0.340   27        0  \n",
       "765                     0.245   30        0  \n",
       "766                     0.349   47        1  \n",
       "767                     0.315   23        0  \n",
       "\n",
       "[768 rows x 9 columns]"
      ]
     },
     "execution_count": 126,
     "metadata": {},
     "output_type": "execute_result"
    }
   ],
   "source": [
    "df=pd.read_csv('diabetes.csv')\n",
    "df"
   ]
  },
  {
   "cell_type": "code",
   "execution_count": null,
   "id": "d83b4bdc",
   "metadata": {},
   "outputs": [],
   "source": [
    "#outcome이 0, 1 이므로 sigmoid 함수 사용하면 됨"
   ]
  },
  {
   "cell_type": "code",
   "execution_count": 130,
   "id": "bacc77f4",
   "metadata": {
    "ExecuteTime": {
     "end_time": "2023-10-31T07:30:34.495476Z",
     "start_time": "2023-10-31T07:30:34.489832Z"
    }
   },
   "outputs": [],
   "source": [
    "from tensorflow.keras.models import Sequential\n",
    "from tensorflow.keras.layers import Dense"
   ]
  },
  {
   "cell_type": "code",
   "execution_count": 128,
   "id": "594fde3e",
   "metadata": {
    "ExecuteTime": {
     "end_time": "2023-10-31T07:29:43.661938Z",
     "start_time": "2023-10-31T07:29:43.657862Z"
    }
   },
   "outputs": [],
   "source": [
    "x=df.iloc[:,0:8]\n",
    "y=df.iloc[:,8]"
   ]
  },
  {
   "cell_type": "code",
   "execution_count": 131,
   "id": "bd6f069a",
   "metadata": {
    "ExecuteTime": {
     "end_time": "2023-10-31T07:30:35.854595Z",
     "start_time": "2023-10-31T07:30:35.849166Z"
    }
   },
   "outputs": [],
   "source": [
    "model=Sequential()"
   ]
  },
  {
   "cell_type": "code",
   "execution_count": 132,
   "id": "1d2d4fa2",
   "metadata": {
    "ExecuteTime": {
     "end_time": "2023-10-31T07:31:48.845910Z",
     "start_time": "2023-10-31T07:31:48.809560Z"
    }
   },
   "outputs": [],
   "source": [
    "model.add(Dense(12, input_dim=8, activation='relu'))\n",
    "model.add(Dense(8, activation='relu'))\n",
    "model.add(Dense(1, activation='sigmoid'))"
   ]
  },
  {
   "cell_type": "code",
   "execution_count": 133,
   "id": "a0b072fd",
   "metadata": {
    "ExecuteTime": {
     "end_time": "2023-10-31T07:32:05.628414Z",
     "start_time": "2023-10-31T07:32:05.616928Z"
    }
   },
   "outputs": [
    {
     "name": "stdout",
     "output_type": "stream",
     "text": [
      "Model: \"sequential_10\"\n",
      "_________________________________________________________________\n",
      " Layer (type)                Output Shape              Param #   \n",
      "=================================================================\n",
      " dense_26 (Dense)            (None, 12)                108       \n",
      "                                                                 \n",
      " dense_27 (Dense)            (None, 8)                 104       \n",
      "                                                                 \n",
      " dense_28 (Dense)            (None, 1)                 9         \n",
      "                                                                 \n",
      "=================================================================\n",
      "Total params: 221 (884.00 Byte)\n",
      "Trainable params: 221 (884.00 Byte)\n",
      "Non-trainable params: 0 (0.00 Byte)\n",
      "_________________________________________________________________\n"
     ]
    }
   ],
   "source": [
    "model.summary()"
   ]
  },
  {
   "cell_type": "code",
   "execution_count": 135,
   "id": "12b21693",
   "metadata": {
    "ExecuteTime": {
     "end_time": "2023-10-31T07:33:26.602793Z",
     "start_time": "2023-10-31T07:33:26.593933Z"
    }
   },
   "outputs": [],
   "source": [
    "model.compile(optimizer='adam', loss='binary_crossentropy', metrics=['accuracy']) #이진 loss"
   ]
  },
  {
   "cell_type": "code",
   "execution_count": 140,
   "id": "159c4773",
   "metadata": {
    "ExecuteTime": {
     "end_time": "2023-10-31T07:34:39.638405Z",
     "start_time": "2023-10-31T07:34:39.633411Z"
    }
   },
   "outputs": [
    {
     "data": {
      "text/plain": [
       "768"
      ]
     },
     "execution_count": 140,
     "metadata": {},
     "output_type": "execute_result"
    }
   ],
   "source": [
    "len(x)"
   ]
  },
  {
   "cell_type": "code",
   "execution_count": 141,
   "id": "875c75bc",
   "metadata": {
    "ExecuteTime": {
     "end_time": "2023-10-31T07:34:50.085175Z",
     "start_time": "2023-10-31T07:34:50.081129Z"
    }
   },
   "outputs": [
    {
     "data": {
      "text/plain": [
       "153.6"
      ]
     },
     "execution_count": 141,
     "metadata": {},
     "output_type": "execute_result"
    }
   ],
   "source": [
    "768/5"
   ]
  },
  {
   "cell_type": "code",
   "execution_count": 137,
   "id": "a3cbd1f1",
   "metadata": {
    "ExecuteTime": {
     "end_time": "2023-10-31T07:33:54.329843Z",
     "start_time": "2023-10-31T07:33:52.144654Z"
    }
   },
   "outputs": [
    {
     "name": "stdout",
     "output_type": "stream",
     "text": [
      "Epoch 1/10\n",
      "154/154 [==============================] - 1s 1ms/step - loss: 1.3861 - accuracy: 0.5547\n",
      "Epoch 2/10\n",
      "154/154 [==============================] - 0s 972us/step - loss: 0.6772 - accuracy: 0.6458\n",
      "Epoch 3/10\n",
      "154/154 [==============================] - 0s 958us/step - loss: 0.6621 - accuracy: 0.6497\n",
      "Epoch 4/10\n",
      "154/154 [==============================] - 0s 1ms/step - loss: 0.6539 - accuracy: 0.6523\n",
      "Epoch 5/10\n",
      "154/154 [==============================] - 0s 1ms/step - loss: 0.6514 - accuracy: 0.6510\n",
      "Epoch 6/10\n",
      "154/154 [==============================] - 0s 1ms/step - loss: 0.6460 - accuracy: 0.6510\n",
      "Epoch 7/10\n",
      "154/154 [==============================] - 0s 1ms/step - loss: 0.6425 - accuracy: 0.6523\n",
      "Epoch 8/10\n",
      "154/154 [==============================] - 0s 1ms/step - loss: 0.6409 - accuracy: 0.6523\n",
      "Epoch 9/10\n",
      "154/154 [==============================] - 0s 1ms/step - loss: 0.6399 - accuracy: 0.6523\n",
      "Epoch 10/10\n",
      "154/154 [==============================] - 0s 1ms/step - loss: 0.6393 - accuracy: 0.6523\n"
     ]
    },
    {
     "data": {
      "text/plain": [
       "<keras.src.callbacks.History at 0x2bb5c77bb90>"
      ]
     },
     "execution_count": 137,
     "metadata": {},
     "output_type": "execute_result"
    }
   ],
   "source": [
    "model.fit(x, y, epochs=10, batch_size=5)"
   ]
  },
  {
   "cell_type": "code",
   "execution_count": 144,
   "id": "c2757686",
   "metadata": {
    "ExecuteTime": {
     "end_time": "2023-10-31T07:37:01.711228Z",
     "start_time": "2023-10-31T07:37:01.697053Z"
    }
   },
   "outputs": [
    {
     "data": {
      "text/html": [
       "<div>\n",
       "<style scoped>\n",
       "    .dataframe tbody tr th:only-of-type {\n",
       "        vertical-align: middle;\n",
       "    }\n",
       "\n",
       "    .dataframe tbody tr th {\n",
       "        vertical-align: top;\n",
       "    }\n",
       "\n",
       "    .dataframe thead th {\n",
       "        text-align: right;\n",
       "    }\n",
       "</style>\n",
       "<table border=\"1\" class=\"dataframe\">\n",
       "  <thead>\n",
       "    <tr style=\"text-align: right;\">\n",
       "      <th></th>\n",
       "      <th>sepal_length</th>\n",
       "      <th>sepal_width</th>\n",
       "      <th>petal_length</th>\n",
       "      <th>petal_width</th>\n",
       "      <th>species</th>\n",
       "    </tr>\n",
       "  </thead>\n",
       "  <tbody>\n",
       "    <tr>\n",
       "      <th>0</th>\n",
       "      <td>5.1</td>\n",
       "      <td>3.5</td>\n",
       "      <td>1.4</td>\n",
       "      <td>0.2</td>\n",
       "      <td>Iris-setosa</td>\n",
       "    </tr>\n",
       "    <tr>\n",
       "      <th>1</th>\n",
       "      <td>4.9</td>\n",
       "      <td>3.0</td>\n",
       "      <td>1.4</td>\n",
       "      <td>0.2</td>\n",
       "      <td>Iris-setosa</td>\n",
       "    </tr>\n",
       "    <tr>\n",
       "      <th>2</th>\n",
       "      <td>4.7</td>\n",
       "      <td>3.2</td>\n",
       "      <td>1.3</td>\n",
       "      <td>0.2</td>\n",
       "      <td>Iris-setosa</td>\n",
       "    </tr>\n",
       "    <tr>\n",
       "      <th>3</th>\n",
       "      <td>4.6</td>\n",
       "      <td>3.1</td>\n",
       "      <td>1.5</td>\n",
       "      <td>0.2</td>\n",
       "      <td>Iris-setosa</td>\n",
       "    </tr>\n",
       "    <tr>\n",
       "      <th>4</th>\n",
       "      <td>5.0</td>\n",
       "      <td>3.6</td>\n",
       "      <td>1.4</td>\n",
       "      <td>0.2</td>\n",
       "      <td>Iris-setosa</td>\n",
       "    </tr>\n",
       "    <tr>\n",
       "      <th>...</th>\n",
       "      <td>...</td>\n",
       "      <td>...</td>\n",
       "      <td>...</td>\n",
       "      <td>...</td>\n",
       "      <td>...</td>\n",
       "    </tr>\n",
       "    <tr>\n",
       "      <th>145</th>\n",
       "      <td>6.7</td>\n",
       "      <td>3.0</td>\n",
       "      <td>5.2</td>\n",
       "      <td>2.3</td>\n",
       "      <td>Iris-virginica</td>\n",
       "    </tr>\n",
       "    <tr>\n",
       "      <th>146</th>\n",
       "      <td>6.3</td>\n",
       "      <td>2.5</td>\n",
       "      <td>5.0</td>\n",
       "      <td>1.9</td>\n",
       "      <td>Iris-virginica</td>\n",
       "    </tr>\n",
       "    <tr>\n",
       "      <th>147</th>\n",
       "      <td>6.5</td>\n",
       "      <td>3.0</td>\n",
       "      <td>5.2</td>\n",
       "      <td>2.0</td>\n",
       "      <td>Iris-virginica</td>\n",
       "    </tr>\n",
       "    <tr>\n",
       "      <th>148</th>\n",
       "      <td>6.2</td>\n",
       "      <td>3.4</td>\n",
       "      <td>5.4</td>\n",
       "      <td>2.3</td>\n",
       "      <td>Iris-virginica</td>\n",
       "    </tr>\n",
       "    <tr>\n",
       "      <th>149</th>\n",
       "      <td>5.9</td>\n",
       "      <td>3.0</td>\n",
       "      <td>5.1</td>\n",
       "      <td>1.8</td>\n",
       "      <td>Iris-virginica</td>\n",
       "    </tr>\n",
       "  </tbody>\n",
       "</table>\n",
       "<p>150 rows × 5 columns</p>\n",
       "</div>"
      ],
      "text/plain": [
       "     sepal_length  sepal_width  petal_length  petal_width         species\n",
       "0             5.1          3.5           1.4          0.2     Iris-setosa\n",
       "1             4.9          3.0           1.4          0.2     Iris-setosa\n",
       "2             4.7          3.2           1.3          0.2     Iris-setosa\n",
       "3             4.6          3.1           1.5          0.2     Iris-setosa\n",
       "4             5.0          3.6           1.4          0.2     Iris-setosa\n",
       "..            ...          ...           ...          ...             ...\n",
       "145           6.7          3.0           5.2          2.3  Iris-virginica\n",
       "146           6.3          2.5           5.0          1.9  Iris-virginica\n",
       "147           6.5          3.0           5.2          2.0  Iris-virginica\n",
       "148           6.2          3.4           5.4          2.3  Iris-virginica\n",
       "149           5.9          3.0           5.1          1.8  Iris-virginica\n",
       "\n",
       "[150 rows x 5 columns]"
      ]
     },
     "execution_count": 144,
     "metadata": {},
     "output_type": "execute_result"
    }
   ],
   "source": [
    "df = pd.read_csv('iris3.csv')\n",
    "df"
   ]
  },
  {
   "cell_type": "code",
   "execution_count": null,
   "id": "f4b64df5",
   "metadata": {},
   "outputs": [],
   "source": [
    "#결과값 3개 다중분류 소프트맥스 함수 사용해야함"
   ]
  },
  {
   "cell_type": "code",
   "execution_count": 145,
   "id": "447dd427",
   "metadata": {
    "ExecuteTime": {
     "end_time": "2023-10-31T07:37:55.004764Z",
     "start_time": "2023-10-31T07:37:55.001028Z"
    }
   },
   "outputs": [],
   "source": [
    "X = df.iloc[:,0:4]\n",
    "y = df.iloc[:,4]"
   ]
  },
  {
   "cell_type": "code",
   "execution_count": null,
   "id": "ad1d45c5",
   "metadata": {},
   "outputs": [],
   "source": [
    "#y 범주형이라 원핫인코딩 무조건"
   ]
  },
  {
   "cell_type": "code",
   "execution_count": 146,
   "id": "f2b45f28",
   "metadata": {
    "ExecuteTime": {
     "end_time": "2023-10-31T07:38:30.548947Z",
     "start_time": "2023-10-31T07:38:30.545399Z"
    }
   },
   "outputs": [],
   "source": [
    "y = pd.get_dummies(y)"
   ]
  },
  {
   "cell_type": "code",
   "execution_count": 148,
   "id": "a54593ea",
   "metadata": {
    "ExecuteTime": {
     "end_time": "2023-10-31T07:38:40.760480Z",
     "start_time": "2023-10-31T07:38:40.753209Z"
    }
   },
   "outputs": [
    {
     "data": {
      "text/html": [
       "<div>\n",
       "<style scoped>\n",
       "    .dataframe tbody tr th:only-of-type {\n",
       "        vertical-align: middle;\n",
       "    }\n",
       "\n",
       "    .dataframe tbody tr th {\n",
       "        vertical-align: top;\n",
       "    }\n",
       "\n",
       "    .dataframe thead th {\n",
       "        text-align: right;\n",
       "    }\n",
       "</style>\n",
       "<table border=\"1\" class=\"dataframe\">\n",
       "  <thead>\n",
       "    <tr style=\"text-align: right;\">\n",
       "      <th></th>\n",
       "      <th>Iris-setosa</th>\n",
       "      <th>Iris-versicolor</th>\n",
       "      <th>Iris-virginica</th>\n",
       "    </tr>\n",
       "  </thead>\n",
       "  <tbody>\n",
       "    <tr>\n",
       "      <th>0</th>\n",
       "      <td>1</td>\n",
       "      <td>0</td>\n",
       "      <td>0</td>\n",
       "    </tr>\n",
       "    <tr>\n",
       "      <th>1</th>\n",
       "      <td>1</td>\n",
       "      <td>0</td>\n",
       "      <td>0</td>\n",
       "    </tr>\n",
       "    <tr>\n",
       "      <th>2</th>\n",
       "      <td>1</td>\n",
       "      <td>0</td>\n",
       "      <td>0</td>\n",
       "    </tr>\n",
       "    <tr>\n",
       "      <th>3</th>\n",
       "      <td>1</td>\n",
       "      <td>0</td>\n",
       "      <td>0</td>\n",
       "    </tr>\n",
       "    <tr>\n",
       "      <th>4</th>\n",
       "      <td>1</td>\n",
       "      <td>0</td>\n",
       "      <td>0</td>\n",
       "    </tr>\n",
       "    <tr>\n",
       "      <th>...</th>\n",
       "      <td>...</td>\n",
       "      <td>...</td>\n",
       "      <td>...</td>\n",
       "    </tr>\n",
       "    <tr>\n",
       "      <th>145</th>\n",
       "      <td>0</td>\n",
       "      <td>0</td>\n",
       "      <td>1</td>\n",
       "    </tr>\n",
       "    <tr>\n",
       "      <th>146</th>\n",
       "      <td>0</td>\n",
       "      <td>0</td>\n",
       "      <td>1</td>\n",
       "    </tr>\n",
       "    <tr>\n",
       "      <th>147</th>\n",
       "      <td>0</td>\n",
       "      <td>0</td>\n",
       "      <td>1</td>\n",
       "    </tr>\n",
       "    <tr>\n",
       "      <th>148</th>\n",
       "      <td>0</td>\n",
       "      <td>0</td>\n",
       "      <td>1</td>\n",
       "    </tr>\n",
       "    <tr>\n",
       "      <th>149</th>\n",
       "      <td>0</td>\n",
       "      <td>0</td>\n",
       "      <td>1</td>\n",
       "    </tr>\n",
       "  </tbody>\n",
       "</table>\n",
       "<p>150 rows × 3 columns</p>\n",
       "</div>"
      ],
      "text/plain": [
       "     Iris-setosa  Iris-versicolor  Iris-virginica\n",
       "0              1                0               0\n",
       "1              1                0               0\n",
       "2              1                0               0\n",
       "3              1                0               0\n",
       "4              1                0               0\n",
       "..           ...              ...             ...\n",
       "145            0                0               1\n",
       "146            0                0               1\n",
       "147            0                0               1\n",
       "148            0                0               1\n",
       "149            0                0               1\n",
       "\n",
       "[150 rows x 3 columns]"
      ]
     },
     "execution_count": 148,
     "metadata": {},
     "output_type": "execute_result"
    }
   ],
   "source": [
    "y"
   ]
  },
  {
   "cell_type": "code",
   "execution_count": 149,
   "id": "f3c82a85",
   "metadata": {
    "ExecuteTime": {
     "end_time": "2023-10-31T07:39:30.670968Z",
     "start_time": "2023-10-31T07:39:30.665603Z"
    }
   },
   "outputs": [],
   "source": [
    "model = Sequential()"
   ]
  },
  {
   "cell_type": "code",
   "execution_count": 150,
   "id": "c634d2cf",
   "metadata": {
    "ExecuteTime": {
     "end_time": "2023-10-31T07:41:19.978359Z",
     "start_time": "2023-10-31T07:41:19.937171Z"
    }
   },
   "outputs": [],
   "source": [
    "model.add(Dense(16,  input_dim=4, activation='relu'))\n",
    "model.add(Dense(8, activation='relu'))\n",
    "model.add(Dense(3, activation='softmax'))"
   ]
  },
  {
   "cell_type": "code",
   "execution_count": 152,
   "id": "27292632",
   "metadata": {
    "ExecuteTime": {
     "end_time": "2023-10-31T07:42:52.833903Z",
     "start_time": "2023-10-31T07:42:52.824592Z"
    }
   },
   "outputs": [],
   "source": [
    "model.compile(loss='categorical_crossentropy', optimizer='adam', metrics=['accuracy']) #다중 분류 loss"
   ]
  },
  {
   "cell_type": "code",
   "execution_count": 153,
   "id": "3860de79",
   "metadata": {
    "ExecuteTime": {
     "end_time": "2023-10-31T07:43:26.742444Z",
     "start_time": "2023-10-31T07:43:24.840971Z"
    },
    "scrolled": true
   },
   "outputs": [
    {
     "name": "stdout",
     "output_type": "stream",
     "text": [
      "Epoch 1/40\n",
      "30/30 [==============================] - 0s 1ms/step - loss: 1.1101 - accuracy: 0.3000 \n",
      "Epoch 2/40\n",
      "30/30 [==============================] - 0s 1ms/step - loss: 1.0611 - accuracy: 0.2667\n",
      "Epoch 3/40\n",
      "30/30 [==============================] - 0s 1ms/step - loss: 1.0314 - accuracy: 0.3133\n",
      "Epoch 4/40\n",
      "30/30 [==============================] - 0s 1ms/step - loss: 0.9858 - accuracy: 0.3133\n",
      "Epoch 5/40\n",
      "30/30 [==============================] - 0s 1ms/step - loss: 0.9344 - accuracy: 0.3733\n",
      "Epoch 6/40\n",
      "30/30 [==============================] - 0s 1ms/step - loss: 0.8767 - accuracy: 0.5467\n",
      "Epoch 7/40\n",
      "30/30 [==============================] - 0s 1ms/step - loss: 0.8146 - accuracy: 0.6333\n",
      "Epoch 8/40\n",
      "30/30 [==============================] - 0s 1ms/step - loss: 0.7513 - accuracy: 0.6000\n",
      "Epoch 9/40\n",
      "30/30 [==============================] - 0s 1ms/step - loss: 0.6942 - accuracy: 0.6667\n",
      "Epoch 10/40\n",
      "30/30 [==============================] - 0s 1ms/step - loss: 0.6438 - accuracy: 0.6667\n",
      "Epoch 11/40\n",
      "30/30 [==============================] - 0s 1ms/step - loss: 0.6026 - accuracy: 0.6667\n",
      "Epoch 12/40\n",
      "30/30 [==============================] - 0s 1ms/step - loss: 0.5696 - accuracy: 0.6667\n",
      "Epoch 13/40\n",
      "30/30 [==============================] - 0s 1ms/step - loss: 0.5451 - accuracy: 0.6667\n",
      "Epoch 14/40\n",
      "30/30 [==============================] - 0s 1ms/step - loss: 0.5260 - accuracy: 0.6667\n",
      "Epoch 15/40\n",
      "30/30 [==============================] - 0s 1ms/step - loss: 0.5114 - accuracy: 0.6667\n",
      "Epoch 16/40\n",
      "30/30 [==============================] - 0s 1ms/step - loss: 0.4994 - accuracy: 0.6667\n",
      "Epoch 17/40\n",
      "30/30 [==============================] - 0s 1ms/step - loss: 0.4902 - accuracy: 0.6667\n",
      "Epoch 18/40\n",
      "30/30 [==============================] - 0s 1ms/step - loss: 0.4809 - accuracy: 0.6733\n",
      "Epoch 19/40\n",
      "30/30 [==============================] - 0s 1ms/step - loss: 0.4759 - accuracy: 0.6667\n",
      "Epoch 20/40\n",
      "30/30 [==============================] - 0s 1ms/step - loss: 0.4666 - accuracy: 0.6733\n",
      "Epoch 21/40\n",
      "30/30 [==============================] - 0s 1ms/step - loss: 0.4591 - accuracy: 0.6867\n",
      "Epoch 22/40\n",
      "30/30 [==============================] - 0s 1ms/step - loss: 0.4564 - accuracy: 0.7800\n",
      "Epoch 23/40\n",
      "30/30 [==============================] - 0s 1ms/step - loss: 0.4508 - accuracy: 0.8200\n",
      "Epoch 24/40\n",
      "30/30 [==============================] - 0s 1ms/step - loss: 0.4398 - accuracy: 0.7133\n",
      "Epoch 25/40\n",
      "30/30 [==============================] - 0s 1ms/step - loss: 0.4296 - accuracy: 0.7667\n",
      "Epoch 26/40\n",
      "30/30 [==============================] - 0s 1ms/step - loss: 0.4248 - accuracy: 0.8733\n",
      "Epoch 27/40\n",
      "30/30 [==============================] - 0s 1ms/step - loss: 0.4156 - accuracy: 0.8867\n",
      "Epoch 28/40\n",
      "30/30 [==============================] - 0s 1ms/step - loss: 0.4090 - accuracy: 0.7933\n",
      "Epoch 29/40\n",
      "30/30 [==============================] - 0s 1ms/step - loss: 0.3958 - accuracy: 0.9600\n",
      "Epoch 30/40\n",
      "30/30 [==============================] - 0s 1ms/step - loss: 0.3865 - accuracy: 0.9467\n",
      "Epoch 31/40\n",
      "30/30 [==============================] - 0s 1ms/step - loss: 0.3738 - accuracy: 0.9000\n",
      "Epoch 32/40\n",
      "30/30 [==============================] - 0s 1ms/step - loss: 0.3627 - accuracy: 0.9667\n",
      "Epoch 33/40\n",
      "30/30 [==============================] - 0s 1ms/step - loss: 0.3517 - accuracy: 0.9600\n",
      "Epoch 34/40\n",
      "30/30 [==============================] - 0s 1ms/step - loss: 0.3387 - accuracy: 0.9667\n",
      "Epoch 35/40\n",
      "30/30 [==============================] - 0s 1ms/step - loss: 0.3267 - accuracy: 0.9667\n",
      "Epoch 36/40\n",
      "30/30 [==============================] - 0s 1ms/step - loss: 0.3161 - accuracy: 0.9667\n",
      "Epoch 37/40\n",
      "30/30 [==============================] - 0s 1ms/step - loss: 0.3014 - accuracy: 0.9600\n",
      "Epoch 38/40\n",
      "30/30 [==============================] - 0s 1ms/step - loss: 0.2919 - accuracy: 0.9533\n",
      "Epoch 39/40\n",
      "30/30 [==============================] - 0s 1ms/step - loss: 0.2770 - accuracy: 0.9600\n",
      "Epoch 40/40\n",
      "30/30 [==============================] - 0s 1ms/step - loss: 0.2663 - accuracy: 0.9667\n"
     ]
    },
    {
     "data": {
      "text/plain": [
       "<keras.src.callbacks.History at 0x2bb5c977d90>"
      ]
     },
     "execution_count": 153,
     "metadata": {},
     "output_type": "execute_result"
    }
   ],
   "source": [
    "model.fit(X, y, epochs=40, batch_size=5)"
   ]
  },
  {
   "cell_type": "code",
   "execution_count": null,
   "id": "61e6f695",
   "metadata": {},
   "outputs": [],
   "source": [
    "5.9\t3.0\t5.1\t1.8"
   ]
  },
  {
   "cell_type": "code",
   "execution_count": 155,
   "id": "57c46206",
   "metadata": {
    "ExecuteTime": {
     "end_time": "2023-10-31T07:45:54.251893Z",
     "start_time": "2023-10-31T07:45:54.249116Z"
    }
   },
   "outputs": [],
   "source": [
    "import numpy as np"
   ]
  },
  {
   "cell_type": "code",
   "execution_count": 157,
   "id": "e78dc8bc",
   "metadata": {
    "ExecuteTime": {
     "end_time": "2023-10-31T07:46:08.804920Z",
     "start_time": "2023-10-31T07:46:08.713259Z"
    }
   },
   "outputs": [
    {
     "name": "stdout",
     "output_type": "stream",
     "text": [
      "1/1 [==============================] - 0s 44ms/step\n"
     ]
    },
    {
     "data": {
      "text/plain": [
       "array([[0.00142555, 0.44669068, 0.55188376]], dtype=float32)"
      ]
     },
     "execution_count": 157,
     "metadata": {},
     "output_type": "execute_result"
    }
   ],
   "source": [
    "model.predict(np.array([[5.9, 3.0, 5.1, 1.8]]))"
   ]
  },
  {
   "cell_type": "code",
   "execution_count": 158,
   "id": "20743a2a",
   "metadata": {
    "ExecuteTime": {
     "end_time": "2023-10-31T07:47:19.901180Z",
     "start_time": "2023-10-31T07:47:19.896987Z"
    }
   },
   "outputs": [
    {
     "data": {
      "text/plain": [
       "2"
      ]
     },
     "execution_count": 158,
     "metadata": {},
     "output_type": "execute_result"
    }
   ],
   "source": [
    "np.argmax([0.00142555, 0.44669068, 0.55188376])"
   ]
  },
  {
   "cell_type": "code",
   "execution_count": null,
   "id": "1403b7fb",
   "metadata": {},
   "outputs": [],
   "source": []
  },
  {
   "cell_type": "code",
   "execution_count": null,
   "id": "5bc3c141",
   "metadata": {},
   "outputs": [],
   "source": []
  },
  {
   "cell_type": "code",
   "execution_count": null,
   "id": "b9287100",
   "metadata": {},
   "outputs": [],
   "source": []
  },
  {
   "cell_type": "code",
   "execution_count": null,
   "id": "9c32e2f3",
   "metadata": {},
   "outputs": [],
   "source": []
  },
  {
   "cell_type": "code",
   "execution_count": null,
   "id": "784ba20c",
   "metadata": {},
   "outputs": [],
   "source": []
  },
  {
   "cell_type": "code",
   "execution_count": null,
   "id": "cdd8cc23",
   "metadata": {},
   "outputs": [],
   "source": []
  },
  {
   "cell_type": "code",
   "execution_count": null,
   "id": "8a7a50f1",
   "metadata": {},
   "outputs": [],
   "source": []
  },
  {
   "cell_type": "code",
   "execution_count": null,
   "id": "864b96ed",
   "metadata": {},
   "outputs": [],
   "source": []
  },
  {
   "cell_type": "code",
   "execution_count": null,
   "id": "42550343",
   "metadata": {},
   "outputs": [],
   "source": []
  },
  {
   "cell_type": "code",
   "execution_count": null,
   "id": "5600fed3",
   "metadata": {},
   "outputs": [],
   "source": []
  },
  {
   "cell_type": "code",
   "execution_count": null,
   "id": "b2328e07",
   "metadata": {},
   "outputs": [],
   "source": []
  },
  {
   "cell_type": "code",
   "execution_count": null,
   "id": "164049de",
   "metadata": {},
   "outputs": [],
   "source": []
  },
  {
   "cell_type": "code",
   "execution_count": null,
   "id": "8dc2c55d",
   "metadata": {},
   "outputs": [],
   "source": []
  },
  {
   "cell_type": "code",
   "execution_count": null,
   "id": "fce1fbbe",
   "metadata": {},
   "outputs": [],
   "source": []
  },
  {
   "cell_type": "code",
   "execution_count": null,
   "id": "fcccbec2",
   "metadata": {},
   "outputs": [],
   "source": []
  },
  {
   "cell_type": "code",
   "execution_count": null,
   "id": "fd4a2d7e",
   "metadata": {},
   "outputs": [],
   "source": []
  },
  {
   "cell_type": "code",
   "execution_count": null,
   "id": "ca883d91",
   "metadata": {},
   "outputs": [],
   "source": []
  }
 ],
 "metadata": {
  "kernelspec": {
   "display_name": "Python 3 (ipykernel)",
   "language": "python",
   "name": "python3"
  },
  "language_info": {
   "codemirror_mode": {
    "name": "ipython",
    "version": 3
   },
   "file_extension": ".py",
   "mimetype": "text/x-python",
   "name": "python",
   "nbconvert_exporter": "python",
   "pygments_lexer": "ipython3",
   "version": "3.11.4"
  },
  "toc": {
   "base_numbering": 1,
   "nav_menu": {},
   "number_sections": true,
   "sideBar": true,
   "skip_h1_title": false,
   "title_cell": "Table of Contents",
   "title_sidebar": "Contents",
   "toc_cell": false,
   "toc_position": {},
   "toc_section_display": true,
   "toc_window_display": false
  }
 },
 "nbformat": 4,
 "nbformat_minor": 5
}
