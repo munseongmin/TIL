{
 "cells": [
  {
   "cell_type": "code",
   "execution_count": 131,
   "id": "457d8817",
   "metadata": {},
   "outputs": [
    {
     "data": {
      "text/plain": [
       "array([[0., 0., 0., 0., 0., 0., 0., 0., 0.],\n",
       "       [0., 0., 0., 0., 0., 0., 0., 0., 0.],\n",
       "       [0., 0., 0., 0., 0., 0., 0., 0., 0.],\n",
       "       [0., 0., 0., 0., 0., 0., 0., 0., 0.],\n",
       "       [0., 0., 0., 0., 0., 0., 0., 0., 0.],\n",
       "       [0., 0., 0., 0., 0., 0., 0., 0., 0.],\n",
       "       [0., 0., 0., 0., 0., 0., 0., 0., 0.],\n",
       "       [0., 0., 0., 0., 0., 0., 0., 0., 0.]])"
      ]
     },
     "execution_count": 131,
     "metadata": {},
     "output_type": "execute_result"
    }
   ],
   "source": [
    "gravity=[7,4,2,0,0,6,0,7,0]\n",
    "\n",
    "import numpy as np\n",
    "\n",
    "arr = np.zeros((8, 9))\n",
    "\n",
    "arr"
   ]
  },
  {
   "cell_type": "code",
   "execution_count": 111,
   "id": "9cde3d9c",
   "metadata": {},
   "outputs": [
    {
     "data": {
      "text/plain": [
       "array([[0., 0., 0., 0., 0., 0., 0., 0., 0.],\n",
       "       [1., 0., 0., 0., 0., 0., 0., 1., 0.],\n",
       "       [1., 0., 0., 0., 0., 1., 0., 1., 0.],\n",
       "       [1., 0., 0., 0., 0., 1., 0., 1., 0.],\n",
       "       [1., 1., 0., 0., 0., 1., 0., 1., 0.],\n",
       "       [1., 1., 0., 0., 0., 1., 0., 1., 0.],\n",
       "       [1., 1., 1., 0., 0., 1., 0., 1., 0.],\n",
       "       [1., 1., 1., 0., 0., 1., 0., 1., 0.]])"
      ]
     },
     "execution_count": 111,
     "metadata": {},
     "output_type": "execute_result"
    }
   ],
   "source": [
    "arr[1:,0] = 1\n",
    "arr[4:,1] = 1\n",
    "arr[6:,2] = 1\n",
    "arr[2:,5] = 1\n",
    "arr[1:,7] = 1\n",
    "\n",
    "arr"
   ]
  },
  {
   "cell_type": "code",
   "execution_count": 133,
   "id": "9682eef0",
   "metadata": {},
   "outputs": [
    {
     "ename": "SyntaxError",
     "evalue": "'return' outside function (1141315408.py, line 5)",
     "output_type": "error",
     "traceback": [
      "\u001b[1;36m  Cell \u001b[1;32mIn[133], line 5\u001b[1;36m\u001b[0m\n\u001b[1;33m    return i\u001b[0m\n\u001b[1;37m    ^\u001b[0m\n\u001b[1;31mSyntaxError\u001b[0m\u001b[1;31m:\u001b[0m 'return' outside function\n"
     ]
    }
   ],
   "source": [
    "for i in gravity:\n",
    "    for j in range(len(gravity)):\n",
    "        if i != 0:\n",
    "            arr[8-i:,j] = 1\n",
    "            \n",
    "        \n",
    "#arr[1:,0] = 1\n",
    "#arr[4:,1] = 1\n",
    "#arr[6:,2] = 1\n",
    "#arr[2:,5] = 1\n",
    "#arr[1:,7] = 1\n",
    "\n",
    "arr"
   ]
  },
  {
   "cell_type": "code",
   "execution_count": 85,
   "id": "9b93a464",
   "metadata": {},
   "outputs": [
    {
     "data": {
      "text/plain": [
       "7"
      ]
     },
     "execution_count": 85,
     "metadata": {},
     "output_type": "execute_result"
    }
   ],
   "source": [
    "list(arr[0]).count(0)"
   ]
  },
  {
   "cell_type": "code",
   "execution_count": null,
   "id": "d533f92c",
   "metadata": {},
   "outputs": [],
   "source": []
  },
  {
   "cell_type": "code",
   "execution_count": null,
   "id": "8040f70b",
   "metadata": {},
   "outputs": [],
   "source": []
  },
  {
   "cell_type": "code",
   "execution_count": 122,
   "id": "2a3d3675",
   "metadata": {},
   "outputs": [],
   "source": [
    "gravity=[7,4,2,0,0,6,0,7,0]\n",
    "max_cnt=0"
   ]
  },
  {
   "cell_type": "code",
   "execution_count": 123,
   "id": "1e3d2904",
   "metadata": {},
   "outputs": [],
   "source": [
    "for i in range(len(gravity)-1): # i = 0~7\n",
    "    cnt=0\n",
    "    for j in range(i+1, len(gravity)): # i+!~8\n",
    "        if gravity[i] > gravity[j]:\n",
    "            cnt+=1\n",
    "    if max_cnt < cnt:\n",
    "        max_cnt=cnt"
   ]
  },
  {
   "cell_type": "code",
   "execution_count": 124,
   "id": "0b91be5d",
   "metadata": {},
   "outputs": [
    {
     "name": "stdout",
     "output_type": "stream",
     "text": [
      "7\n"
     ]
    }
   ],
   "source": [
    "print(max_cnt)"
   ]
  },
  {
   "cell_type": "code",
   "execution_count": 134,
   "id": "314fb672",
   "metadata": {},
   "outputs": [
    {
     "data": {
      "text/plain": [
       "array([[ 0,  1,  0],\n",
       "       [ 1,  2, -2],\n",
       "       [ 6,  3,  2],\n",
       "       [-1,  0, -1],\n",
       "       [ 1,  0,  1]])"
      ]
     },
     "execution_count": 134,
     "metadata": {},
     "output_type": "execute_result"
    }
   ],
   "source": [
    "import numpy as py\n",
    "\n",
    "arr = np.array([[0, 1, 0], [1, 2, -2], [6, 3, 2], [-1, 0, -1], [1, 0, 1]])\n",
    "arr"
   ]
  },
  {
   "cell_type": "code",
   "execution_count": 135,
   "id": "69cff52f",
   "metadata": {},
   "outputs": [
    {
     "data": {
      "text/plain": [
       "array([[ 0,  1,  6, -1,  1],\n",
       "       [ 1,  2,  3,  0,  0],\n",
       "       [ 0, -2,  2, -1,  1]])"
      ]
     },
     "execution_count": 135,
     "metadata": {},
     "output_type": "execute_result"
    }
   ],
   "source": [
    "arr.T # 전치행렬 : 행과 열을 바꿈"
   ]
  },
  {
   "cell_type": "code",
   "execution_count": 137,
   "id": "7aa2a214",
   "metadata": {},
   "outputs": [
    {
     "data": {
      "text/plain": [
       "array([[ 1,  2,  3,  0,  0],\n",
       "       [ 2,  9,  8,  1, -1],\n",
       "       [ 3,  8, 49, -8,  8],\n",
       "       [ 0,  1, -8,  2, -2],\n",
       "       [ 0, -1,  8, -2,  2]])"
      ]
     },
     "execution_count": 137,
     "metadata": {},
     "output_type": "execute_result"
    }
   ],
   "source": [
    "np.dot(arr, arr.T)"
   ]
  },
  {
   "cell_type": "code",
   "execution_count": 138,
   "id": "d2782764",
   "metadata": {},
   "outputs": [
    {
     "data": {
      "text/plain": [
       "array([[ 1,  2,  3,  0,  0],\n",
       "       [ 2,  9,  8,  1, -1],\n",
       "       [ 3,  8, 49, -8,  8],\n",
       "       [ 0,  1, -8,  2, -2],\n",
       "       [ 0, -1,  8, -2,  2]])"
      ]
     },
     "execution_count": 138,
     "metadata": {},
     "output_type": "execute_result"
    }
   ],
   "source": [
    "arr @ arr.T"
   ]
  },
  {
   "cell_type": "code",
   "execution_count": 139,
   "id": "629cbe8b",
   "metadata": {},
   "outputs": [],
   "source": [
    "#3행2열 행렬, 2행4열 행렬 생성(난수:1~10)\n",
    "#행렬 곱셈 출력"
   ]
  },
  {
   "cell_type": "code",
   "execution_count": 147,
   "id": "9d5c3b02",
   "metadata": {},
   "outputs": [],
   "source": [
    "arr1 = np.random.randint(1, 11, size=(3,2))\n",
    "arr2 = np.random.randint(1, 11, size=(2,4))"
   ]
  },
  {
   "cell_type": "code",
   "execution_count": 148,
   "id": "c1a64922",
   "metadata": {},
   "outputs": [
    {
     "data": {
      "text/plain": [
       "array([[9, 2],\n",
       "       [8, 9],\n",
       "       [5, 9]])"
      ]
     },
     "execution_count": 148,
     "metadata": {},
     "output_type": "execute_result"
    }
   ],
   "source": [
    "arr1"
   ]
  },
  {
   "cell_type": "code",
   "execution_count": 149,
   "id": "6e07fd09",
   "metadata": {},
   "outputs": [
    {
     "data": {
      "text/plain": [
       "array([[ 4,  8,  4,  6],\n",
       "       [ 7,  8,  9, 10]])"
      ]
     },
     "execution_count": 149,
     "metadata": {},
     "output_type": "execute_result"
    }
   ],
   "source": [
    "arr2"
   ]
  },
  {
   "cell_type": "code",
   "execution_count": 150,
   "id": "58a0ad9c",
   "metadata": {},
   "outputs": [
    {
     "data": {
      "text/plain": [
       "array([[ 50,  88,  54,  74],\n",
       "       [ 95, 136, 113, 138],\n",
       "       [ 83, 112, 101, 120]])"
      ]
     },
     "execution_count": 150,
     "metadata": {},
     "output_type": "execute_result"
    }
   ],
   "source": [
    "#앞 열과 뒤 행이 같을 때 곱셈 가능\n",
    "np.dot(arr1, arr2)"
   ]
  },
  {
   "cell_type": "code",
   "execution_count": 151,
   "id": "2cac4d49",
   "metadata": {},
   "outputs": [
    {
     "data": {
      "text/plain": [
       "array([[ 50,  88,  54,  74],\n",
       "       [ 95, 136, 113, 138],\n",
       "       [ 83, 112, 101, 120]])"
      ]
     },
     "execution_count": 151,
     "metadata": {},
     "output_type": "execute_result"
    }
   ],
   "source": [
    "arr1 @ arr2"
   ]
  },
  {
   "cell_type": "code",
   "execution_count": 152,
   "id": "c43917c6",
   "metadata": {},
   "outputs": [
    {
     "data": {
      "text/plain": [
       "array([[ 0.13180218, -0.03733993,  0.51681124, -2.10693897],\n",
       "       [ 0.37792604, -0.20195612, -2.17235444,  1.68576989],\n",
       "       [ 1.56470685,  0.50838606,  0.93646811,  0.02452905],\n",
       "       [-0.89530252, -0.41502187, -0.48775946, -1.00239601]])"
      ]
     },
     "execution_count": 152,
     "metadata": {},
     "output_type": "execute_result"
    }
   ],
   "source": [
    "samples=np.random.standard_normal(size=(4,4))\n",
    "samples"
   ]
  },
  {
   "cell_type": "code",
   "execution_count": 153,
   "id": "65e97b39",
   "metadata": {},
   "outputs": [
    {
     "data": {
      "text/plain": [
       "-0.09829186790869437"
      ]
     },
     "execution_count": 153,
     "metadata": {},
     "output_type": "execute_result"
    }
   ],
   "source": [
    "np.mean(samples) #np.mean 평균을 구하는 함수"
   ]
  },
  {
   "cell_type": "code",
   "execution_count": 154,
   "id": "12f9dad3",
   "metadata": {},
   "outputs": [
    {
     "data": {
      "text/plain": [
       "1.0640689682265436"
      ]
     },
     "execution_count": 154,
     "metadata": {},
     "output_type": "execute_result"
    }
   ],
   "source": [
    "np.std(samples)"
   ]
  },
  {
   "cell_type": "code",
   "execution_count": 155,
   "id": "50bce576",
   "metadata": {},
   "outputs": [],
   "source": [
    "xarr = np.array([1.1, 1.2, 1.3, 1.4, 1.5])\n",
    "yarr = np.array([2.1, 2.2, 2.3, 2.4, 2.5])\n",
    "cond = np.array([True, False, True, True, False])\n",
    "#[1.1, 2.2, 1.3, 1.4, 2.5]"
   ]
  },
  {
   "cell_type": "code",
   "execution_count": 163,
   "id": "bb10a617",
   "metadata": {},
   "outputs": [
    {
     "data": {
      "text/plain": [
       "[1.1, 2.2, 1.3, 1.4, 2.5]"
      ]
     },
     "execution_count": 163,
     "metadata": {},
     "output_type": "execute_result"
    }
   ],
   "source": [
    "[(x if c else y) for x, y, c in zip(xarr, yarr, cond)]"
   ]
  },
  {
   "cell_type": "code",
   "execution_count": 164,
   "id": "b4c5482b",
   "metadata": {},
   "outputs": [
    {
     "data": {
      "text/plain": [
       "array([1.1, 2.2, 1.3, 1.4, 2.5])"
      ]
     },
     "execution_count": 164,
     "metadata": {},
     "output_type": "execute_result"
    }
   ],
   "source": [
    "(xarr*cond) + (yarr*~cond)"
   ]
  },
  {
   "cell_type": "code",
   "execution_count": 165,
   "id": "6973ccfb",
   "metadata": {},
   "outputs": [],
   "source": [
    "#np.where(조건, 참 , 거짓)"
   ]
  },
  {
   "cell_type": "code",
   "execution_count": 168,
   "id": "a704bae5",
   "metadata": {},
   "outputs": [
    {
     "data": {
      "text/plain": [
       "array([1.1, 2.2, 1.3, 1.4, 2.5])"
      ]
     },
     "execution_count": 168,
     "metadata": {},
     "output_type": "execute_result"
    }
   ],
   "source": [
    "np.where(cond, xarr, yarr)"
   ]
  },
  {
   "cell_type": "code",
   "execution_count": 169,
   "id": "e8d58729",
   "metadata": {},
   "outputs": [
    {
     "data": {
      "text/plain": [
       "array([[-0.47182636,  0.09979276,  0.47518239, -0.03218729],\n",
       "       [ 0.90335289,  0.16586562,  0.57503276,  0.07332474],\n",
       "       [ 0.51664591, -0.15193631,  0.20530178, -1.05498658],\n",
       "       [ 1.5835547 , -1.12920989,  0.00389426,  0.54240343]])"
      ]
     },
     "execution_count": 169,
     "metadata": {},
     "output_type": "execute_result"
    }
   ],
   "source": [
    "arr=np.random.standard_normal((4,4))\n",
    "arr"
   ]
  },
  {
   "cell_type": "code",
   "execution_count": 170,
   "id": "15ec1b1d",
   "metadata": {},
   "outputs": [],
   "source": [
    "#음수 -> 0, 양수 -> 그대로"
   ]
  },
  {
   "cell_type": "code",
   "execution_count": 172,
   "id": "329027e7",
   "metadata": {},
   "outputs": [
    {
     "data": {
      "text/plain": [
       "array([[0.        , 0.09979276, 0.47518239, 0.        ],\n",
       "       [0.90335289, 0.16586562, 0.57503276, 0.07332474],\n",
       "       [0.51664591, 0.        , 0.20530178, 0.        ],\n",
       "       [1.5835547 , 0.        , 0.00389426, 0.54240343]])"
      ]
     },
     "execution_count": 172,
     "metadata": {},
     "output_type": "execute_result"
    }
   ],
   "source": [
    "np.where(arr<0, 0, arr)"
   ]
  },
  {
   "cell_type": "code",
   "execution_count": 175,
   "id": "8879b14e",
   "metadata": {},
   "outputs": [
    {
     "data": {
      "text/html": [
       "<div>\n",
       "<style scoped>\n",
       "    .dataframe tbody tr th:only-of-type {\n",
       "        vertical-align: middle;\n",
       "    }\n",
       "\n",
       "    .dataframe tbody tr th {\n",
       "        vertical-align: top;\n",
       "    }\n",
       "\n",
       "    .dataframe thead th {\n",
       "        text-align: right;\n",
       "    }\n",
       "</style>\n",
       "<table border=\"1\" class=\"dataframe\">\n",
       "  <thead>\n",
       "    <tr style=\"text-align: right;\">\n",
       "      <th></th>\n",
       "      <th>제품</th>\n",
       "      <th>수량</th>\n",
       "      <th>제조일시</th>\n",
       "    </tr>\n",
       "  </thead>\n",
       "  <tbody>\n",
       "    <tr>\n",
       "      <th>0</th>\n",
       "      <td>milk</td>\n",
       "      <td>3</td>\n",
       "      <td>2020-01-01 01:00:00</td>\n",
       "    </tr>\n",
       "    <tr>\n",
       "      <th>1</th>\n",
       "      <td>juice</td>\n",
       "      <td>5</td>\n",
       "      <td>2019-12-20 15:01:00</td>\n",
       "    </tr>\n",
       "    <tr>\n",
       "      <th>2</th>\n",
       "      <td>bread</td>\n",
       "      <td>10</td>\n",
       "      <td>2019-12-31 00:00:00</td>\n",
       "    </tr>\n",
       "    <tr>\n",
       "      <th>3</th>\n",
       "      <td>icecream</td>\n",
       "      <td>2</td>\n",
       "      <td>2020-01-02 02:03:01</td>\n",
       "    </tr>\n",
       "  </tbody>\n",
       "</table>\n",
       "</div>"
      ],
      "text/plain": [
       "         제품  수량                제조일시\n",
       "0      milk   3 2020-01-01 01:00:00\n",
       "1     juice   5 2019-12-20 15:01:00\n",
       "2     bread  10 2019-12-31 00:00:00\n",
       "3  icecream   2 2020-01-02 02:03:01"
      ]
     },
     "execution_count": 175,
     "metadata": {},
     "output_type": "execute_result"
    }
   ],
   "source": [
    "import pandas as pd\n",
    "import numpy as np\n",
    "\n",
    "lst_A = {'제품':['milk','juice','bread','icecream'],\n",
    "         '수량':[3,5,10,2],\n",
    "         '제조일시':['2020-01-01 01:00:00','2019-12-20 15:01:00','2019-12-31 00:00:00','2020-01-02 02:03:01']}\n",
    "\n",
    "df = pd.DataFrame(lst_A)\n",
    "df\n",
    "df['제조일시'] = pd.to_datetime(df['제조일시'])\n",
    "df"
   ]
  },
  {
   "cell_type": "code",
   "execution_count": 176,
   "id": "69baf287",
   "metadata": {},
   "outputs": [],
   "source": [
    "#수량이 5 미만 -> 적정, 그렇지 않으면 -> 초과\n",
    "#\"초과여부\" 열에 추가"
   ]
  },
  {
   "cell_type": "code",
   "execution_count": 182,
   "id": "d0ffe8b4",
   "metadata": {},
   "outputs": [],
   "source": [
    "df[\"초과여부\"] = np.where(df[\"수량\"]<5, \"적정\", \"초과\")"
   ]
  },
  {
   "cell_type": "code",
   "execution_count": 183,
   "id": "a1feab45",
   "metadata": {},
   "outputs": [
    {
     "data": {
      "text/html": [
       "<div>\n",
       "<style scoped>\n",
       "    .dataframe tbody tr th:only-of-type {\n",
       "        vertical-align: middle;\n",
       "    }\n",
       "\n",
       "    .dataframe tbody tr th {\n",
       "        vertical-align: top;\n",
       "    }\n",
       "\n",
       "    .dataframe thead th {\n",
       "        text-align: right;\n",
       "    }\n",
       "</style>\n",
       "<table border=\"1\" class=\"dataframe\">\n",
       "  <thead>\n",
       "    <tr style=\"text-align: right;\">\n",
       "      <th></th>\n",
       "      <th>제품</th>\n",
       "      <th>수량</th>\n",
       "      <th>제조일시</th>\n",
       "      <th>초과여부</th>\n",
       "    </tr>\n",
       "  </thead>\n",
       "  <tbody>\n",
       "    <tr>\n",
       "      <th>0</th>\n",
       "      <td>milk</td>\n",
       "      <td>3</td>\n",
       "      <td>2020-01-01 01:00:00</td>\n",
       "      <td>적정</td>\n",
       "    </tr>\n",
       "    <tr>\n",
       "      <th>1</th>\n",
       "      <td>juice</td>\n",
       "      <td>5</td>\n",
       "      <td>2019-12-20 15:01:00</td>\n",
       "      <td>초과</td>\n",
       "    </tr>\n",
       "    <tr>\n",
       "      <th>2</th>\n",
       "      <td>bread</td>\n",
       "      <td>10</td>\n",
       "      <td>2019-12-31 00:00:00</td>\n",
       "      <td>초과</td>\n",
       "    </tr>\n",
       "    <tr>\n",
       "      <th>3</th>\n",
       "      <td>icecream</td>\n",
       "      <td>2</td>\n",
       "      <td>2020-01-02 02:03:01</td>\n",
       "      <td>적정</td>\n",
       "    </tr>\n",
       "  </tbody>\n",
       "</table>\n",
       "</div>"
      ],
      "text/plain": [
       "         제품  수량                제조일시 초과여부\n",
       "0      milk   3 2020-01-01 01:00:00   적정\n",
       "1     juice   5 2019-12-20 15:01:00   초과\n",
       "2     bread  10 2019-12-31 00:00:00   초과\n",
       "3  icecream   2 2020-01-02 02:03:01   적정"
      ]
     },
     "execution_count": 183,
     "metadata": {},
     "output_type": "execute_result"
    }
   ],
   "source": [
    "df"
   ]
  },
  {
   "cell_type": "code",
   "execution_count": 184,
   "id": "781ef224",
   "metadata": {},
   "outputs": [],
   "source": [
    "#\"제품종류\" 열추가\n",
    "#\"제품\" 열 값이 \"juice\" -> 음료, 아니면 -> \"간식\""
   ]
  },
  {
   "cell_type": "code",
   "execution_count": 192,
   "id": "c3e32cec",
   "metadata": {},
   "outputs": [],
   "source": [
    "df[\"제품종류\"]=np.where((df[\"제품\"]==\"juice\") | (df[\"제품\"]==\"milk\"), \"음료\", \"간식\")"
   ]
  },
  {
   "cell_type": "code",
   "execution_count": 193,
   "id": "8da3b47e",
   "metadata": {},
   "outputs": [
    {
     "data": {
      "text/html": [
       "<div>\n",
       "<style scoped>\n",
       "    .dataframe tbody tr th:only-of-type {\n",
       "        vertical-align: middle;\n",
       "    }\n",
       "\n",
       "    .dataframe tbody tr th {\n",
       "        vertical-align: top;\n",
       "    }\n",
       "\n",
       "    .dataframe thead th {\n",
       "        text-align: right;\n",
       "    }\n",
       "</style>\n",
       "<table border=\"1\" class=\"dataframe\">\n",
       "  <thead>\n",
       "    <tr style=\"text-align: right;\">\n",
       "      <th></th>\n",
       "      <th>제품</th>\n",
       "      <th>수량</th>\n",
       "      <th>제조일시</th>\n",
       "      <th>초과여부</th>\n",
       "      <th>제품종류</th>\n",
       "    </tr>\n",
       "  </thead>\n",
       "  <tbody>\n",
       "    <tr>\n",
       "      <th>0</th>\n",
       "      <td>milk</td>\n",
       "      <td>3</td>\n",
       "      <td>2020-01-01 01:00:00</td>\n",
       "      <td>적정</td>\n",
       "      <td>음료</td>\n",
       "    </tr>\n",
       "    <tr>\n",
       "      <th>1</th>\n",
       "      <td>juice</td>\n",
       "      <td>5</td>\n",
       "      <td>2019-12-20 15:01:00</td>\n",
       "      <td>초과</td>\n",
       "      <td>음료</td>\n",
       "    </tr>\n",
       "    <tr>\n",
       "      <th>2</th>\n",
       "      <td>bread</td>\n",
       "      <td>10</td>\n",
       "      <td>2019-12-31 00:00:00</td>\n",
       "      <td>초과</td>\n",
       "      <td>간식</td>\n",
       "    </tr>\n",
       "    <tr>\n",
       "      <th>3</th>\n",
       "      <td>icecream</td>\n",
       "      <td>2</td>\n",
       "      <td>2020-01-02 02:03:01</td>\n",
       "      <td>적정</td>\n",
       "      <td>간식</td>\n",
       "    </tr>\n",
       "  </tbody>\n",
       "</table>\n",
       "</div>"
      ],
      "text/plain": [
       "         제품  수량                제조일시 초과여부 제품종류\n",
       "0      milk   3 2020-01-01 01:00:00   적정   음료\n",
       "1     juice   5 2019-12-20 15:01:00   초과   음료\n",
       "2     bread  10 2019-12-31 00:00:00   초과   간식\n",
       "3  icecream   2 2020-01-02 02:03:01   적정   간식"
      ]
     },
     "execution_count": 193,
     "metadata": {},
     "output_type": "execute_result"
    }
   ],
   "source": [
    "df"
   ]
  },
  {
   "cell_type": "code",
   "execution_count": 194,
   "id": "b4e319ef",
   "metadata": {},
   "outputs": [
    {
     "data": {
      "text/plain": [
       "array([[-0.47182636,  0.09979276,  0.47518239, -0.03218729],\n",
       "       [ 0.90335289,  0.16586562,  0.57503276,  0.07332474],\n",
       "       [ 0.51664591, -0.15193631,  0.20530178, -1.05498658],\n",
       "       [ 1.5835547 , -1.12920989,  0.00389426,  0.54240343]])"
      ]
     },
     "execution_count": 194,
     "metadata": {},
     "output_type": "execute_result"
    }
   ],
   "source": [
    "arr"
   ]
  },
  {
   "cell_type": "code",
   "execution_count": 195,
   "id": "5aadda00",
   "metadata": {},
   "outputs": [
    {
     "data": {
      "text/plain": [
       "0.14401280012694329"
      ]
     },
     "execution_count": 195,
     "metadata": {},
     "output_type": "execute_result"
    }
   ],
   "source": [
    "np.mean(arr)"
   ]
  },
  {
   "cell_type": "code",
   "execution_count": 197,
   "id": "ea555582",
   "metadata": {},
   "outputs": [
    {
     "data": {
      "text/plain": [
       "0.14401280012694329"
      ]
     },
     "execution_count": 197,
     "metadata": {},
     "output_type": "execute_result"
    }
   ],
   "source": [
    "arr.mean()"
   ]
  },
  {
   "cell_type": "code",
   "execution_count": 198,
   "id": "8e3aea3b",
   "metadata": {},
   "outputs": [
    {
     "data": {
      "text/plain": [
       "2.3042048020310926"
      ]
     },
     "execution_count": 198,
     "metadata": {},
     "output_type": "execute_result"
    }
   ],
   "source": [
    "np.sum(arr)"
   ]
  },
  {
   "cell_type": "code",
   "execution_count": 199,
   "id": "5b3b4768",
   "metadata": {},
   "outputs": [
    {
     "data": {
      "text/plain": [
       "2.3042048020310926"
      ]
     },
     "execution_count": 199,
     "metadata": {},
     "output_type": "execute_result"
    }
   ],
   "source": [
    "arr.sum()"
   ]
  },
  {
   "cell_type": "code",
   "execution_count": 200,
   "id": "63ddc7fb",
   "metadata": {},
   "outputs": [
    {
     "data": {
      "text/plain": [
       "array([[-0.47182636,  0.09979276,  0.47518239, -0.03218729],\n",
       "       [ 0.90335289,  0.16586562,  0.57503276,  0.07332474],\n",
       "       [ 0.51664591, -0.15193631,  0.20530178, -1.05498658],\n",
       "       [ 1.5835547 , -1.12920989,  0.00389426,  0.54240343]])"
      ]
     },
     "execution_count": 200,
     "metadata": {},
     "output_type": "execute_result"
    }
   ],
   "source": [
    "arr"
   ]
  },
  {
   "cell_type": "code",
   "execution_count": 204,
   "id": "45e1b6d7",
   "metadata": {},
   "outputs": [
    {
     "data": {
      "text/plain": [
       "array([10, 11, 12, 13, 14])"
      ]
     },
     "execution_count": 204,
     "metadata": {},
     "output_type": "execute_result"
    }
   ],
   "source": [
    "arr=np.arange(10,15)\n",
    "arr"
   ]
  },
  {
   "cell_type": "code",
   "execution_count": 205,
   "id": "6f425e5e",
   "metadata": {},
   "outputs": [
    {
     "data": {
      "text/plain": [
       "array([10, 21, 33, 46, 60])"
      ]
     },
     "execution_count": 205,
     "metadata": {},
     "output_type": "execute_result"
    }
   ],
   "source": [
    "arr.cumsum() #누적합"
   ]
  },
  {
   "cell_type": "code",
   "execution_count": 206,
   "id": "8f7d7b3c",
   "metadata": {},
   "outputs": [
    {
     "data": {
      "text/plain": [
       "array([[10, 11],\n",
       "       [12, 13],\n",
       "       [14, 15]])"
      ]
     },
     "execution_count": 206,
     "metadata": {},
     "output_type": "execute_result"
    }
   ],
   "source": [
    "arr=np.arange(10,16).reshape(3,2)\n",
    "arr"
   ]
  },
  {
   "cell_type": "code",
   "execution_count": 207,
   "id": "848d0a4f",
   "metadata": {},
   "outputs": [
    {
     "data": {
      "text/plain": [
       "array([[10, 11],\n",
       "       [22, 24],\n",
       "       [36, 39]])"
      ]
     },
     "execution_count": 207,
     "metadata": {},
     "output_type": "execute_result"
    }
   ],
   "source": [
    "arr.cumsum(axis=0)"
   ]
  },
  {
   "cell_type": "code",
   "execution_count": 208,
   "id": "8efe8ba1",
   "metadata": {},
   "outputs": [
    {
     "data": {
      "text/plain": [
       "array([[10, 21],\n",
       "       [12, 25],\n",
       "       [14, 29]])"
      ]
     },
     "execution_count": 208,
     "metadata": {},
     "output_type": "execute_result"
    }
   ],
   "source": [
    "arr.cumsum(axis=1)"
   ]
  },
  {
   "cell_type": "code",
   "execution_count": 209,
   "id": "b0b44e06",
   "metadata": {},
   "outputs": [
    {
     "data": {
      "text/plain": [
       "array([[10, 11],\n",
       "       [12, 13],\n",
       "       [14, 15]])"
      ]
     },
     "execution_count": 209,
     "metadata": {},
     "output_type": "execute_result"
    }
   ],
   "source": [
    "arr"
   ]
  },
  {
   "cell_type": "code",
   "execution_count": 215,
   "id": "bbe7123e",
   "metadata": {},
   "outputs": [
    {
     "data": {
      "text/plain": [
       "3"
      ]
     },
     "execution_count": 215,
     "metadata": {},
     "output_type": "execute_result"
    }
   ],
   "source": [
    "arr.sum()\n",
    "(arr>=13).sum()"
   ]
  },
  {
   "cell_type": "code",
   "execution_count": 216,
   "id": "9ca30379",
   "metadata": {},
   "outputs": [
    {
     "data": {
      "text/plain": [
       "array([13, 14, 15])"
      ]
     },
     "execution_count": 216,
     "metadata": {},
     "output_type": "execute_result"
    }
   ],
   "source": [
    "arr[arr>=13] #불린참조 True 값만 출력"
   ]
  },
  {
   "cell_type": "code",
   "execution_count": 217,
   "id": "7c8834a5",
   "metadata": {},
   "outputs": [
    {
     "data": {
      "text/plain": [
       "42"
      ]
     },
     "execution_count": 217,
     "metadata": {},
     "output_type": "execute_result"
    }
   ],
   "source": [
    "arr[arr>=13].sum()"
   ]
  },
  {
   "cell_type": "code",
   "execution_count": 223,
   "id": "17465e9a",
   "metadata": {},
   "outputs": [
    {
     "data": {
      "text/plain": [
       "array([[10, 11],\n",
       "       [12, 13],\n",
       "       [14, 15]])"
      ]
     },
     "execution_count": 223,
     "metadata": {},
     "output_type": "execute_result"
    }
   ],
   "source": [
    "arr"
   ]
  },
  {
   "cell_type": "code",
   "execution_count": 224,
   "id": "bcc61ace",
   "metadata": {},
   "outputs": [],
   "source": [
    "brr = arr[[1, 0, 2]]"
   ]
  },
  {
   "cell_type": "code",
   "execution_count": 225,
   "id": "d0f2cc17",
   "metadata": {},
   "outputs": [
    {
     "data": {
      "text/plain": [
       "array([[12, 13],\n",
       "       [10, 11],\n",
       "       [14, 15]])"
      ]
     },
     "execution_count": 225,
     "metadata": {},
     "output_type": "execute_result"
    }
   ],
   "source": [
    "brr"
   ]
  },
  {
   "cell_type": "code",
   "execution_count": 227,
   "id": "e99c7e9e",
   "metadata": {},
   "outputs": [
    {
     "data": {
      "text/plain": [
       "array([[10, 11],\n",
       "       [12, 13],\n",
       "       [14, 15]])"
      ]
     },
     "execution_count": 227,
     "metadata": {},
     "output_type": "execute_result"
    }
   ],
   "source": [
    "brr.sort(axis = 0)\n",
    "brr"
   ]
  },
  {
   "cell_type": "code",
   "execution_count": 228,
   "id": "a996e90c",
   "metadata": {},
   "outputs": [
    {
     "data": {
      "text/plain": [
       "array([[10, 11],\n",
       "       [12, 13],\n",
       "       [14, 15]])"
      ]
     },
     "execution_count": 228,
     "metadata": {},
     "output_type": "execute_result"
    }
   ],
   "source": [
    "brr.sort(axis = 1)\n",
    "brr"
   ]
  },
  {
   "cell_type": "code",
   "execution_count": 229,
   "id": "7a895ede",
   "metadata": {},
   "outputs": [],
   "source": [
    "names = np.array([\"Bob\", \"Will\", \"Joe\", \"Bob\", \"Will\", \"Joe\", \"Joe\"])"
   ]
  },
  {
   "cell_type": "code",
   "execution_count": 230,
   "id": "456ceca4",
   "metadata": {},
   "outputs": [
    {
     "data": {
      "text/plain": [
       "array(['Bob', 'Joe', 'Will'], dtype='<U4')"
      ]
     },
     "execution_count": 230,
     "metadata": {},
     "output_type": "execute_result"
    }
   ],
   "source": [
    "np.unique(names) #중복제거"
   ]
  },
  {
   "cell_type": "code",
   "execution_count": 231,
   "id": "c09f06e9",
   "metadata": {},
   "outputs": [
    {
     "data": {
      "text/plain": [
       "array([1, 2, 3, 4])"
      ]
     },
     "execution_count": 231,
     "metadata": {},
     "output_type": "execute_result"
    }
   ],
   "source": [
    "ints = np.array([3, 3, 3, 2, 2, 1, 1, 4, 4])\n",
    "np.unique(ints)"
   ]
  },
  {
   "cell_type": "code",
   "execution_count": 232,
   "id": "7af22e9a",
   "metadata": {},
   "outputs": [
    {
     "data": {
      "text/plain": [
       "{'Bob', 'Joe', 'Will'}"
      ]
     },
     "execution_count": 232,
     "metadata": {},
     "output_type": "execute_result"
    }
   ],
   "source": [
    "set(names)"
   ]
  },
  {
   "cell_type": "code",
   "execution_count": 235,
   "id": "ce6a1254",
   "metadata": {},
   "outputs": [
    {
     "data": {
      "text/plain": [
       "array([0.88450345, 0.44230462, 0.09187577])"
      ]
     },
     "execution_count": 235,
     "metadata": {},
     "output_type": "execute_result"
    }
   ],
   "source": [
    "np.random.rand(3)"
   ]
  },
  {
   "cell_type": "code",
   "execution_count": 236,
   "id": "656c8888",
   "metadata": {},
   "outputs": [],
   "source": [
    "np.random.seed(20230907) #동일한 난수 출력"
   ]
  },
  {
   "cell_type": "code",
   "execution_count": 237,
   "id": "92ea02ad",
   "metadata": {},
   "outputs": [
    {
     "data": {
      "text/plain": [
       "array([0.64824332, 0.27289441, 0.9663242 ])"
      ]
     },
     "execution_count": 237,
     "metadata": {},
     "output_type": "execute_result"
    }
   ],
   "source": [
    "np.random.rand(3)"
   ]
  },
  {
   "cell_type": "code",
   "execution_count": 238,
   "id": "81e8228c",
   "metadata": {},
   "outputs": [],
   "source": [
    "x=np.arange(10)"
   ]
  },
  {
   "cell_type": "code",
   "execution_count": 239,
   "id": "c15bf75e",
   "metadata": {},
   "outputs": [
    {
     "data": {
      "text/plain": [
       "array([0, 1, 2, 3, 4, 5, 6, 7, 8, 9])"
      ]
     },
     "execution_count": 239,
     "metadata": {},
     "output_type": "execute_result"
    }
   ],
   "source": [
    "x"
   ]
  },
  {
   "cell_type": "code",
   "execution_count": 254,
   "id": "ee102dde",
   "metadata": {},
   "outputs": [],
   "source": [
    "np.random.seed(20230907)"
   ]
  },
  {
   "cell_type": "code",
   "execution_count": 255,
   "id": "d9ad4fce",
   "metadata": {},
   "outputs": [],
   "source": [
    "np.random.shuffle(x) #데이터를 섞음"
   ]
  },
  {
   "cell_type": "code",
   "execution_count": 256,
   "id": "66e02c7d",
   "metadata": {},
   "outputs": [
    {
     "data": {
      "text/plain": [
       "array([1, 5, 2, 8, 4, 3, 0, 9, 6, 7])"
      ]
     },
     "execution_count": 256,
     "metadata": {},
     "output_type": "execute_result"
    }
   ],
   "source": [
    "x"
   ]
  },
  {
   "cell_type": "code",
   "execution_count": 272,
   "id": "a11bdb2d",
   "metadata": {},
   "outputs": [
    {
     "data": {
      "text/plain": [
       "0"
      ]
     },
     "execution_count": 272,
     "metadata": {},
     "output_type": "execute_result"
    }
   ],
   "source": [
    "np.random.choice(x) # x-1"
   ]
  },
  {
   "cell_type": "code",
   "execution_count": 273,
   "id": "2399b650",
   "metadata": {},
   "outputs": [
    {
     "data": {
      "text/plain": [
       "array([0, 1, 0])"
      ]
     },
     "execution_count": 273,
     "metadata": {},
     "output_type": "execute_result"
    }
   ],
   "source": [
    "np.random.choice(5, 3) # 0~4까지 숫자 3개 랜덤추출"
   ]
  },
  {
   "cell_type": "code",
   "execution_count": 276,
   "id": "f7f6665f",
   "metadata": {},
   "outputs": [
    {
     "data": {
      "text/plain": [
       "array([4, 3, 1])"
      ]
     },
     "execution_count": 276,
     "metadata": {},
     "output_type": "execute_result"
    }
   ],
   "source": [
    "np.random.choice(5, 3, replace=False) #중복되는 수가 나오지 않음"
   ]
  },
  {
   "cell_type": "code",
   "execution_count": 277,
   "id": "80a6df4b",
   "metadata": {},
   "outputs": [
    {
     "ename": "ValueError",
     "evalue": "Cannot take a larger sample than population when 'replace=False'",
     "output_type": "error",
     "traceback": [
      "\u001b[1;31m---------------------------------------------------------------------------\u001b[0m",
      "\u001b[1;31mValueError\u001b[0m                                Traceback (most recent call last)",
      "Cell \u001b[1;32mIn[277], line 1\u001b[0m\n\u001b[1;32m----> 1\u001b[0m np\u001b[38;5;241m.\u001b[39mrandom\u001b[38;5;241m.\u001b[39mchoice(\u001b[38;5;241m5\u001b[39m, \u001b[38;5;241m10\u001b[39m, replace\u001b[38;5;241m=\u001b[39m\u001b[38;5;28;01mFalse\u001b[39;00m)\n",
      "File \u001b[1;32mmtrand.pyx:984\u001b[0m, in \u001b[0;36mnumpy.random.mtrand.RandomState.choice\u001b[1;34m()\u001b[0m\n",
      "\u001b[1;31mValueError\u001b[0m: Cannot take a larger sample than population when 'replace=False'"
     ]
    }
   ],
   "source": [
    "np.random.choice(5, 10, replace=False) #0~4까지 10개 숫자 중복없이 생성 불가능"
   ]
  },
  {
   "cell_type": "code",
   "execution_count": 278,
   "id": "4a93c878",
   "metadata": {},
   "outputs": [
    {
     "data": {
      "text/plain": [
       "array([1, 3, 2, 0, 1, 3, 4, 1, 1, 2])"
      ]
     },
     "execution_count": 278,
     "metadata": {},
     "output_type": "execute_result"
    }
   ],
   "source": [
    "np.random.choice(5, 10, replace=True)"
   ]
  },
  {
   "cell_type": "code",
   "execution_count": 290,
   "id": "7c2953b6",
   "metadata": {},
   "outputs": [
    {
     "data": {
      "text/plain": [
       "array([35, 33, 40,  6, 20, 12])"
      ]
     },
     "execution_count": 290,
     "metadata": {},
     "output_type": "execute_result"
    }
   ],
   "source": [
    "np.random.choice(45, 6, replace=False)+1"
   ]
  },
  {
   "cell_type": "code",
   "execution_count": null,
   "id": "8ee4de0b",
   "metadata": {},
   "outputs": [],
   "source": []
  }
 ],
 "metadata": {
  "kernelspec": {
   "display_name": "Python 3 (ipykernel)",
   "language": "python",
   "name": "python3"
  },
  "language_info": {
   "codemirror_mode": {
    "name": "ipython",
    "version": 3
   },
   "file_extension": ".py",
   "mimetype": "text/x-python",
   "name": "python",
   "nbconvert_exporter": "python",
   "pygments_lexer": "ipython3",
   "version": "3.11.4"
  }
 },
 "nbformat": 4,
 "nbformat_minor": 5
}
