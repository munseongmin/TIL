{
 "cells": [
  {
   "cell_type": "code",
   "execution_count": 1,
   "id": "b7fb21e1",
   "metadata": {},
   "outputs": [
    {
     "data": {
      "text/plain": [
       "[10, 20, 30]"
      ]
     },
     "execution_count": 1,
     "metadata": {},
     "output_type": "execute_result"
    }
   ],
   "source": [
    "x=1\n",
    "a=[10, 20, 30] #대괄호를 사용하여 list로 저장, 각각 요소라고 부름\n",
    "a"
   ]
  },
  {
   "cell_type": "code",
   "execution_count": 7,
   "id": "2a2baaf5",
   "metadata": {},
   "outputs": [
    {
     "data": {
      "text/plain": [
       "['kim', 25, 180, 70, 'female', False, 4.1, [100, 90, 100]]"
      ]
     },
     "execution_count": 7,
     "metadata": {},
     "output_type": "execute_result"
    }
   ],
   "source": [
    "p=['kim', 25, 180, 70, 'female', False, 4.1, [100, 90, 100]]\n",
    "p"
   ]
  },
  {
   "cell_type": "code",
   "execution_count": 4,
   "id": "fcf0ebc4",
   "metadata": {},
   "outputs": [],
   "source": [
    "a1=[]\n",
    "a2=list()"
   ]
  },
  {
   "cell_type": "code",
   "execution_count": 5,
   "id": "7038dc46",
   "metadata": {},
   "outputs": [
    {
     "data": {
      "text/plain": [
       "[]"
      ]
     },
     "execution_count": 5,
     "metadata": {},
     "output_type": "execute_result"
    }
   ],
   "source": [
    "a1"
   ]
  },
  {
   "cell_type": "code",
   "execution_count": 6,
   "id": "35c49ae4",
   "metadata": {},
   "outputs": [
    {
     "data": {
      "text/plain": [
       "[]"
      ]
     },
     "execution_count": 6,
     "metadata": {},
     "output_type": "execute_result"
    }
   ],
   "source": [
    "a2"
   ]
  },
  {
   "cell_type": "code",
   "execution_count": 8,
   "id": "9ba47c25",
   "metadata": {},
   "outputs": [
    {
     "data": {
      "text/plain": [
       "['kim', 25, 180, 70, 'female', False, 4.1, [100, 90, 100]]"
      ]
     },
     "execution_count": 8,
     "metadata": {},
     "output_type": "execute_result"
    }
   ],
   "source": [
    "p"
   ]
  },
  {
   "cell_type": "code",
   "execution_count": 9,
   "id": "5d2f503f",
   "metadata": {},
   "outputs": [
    {
     "data": {
      "text/plain": [
       "'female'"
      ]
     },
     "execution_count": 9,
     "metadata": {},
     "output_type": "execute_result"
    }
   ],
   "source": [
    "p[4]"
   ]
  },
  {
   "cell_type": "code",
   "execution_count": 11,
   "id": "e0a5c17b",
   "metadata": {},
   "outputs": [
    {
     "data": {
      "text/plain": [
       "[100, 90, 100]"
      ]
     },
     "execution_count": 11,
     "metadata": {},
     "output_type": "execute_result"
    }
   ],
   "source": [
    "p[7]"
   ]
  },
  {
   "cell_type": "code",
   "execution_count": 12,
   "id": "60a22322",
   "metadata": {},
   "outputs": [
    {
     "data": {
      "text/plain": [
       "100"
      ]
     },
     "execution_count": 12,
     "metadata": {},
     "output_type": "execute_result"
    }
   ],
   "source": [
    "p[7][0]"
   ]
  },
  {
   "cell_type": "code",
   "execution_count": 13,
   "id": "9718b4b7",
   "metadata": {},
   "outputs": [
    {
     "data": {
      "text/plain": [
       "90"
      ]
     },
     "execution_count": 13,
     "metadata": {},
     "output_type": "execute_result"
    }
   ],
   "source": [
    "p[7][1]"
   ]
  },
  {
   "cell_type": "code",
   "execution_count": 14,
   "id": "b02f3bbf",
   "metadata": {},
   "outputs": [
    {
     "data": {
      "text/plain": [
       "100"
      ]
     },
     "execution_count": 14,
     "metadata": {},
     "output_type": "execute_result"
    }
   ],
   "source": [
    "p[7][2]"
   ]
  },
  {
   "cell_type": "code",
   "execution_count": 15,
   "id": "470f90d1",
   "metadata": {},
   "outputs": [
    {
     "data": {
      "text/plain": [
       "[100, 90, 100]"
      ]
     },
     "execution_count": 15,
     "metadata": {},
     "output_type": "execute_result"
    }
   ],
   "source": [
    "p[-1]"
   ]
  },
  {
   "cell_type": "code",
   "execution_count": 16,
   "id": "1bdf5007",
   "metadata": {},
   "outputs": [
    {
     "data": {
      "text/plain": [
       "['kim', 25, 180, 70, 'female', False, 4.1, [100, 90, 100, ['sesac', 3, 'AI']]]"
      ]
     },
     "execution_count": 16,
     "metadata": {},
     "output_type": "execute_result"
    }
   ],
   "source": [
    "p=['kim', 25, 180, 70, 'female', False, 4.1, [100, 90, 100, ['sesac', 3, 'AI']]]\n",
    "p"
   ]
  },
  {
   "cell_type": "code",
   "execution_count": 18,
   "id": "ffc0b242",
   "metadata": {},
   "outputs": [
    {
     "data": {
      "text/plain": [
       "'AI'"
      ]
     },
     "execution_count": 18,
     "metadata": {},
     "output_type": "execute_result"
    }
   ],
   "source": [
    "p[-1][-1][-1]"
   ]
  },
  {
   "cell_type": "code",
   "execution_count": 19,
   "id": "a6530178",
   "metadata": {},
   "outputs": [
    {
     "data": {
      "text/plain": [
       "[90, 100]"
      ]
     },
     "execution_count": 19,
     "metadata": {},
     "output_type": "execute_result"
    }
   ],
   "source": [
    "p[-1][1:3]"
   ]
  },
  {
   "cell_type": "code",
   "execution_count": 22,
   "id": "08b0a468",
   "metadata": {},
   "outputs": [],
   "source": [
    "x=[1, 2]\n",
    "y=[3, 4]"
   ]
  },
  {
   "cell_type": "code",
   "execution_count": 24,
   "id": "b0a00baa",
   "metadata": {},
   "outputs": [
    {
     "data": {
      "text/plain": [
       "[1, 2, 3, 4]"
      ]
     },
     "execution_count": 24,
     "metadata": {},
     "output_type": "execute_result"
    }
   ],
   "source": [
    "x+y"
   ]
  },
  {
   "cell_type": "code",
   "execution_count": 25,
   "id": "64f1e462",
   "metadata": {},
   "outputs": [
    {
     "data": {
      "text/plain": [
       "[1, 2, 1, 2, 1, 2, 1, 2, 1, 2]"
      ]
     },
     "execution_count": 25,
     "metadata": {},
     "output_type": "execute_result"
    }
   ],
   "source": [
    "x*5"
   ]
  },
  {
   "cell_type": "code",
   "execution_count": 26,
   "id": "70d93884",
   "metadata": {},
   "outputs": [
    {
     "data": {
      "text/plain": [
       "[3, 4, 3, 4, 3, 4, 3, 4, 3, 4]"
      ]
     },
     "execution_count": 26,
     "metadata": {},
     "output_type": "execute_result"
    }
   ],
   "source": [
    "y*5"
   ]
  },
  {
   "cell_type": "code",
   "execution_count": 27,
   "id": "111ec0aa",
   "metadata": {},
   "outputs": [
    {
     "data": {
      "text/plain": [
       "10"
      ]
     },
     "execution_count": 27,
     "metadata": {},
     "output_type": "execute_result"
    }
   ],
   "source": [
    "len(x*5)"
   ]
  },
  {
   "cell_type": "code",
   "execution_count": 28,
   "id": "00153872",
   "metadata": {},
   "outputs": [
    {
     "data": {
      "text/plain": [
       "['kim', 25, 180, 70, 'female', False, 4.1, [100, 90, 100, ['sesac', 3, 'AI']]]"
      ]
     },
     "execution_count": 28,
     "metadata": {},
     "output_type": "execute_result"
    }
   ],
   "source": [
    "p"
   ]
  },
  {
   "cell_type": "code",
   "execution_count": 29,
   "id": "093c5c33",
   "metadata": {},
   "outputs": [],
   "source": [
    "p[1]=26 #요소값 변경"
   ]
  },
  {
   "cell_type": "code",
   "execution_count": 30,
   "id": "34a96482",
   "metadata": {},
   "outputs": [
    {
     "data": {
      "text/plain": [
       "['kim', 26, 180, 70, 'female', False, 4.1, [100, 90, 100, ['sesac', 3, 'AI']]]"
      ]
     },
     "execution_count": 30,
     "metadata": {},
     "output_type": "execute_result"
    }
   ],
   "source": [
    "p"
   ]
  },
  {
   "cell_type": "code",
   "execution_count": 32,
   "id": "f4046455",
   "metadata": {},
   "outputs": [],
   "source": [
    "del p[3] #del, pop, remove 사용하여 요소 삭제"
   ]
  },
  {
   "cell_type": "code",
   "execution_count": 33,
   "id": "2353082e",
   "metadata": {},
   "outputs": [
    {
     "data": {
      "text/plain": [
       "['kim', 26, 180, 'female', False, 4.1, [100, 90, 100, ['sesac', 3, 'AI']]]"
      ]
     },
     "execution_count": 33,
     "metadata": {},
     "output_type": "execute_result"
    }
   ],
   "source": [
    "p"
   ]
  },
  {
   "cell_type": "code",
   "execution_count": 36,
   "id": "1e157273",
   "metadata": {},
   "outputs": [],
   "source": [
    "del p[-1][2]"
   ]
  },
  {
   "cell_type": "code",
   "execution_count": 37,
   "id": "b3eb74d1",
   "metadata": {},
   "outputs": [
    {
     "data": {
      "text/plain": [
       "['kim', 26, 180, 'female', False, 4.1, [90, 100]]"
      ]
     },
     "execution_count": 37,
     "metadata": {},
     "output_type": "execute_result"
    }
   ],
   "source": [
    "p"
   ]
  },
  {
   "cell_type": "code",
   "execution_count": 38,
   "id": "49f94fbd",
   "metadata": {},
   "outputs": [
    {
     "data": {
      "text/plain": [
       "['kim', 25, 180, 70, 'female', False, 4.1, [100, 90, 100, ['sesac', 3, 'AI']]]"
      ]
     },
     "execution_count": 38,
     "metadata": {},
     "output_type": "execute_result"
    }
   ],
   "source": [
    "p=['kim', 25, 180, 70, 'female', False, 4.1, [100, 90, 100, ['sesac', 3, 'AI']]]\n",
    "p"
   ]
  },
  {
   "cell_type": "code",
   "execution_count": 39,
   "id": "5d86fdbf",
   "metadata": {},
   "outputs": [],
   "source": [
    "del p[3]"
   ]
  },
  {
   "cell_type": "code",
   "execution_count": 40,
   "id": "4aa31f19",
   "metadata": {},
   "outputs": [
    {
     "data": {
      "text/plain": [
       "['kim', 25, 180, 'female', False, 4.1, [100, 90, 100, ['sesac', 3, 'AI']]]"
      ]
     },
     "execution_count": 40,
     "metadata": {},
     "output_type": "execute_result"
    }
   ],
   "source": [
    "p"
   ]
  },
  {
   "cell_type": "code",
   "execution_count": 41,
   "id": "f579fea8",
   "metadata": {},
   "outputs": [],
   "source": [
    "del p[-1][2]"
   ]
  },
  {
   "cell_type": "code",
   "execution_count": 42,
   "id": "25fb38aa",
   "metadata": {},
   "outputs": [
    {
     "data": {
      "text/plain": [
       "['kim', 25, 180, 'female', False, 4.1, [100, 90, ['sesac', 3, 'AI']]]"
      ]
     },
     "execution_count": 42,
     "metadata": {},
     "output_type": "execute_result"
    }
   ],
   "source": [
    "p"
   ]
  },
  {
   "cell_type": "code",
   "execution_count": 43,
   "id": "f42b9255",
   "metadata": {},
   "outputs": [],
   "source": [
    "del p[4:]"
   ]
  },
  {
   "cell_type": "code",
   "execution_count": 44,
   "id": "09f19f3c",
   "metadata": {},
   "outputs": [
    {
     "data": {
      "text/plain": [
       "['kim', 25, 180, 'female']"
      ]
     },
     "execution_count": 44,
     "metadata": {},
     "output_type": "execute_result"
    }
   ],
   "source": [
    "p"
   ]
  },
  {
   "cell_type": "code",
   "execution_count": 45,
   "id": "c09196fc",
   "metadata": {},
   "outputs": [
    {
     "data": {
      "text/plain": [
       "range(0, 5)"
      ]
     },
     "execution_count": 45,
     "metadata": {},
     "output_type": "execute_result"
    }
   ],
   "source": [
    "range(5) #0~4까지 해당하는 범위, 0부터 지정한 숫자의 앞 숫자까지 순서대로 지정"
   ]
  },
  {
   "cell_type": "code",
   "execution_count": 46,
   "id": "0c2cd0d1",
   "metadata": {},
   "outputs": [
    {
     "data": {
      "text/plain": [
       "[0, 1, 2, 3, 4]"
      ]
     },
     "execution_count": 46,
     "metadata": {},
     "output_type": "execute_result"
    }
   ],
   "source": [
    "list(range(5))"
   ]
  },
  {
   "cell_type": "code",
   "execution_count": 47,
   "id": "930224e9",
   "metadata": {},
   "outputs": [
    {
     "data": {
      "text/plain": [
       "[1, 2, 3, 4]"
      ]
     },
     "execution_count": 47,
     "metadata": {},
     "output_type": "execute_result"
    }
   ],
   "source": [
    "list(range(1, 5)) #시작하는 번호 부여할 수 있음"
   ]
  },
  {
   "cell_type": "code",
   "execution_count": 49,
   "id": "73aaf856",
   "metadata": {},
   "outputs": [
    {
     "data": {
      "text/plain": [
       "[1, 3]"
      ]
     },
     "execution_count": 49,
     "metadata": {},
     "output_type": "execute_result"
    }
   ],
   "source": [
    "list(range(1, 5, 2)) #1부터 4까지 2만큼씩 증가"
   ]
  },
  {
   "cell_type": "code",
   "execution_count": 50,
   "id": "fd5e1616",
   "metadata": {},
   "outputs": [
    {
     "data": {
      "text/plain": [
       "[-10, -8, -6, -4, -2, 0, 2, 4]"
      ]
     },
     "execution_count": 50,
     "metadata": {},
     "output_type": "execute_result"
    }
   ],
   "source": [
    "list(range(-10, 5, 2))"
   ]
  },
  {
   "cell_type": "code",
   "execution_count": 51,
   "id": "21e062d5",
   "metadata": {},
   "outputs": [
    {
     "data": {
      "text/plain": [
       "[10, 8, 6, 4, 2, 0, -2, -4]"
      ]
     },
     "execution_count": 51,
     "metadata": {},
     "output_type": "execute_result"
    }
   ],
   "source": [
    "list(range(10, -5, -2)) #10부터 -4까지 -2만큼 감소"
   ]
  },
  {
   "cell_type": "code",
   "execution_count": 52,
   "id": "ecdd1d94",
   "metadata": {},
   "outputs": [],
   "source": [
    "#append(기존 list에 가장 마지막에 요소 데이터 1개 추가), extend(list에 여러개의 요소 추가), insert(특정 위치에 요소 데이터 추가) 사용하여 list에 자료 추가\n",
    "x=list(range(10, 101, 20))"
   ]
  },
  {
   "cell_type": "code",
   "execution_count": 53,
   "id": "cebd26c2",
   "metadata": {},
   "outputs": [
    {
     "data": {
      "text/plain": [
       "[10, 30, 50, 70, 90]"
      ]
     },
     "execution_count": 53,
     "metadata": {},
     "output_type": "execute_result"
    }
   ],
   "source": [
    "x"
   ]
  },
  {
   "cell_type": "code",
   "execution_count": 54,
   "id": "da0771f2",
   "metadata": {},
   "outputs": [],
   "source": [
    "x.append(100)"
   ]
  },
  {
   "cell_type": "code",
   "execution_count": 55,
   "id": "59494b40",
   "metadata": {},
   "outputs": [
    {
     "data": {
      "text/plain": [
       "[10, 30, 50, 70, 90, 100]"
      ]
     },
     "execution_count": 55,
     "metadata": {},
     "output_type": "execute_result"
    }
   ],
   "source": [
    "x"
   ]
  },
  {
   "cell_type": "code",
   "execution_count": 58,
   "id": "0d175aa4",
   "metadata": {},
   "outputs": [],
   "source": [
    "x.append(200) #argument : 함수를 실행할 때 함수에 전달되는 인수"
   ]
  },
  {
   "cell_type": "code",
   "execution_count": 59,
   "id": "6e092136",
   "metadata": {},
   "outputs": [
    {
     "data": {
      "text/plain": [
       "[10, 30, 50, 70, 90, 100, 200, 200]"
      ]
     },
     "execution_count": 59,
     "metadata": {},
     "output_type": "execute_result"
    }
   ],
   "source": [
    "x"
   ]
  },
  {
   "cell_type": "code",
   "execution_count": 60,
   "id": "d62d22d4",
   "metadata": {},
   "outputs": [],
   "source": [
    "del x[-1]"
   ]
  },
  {
   "cell_type": "code",
   "execution_count": 61,
   "id": "25a34c60",
   "metadata": {},
   "outputs": [
    {
     "data": {
      "text/plain": [
       "[10, 30, 50, 70, 90, 100, 200]"
      ]
     },
     "execution_count": 61,
     "metadata": {},
     "output_type": "execute_result"
    }
   ],
   "source": [
    "x"
   ]
  },
  {
   "cell_type": "code",
   "execution_count": 62,
   "id": "b4fab6ff",
   "metadata": {},
   "outputs": [],
   "source": [
    "x.append([300, 400])"
   ]
  },
  {
   "cell_type": "code",
   "execution_count": 63,
   "id": "5b9e10c8",
   "metadata": {},
   "outputs": [
    {
     "data": {
      "text/plain": [
       "[10, 30, 50, 70, 90, 100, 200, [300, 400]]"
      ]
     },
     "execution_count": 63,
     "metadata": {},
     "output_type": "execute_result"
    }
   ],
   "source": [
    "x"
   ]
  },
  {
   "cell_type": "code",
   "execution_count": 64,
   "id": "e184be22",
   "metadata": {},
   "outputs": [],
   "source": [
    "del x[-1]"
   ]
  },
  {
   "cell_type": "code",
   "execution_count": 65,
   "id": "87789eae",
   "metadata": {},
   "outputs": [
    {
     "data": {
      "text/plain": [
       "[10, 30, 50, 70, 90, 100, 200]"
      ]
     },
     "execution_count": 65,
     "metadata": {},
     "output_type": "execute_result"
    }
   ],
   "source": [
    "x"
   ]
  },
  {
   "cell_type": "code",
   "execution_count": 66,
   "id": "9baf0430",
   "metadata": {},
   "outputs": [],
   "source": [
    "x.extend([300, 400]) #extend ()안에 list 형식으로 추가"
   ]
  },
  {
   "cell_type": "code",
   "execution_count": 67,
   "id": "a25b3484",
   "metadata": {},
   "outputs": [
    {
     "data": {
      "text/plain": [
       "[10, 30, 50, 70, 90, 100, 200, 300, 400]"
      ]
     },
     "execution_count": 67,
     "metadata": {},
     "output_type": "execute_result"
    }
   ],
   "source": [
    "x"
   ]
  },
  {
   "cell_type": "code",
   "execution_count": 68,
   "id": "e1d830ca",
   "metadata": {},
   "outputs": [],
   "source": [
    "x.insert(4, 80) #4번 위치에 80을 추가"
   ]
  },
  {
   "cell_type": "code",
   "execution_count": 69,
   "id": "9f340f73",
   "metadata": {},
   "outputs": [
    {
     "data": {
      "text/plain": [
       "[10, 30, 50, 70, 80, 90, 100, 200, 300, 400]"
      ]
     },
     "execution_count": 69,
     "metadata": {},
     "output_type": "execute_result"
    }
   ],
   "source": [
    "x"
   ]
  },
  {
   "cell_type": "code",
   "execution_count": 70,
   "id": "332e7358",
   "metadata": {},
   "outputs": [],
   "source": [
    "x.insert(0, 0)"
   ]
  },
  {
   "cell_type": "code",
   "execution_count": 71,
   "id": "7fb61822",
   "metadata": {},
   "outputs": [
    {
     "data": {
      "text/plain": [
       "[0, 10, 30, 50, 70, 80, 90, 100, 200, 300, 400]"
      ]
     },
     "execution_count": 71,
     "metadata": {},
     "output_type": "execute_result"
    }
   ],
   "source": [
    "x"
   ]
  },
  {
   "cell_type": "code",
   "execution_count": 72,
   "id": "d8db9fdc",
   "metadata": {},
   "outputs": [
    {
     "data": {
      "text/plain": [
       "11"
      ]
     },
     "execution_count": 72,
     "metadata": {},
     "output_type": "execute_result"
    }
   ],
   "source": [
    "len(x)"
   ]
  },
  {
   "cell_type": "code",
   "execution_count": 73,
   "id": "fc38bb76",
   "metadata": {},
   "outputs": [],
   "source": [
    "x.insert(len(x), 500)"
   ]
  },
  {
   "cell_type": "code",
   "execution_count": 74,
   "id": "b3bfe259",
   "metadata": {},
   "outputs": [
    {
     "data": {
      "text/plain": [
       "[0, 10, 30, 50, 70, 80, 90, 100, 200, 300, 400, 500]"
      ]
     },
     "execution_count": 74,
     "metadata": {},
     "output_type": "execute_result"
    }
   ],
   "source": [
    "x"
   ]
  },
  {
   "cell_type": "code",
   "execution_count": 75,
   "id": "68dd13bf",
   "metadata": {},
   "outputs": [],
   "source": [
    "x[4:4]=[55, 65]"
   ]
  },
  {
   "cell_type": "code",
   "execution_count": 76,
   "id": "91c20206",
   "metadata": {},
   "outputs": [
    {
     "data": {
      "text/plain": [
       "[0, 10, 30, 50, 55, 65, 70, 80, 90, 100, 200, 300, 400, 500]"
      ]
     },
     "execution_count": 76,
     "metadata": {},
     "output_type": "execute_result"
    }
   ],
   "source": [
    "x"
   ]
  },
  {
   "cell_type": "code",
   "execution_count": 77,
   "id": "0d2d2a5e",
   "metadata": {},
   "outputs": [],
   "source": [
    "x.reverse() #list에 저장된 자료 뒤집기"
   ]
  },
  {
   "cell_type": "code",
   "execution_count": 78,
   "id": "922ee347",
   "metadata": {},
   "outputs": [
    {
     "data": {
      "text/plain": [
       "[500, 400, 300, 200, 100, 90, 80, 70, 65, 55, 50, 30, 10, 0]"
      ]
     },
     "execution_count": 78,
     "metadata": {},
     "output_type": "execute_result"
    }
   ],
   "source": [
    "x"
   ]
  },
  {
   "cell_type": "code",
   "execution_count": 79,
   "id": "af4e034d",
   "metadata": {},
   "outputs": [
    {
     "data": {
      "text/plain": [
       "0"
      ]
     },
     "execution_count": 79,
     "metadata": {},
     "output_type": "execute_result"
    }
   ],
   "source": [
    "x.pop() #가장 마지막에 있는 데이터 요소값 삭제"
   ]
  },
  {
   "cell_type": "code",
   "execution_count": 80,
   "id": "edfba67a",
   "metadata": {},
   "outputs": [
    {
     "data": {
      "text/plain": [
       "[500, 400, 300, 200, 100, 90, 80, 70, 65, 55, 50, 30, 10]"
      ]
     },
     "execution_count": 80,
     "metadata": {},
     "output_type": "execute_result"
    }
   ],
   "source": [
    "x"
   ]
  },
  {
   "cell_type": "code",
   "execution_count": 81,
   "id": "95d47866",
   "metadata": {},
   "outputs": [
    {
     "data": {
      "text/plain": [
       "55"
      ]
     },
     "execution_count": 81,
     "metadata": {},
     "output_type": "execute_result"
    }
   ],
   "source": [
    "x.pop(-4) #index 값 주면 특정 위치 데이터 요소 삭제 가능"
   ]
  },
  {
   "cell_type": "code",
   "execution_count": 82,
   "id": "efdfacf3",
   "metadata": {},
   "outputs": [
    {
     "data": {
      "text/plain": [
       "[500, 400, 300, 200, 100, 90, 80, 70, 65, 50, 30, 10]"
      ]
     },
     "execution_count": 82,
     "metadata": {},
     "output_type": "execute_result"
    }
   ],
   "source": [
    "x"
   ]
  },
  {
   "cell_type": "code",
   "execution_count": 83,
   "id": "ef2e6974",
   "metadata": {},
   "outputs": [],
   "source": [
    "x.remove(50) #입력한 데이터 값을 찾아서 제거"
   ]
  },
  {
   "cell_type": "code",
   "execution_count": 84,
   "id": "7aaff2d6",
   "metadata": {},
   "outputs": [
    {
     "data": {
      "text/plain": [
       "[500, 400, 300, 200, 100, 90, 80, 70, 65, 30, 10]"
      ]
     },
     "execution_count": 84,
     "metadata": {},
     "output_type": "execute_result"
    }
   ],
   "source": [
    "x"
   ]
  },
  {
   "cell_type": "code",
   "execution_count": 87,
   "id": "eb675c8d",
   "metadata": {},
   "outputs": [],
   "source": [
    "x.extend([5, 1])"
   ]
  },
  {
   "cell_type": "code",
   "execution_count": 88,
   "id": "449837be",
   "metadata": {},
   "outputs": [
    {
     "data": {
      "text/plain": [
       "[500, 400, 300, 200, 100, 90, 80, 70, 65, 30, 10, 5, 1, 5, 1]"
      ]
     },
     "execution_count": 88,
     "metadata": {},
     "output_type": "execute_result"
    }
   ],
   "source": [
    "x"
   ]
  },
  {
   "cell_type": "code",
   "execution_count": 89,
   "id": "8ed25450",
   "metadata": {},
   "outputs": [
    {
     "data": {
      "text/plain": [
       "[500, 400, 300, 200, 100, 90, 80, 70, 65, 30, 10, 5, 1, 5, 1, 0, -10]"
      ]
     },
     "execution_count": 89,
     "metadata": {},
     "output_type": "execute_result"
    }
   ],
   "source": [
    "x+=[0, -10] #x = x + [0, 10]\n",
    "x"
   ]
  },
  {
   "cell_type": "code",
   "execution_count": 90,
   "id": "b264696d",
   "metadata": {},
   "outputs": [],
   "source": [
    "x.remove(5)"
   ]
  },
  {
   "cell_type": "code",
   "execution_count": 91,
   "id": "4c95278e",
   "metadata": {},
   "outputs": [
    {
     "data": {
      "text/plain": [
       "[500, 400, 300, 200, 100, 90, 80, 70, 65, 30, 10, 1, 5, 1, 0, -10]"
      ]
     },
     "execution_count": 91,
     "metadata": {},
     "output_type": "execute_result"
    }
   ],
   "source": [
    "x"
   ]
  },
  {
   "cell_type": "code",
   "execution_count": 92,
   "id": "6843add6",
   "metadata": {},
   "outputs": [
    {
     "data": {
      "text/plain": [
       "[1, 2, 3, 4, 5]"
      ]
     },
     "execution_count": 92,
     "metadata": {},
     "output_type": "execute_result"
    }
   ],
   "source": [
    "#sort() : list를 오른차순 정렬, ascending sort\n",
    "a=[5, 1, 2, 3, 4]\n",
    "a.sort()\n",
    "a"
   ]
  },
  {
   "cell_type": "code",
   "execution_count": 93,
   "id": "950b9a3a",
   "metadata": {},
   "outputs": [],
   "source": [
    "a.sort(reverse=True) #sort()를 이용해 내림차순으로 정렬하기"
   ]
  },
  {
   "cell_type": "code",
   "execution_count": 94,
   "id": "fd9138b1",
   "metadata": {},
   "outputs": [
    {
     "data": {
      "text/plain": [
       "[5, 4, 3, 2, 1]"
      ]
     },
     "execution_count": 94,
     "metadata": {},
     "output_type": "execute_result"
    }
   ],
   "source": [
    "a"
   ]
  },
  {
   "cell_type": "code",
   "execution_count": 1,
   "id": "47140e58",
   "metadata": {},
   "outputs": [
    {
     "data": {
      "text/plain": [
       "[10, 20, 30, 40, 50]"
      ]
     },
     "execution_count": 1,
     "metadata": {},
     "output_type": "execute_result"
    }
   ],
   "source": [
    "a2=[50, 30, 20, 10, 40]\n",
    "sorted(a2) #오름차순으로 정렬"
   ]
  },
  {
   "cell_type": "code",
   "execution_count": 96,
   "id": "ccc276b0",
   "metadata": {},
   "outputs": [
    {
     "data": {
      "text/plain": [
       "[50, 30, 20, 10, 40]"
      ]
     },
     "execution_count": 96,
     "metadata": {},
     "output_type": "execute_result"
    }
   ],
   "source": [
    "a2 #sort는 정렬 후 저장 sorted는 임시로 정렬 저장X"
   ]
  },
  {
   "cell_type": "code",
   "execution_count": 98,
   "id": "c34bf493",
   "metadata": {},
   "outputs": [
    {
     "data": {
      "text/plain": [
       "[10, 20, 30, 40, 50]"
      ]
     },
     "execution_count": 98,
     "metadata": {},
     "output_type": "execute_result"
    }
   ],
   "source": [
    "a3=sorted(a2) #sorted 사용 후 저장하려면 따로 지정"
   ]
  },
  {
   "cell_type": "code",
   "execution_count": 99,
   "id": "80e07937",
   "metadata": {},
   "outputs": [
    {
     "data": {
      "text/plain": [
       "[500, 400, 300, 200, 100, 90, 80, 70, 65, 30, 10, 1, 5, 1, 0, -10]"
      ]
     },
     "execution_count": 99,
     "metadata": {},
     "output_type": "execute_result"
    }
   ],
   "source": [
    "x"
   ]
  },
  {
   "cell_type": "code",
   "execution_count": 100,
   "id": "ce307a23",
   "metadata": {},
   "outputs": [],
   "source": [
    "x.remove(1)"
   ]
  },
  {
   "cell_type": "code",
   "execution_count": 101,
   "id": "cff1f6a9",
   "metadata": {},
   "outputs": [
    {
     "data": {
      "text/plain": [
       "[500, 400, 300, 200, 100, 90, 80, 70, 65, 30, 10, 5, 1, 0, -10]"
      ]
     },
     "execution_count": 101,
     "metadata": {},
     "output_type": "execute_result"
    }
   ],
   "source": [
    "x"
   ]
  },
  {
   "cell_type": "code",
   "execution_count": 102,
   "id": "07c8de7a",
   "metadata": {},
   "outputs": [],
   "source": [
    "#del x[:] 전체 삭제\n",
    "x.clear() #전체 삭제"
   ]
  },
  {
   "cell_type": "code",
   "execution_count": 103,
   "id": "a03a689e",
   "metadata": {},
   "outputs": [
    {
     "data": {
      "text/plain": [
       "[]"
      ]
     },
     "execution_count": 103,
     "metadata": {},
     "output_type": "execute_result"
    }
   ],
   "source": [
    "x"
   ]
  },
  {
   "cell_type": "code",
   "execution_count": 104,
   "id": "efd86fe9",
   "metadata": {},
   "outputs": [
    {
     "data": {
      "text/plain": [
       "0"
      ]
     },
     "execution_count": 104,
     "metadata": {},
     "output_type": "execute_result"
    }
   ],
   "source": [
    "len(x)"
   ]
  },
  {
   "cell_type": "code",
   "execution_count": 105,
   "id": "09072817",
   "metadata": {},
   "outputs": [],
   "source": [
    "a=list(range(10, 20, 2))"
   ]
  },
  {
   "cell_type": "code",
   "execution_count": 106,
   "id": "0cba6089",
   "metadata": {},
   "outputs": [
    {
     "data": {
      "text/plain": [
       "[10, 12, 14, 16, 18]"
      ]
     },
     "execution_count": 106,
     "metadata": {},
     "output_type": "execute_result"
    }
   ],
   "source": [
    "a"
   ]
  },
  {
   "cell_type": "code",
   "execution_count": 107,
   "id": "e2cb87e0",
   "metadata": {},
   "outputs": [],
   "source": [
    "b=a # a변수가 가지고 있는 list를 b도 함께 공유"
   ]
  },
  {
   "cell_type": "code",
   "execution_count": 108,
   "id": "9ee52eab",
   "metadata": {},
   "outputs": [
    {
     "data": {
      "text/plain": [
       "[10, 12, 14, 16, 18]"
      ]
     },
     "execution_count": 108,
     "metadata": {},
     "output_type": "execute_result"
    }
   ],
   "source": [
    "b"
   ]
  },
  {
   "cell_type": "code",
   "execution_count": 110,
   "id": "9c63789e",
   "metadata": {},
   "outputs": [],
   "source": [
    "b[2]=20"
   ]
  },
  {
   "cell_type": "code",
   "execution_count": 111,
   "id": "3cac72dc",
   "metadata": {},
   "outputs": [
    {
     "data": {
      "text/plain": [
       "[10, 12, 20, 16, 18]"
      ]
     },
     "execution_count": 111,
     "metadata": {},
     "output_type": "execute_result"
    }
   ],
   "source": [
    "b"
   ]
  },
  {
   "cell_type": "code",
   "execution_count": 112,
   "id": "8c4671dc",
   "metadata": {},
   "outputs": [
    {
     "data": {
      "text/plain": [
       "[10, 12, 20, 16, 18]"
      ]
     },
     "execution_count": 112,
     "metadata": {},
     "output_type": "execute_result"
    }
   ],
   "source": [
    "a"
   ]
  },
  {
   "cell_type": "code",
   "execution_count": 113,
   "id": "1a869286",
   "metadata": {},
   "outputs": [],
   "source": [
    "a2=list(range(10, 20, 2))"
   ]
  },
  {
   "cell_type": "code",
   "execution_count": 114,
   "id": "885c928a",
   "metadata": {},
   "outputs": [
    {
     "data": {
      "text/plain": [
       "[10, 12, 14, 16, 18]"
      ]
     },
     "execution_count": 114,
     "metadata": {},
     "output_type": "execute_result"
    }
   ],
   "source": [
    "a2"
   ]
  },
  {
   "cell_type": "code",
   "execution_count": 115,
   "id": "a7a4b46a",
   "metadata": {},
   "outputs": [],
   "source": [
    "b2=a2.copy() #list 공유X"
   ]
  },
  {
   "cell_type": "code",
   "execution_count": 116,
   "id": "4f7fa669",
   "metadata": {},
   "outputs": [
    {
     "data": {
      "text/plain": [
       "[10, 12, 14, 16, 18]"
      ]
     },
     "execution_count": 116,
     "metadata": {},
     "output_type": "execute_result"
    }
   ],
   "source": [
    "b2"
   ]
  },
  {
   "cell_type": "code",
   "execution_count": 117,
   "id": "436dcd73",
   "metadata": {},
   "outputs": [],
   "source": [
    "a2[2]=20"
   ]
  },
  {
   "cell_type": "code",
   "execution_count": 118,
   "id": "a5e1ade4",
   "metadata": {},
   "outputs": [
    {
     "data": {
      "text/plain": [
       "[10, 12, 20, 16, 18]"
      ]
     },
     "execution_count": 118,
     "metadata": {},
     "output_type": "execute_result"
    }
   ],
   "source": [
    "a2"
   ]
  },
  {
   "cell_type": "code",
   "execution_count": 119,
   "id": "ae6e317d",
   "metadata": {},
   "outputs": [
    {
     "data": {
      "text/plain": [
       "[10, 12, 14, 16, 18]"
      ]
     },
     "execution_count": 119,
     "metadata": {},
     "output_type": "execute_result"
    }
   ],
   "source": [
    "b2"
   ]
  },
  {
   "cell_type": "code",
   "execution_count": 120,
   "id": "e42b9d61",
   "metadata": {},
   "outputs": [
    {
     "data": {
      "text/plain": [
       "True"
      ]
     },
     "execution_count": 120,
     "metadata": {},
     "output_type": "execute_result"
    }
   ],
   "source": [
    "a is b"
   ]
  },
  {
   "cell_type": "code",
   "execution_count": 121,
   "id": "a9f067df",
   "metadata": {},
   "outputs": [
    {
     "data": {
      "text/plain": [
       "False"
      ]
     },
     "execution_count": 121,
     "metadata": {},
     "output_type": "execute_result"
    }
   ],
   "source": [
    "a2 is b2 #is 서로 같은 값을 가지고 있는 확인"
   ]
  },
  {
   "cell_type": "code",
   "execution_count": 1,
   "id": "baa909f9",
   "metadata": {},
   "outputs": [],
   "source": [
    "#tuple 읽기만 할 수 있는 list"
   ]
  },
  {
   "cell_type": "code",
   "execution_count": 2,
   "id": "891cf198",
   "metadata": {},
   "outputs": [],
   "source": [
    "a=(1, 2, 3)"
   ]
  },
  {
   "cell_type": "code",
   "execution_count": 3,
   "id": "52ce12cb",
   "metadata": {},
   "outputs": [],
   "source": [
    "a2=('kim', 10, 20)"
   ]
  },
  {
   "cell_type": "code",
   "execution_count": 6,
   "id": "1b86e64e",
   "metadata": {},
   "outputs": [],
   "source": [
    "a3=(10) #값이 저장됨 튜플 아님\n",
    "a4=(10,) #tuple"
   ]
  },
  {
   "cell_type": "code",
   "execution_count": 5,
   "id": "eae66dd4",
   "metadata": {},
   "outputs": [
    {
     "data": {
      "text/plain": [
       "10"
      ]
     },
     "execution_count": 5,
     "metadata": {},
     "output_type": "execute_result"
    }
   ],
   "source": [
    "a3"
   ]
  },
  {
   "cell_type": "code",
   "execution_count": 7,
   "id": "57071e50",
   "metadata": {},
   "outputs": [
    {
     "data": {
      "text/plain": [
       "(10,)"
      ]
     },
     "execution_count": 7,
     "metadata": {},
     "output_type": "execute_result"
    }
   ],
   "source": [
    "a4"
   ]
  },
  {
   "cell_type": "code",
   "execution_count": 8,
   "id": "7112a625",
   "metadata": {},
   "outputs": [
    {
     "data": {
      "text/plain": [
       "('kim', 10, 20)"
      ]
     },
     "execution_count": 8,
     "metadata": {},
     "output_type": "execute_result"
    }
   ],
   "source": [
    "a2"
   ]
  },
  {
   "cell_type": "code",
   "execution_count": 9,
   "id": "8b3d2d68",
   "metadata": {},
   "outputs": [
    {
     "ename": "TypeError",
     "evalue": "'tuple' object doesn't support item deletion",
     "output_type": "error",
     "traceback": [
      "\u001b[1;31m---------------------------------------------------------------------------\u001b[0m",
      "\u001b[1;31mTypeError\u001b[0m                                 Traceback (most recent call last)",
      "Cell \u001b[1;32mIn[9], line 1\u001b[0m\n\u001b[1;32m----> 1\u001b[0m \u001b[38;5;28;01mdel\u001b[39;00m a2[\u001b[38;5;241m1\u001b[39m]\n",
      "\u001b[1;31mTypeError\u001b[0m: 'tuple' object doesn't support item deletion"
     ]
    }
   ],
   "source": [
    "del a2[1] #tuple 구조는 한 번 저장된 요소가 변경 안됨"
   ]
  },
  {
   "cell_type": "code",
   "execution_count": 10,
   "id": "78726530",
   "metadata": {},
   "outputs": [
    {
     "ename": "TypeError",
     "evalue": "'tuple' object does not support item assignment",
     "output_type": "error",
     "traceback": [
      "\u001b[1;31m---------------------------------------------------------------------------\u001b[0m",
      "\u001b[1;31mTypeError\u001b[0m                                 Traceback (most recent call last)",
      "Cell \u001b[1;32mIn[10], line 1\u001b[0m\n\u001b[1;32m----> 1\u001b[0m a2[\u001b[38;5;241m1\u001b[39m]\u001b[38;5;241m=\u001b[39m\u001b[38;5;241m100\u001b[39m\n",
      "\u001b[1;31mTypeError\u001b[0m: 'tuple' object does not support item assignment"
     ]
    }
   ],
   "source": [
    "a2[1]=100"
   ]
  },
  {
   "cell_type": "code",
   "execution_count": 11,
   "id": "e8a4e86b",
   "metadata": {},
   "outputs": [],
   "source": [
    "t=tuple(range(5))"
   ]
  },
  {
   "cell_type": "code",
   "execution_count": 12,
   "id": "c2ff95e7",
   "metadata": {},
   "outputs": [
    {
     "data": {
      "text/plain": [
       "(0, 1, 2, 3, 4)"
      ]
     },
     "execution_count": 12,
     "metadata": {},
     "output_type": "execute_result"
    }
   ],
   "source": [
    "t"
   ]
  },
  {
   "cell_type": "code",
   "execution_count": 13,
   "id": "8f4d298f",
   "metadata": {},
   "outputs": [
    {
     "data": {
      "text/plain": [
       "[0, 1, 2, 3, 4]"
      ]
     },
     "execution_count": 13,
     "metadata": {},
     "output_type": "execute_result"
    }
   ],
   "source": [
    "list(t) #tuple을 list 함수로 변경"
   ]
  },
  {
   "cell_type": "code",
   "execution_count": 14,
   "id": "1de827d3",
   "metadata": {},
   "outputs": [
    {
     "data": {
      "text/plain": [
       "(0, 1, 2, 3, 4)"
      ]
     },
     "execution_count": 14,
     "metadata": {},
     "output_type": "execute_result"
    }
   ],
   "source": [
    "tuple(list(t)) #list 함수를 tuple로 변경"
   ]
  },
  {
   "cell_type": "code",
   "execution_count": 17,
   "id": "c0e3cdea",
   "metadata": {},
   "outputs": [],
   "source": [
    "x,y,z=1,2,3\n",
    "x,y,z=[1,2,3]\n",
    "x,y,z=(1,2,3)"
   ]
  },
  {
   "cell_type": "code",
   "execution_count": 16,
   "id": "60a01af1",
   "metadata": {},
   "outputs": [
    {
     "data": {
      "text/plain": [
       "1"
      ]
     },
     "execution_count": 16,
     "metadata": {},
     "output_type": "execute_result"
    }
   ],
   "source": [
    "x"
   ]
  },
  {
   "cell_type": "code",
   "execution_count": 18,
   "id": "e74b434a",
   "metadata": {},
   "outputs": [
    {
     "data": {
      "text/plain": [
       "1"
      ]
     },
     "execution_count": 18,
     "metadata": {},
     "output_type": "execute_result"
    }
   ],
   "source": [
    "x"
   ]
  },
  {
   "cell_type": "code",
   "execution_count": 19,
   "id": "84581f0d",
   "metadata": {},
   "outputs": [],
   "source": [
    "x=[1,2,3]"
   ]
  },
  {
   "cell_type": "code",
   "execution_count": 20,
   "id": "955ad581",
   "metadata": {},
   "outputs": [],
   "source": [
    "x1,x2,x3=x"
   ]
  },
  {
   "cell_type": "code",
   "execution_count": 21,
   "id": "ba952227",
   "metadata": {},
   "outputs": [
    {
     "data": {
      "text/plain": [
       "1"
      ]
     },
     "execution_count": 21,
     "metadata": {},
     "output_type": "execute_result"
    }
   ],
   "source": [
    "x1"
   ]
  },
  {
   "cell_type": "code",
   "execution_count": 22,
   "id": "52207f30",
   "metadata": {},
   "outputs": [
    {
     "data": {
      "text/plain": [
       "2"
      ]
     },
     "execution_count": 22,
     "metadata": {},
     "output_type": "execute_result"
    }
   ],
   "source": [
    "x2"
   ]
  },
  {
   "cell_type": "code",
   "execution_count": 23,
   "id": "348fb8d1",
   "metadata": {},
   "outputs": [
    {
     "data": {
      "text/plain": [
       "3"
      ]
     },
     "execution_count": 23,
     "metadata": {},
     "output_type": "execute_result"
    }
   ],
   "source": [
    "x3"
   ]
  },
  {
   "cell_type": "code",
   "execution_count": 26,
   "id": "39860b53",
   "metadata": {},
   "outputs": [
    {
     "name": "stdout",
     "output_type": "stream",
     "text": [
      "10 20\n"
     ]
    },
    {
     "data": {
      "text/plain": [
       "'10 20'"
      ]
     },
     "execution_count": 26,
     "metadata": {},
     "output_type": "execute_result"
    }
   ],
   "source": [
    "input()"
   ]
  },
  {
   "cell_type": "code",
   "execution_count": 27,
   "id": "8e39244d",
   "metadata": {},
   "outputs": [
    {
     "name": "stdout",
     "output_type": "stream",
     "text": [
      "10 20\n"
     ]
    },
    {
     "data": {
      "text/plain": [
       "['10', '20']"
      ]
     },
     "execution_count": 27,
     "metadata": {},
     "output_type": "execute_result"
    }
   ],
   "source": [
    "input().split()"
   ]
  },
  {
   "cell_type": "code",
   "execution_count": 28,
   "id": "0f9c13cb",
   "metadata": {},
   "outputs": [
    {
     "name": "stdout",
     "output_type": "stream",
     "text": [
      "10 20\n"
     ]
    }
   ],
   "source": [
    "a1,a2=input().split()"
   ]
  },
  {
   "cell_type": "code",
   "execution_count": 29,
   "id": "2a86899c",
   "metadata": {},
   "outputs": [
    {
     "data": {
      "text/plain": [
       "'10'"
      ]
     },
     "execution_count": 29,
     "metadata": {},
     "output_type": "execute_result"
    }
   ],
   "source": [
    "a1"
   ]
  },
  {
   "cell_type": "code",
   "execution_count": 30,
   "id": "9f51203d",
   "metadata": {},
   "outputs": [
    {
     "data": {
      "text/plain": [
       "'20'"
      ]
     },
     "execution_count": 30,
     "metadata": {},
     "output_type": "execute_result"
    }
   ],
   "source": [
    "a2"
   ]
  },
  {
   "cell_type": "code",
   "execution_count": 31,
   "id": "ba829f6d",
   "metadata": {},
   "outputs": [
    {
     "data": {
      "text/plain": [
       "11"
      ]
     },
     "execution_count": 31,
     "metadata": {},
     "output_type": "execute_result"
    }
   ],
   "source": [
    "int(a1)+1 #문자열을 숫자로 바꿔주는 int()"
   ]
  },
  {
   "cell_type": "code",
   "execution_count": 32,
   "id": "260a92ce",
   "metadata": {},
   "outputs": [
    {
     "data": {
      "text/plain": [
       "True"
      ]
     },
     "execution_count": 32,
     "metadata": {},
     "output_type": "execute_result"
    }
   ],
   "source": [
    "10 in [10,20,30] #list 안에 10이 있습니까"
   ]
  },
  {
   "cell_type": "code",
   "execution_count": 33,
   "id": "53a9697a",
   "metadata": {},
   "outputs": [
    {
     "data": {
      "text/plain": [
       "False"
      ]
     },
     "execution_count": 33,
     "metadata": {},
     "output_type": "execute_result"
    }
   ],
   "source": [
    "40 in [10,20,30]"
   ]
  },
  {
   "cell_type": "code",
   "execution_count": 34,
   "id": "f05fb611",
   "metadata": {},
   "outputs": [
    {
     "data": {
      "text/plain": [
       "True"
      ]
     },
     "execution_count": 34,
     "metadata": {},
     "output_type": "execute_result"
    }
   ],
   "source": [
    "100 not in [10,20,30] #list 안에 100이 없습니까"
   ]
  },
  {
   "cell_type": "code",
   "execution_count": 35,
   "id": "329217ab",
   "metadata": {},
   "outputs": [
    {
     "data": {
      "text/plain": [
       "True"
      ]
     },
     "execution_count": 35,
     "metadata": {},
     "output_type": "execute_result"
    }
   ],
   "source": [
    "10 in (10,20,30)"
   ]
  },
  {
   "cell_type": "code",
   "execution_count": 36,
   "id": "d61b093b",
   "metadata": {},
   "outputs": [
    {
     "data": {
      "text/plain": [
       "True"
      ]
     },
     "execution_count": 36,
     "metadata": {},
     "output_type": "execute_result"
    }
   ],
   "source": [
    "40 not in (10,20,30)"
   ]
  },
  {
   "cell_type": "code",
   "execution_count": 37,
   "id": "268d2e0e",
   "metadata": {},
   "outputs": [
    {
     "data": {
      "text/plain": [
       "True"
      ]
     },
     "execution_count": 37,
     "metadata": {},
     "output_type": "execute_result"
    }
   ],
   "source": [
    "10 in range(10,40,10)"
   ]
  },
  {
   "cell_type": "code",
   "execution_count": 40,
   "id": "d3f150da",
   "metadata": {},
   "outputs": [
    {
     "data": {
      "text/plain": [
       "False"
      ]
     },
     "execution_count": 40,
     "metadata": {},
     "output_type": "execute_result"
    }
   ],
   "source": [
    "'a' in \"hi hello\""
   ]
  },
  {
   "cell_type": "code",
   "execution_count": 42,
   "id": "173e8a08",
   "metadata": {},
   "outputs": [
    {
     "data": {
      "text/plain": [
       "True"
      ]
     },
     "execution_count": 42,
     "metadata": {},
     "output_type": "execute_result"
    }
   ],
   "source": [
    "'hi' in \"hi hello\""
   ]
  },
  {
   "cell_type": "code",
   "execution_count": 45,
   "id": "2b000706",
   "metadata": {},
   "outputs": [
    {
     "data": {
      "text/plain": [
       "[0, 1, 2, 3, 4]"
      ]
     },
     "execution_count": 45,
     "metadata": {},
     "output_type": "execute_result"
    }
   ],
   "source": [
    "list(range(0,5))"
   ]
  },
  {
   "cell_type": "code",
   "execution_count": 46,
   "id": "751f965b",
   "metadata": {},
   "outputs": [
    {
     "data": {
      "text/plain": [
       "[5, 6, 7, 8, 9]"
      ]
     },
     "execution_count": 46,
     "metadata": {},
     "output_type": "execute_result"
    }
   ],
   "source": [
    "list(range(5,10))"
   ]
  },
  {
   "cell_type": "code",
   "execution_count": 47,
   "id": "8cab3107",
   "metadata": {},
   "outputs": [
    {
     "data": {
      "text/plain": [
       "[0, 1, 2, 3, 4, 5, 6, 7, 8, 9]"
      ]
     },
     "execution_count": 47,
     "metadata": {},
     "output_type": "execute_result"
    }
   ],
   "source": [
    "list(range(0,5))+list(range(5,10))"
   ]
  },
  {
   "cell_type": "code",
   "execution_count": 48,
   "id": "e37758c7",
   "metadata": {},
   "outputs": [
    {
     "data": {
      "text/plain": [
       "'hihello'"
      ]
     },
     "execution_count": 48,
     "metadata": {},
     "output_type": "execute_result"
    }
   ],
   "source": [
    "\"hi\"+\"hello\""
   ]
  },
  {
   "cell_type": "code",
   "execution_count": 49,
   "id": "c14d1731",
   "metadata": {},
   "outputs": [
    {
     "ename": "TypeError",
     "evalue": "can only concatenate str (not \"int\") to str",
     "output_type": "error",
     "traceback": [
      "\u001b[1;31m---------------------------------------------------------------------------\u001b[0m",
      "\u001b[1;31mTypeError\u001b[0m                                 Traceback (most recent call last)",
      "Cell \u001b[1;32mIn[49], line 1\u001b[0m\n\u001b[1;32m----> 1\u001b[0m \u001b[38;5;124m\"\u001b[39m\u001b[38;5;124mhi\u001b[39m\u001b[38;5;124m\"\u001b[39m\u001b[38;5;241m+\u001b[39m\u001b[38;5;241m1\u001b[39m\n",
      "\u001b[1;31mTypeError\u001b[0m: can only concatenate str (not \"int\") to str"
     ]
    }
   ],
   "source": [
    "\"hi\"+1"
   ]
  },
  {
   "cell_type": "code",
   "execution_count": 50,
   "id": "a0a37c89",
   "metadata": {},
   "outputs": [
    {
     "data": {
      "text/plain": [
       "'hi1'"
      ]
     },
     "execution_count": 50,
     "metadata": {},
     "output_type": "execute_result"
    }
   ],
   "source": [
    "\"hi\"+\"1\""
   ]
  },
  {
   "cell_type": "code",
   "execution_count": 51,
   "id": "f8626188",
   "metadata": {},
   "outputs": [
    {
     "data": {
      "text/plain": [
       "'hi1'"
      ]
     },
     "execution_count": 51,
     "metadata": {},
     "output_type": "execute_result"
    }
   ],
   "source": [
    "\"hi\"+str(1) #str 문자로 변경 함수"
   ]
  },
  {
   "cell_type": "code",
   "execution_count": 52,
   "id": "96afba7a",
   "metadata": {},
   "outputs": [
    {
     "data": {
      "text/plain": [
       "'hi1.5'"
      ]
     },
     "execution_count": 52,
     "metadata": {},
     "output_type": "execute_result"
    }
   ],
   "source": [
    "\"hi\"+str(1.5)"
   ]
  },
  {
   "cell_type": "code",
   "execution_count": 53,
   "id": "61713016",
   "metadata": {},
   "outputs": [
    {
     "data": {
      "text/plain": [
       "5"
      ]
     },
     "execution_count": 53,
     "metadata": {},
     "output_type": "execute_result"
    }
   ],
   "source": [
    "len(\"hello\")"
   ]
  },
  {
   "cell_type": "code",
   "execution_count": 54,
   "id": "2f71224c",
   "metadata": {},
   "outputs": [
    {
     "data": {
      "text/plain": [
       "5"
      ]
     },
     "execution_count": 54,
     "metadata": {},
     "output_type": "execute_result"
    }
   ],
   "source": [
    "len(\"안녕하세요\")"
   ]
  },
  {
   "cell_type": "code",
   "execution_count": 55,
   "id": "6687cea6",
   "metadata": {},
   "outputs": [
    {
     "data": {
      "text/plain": [
       "5"
      ]
     },
     "execution_count": 55,
     "metadata": {},
     "output_type": "execute_result"
    }
   ],
   "source": [
    "len(\"hello\".encode('utf-8'))"
   ]
  },
  {
   "cell_type": "code",
   "execution_count": 56,
   "id": "0cab3ad1",
   "metadata": {},
   "outputs": [
    {
     "data": {
      "text/plain": [
       "15"
      ]
     },
     "execution_count": 56,
     "metadata": {},
     "output_type": "execute_result"
    }
   ],
   "source": [
    "len(\"안녕하세요\".encode('utf-8')) #byte 확인, 한글은 1글자에 3byte"
   ]
  },
  {
   "cell_type": "code",
   "execution_count": 68,
   "id": "dddbc69d",
   "metadata": {},
   "outputs": [],
   "source": [
    "x=list(range(1,10,2))"
   ]
  },
  {
   "cell_type": "code",
   "execution_count": 69,
   "id": "99275e75",
   "metadata": {},
   "outputs": [
    {
     "data": {
      "text/plain": [
       "[1, 3, 5, 7, 9]"
      ]
     },
     "execution_count": 69,
     "metadata": {},
     "output_type": "execute_result"
    }
   ],
   "source": [
    "x"
   ]
  },
  {
   "cell_type": "code",
   "execution_count": 72,
   "id": "aeb86e9d",
   "metadata": {},
   "outputs": [],
   "source": [
    "x[1:3]=['a','b']"
   ]
  },
  {
   "cell_type": "code",
   "execution_count": 73,
   "id": "b8f1f6a9",
   "metadata": {},
   "outputs": [
    {
     "data": {
      "text/plain": [
       "[1, 'a', 'b', 9]"
      ]
     },
     "execution_count": 73,
     "metadata": {},
     "output_type": "execute_result"
    }
   ],
   "source": [
    "x"
   ]
  },
  {
   "cell_type": "code",
   "execution_count": 74,
   "id": "faeabcb4",
   "metadata": {},
   "outputs": [],
   "source": [
    "x[1:5:2]=['i','j']"
   ]
  },
  {
   "cell_type": "code",
   "execution_count": 75,
   "id": "5bf36aab",
   "metadata": {},
   "outputs": [
    {
     "data": {
      "text/plain": [
       "[1, 'i', 'b', 'j']"
      ]
     },
     "execution_count": 75,
     "metadata": {},
     "output_type": "execute_result"
    }
   ],
   "source": [
    "x"
   ]
  },
  {
   "cell_type": "code",
   "execution_count": null,
   "id": "832016dc",
   "metadata": {},
   "outputs": [],
   "source": [
    "#dictionary : {키:값, 키:값, ...}"
   ]
  },
  {
   "cell_type": "code",
   "execution_count": 77,
   "id": "e6cba429",
   "metadata": {},
   "outputs": [
    {
     "data": {
      "text/plain": [
       "50"
      ]
     },
     "execution_count": 77,
     "metadata": {},
     "output_type": "execute_result"
    }
   ],
   "source": [
    "score={'kor':100,'eng':90,'mat':80, 'kor':50}\n",
    "score['kor'] # 키 이름이 중복됬을 경우 마지막 값이 출력"
   ]
  },
  {
   "cell_type": "code",
   "execution_count": 78,
   "id": "994201d5",
   "metadata": {},
   "outputs": [
    {
     "data": {
      "text/plain": [
       "[100, 50]"
      ]
     },
     "execution_count": 78,
     "metadata": {},
     "output_type": "execute_result"
    }
   ],
   "source": [
    "score={'kor':[100,50],'eng':90,'mat':80}\n",
    "score['kor']"
   ]
  },
  {
   "cell_type": "code",
   "execution_count": 79,
   "id": "55a8cffb",
   "metadata": {},
   "outputs": [
    {
     "data": {
      "text/plain": [
       "100"
      ]
     },
     "execution_count": 79,
     "metadata": {},
     "output_type": "execute_result"
    }
   ],
   "source": [
    "score['kor'][0]"
   ]
  },
  {
   "cell_type": "code",
   "execution_count": 81,
   "id": "37cf9d45",
   "metadata": {},
   "outputs": [
    {
     "data": {
      "text/plain": [
       "50"
      ]
     },
     "execution_count": 81,
     "metadata": {},
     "output_type": "execute_result"
    }
   ],
   "source": [
    "score['kor'][1]"
   ]
  },
  {
   "cell_type": "code",
   "execution_count": 82,
   "id": "3d1329da",
   "metadata": {},
   "outputs": [],
   "source": [
    "score={'kor':[100,50,True],'eng':90,'mat':80}"
   ]
  },
  {
   "cell_type": "code",
   "execution_count": 83,
   "id": "fc8965a5",
   "metadata": {},
   "outputs": [],
   "source": [
    "d=dict() #dictionary 함수"
   ]
  },
  {
   "cell_type": "code",
   "execution_count": 84,
   "id": "66460c89",
   "metadata": {},
   "outputs": [
    {
     "data": {
      "text/plain": [
       "{}"
      ]
     },
     "execution_count": 84,
     "metadata": {},
     "output_type": "execute_result"
    }
   ],
   "source": [
    "d"
   ]
  },
  {
   "cell_type": "code",
   "execution_count": 85,
   "id": "d99faaf4",
   "metadata": {},
   "outputs": [],
   "source": [
    "d2={}"
   ]
  },
  {
   "cell_type": "code",
   "execution_count": 86,
   "id": "518cd66b",
   "metadata": {},
   "outputs": [
    {
     "data": {
      "text/plain": [
       "{}"
      ]
     },
     "execution_count": 86,
     "metadata": {},
     "output_type": "execute_result"
    }
   ],
   "source": [
    "d2"
   ]
  },
  {
   "cell_type": "code",
   "execution_count": 87,
   "id": "95897a5c",
   "metadata": {},
   "outputs": [],
   "source": [
    "d=dict(kor=100, eng=100, mat=100)"
   ]
  },
  {
   "cell_type": "code",
   "execution_count": 88,
   "id": "0dcd0d75",
   "metadata": {},
   "outputs": [
    {
     "data": {
      "text/plain": [
       "{'kor': 100, 'eng': 100, 'mat': 100}"
      ]
     },
     "execution_count": 88,
     "metadata": {},
     "output_type": "execute_result"
    }
   ],
   "source": [
    "d"
   ]
  },
  {
   "cell_type": "code",
   "execution_count": 89,
   "id": "eddee6be",
   "metadata": {},
   "outputs": [
    {
     "data": {
      "text/plain": [
       "<zip at 0x16200023840>"
      ]
     },
     "execution_count": 89,
     "metadata": {},
     "output_type": "execute_result"
    }
   ],
   "source": [
    "[1,2,3]\n",
    "[10,20,30]\n",
    "zip([1,2,3],[10,20,30])"
   ]
  },
  {
   "cell_type": "code",
   "execution_count": 90,
   "id": "7208548a",
   "metadata": {},
   "outputs": [
    {
     "data": {
      "text/plain": [
       "[(1, 10), (2, 20), (3, 30)]"
      ]
     },
     "execution_count": 90,
     "metadata": {},
     "output_type": "execute_result"
    }
   ],
   "source": [
    "list(zip([1,2,3],[10,20,30])) #전체 데이터 구조 list, 각 요소는 tuple"
   ]
  },
  {
   "cell_type": "code",
   "execution_count": 91,
   "id": "77aaa6d3",
   "metadata": {},
   "outputs": [
    {
     "data": {
      "text/plain": [
       "(2, 20)"
      ]
     },
     "execution_count": 91,
     "metadata": {},
     "output_type": "execute_result"
    }
   ],
   "source": [
    "list(zip([1,2,3],[10,20,30]))[1]"
   ]
  },
  {
   "cell_type": "code",
   "execution_count": 92,
   "id": "3844067e",
   "metadata": {},
   "outputs": [
    {
     "data": {
      "text/plain": [
       "20"
      ]
     },
     "execution_count": 92,
     "metadata": {},
     "output_type": "execute_result"
    }
   ],
   "source": [
    "list(zip([1,2,3],[10,20,30]))[1][1]"
   ]
  },
  {
   "cell_type": "code",
   "execution_count": 93,
   "id": "2f77ae49",
   "metadata": {},
   "outputs": [
    {
     "data": {
      "text/plain": [
       "{'kor': 100, 'mat': 90, 'eng': 80}"
      ]
     },
     "execution_count": 93,
     "metadata": {},
     "output_type": "execute_result"
    }
   ],
   "source": [
    "dict(zip(['kor','mat','eng'],[100,90,80]))"
   ]
  },
  {
   "cell_type": "code",
   "execution_count": 94,
   "id": "1721ccf9",
   "metadata": {},
   "outputs": [
    {
     "data": {
      "text/plain": [
       "[('kor', 100), ('mat', 90), ('eng', 80)]"
      ]
     },
     "execution_count": 94,
     "metadata": {},
     "output_type": "execute_result"
    }
   ],
   "source": [
    "list(zip(['kor','mat','eng'],[100,90,80]))"
   ]
  },
  {
   "cell_type": "code",
   "execution_count": 95,
   "id": "b61084b2",
   "metadata": {},
   "outputs": [],
   "source": [
    "score=dict(zip(['kor','mat','eng'],[100,90,80]))"
   ]
  },
  {
   "cell_type": "code",
   "execution_count": 96,
   "id": "787434d7",
   "metadata": {},
   "outputs": [
    {
     "data": {
      "text/plain": [
       "{'kor': 100, 'mat': 90, 'eng': 80}"
      ]
     },
     "execution_count": 96,
     "metadata": {},
     "output_type": "execute_result"
    }
   ],
   "source": [
    "score"
   ]
  },
  {
   "cell_type": "code",
   "execution_count": 97,
   "id": "69f70e26",
   "metadata": {},
   "outputs": [
    {
     "data": {
      "text/plain": [
       "90"
      ]
     },
     "execution_count": 97,
     "metadata": {},
     "output_type": "execute_result"
    }
   ],
   "source": [
    "score['mat']"
   ]
  },
  {
   "cell_type": "code",
   "execution_count": 98,
   "id": "a11663d9",
   "metadata": {},
   "outputs": [],
   "source": [
    "score['mat']=95"
   ]
  },
  {
   "cell_type": "code",
   "execution_count": 99,
   "id": "478a09e9",
   "metadata": {},
   "outputs": [
    {
     "data": {
      "text/plain": [
       "95"
      ]
     },
     "execution_count": 99,
     "metadata": {},
     "output_type": "execute_result"
    }
   ],
   "source": [
    "score['mat']"
   ]
  },
  {
   "cell_type": "code",
   "execution_count": 100,
   "id": "7ccbd608",
   "metadata": {},
   "outputs": [],
   "source": [
    "score['ds']=100"
   ]
  },
  {
   "cell_type": "code",
   "execution_count": 101,
   "id": "b68729df",
   "metadata": {},
   "outputs": [
    {
     "data": {
      "text/plain": [
       "{'kor': 100, 'mat': 95, 'eng': 80, 'ds': 100}"
      ]
     },
     "execution_count": 101,
     "metadata": {},
     "output_type": "execute_result"
    }
   ],
   "source": [
    "score"
   ]
  },
  {
   "cell_type": "code",
   "execution_count": 102,
   "id": "9bbb4b72",
   "metadata": {},
   "outputs": [
    {
     "ename": "KeyError",
     "evalue": "'pr'",
     "output_type": "error",
     "traceback": [
      "\u001b[1;31m---------------------------------------------------------------------------\u001b[0m",
      "\u001b[1;31mKeyError\u001b[0m                                  Traceback (most recent call last)",
      "Cell \u001b[1;32mIn[102], line 1\u001b[0m\n\u001b[1;32m----> 1\u001b[0m score[\u001b[38;5;124m'\u001b[39m\u001b[38;5;124mpr\u001b[39m\u001b[38;5;124m'\u001b[39m]\n",
      "\u001b[1;31mKeyError\u001b[0m: 'pr'"
     ]
    }
   ],
   "source": [
    "score['pr'] #존재하지 않은 키 입력시 KeyError"
   ]
  },
  {
   "cell_type": "code",
   "execution_count": 104,
   "id": "9334dc90",
   "metadata": {},
   "outputs": [
    {
     "data": {
      "text/plain": [
       "True"
      ]
     },
     "execution_count": 104,
     "metadata": {},
     "output_type": "execute_result"
    }
   ],
   "source": [
    "'kor' in score"
   ]
  },
  {
   "cell_type": "code",
   "execution_count": 105,
   "id": "f1dabab6",
   "metadata": {},
   "outputs": [
    {
     "data": {
      "text/plain": [
       "False"
      ]
     },
     "execution_count": 105,
     "metadata": {},
     "output_type": "execute_result"
    }
   ],
   "source": [
    "'pr' in score"
   ]
  },
  {
   "cell_type": "code",
   "execution_count": 106,
   "id": "4e77169f",
   "metadata": {},
   "outputs": [
    {
     "data": {
      "text/plain": [
       "True"
      ]
     },
     "execution_count": 106,
     "metadata": {},
     "output_type": "execute_result"
    }
   ],
   "source": [
    "'pr' not in score"
   ]
  },
  {
   "cell_type": "code",
   "execution_count": 107,
   "id": "758767d8",
   "metadata": {},
   "outputs": [
    {
     "data": {
      "text/plain": [
       "4"
      ]
     },
     "execution_count": 107,
     "metadata": {},
     "output_type": "execute_result"
    }
   ],
   "source": [
    "len(score)"
   ]
  },
  {
   "cell_type": "code",
   "execution_count": 108,
   "id": "ca1dc88f",
   "metadata": {},
   "outputs": [],
   "source": [
    "d=dict(kor=100, eng=100, mat=100, test=[50,100])"
   ]
  },
  {
   "cell_type": "code",
   "execution_count": 109,
   "id": "314218ca",
   "metadata": {},
   "outputs": [
    {
     "data": {
      "text/plain": [
       "{'kor': 100, 'eng': 100, 'mat': 100, 'test': [50, 100]}"
      ]
     },
     "execution_count": 109,
     "metadata": {},
     "output_type": "execute_result"
    }
   ],
   "source": [
    "d"
   ]
  },
  {
   "cell_type": "code",
   "execution_count": 110,
   "id": "2a288c1c",
   "metadata": {},
   "outputs": [],
   "source": [
    "d=dict(kor=100, eng=100, mat=100, test={'f':50,'s':100})"
   ]
  },
  {
   "cell_type": "code",
   "execution_count": 111,
   "id": "b1d81c17",
   "metadata": {},
   "outputs": [
    {
     "data": {
      "text/plain": [
       "{'kor': 100, 'eng': 100, 'mat': 100, 'test': {'f': 50, 's': 100}}"
      ]
     },
     "execution_count": 111,
     "metadata": {},
     "output_type": "execute_result"
    }
   ],
   "source": [
    "d"
   ]
  },
  {
   "cell_type": "code",
   "execution_count": 112,
   "id": "b37f2e34",
   "metadata": {},
   "outputs": [
    {
     "data": {
      "text/plain": [
       "{'f': 50, 's': 100}"
      ]
     },
     "execution_count": 112,
     "metadata": {},
     "output_type": "execute_result"
    }
   ],
   "source": [
    "d['test']"
   ]
  },
  {
   "cell_type": "code",
   "execution_count": 113,
   "id": "0c3f9801",
   "metadata": {},
   "outputs": [
    {
     "data": {
      "text/plain": [
       "100"
      ]
     },
     "execution_count": 113,
     "metadata": {},
     "output_type": "execute_result"
    }
   ],
   "source": [
    "d['test']['s']"
   ]
  },
  {
   "cell_type": "code",
   "execution_count": 114,
   "id": "8a2dfa76",
   "metadata": {},
   "outputs": [
    {
     "data": {
      "text/plain": [
       "dict_items([('kor', 100), ('eng', 100), ('mat', 100), ('test', {'f': 50, 's': 100})])"
      ]
     },
     "execution_count": 114,
     "metadata": {},
     "output_type": "execute_result"
    }
   ],
   "source": [
    "d.items()"
   ]
  },
  {
   "cell_type": "code",
   "execution_count": 115,
   "id": "e4ade109",
   "metadata": {},
   "outputs": [
    {
     "data": {
      "text/plain": [
       "dict_keys(['kor', 'eng', 'mat', 'test'])"
      ]
     },
     "execution_count": 115,
     "metadata": {},
     "output_type": "execute_result"
    }
   ],
   "source": [
    "d.keys()"
   ]
  },
  {
   "cell_type": "code",
   "execution_count": 116,
   "id": "381df0b7",
   "metadata": {},
   "outputs": [
    {
     "data": {
      "text/plain": [
       "dict_values([100, 100, 100, {'f': 50, 's': 100}])"
      ]
     },
     "execution_count": 116,
     "metadata": {},
     "output_type": "execute_result"
    }
   ],
   "source": [
    "d.values()"
   ]
  },
  {
   "cell_type": "code",
   "execution_count": 117,
   "id": "5c27c09d",
   "metadata": {},
   "outputs": [
    {
     "data": {
      "text/plain": [
       "[100, 100, 100, {'f': 50, 's': 100}]"
      ]
     },
     "execution_count": 117,
     "metadata": {},
     "output_type": "execute_result"
    }
   ],
   "source": [
    "list(d.values())"
   ]
  },
  {
   "cell_type": "code",
   "execution_count": 118,
   "id": "6b8b3f17",
   "metadata": {},
   "outputs": [
    {
     "data": {
      "text/plain": [
       "100"
      ]
     },
     "execution_count": 118,
     "metadata": {},
     "output_type": "execute_result"
    }
   ],
   "source": [
    "list(d.values())[0] #list로 변환해야 참조 가능"
   ]
  },
  {
   "cell_type": "code",
   "execution_count": 120,
   "id": "1dc8a850",
   "metadata": {},
   "outputs": [
    {
     "name": "stdout",
     "output_type": "stream",
     "text": [
      "('kor', 100)\n",
      "('eng', 100)\n",
      "('mat', 100)\n",
      "('test', {'f': 50, 's': 100})\n"
     ]
    }
   ],
   "source": [
    "for i in d.items():\n",
    "    print(i)"
   ]
  },
  {
   "cell_type": "code",
   "execution_count": 123,
   "id": "93ba09c9",
   "metadata": {},
   "outputs": [
    {
     "name": "stdout",
     "output_type": "stream",
     "text": [
      "1\n",
      "2\n",
      "3\n",
      "4\n",
      "5\n",
      "6\n",
      "7\n",
      "8\n",
      "9\n",
      "10\n",
      "11\n",
      "12\n",
      "13\n",
      "14\n",
      "15\n",
      "16\n",
      "17\n",
      "18\n",
      "19\n",
      "20\n",
      "21\n",
      "22\n",
      "23\n",
      "24\n",
      "25\n",
      "26\n",
      "27\n",
      "28\n",
      "29\n",
      "30\n",
      "31\n",
      "32\n",
      "33\n",
      "34\n",
      "35\n",
      "36\n",
      "37\n",
      "38\n",
      "39\n",
      "40\n",
      "41\n",
      "42\n",
      "43\n",
      "44\n",
      "45\n",
      "46\n",
      "47\n",
      "48\n",
      "49\n",
      "50\n",
      "51\n",
      "52\n",
      "53\n",
      "54\n",
      "55\n",
      "56\n",
      "57\n",
      "58\n",
      "59\n",
      "60\n",
      "61\n",
      "62\n",
      "63\n",
      "64\n",
      "65\n",
      "66\n",
      "67\n",
      "68\n",
      "69\n",
      "70\n",
      "71\n",
      "72\n",
      "73\n",
      "74\n",
      "75\n",
      "76\n",
      "77\n",
      "78\n",
      "79\n",
      "80\n",
      "81\n",
      "82\n",
      "83\n",
      "84\n",
      "85\n",
      "86\n",
      "87\n",
      "88\n",
      "89\n",
      "90\n",
      "91\n",
      "92\n",
      "93\n",
      "94\n",
      "95\n",
      "96\n",
      "97\n",
      "98\n",
      "99\n",
      "100\n",
      "101\n",
      "102\n",
      "103\n",
      "104\n",
      "105\n",
      "106\n",
      "107\n",
      "108\n",
      "109\n",
      "110\n",
      "111\n",
      "112\n",
      "113\n",
      "114\n",
      "115\n",
      "116\n",
      "117\n",
      "118\n",
      "119\n",
      "120\n",
      "121\n",
      "122\n",
      "123\n",
      "124\n",
      "125\n",
      "126\n",
      "127\n",
      "128\n",
      "129\n",
      "130\n",
      "131\n",
      "132\n",
      "133\n",
      "134\n",
      "135\n",
      "136\n",
      "137\n",
      "138\n",
      "139\n",
      "140\n",
      "141\n",
      "142\n",
      "143\n",
      "144\n",
      "145\n",
      "146\n",
      "147\n",
      "148\n",
      "149\n",
      "150\n",
      "151\n",
      "152\n",
      "153\n",
      "154\n",
      "155\n",
      "156\n",
      "157\n",
      "158\n",
      "159\n",
      "160\n",
      "161\n",
      "162\n",
      "163\n",
      "164\n",
      "165\n",
      "166\n",
      "167\n",
      "168\n",
      "169\n",
      "170\n",
      "171\n",
      "172\n",
      "173\n",
      "174\n",
      "175\n",
      "176\n",
      "177\n",
      "178\n",
      "179\n",
      "180\n",
      "181\n",
      "182\n",
      "183\n",
      "184\n",
      "185\n",
      "186\n",
      "187\n",
      "188\n",
      "189\n",
      "190\n",
      "191\n",
      "192\n",
      "193\n",
      "194\n",
      "195\n",
      "196\n",
      "197\n",
      "198\n",
      "199\n",
      "200\n",
      "201\n",
      "202\n",
      "203\n",
      "204\n",
      "205\n",
      "206\n",
      "207\n",
      "208\n",
      "209\n",
      "210\n",
      "211\n",
      "212\n",
      "213\n",
      "214\n",
      "215\n",
      "216\n",
      "217\n",
      "218\n",
      "219\n",
      "220\n",
      "221\n",
      "222\n",
      "223\n",
      "224\n",
      "225\n",
      "226\n",
      "227\n",
      "228\n",
      "229\n",
      "230\n",
      "231\n",
      "232\n",
      "233\n",
      "234\n",
      "235\n",
      "236\n",
      "237\n",
      "238\n",
      "239\n",
      "240\n",
      "241\n",
      "242\n",
      "243\n",
      "244\n",
      "245\n",
      "246\n",
      "247\n",
      "248\n",
      "249\n",
      "250\n",
      "251\n",
      "252\n",
      "253\n",
      "254\n",
      "255\n",
      "256\n",
      "257\n",
      "258\n",
      "259\n",
      "260\n",
      "261\n",
      "262\n",
      "263\n",
      "264\n",
      "265\n",
      "266\n",
      "267\n",
      "268\n",
      "269\n",
      "270\n",
      "271\n",
      "272\n",
      "273\n",
      "274\n",
      "275\n",
      "276\n",
      "277\n",
      "278\n",
      "279\n",
      "280\n",
      "281\n",
      "282\n",
      "283\n",
      "284\n",
      "285\n",
      "286\n",
      "287\n",
      "288\n",
      "289\n",
      "290\n",
      "291\n",
      "292\n",
      "293\n",
      "294\n",
      "295\n",
      "296\n",
      "297\n",
      "298\n",
      "299\n",
      "300\n",
      "301\n",
      "302\n",
      "303\n",
      "304\n",
      "305\n",
      "306\n",
      "307\n",
      "308\n",
      "309\n",
      "310\n",
      "311\n",
      "312\n",
      "313\n",
      "314\n",
      "315\n",
      "316\n",
      "317\n",
      "318\n",
      "319\n",
      "320\n",
      "321\n",
      "322\n",
      "323\n",
      "324\n",
      "325\n",
      "326\n",
      "327\n",
      "328\n",
      "329\n",
      "330\n",
      "331\n",
      "332\n",
      "333\n",
      "334\n",
      "335\n",
      "336\n",
      "337\n",
      "338\n",
      "339\n",
      "340\n",
      "341\n",
      "342\n",
      "343\n",
      "344\n",
      "345\n",
      "346\n",
      "347\n",
      "348\n",
      "349\n",
      "350\n",
      "351\n",
      "352\n",
      "353\n",
      "354\n",
      "355\n",
      "356\n",
      "357\n",
      "358\n",
      "359\n",
      "360\n",
      "361\n",
      "362\n",
      "363\n",
      "364\n",
      "365\n",
      "366\n",
      "367\n",
      "368\n",
      "369\n",
      "370\n",
      "371\n",
      "372\n",
      "373\n",
      "374\n",
      "375\n",
      "376\n",
      "377\n",
      "378\n",
      "379\n",
      "380\n",
      "381\n",
      "382\n",
      "383\n",
      "384\n",
      "385\n",
      "386\n",
      "387\n",
      "388\n",
      "389\n",
      "390\n",
      "391\n",
      "392\n",
      "393\n",
      "394\n",
      "395\n",
      "396\n",
      "397\n",
      "398\n",
      "399\n",
      "400\n",
      "401\n",
      "402\n",
      "403\n",
      "404\n",
      "405\n",
      "406\n",
      "407\n",
      "408\n",
      "409\n",
      "410\n",
      "411\n",
      "412\n",
      "413\n",
      "414\n",
      "415\n",
      "416\n",
      "417\n",
      "418\n",
      "419\n",
      "420\n",
      "421\n",
      "422\n",
      "423\n",
      "424\n",
      "425\n",
      "426\n",
      "427\n",
      "428\n",
      "429\n",
      "430\n",
      "431\n",
      "432\n",
      "433\n",
      "434\n",
      "435\n",
      "436\n",
      "437\n",
      "438\n",
      "439\n",
      "440\n",
      "441\n",
      "442\n",
      "443\n",
      "444\n",
      "445\n",
      "446\n",
      "447\n",
      "448\n",
      "449\n",
      "450\n",
      "451\n",
      "452\n",
      "453\n",
      "454\n",
      "455\n",
      "456\n",
      "457\n",
      "458\n",
      "459\n",
      "460\n",
      "461\n",
      "462\n",
      "463\n",
      "464\n",
      "465\n",
      "466\n",
      "467\n",
      "468\n",
      "469\n",
      "470\n",
      "471\n",
      "472\n",
      "473\n",
      "474\n",
      "475\n",
      "476\n",
      "477\n",
      "478\n",
      "479\n",
      "480\n",
      "481\n",
      "482\n",
      "483\n",
      "484\n",
      "485\n",
      "486\n",
      "487\n",
      "488\n",
      "489\n",
      "490\n",
      "491\n",
      "492\n",
      "493\n",
      "494\n",
      "495\n",
      "496\n",
      "497\n",
      "498\n",
      "499\n",
      "500\n",
      "501\n",
      "502\n",
      "503\n",
      "504\n",
      "505\n",
      "506\n",
      "507\n",
      "508\n",
      "509\n",
      "510\n",
      "511\n",
      "512\n",
      "513\n",
      "514\n",
      "515\n",
      "516\n",
      "517\n",
      "518\n",
      "519\n",
      "520\n",
      "521\n",
      "522\n",
      "523\n",
      "524\n",
      "525\n",
      "526\n",
      "527\n",
      "528\n",
      "529\n",
      "530\n",
      "531\n",
      "532\n",
      "533\n",
      "534\n",
      "535\n",
      "536\n",
      "537\n",
      "538\n",
      "539\n",
      "540\n",
      "541\n",
      "542\n",
      "543\n",
      "544\n",
      "545\n",
      "546\n",
      "547\n",
      "548\n",
      "549\n",
      "550\n",
      "551\n",
      "552\n",
      "553\n",
      "554\n",
      "555\n",
      "556\n",
      "557\n",
      "558\n",
      "559\n",
      "560\n",
      "561\n",
      "562\n",
      "563\n",
      "564\n",
      "565\n",
      "566\n",
      "567\n",
      "568\n",
      "569\n",
      "570\n",
      "571\n",
      "572\n",
      "573\n",
      "574\n",
      "575\n",
      "576\n",
      "577\n",
      "578\n",
      "579\n",
      "580\n",
      "581\n",
      "582\n",
      "583\n",
      "584\n",
      "585\n",
      "586\n",
      "587\n",
      "588\n",
      "589\n",
      "590\n",
      "591\n",
      "592\n",
      "593\n",
      "594\n",
      "595\n",
      "596\n",
      "597\n",
      "598\n",
      "599\n",
      "600\n",
      "601\n",
      "602\n",
      "603\n",
      "604\n",
      "605\n",
      "606\n",
      "607\n",
      "608\n",
      "609\n",
      "610\n",
      "611\n",
      "612\n",
      "613\n",
      "614\n",
      "615\n",
      "616\n",
      "617\n",
      "618\n",
      "619\n",
      "620\n",
      "621\n",
      "622\n",
      "623\n",
      "624\n",
      "625\n",
      "626\n",
      "627\n",
      "628\n",
      "629\n",
      "630\n",
      "631\n",
      "632\n",
      "633\n",
      "634\n",
      "635\n",
      "636\n",
      "637\n",
      "638\n",
      "639\n",
      "640\n",
      "641\n",
      "642\n",
      "643\n",
      "644\n",
      "645\n",
      "646\n",
      "647\n",
      "648\n",
      "649\n",
      "650\n",
      "651\n",
      "652\n",
      "653\n",
      "654\n",
      "655\n",
      "656\n",
      "657\n",
      "658\n",
      "659\n",
      "660\n",
      "661\n",
      "662\n",
      "663\n",
      "664\n",
      "665\n",
      "666\n",
      "667\n",
      "668\n",
      "669\n",
      "670\n",
      "671\n",
      "672\n",
      "673\n",
      "674\n",
      "675\n",
      "676\n",
      "677\n",
      "678\n",
      "679\n",
      "680\n",
      "681\n",
      "682\n",
      "683\n",
      "684\n",
      "685\n",
      "686\n",
      "687\n",
      "688\n",
      "689\n",
      "690\n",
      "691\n",
      "692\n",
      "693\n",
      "694\n",
      "695\n",
      "696\n",
      "697\n",
      "698\n",
      "699\n",
      "700\n",
      "701\n",
      "702\n",
      "703\n",
      "704\n",
      "705\n",
      "706\n",
      "707\n",
      "708\n",
      "709\n",
      "710\n",
      "711\n",
      "712\n",
      "713\n",
      "714\n",
      "715\n",
      "716\n",
      "717\n",
      "718\n",
      "719\n",
      "720\n",
      "721\n",
      "722\n",
      "723\n",
      "724\n",
      "725\n",
      "726\n",
      "727\n",
      "728\n",
      "729\n",
      "730\n",
      "731\n",
      "732\n",
      "733\n",
      "734\n",
      "735\n",
      "736\n",
      "737\n",
      "738\n",
      "739\n",
      "740\n",
      "741\n",
      "742\n",
      "743\n",
      "744\n",
      "745\n",
      "746\n",
      "747\n",
      "748\n",
      "749\n",
      "750\n",
      "751\n",
      "752\n",
      "753\n",
      "754\n",
      "755\n",
      "756\n",
      "757\n",
      "758\n",
      "759\n",
      "760\n",
      "761\n",
      "762\n",
      "763\n",
      "764\n",
      "765\n",
      "766\n",
      "767\n",
      "768\n",
      "769\n",
      "770\n",
      "771\n",
      "772\n",
      "773\n",
      "774\n",
      "775\n",
      "776\n",
      "777\n",
      "778\n",
      "779\n",
      "780\n",
      "781\n",
      "782\n",
      "783\n",
      "784\n",
      "785\n",
      "786\n",
      "787\n",
      "788\n",
      "789\n",
      "790\n",
      "791\n",
      "792\n",
      "793\n",
      "794\n",
      "795\n",
      "796\n",
      "797\n",
      "798\n",
      "799\n",
      "800\n",
      "801\n",
      "802\n",
      "803\n",
      "804\n",
      "805\n",
      "806\n",
      "807\n",
      "808\n",
      "809\n",
      "810\n",
      "811\n",
      "812\n",
      "813\n",
      "814\n",
      "815\n",
      "816\n",
      "817\n",
      "818\n",
      "819\n",
      "820\n",
      "821\n",
      "822\n",
      "823\n",
      "824\n",
      "825\n",
      "826\n",
      "827\n",
      "828\n",
      "829\n",
      "830\n",
      "831\n",
      "832\n",
      "833\n",
      "834\n",
      "835\n",
      "836\n",
      "837\n",
      "838\n",
      "839\n",
      "840\n",
      "841\n",
      "842\n",
      "843\n",
      "844\n",
      "845\n",
      "846\n",
      "847\n",
      "848\n",
      "849\n",
      "850\n",
      "851\n",
      "852\n",
      "853\n",
      "854\n",
      "855\n",
      "856\n",
      "857\n",
      "858\n",
      "859\n",
      "860\n",
      "861\n",
      "862\n",
      "863\n",
      "864\n",
      "865\n",
      "866\n",
      "867\n",
      "868\n",
      "869\n",
      "870\n",
      "871\n",
      "872\n",
      "873\n",
      "874\n",
      "875\n",
      "876\n",
      "877\n",
      "878\n",
      "879\n",
      "880\n",
      "881\n",
      "882\n",
      "883\n",
      "884\n",
      "885\n",
      "886\n",
      "887\n",
      "888\n",
      "889\n",
      "890\n",
      "891\n",
      "892\n",
      "893\n",
      "894\n",
      "895\n",
      "896\n",
      "897\n",
      "898\n",
      "899\n",
      "900\n",
      "901\n",
      "902\n",
      "903\n",
      "904\n",
      "905\n",
      "906\n",
      "907\n",
      "908\n",
      "909\n",
      "910\n",
      "911\n",
      "912\n",
      "913\n",
      "914\n",
      "915\n",
      "916\n",
      "917\n",
      "918\n",
      "919\n",
      "920\n",
      "921\n",
      "922\n",
      "923\n",
      "924\n",
      "925\n",
      "926\n",
      "927\n",
      "928\n",
      "929\n",
      "930\n",
      "931\n",
      "932\n",
      "933\n",
      "934\n",
      "935\n",
      "936\n",
      "937\n",
      "938\n",
      "939\n",
      "940\n",
      "941\n",
      "942\n",
      "943\n",
      "944\n",
      "945\n",
      "946\n",
      "947\n",
      "948\n",
      "949\n",
      "950\n",
      "951\n",
      "952\n",
      "953\n",
      "954\n",
      "955\n",
      "956\n",
      "957\n",
      "958\n",
      "959\n",
      "960\n",
      "961\n",
      "962\n",
      "963\n",
      "964\n",
      "965\n",
      "966\n",
      "967\n",
      "968\n",
      "969\n",
      "970\n",
      "971\n",
      "972\n",
      "973\n",
      "974\n",
      "975\n",
      "976\n",
      "977\n",
      "978\n",
      "979\n",
      "980\n",
      "981\n",
      "982\n",
      "983\n",
      "984\n",
      "985\n",
      "986\n",
      "987\n",
      "988\n",
      "989\n",
      "990\n",
      "991\n",
      "992\n",
      "993\n",
      "994\n",
      "995\n",
      "996\n",
      "997\n",
      "998\n",
      "999\n",
      "1000\n"
     ]
    }
   ],
   "source": [
    "for i in range(1,1001):\n",
    "    print(i)"
   ]
  },
  {
   "cell_type": "code",
   "execution_count": 124,
   "id": "f542267b",
   "metadata": {},
   "outputs": [
    {
     "data": {
      "text/plain": [
       "{'kor': 100, 'eng': 100, 'mat': 100, 'test': {'f': 50, 's': 100}}"
      ]
     },
     "execution_count": 124,
     "metadata": {},
     "output_type": "execute_result"
    }
   ],
   "source": [
    "d"
   ]
  },
  {
   "cell_type": "code",
   "execution_count": 125,
   "id": "7bafcaff",
   "metadata": {},
   "outputs": [
    {
     "data": {
      "text/plain": [
       "100"
      ]
     },
     "execution_count": 125,
     "metadata": {},
     "output_type": "execute_result"
    }
   ],
   "source": [
    "d['eng']"
   ]
  },
  {
   "cell_type": "code",
   "execution_count": 126,
   "id": "16b3ff9c",
   "metadata": {},
   "outputs": [
    {
     "data": {
      "text/plain": [
       "100"
      ]
     },
     "execution_count": 126,
     "metadata": {},
     "output_type": "execute_result"
    }
   ],
   "source": [
    "d.get('eng')"
   ]
  },
  {
   "cell_type": "code",
   "execution_count": 127,
   "id": "d3859b5a",
   "metadata": {},
   "outputs": [],
   "source": [
    "d.get('ai') # 키가 없어도 keyerror가 안 뜸"
   ]
  },
  {
   "cell_type": "code",
   "execution_count": 129,
   "id": "f6b9cf7e",
   "metadata": {},
   "outputs": [
    {
     "name": "stdout",
     "output_type": "stream",
     "text": [
      "None\n"
     ]
    }
   ],
   "source": [
    "print(d.get('ai'))"
   ]
  },
  {
   "cell_type": "code",
   "execution_count": 130,
   "id": "883a8d7c",
   "metadata": {},
   "outputs": [
    {
     "name": "stdout",
     "output_type": "stream",
     "text": [
      "default\n"
     ]
    }
   ],
   "source": [
    "print(d.get('ai','default')) #ai 키가 없으므로 default 출력"
   ]
  },
  {
   "cell_type": "code",
   "execution_count": 133,
   "id": "1c4a8d33",
   "metadata": {},
   "outputs": [],
   "source": [
    "x={'a':10,'b':20,'c':30,'d':40}"
   ]
  },
  {
   "cell_type": "code",
   "execution_count": 134,
   "id": "f82e7776",
   "metadata": {},
   "outputs": [],
   "source": [
    "x.setdefault('e') #e라는 키를 저장"
   ]
  },
  {
   "cell_type": "code",
   "execution_count": 135,
   "id": "4e16a0b7",
   "metadata": {},
   "outputs": [
    {
     "data": {
      "text/plain": [
       "{'a': 10, 'b': 20, 'c': 30, 'd': 40, 'e': None}"
      ]
     },
     "execution_count": 135,
     "metadata": {},
     "output_type": "execute_result"
    }
   ],
   "source": [
    "x"
   ]
  },
  {
   "cell_type": "code",
   "execution_count": 136,
   "id": "a1533f46",
   "metadata": {},
   "outputs": [
    {
     "data": {
      "text/plain": [
       "100"
      ]
     },
     "execution_count": 136,
     "metadata": {},
     "output_type": "execute_result"
    }
   ],
   "source": [
    "x.setdefault('f',100) #f라는 키를 주고 value 값을 100을 줌"
   ]
  },
  {
   "cell_type": "code",
   "execution_count": 137,
   "id": "d048c7db",
   "metadata": {},
   "outputs": [
    {
     "data": {
      "text/plain": [
       "{'a': 10, 'b': 20, 'c': 30, 'd': 40, 'e': None, 'f': 100}"
      ]
     },
     "execution_count": 137,
     "metadata": {},
     "output_type": "execute_result"
    }
   ],
   "source": [
    "x"
   ]
  },
  {
   "cell_type": "code",
   "execution_count": 139,
   "id": "7ac16397",
   "metadata": {},
   "outputs": [],
   "source": [
    "x.update(a=100)"
   ]
  },
  {
   "cell_type": "code",
   "execution_count": 140,
   "id": "b27275bd",
   "metadata": {},
   "outputs": [
    {
     "data": {
      "text/plain": [
       "{'a': 100, 'b': 20, 'c': 30, 'd': 40, 'e': None, 'f': 100}"
      ]
     },
     "execution_count": 140,
     "metadata": {},
     "output_type": "execute_result"
    }
   ],
   "source": [
    "x"
   ]
  },
  {
   "cell_type": "code",
   "execution_count": 141,
   "id": "afbc427a",
   "metadata": {},
   "outputs": [],
   "source": [
    "x.update(i=50) #없는 키 입력 시 추가"
   ]
  },
  {
   "cell_type": "code",
   "execution_count": 142,
   "id": "41e08349",
   "metadata": {},
   "outputs": [
    {
     "data": {
      "text/plain": [
       "{'a': 100, 'b': 20, 'c': 30, 'd': 40, 'e': None, 'f': 100, 'i': 50}"
      ]
     },
     "execution_count": 142,
     "metadata": {},
     "output_type": "execute_result"
    }
   ],
   "source": [
    "x"
   ]
  },
  {
   "cell_type": "code",
   "execution_count": 143,
   "id": "e0a0c099",
   "metadata": {},
   "outputs": [],
   "source": [
    "x.update(b=200, g=100)"
   ]
  },
  {
   "cell_type": "code",
   "execution_count": 144,
   "id": "47895720",
   "metadata": {},
   "outputs": [
    {
     "data": {
      "text/plain": [
       "{'a': 100, 'b': 200, 'c': 30, 'd': 40, 'e': None, 'f': 100, 'i': 50, 'g': 100}"
      ]
     },
     "execution_count": 144,
     "metadata": {},
     "output_type": "execute_result"
    }
   ],
   "source": [
    "x"
   ]
  },
  {
   "cell_type": "code",
   "execution_count": 145,
   "id": "6b747875",
   "metadata": {},
   "outputs": [
    {
     "data": {
      "text/plain": [
       "100"
      ]
     },
     "execution_count": 145,
     "metadata": {},
     "output_type": "execute_result"
    }
   ],
   "source": [
    "x.pop('a')"
   ]
  },
  {
   "cell_type": "code",
   "execution_count": 146,
   "id": "7dd93d31",
   "metadata": {},
   "outputs": [
    {
     "data": {
      "text/plain": [
       "{'b': 200, 'c': 30, 'd': 40, 'e': None, 'f': 100, 'i': 50, 'g': 100}"
      ]
     },
     "execution_count": 146,
     "metadata": {},
     "output_type": "execute_result"
    }
   ],
   "source": [
    "x"
   ]
  },
  {
   "cell_type": "code",
   "execution_count": 147,
   "id": "40add59d",
   "metadata": {},
   "outputs": [],
   "source": [
    "del x['b']"
   ]
  },
  {
   "cell_type": "code",
   "execution_count": 148,
   "id": "47e83633",
   "metadata": {},
   "outputs": [
    {
     "data": {
      "text/plain": [
       "{'c': 30, 'd': 40, 'e': None, 'f': 100, 'i': 50, 'g': 100}"
      ]
     },
     "execution_count": 148,
     "metadata": {},
     "output_type": "execute_result"
    }
   ],
   "source": [
    "x"
   ]
  },
  {
   "cell_type": "code",
   "execution_count": 150,
   "id": "d1bc1960",
   "metadata": {},
   "outputs": [],
   "source": [
    "x.pop('e')"
   ]
  },
  {
   "cell_type": "code",
   "execution_count": 151,
   "id": "e327b2f8",
   "metadata": {},
   "outputs": [
    {
     "data": {
      "text/plain": [
       "{'c': 30, 'd': 40, 'f': 100, 'i': 50, 'g': 100}"
      ]
     },
     "execution_count": 151,
     "metadata": {},
     "output_type": "execute_result"
    }
   ],
   "source": [
    "x"
   ]
  },
  {
   "cell_type": "code",
   "execution_count": 152,
   "id": "485f9b9c",
   "metadata": {},
   "outputs": [
    {
     "data": {
      "text/plain": [
       "('g', 100)"
      ]
     },
     "execution_count": 152,
     "metadata": {},
     "output_type": "execute_result"
    }
   ],
   "source": [
    "x.popitem()"
   ]
  },
  {
   "cell_type": "code",
   "execution_count": 153,
   "id": "5c0b8591",
   "metadata": {},
   "outputs": [
    {
     "data": {
      "text/plain": [
       "{'c': 30, 'd': 40, 'f': 100, 'i': 50}"
      ]
     },
     "execution_count": 153,
     "metadata": {},
     "output_type": "execute_result"
    }
   ],
   "source": [
    "x"
   ]
  },
  {
   "cell_type": "code",
   "execution_count": 155,
   "id": "dfd849ab",
   "metadata": {},
   "outputs": [],
   "source": [
    "x.clear()"
   ]
  },
  {
   "cell_type": "code",
   "execution_count": 156,
   "id": "f8bcf40c",
   "metadata": {},
   "outputs": [
    {
     "data": {
      "text/plain": [
       "{}"
      ]
     },
     "execution_count": 156,
     "metadata": {},
     "output_type": "execute_result"
    }
   ],
   "source": [
    "x"
   ]
  },
  {
   "cell_type": "code",
   "execution_count": 157,
   "id": "5f150518",
   "metadata": {},
   "outputs": [
    {
     "data": {
      "text/plain": [
       "{'a': None, 'b': None}"
      ]
     },
     "execution_count": 157,
     "metadata": {},
     "output_type": "execute_result"
    }
   ],
   "source": [
    "k_list=['a','b']\n",
    "dict.fromkeys(k_list)"
   ]
  },
  {
   "cell_type": "code",
   "execution_count": 158,
   "id": "24cc463b",
   "metadata": {},
   "outputs": [
    {
     "data": {
      "text/plain": [
       "{'a': 10, 'b': 10}"
      ]
     },
     "execution_count": 158,
     "metadata": {},
     "output_type": "execute_result"
    }
   ],
   "source": [
    "dict.fromkeys(k_list, 10)"
   ]
  },
  {
   "cell_type": "code",
   "execution_count": 161,
   "id": "150f220b",
   "metadata": {},
   "outputs": [
    {
     "data": {
      "text/plain": [
       "7"
      ]
     },
     "execution_count": 161,
     "metadata": {},
     "output_type": "execute_result"
    }
   ],
   "source": [
    "#1\n",
    "x=12\n",
    "int(0.2467 * x + 4.19)"
   ]
  },
  {
   "cell_type": "code",
   "execution_count": 162,
   "id": "136ccae3",
   "metadata": {},
   "outputs": [
    {
     "data": {
      "text/plain": [
       "1749024"
      ]
     },
     "execution_count": 162,
     "metadata": {},
     "output_type": "execute_result"
    }
   ],
   "source": [
    "#2\n",
    "x=48584\n",
    "y=36\n",
    "x*y"
   ]
  },
  {
   "cell_type": "code",
   "execution_count": 187,
   "id": "7fd997be",
   "metadata": {},
   "outputs": [
    {
     "name": "stdout",
     "output_type": "stream",
     "text": [
      "a#b&c@d\n"
     ]
    }
   ],
   "source": [
    "#3\n",
    "s=\"a@b@c@d\"\n",
    "n_s=s[:1]+'#'+s[2]+'&'+s[4:]\n",
    "print(n_s)"
   ]
  },
  {
   "cell_type": "code",
   "execution_count": 202,
   "id": "f0740e1c",
   "metadata": {},
   "outputs": [
    {
     "name": "stdout",
     "output_type": "stream",
     "text": [
      "a#b&c@d\n"
     ]
    }
   ],
   "source": [
    "s=\"a@b@c@d\"\n",
    "n_s=list(s)\n",
    "n_s[1]='#'\n",
    "n_s[3]='&'\n",
    "print(\"\".join(n_s))"
   ]
  },
  {
   "cell_type": "code",
   "execution_count": 172,
   "id": "02d8ff24",
   "metadata": {},
   "outputs": [
    {
     "data": {
      "text/plain": [
       "['btc', 'krw']"
      ]
     },
     "execution_count": 172,
     "metadata": {},
     "output_type": "execute_result"
    }
   ],
   "source": [
    "#4\n",
    "ticker=\"btc_krw\"\n",
    "ticker.split(\"_\")"
   ]
  },
  {
   "cell_type": "code",
   "execution_count": 174,
   "id": "ff55d01a",
   "metadata": {},
   "outputs": [
    {
     "data": {
      "text/plain": [
       "['2020', '12', '30']"
      ]
     },
     "execution_count": 174,
     "metadata": {},
     "output_type": "execute_result"
    }
   ],
   "source": [
    "#5\n",
    "date=\"2020-12-30\"\n",
    "date.split(\"-\")"
   ]
  },
  {
   "cell_type": "code",
   "execution_count": 175,
   "id": "1f48d59d",
   "metadata": {},
   "outputs": [
    {
     "data": {
      "text/plain": [
       "'039490'"
      ]
     },
     "execution_count": 175,
     "metadata": {},
     "output_type": "execute_result"
    }
   ],
   "source": [
    "#6\n",
    "data=\"039490     \"\n",
    "data.rstrip()"
   ]
  },
  {
   "cell_type": "code",
   "execution_count": 178,
   "id": "3fe45b14",
   "metadata": {},
   "outputs": [
    {
     "name": "stdout",
     "output_type": "stream",
     "text": [
      "이름: 김민수 나이: 10\n",
      "이름: 이철희 나이: 13\n"
     ]
    }
   ],
   "source": [
    "#7\n",
    "name1=\"김민수\"\n",
    "age1=10\n",
    "name2=\"이철희\"\n",
    "age2=13\n",
    "print(\"이름: %s 나이: %d\" % (name1,age1))\n",
    "print(\"이름: %s 나이: %d\" % (name2,age2))"
   ]
  },
  {
   "cell_type": "code",
   "execution_count": 179,
   "id": "3051a386",
   "metadata": {},
   "outputs": [
    {
     "name": "stdout",
     "output_type": "stream",
     "text": [
      "이름: 김민수 나이: 10\n",
      "이름: 이철희 나이: 13\n"
     ]
    }
   ],
   "source": [
    "#8\n",
    "name1=\"김민수\"\n",
    "age1=10\n",
    "name2=\"이철희\"\n",
    "age2=13\n",
    "print(\"이름: {} 나이: {}\".format(name1,age1))\n",
    "print(\"이름: {} 나이: {}\".format(name2,age2))"
   ]
  },
  {
   "cell_type": "code",
   "execution_count": null,
   "id": "d892c7ed",
   "metadata": {},
   "outputs": [],
   "source": []
  }
 ],
 "metadata": {
  "kernelspec": {
   "display_name": "Python 3 (ipykernel)",
   "language": "python",
   "name": "python3"
  },
  "language_info": {
   "codemirror_mode": {
    "name": "ipython",
    "version": 3
   },
   "file_extension": ".py",
   "mimetype": "text/x-python",
   "name": "python",
   "nbconvert_exporter": "python",
   "pygments_lexer": "ipython3",
   "version": "3.11.4"
  }
 },
 "nbformat": 4,
 "nbformat_minor": 5
}
