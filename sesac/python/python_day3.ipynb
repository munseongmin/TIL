{
 "cells": [
  {
   "cell_type": "code",
   "execution_count": 1,
   "id": "f25c65e0",
   "metadata": {},
   "outputs": [
    {
     "data": {
      "text/plain": [
       "'2020/12'"
      ]
     },
     "execution_count": 1,
     "metadata": {},
     "output_type": "execute_result"
    }
   ],
   "source": [
    "분기 = \"2020/12(E) (IFRS연결)\"\n",
    "분기.split('(')[0]"
   ]
  },
  {
   "cell_type": "code",
   "execution_count": 2,
   "id": "3fbcf2f7",
   "metadata": {},
   "outputs": [
    {
     "data": {
      "text/plain": [
       "'Life is too short'"
      ]
     },
     "execution_count": 2,
     "metadata": {},
     "output_type": "execute_result"
    }
   ],
   "source": [
    "str=['Life', 'is', 'too', 'short']\n",
    "' '.join(str)"
   ]
  },
  {
   "cell_type": "code",
   "execution_count": 4,
   "id": "6381ff7f",
   "metadata": {},
   "outputs": [],
   "source": [
    "a = [1, 1, 1, 2, 2, 3, 3, 3, 4, 4, 5]\n",
    "b = []\n",
    "for i in a:\n",
    "    if i not in b:\n",
    "        b.append(i)"
   ]
  },
  {
   "cell_type": "code",
   "execution_count": 5,
   "id": "f8a062c5",
   "metadata": {},
   "outputs": [
    {
     "data": {
      "text/plain": [
       "[1, 2, 3, 4, 5]"
      ]
     },
     "execution_count": 5,
     "metadata": {},
     "output_type": "execute_result"
    }
   ],
   "source": [
    "b"
   ]
  },
  {
   "cell_type": "code",
   "execution_count": 6,
   "id": "7efa5ff4",
   "metadata": {},
   "outputs": [
    {
     "data": {
      "text/plain": [
       "{1, 2, 3, 4, 5}"
      ]
     },
     "execution_count": 6,
     "metadata": {},
     "output_type": "execute_result"
    }
   ],
   "source": [
    "set(a)"
   ]
  },
  {
   "cell_type": "code",
   "execution_count": 11,
   "id": "c0dd26ec",
   "metadata": {},
   "outputs": [
    {
     "name": "stdout",
     "output_type": "stream",
     "text": [
      "21\n",
      "42\n",
      "63\n",
      "84\n",
      "105\n",
      "126\n",
      "147\n",
      "168\n",
      "189\n",
      "210\n",
      "231\n",
      "252\n",
      "273\n",
      "294\n",
      "315\n",
      "336\n",
      "357\n",
      "378\n",
      "399\n",
      "420\n",
      "441\n",
      "462\n",
      "483\n",
      "504\n",
      "525\n",
      "546\n",
      "567\n",
      "588\n",
      "609\n",
      "630\n",
      "651\n",
      "672\n",
      "693\n",
      "714\n",
      "735\n",
      "756\n",
      "777\n",
      "798\n",
      "819\n",
      "840\n",
      "861\n",
      "882\n",
      "903\n",
      "924\n",
      "945\n",
      "966\n",
      "987\n"
     ]
    }
   ],
   "source": [
    "i = 1\n",
    "while i <= 1000:\n",
    "    if i%21 == 0:\n",
    "        print(i)\n",
    "    i+=1"
   ]
  },
  {
   "cell_type": "code",
   "execution_count": 24,
   "id": "bcf3894e",
   "metadata": {},
   "outputs": [
    {
     "name": "stdout",
     "output_type": "stream",
     "text": [
      "110\n"
     ]
    }
   ],
   "source": [
    "lst1=[4,54,6,74,104]\n",
    "lst2=[]\n",
    "for i in lst1:\n",
    "    i+=6\n",
    "    lst2.append(i)\n",
    "print(i)"
   ]
  },
  {
   "cell_type": "code",
   "execution_count": 19,
   "id": "c019198b",
   "metadata": {},
   "outputs": [
    {
     "name": "stdout",
     "output_type": "stream",
     "text": [
      "100\n"
     ]
    }
   ],
   "source": [
    "sum=0\n",
    "for i in range(1,101):\n",
    "    sum+=1\n",
    "print(i)"
   ]
  },
  {
   "cell_type": "code",
   "execution_count": 18,
   "id": "c355f588",
   "metadata": {},
   "outputs": [
    {
     "data": {
      "text/plain": [
       "100"
      ]
     },
     "execution_count": 18,
     "metadata": {},
     "output_type": "execute_result"
    }
   ],
   "source": [
    "sum"
   ]
  },
  {
   "cell_type": "code",
   "execution_count": 23,
   "id": "90f5832e",
   "metadata": {},
   "outputs": [
    {
     "name": "stdout",
     "output_type": "stream",
     "text": [
      "[54, 74, 104]\n"
     ]
    }
   ],
   "source": [
    "lst1=[4,54,6,74,104]\n",
    "lst2=[]\n",
    "for i in lst1:\n",
    "    if i **2 > 50:\n",
    "        lst2.append(i)\n",
    "print(lst2)"
   ]
  },
  {
   "cell_type": "code",
   "execution_count": 26,
   "id": "fc701f6e",
   "metadata": {},
   "outputs": [],
   "source": [
    "#set 데이터의 중복 제거\n",
    "w = set(\"deep learning\")"
   ]
  },
  {
   "cell_type": "code",
   "execution_count": 32,
   "id": "3a3a9aac",
   "metadata": {},
   "outputs": [
    {
     "data": {
      "text/plain": [
       "True"
      ]
     },
     "execution_count": 32,
     "metadata": {},
     "output_type": "execute_result"
    }
   ],
   "source": [
    "'x' not in w"
   ]
  },
  {
   "cell_type": "code",
   "execution_count": 35,
   "id": "de22bfc5",
   "metadata": {},
   "outputs": [],
   "source": [
    "s=set([1,2,2,3,3,3])"
   ]
  },
  {
   "cell_type": "code",
   "execution_count": 39,
   "id": "28d488b7",
   "metadata": {},
   "outputs": [
    {
     "data": {
      "text/plain": [
       "{1, 2, 3}"
      ]
     },
     "execution_count": 39,
     "metadata": {},
     "output_type": "execute_result"
    }
   ],
   "source": [
    "s"
   ]
  },
  {
   "cell_type": "code",
   "execution_count": 38,
   "id": "f5b8180d",
   "metadata": {},
   "outputs": [
    {
     "data": {
      "text/plain": [
       "[1, 2, 3]"
      ]
     },
     "execution_count": 38,
     "metadata": {},
     "output_type": "execute_result"
    }
   ],
   "source": [
    "list(s)"
   ]
  },
  {
   "cell_type": "code",
   "execution_count": 40,
   "id": "f27892a7",
   "metadata": {},
   "outputs": [
    {
     "data": {
      "text/plain": [
       "{2, 4, 6}"
      ]
     },
     "execution_count": 40,
     "metadata": {},
     "output_type": "execute_result"
    }
   ],
   "source": [
    "s2=set([2,4,6])\n",
    "s2"
   ]
  },
  {
   "cell_type": "code",
   "execution_count": 41,
   "id": "383d8729",
   "metadata": {},
   "outputs": [
    {
     "data": {
      "text/plain": [
       "{2}"
      ]
     },
     "execution_count": 41,
     "metadata": {},
     "output_type": "execute_result"
    }
   ],
   "source": [
    "s & s2 #교집합"
   ]
  },
  {
   "cell_type": "code",
   "execution_count": 42,
   "id": "7d5276fe",
   "metadata": {},
   "outputs": [
    {
     "data": {
      "text/plain": [
       "{2}"
      ]
     },
     "execution_count": 42,
     "metadata": {},
     "output_type": "execute_result"
    }
   ],
   "source": [
    "s.intersection(s2) #intersection 교집합"
   ]
  },
  {
   "cell_type": "code",
   "execution_count": 43,
   "id": "f0a0e550",
   "metadata": {},
   "outputs": [
    {
     "data": {
      "text/plain": [
       "{1, 2, 3, 4, 6}"
      ]
     },
     "execution_count": 43,
     "metadata": {},
     "output_type": "execute_result"
    }
   ],
   "source": [
    "s.union(s2) #union 합집합"
   ]
  },
  {
   "cell_type": "code",
   "execution_count": 44,
   "id": "808f74b8",
   "metadata": {},
   "outputs": [
    {
     "data": {
      "text/plain": [
       "{1, 3}"
      ]
     },
     "execution_count": 44,
     "metadata": {},
     "output_type": "execute_result"
    }
   ],
   "source": [
    "s.difference(s2) #difference 차집합"
   ]
  },
  {
   "cell_type": "code",
   "execution_count": 45,
   "id": "e39e59bc",
   "metadata": {},
   "outputs": [],
   "source": [
    "s.add(10)"
   ]
  },
  {
   "cell_type": "code",
   "execution_count": 46,
   "id": "c42c3f4c",
   "metadata": {},
   "outputs": [
    {
     "data": {
      "text/plain": [
       "{1, 2, 3, 10}"
      ]
     },
     "execution_count": 46,
     "metadata": {},
     "output_type": "execute_result"
    }
   ],
   "source": [
    "s"
   ]
  },
  {
   "cell_type": "code",
   "execution_count": 47,
   "id": "875ccfb4",
   "metadata": {},
   "outputs": [],
   "source": [
    "s.add(0) #자동 정렬"
   ]
  },
  {
   "cell_type": "code",
   "execution_count": 48,
   "id": "dec0d39a",
   "metadata": {},
   "outputs": [
    {
     "data": {
      "text/plain": [
       "{0, 1, 2, 3, 10}"
      ]
     },
     "execution_count": 48,
     "metadata": {},
     "output_type": "execute_result"
    }
   ],
   "source": [
    "s"
   ]
  },
  {
   "cell_type": "code",
   "execution_count": 49,
   "id": "6a45e0fe",
   "metadata": {},
   "outputs": [],
   "source": [
    "s.update([3,4,5]) #여러개의 데이터 추가"
   ]
  },
  {
   "cell_type": "code",
   "execution_count": 50,
   "id": "f4df3f8c",
   "metadata": {},
   "outputs": [
    {
     "data": {
      "text/plain": [
       "{0, 1, 2, 3, 4, 5, 10}"
      ]
     },
     "execution_count": 50,
     "metadata": {},
     "output_type": "execute_result"
    }
   ],
   "source": [
    "s"
   ]
  },
  {
   "cell_type": "code",
   "execution_count": 51,
   "id": "ea5a47dc",
   "metadata": {},
   "outputs": [],
   "source": [
    "s.remove(3)"
   ]
  },
  {
   "cell_type": "code",
   "execution_count": 52,
   "id": "99121915",
   "metadata": {},
   "outputs": [
    {
     "data": {
      "text/plain": [
       "{0, 1, 2, 4, 5, 10}"
      ]
     },
     "execution_count": 52,
     "metadata": {},
     "output_type": "execute_result"
    }
   ],
   "source": [
    "s"
   ]
  },
  {
   "cell_type": "code",
   "execution_count": 53,
   "id": "083f98bd",
   "metadata": {},
   "outputs": [
    {
     "data": {
      "text/plain": [
       "{2, 4, 6}"
      ]
     },
     "execution_count": 53,
     "metadata": {},
     "output_type": "execute_result"
    }
   ],
   "source": [
    "s2"
   ]
  },
  {
   "cell_type": "code",
   "execution_count": 55,
   "id": "ae45c6a0",
   "metadata": {},
   "outputs": [
    {
     "data": {
      "text/plain": [
       "False"
      ]
     },
     "execution_count": 55,
     "metadata": {},
     "output_type": "execute_result"
    }
   ],
   "source": [
    "s == s2"
   ]
  },
  {
   "cell_type": "code",
   "execution_count": 56,
   "id": "eed85b11",
   "metadata": {},
   "outputs": [
    {
     "data": {
      "text/plain": [
       "True"
      ]
     },
     "execution_count": 56,
     "metadata": {},
     "output_type": "execute_result"
    }
   ],
   "source": [
    "s2 == {2, 4, 6}"
   ]
  },
  {
   "cell_type": "code",
   "execution_count": 57,
   "id": "0f1fa0d9",
   "metadata": {},
   "outputs": [
    {
     "data": {
      "text/plain": [
       "False"
      ]
     },
     "execution_count": 57,
     "metadata": {},
     "output_type": "execute_result"
    }
   ],
   "source": [
    "s2 != {2, 4, 6} #not equal"
   ]
  },
  {
   "cell_type": "code",
   "execution_count": 58,
   "id": "4c29350e",
   "metadata": {},
   "outputs": [
    {
     "data": {
      "text/plain": [
       "3"
      ]
     },
     "execution_count": 58,
     "metadata": {},
     "output_type": "execute_result"
    }
   ],
   "source": [
    "len(s2)"
   ]
  },
  {
   "cell_type": "code",
   "execution_count": 59,
   "id": "8005c793",
   "metadata": {},
   "outputs": [
    {
     "data": {
      "text/plain": [
       "2"
      ]
     },
     "execution_count": 59,
     "metadata": {},
     "output_type": "execute_result"
    }
   ],
   "source": [
    "s2.pop() #임의의 데이터 제거"
   ]
  },
  {
   "cell_type": "code",
   "execution_count": 60,
   "id": "cc5ee2db",
   "metadata": {},
   "outputs": [],
   "source": [
    "s2.discard(6) #특정 데이터 제거"
   ]
  },
  {
   "cell_type": "code",
   "execution_count": 61,
   "id": "a8fba66f",
   "metadata": {},
   "outputs": [
    {
     "data": {
      "text/plain": [
       "{4}"
      ]
     },
     "execution_count": 61,
     "metadata": {},
     "output_type": "execute_result"
    }
   ],
   "source": [
    "s2"
   ]
  },
  {
   "cell_type": "code",
   "execution_count": 64,
   "id": "6c3ffec6",
   "metadata": {},
   "outputs": [
    {
     "name": "stdout",
     "output_type": "stream",
     "text": [
      "0\n",
      "1\n",
      "2\n",
      "3\n",
      "4\n"
     ]
    }
   ],
   "source": [
    "for i in range(5):\n",
    "    print(i)"
   ]
  },
  {
   "cell_type": "code",
   "execution_count": 65,
   "id": "8a8dc415",
   "metadata": {},
   "outputs": [
    {
     "name": "stdout",
     "output_type": "stream",
     "text": [
      "01234"
     ]
    }
   ],
   "source": [
    "for i in range(5):\n",
    "    print(i, end = '') #안보이지만 역슬래시 걸려있으므로 지워주는 것"
   ]
  },
  {
   "cell_type": "code",
   "execution_count": 66,
   "id": "a5f6f2d5",
   "metadata": {},
   "outputs": [
    {
     "name": "stdout",
     "output_type": "stream",
     "text": [
      "1234"
     ]
    }
   ],
   "source": [
    "for i in [1,2,3,4]: #sequence 구조 : list, range, tuple, string\n",
    "    print(i, end = '')"
   ]
  },
  {
   "cell_type": "code",
   "execution_count": 68,
   "id": "ebf1f5d4",
   "metadata": {},
   "outputs": [
    {
     "name": "stdout",
     "output_type": "stream",
     "text": [
      "deeplearning"
     ]
    }
   ],
   "source": [
    "for i in \"deeplearning\":\n",
    "    print(i, end = '')"
   ]
  },
  {
   "cell_type": "code",
   "execution_count": 69,
   "id": "f27c2f84",
   "metadata": {},
   "outputs": [
    {
     "data": {
      "text/plain": [
       "True"
      ]
     },
     "execution_count": 69,
     "metadata": {},
     "output_type": "execute_result"
    }
   ],
   "source": [
    "# 대상 in sequence 객체\n",
    "3 in [1,2,3]"
   ]
  },
  {
   "cell_type": "code",
   "execution_count": 72,
   "id": "ffa94607",
   "metadata": {},
   "outputs": [
    {
     "data": {
      "text/plain": [
       "True"
      ]
     },
     "execution_count": 72,
     "metadata": {},
     "output_type": "execute_result"
    }
   ],
   "source": [
    "'h' in \"hello\""
   ]
  },
  {
   "cell_type": "code",
   "execution_count": 73,
   "id": "5e05b569",
   "metadata": {},
   "outputs": [
    {
     "data": {
      "text/plain": [
       "True"
      ]
     },
     "execution_count": 73,
     "metadata": {},
     "output_type": "execute_result"
    }
   ],
   "source": [
    "3 in range(1,5)"
   ]
  },
  {
   "cell_type": "code",
   "execution_count": 76,
   "id": "6984f5f2",
   "metadata": {},
   "outputs": [
    {
     "data": {
      "text/plain": [
       "[1, 2, 3, 1, 2, 3, 1, 2, 3, 1, 2, 3, 1, 2, 3]"
      ]
     },
     "execution_count": 76,
     "metadata": {},
     "output_type": "execute_result"
    }
   ],
   "source": [
    "#sequence 객체 * 숫자는 숫자만큼 반복\n",
    "[1,2,3] * 5"
   ]
  },
  {
   "cell_type": "code",
   "execution_count": 77,
   "id": "c1423b7a",
   "metadata": {},
   "outputs": [
    {
     "data": {
      "text/plain": [
       "'반갑습니다반갑습니다반갑습니다'"
      ]
     },
     "execution_count": 77,
     "metadata": {},
     "output_type": "execute_result"
    }
   ],
   "source": [
    "\"반갑습니다\" * 3"
   ]
  },
  {
   "cell_type": "code",
   "execution_count": 78,
   "id": "9b88f364",
   "metadata": {},
   "outputs": [],
   "source": [
    "#if 조건식 : 데이터를 다듬는 데이터 전처리 과정에서 사용"
   ]
  },
  {
   "cell_type": "code",
   "execution_count": 80,
   "id": "ff97078d",
   "metadata": {},
   "outputs": [
    {
     "name": "stdout",
     "output_type": "stream",
     "text": [
      "pass\n"
     ]
    }
   ],
   "source": [
    "acc=95\n",
    "if acc>90 :\n",
    "    print(\"pass\")\n",
    "else:\n",
    "    print(\"fail\")"
   ]
  },
  {
   "cell_type": "code",
   "execution_count": 85,
   "id": "8d39c6da",
   "metadata": {},
   "outputs": [
    {
     "name": "stdout",
     "output_type": "stream",
     "text": [
      "fail\n"
     ]
    }
   ],
   "source": [
    "acc=101\n",
    "if acc>90 and acc<=100:\n",
    "    print(\"pass\")\n",
    "else:\n",
    "    print(\"fail\")"
   ]
  },
  {
   "cell_type": "code",
   "execution_count": 87,
   "id": "f4a3f2ea",
   "metadata": {},
   "outputs": [],
   "source": [
    "acc=90\n",
    "if acc>=90 :\n",
    "    pass\n",
    "else:\n",
    "    print(\"fail\")"
   ]
  },
  {
   "cell_type": "code",
   "execution_count": 93,
   "id": "b885af88",
   "metadata": {},
   "outputs": [
    {
     "name": "stdout",
     "output_type": "stream",
     "text": [
      "next stage\n"
     ]
    }
   ],
   "source": [
    "acc=90\n",
    "if acc>90 :\n",
    "    print(\"pass\")\n",
    "    print(\"king zzang\")\n",
    "print(\"next stage\") #if문에 종속되지 않은 문장이라 if문 조건 충족하지 못해도 출력"
   ]
  },
  {
   "cell_type": "code",
   "execution_count": 94,
   "id": "c9a66376",
   "metadata": {},
   "outputs": [
    {
     "data": {
      "text/plain": [
       "True"
      ]
     },
     "execution_count": 94,
     "metadata": {},
     "output_type": "execute_result"
    }
   ],
   "source": [
    "acc=95\n",
    "acc>90"
   ]
  },
  {
   "cell_type": "code",
   "execution_count": 96,
   "id": "b82832b7",
   "metadata": {},
   "outputs": [
    {
     "name": "stdout",
     "output_type": "stream",
     "text": [
      "pass\n"
     ]
    }
   ],
   "source": [
    "if True or False:\n",
    "    print(\"pass\")"
   ]
  },
  {
   "cell_type": "code",
   "execution_count": 98,
   "id": "b575d8c1",
   "metadata": {},
   "outputs": [
    {
     "name": "stdout",
     "output_type": "stream",
     "text": [
      "pass\n"
     ]
    }
   ],
   "source": [
    "if (1>0) and (0<5) :\n",
    "    print(\"pass\")"
   ]
  },
  {
   "cell_type": "code",
   "execution_count": 99,
   "id": "573e3b57",
   "metadata": {},
   "outputs": [
    {
     "name": "stdout",
     "output_type": "stream",
     "text": [
      "pass\n"
     ]
    }
   ],
   "source": [
    "if (1>0):\n",
    "    if(0<5):\n",
    "        print(\"pass\")"
   ]
  },
  {
   "cell_type": "code",
   "execution_count": 102,
   "id": "d833e4cd",
   "metadata": {},
   "outputs": [
    {
     "name": "stdout",
     "output_type": "stream",
     "text": [
      "even\n"
     ]
    }
   ],
   "source": [
    "x=0\n",
    "if x:\n",
    "    print(\"odd\")\n",
    "else:\n",
    "    print(\"even\")"
   ]
  },
  {
   "cell_type": "code",
   "execution_count": 108,
   "id": "53efface",
   "metadata": {},
   "outputs": [],
   "source": [
    "x = 0.00000000000000\n",
    "if x:\n",
    "    print(\"1입니다\")"
   ]
  },
  {
   "cell_type": "code",
   "execution_count": 109,
   "id": "eb586afc",
   "metadata": {},
   "outputs": [],
   "source": [
    "x=1"
   ]
  },
  {
   "cell_type": "code",
   "execution_count": 112,
   "id": "57dd4c53",
   "metadata": {},
   "outputs": [
    {
     "data": {
      "text/plain": [
       "0"
      ]
     },
     "execution_count": 112,
     "metadata": {},
     "output_type": "execute_result"
    }
   ],
   "source": [
    "x=2\n",
    "a=x if x==1 else 0 #x가 1이면 a에 x를 저장하고 1이 아니라면 0\n",
    "a"
   ]
  },
  {
   "cell_type": "code",
   "execution_count": 113,
   "id": "1dcce881",
   "metadata": {},
   "outputs": [
    {
     "name": "stdout",
     "output_type": "stream",
     "text": [
      "True\n"
     ]
    }
   ],
   "source": [
    "if \"breaktime\":\n",
    "    print(\"True\")"
   ]
  },
  {
   "cell_type": "code",
   "execution_count": 115,
   "id": "f62d3566",
   "metadata": {},
   "outputs": [],
   "source": [
    "if \"\": #문자열을 참 빈 문자열은 거짓으로 본다\n",
    "    print(\"True\")"
   ]
  },
  {
   "cell_type": "code",
   "execution_count": 116,
   "id": "a355a869",
   "metadata": {},
   "outputs": [],
   "source": [
    "if []:\n",
    "    print(\"empty\")"
   ]
  },
  {
   "cell_type": "code",
   "execution_count": 117,
   "id": "8b9cc6b0",
   "metadata": {},
   "outputs": [
    {
     "name": "stdout",
     "output_type": "stream",
     "text": [
      "empty\n"
     ]
    }
   ],
   "source": [
    "if [1,2]:\n",
    "    print(\"empty\")"
   ]
  },
  {
   "cell_type": "code",
   "execution_count": 118,
   "id": "80e8ca84",
   "metadata": {},
   "outputs": [],
   "source": [
    "if None: #None도 거짓\n",
    "    print(\"msg\")"
   ]
  },
  {
   "cell_type": "code",
   "execution_count": 120,
   "id": "d47abbbd",
   "metadata": {},
   "outputs": [
    {
     "name": "stdout",
     "output_type": "stream",
     "text": [
      "not empty\n"
     ]
    }
   ],
   "source": [
    "if list():\n",
    "    print(\"empty\")\n",
    "else:\n",
    "    print(\"not empty\")"
   ]
  },
  {
   "cell_type": "code",
   "execution_count": 121,
   "id": "45bce9b2",
   "metadata": {},
   "outputs": [],
   "source": [
    "#if 0 < x and x < 10:\n",
    "#if 0 < x < 10:"
   ]
  },
  {
   "cell_type": "code",
   "execution_count": 122,
   "id": "8359c258",
   "metadata": {},
   "outputs": [
    {
     "name": "stdout",
     "output_type": "stream",
     "text": [
      "else\n"
     ]
    }
   ],
   "source": [
    "if ():\n",
    "    pass\n",
    "else:\n",
    "    print(\"else\")"
   ]
  },
  {
   "cell_type": "code",
   "execution_count": 124,
   "id": "172c7549",
   "metadata": {},
   "outputs": [],
   "source": [
    "if not ():\n",
    "    pass\n",
    "else:\n",
    "    print(\"else\")"
   ]
  },
  {
   "cell_type": "code",
   "execution_count": 125,
   "id": "f3f97249",
   "metadata": {},
   "outputs": [
    {
     "name": "stdout",
     "output_type": "stream",
     "text": [
      "1\n"
     ]
    }
   ],
   "source": [
    "x=1\n",
    "if x==0:\n",
    "    print(\"0\")\n",
    "elif x==-1:\n",
    "    print(\"-1\")\n",
    "elif x==1:\n",
    "    print(\"1\")\n",
    "else:\n",
    "    print(\"999\")"
   ]
  },
  {
   "cell_type": "code",
   "execution_count": 137,
   "id": "feeadfcc",
   "metadata": {},
   "outputs": [
    {
     "name": "stdout",
     "output_type": "stream",
     "text": [
      "12341\n",
      "4\n",
      "5\n",
      "4\n",
      "3\n",
      "2\n"
     ]
    }
   ],
   "source": [
    "for i in range(1,5):\n",
    "    print(i, end='')\n",
    "for i in range(1,5,3):\n",
    "    print(i)\n",
    "for i in range(5,1,-1):\n",
    "    print(i)"
   ]
  },
  {
   "cell_type": "code",
   "execution_count": 138,
   "id": "c039bd7a",
   "metadata": {},
   "outputs": [
    {
     "name": "stdout",
     "output_type": "stream",
     "text": [
      "hello\n",
      "hi\n"
     ]
    }
   ],
   "source": [
    "for c in [\"hello\",\"hi\"]:\n",
    "    print(c)"
   ]
  },
  {
   "cell_type": "code",
   "execution_count": 145,
   "id": "9780e7ee",
   "metadata": {},
   "outputs": [
    {
     "name": "stdout",
     "output_type": "stream",
     "text": [
      "o\n",
      "l\n",
      "l\n",
      "e\n",
      "h\n"
     ]
    }
   ],
   "source": [
    "for c in reversed(\"hello\"):\n",
    "    print(c)"
   ]
  },
  {
   "cell_type": "code",
   "execution_count": 142,
   "id": "91e01583",
   "metadata": {},
   "outputs": [
    {
     "data": {
      "text/plain": [
       "['o', 'l', 'l', 'e', 'h']"
      ]
     },
     "execution_count": 142,
     "metadata": {},
     "output_type": "execute_result"
    }
   ],
   "source": [
    "list(reversed(\"hello\"))"
   ]
  },
  {
   "cell_type": "code",
   "execution_count": 146,
   "id": "55a90ef8",
   "metadata": {},
   "outputs": [
    {
     "ename": "IndentationError",
     "evalue": "unexpected indent (3881166403.py, line 2)",
     "output_type": "error",
     "traceback": [
      "\u001b[1;36m  Cell \u001b[1;32mIn[146], line 2\u001b[1;36m\u001b[0m\n\u001b[1;33m    문장\u001b[0m\n\u001b[1;37m    ^\u001b[0m\n\u001b[1;31mIndentationError\u001b[0m\u001b[1;31m:\u001b[0m unexpected indent\n"
     ]
    }
   ],
   "source": [
    "#while 조건식:\n",
    "    문장"
   ]
  },
  {
   "cell_type": "code",
   "execution_count": 148,
   "id": "1dc7a09b",
   "metadata": {},
   "outputs": [
    {
     "name": "stdout",
     "output_type": "stream",
     "text": [
      "1\n",
      "2\n",
      "3\n",
      "4\n",
      "5\n",
      "6\n",
      "7\n",
      "8\n",
      "9\n",
      "10\n"
     ]
    }
   ],
   "source": [
    "i=1\n",
    "while i <=10:\n",
    "    print(i)\n",
    "    i+=1"
   ]
  },
  {
   "cell_type": "code",
   "execution_count": 149,
   "id": "699ab51f",
   "metadata": {},
   "outputs": [
    {
     "name": "stdout",
     "output_type": "stream",
     "text": [
      "1\n",
      "2\n",
      "3\n",
      "4\n",
      "5\n",
      "6\n",
      "7\n",
      "8\n",
      "9\n"
     ]
    }
   ],
   "source": [
    "i=1\n",
    "while True:\n",
    "    print(i)\n",
    "    i+=1\n",
    "    if i == 10:\n",
    "        break"
   ]
  },
  {
   "cell_type": "code",
   "execution_count": 150,
   "id": "e9c13a10",
   "metadata": {},
   "outputs": [
    {
     "name": "stdout",
     "output_type": "stream",
     "text": [
      "2\n",
      "3\n",
      "4\n",
      "5\n",
      "6\n",
      "7\n",
      "8\n",
      "9\n"
     ]
    }
   ],
   "source": [
    "i=1\n",
    "while True:\n",
    "    i+=1\n",
    "    if i == 10:\n",
    "        break\n",
    "    print(i)"
   ]
  },
  {
   "cell_type": "code",
   "execution_count": 151,
   "id": "257d79d3",
   "metadata": {},
   "outputs": [
    {
     "name": "stdout",
     "output_type": "stream",
     "text": [
      "5\n",
      "6\n",
      "7\n",
      "8\n",
      "9\n"
     ]
    }
   ],
   "source": [
    "i=1\n",
    "while True:\n",
    "    i+=1\n",
    "    if i < 5:\n",
    "        continue #continue 나오면 밑으로 이동 안하고 위로 올라감\n",
    "    elif i < 10:\n",
    "        print(i)\n",
    "    else:\n",
    "        break"
   ]
  },
  {
   "cell_type": "code",
   "execution_count": 152,
   "id": "ec0a56e4",
   "metadata": {},
   "outputs": [],
   "source": [
    "#for while 둘 다 반복문이다 while 출구 필요 반복 횟수 정해져 있지 않음 for 반복 횟수가 정해져 있을 때"
   ]
  },
  {
   "cell_type": "code",
   "execution_count": 153,
   "id": "b55c9a92",
   "metadata": {},
   "outputs": [],
   "source": [
    "#random 모듈"
   ]
  },
  {
   "cell_type": "code",
   "execution_count": 154,
   "id": "9f4033d6",
   "metadata": {},
   "outputs": [
    {
     "ename": "SyntaxError",
     "evalue": "invalid syntax (2551765205.py, line 3)",
     "output_type": "error",
     "traceback": [
      "\u001b[1;36m  Cell \u001b[1;32mIn[154], line 3\u001b[1;36m\u001b[0m\n\u001b[1;33m    라이브러리 : 자주 사용되는 기능을 함수 단위로 만들어 제공\u001b[0m\n\u001b[1;37m               ^\u001b[0m\n\u001b[1;31mSyntaxError\u001b[0m\u001b[1;31m:\u001b[0m invalid syntax\n"
     ]
    }
   ],
   "source": [
    "모듈 : 파일\n",
    "패키지 : 폴더\n",
    "라이브러리 : 자주 사용되는 기능을 함수 단위로 만들어 제공\n",
    "플랫폼 : 프로그램을 할 수 있는 토대, 기반 환경\n",
    "클래스 : 붕어빵 기계 // 도면\n",
    "객체 : 붕어빵(실체, 인스턴스) // 건물\n",
    "메서드(함수) : 객체가 수용하는 동작 (사냥한다, 이동한다, 먹는다 등)\n",
    "속성 : 객체를 평가하는 척도 (아이디, 나이, 레벨, 파워 등)\n",
    "오버라이딩 : 붕어빵 기계로부터 잉어빵 기계를 제작(비용 시간 절감)"
   ]
  },
  {
   "cell_type": "code",
   "execution_count": 159,
   "id": "92697746",
   "metadata": {},
   "outputs": [],
   "source": [
    "import inspect,random"
   ]
  },
  {
   "cell_type": "code",
   "execution_count": 160,
   "id": "d0807314",
   "metadata": {},
   "outputs": [
    {
     "name": "stdout",
     "output_type": "stream",
     "text": [
      "C:\\Users\\user\\anaconda3\\Lib\\random.py\n"
     ]
    }
   ],
   "source": [
    "print(inspect.getfile(random))"
   ]
  },
  {
   "cell_type": "code",
   "execution_count": 161,
   "id": "3c4c3d2e",
   "metadata": {},
   "outputs": [
    {
     "data": {
      "text/plain": [
       "0.422767374830488"
      ]
     },
     "execution_count": 161,
     "metadata": {},
     "output_type": "execute_result"
    }
   ],
   "source": [
    "random.random()"
   ]
  },
  {
   "cell_type": "code",
   "execution_count": 168,
   "id": "a46eea50",
   "metadata": {
    "scrolled": true
   },
   "outputs": [
    {
     "data": {
      "text/plain": [
       "39"
      ]
     },
     "execution_count": 168,
     "metadata": {},
     "output_type": "execute_result"
    }
   ],
   "source": [
    "random.randint(1, 45)"
   ]
  },
  {
   "cell_type": "code",
   "execution_count": 172,
   "id": "0974b64b",
   "metadata": {},
   "outputs": [
    {
     "name": "stdout",
     "output_type": "stream",
     "text": [
      "3\n",
      "3\n",
      "4\n"
     ]
    }
   ],
   "source": [
    "i=0\n",
    "while i != 3 :\n",
    "    print(random.randint(1, 5))\n",
    "    i=i+1"
   ]
  },
  {
   "cell_type": "code",
   "execution_count": 173,
   "id": "5408a9f6",
   "metadata": {},
   "outputs": [
    {
     "name": "stdout",
     "output_type": "stream",
     "text": [
      "[2, 4, 6]\n"
     ]
    }
   ],
   "source": [
    "s=[1,2,3]\n",
    "r=[]\n",
    "for i in s:\n",
    "    r.append(i*2)\n",
    "print(r)"
   ]
  },
  {
   "cell_type": "code",
   "execution_count": 176,
   "id": "73819100",
   "metadata": {},
   "outputs": [
    {
     "name": "stdout",
     "output_type": "stream",
     "text": [
      "[2, 4, 6]\n"
     ]
    }
   ],
   "source": [
    "r2=[i*2 for i in s]\n",
    "print(r2)"
   ]
  },
  {
   "cell_type": "code",
   "execution_count": 179,
   "id": "10fcd4dd",
   "metadata": {},
   "outputs": [
    {
     "name": "stdout",
     "output_type": "stream",
     "text": [
      "[3, 5]\n"
     ]
    }
   ],
   "source": [
    "r3=[i+2 for i in s if i % 2 == 1]\n",
    "#     <--- 1 --->\n",
    "#                <--- 2 --->\n",
    "# <-3->\n",
    "print(r3)"
   ]
  },
  {
   "cell_type": "code",
   "execution_count": 180,
   "id": "71b4201c",
   "metadata": {},
   "outputs": [
    {
     "data": {
      "text/plain": [
       "[2, 3, 4, 5, 6, 7, 8, 9]"
      ]
     },
     "execution_count": 180,
     "metadata": {},
     "output_type": "execute_result"
    }
   ],
   "source": [
    "[x for x in range(2,10)]"
   ]
  },
  {
   "cell_type": "code",
   "execution_count": 184,
   "id": "87f5b679",
   "metadata": {},
   "outputs": [
    {
     "name": "stdout",
     "output_type": "stream",
     "text": [
      "2 4 6 8 10 12 14 16 18 \n",
      "==================================================\n",
      "3 6 9 12 15 18 21 24 27 \n",
      "==================================================\n",
      "4 8 12 16 20 24 28 32 36 \n",
      "==================================================\n",
      "5 10 15 20 25 30 35 40 45 \n",
      "==================================================\n",
      "6 12 18 24 30 36 42 48 54 \n",
      "==================================================\n",
      "7 14 21 28 35 42 49 56 63 \n",
      "==================================================\n",
      "8 16 24 32 40 48 56 64 72 \n",
      "==================================================\n",
      "9 18 27 36 45 54 63 72 81 \n",
      "==================================================\n"
     ]
    }
   ],
   "source": [
    "for x in range(2,10) :\n",
    "    for y in range(1,10) :\n",
    "        print(x*y, end=' ') \n",
    "    print() #\\n 이 숨겨져 있어 줄바꿈\n",
    "    print(\"=\"*50)"
   ]
  },
  {
   "cell_type": "code",
   "execution_count": 189,
   "id": "80530512",
   "metadata": {},
   "outputs": [
    {
     "name": "stdout",
     "output_type": "stream",
     "text": [
      "[2, 4, 6, 8, 10, 12, 14, 16, 18, 3, 6, 9, 12, 15, 18, 21, 24, 27, 4, 8, 12, 16, 20, 24, 28, 32, 36, 5, 10, 15, 20, 25, 30, 35, 40, 45, 6, 12, 18, 24, 30, 36, 42, 48, 54, 7, 14, 21, 28, 35, 42, 49, 56, 63, 8, 16, 24, 32, 40, 48, 56, 64, 72, 9, 18, 27, 36, 45, 54, 63, 72, 81]\n"
     ]
    }
   ],
   "source": [
    "print([x*y for x in range(2,10) for y in range(1,10)])\n",
    "#          <------- 1 ------->\n",
    "#                              <------- 2 ------->\n",
    "#     <-3->\n",
    "#                              <------- 4 ------->\n",
    "#     <-5->"
   ]
  },
  {
   "cell_type": "code",
   "execution_count": 190,
   "id": "de4f5d2d",
   "metadata": {},
   "outputs": [],
   "source": [
    "#구구단에서 3단 5단만 출력"
   ]
  },
  {
   "cell_type": "code",
   "execution_count": 191,
   "id": "6a06a809",
   "metadata": {},
   "outputs": [
    {
     "name": "stdout",
     "output_type": "stream",
     "text": [
      "[3, 6, 9, 12, 15, 18, 21, 24, 27, 5, 10, 15, 20, 25, 30, 35, 40, 45]\n"
     ]
    }
   ],
   "source": [
    "print([x*y for x in range(3,6,2) for y in range(1,10)])"
   ]
  },
  {
   "cell_type": "code",
   "execution_count": 192,
   "id": "ffe226f8",
   "metadata": {},
   "outputs": [
    {
     "name": "stdout",
     "output_type": "stream",
     "text": [
      "[3, 6, 9, 12, 15, 18, 21, 24, 27]\n"
     ]
    }
   ],
   "source": [
    "print([x*y for x in range(2,10) if x == 3 for y in range(1,10)])"
   ]
  },
  {
   "cell_type": "code",
   "execution_count": 194,
   "id": "a40e88d5",
   "metadata": {},
   "outputs": [
    {
     "name": "stdout",
     "output_type": "stream",
     "text": [
      "[3, 6, 9, 12, 15, 18, 21, 24, 27, 5, 10, 15, 20, 25, 30, 35, 40, 45]\n"
     ]
    }
   ],
   "source": [
    "print([x*y for x in range(2,10) if x == 3 or x == 5 for y in range(1,10)])"
   ]
  },
  {
   "cell_type": "code",
   "execution_count": 195,
   "id": "6eb27a79",
   "metadata": {},
   "outputs": [
    {
     "name": "stdout",
     "output_type": "stream",
     "text": [
      "[3, 6, 9, 12, 15, 18, 21, 24, 27]\n"
     ]
    },
    {
     "name": "stderr",
     "output_type": "stream",
     "text": [
      "<>:1: SyntaxWarning: \"is\" with a literal. Did you mean \"==\"?\n",
      "<>:1: SyntaxWarning: \"is\" with a literal. Did you mean \"==\"?\n",
      "C:\\Users\\user\\AppData\\Local\\Temp\\ipykernel_4060\\4286434470.py:1: SyntaxWarning: \"is\" with a literal. Did you mean \"==\"?\n",
      "  print([x*y for x in range(2,10) if x is 3 for y in range(1,10)])\n"
     ]
    }
   ],
   "source": [
    "print([x*y for x in range(2,10) if x is 3 for y in range(1,10)])"
   ]
  },
  {
   "cell_type": "code",
   "execution_count": 199,
   "id": "c2e37733",
   "metadata": {},
   "outputs": [
    {
     "ename": "UnboundLocalError",
     "evalue": "cannot access local variable 'y' where it is not associated with a value",
     "output_type": "error",
     "traceback": [
      "\u001b[1;31m---------------------------------------------------------------------------\u001b[0m",
      "\u001b[1;31mUnboundLocalError\u001b[0m                         Traceback (most recent call last)",
      "Cell \u001b[1;32mIn[199], line 2\u001b[0m\n\u001b[0;32m      1\u001b[0m \u001b[38;5;66;03m#x가 y보다 클 때만 연산\u001b[39;00m\n\u001b[1;32m----> 2\u001b[0m \u001b[38;5;28mprint\u001b[39m([x\u001b[38;5;241m*\u001b[39my \u001b[38;5;28;01mfor\u001b[39;00m x \u001b[38;5;129;01min\u001b[39;00m \u001b[38;5;28mrange\u001b[39m(\u001b[38;5;241m2\u001b[39m,\u001b[38;5;241m10\u001b[39m) \u001b[38;5;28;01mif\u001b[39;00m x \u001b[38;5;241m>\u001b[39m y \u001b[38;5;28;01mfor\u001b[39;00m y \u001b[38;5;129;01min\u001b[39;00m \u001b[38;5;28mrange\u001b[39m(\u001b[38;5;241m1\u001b[39m,\u001b[38;5;241m10\u001b[39m)])\n",
      "Cell \u001b[1;32mIn[199], line 2\u001b[0m, in \u001b[0;36m<listcomp>\u001b[1;34m(.0)\u001b[0m\n\u001b[0;32m      1\u001b[0m \u001b[38;5;66;03m#x가 y보다 클 때만 연산\u001b[39;00m\n\u001b[1;32m----> 2\u001b[0m \u001b[38;5;28mprint\u001b[39m([x\u001b[38;5;241m*\u001b[39my \u001b[38;5;28;01mfor\u001b[39;00m x \u001b[38;5;129;01min\u001b[39;00m \u001b[38;5;28mrange\u001b[39m(\u001b[38;5;241m2\u001b[39m,\u001b[38;5;241m10\u001b[39m) \u001b[38;5;28;01mif\u001b[39;00m x \u001b[38;5;241m>\u001b[39m y \u001b[38;5;28;01mfor\u001b[39;00m y \u001b[38;5;129;01min\u001b[39;00m \u001b[38;5;28mrange\u001b[39m(\u001b[38;5;241m1\u001b[39m,\u001b[38;5;241m10\u001b[39m)])\n",
      "\u001b[1;31mUnboundLocalError\u001b[0m: cannot access local variable 'y' where it is not associated with a value"
     ]
    }
   ],
   "source": [
    "#x가 y보다 클 때만 연산\n",
    "print([x*y for x in range(2,10) if x > y for y in range(1,10)]) #x에 값을 주고 if문을 실행할 때 y값을 알 수 없다는 에러"
   ]
  },
  {
   "cell_type": "code",
   "execution_count": 200,
   "id": "e9329dc5",
   "metadata": {},
   "outputs": [
    {
     "name": "stdout",
     "output_type": "stream",
     "text": [
      "[2, 3, 6, 4, 8, 12, 5, 10, 15, 20, 6, 12, 18, 24, 30, 7, 14, 21, 28, 35, 42, 8, 16, 24, 32, 40, 48, 56, 9, 18, 27, 36, 45, 54, 63, 72]\n"
     ]
    }
   ],
   "source": [
    "print([x*y for x in range(2,10) for y in range(1,10) if x > y])"
   ]
  },
  {
   "cell_type": "code",
   "execution_count": null,
   "id": "d131b7f6",
   "metadata": {},
   "outputs": [],
   "source": []
  }
 ],
 "metadata": {
  "kernelspec": {
   "display_name": "Python 3 (ipykernel)",
   "language": "python",
   "name": "python3"
  },
  "language_info": {
   "codemirror_mode": {
    "name": "ipython",
    "version": 3
   },
   "file_extension": ".py",
   "mimetype": "text/x-python",
   "name": "python",
   "nbconvert_exporter": "python",
   "pygments_lexer": "ipython3",
   "version": "3.11.4"
  }
 },
 "nbformat": 4,
 "nbformat_minor": 5
}
