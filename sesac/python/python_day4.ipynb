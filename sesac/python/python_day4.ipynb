{
 "cells": [
  {
   "cell_type": "code",
   "execution_count": 1,
   "id": "be1518d7",
   "metadata": {},
   "outputs": [],
   "source": [
    "#파일 열기 작업 진행할 때 사용하는 함수 open"
   ]
  },
  {
   "cell_type": "code",
   "execution_count": 2,
   "id": "6e0c8d1b",
   "metadata": {},
   "outputs": [],
   "source": [
    "#f = open(\"파일명\", \"모드\") #모드 : 쓰기(w), 읽기(r), 추가(a)"
   ]
  },
  {
   "cell_type": "code",
   "execution_count": 7,
   "id": "8c65666a",
   "metadata": {},
   "outputs": [],
   "source": [
    "#f = open(\"0901.txt\", \"r\") 파일이 없으므로 에러 발생\n",
    "f = open(\"0901.txt\", \"w\") #파일 생성 w모드로 열어서 내용 작성 시 기존 내용 지워지고 덮어 쓰여짐"
   ]
  },
  {
   "cell_type": "code",
   "execution_count": 8,
   "id": "ae608088",
   "metadata": {},
   "outputs": [
    {
     "data": {
      "text/plain": [
       "5"
      ]
     },
     "execution_count": 8,
     "metadata": {},
     "output_type": "execute_result"
    }
   ],
   "source": [
    "f.write(\"2번째 줄\")"
   ]
  },
  {
   "cell_type": "code",
   "execution_count": 9,
   "id": "fa2edb3f",
   "metadata": {},
   "outputs": [],
   "source": [
    "f.close()"
   ]
  },
  {
   "cell_type": "code",
   "execution_count": 16,
   "id": "cabb342d",
   "metadata": {},
   "outputs": [],
   "source": [
    "f = open(\"0901.txt\", \"a\") #내용 작성 시 내용 추가"
   ]
  },
  {
   "cell_type": "code",
   "execution_count": 17,
   "id": "45d2f73f",
   "metadata": {},
   "outputs": [
    {
     "data": {
      "text/plain": [
       "6"
      ]
     },
     "execution_count": 17,
     "metadata": {},
     "output_type": "execute_result"
    }
   ],
   "source": [
    "f.write(\"\\n5번째 줄\")"
   ]
  },
  {
   "cell_type": "code",
   "execution_count": 18,
   "id": "5728803f",
   "metadata": {},
   "outputs": [],
   "source": [
    "f.close()"
   ]
  },
  {
   "cell_type": "code",
   "execution_count": 19,
   "id": "dc1c3a9f",
   "metadata": {},
   "outputs": [],
   "source": [
    "f1 = open(\"0901_2.txt\", \"w\")"
   ]
  },
  {
   "cell_type": "code",
   "execution_count": 20,
   "id": "25965ef7",
   "metadata": {},
   "outputs": [
    {
     "data": {
      "text/plain": [
       "14"
      ]
     },
     "execution_count": 20,
     "metadata": {},
     "output_type": "execute_result"
    }
   ],
   "source": [
    "f1.write(\"1번\\n2번\\n3번\\n4번\\n5번\")"
   ]
  },
  {
   "cell_type": "code",
   "execution_count": 21,
   "id": "087faf38",
   "metadata": {},
   "outputs": [],
   "source": [
    "f1.close()"
   ]
  },
  {
   "cell_type": "code",
   "execution_count": 25,
   "id": "66b8482d",
   "metadata": {},
   "outputs": [],
   "source": [
    "f1 = open(\"0901_2.txt\", \"w\")"
   ]
  },
  {
   "cell_type": "code",
   "execution_count": 28,
   "id": "a0d60f34",
   "metadata": {},
   "outputs": [],
   "source": [
    "for i in range(1,6):\n",
    "    f1.write(\"%d번\\n\" % i)\n",
    "f1.close()"
   ]
  },
  {
   "cell_type": "code",
   "execution_count": 29,
   "id": "7a718171",
   "metadata": {},
   "outputs": [],
   "source": [
    "with open(\"0901_3.txt\", \"w\") as f:\n",
    "    f.write(\"hello\")"
   ]
  },
  {
   "cell_type": "code",
   "execution_count": 31,
   "id": "410c0886",
   "metadata": {},
   "outputs": [
    {
     "name": "stdout",
     "output_type": "stream",
     "text": [
      "1번\n",
      "2번\n",
      "3번\n",
      "4번\n",
      "5번\n",
      "\n"
     ]
    }
   ],
   "source": [
    "f = open(\"0901_2.txt\", \"r\")\n",
    "print(f.read())\n",
    "#for i in range(1,6):\n",
    "#    f1.write(\"%d번\\n\" % i)\n",
    "f.close()"
   ]
  },
  {
   "cell_type": "code",
   "execution_count": 33,
   "id": "eeb93581",
   "metadata": {},
   "outputs": [
    {
     "name": "stdout",
     "output_type": "stream",
     "text": [
      "1번\n",
      "2번\n",
      "3번\n",
      "4번\n",
      "5번\n",
      "\n"
     ]
    }
   ],
   "source": [
    "with open(\"0901_2.txt\", \"r\") as f:\n",
    "    print(f.read())"
   ]
  },
  {
   "cell_type": "code",
   "execution_count": 41,
   "id": "43160993",
   "metadata": {},
   "outputs": [],
   "source": [
    "data = [\"hello\\n\", \"hi\\n\", \"bye\\n\"]"
   ]
  },
  {
   "cell_type": "code",
   "execution_count": 42,
   "id": "4b59d302",
   "metadata": {},
   "outputs": [],
   "source": [
    "with open(\"0901_4.txt\", \"w\") as f:\n",
    "    f.writelines(data) #writelines 함수는 str 형태가 아니어도 저장"
   ]
  },
  {
   "cell_type": "code",
   "execution_count": 43,
   "id": "e84b5a9f",
   "metadata": {},
   "outputs": [
    {
     "name": "stdout",
     "output_type": "stream",
     "text": [
      "hello\n",
      "hi\n",
      "bye\n",
      "\n"
     ]
    }
   ],
   "source": [
    "with open(\"0901_4.txt\", \"r\") as f:\n",
    "    print(f.read())"
   ]
  },
  {
   "cell_type": "code",
   "execution_count": 44,
   "id": "15dbcb21",
   "metadata": {},
   "outputs": [
    {
     "name": "stdout",
     "output_type": "stream",
     "text": [
      "['hello\\n', 'hi\\n', 'bye\\n']\n"
     ]
    }
   ],
   "source": [
    "with open(\"0901_4.txt\", \"r\") as f:\n",
    "    print(f.readlines()) #readlines 함수는 list의 요소로 저장"
   ]
  },
  {
   "cell_type": "code",
   "execution_count": 53,
   "id": "65ce5684",
   "metadata": {},
   "outputs": [
    {
     "name": "stdout",
     "output_type": "stream",
     "text": [
      "hello\n",
      "hi\n",
      "bye\n",
      "\n"
     ]
    }
   ],
   "source": [
    "li = None\n",
    "with open(\"0901_4.txt\", \"r\") as f:\n",
    "    while li != \"\":\n",
    "        li = f.readline()\n",
    "        print(li.strip(\"\\n\"))"
   ]
  },
  {
   "cell_type": "code",
   "execution_count": 54,
   "id": "0c5cd3e9",
   "metadata": {},
   "outputs": [],
   "source": [
    "#클래스 -> 객체\n",
    "#피클 : 객체를 파일로 저장, 읽기"
   ]
  },
  {
   "cell_type": "code",
   "execution_count": 65,
   "id": "0355322b",
   "metadata": {},
   "outputs": [],
   "source": [
    "data = {\"name\" : \"kim\", \"age\" : 25, \"addr\" : \"seoul\"}"
   ]
  },
  {
   "cell_type": "code",
   "execution_count": 66,
   "id": "545582f8",
   "metadata": {},
   "outputs": [],
   "source": [
    "with open(\"0901_5.p\", \"wb\") as f:\n",
    "    pickle.dump(data, f)# 딕셔너리를 객체 형태로 파일에 저장하려면 pickle 모듈 사용"
   ]
  },
  {
   "cell_type": "code",
   "execution_count": 56,
   "id": "6e51d95d",
   "metadata": {},
   "outputs": [],
   "source": [
    "kor = 100\n",
    "eng = 90"
   ]
  },
  {
   "cell_type": "code",
   "execution_count": 57,
   "id": "e5d6101f",
   "metadata": {},
   "outputs": [],
   "source": [
    "import pickle"
   ]
  },
  {
   "cell_type": "code",
   "execution_count": 62,
   "id": "ac0579d0",
   "metadata": {},
   "outputs": [],
   "source": [
    "with open(\"mypic.p\", \"wb\") as f: #wb write binary 2진수 형태로 저장\n",
    "    pickle.dump(kor, f) #dump 객체를 파일로 저장하는 함수 / kor이라는 객체를 파일로 저장\n",
    "#객체를 파일로 저장하기 위해서는 pickle 모듈의 dump 함수가 사용"
   ]
  },
  {
   "cell_type": "code",
   "execution_count": 63,
   "id": "bb203ed3",
   "metadata": {},
   "outputs": [],
   "source": [
    "with open (\"mypic.p\", \"rb\") as f:\n",
    "    k = pickle.load(f)"
   ]
  },
  {
   "cell_type": "code",
   "execution_count": 64,
   "id": "2e81ddbe",
   "metadata": {},
   "outputs": [
    {
     "name": "stdout",
     "output_type": "stream",
     "text": [
      "100\n"
     ]
    }
   ],
   "source": [
    "print(k)"
   ]
  },
  {
   "cell_type": "code",
   "execution_count": 67,
   "id": "23773d4d",
   "metadata": {},
   "outputs": [],
   "source": [
    "with open(\"0901_5.p\", \"rb\") as f:\n",
    "    obj = pickle.load(f)"
   ]
  },
  {
   "cell_type": "code",
   "execution_count": 68,
   "id": "113383f8",
   "metadata": {},
   "outputs": [
    {
     "name": "stdout",
     "output_type": "stream",
     "text": [
      "{'name': 'kim', 'age': 25, 'addr': 'seoul'}\n"
     ]
    }
   ],
   "source": [
    "print(obj)"
   ]
  },
  {
   "cell_type": "code",
   "execution_count": 69,
   "id": "5053783d",
   "metadata": {},
   "outputs": [],
   "source": [
    "######################################\n",
    "#함수 : 라이브러리(시스템제공함수) - 파이썬 자체로 저장된 함수, 사용자정의함수\n",
    "#사용자들이 자주 사용하는 기능을 미리 만들어 제공 // \n",
    "######################################"
   ]
  },
  {
   "cell_type": "code",
   "execution_count": 70,
   "id": "731dee2c",
   "metadata": {},
   "outputs": [],
   "source": [
    "#def 함수명():\n",
    "#    명령문\n",
    "#    명령문\n",
    "#    ..."
   ]
  },
  {
   "cell_type": "code",
   "execution_count": 71,
   "id": "a357726d",
   "metadata": {},
   "outputs": [],
   "source": [
    "def hi():\n",
    "    print(\"hihello\")"
   ]
  },
  {
   "cell_type": "code",
   "execution_count": 72,
   "id": "6036e09f",
   "metadata": {},
   "outputs": [
    {
     "name": "stdout",
     "output_type": "stream",
     "text": [
      "hihello\n"
     ]
    }
   ],
   "source": [
    "hi()"
   ]
  },
  {
   "cell_type": "code",
   "execution_count": 73,
   "id": "d9110f17",
   "metadata": {},
   "outputs": [],
   "source": [
    "def add(x,y):\n",
    "    print(x+y)"
   ]
  },
  {
   "cell_type": "code",
   "execution_count": 117,
   "id": "972a4dc5",
   "metadata": {},
   "outputs": [
    {
     "name": "stdout",
     "output_type": "stream",
     "text": [
      "3\n"
     ]
    }
   ],
   "source": [
    "total=add(1,2)"
   ]
  },
  {
   "cell_type": "code",
   "execution_count": 120,
   "id": "8dc711db",
   "metadata": {},
   "outputs": [
    {
     "name": "stdout",
     "output_type": "stream",
     "text": [
      "None\n"
     ]
    }
   ],
   "source": []
  },
  {
   "cell_type": "code",
   "execution_count": 75,
   "id": "9da8885f",
   "metadata": {},
   "outputs": [],
   "source": [
    "def add2(x,y):\n",
    "    return x+y"
   ]
  },
  {
   "cell_type": "code",
   "execution_count": 115,
   "id": "4c6f725b",
   "metadata": {},
   "outputs": [],
   "source": [
    "total=add2(1,2)"
   ]
  },
  {
   "cell_type": "code",
   "execution_count": 116,
   "id": "030090a4",
   "metadata": {},
   "outputs": [
    {
     "data": {
      "text/plain": [
       "3"
      ]
     },
     "execution_count": 116,
     "metadata": {},
     "output_type": "execute_result"
    }
   ],
   "source": [
    "total"
   ]
  },
  {
   "cell_type": "code",
   "execution_count": 114,
   "id": "f80457cc",
   "metadata": {},
   "outputs": [
    {
     "name": "stdout",
     "output_type": "stream",
     "text": [
      "3\n"
     ]
    }
   ],
   "source": [
    "print(add2(1,2))"
   ]
  },
  {
   "cell_type": "code",
   "execution_count": 78,
   "id": "f0016c28",
   "metadata": {},
   "outputs": [
    {
     "name": "stdout",
     "output_type": "stream",
     "text": [
      "30\n"
     ]
    }
   ],
   "source": [
    "print(add2(y=10,x=20))"
   ]
  },
  {
   "cell_type": "code",
   "execution_count": 87,
   "id": "fed42e5a",
   "metadata": {},
   "outputs": [],
   "source": [
    "def add3(*arg):#* 전달 받고자 하는 인수 데이터 개수가 상관없다   \n",
    "    s = 0\n",
    "    for i in arg:\n",
    "        s+=i\n",
    "        #print(i)\n",
    "    #print(arg)\n",
    "    return s"
   ]
  },
  {
   "cell_type": "code",
   "execution_count": 88,
   "id": "c296e351",
   "metadata": {},
   "outputs": [
    {
     "data": {
      "text/plain": [
       "100"
      ]
     },
     "execution_count": 88,
     "metadata": {},
     "output_type": "execute_result"
    }
   ],
   "source": [
    "add3(10,20,30,40) #tuple 형태로 출력"
   ]
  },
  {
   "cell_type": "code",
   "execution_count": 93,
   "id": "0441e218",
   "metadata": {},
   "outputs": [],
   "source": [
    "def add4(op, *arg):\n",
    "    res=1\n",
    "    if op == \"mul\":\n",
    "        #return arg[0]*arg[1]*arg[2]\n",
    "        for i in arg:\n",
    "            res = res*i\n",
    "    return res"
   ]
  },
  {
   "cell_type": "code",
   "execution_count": 95,
   "id": "aab7b363",
   "metadata": {},
   "outputs": [
    {
     "data": {
      "text/plain": [
       "24"
      ]
     },
     "execution_count": 95,
     "metadata": {},
     "output_type": "execute_result"
    }
   ],
   "source": [
    "add4(\"mul\",1,2,3,4)"
   ]
  },
  {
   "cell_type": "code",
   "execution_count": 129,
   "id": "192089e5",
   "metadata": {},
   "outputs": [
    {
     "ename": "NameError",
     "evalue": "name 'add' is not defined",
     "output_type": "error",
     "traceback": [
      "\u001b[1;31m---------------------------------------------------------------------------\u001b[0m",
      "\u001b[1;31mNameError\u001b[0m                                 Traceback (most recent call last)",
      "Cell \u001b[1;32mIn[129], line 1\u001b[0m\n\u001b[1;32m----> 1\u001b[0m \u001b[38;5;28;01mdel\u001b[39;00m add\n",
      "\u001b[1;31mNameError\u001b[0m: name 'add' is not defined"
     ]
    }
   ],
   "source": [
    "del add"
   ]
  },
  {
   "cell_type": "code",
   "execution_count": 133,
   "id": "11494738",
   "metadata": {},
   "outputs": [
    {
     "name": "stdout",
     "output_type": "stream",
     "text": [
      "0.5\n"
     ]
    }
   ],
   "source": [
    "def cal(op, num1, num2):\n",
    "    if op == \"add\":\n",
    "        return num1 + num2\n",
    "    elif op == \"sub\":\n",
    "        return num1 - num2\n",
    "    elif op == \"mul\":\n",
    "        return num1 * num2\n",
    "    elif op == \"div\":\n",
    "        return num1 / num2\n",
    "#elif 사용하는 이유 : if를 사용하면 다 읽음 elif는 맞으면 넘어감\n",
    "\n",
    "print(cal(\"div\",1,2))"
   ]
  },
  {
   "cell_type": "code",
   "execution_count": 103,
   "id": "66dabfac",
   "metadata": {},
   "outputs": [
    {
     "data": {
      "text/plain": [
       "(24, 999, 333)"
      ]
     },
     "execution_count": 103,
     "metadata": {},
     "output_type": "execute_result"
    }
   ],
   "source": [
    "add4(\"mul\",1,2,3,4)"
   ]
  },
  {
   "cell_type": "code",
   "execution_count": 104,
   "id": "88126e5d",
   "metadata": {},
   "outputs": [],
   "source": [
    "#계산기 기능 구현(사칙연산)"
   ]
  },
  {
   "cell_type": "code",
   "execution_count": 124,
   "id": "87c2d71f",
   "metadata": {},
   "outputs": [
    {
     "name": "stdout",
     "output_type": "stream",
     "text": [
      "-2\n"
     ]
    }
   ],
   "source": [
    "def calc (op, num1, num2) :\n",
    "    if op == '+' :\n",
    "        return num1 + num2\n",
    "    elif op == '-' :\n",
    "        return num1 - num2\n",
    "    elif op == '*' :\n",
    "        return num1 * num2\n",
    "    elif op == '/' :\n",
    "        return num1 / num2\n",
    "\n",
    "print(calc('-', 1 ,3))"
   ]
  },
  {
   "cell_type": "code",
   "execution_count": 108,
   "id": "5590d1d4",
   "metadata": {},
   "outputs": [],
   "source": [
    "def plus(x,y):\n",
    "    print(x+y)\n",
    "def minus(x,y):\n",
    "    print(x-y)\n",
    "def multiple(x,y):\n",
    "    print(x*y)\n",
    "def divide(x,y):\n",
    "    print(x/y)"
   ]
  },
  {
   "cell_type": "code",
   "execution_count": 107,
   "id": "581b1775",
   "metadata": {},
   "outputs": [
    {
     "name": "stdout",
     "output_type": "stream",
     "text": [
      "3\n"
     ]
    }
   ],
   "source": [
    "plus(1,2)"
   ]
  },
  {
   "cell_type": "code",
   "execution_count": 126,
   "id": "228aa9d2",
   "metadata": {},
   "outputs": [
    {
     "name": "stdout",
     "output_type": "stream",
     "text": [
      "-1\n"
     ]
    }
   ],
   "source": [
    "minus(2,3)"
   ]
  },
  {
   "cell_type": "code",
   "execution_count": 110,
   "id": "c2e569f1",
   "metadata": {},
   "outputs": [
    {
     "name": "stdout",
     "output_type": "stream",
     "text": [
      "9\n"
     ]
    }
   ],
   "source": [
    "multiple(3,3)"
   ]
  },
  {
   "cell_type": "code",
   "execution_count": 121,
   "id": "c773a5fd",
   "metadata": {},
   "outputs": [
    {
     "name": "stdout",
     "output_type": "stream",
     "text": [
      "2.0\n"
     ]
    }
   ],
   "source": [
    "divide(6,3)"
   ]
  },
  {
   "cell_type": "code",
   "execution_count": 134,
   "id": "cce9960f",
   "metadata": {},
   "outputs": [
    {
     "name": "stdout",
     "output_type": "stream",
     "text": [
      "10 20 30\n"
     ]
    },
    {
     "data": {
      "text/plain": [
       "['10', '20', '30']"
      ]
     },
     "execution_count": 134,
     "metadata": {},
     "output_type": "execute_result"
    }
   ],
   "source": [
    "input().split()\n",
    "#\"10 20 30\".split() => [10, 20, 30] split 하면 list로 저장"
   ]
  },
  {
   "cell_type": "code",
   "execution_count": null,
   "id": "4eeee2d5",
   "metadata": {},
   "outputs": [],
   "source": []
  }
 ],
 "metadata": {
  "kernelspec": {
   "display_name": "Python 3 (ipykernel)",
   "language": "python",
   "name": "python3"
  },
  "language_info": {
   "codemirror_mode": {
    "name": "ipython",
    "version": 3
   },
   "file_extension": ".py",
   "mimetype": "text/x-python",
   "name": "python",
   "nbconvert_exporter": "python",
   "pygments_lexer": "ipython3",
   "version": "3.11.4"
  }
 },
 "nbformat": 4,
 "nbformat_minor": 5
}
