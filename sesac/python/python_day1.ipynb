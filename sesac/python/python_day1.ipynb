{
 "cells": [
  {
   "cell_type": "code",
   "execution_count": 1,
   "id": "8177beb8",
   "metadata": {},
   "outputs": [
    {
     "name": "stdout",
     "output_type": "stream",
     "text": [
      "hello sesac\n"
     ]
    }
   ],
   "source": [
    "print(\"hello sesac\")"
   ]
  },
  {
   "cell_type": "code",
   "execution_count": 6,
   "id": "f00ac16a",
   "metadata": {},
   "outputs": [
    {
     "data": {
      "text/plain": [
       "'hello sesac'"
      ]
     },
     "execution_count": 6,
     "metadata": {},
     "output_type": "execute_result"
    }
   ],
   "source": [
    "\"hello sesac\"\n",
    "\"hello sesac\" #print 명령문 없이는 마지막만 출력"
   ]
  },
  {
   "cell_type": "code",
   "execution_count": 7,
   "id": "659dd30b",
   "metadata": {},
   "outputs": [
    {
     "name": "stdout",
     "output_type": "stream",
     "text": [
      "hello sesac\n",
      "hello sesac\n"
     ]
    }
   ],
   "source": [
    "print('hello sesac')\n",
    "print('hello sesac')"
   ]
  },
  {
   "cell_type": "code",
   "execution_count": 9,
   "id": "78c1173a",
   "metadata": {},
   "outputs": [
    {
     "data": {
      "text/plain": [
       "2"
      ]
     },
     "execution_count": 9,
     "metadata": {},
     "output_type": "execute_result"
    }
   ],
   "source": [
    "x=3\n",
    "y=2\n",
    "x\n",
    "y #print 명령문 없이는 마지막만 출력"
   ]
  },
  {
   "cell_type": "code",
   "execution_count": 10,
   "id": "6bd2490a",
   "metadata": {},
   "outputs": [
    {
     "name": "stdout",
     "output_type": "stream",
     "text": [
      "3\n",
      "2\n"
     ]
    }
   ],
   "source": [
    "x=3\n",
    "y=2\n",
    "print(x)\n",
    "print(y)"
   ]
  },
  {
   "cell_type": "code",
   "execution_count": 11,
   "id": "4e975a1a",
   "metadata": {},
   "outputs": [
    {
     "data": {
      "text/plain": [
       "3"
      ]
     },
     "execution_count": 11,
     "metadata": {},
     "output_type": "execute_result"
    }
   ],
   "source": [
    "1+2"
   ]
  },
  {
   "cell_type": "code",
   "execution_count": 12,
   "id": "26a6b9f6",
   "metadata": {},
   "outputs": [
    {
     "data": {
      "text/plain": [
       "4421509906651804630117533976071"
      ]
     },
     "execution_count": 12,
     "metadata": {},
     "output_type": "execute_result"
    }
   ],
   "source": [
    "64864651684622654651*68165168421"
   ]
  },
  {
   "cell_type": "code",
   "execution_count": 13,
   "id": "8d4eab6a",
   "metadata": {},
   "outputs": [
    {
     "data": {
      "text/plain": [
       "3"
      ]
     },
     "execution_count": 13,
     "metadata": {},
     "output_type": "execute_result"
    }
   ],
   "source": [
    "x=1\n",
    "y=2\n",
    "x+y"
   ]
  },
  {
   "cell_type": "code",
   "execution_count": 18,
   "id": "dd766de6",
   "metadata": {},
   "outputs": [
    {
     "name": "stdout",
     "output_type": "stream",
     "text": [
      "13\n",
      "239\n"
     ]
    }
   ],
   "source": [
    "x=1\n",
    "a=1.5\n",
    "b=3.1e10 #3.1 * 10의 10승\n",
    "c=0o15\n",
    "d=0xef\n",
    "print(c)\n",
    "print(d)"
   ]
  },
  {
   "cell_type": "code",
   "execution_count": 15,
   "id": "2ca3ecd5",
   "metadata": {},
   "outputs": [
    {
     "data": {
      "text/plain": [
       "31000000000.0"
      ]
     },
     "execution_count": 15,
     "metadata": {},
     "output_type": "execute_result"
    }
   ],
   "source": [
    "b"
   ]
  },
  {
   "cell_type": "code",
   "execution_count": 21,
   "id": "e3d1914b",
   "metadata": {},
   "outputs": [
    {
     "data": {
      "text/plain": [
       "1"
      ]
     },
     "execution_count": 21,
     "metadata": {},
     "output_type": "execute_result"
    }
   ],
   "source": [
    "3 ** 4 #3의 4승\n",
    "4 % 3 #나눴을 때 나머지\n",
    "4 // 3 #나눴을 때 몫"
   ]
  },
  {
   "cell_type": "code",
   "execution_count": 23,
   "id": "60becb44",
   "metadata": {},
   "outputs": [
    {
     "data": {
      "text/plain": [
       "'\\nhi\\nhello\\n'"
      ]
     },
     "execution_count": 23,
     "metadata": {},
     "output_type": "execute_result"
    }
   ],
   "source": [
    "'''\n",
    "hi\n",
    "hello\n",
    "'''\n",
    "\n",
    "\"\"\"\n",
    "hi\n",
    "hello\n",
    "\"\"\""
   ]
  },
  {
   "cell_type": "code",
   "execution_count": 24,
   "id": "98b1b4ad",
   "metadata": {},
   "outputs": [
    {
     "data": {
      "text/plain": [
       "\"kim's\""
      ]
     },
     "execution_count": 24,
     "metadata": {},
     "output_type": "execute_result"
    }
   ],
   "source": [
    "n=\"kim's\"\n",
    "n"
   ]
  },
  {
   "cell_type": "code",
   "execution_count": 25,
   "id": "676dd122",
   "metadata": {},
   "outputs": [
    {
     "ename": "SyntaxError",
     "evalue": "unterminated string literal (detected at line 1) (3233848643.py, line 1)",
     "output_type": "error",
     "traceback": [
      "\u001b[1;36m  Cell \u001b[1;32mIn[25], line 1\u001b[1;36m\u001b[0m\n\u001b[1;33m    n='kim's'\u001b[0m\n\u001b[1;37m            ^\u001b[0m\n\u001b[1;31mSyntaxError\u001b[0m\u001b[1;31m:\u001b[0m unterminated string literal (detected at line 1)\n"
     ]
    }
   ],
   "source": [
    "n='kim's'\n",
    "n"
   ]
  },
  {
   "cell_type": "code",
   "execution_count": 26,
   "id": "c71e5509",
   "metadata": {},
   "outputs": [
    {
     "data": {
      "text/plain": [
       "\"kim's\""
      ]
     },
     "execution_count": 26,
     "metadata": {},
     "output_type": "execute_result"
    }
   ],
   "source": [
    "n='kim\\'s'\n",
    "n"
   ]
  },
  {
   "cell_type": "code",
   "execution_count": 30,
   "id": "0edd8327",
   "metadata": {},
   "outputs": [
    {
     "name": "stdout",
     "output_type": "stream",
     "text": [
      "he\tllo\n",
      "hi\n"
     ]
    }
   ],
   "source": [
    "msg=\"he\\tllo\\nhi\"\n",
    "msg\n",
    "print(msg) #\\n 줄바꿈, \\t tap 간격"
   ]
  },
  {
   "cell_type": "code",
   "execution_count": 31,
   "id": "c9e32f6e",
   "metadata": {},
   "outputs": [
    {
     "data": {
      "text/plain": [
       "'hihello'"
      ]
     },
     "execution_count": 31,
     "metadata": {},
     "output_type": "execute_result"
    }
   ],
   "source": [
    "\"hi\" + \"hello\""
   ]
  },
  {
   "cell_type": "code",
   "execution_count": 33,
   "id": "a342e7f3",
   "metadata": {},
   "outputs": [
    {
     "data": {
      "text/plain": [
       "'=================================================='"
      ]
     },
     "execution_count": 33,
     "metadata": {},
     "output_type": "execute_result"
    }
   ],
   "source": [
    "\"hi\" * 100\n",
    "\"=\" * 50 #문자 반복"
   ]
  },
  {
   "cell_type": "code",
   "execution_count": 35,
   "id": "0631828f",
   "metadata": {},
   "outputs": [
    {
     "data": {
      "text/plain": [
       "6"
      ]
     },
     "execution_count": 35,
     "metadata": {},
     "output_type": "execute_result"
    }
   ],
   "source": [
    "len(\"hello\") #len 문자열의 길이\n",
    "len(\"h ello\") #띄어쓰기도 문자열로 포함"
   ]
  },
  {
   "cell_type": "code",
   "execution_count": 36,
   "id": "14dea9c7",
   "metadata": {},
   "outputs": [
    {
     "data": {
      "text/plain": [
       "'hello'"
      ]
     },
     "execution_count": 36,
     "metadata": {},
     "output_type": "execute_result"
    }
   ],
   "source": [
    "a=\"hello\"\n",
    "a"
   ]
  },
  {
   "cell_type": "code",
   "execution_count": 38,
   "id": "bf47816f",
   "metadata": {},
   "outputs": [
    {
     "data": {
      "text/plain": [
       "'o'"
      ]
     },
     "execution_count": 38,
     "metadata": {},
     "output_type": "execute_result"
    }
   ],
   "source": [
    "a[0]\n",
    "a[4] #문자열의 마지막 문자 위치 = len() -1"
   ]
  },
  {
   "cell_type": "code",
   "execution_count": 40,
   "id": "54abfe3b",
   "metadata": {},
   "outputs": [
    {
     "data": {
      "text/plain": [
       "'e'"
      ]
     },
     "execution_count": 40,
     "metadata": {},
     "output_type": "execute_result"
    }
   ],
   "source": [
    "a[-1]\n",
    "a[-4]"
   ]
  },
  {
   "cell_type": "code",
   "execution_count": 45,
   "id": "ab38fad5",
   "metadata": {},
   "outputs": [
    {
     "data": {
      "text/plain": [
       "'hell'"
      ]
     },
     "execution_count": 45,
     "metadata": {},
     "output_type": "execute_result"
    }
   ],
   "source": [
    "b=\"hello world\"\n",
    "b[0:4] # [포함:불포함]"
   ]
  },
  {
   "cell_type": "code",
   "execution_count": 46,
   "id": "e9f51797",
   "metadata": {},
   "outputs": [
    {
     "data": {
      "text/plain": [
       "'hel'"
      ]
     },
     "execution_count": 46,
     "metadata": {},
     "output_type": "execute_result"
    }
   ],
   "source": [
    "b[:3]"
   ]
  },
  {
   "cell_type": "code",
   "execution_count": 47,
   "id": "9f18c061",
   "metadata": {},
   "outputs": [
    {
     "data": {
      "text/plain": [
       "'lo world'"
      ]
     },
     "execution_count": 47,
     "metadata": {},
     "output_type": "execute_result"
    }
   ],
   "source": [
    "b[3:]"
   ]
  },
  {
   "cell_type": "code",
   "execution_count": 52,
   "id": "71cc6ddd",
   "metadata": {},
   "outputs": [
    {
     "data": {
      "text/plain": [
       "'오늘은 교육 이틀째 입니다,'"
      ]
     },
     "execution_count": 52,
     "metadata": {},
     "output_type": "execute_result"
    }
   ],
   "source": [
    "\"오늘은 교육 %d알째 입니다,\" % 2\n",
    "\"오늘은 교육 %s째 입니다,\" % \"이틀\""
   ]
  },
  {
   "cell_type": "code",
   "execution_count": 54,
   "id": "a9c42d40",
   "metadata": {},
   "outputs": [
    {
     "data": {
      "text/plain": [
       "'오늘은 교육 2알째 5번째 실습입니다,'"
      ]
     },
     "execution_count": 54,
     "metadata": {},
     "output_type": "execute_result"
    }
   ],
   "source": [
    "\"오늘은 교육 %d알째 %d번째 %s입니다,\" % (2, 5, \"실습\")"
   ]
  },
  {
   "cell_type": "code",
   "execution_count": 57,
   "id": "e4293b65",
   "metadata": {},
   "outputs": [
    {
     "data": {
      "text/plain": [
       "'모델의 정확도가 90% 입니다.'"
      ]
     },
     "execution_count": 57,
     "metadata": {},
     "output_type": "execute_result"
    }
   ],
   "source": [
    "\"모델의 정확도가 %d%% 입니다.\" % 90"
   ]
  },
  {
   "cell_type": "code",
   "execution_count": 58,
   "id": "7310bf9b",
   "metadata": {},
   "outputs": [
    {
     "name": "stdout",
     "output_type": "stream",
     "text": [
      "hi\n",
      "           hi\n"
     ]
    }
   ],
   "source": [
    "print(\"hi\")\n",
    "print(\"           hi\")"
   ]
  },
  {
   "cell_type": "code",
   "execution_count": 60,
   "id": "784b90e6",
   "metadata": {
    "scrolled": true
   },
   "outputs": [
    {
     "name": "stdout",
     "output_type": "stream",
     "text": [
      "        hi\n",
      "   hellohi\n"
     ]
    }
   ],
   "source": [
    "print(\"%10s\" % \"hi\")\n",
    "print(\"%10s\" % \"hellohi\")"
   ]
  },
  {
   "cell_type": "code",
   "execution_count": 61,
   "id": "89ee9fc1",
   "metadata": {},
   "outputs": [
    {
     "name": "stdout",
     "output_type": "stream",
     "text": [
      "3.141592\n",
      "2.718\n"
     ]
    }
   ],
   "source": [
    "print(\"3.141592\")\n",
    "print(\"2.718\")"
   ]
  },
  {
   "cell_type": "code",
   "execution_count": 62,
   "id": "52c6a32a",
   "metadata": {},
   "outputs": [
    {
     "name": "stdout",
     "output_type": "stream",
     "text": [
      "      3.14\n",
      "      2.72\n"
     ]
    }
   ],
   "source": [
    "print(\"%10.2f\" % 3.141592)\n",
    "print(\"%10.2f\" % 2.718)"
   ]
  },
  {
   "cell_type": "code",
   "execution_count": 67,
   "id": "b1283691",
   "metadata": {},
   "outputs": [
    {
     "data": {
      "text/plain": [
       "'5일 동안 훈련한 모델의 acc가 90% 입니다.'"
      ]
     },
     "execution_count": 67,
     "metadata": {},
     "output_type": "execute_result"
    }
   ],
   "source": [
    "\"모델의 {0}가 {1}%입니다\".format(\"acc\",90)\n",
    "\"{2}일 동안 훈련한 모델의 {0}가 {1}% 입니다.\".format(\"acc\", 90, 5)"
   ]
  },
  {
   "cell_type": "code",
   "execution_count": 74,
   "id": "f29d1142",
   "metadata": {},
   "outputs": [
    {
     "data": {
      "text/plain": [
       "2"
      ]
     },
     "execution_count": 74,
     "metadata": {},
     "output_type": "execute_result"
    }
   ],
   "source": [
    "x=\"머신러닝딥러닝\"\n",
    "x.count(\"러\")\n",
    "x.find(\"라\") # -1 문자열 검색 실패\n",
    "x.find(\"러\") # 맨 왼쪽부터 검색해 나감 (권장)\n",
    "\n",
    "#x.index(\"라\") \n",
    "x.index(\"러\") # 맨 왼쪽부터 검색해 나감 검색 실패 시 에러"
   ]
  },
  {
   "cell_type": "code",
   "execution_count": 75,
   "id": "77ae3a2a",
   "metadata": {},
   "outputs": [
    {
     "data": {
      "text/plain": [
       "'머신학습딥학습'"
      ]
     },
     "execution_count": 75,
     "metadata": {},
     "output_type": "execute_result"
    }
   ],
   "source": [
    "x=\"머신러닝딥러닝\"\n",
    "x.replace(\"러닝\",\"학습\")"
   ]
  },
  {
   "cell_type": "code",
   "execution_count": 76,
   "id": "a3a79f40",
   "metadata": {},
   "outputs": [],
   "source": [
    "trule=str.maketrans(\"러\",\"런\")"
   ]
  },
  {
   "cell_type": "code",
   "execution_count": 77,
   "id": "5768c3ca",
   "metadata": {},
   "outputs": [
    {
     "data": {
      "text/plain": [
       "'머신런닝딥런닝'"
      ]
     },
     "execution_count": 77,
     "metadata": {},
     "output_type": "execute_result"
    }
   ],
   "source": [
    "x.translate(trule)"
   ]
  },
  {
   "cell_type": "code",
   "execution_count": 80,
   "id": "52a19ff4",
   "metadata": {},
   "outputs": [],
   "source": [
    "trule2=str.maketrans(\"러닝\",\"런닝\")"
   ]
  },
  {
   "cell_type": "code",
   "execution_count": 81,
   "id": "b23d8955",
   "metadata": {},
   "outputs": [
    {
     "data": {
      "text/plain": [
       "'머신런닝딥런닝'"
      ]
     },
     "execution_count": 81,
     "metadata": {},
     "output_type": "execute_result"
    }
   ],
   "source": [
    "x.translate(trule2)"
   ]
  },
  {
   "cell_type": "code",
   "execution_count": 83,
   "id": "a8326be8",
   "metadata": {},
   "outputs": [
    {
     "data": {
      "text/plain": [
       "['머신', '러닝', '딥', '러닝']"
      ]
     },
     "execution_count": 83,
     "metadata": {},
     "output_type": "execute_result"
    }
   ],
   "source": [
    "\"머신 러닝 딥 러닝\".split() # 공백을 기준으로 분리"
   ]
  },
  {
   "cell_type": "code",
   "execution_count": 84,
   "id": "fbf6a8a7",
   "metadata": {},
   "outputs": [
    {
     "data": {
      "text/plain": [
       "['머신', '러닝@딥', '러닝']"
      ]
     },
     "execution_count": 84,
     "metadata": {},
     "output_type": "execute_result"
    }
   ],
   "source": [
    "\"머신 러닝@딥 러닝\".split()"
   ]
  },
  {
   "cell_type": "code",
   "execution_count": 86,
   "id": "3eca3f7f",
   "metadata": {},
   "outputs": [
    {
     "data": {
      "text/plain": [
       "['머신 러닝', '딥 러닝']"
      ]
     },
     "execution_count": 86,
     "metadata": {},
     "output_type": "execute_result"
    }
   ],
   "source": [
    "\"머신 러닝@딥 러닝\".split(\"@\")"
   ]
  },
  {
   "cell_type": "code",
   "execution_count": 87,
   "id": "f03daed7",
   "metadata": {},
   "outputs": [],
   "source": [
    "content=\"모레까지 200㎜ 폭우…주말 태풍 하이쿠이 영향 비\""
   ]
  },
  {
   "cell_type": "code",
   "execution_count": 88,
   "id": "e576ee4b",
   "metadata": {},
   "outputs": [
    {
     "data": {
      "text/plain": [
       "'200'"
      ]
     },
     "execution_count": 88,
     "metadata": {},
     "output_type": "execute_result"
    }
   ],
   "source": [
    "content[5:8]"
   ]
  },
  {
   "cell_type": "code",
   "execution_count": 92,
   "id": "04bbc1e1",
   "metadata": {},
   "outputs": [
    {
     "data": {
      "text/plain": [
       "'x,y,z'"
      ]
     },
     "execution_count": 92,
     "metadata": {},
     "output_type": "execute_result"
    }
   ],
   "source": [
    "res=\",\".join(\"xyz\")\n",
    "res"
   ]
  },
  {
   "cell_type": "code",
   "execution_count": 93,
   "id": "d7b95967",
   "metadata": {},
   "outputs": [
    {
     "data": {
      "text/plain": [
       "['x', 'y', 'z']"
      ]
     },
     "execution_count": 93,
     "metadata": {},
     "output_type": "execute_result"
    }
   ],
   "source": [
    "res.split(\",\")"
   ]
  },
  {
   "cell_type": "code",
   "execution_count": 94,
   "id": "cfcf481b",
   "metadata": {},
   "outputs": [
    {
     "data": {
      "text/plain": [
       "'HELLO'"
      ]
     },
     "execution_count": 94,
     "metadata": {},
     "output_type": "execute_result"
    }
   ],
   "source": [
    "\"hello\".upper()"
   ]
  },
  {
   "cell_type": "code",
   "execution_count": 95,
   "id": "355b8ae4",
   "metadata": {},
   "outputs": [
    {
     "data": {
      "text/plain": [
       "'hello'"
      ]
     },
     "execution_count": 95,
     "metadata": {},
     "output_type": "execute_result"
    }
   ],
   "source": [
    "\"HELLO\".lower()"
   ]
  },
  {
   "cell_type": "code",
   "execution_count": 97,
   "id": "7e0f2dee",
   "metadata": {},
   "outputs": [
    {
     "name": "stdout",
     "output_type": "stream",
     "text": [
      "python\n",
      "    python\n",
      "python    \n"
     ]
    }
   ],
   "source": [
    "print(\"    python    \".strip()) #공백제거\n",
    "print(\"    python    \".rstrip())\n",
    "print(\"    python    \".lstrip())"
   ]
  },
  {
   "cell_type": "code",
   "execution_count": 104,
   "id": "8a2241dd",
   "metadata": {},
   "outputs": [
    {
     "name": "stdout",
     "output_type": "stream",
     "text": [
      ",   python\n",
      "python\n",
      "python.\n",
      "python\n"
     ]
    }
   ],
   "source": [
    "print(\" ,   python    \".strip()) #양쪽 공백 제거\n",
    "print(\" ,   python    \".strip(\", \")) #양쪽 공백 또는 컴마 제거\n",
    "print(\" ,   python.    \".strip(\", \"))\n",
    "print(\" ,   python.    \".strip(\"., \"))"
   ]
  },
  {
   "cell_type": "code",
   "execution_count": 106,
   "id": "e3f1b87e",
   "metadata": {},
   "outputs": [
    {
     "data": {
      "text/plain": [
       "'000hi'"
      ]
     },
     "execution_count": 106,
     "metadata": {},
     "output_type": "execute_result"
    }
   ],
   "source": [
    "\"123\".zfill(5)\n",
    "\"hi\".zfill(5)"
   ]
  },
  {
   "cell_type": "code",
   "execution_count": 109,
   "id": "3f8eedc7",
   "metadata": {},
   "outputs": [
    {
     "data": {
      "text/plain": [
       "-1"
      ]
     },
     "execution_count": 109,
     "metadata": {},
     "output_type": "execute_result"
    }
   ],
   "source": [
    "\"apple pineapple\".find(\"ap\")\n",
    "\"apple pineapple\".find(\"xy\")"
   ]
  },
  {
   "cell_type": "code",
   "execution_count": 110,
   "id": "97e773ed",
   "metadata": {
    "scrolled": true
   },
   "outputs": [
    {
     "data": {
      "text/plain": [
       "'\\n자료구조 : 자료를 저장 및 관리하는 방법\\n알고리즘 : 문제를 해결하는 좋은 방법\\n'"
      ]
     },
     "execution_count": 110,
     "metadata": {},
     "output_type": "execute_result"
    }
   ],
   "source": [
    "\"\"\"\n",
    "자료구조 : 자료를 저장 및 관리하는 방법\n",
    "알고리즘 : 문제를 해결하는 좋은 방법\n",
    "\"\"\""
   ]
  },
  {
   "cell_type": "code",
   "execution_count": null,
   "id": "dca24ac6",
   "metadata": {},
   "outputs": [],
   "source": [
    "\"\"\"\n",
    "파이썬 자료구조 : 리스트, 딕셔너리, 집합, 튜플\n",
    "=> 리스트, 딕셔너리 가장 많이 사용\n",
    "프로그래밍 언어 알고리즘 : \n",
    "검색 : 순차, 이진, DFS, BFS ...\n",
    "정렬 : 선택, 버블, 퀵, 계수 ...\n",
    "----------------------------------------------------------------------------\n",
    "예측 /분류 모델(머신러닝, 딥런닝) : 의사결정트리, 랜덤포레스트, 신경망 ... \n",
    "\"\"\""
   ]
  },
  {
   "cell_type": "code",
   "execution_count": null,
   "id": "4e2daf71",
   "metadata": {},
   "outputs": [],
   "source": [
    "\"\"\"\n",
    "[서울=뉴시스]이인준 기자 = 챗GPT 같은 생성형 AI를 통해 한국의 기업 생산량이 최대 620조원(4763억달러) 증가할 수 있다는 분석이 제기됐다.\n",
    "대한상공회의소가 28일 마이크로소프트, 영국 컨설팅그룹 엑세스파트너십과 함께 발간한 '생성형 AI가 한국경제에 미치는 영향 보고서'에 따르면 생성형 AI 적용에 따른 한국 경제의 잠재적 생산역량(productive capacity)은 지난해 국내총생산(GDP) 2150조6000억원(명목) 대비 29%에 달한다.\n",
    "\"\"\"\n",
    "\n",
    "\"\"\"\n",
    "'이인준' 추출\n",
    "'620' 추출\n",
    "'29%' 추출\n",
    "\"\"\""
   ]
  },
  {
   "cell_type": "code",
   "execution_count": 113,
   "id": "5a10c76a",
   "metadata": {},
   "outputs": [],
   "source": [
    "content=\n",
    "\"\"\"\n",
    "[서울=뉴시스]이인준 기자 = 챗GPT 같은 생성형 AI를 통해 한국의 기업 생산량이 최대 620조원(4763억달러) 증가할 수 있다는 분석이 제기됐다.\n",
    "대한상공회의소가 28일 마이크로소프트, 영국 컨설팅그룹 엑세스파트너십과 함께 발간한 생성형 AI가 한국경제에 미치는 영향 보고서에 따르면 생성형 AI 적용에 따른 한국 경제의 잠재적 생산역량(productive capacity)은 지난해 국내총생산(GDP) 2150조6000억원(명목) 대비 29%에 달한다.\n",
    "\"\"\""
   ]
  },
  {
   "cell_type": "code",
   "execution_count": 123,
   "id": "551fea41",
   "metadata": {
    "scrolled": true
   },
   "outputs": [
    {
     "name": "stdout",
     "output_type": "stream",
     "text": [
      "8\n",
      "이인준\n",
      "51\n",
      "620\n",
      "249\n",
      "29%\n"
     ]
    }
   ],
   "source": [
    "print(content.find(\"이인준\"))\n",
    "print(content[8:11])\n",
    "print(content.find(\"620\"))\n",
    "print(content[51:54])\n",
    "print(content.find(\"29%\"))\n",
    "print(content[249:252])"
   ]
  },
  {
   "cell_type": "code",
   "execution_count": 124,
   "id": "c4f4c6e5",
   "metadata": {},
   "outputs": [
    {
     "data": {
      "text/plain": [
       "'이인준'"
      ]
     },
     "execution_count": 124,
     "metadata": {},
     "output_type": "execute_result"
    }
   ],
   "source": [
    "content.split()[0][8:]"
   ]
  },
  {
   "cell_type": "code",
   "execution_count": 125,
   "id": "af9d9493",
   "metadata": {},
   "outputs": [
    {
     "data": {
      "text/plain": [
       "'620'"
      ]
     },
     "execution_count": 125,
     "metadata": {},
     "output_type": "execute_result"
    }
   ],
   "source": [
    "content.split()[12][:3]"
   ]
  },
  {
   "cell_type": "code",
   "execution_count": 126,
   "id": "f7bc5162",
   "metadata": {},
   "outputs": [
    {
     "data": {
      "text/plain": [
       "'29%'"
      ]
     },
     "execution_count": 126,
     "metadata": {},
     "output_type": "execute_result"
    }
   ],
   "source": [
    "content.split()[-2][:3]"
   ]
  },
  {
   "cell_type": "code",
   "execution_count": 127,
   "id": "0f073a95",
   "metadata": {},
   "outputs": [],
   "source": [
    "content=\"모레까지 200㎜ 폭우…주말 태풍 하이쿠이 영향 비\""
   ]
  },
  {
   "cell_type": "code",
   "execution_count": 128,
   "id": "eb42f478",
   "metadata": {},
   "outputs": [
    {
     "data": {
      "text/plain": [
       "'200'"
      ]
     },
     "execution_count": 128,
     "metadata": {},
     "output_type": "execute_result"
    }
   ],
   "source": [
    "content.split()[1][:3]"
   ]
  },
  {
   "cell_type": "code",
   "execution_count": 129,
   "id": "14143e09",
   "metadata": {},
   "outputs": [
    {
     "data": {
      "text/plain": [
       "5"
      ]
     },
     "execution_count": 129,
     "metadata": {},
     "output_type": "execute_result"
    }
   ],
   "source": [
    "content.find(\"200\")"
   ]
  },
  {
   "cell_type": "code",
   "execution_count": 130,
   "id": "ccbccad1",
   "metadata": {},
   "outputs": [
    {
     "name": "stdout",
     "output_type": "stream",
     "text": [
      "200\n"
     ]
    }
   ],
   "source": [
    "print(content[5:8])"
   ]
  },
  {
   "cell_type": "code",
   "execution_count": 131,
   "id": "57c59f66",
   "metadata": {},
   "outputs": [
    {
     "data": {
      "text/plain": [
       "'200'"
      ]
     },
     "execution_count": 131,
     "metadata": {},
     "output_type": "execute_result"
    }
   ],
   "source": [
    "content[5:8]"
   ]
  },
  {
   "cell_type": "code",
   "execution_count": 133,
   "id": "851c886b",
   "metadata": {},
   "outputs": [],
   "source": [
    "text=\"\"\"\n",
    "오픈 AI는 지난해 11월 챗GPT를 발표해 월가에 생성형 인공지능(AI) 열풍을 일으켰었다. 챗GPT는 출시 일주일 만에 사용자가 100만 명을 넘는 등 획기적 성능으로 화제를 모았었다. 지금까지 개발된 AI 중 최고라는 평가를 받았었다.\n",
    "\"\"\""
   ]
  },
  {
   "cell_type": "code",
   "execution_count": 134,
   "id": "56d90edc",
   "metadata": {},
   "outputs": [
    {
     "data": {
      "text/plain": [
       "34"
      ]
     },
     "execution_count": 134,
     "metadata": {},
     "output_type": "execute_result"
    }
   ],
   "source": [
    "text.find(\"인공지능\")"
   ]
  },
  {
   "cell_type": "code",
   "execution_count": 135,
   "id": "165b1960",
   "metadata": {},
   "outputs": [
    {
     "data": {
      "text/plain": [
       "'인공지능'"
      ]
     },
     "execution_count": 135,
     "metadata": {},
     "output_type": "execute_result"
    }
   ],
   "source": [
    "text[34:38]"
   ]
  },
  {
   "cell_type": "code",
   "execution_count": 136,
   "id": "a8addb93",
   "metadata": {},
   "outputs": [
    {
     "data": {
      "text/plain": [
       "'인공지능'"
      ]
     },
     "execution_count": 136,
     "metadata": {},
     "output_type": "execute_result"
    }
   ],
   "source": [
    "text.split()[8][:4]"
   ]
  },
  {
   "cell_type": "code",
   "execution_count": 137,
   "id": "aa0b04f4",
   "metadata": {},
   "outputs": [
    {
     "data": {
      "text/plain": [
       "75"
      ]
     },
     "execution_count": 137,
     "metadata": {},
     "output_type": "execute_result"
    }
   ],
   "source": [
    "text.find(\"100만\")"
   ]
  },
  {
   "cell_type": "code",
   "execution_count": 138,
   "id": "4b622e5d",
   "metadata": {},
   "outputs": [
    {
     "data": {
      "text/plain": [
       "'100만'"
      ]
     },
     "execution_count": 138,
     "metadata": {},
     "output_type": "execute_result"
    }
   ],
   "source": [
    "text[75:79]"
   ]
  },
  {
   "cell_type": "code",
   "execution_count": 139,
   "id": "db1efce4",
   "metadata": {},
   "outputs": [
    {
     "data": {
      "text/plain": [
       "'100만'"
      ]
     },
     "execution_count": 139,
     "metadata": {},
     "output_type": "execute_result"
    }
   ],
   "source": [
    "text.split()[16][:4]"
   ]
  },
  {
   "cell_type": "code",
   "execution_count": 146,
   "id": "b1c29d67",
   "metadata": {},
   "outputs": [
    {
     "data": {
      "text/plain": [
       "'인공지능'"
      ]
     },
     "execution_count": 146,
     "metadata": {},
     "output_type": "execute_result"
    }
   ],
   "source": [
    "text.split(\"생성형\")[1][1:5]"
   ]
  },
  {
   "cell_type": "code",
   "execution_count": 147,
   "id": "bd8197bc",
   "metadata": {},
   "outputs": [
    {
     "data": {
      "text/plain": [
       "'평가'"
      ]
     },
     "execution_count": 147,
     "metadata": {},
     "output_type": "execute_result"
    }
   ],
   "source": [
    "text.split()[-2][:2]"
   ]
  },
  {
   "cell_type": "code",
   "execution_count": null,
   "id": "5f44f1c3",
   "metadata": {},
   "outputs": [],
   "source": []
  }
 ],
 "metadata": {
  "kernelspec": {
   "display_name": "Python 3 (ipykernel)",
   "language": "python",
   "name": "python3"
  },
  "language_info": {
   "codemirror_mode": {
    "name": "ipython",
    "version": 3
   },
   "file_extension": ".py",
   "mimetype": "text/x-python",
   "name": "python",
   "nbconvert_exporter": "python",
   "pygments_lexer": "ipython3",
   "version": "3.11.4"
  }
 },
 "nbformat": 4,
 "nbformat_minor": 5
}
