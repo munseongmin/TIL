{
 "cells": [
  {
   "cell_type": "code",
   "execution_count": 1,
   "id": "c545ba7a",
   "metadata": {},
   "outputs": [
    {
     "name": "stdout",
     "output_type": "stream",
     "text": [
      "intra.h\n",
      "intra.c\n",
      "define.h\n"
     ]
    }
   ],
   "source": [
    "list = ['intra.h', 'intra.c', 'define.h', 'run.py']\n",
    "for i in list:\n",
    "    if i.split(\".\")[1] == \"h\" or i.split(\".\")[1] == \"c\":\n",
    "        print(i)"
   ]
  },
  {
   "cell_type": "code",
   "execution_count": 6,
   "id": "a3f5a77d",
   "metadata": {
    "scrolled": true
   },
   "outputs": [
    {
     "name": "stdout",
     "output_type": "stream",
     "text": [
      "대기번호 : 1\n",
      "대기번호 : 2\n",
      "대기번호 : 3\n",
      "대기번호 : 4\n",
      "대기번호 : 5\n"
     ]
    }
   ],
   "source": [
    "wating_no = range(1, 6)\n",
    "for i in wating_no:\n",
    "    print(\"대기번호 : {}\".format(i))"
   ]
  },
  {
   "cell_type": "code",
   "execution_count": null,
   "id": "333430f4",
   "metadata": {},
   "outputs": [],
   "source": [
    "#return문 : 함수를 호출한 곳으로 값을 전달하는 명령문"
   ]
  },
  {
   "cell_type": "code",
   "execution_count": 8,
   "id": "5f176b25",
   "metadata": {
    "scrolled": true
   },
   "outputs": [
    {
     "name": "stdout",
     "output_type": "stream",
     "text": [
      "101 호\n",
      "102 호\n",
      "201 호\n",
      "202 호\n",
      "301 호\n",
      "302 호\n",
      "<class 'int'>\n"
     ]
    }
   ],
   "source": [
    "apart = [ [101, 102], [201, 202], [301, 302] ]\n",
    "for i in apart:\n",
    "    for j in i:\n",
    "        print(j, \"호\")"
   ]
  },
  {
   "cell_type": "code",
   "execution_count": 10,
   "id": "6dea4792",
   "metadata": {},
   "outputs": [
    {
     "name": "stdout",
     "output_type": "stream",
     "text": [
      "hi hello\n",
      "hi hello\n",
      "hi hello\n",
      "hi hello\n",
      "hi hello\n"
     ]
    }
   ],
   "source": [
    "def hi(cnt):\n",
    "    if cnt == 0:\n",
    "        return\n",
    "    print(\"hi hello\")\n",
    "    cnt -=1\n",
    "    hi(cnt) #재귀호출 : 자기 자신을 호출하는 함수(알고리즘 문제 해결) 종료 조건이 반드시 필요\n",
    "hi(5)"
   ]
  },
  {
   "cell_type": "code",
   "execution_count": 11,
   "id": "79ee4cf5",
   "metadata": {},
   "outputs": [
    {
     "data": {
      "text/plain": [
       "6"
      ]
     },
     "execution_count": 11,
     "metadata": {},
     "output_type": "execute_result"
    }
   ],
   "source": [
    "def myfunc(a):\n",
    "    return a+1\n",
    "myfunc(5)"
   ]
  },
  {
   "cell_type": "code",
   "execution_count": null,
   "id": "8645fe8b",
   "metadata": {},
   "outputs": [],
   "source": [
    "#람다 표현식(함수)"
   ]
  },
  {
   "cell_type": "code",
   "execution_count": 12,
   "id": "d3737845",
   "metadata": {},
   "outputs": [
    {
     "data": {
      "text/plain": [
       "6"
      ]
     },
     "execution_count": 12,
     "metadata": {},
     "output_type": "execute_result"
    }
   ],
   "source": [
    "myfunc=lambda a:a+1\n",
    "myfunc(5)"
   ]
  },
  {
   "cell_type": "code",
   "execution_count": 13,
   "id": "34286cc1",
   "metadata": {},
   "outputs": [
    {
     "data": {
      "text/plain": [
       "11"
      ]
     },
     "execution_count": 13,
     "metadata": {},
     "output_type": "execute_result"
    }
   ],
   "source": [
    "(lambda a:a+1)(10)"
   ]
  },
  {
   "cell_type": "code",
   "execution_count": 16,
   "id": "f4495f80",
   "metadata": {},
   "outputs": [
    {
     "data": {
      "text/plain": [
       "15"
      ]
     },
     "execution_count": 16,
     "metadata": {},
     "output_type": "execute_result"
    }
   ],
   "source": [
    "#(lambda a:b=5:a+b)(10)\n",
    "#람다 표현식 내부에서 새로운 변수를 정의할 수 없다\n",
    "\n",
    "b=5\n",
    "(lambda a:a+b)(10)"
   ]
  },
  {
   "cell_type": "code",
   "execution_count": 23,
   "id": "cf665270",
   "metadata": {},
   "outputs": [
    {
     "data": {
      "text/plain": [
       "[6, 7, 8]"
      ]
     },
     "execution_count": 23,
     "metadata": {},
     "output_type": "execute_result"
    }
   ],
   "source": [
    "def add_5(x):\n",
    "    return x+5\n",
    "data=[1,2,3] #[6,7,8]\n",
    "res=[]\n",
    "for i in data:\n",
    "    res.append(add_5(i))\n",
    "res"
   ]
  },
  {
   "cell_type": "code",
   "execution_count": 26,
   "id": "3c7f3f63",
   "metadata": {},
   "outputs": [],
   "source": [
    "del list"
   ]
  },
  {
   "cell_type": "code",
   "execution_count": 27,
   "id": "879a12d2",
   "metadata": {},
   "outputs": [
    {
     "data": {
      "text/plain": [
       "[6, 7, 8]"
      ]
     },
     "execution_count": 27,
     "metadata": {},
     "output_type": "execute_result"
    }
   ],
   "source": [
    "def add_5(x):\n",
    "    return x+5\n",
    "list(map(add_5, [1,2,3])) #map(함수, 전달 자료)-맵 객체로 리턴 -> list로 변환"
   ]
  },
  {
   "cell_type": "code",
   "execution_count": 30,
   "id": "919dd114",
   "metadata": {},
   "outputs": [
    {
     "data": {
      "text/plain": [
       "['1', '2', '3']"
      ]
     },
     "execution_count": 30,
     "metadata": {},
     "output_type": "execute_result"
    }
   ],
   "source": [
    "list(map(str, [1,2,3]))"
   ]
  },
  {
   "cell_type": "code",
   "execution_count": 31,
   "id": "ebcf0ff2",
   "metadata": {},
   "outputs": [
    {
     "data": {
      "text/plain": [
       "[1, 2, 3]"
      ]
     },
     "execution_count": 31,
     "metadata": {},
     "output_type": "execute_result"
    }
   ],
   "source": [
    "list(map(int, [\"1\",\"2\",\"3\"]))"
   ]
  },
  {
   "cell_type": "code",
   "execution_count": 33,
   "id": "87e7ac83",
   "metadata": {
    "scrolled": true
   },
   "outputs": [
    {
     "data": {
      "text/plain": [
       "[6, 7, 8]"
      ]
     },
     "execution_count": 33,
     "metadata": {},
     "output_type": "execute_result"
    }
   ],
   "source": [
    "list(map(lambda x:x+5, [1,2,3])) #map 함수의 인수로써 람다 함수가 전달"
   ]
  },
  {
   "cell_type": "code",
   "execution_count": 1,
   "id": "60c1e659",
   "metadata": {},
   "outputs": [
    {
     "data": {
      "text/plain": [
       "[6, 7, 8]"
      ]
     },
     "execution_count": 1,
     "metadata": {},
     "output_type": "execute_result"
    }
   ],
   "source": [
    "a = [1, 2, 3]\n",
    "list(map(lambda x:x+5, a))"
   ]
  },
  {
   "cell_type": "code",
   "execution_count": null,
   "id": "8399814f",
   "metadata": {},
   "outputs": [],
   "source": [
    "#lambda 변수 : 식1 if 조건식 else 식2"
   ]
  },
  {
   "cell_type": "code",
   "execution_count": 35,
   "id": "5898906b",
   "metadata": {},
   "outputs": [
    {
     "data": {
      "text/plain": [
       "[1, 2, 3, 4, 5, 6, 7, 8, 9, 10]"
      ]
     },
     "execution_count": 35,
     "metadata": {},
     "output_type": "execute_result"
    }
   ],
   "source": [
    "a = list(range(1,11))\n",
    "a"
   ]
  },
  {
   "cell_type": "code",
   "execution_count": 36,
   "id": "11fed1c2",
   "metadata": {},
   "outputs": [
    {
     "data": {
      "text/plain": [
       "['1', '2', '3', '4', '5', '6', '7', '8', '9', '10']"
      ]
     },
     "execution_count": 36,
     "metadata": {},
     "output_type": "execute_result"
    }
   ],
   "source": [
    "list(map(str, a))"
   ]
  },
  {
   "cell_type": "code",
   "execution_count": 37,
   "id": "2a249cca",
   "metadata": {},
   "outputs": [
    {
     "data": {
      "text/plain": [
       "[1, '2', 3, '4', 5, '6', 7, '8', 9, '10']"
      ]
     },
     "execution_count": 37,
     "metadata": {},
     "output_type": "execute_result"
    }
   ],
   "source": [
    "#2의 배수만 문자로 변환\n",
    "lambda 변수 : 식1 if 조건식 else 식2\n",
    "list(map(lambda x : str(x) if x%2 == 0 else x, a))"
   ]
  },
  {
   "cell_type": "code",
   "execution_count": 39,
   "id": "2213ea5d",
   "metadata": {},
   "outputs": [
    {
     "data": {
      "text/plain": [
       "['1', 2, 3.0, 4, 5, 6.0, 7, 8, 9.0, 10]"
      ]
     },
     "execution_count": 39,
     "metadata": {},
     "output_type": "execute_result"
    }
   ],
   "source": [
    "#[1,2,3,4,5,6,7,8,9,10]\n",
    "#3의 배수인 경우에는 실수로 변환, 1인 경우에는 '1'로 변환\n",
    "a = list(range(1,11))\n",
    "list(map(lambda x : float(x) if x%3 == 0 else str(x) if x==1 else x, a))"
   ]
  },
  {
   "cell_type": "code",
   "execution_count": 41,
   "id": "e01c537a",
   "metadata": {},
   "outputs": [
    {
     "data": {
      "text/plain": [
       "['1', 2, 3.0, 4, 5, 6.0, 7, 8, 9.0, 10]"
      ]
     },
     "execution_count": 41,
     "metadata": {},
     "output_type": "execute_result"
    }
   ],
   "source": [
    "def myfunc3(x):\n",
    "    res=[]\n",
    "    for i in x:\n",
    "        if i%3 == 0:\n",
    "            res.append(float(i))\n",
    "        elif i == 1:\n",
    "            res.append(str(i))\n",
    "        else:\n",
    "            res.append(i)\n",
    "    return res\n",
    "myfunc3(a)"
   ]
  },
  {
   "cell_type": "code",
   "execution_count": 46,
   "id": "1dcb16fc",
   "metadata": {},
   "outputs": [
    {
     "data": {
      "text/plain": [
       "['1', 2, 3.0, 4, 5, 6.0, 7, 8, 9.0, 10]"
      ]
     },
     "execution_count": 46,
     "metadata": {},
     "output_type": "execute_result"
    }
   ],
   "source": [
    "def myfunc4(i):\n",
    "        if i%3 == 0:\n",
    "            return float(i)\n",
    "        elif i == 1:\n",
    "            return str(i)\n",
    "        else:\n",
    "            return i\n",
    "                \n",
    "list(map(myfunc4, a))"
   ]
  },
  {
   "cell_type": "code",
   "execution_count": 48,
   "id": "6fc0f7f1",
   "metadata": {},
   "outputs": [
    {
     "data": {
      "text/plain": [
       "[2, 8, 18]"
      ]
     },
     "execution_count": 48,
     "metadata": {},
     "output_type": "execute_result"
    }
   ],
   "source": [
    "x=[1, 2, 3]\n",
    "y=[2, 4, 6]\n",
    "#[2, 8, 18]\n",
    "\n",
    "list(map(lambda a,b:a*b, x,y))"
   ]
  },
  {
   "cell_type": "code",
   "execution_count": 49,
   "id": "bcd3284b",
   "metadata": {},
   "outputs": [],
   "source": [
    "#filter : 조건에 부합되는 자료(요소)만 추출\n",
    "#filter(함수, 자료)"
   ]
  },
  {
   "cell_type": "code",
   "execution_count": 52,
   "id": "27f852db",
   "metadata": {},
   "outputs": [
    {
     "data": {
      "text/plain": [
       "[1, 2, 3, 4, 5, 6, 7, 8, 9, 10]"
      ]
     },
     "execution_count": 52,
     "metadata": {},
     "output_type": "execute_result"
    }
   ],
   "source": [
    "a=list(range(1,11))\n",
    "a\n",
    "#5 이상 8 미만 데이터만 추출"
   ]
  },
  {
   "cell_type": "code",
   "execution_count": 59,
   "id": "38eaa938",
   "metadata": {},
   "outputs": [],
   "source": [
    "def my_func(x):\n",
    "    return x>=5 and x<8"
   ]
  },
  {
   "cell_type": "code",
   "execution_count": 61,
   "id": "66773698",
   "metadata": {},
   "outputs": [
    {
     "data": {
      "text/plain": [
       "[5, 6, 7]"
      ]
     },
     "execution_count": 61,
     "metadata": {},
     "output_type": "execute_result"
    }
   ],
   "source": [
    "list(filter(my_func, a)) # my_func 함수에 a를 전달한 다음 조건식이 참인 결과값들을 리턴"
   ]
  },
  {
   "cell_type": "code",
   "execution_count": 63,
   "id": "63e9a2c1",
   "metadata": {},
   "outputs": [
    {
     "data": {
      "text/plain": [
       "[5, 6, 7]"
      ]
     },
     "execution_count": 63,
     "metadata": {},
     "output_type": "execute_result"
    }
   ],
   "source": [
    "a=list(range(1,11))\n",
    "list(filter(lambda x:5<=x<8, a))"
   ]
  },
  {
   "cell_type": "code",
   "execution_count": 67,
   "id": "a9f2e354",
   "metadata": {},
   "outputs": [
    {
     "data": {
      "text/plain": [
       "[8, 7, 9]"
      ]
     },
     "execution_count": 67,
     "metadata": {},
     "output_type": "execute_result"
    }
   ],
   "source": [
    "a = [8, 3, 2, 10, 15, 7, 1, 9, 0, 11]\n",
    "# a 리스트에서 5초과 10미만인 자료들만 추출\n",
    "\n",
    "list(filter(lambda x:5<x<10, a))"
   ]
  },
  {
   "cell_type": "code",
   "execution_count": 70,
   "id": "9e5e0948",
   "metadata": {},
   "outputs": [
    {
     "data": {
      "text/plain": [
       "[8, 7, 9]"
      ]
     },
     "execution_count": 70,
     "metadata": {},
     "output_type": "execute_result"
    }
   ],
   "source": [
    "[i for i in a if 5<i<10]"
   ]
  },
  {
   "cell_type": "code",
   "execution_count": 77,
   "id": "f1b1216d",
   "metadata": {},
   "outputs": [
    {
     "data": {
      "text/plain": [
       "False"
      ]
     },
     "execution_count": 77,
     "metadata": {},
     "output_type": "execute_result"
    }
   ],
   "source": [
    "abs(-5 ) #절대값\n",
    "all([1,2]) #모든 값이 True -> True\n",
    "all([1,2,0]) #0은 False므로 결과는 False\n",
    "all([]) #비어있는 리스트는 True\n",
    "any() #어느 하나라도 True -> True\n",
    "any([0,\"\"]) #둘 다 False라면 False"
   ]
  },
  {
   "cell_type": "code",
   "execution_count": 79,
   "id": "6aea6aa5",
   "metadata": {},
   "outputs": [
    {
     "data": {
      "text/plain": [
       "97"
      ]
     },
     "execution_count": 79,
     "metadata": {},
     "output_type": "execute_result"
    }
   ],
   "source": [
    "ord(\"파\") #문자에 대한 유니코드 출력\n",
    "ord(\"a\")"
   ]
  },
  {
   "cell_type": "code",
   "execution_count": 82,
   "id": "c6f68123",
   "metadata": {},
   "outputs": [
    {
     "data": {
      "text/plain": [
       "'파'"
      ]
     },
     "execution_count": 82,
     "metadata": {},
     "output_type": "execute_result"
    }
   ],
   "source": [
    "chr(54028) #유니코드에 대한 문자 출력"
   ]
  },
  {
   "cell_type": "code",
   "execution_count": 83,
   "id": "5105cc40",
   "metadata": {},
   "outputs": [
    {
     "data": {
      "text/plain": [
       "['__add__',\n",
       " '__class__',\n",
       " '__class_getitem__',\n",
       " '__contains__',\n",
       " '__delattr__',\n",
       " '__delitem__',\n",
       " '__dir__',\n",
       " '__doc__',\n",
       " '__eq__',\n",
       " '__format__',\n",
       " '__ge__',\n",
       " '__getattribute__',\n",
       " '__getitem__',\n",
       " '__getstate__',\n",
       " '__gt__',\n",
       " '__hash__',\n",
       " '__iadd__',\n",
       " '__imul__',\n",
       " '__init__',\n",
       " '__init_subclass__',\n",
       " '__iter__',\n",
       " '__le__',\n",
       " '__len__',\n",
       " '__lt__',\n",
       " '__mul__',\n",
       " '__ne__',\n",
       " '__new__',\n",
       " '__reduce__',\n",
       " '__reduce_ex__',\n",
       " '__repr__',\n",
       " '__reversed__',\n",
       " '__rmul__',\n",
       " '__setattr__',\n",
       " '__setitem__',\n",
       " '__sizeof__',\n",
       " '__str__',\n",
       " '__subclasshook__',\n",
       " 'append',\n",
       " 'clear',\n",
       " 'copy',\n",
       " 'count',\n",
       " 'extend',\n",
       " 'index',\n",
       " 'insert',\n",
       " 'pop',\n",
       " 'remove',\n",
       " 'reverse',\n",
       " 'sort']"
      ]
     },
     "execution_count": 83,
     "metadata": {},
     "output_type": "execute_result"
    }
   ],
   "source": [
    "dir([1,2]) #list 자료 구조에서 사용할 수 있는 함수 목록 출력"
   ]
  },
  {
   "cell_type": "code",
   "execution_count": 84,
   "id": "970727c0",
   "metadata": {},
   "outputs": [
    {
     "name": "stdout",
     "output_type": "stream",
     "text": [
      "Help on built-in function dir in module builtins:\n",
      "\n",
      "dir(...)\n",
      "    dir([object]) -> list of strings\n",
      "    \n",
      "    If called without an argument, return the names in the current scope.\n",
      "    Else, return an alphabetized list of names comprising (some of) the attributes\n",
      "    of the given object, and of attributes reachable from it.\n",
      "    If the object supplies a method named __dir__, it will be used; otherwise\n",
      "    the default dir() logic is used and returns:\n",
      "      for a module object: the module's attributes.\n",
      "      for a class object:  its attributes, and recursively the attributes\n",
      "        of its bases.\n",
      "      for any other object: its attributes, its class's attributes, and\n",
      "        recursively the attributes of its class's base classes.\n",
      "\n"
     ]
    }
   ],
   "source": [
    "help(dir) #help(함수명) 함수에 관한 설명"
   ]
  },
  {
   "cell_type": "code",
   "execution_count": 85,
   "id": "a74c239a",
   "metadata": {},
   "outputs": [
    {
     "data": {
      "text/plain": [
       "(1, 3)"
      ]
     },
     "execution_count": 85,
     "metadata": {},
     "output_type": "execute_result"
    }
   ],
   "source": [
    "divmod(8,5) #8를 5로 나눈 몫과 나머지를 tuple로 출력"
   ]
  },
  {
   "cell_type": "code",
   "execution_count": 92,
   "id": "2c15b809",
   "metadata": {},
   "outputs": [
    {
     "name": "stdout",
     "output_type": "stream",
     "text": [
      "0 h\n",
      "1 i\n",
      "2  \n",
      "3 h\n",
      "4 e\n",
      "5 l\n",
      "6 l\n",
      "7 o\n"
     ]
    }
   ],
   "source": [
    "for i, a in enumerate(\"hi hello\"): #함수 입력값을 읽어 열거 for문과 함께 사용이 일반적\n",
    "    print(i,a)"
   ]
  },
  {
   "cell_type": "code",
   "execution_count": 94,
   "id": "d2d57769",
   "metadata": {},
   "outputs": [
    {
     "name": "stdout",
     "output_type": "stream",
     "text": [
      "0 hi\n",
      "1 hello\n",
      "2 bye\n"
     ]
    }
   ],
   "source": [
    "for i, a in enumerate([\"hi\", \"hello\", \"bye\"]): #문자열 튜플 등 올 수 있음 인덱스와 자료가 함께 읽어짐 !!!사용빈도가 높음!!!\n",
    "    print(i,a)"
   ]
  },
  {
   "cell_type": "code",
   "execution_count": 97,
   "id": "7a07c33d",
   "metadata": {},
   "outputs": [
    {
     "data": {
      "text/plain": [
       "\"print('hi')\""
      ]
     },
     "execution_count": 97,
     "metadata": {},
     "output_type": "execute_result"
    }
   ],
   "source": [
    "cmd=\"print('hi')\"\n",
    "cmd"
   ]
  },
  {
   "cell_type": "code",
   "execution_count": 98,
   "id": "254e225b",
   "metadata": {},
   "outputs": [
    {
     "name": "stdout",
     "output_type": "stream",
     "text": [
      "hi\n"
     ]
    }
   ],
   "source": [
    "eval(cmd) #문자열로 구성되어 실행이 불가능 할 때 식을 실행해주는 함수"
   ]
  },
  {
   "cell_type": "code",
   "execution_count": 100,
   "id": "bbfaaf88",
   "metadata": {},
   "outputs": [
    {
     "data": {
      "text/plain": [
       "3"
      ]
     },
     "execution_count": 100,
     "metadata": {},
     "output_type": "execute_result"
    }
   ],
   "source": [
    "eval(\"1+2\")"
   ]
  },
  {
   "cell_type": "code",
   "execution_count": 101,
   "id": "cc129382",
   "metadata": {},
   "outputs": [
    {
     "data": {
      "text/plain": [
       "[1, 4]"
      ]
     },
     "execution_count": 101,
     "metadata": {},
     "output_type": "execute_result"
    }
   ],
   "source": [
    "data = [-3, 1, 0, -5, 4]\n",
    "list(filter(lambda x:x>0, data))"
   ]
  },
  {
   "cell_type": "code",
   "execution_count": 106,
   "id": "20eb0b9d",
   "metadata": {},
   "outputs": [
    {
     "data": {
      "text/plain": [
       "[1, 4]"
      ]
     },
     "execution_count": 106,
     "metadata": {},
     "output_type": "execute_result"
    }
   ],
   "source": [
    "[i for i in data if i>0]"
   ]
  },
  {
   "cell_type": "code",
   "execution_count": 110,
   "id": "b1f3904a",
   "metadata": {},
   "outputs": [
    {
     "data": {
      "text/plain": [
       "[1, 4]"
      ]
     },
     "execution_count": 110,
     "metadata": {},
     "output_type": "execute_result"
    }
   ],
   "source": [
    "res=[]\n",
    "for i in data:\n",
    "    if i > 0:\n",
    "        res.append(i)\n",
    "res"
   ]
  },
  {
   "cell_type": "code",
   "execution_count": 116,
   "id": "c5d64adb",
   "metadata": {},
   "outputs": [],
   "source": [
    "#딥러닝 프레임웍 : 텐서플로우, 파이토치...\n",
    "def add(num):\n",
    "    res = 0\n",
    "    res += num\n",
    "    return res"
   ]
  },
  {
   "cell_type": "code",
   "execution_count": 117,
   "id": "8ea7d58d",
   "metadata": {},
   "outputs": [
    {
     "name": "stdout",
     "output_type": "stream",
     "text": [
      "1\n"
     ]
    }
   ],
   "source": [
    "print(add(1))"
   ]
  },
  {
   "cell_type": "code",
   "execution_count": 122,
   "id": "94707a3b",
   "metadata": {},
   "outputs": [
    {
     "name": "stdout",
     "output_type": "stream",
     "text": [
      "1\n"
     ]
    }
   ],
   "source": [
    "res2 = 0\n",
    "def add2(num):\n",
    "    global res2 # 전역변수 : 함수 내부에서 함수 외부에 있는 변수를 사용하고자 할 때\n",
    "    res2 += num\n",
    "    return res2\n",
    "print(add2(1))"
   ]
  },
  {
   "cell_type": "code",
   "execution_count": 126,
   "id": "70ac932a",
   "metadata": {},
   "outputs": [
    {
     "name": "stdout",
     "output_type": "stream",
     "text": [
      "3\n",
      "2\n"
     ]
    }
   ],
   "source": [
    "def add3(num):\n",
    "    res3 = 0\n",
    "    res3 += num\n",
    "    return res3\n",
    "\n",
    "print(add3(3))\n",
    "print(add3(2))"
   ]
  },
  {
   "cell_type": "code",
   "execution_count": 127,
   "id": "005854a0",
   "metadata": {},
   "outputs": [
    {
     "name": "stdout",
     "output_type": "stream",
     "text": [
      "3\n",
      "5\n"
     ]
    }
   ],
   "source": [
    "res3 = 0\n",
    "def add3(num):\n",
    "    global res3\n",
    "    res3 += num\n",
    "    return res3\n",
    "\n",
    "print(add3(3))\n",
    "print(add3(2))"
   ]
  },
  {
   "cell_type": "code",
   "execution_count": 128,
   "id": "655f1631",
   "metadata": {},
   "outputs": [],
   "source": [
    "res3 = 0\n",
    "res4 = 0\n",
    "def add3(num):\n",
    "    global res3\n",
    "    res3 += num\n",
    "    return res3\n",
    "def add4(num):\n",
    "    global res4\n",
    "    res4 += num\n",
    "    return res4"
   ]
  },
  {
   "cell_type": "code",
   "execution_count": 129,
   "id": "ba198d2b",
   "metadata": {},
   "outputs": [
    {
     "data": {
      "text/plain": [
       "1"
      ]
     },
     "execution_count": 129,
     "metadata": {},
     "output_type": "execute_result"
    }
   ],
   "source": [
    "add3(1)"
   ]
  },
  {
   "cell_type": "code",
   "execution_count": 131,
   "id": "ae9ca358",
   "metadata": {},
   "outputs": [
    {
     "data": {
      "text/plain": [
       "4"
      ]
     },
     "execution_count": 131,
     "metadata": {},
     "output_type": "execute_result"
    }
   ],
   "source": [
    "add3(2)"
   ]
  },
  {
   "cell_type": "code",
   "execution_count": 132,
   "id": "e1597e91",
   "metadata": {},
   "outputs": [
    {
     "data": {
      "text/plain": [
       "10"
      ]
     },
     "execution_count": 132,
     "metadata": {},
     "output_type": "execute_result"
    }
   ],
   "source": [
    "add4(10)"
   ]
  },
  {
   "cell_type": "code",
   "execution_count": 141,
   "id": "ed05d369",
   "metadata": {},
   "outputs": [],
   "source": [
    " class 붕어빵기계: #\n",
    "    def __init__(self, 내용물):\n",
    "        self.틀=내용물\n",
    "    def 굽다(self,재료):\n",
    "        self.틀+=재료\n",
    "        return self.틀"
   ]
  },
  {
   "cell_type": "code",
   "execution_count": 142,
   "id": "dc940b8c",
   "metadata": {},
   "outputs": [],
   "source": [
    "#붕1=붕어빵기계()\n",
    "붕2=붕어빵기계(\"단팥\")"
   ]
  },
  {
   "cell_type": "code",
   "execution_count": 143,
   "id": "a9ffcc93",
   "metadata": {},
   "outputs": [
    {
     "data": {
      "text/plain": [
       "'단팥'"
      ]
     },
     "execution_count": 143,
     "metadata": {},
     "output_type": "execute_result"
    }
   ],
   "source": [
    "붕2.틀"
   ]
  },
  {
   "cell_type": "code",
   "execution_count": 144,
   "id": "0486afa6",
   "metadata": {},
   "outputs": [],
   "source": [
    "class Calc: #class 명의 앞글자는 대문자인게 암묵적 룰\n",
    "    def __init__(self):\n",
    "        print(\"계산기가 만들어질 때 (객체 생성) 자동으로 호출됨\")"
   ]
  },
  {
   "cell_type": "code",
   "execution_count": 145,
   "id": "5d5930b5",
   "metadata": {},
   "outputs": [
    {
     "name": "stdout",
     "output_type": "stream",
     "text": [
      "계산기가 만들어질 때 (객체 생성) 자동으로 호출됨\n"
     ]
    },
    {
     "data": {
      "text/plain": [
       "<__main__.Calc at 0x142f1013890>"
      ]
     },
     "execution_count": 145,
     "metadata": {},
     "output_type": "execute_result"
    }
   ],
   "source": [
    "Calc()"
   ]
  },
  {
   "cell_type": "code",
   "execution_count": 157,
   "id": "2ade688e",
   "metadata": {},
   "outputs": [],
   "source": [
    "class 사람:\n",
    "    def __init__(self, n):\n",
    "        print(\"사람이 태어날 때 (객체 생성) 자동으로 호출됨\")\n",
    "        self.이름 = n"
   ]
  },
  {
   "cell_type": "code",
   "execution_count": 160,
   "id": "ac2abbee",
   "metadata": {},
   "outputs": [
    {
     "name": "stdout",
     "output_type": "stream",
     "text": [
      "사람이 태어날 때 (객체 생성) 자동으로 호출됨\n",
      "사람이 태어날 때 (객체 생성) 자동으로 호출됨\n"
     ]
    },
    {
     "data": {
      "text/plain": [
       "'임꺽정'"
      ]
     },
     "execution_count": 160,
     "metadata": {},
     "output_type": "execute_result"
    }
   ],
   "source": [
    "사람객체1 = 사람(\"홍길동\")\n",
    "사람객체1.이름\n",
    "사람객체2 = 사람(\"임꺽정\")\n",
    "사람객체2.이름"
   ]
  },
  {
   "cell_type": "code",
   "execution_count": 183,
   "id": "77f420f3",
   "metadata": {},
   "outputs": [],
   "source": [
    "class 동물:\n",
    "    def __init__(self, sp):\n",
    "        print(\"동물이 태어날 때 (객체 생성) 자동으로 호출됨\")\n",
    "        self.종류 = sp\n",
    "        \n",
    "    def 먹는다(self, f):\n",
    "        print(f, \"를 먹는다\")\n",
    "        self.주식=f\n",
    "        \n",
    "    def 공부한다(self, sub):\n",
    "        print(sub, \"를 공부한다\")\n",
    "        self.분야=sub"
   ]
  },
  {
   "cell_type": "code",
   "execution_count": 176,
   "id": "1262feda",
   "metadata": {},
   "outputs": [
    {
     "name": "stdout",
     "output_type": "stream",
     "text": [
      "동물이 태어날 때 (객체 생성) 자동으로 호출됨\n",
      "딥러닝 를 공부한다\n"
     ]
    },
    {
     "data": {
      "text/plain": [
       "'딥러닝'"
      ]
     },
     "execution_count": 176,
     "metadata": {},
     "output_type": "execute_result"
    }
   ],
   "source": [
    "#동물(\"파충류\")\n",
    "p1 = 동물(\"사람\")\n",
    "p1.종류\n",
    "p1.공부한다(\"딥러닝\")\n",
    "p1.분야"
   ]
  },
  {
   "cell_type": "code",
   "execution_count": 185,
   "id": "7e34703b",
   "metadata": {},
   "outputs": [
    {
     "name": "stdout",
     "output_type": "stream",
     "text": [
      "동물이 태어날 때 (객체 생성) 자동으로 호출됨\n"
     ]
    }
   ],
   "source": [
    "c1 = 동물(\"고양이\")"
   ]
  },
  {
   "cell_type": "code",
   "execution_count": 186,
   "id": "db04439e",
   "metadata": {},
   "outputs": [
    {
     "data": {
      "text/plain": [
       "'고양이'"
      ]
     },
     "execution_count": 186,
     "metadata": {},
     "output_type": "execute_result"
    }
   ],
   "source": [
    "c1.종류"
   ]
  },
  {
   "cell_type": "code",
   "execution_count": 187,
   "id": "9ade3d1c",
   "metadata": {},
   "outputs": [
    {
     "name": "stdout",
     "output_type": "stream",
     "text": [
      "사료 를 먹는다\n"
     ]
    }
   ],
   "source": [
    "c1.먹는다(\"사료\")"
   ]
  },
  {
   "cell_type": "code",
   "execution_count": 188,
   "id": "4cbfed4e",
   "metadata": {},
   "outputs": [
    {
     "data": {
      "text/plain": [
       "'안'"
      ]
     },
     "execution_count": 188,
     "metadata": {},
     "output_type": "execute_result"
    }
   ],
   "source": [
    "max(\"안녕\")"
   ]
  },
  {
   "cell_type": "code",
   "execution_count": 189,
   "id": "a4ecdd96",
   "metadata": {},
   "outputs": [
    {
     "data": {
      "text/plain": [
       "'녕'"
      ]
     },
     "execution_count": 189,
     "metadata": {},
     "output_type": "execute_result"
    }
   ],
   "source": [
    "min(\"안녕\")"
   ]
  },
  {
   "cell_type": "code",
   "execution_count": 190,
   "id": "884d6b7a",
   "metadata": {},
   "outputs": [
    {
     "data": {
      "text/plain": [
       "8"
      ]
     },
     "execution_count": 190,
     "metadata": {},
     "output_type": "execute_result"
    }
   ],
   "source": [
    "pow(2,3) #2의 3승"
   ]
  },
  {
   "cell_type": "code",
   "execution_count": 191,
   "id": "3a9bd92c",
   "metadata": {},
   "outputs": [
    {
     "name": "stdout",
     "output_type": "stream",
     "text": [
      "8\n"
     ]
    }
   ],
   "source": [
    "print(2**3)"
   ]
  },
  {
   "cell_type": "code",
   "execution_count": 193,
   "id": "1ea4d873",
   "metadata": {},
   "outputs": [
    {
     "data": {
      "text/plain": [
       "3"
      ]
     },
     "execution_count": 193,
     "metadata": {},
     "output_type": "execute_result"
    }
   ],
   "source": [
    "round(3.14) #반올림 함수"
   ]
  },
  {
   "cell_type": "code",
   "execution_count": 194,
   "id": "ce21d31a",
   "metadata": {},
   "outputs": [
    {
     "data": {
      "text/plain": [
       "3.142"
      ]
     },
     "execution_count": 194,
     "metadata": {},
     "output_type": "execute_result"
    }
   ],
   "source": [
    "round(3.141592, 3) #소수점 자리 3째까지 출력"
   ]
  },
  {
   "cell_type": "code",
   "execution_count": 195,
   "id": "3dd91a95",
   "metadata": {},
   "outputs": [
    {
     "data": {
      "text/plain": [
       "6"
      ]
     },
     "execution_count": 195,
     "metadata": {},
     "output_type": "execute_result"
    }
   ],
   "source": [
    "sum([1,2,3])"
   ]
  },
  {
   "cell_type": "code",
   "execution_count": 197,
   "id": "87e6dd4a",
   "metadata": {},
   "outputs": [
    {
     "data": {
      "text/plain": [
       "[('a', 'c'), ('b', 'd')]"
      ]
     },
     "execution_count": 197,
     "metadata": {},
     "output_type": "execute_result"
    }
   ],
   "source": [
    "list(zip(\"ab\",\"cd\"))"
   ]
  },
  {
   "cell_type": "code",
   "execution_count": 198,
   "id": "93d0401a",
   "metadata": {},
   "outputs": [],
   "source": [
    "import datetime"
   ]
  },
  {
   "cell_type": "code",
   "execution_count": 207,
   "id": "8980b216",
   "metadata": {},
   "outputs": [],
   "source": [
    "d1 = datetime.date(2023,9,4)"
   ]
  },
  {
   "cell_type": "code",
   "execution_count": 200,
   "id": "e2d91207",
   "metadata": {},
   "outputs": [],
   "source": [
    "d2 = datetime.date(2024,1,9)"
   ]
  },
  {
   "cell_type": "code",
   "execution_count": 201,
   "id": "76d9f0f5",
   "metadata": {},
   "outputs": [
    {
     "data": {
      "text/plain": [
       "datetime.date(2024, 1, 9)"
      ]
     },
     "execution_count": 201,
     "metadata": {},
     "output_type": "execute_result"
    }
   ],
   "source": [
    "d2"
   ]
  },
  {
   "cell_type": "code",
   "execution_count": 202,
   "id": "511848fb",
   "metadata": {},
   "outputs": [
    {
     "data": {
      "text/plain": [
       "datetime.timedelta(days=127)"
      ]
     },
     "execution_count": 202,
     "metadata": {},
     "output_type": "execute_result"
    }
   ],
   "source": [
    "d2-d1"
   ]
  },
  {
   "cell_type": "code",
   "execution_count": 203,
   "id": "d03721af",
   "metadata": {},
   "outputs": [
    {
     "data": {
      "text/plain": [
       "127"
      ]
     },
     "execution_count": 203,
     "metadata": {},
     "output_type": "execute_result"
    }
   ],
   "source": [
    "(d2-d1).days"
   ]
  },
  {
   "cell_type": "code",
   "execution_count": 210,
   "id": "71ac0ba9",
   "metadata": {},
   "outputs": [
    {
     "data": {
      "text/plain": [
       "1"
      ]
     },
     "execution_count": 210,
     "metadata": {},
     "output_type": "execute_result"
    }
   ],
   "source": [
    "d1.weekday() #0:월요일\n",
    "d1.isoweekday() #1:월요일"
   ]
  },
  {
   "cell_type": "code",
   "execution_count": 217,
   "id": "9c140768",
   "metadata": {},
   "outputs": [],
   "source": [
    "import time"
   ]
  },
  {
   "cell_type": "code",
   "execution_count": 218,
   "id": "3c95f950",
   "metadata": {},
   "outputs": [],
   "source": [
    "s = time.time() #1970.1.1 부터 지금까지 초"
   ]
  },
  {
   "cell_type": "code",
   "execution_count": 219,
   "id": "eb070784",
   "metadata": {},
   "outputs": [
    {
     "name": "stdout",
     "output_type": "stream",
     "text": [
      "0\n",
      "1\n",
      "2\n",
      "3\n",
      "4\n",
      "5\n",
      "6\n",
      "7\n",
      "8\n",
      "9\n",
      "10\n",
      "11\n",
      "12\n",
      "13\n",
      "14\n",
      "15\n",
      "16\n",
      "17\n",
      "18\n",
      "19\n",
      "20\n",
      "21\n",
      "22\n",
      "23\n",
      "24\n",
      "25\n",
      "26\n",
      "27\n",
      "28\n",
      "29\n",
      "30\n",
      "31\n",
      "32\n",
      "33\n",
      "34\n",
      "35\n",
      "36\n",
      "37\n",
      "38\n",
      "39\n",
      "40\n",
      "41\n",
      "42\n",
      "43\n",
      "44\n",
      "45\n",
      "46\n",
      "47\n",
      "48\n",
      "49\n",
      "50\n",
      "51\n",
      "52\n",
      "53\n",
      "54\n",
      "55\n",
      "56\n",
      "57\n",
      "58\n",
      "59\n",
      "60\n",
      "61\n",
      "62\n",
      "63\n",
      "64\n",
      "65\n",
      "66\n",
      "67\n",
      "68\n",
      "69\n",
      "70\n",
      "71\n",
      "72\n",
      "73\n",
      "74\n",
      "75\n",
      "76\n",
      "77\n",
      "78\n",
      "79\n",
      "80\n",
      "81\n",
      "82\n",
      "83\n",
      "84\n",
      "85\n",
      "86\n",
      "87\n",
      "88\n",
      "89\n",
      "90\n",
      "91\n",
      "92\n",
      "93\n",
      "94\n",
      "95\n",
      "96\n",
      "97\n",
      "98\n",
      "99\n",
      "100\n",
      "101\n",
      "102\n",
      "103\n",
      "104\n",
      "105\n",
      "106\n",
      "107\n",
      "108\n",
      "109\n",
      "110\n",
      "111\n",
      "112\n",
      "113\n",
      "114\n",
      "115\n",
      "116\n",
      "117\n",
      "118\n",
      "119\n",
      "120\n",
      "121\n",
      "122\n",
      "123\n",
      "124\n",
      "125\n",
      "126\n",
      "127\n",
      "128\n",
      "129\n",
      "130\n",
      "131\n",
      "132\n",
      "133\n",
      "134\n",
      "135\n",
      "136\n",
      "137\n",
      "138\n",
      "139\n",
      "140\n",
      "141\n",
      "142\n",
      "143\n",
      "144\n",
      "145\n",
      "146\n",
      "147\n",
      "148\n",
      "149\n",
      "150\n",
      "151\n",
      "152\n",
      "153\n",
      "154\n",
      "155\n",
      "156\n",
      "157\n",
      "158\n",
      "159\n",
      "160\n",
      "161\n",
      "162\n",
      "163\n",
      "164\n",
      "165\n",
      "166\n",
      "167\n",
      "168\n",
      "169\n",
      "170\n",
      "171\n",
      "172\n",
      "173\n",
      "174\n",
      "175\n",
      "176\n",
      "177\n",
      "178\n",
      "179\n",
      "180\n",
      "181\n",
      "182\n",
      "183\n",
      "184\n",
      "185\n",
      "186\n",
      "187\n",
      "188\n",
      "189\n",
      "190\n",
      "191\n",
      "192\n",
      "193\n",
      "194\n",
      "195\n",
      "196\n",
      "197\n",
      "198\n",
      "199\n",
      "200\n",
      "201\n",
      "202\n",
      "203\n",
      "204\n",
      "205\n",
      "206\n",
      "207\n",
      "208\n",
      "209\n",
      "210\n",
      "211\n",
      "212\n",
      "213\n",
      "214\n",
      "215\n",
      "216\n",
      "217\n",
      "218\n",
      "219\n",
      "220\n",
      "221\n",
      "222\n",
      "223\n",
      "224\n",
      "225\n",
      "226\n",
      "227\n",
      "228\n",
      "229\n",
      "230\n",
      "231\n",
      "232\n",
      "233\n",
      "234\n",
      "235\n",
      "236\n",
      "237\n",
      "238\n",
      "239\n",
      "240\n",
      "241\n",
      "242\n",
      "243\n",
      "244\n",
      "245\n",
      "246\n",
      "247\n",
      "248\n",
      "249\n",
      "250\n",
      "251\n",
      "252\n",
      "253\n",
      "254\n",
      "255\n",
      "256\n",
      "257\n",
      "258\n",
      "259\n",
      "260\n",
      "261\n",
      "262\n",
      "263\n",
      "264\n",
      "265\n",
      "266\n",
      "267\n",
      "268\n",
      "269\n",
      "270\n",
      "271\n",
      "272\n",
      "273\n",
      "274\n",
      "275\n",
      "276\n",
      "277\n",
      "278\n",
      "279\n",
      "280\n",
      "281\n",
      "282\n",
      "283\n",
      "284\n",
      "285\n",
      "286\n",
      "287\n",
      "288\n",
      "289\n",
      "290\n",
      "291\n",
      "292\n",
      "293\n",
      "294\n",
      "295\n",
      "296\n",
      "297\n",
      "298\n",
      "299\n",
      "300\n",
      "301\n",
      "302\n",
      "303\n",
      "304\n",
      "305\n",
      "306\n",
      "307\n",
      "308\n",
      "309\n",
      "310\n",
      "311\n",
      "312\n",
      "313\n",
      "314\n",
      "315\n",
      "316\n",
      "317\n",
      "318\n",
      "319\n",
      "320\n",
      "321\n",
      "322\n",
      "323\n",
      "324\n",
      "325\n",
      "326\n",
      "327\n",
      "328\n",
      "329\n",
      "330\n",
      "331\n",
      "332\n",
      "333\n",
      "334\n",
      "335\n",
      "336\n",
      "337\n",
      "338\n",
      "339\n",
      "340\n",
      "341\n",
      "342\n",
      "343\n",
      "344\n",
      "345\n",
      "346\n",
      "347\n",
      "348\n",
      "349\n",
      "350\n",
      "351\n",
      "352\n",
      "353\n",
      "354\n",
      "355\n",
      "356\n",
      "357\n",
      "358\n",
      "359\n",
      "360\n",
      "361\n",
      "362\n",
      "363\n",
      "364\n",
      "365\n",
      "366\n",
      "367\n",
      "368\n",
      "369\n",
      "370\n",
      "371\n",
      "372\n",
      "373\n",
      "374\n",
      "375\n",
      "376\n",
      "377\n",
      "378\n",
      "379\n",
      "380\n",
      "381\n",
      "382\n",
      "383\n",
      "384\n",
      "385\n",
      "386\n",
      "387\n",
      "388\n",
      "389\n",
      "390\n",
      "391\n",
      "392\n",
      "393\n",
      "394\n",
      "395\n",
      "396\n",
      "397\n",
      "398\n",
      "399\n",
      "400\n",
      "401\n",
      "402\n",
      "403\n",
      "404\n",
      "405\n",
      "406\n",
      "407\n",
      "408\n",
      "409\n",
      "410\n",
      "411\n",
      "412\n",
      "413\n",
      "414\n",
      "415\n",
      "416\n",
      "417\n",
      "418\n",
      "419\n",
      "420\n",
      "421\n",
      "422\n",
      "423\n",
      "424\n",
      "425\n",
      "426\n",
      "427\n",
      "428\n",
      "429\n",
      "430\n",
      "431\n",
      "432\n",
      "433\n",
      "434\n",
      "435\n",
      "436\n",
      "437\n",
      "438\n",
      "439\n",
      "440\n",
      "441\n",
      "442\n",
      "443\n",
      "444\n",
      "445\n",
      "446\n",
      "447\n",
      "448\n",
      "449\n",
      "450\n",
      "451\n",
      "452\n",
      "453\n",
      "454\n",
      "455\n",
      "456\n",
      "457\n",
      "458\n",
      "459\n",
      "460\n",
      "461\n",
      "462\n",
      "463\n",
      "464\n",
      "465\n",
      "466\n",
      "467\n",
      "468\n",
      "469\n",
      "470\n",
      "471\n",
      "472\n",
      "473\n",
      "474\n",
      "475\n",
      "476\n",
      "477\n",
      "478\n",
      "479\n",
      "480\n",
      "481\n",
      "482\n",
      "483\n",
      "484\n",
      "485\n",
      "486\n",
      "487\n",
      "488\n",
      "489\n",
      "490\n",
      "491\n",
      "492\n",
      "493\n",
      "494\n",
      "495\n",
      "496\n",
      "497\n",
      "498\n",
      "499\n",
      "500\n",
      "501\n",
      "502\n",
      "503\n",
      "504\n",
      "505\n",
      "506\n",
      "507\n",
      "508\n",
      "509\n",
      "510\n",
      "511\n",
      "512\n",
      "513\n",
      "514\n",
      "515\n",
      "516\n",
      "517\n",
      "518\n",
      "519\n",
      "520\n",
      "521\n",
      "522\n",
      "523\n",
      "524\n",
      "525\n",
      "526\n",
      "527\n",
      "528\n",
      "529\n",
      "530\n",
      "531\n",
      "532\n",
      "533\n",
      "534\n",
      "535\n",
      "536\n",
      "537\n",
      "538\n",
      "539\n",
      "540\n",
      "541\n",
      "542\n",
      "543\n",
      "544\n",
      "545\n",
      "546\n",
      "547\n",
      "548\n",
      "549\n",
      "550\n",
      "551\n",
      "552\n",
      "553\n",
      "554\n",
      "555\n",
      "556\n",
      "557\n",
      "558\n",
      "559\n",
      "560\n",
      "561\n",
      "562\n",
      "563\n",
      "564\n",
      "565\n",
      "566\n",
      "567\n",
      "568\n",
      "569\n",
      "570\n",
      "571\n",
      "572\n",
      "573\n",
      "574\n",
      "575\n",
      "576\n",
      "577\n",
      "578\n",
      "579\n",
      "580\n",
      "581\n",
      "582\n",
      "583\n",
      "584\n",
      "585\n",
      "586\n",
      "587\n",
      "588\n",
      "589\n",
      "590\n",
      "591\n",
      "592\n",
      "593\n",
      "594\n",
      "595\n",
      "596\n",
      "597\n",
      "598\n",
      "599\n",
      "600\n",
      "601\n",
      "602\n",
      "603\n",
      "604\n",
      "605\n",
      "606\n",
      "607\n",
      "608\n",
      "609\n",
      "610\n",
      "611\n",
      "612\n",
      "613\n",
      "614\n",
      "615\n",
      "616\n",
      "617\n",
      "618\n",
      "619\n",
      "620\n",
      "621\n",
      "622\n",
      "623\n",
      "624\n",
      "625\n",
      "626\n",
      "627\n",
      "628\n",
      "629\n",
      "630\n",
      "631\n",
      "632\n",
      "633\n",
      "634\n",
      "635\n",
      "636\n",
      "637\n",
      "638\n",
      "639\n",
      "640\n",
      "641\n",
      "642\n",
      "643\n",
      "644\n",
      "645\n",
      "646\n",
      "647\n",
      "648\n",
      "649\n",
      "650\n",
      "651\n",
      "652\n",
      "653\n",
      "654\n",
      "655\n",
      "656\n",
      "657\n",
      "658\n",
      "659\n",
      "660\n",
      "661\n",
      "662\n",
      "663\n",
      "664\n",
      "665\n",
      "666\n",
      "667\n",
      "668\n",
      "669\n",
      "670\n",
      "671\n",
      "672\n",
      "673\n",
      "674\n",
      "675\n",
      "676\n",
      "677\n",
      "678\n",
      "679\n",
      "680\n",
      "681\n",
      "682\n",
      "683\n",
      "684\n",
      "685\n",
      "686\n",
      "687\n",
      "688\n",
      "689\n",
      "690\n",
      "691\n",
      "692\n",
      "693\n",
      "694\n",
      "695\n",
      "696\n",
      "697\n",
      "698\n",
      "699\n",
      "700\n",
      "701\n",
      "702\n",
      "703\n",
      "704\n",
      "705\n",
      "706\n",
      "707\n",
      "708\n",
      "709\n",
      "710\n",
      "711\n",
      "712\n",
      "713\n",
      "714\n",
      "715\n",
      "716\n",
      "717\n",
      "718\n",
      "719\n",
      "720\n",
      "721\n",
      "722\n",
      "723\n",
      "724\n",
      "725\n",
      "726\n",
      "727\n",
      "728\n",
      "729\n",
      "730\n",
      "731\n",
      "732\n",
      "733\n",
      "734\n",
      "735\n",
      "736\n",
      "737\n",
      "738\n",
      "739\n",
      "740\n",
      "741\n",
      "742\n",
      "743\n",
      "744\n",
      "745\n",
      "746\n",
      "747\n",
      "748\n",
      "749\n",
      "750\n",
      "751\n",
      "752\n",
      "753\n",
      "754\n",
      "755\n",
      "756\n",
      "757\n",
      "758\n",
      "759\n",
      "760\n",
      "761\n",
      "762\n",
      "763\n",
      "764\n",
      "765\n",
      "766\n",
      "767\n",
      "768\n",
      "769\n",
      "770\n",
      "771\n",
      "772\n",
      "773\n",
      "774\n",
      "775\n",
      "776\n",
      "777\n",
      "778\n",
      "779\n",
      "780\n",
      "781\n",
      "782\n",
      "783\n",
      "784\n",
      "785\n",
      "786\n",
      "787\n",
      "788\n",
      "789\n",
      "790\n",
      "791\n",
      "792\n",
      "793\n",
      "794\n",
      "795\n",
      "796\n",
      "797\n",
      "798\n",
      "799\n",
      "800\n",
      "801\n",
      "802\n",
      "803\n",
      "804\n",
      "805\n",
      "806\n",
      "807\n",
      "808\n",
      "809\n",
      "810\n",
      "811\n",
      "812\n",
      "813\n",
      "814\n",
      "815\n",
      "816\n",
      "817\n",
      "818\n",
      "819\n",
      "820\n",
      "821\n",
      "822\n",
      "823\n",
      "824\n",
      "825\n",
      "826\n",
      "827\n",
      "828\n",
      "829\n",
      "830\n",
      "831\n",
      "832\n",
      "833\n",
      "834\n",
      "835\n",
      "836\n",
      "837\n",
      "838\n",
      "839\n",
      "840\n",
      "841\n",
      "842\n",
      "843\n",
      "844\n",
      "845\n",
      "846\n",
      "847\n",
      "848\n",
      "849\n",
      "850\n",
      "851\n",
      "852\n",
      "853\n",
      "854\n",
      "855\n",
      "856\n",
      "857\n",
      "858\n",
      "859\n",
      "860\n",
      "861\n",
      "862\n",
      "863\n",
      "864\n",
      "865\n",
      "866\n",
      "867\n",
      "868\n",
      "869\n",
      "870\n",
      "871\n",
      "872\n",
      "873\n",
      "874\n",
      "875\n",
      "876\n",
      "877\n",
      "878\n",
      "879\n",
      "880\n",
      "881\n",
      "882\n",
      "883\n",
      "884\n",
      "885\n",
      "886\n",
      "887\n",
      "888\n",
      "889\n",
      "890\n",
      "891\n",
      "892\n",
      "893\n",
      "894\n",
      "895\n",
      "896\n",
      "897\n",
      "898\n",
      "899\n",
      "900\n",
      "901\n",
      "902\n",
      "903\n",
      "904\n",
      "905\n",
      "906\n",
      "907\n",
      "908\n",
      "909\n",
      "910\n",
      "911\n",
      "912\n",
      "913\n",
      "914\n",
      "915\n",
      "916\n",
      "917\n",
      "918\n",
      "919\n",
      "920\n",
      "921\n",
      "922\n",
      "923\n",
      "924\n",
      "925\n",
      "926\n",
      "927\n",
      "928\n",
      "929\n",
      "930\n",
      "931\n",
      "932\n",
      "933\n",
      "934\n",
      "935\n",
      "936\n",
      "937\n",
      "938\n",
      "939\n",
      "940\n",
      "941\n",
      "942\n",
      "943\n",
      "944\n",
      "945\n",
      "946\n",
      "947\n",
      "948\n",
      "949\n",
      "950\n",
      "951\n",
      "952\n",
      "953\n",
      "954\n",
      "955\n",
      "956\n",
      "957\n",
      "958\n",
      "959\n",
      "960\n",
      "961\n",
      "962\n",
      "963\n",
      "964\n",
      "965\n",
      "966\n",
      "967\n",
      "968\n",
      "969\n",
      "970\n",
      "971\n",
      "972\n",
      "973\n",
      "974\n",
      "975\n",
      "976\n",
      "977\n",
      "978\n",
      "979\n",
      "980\n",
      "981\n",
      "982\n",
      "983\n",
      "984\n",
      "985\n",
      "986\n",
      "987\n",
      "988\n",
      "989\n",
      "990\n",
      "991\n",
      "992\n",
      "993\n",
      "994\n",
      "995\n",
      "996\n",
      "997\n",
      "998\n",
      "999\n"
     ]
    }
   ],
   "source": [
    "#print(time.time())\n",
    "for i in range(1000):\n",
    "    print(i)"
   ]
  },
  {
   "cell_type": "code",
   "execution_count": 220,
   "id": "3ff7e278",
   "metadata": {},
   "outputs": [],
   "source": [
    "e=time.time()"
   ]
  },
  {
   "cell_type": "code",
   "execution_count": 221,
   "id": "0bfef381",
   "metadata": {},
   "outputs": [
    {
     "data": {
      "text/plain": [
       "4.911548614501953"
      ]
     },
     "execution_count": 221,
     "metadata": {},
     "output_type": "execute_result"
    }
   ],
   "source": [
    "e-s"
   ]
  },
  {
   "cell_type": "code",
   "execution_count": 222,
   "id": "9498991d",
   "metadata": {},
   "outputs": [
    {
     "name": "stdout",
     "output_type": "stream",
     "text": [
      "0\n",
      "1\n",
      "2\n",
      "3\n",
      "4\n",
      "5\n",
      "6\n",
      "7\n",
      "8\n",
      "9\n"
     ]
    }
   ],
   "source": [
    "for i in range(10):\n",
    "    print(i)\n",
    "    time.sleep(3) # 시간 간격을 두고 실행"
   ]
  },
  {
   "cell_type": "code",
   "execution_count": null,
   "id": "0095b83e",
   "metadata": {},
   "outputs": [],
   "source": [
    "#웹 페이지 요청 -> time.sleep(5) -> 요청했던 페이지를 전달받음 ->"
   ]
  },
  {
   "cell_type": "code",
   "execution_count": 224,
   "id": "55ff71d4",
   "metadata": {},
   "outputs": [
    {
     "data": {
      "text/plain": [
       "24"
      ]
     },
     "execution_count": 224,
     "metadata": {},
     "output_type": "execute_result"
    }
   ],
   "source": [
    "import math\n",
    "\n",
    "math.gcd(8,6) #최대 공약수\n",
    "math.lcm(8,6) #최소 공배수"
   ]
  },
  {
   "cell_type": "code",
   "execution_count": null,
   "id": "78229711",
   "metadata": {},
   "outputs": [],
   "source": [
    "def hello():\n",
    "    print(\"hi\")\n",
    "    return #반드시 작성할 필요는 없으나 함수로 수행되어진 값이 되돌아가야 한다면 반드시 사용\n",
    "    #return 생략"
   ]
  },
  {
   "cell_type": "code",
   "execution_count": 3,
   "id": "3bcf537f",
   "metadata": {},
   "outputs": [
    {
     "name": "stdout",
     "output_type": "stream",
     "text": [
      "hi\n"
     ]
    },
    {
     "data": {
      "text/plain": [
       "3"
      ]
     },
     "execution_count": 3,
     "metadata": {},
     "output_type": "execute_result"
    }
   ],
   "source": [
    "def hello():\n",
    "    print(\"hi\")\n",
    "    s=1+2\n",
    "    return s\n",
    "hello()"
   ]
  },
  {
   "cell_type": "code",
   "execution_count": null,
   "id": "a29042f8",
   "metadata": {},
   "outputs": [],
   "source": [
    "#내장함수 : print, input, ...\n",
    "#import 모듈, 패키지\n",
    "#import 모듈1, 모듈2, ...\n",
    "#모듈1.변수, 모듈1.함수"
   ]
  },
  {
   "cell_type": "code",
   "execution_count": 4,
   "id": "49ace694",
   "metadata": {},
   "outputs": [],
   "source": [
    "import math"
   ]
  },
  {
   "cell_type": "code",
   "execution_count": 5,
   "id": "6dc25b2c",
   "metadata": {},
   "outputs": [
    {
     "data": {
      "text/plain": [
       "2.0"
      ]
     },
     "execution_count": 5,
     "metadata": {},
     "output_type": "execute_result"
    }
   ],
   "source": [
    "math.sqrt(4)"
   ]
  },
  {
   "cell_type": "code",
   "execution_count": 6,
   "id": "280f9448",
   "metadata": {},
   "outputs": [],
   "source": [
    "import math as m"
   ]
  },
  {
   "cell_type": "code",
   "execution_count": 8,
   "id": "64f5dd22",
   "metadata": {},
   "outputs": [
    {
     "data": {
      "text/plain": [
       "3.0"
      ]
     },
     "execution_count": 8,
     "metadata": {},
     "output_type": "execute_result"
    }
   ],
   "source": [
    "m.sqrt(9)"
   ]
  },
  {
   "cell_type": "code",
   "execution_count": 9,
   "id": "91a86b29",
   "metadata": {},
   "outputs": [],
   "source": [
    "from math import sqrt as s"
   ]
  },
  {
   "cell_type": "code",
   "execution_count": 10,
   "id": "d2d6e8e9",
   "metadata": {},
   "outputs": [
    {
     "data": {
      "text/plain": [
       "9.0"
      ]
     },
     "execution_count": 10,
     "metadata": {},
     "output_type": "execute_result"
    }
   ],
   "source": [
    "s(81)"
   ]
  },
  {
   "cell_type": "code",
   "execution_count": 16,
   "id": "d5595e5a",
   "metadata": {},
   "outputs": [
    {
     "data": {
      "text/plain": [
       "3.141592653589793"
      ]
     },
     "execution_count": 16,
     "metadata": {},
     "output_type": "execute_result"
    }
   ],
   "source": [
    "#pi\n",
    "math.pi"
   ]
  },
  {
   "cell_type": "code",
   "execution_count": 17,
   "id": "b0839b82",
   "metadata": {},
   "outputs": [],
   "source": [
    "import math as m"
   ]
  },
  {
   "cell_type": "code",
   "execution_count": 18,
   "id": "b9e1addc",
   "metadata": {},
   "outputs": [
    {
     "data": {
      "text/plain": [
       "3.141592653589793"
      ]
     },
     "execution_count": 18,
     "metadata": {},
     "output_type": "execute_result"
    }
   ],
   "source": [
    "m.pi"
   ]
  },
  {
   "cell_type": "code",
   "execution_count": 20,
   "id": "826b7be9",
   "metadata": {},
   "outputs": [],
   "source": [
    "from math import pi"
   ]
  },
  {
   "cell_type": "code",
   "execution_count": 21,
   "id": "368ad016",
   "metadata": {},
   "outputs": [
    {
     "data": {
      "text/plain": [
       "3.141592653589793"
      ]
     },
     "execution_count": 21,
     "metadata": {},
     "output_type": "execute_result"
    }
   ],
   "source": [
    "pi"
   ]
  },
  {
   "cell_type": "code",
   "execution_count": 22,
   "id": "e164681f",
   "metadata": {},
   "outputs": [
    {
     "ename": "NameError",
     "evalue": "name 'sqrt' is not defined",
     "output_type": "error",
     "traceback": [
      "\u001b[1;31m---------------------------------------------------------------------------\u001b[0m",
      "\u001b[1;31mNameError\u001b[0m                                 Traceback (most recent call last)",
      "Cell \u001b[1;32mIn[22], line 1\u001b[0m\n\u001b[1;32m----> 1\u001b[0m sqrt(\u001b[38;5;241m16\u001b[39m)\n",
      "\u001b[1;31mNameError\u001b[0m: name 'sqrt' is not defined"
     ]
    }
   ],
   "source": [
    "sqrt(16)"
   ]
  },
  {
   "cell_type": "code",
   "execution_count": 23,
   "id": "50ae987d",
   "metadata": {},
   "outputs": [],
   "source": [
    "from math import sqrt"
   ]
  },
  {
   "cell_type": "code",
   "execution_count": 24,
   "id": "1e8a7ddb",
   "metadata": {},
   "outputs": [
    {
     "data": {
      "text/plain": [
       "4.0"
      ]
     },
     "execution_count": 24,
     "metadata": {},
     "output_type": "execute_result"
    }
   ],
   "source": [
    "sqrt(16)"
   ]
  },
  {
   "cell_type": "code",
   "execution_count": 26,
   "id": "d559f5fb",
   "metadata": {},
   "outputs": [],
   "source": [
    "from math import * # math 모듈에 모든 함수 호출"
   ]
  },
  {
   "cell_type": "code",
   "execution_count": 27,
   "id": "e04c069d",
   "metadata": {},
   "outputs": [
    {
     "data": {
      "text/plain": [
       "3.872983346207417"
      ]
     },
     "execution_count": 27,
     "metadata": {},
     "output_type": "execute_result"
    }
   ],
   "source": [
    "sqrt(15)"
   ]
  },
  {
   "cell_type": "code",
   "execution_count": 28,
   "id": "11d3f185",
   "metadata": {},
   "outputs": [],
   "source": [
    "# from 모듈 import 변수/함수/클래스 as 축약형 이름\n",
    "# from 모듈 import 변수 as 이름, 함수 as 이름, 클래스 as 이름"
   ]
  },
  {
   "cell_type": "code",
   "execution_count": 29,
   "id": "d62ab4b5",
   "metadata": {},
   "outputs": [
    {
     "name": "stdout",
     "output_type": "stream",
     "text": [
      "3.141592653589793\n"
     ]
    }
   ],
   "source": [
    "print(math.pi)"
   ]
  },
  {
   "cell_type": "code",
   "execution_count": 30,
   "id": "174cb625",
   "metadata": {},
   "outputs": [],
   "source": [
    "del math"
   ]
  },
  {
   "cell_type": "code",
   "execution_count": 31,
   "id": "94ec4981",
   "metadata": {},
   "outputs": [
    {
     "ename": "NameError",
     "evalue": "name 'math' is not defined",
     "output_type": "error",
     "traceback": [
      "\u001b[1;31m---------------------------------------------------------------------------\u001b[0m",
      "\u001b[1;31mNameError\u001b[0m                                 Traceback (most recent call last)",
      "Cell \u001b[1;32mIn[31], line 1\u001b[0m\n\u001b[1;32m----> 1\u001b[0m \u001b[38;5;28mprint\u001b[39m(math\u001b[38;5;241m.\u001b[39mpi)\n",
      "\u001b[1;31mNameError\u001b[0m: name 'math' is not defined"
     ]
    }
   ],
   "source": [
    "print(math.pi)"
   ]
  },
  {
   "cell_type": "code",
   "execution_count": 32,
   "id": "01647187",
   "metadata": {},
   "outputs": [
    {
     "ename": "SyntaxError",
     "evalue": "illegal target for annotation (587378523.py, line 1)",
     "output_type": "error",
     "traceback": [
      "\u001b[1;36m  Cell \u001b[1;32mIn[32], line 1\u001b[1;36m\u001b[0m\n\u001b[1;33m    패키지(폴더) : 모듈(파일) 또는 서브패키지의 모임\u001b[0m\n\u001b[1;37m    ^\u001b[0m\n\u001b[1;31mSyntaxError\u001b[0m\u001b[1;31m:\u001b[0m illegal target for annotation\n"
     ]
    }
   ],
   "source": [
    "#패키지(폴더) : 모듈(파일) 또는 서브패키지의 모임"
   ]
  },
  {
   "cell_type": "code",
   "execution_count": 34,
   "id": "316d002b",
   "metadata": {},
   "outputs": [],
   "source": [
    "import urllib.request as ur\n",
    "#패키지.모듈.변수/함수/클래스"
   ]
  },
  {
   "cell_type": "code",
   "execution_count": 38,
   "id": "6548a954",
   "metadata": {},
   "outputs": [],
   "source": [
    "req = ur.urlopen(\"https://www.msn.com/ko-kr/weather/forecast/in-%EB%8C%80%ED%95%9C%EB%AF%BC%EA%B5%AD,%EC%84%9C%EC%9A%B8?loc=eyJsIjoi7ISc7Jq4IiwiciI6IuyEnOyauCIsImMiOiLrjIDtlZzrr7zqta0iLCJpIjoiS1IiLCJnIjoia28ta3IiLCJ4IjoiMTI2LjkwMTg5MzYxNTcyMjY2IiwieSI6IjM3LjQ2NjY4NjI0ODc3OTMifQ%3D%3D&weadegreetype=C&ocid=winp1taskbar&cvid=ca0656cd44ed4b2de313d0cd57f6a92b\")"
   ]
  },
  {
   "cell_type": "code",
   "execution_count": 39,
   "id": "340bee25",
   "metadata": {},
   "outputs": [
    {
     "data": {
      "text/plain": [
       "200"
      ]
     },
     "execution_count": 39,
     "metadata": {},
     "output_type": "execute_result"
    }
   ],
   "source": [
    "req.status"
   ]
  },
  {
   "cell_type": "code",
   "execution_count": 40,
   "id": "1f72df07",
   "metadata": {},
   "outputs": [],
   "source": [
    "import re #정규표현식 모듈"
   ]
  },
  {
   "cell_type": "code",
   "execution_count": 41,
   "id": "c351aecf",
   "metadata": {},
   "outputs": [
    {
     "data": {
      "text/plain": [
       "<re.Match object; span=(0, 2), match='hi'>"
      ]
     },
     "execution_count": 41,
     "metadata": {},
     "output_type": "execute_result"
    }
   ],
   "source": [
    "re.match(\"hi\", \"hihello\")\n",
    "#(\"패턴\", \"문자열\") => 문자열에 패턴이 존재합니까?"
   ]
  },
  {
   "cell_type": "code",
   "execution_count": 44,
   "id": "6be11ea3",
   "metadata": {},
   "outputs": [],
   "source": [
    "re.match(\"bye\", \"hihello\")"
   ]
  },
  {
   "cell_type": "code",
   "execution_count": 43,
   "id": "e6855eaf",
   "metadata": {},
   "outputs": [
    {
     "name": "stdout",
     "output_type": "stream",
     "text": [
      "None\n"
     ]
    }
   ],
   "source": [
    "print(re.match(\"bye\", \"hihello\"))"
   ]
  },
  {
   "cell_type": "code",
   "execution_count": 46,
   "id": "ac802ade",
   "metadata": {},
   "outputs": [
    {
     "data": {
      "text/plain": [
       "<re.Match object; span=(0, 2), match='hi'>"
      ]
     },
     "execution_count": 46,
     "metadata": {},
     "output_type": "execute_result"
    }
   ],
   "source": [
    "re.match(\"hi\", \"hihello\")"
   ]
  },
  {
   "cell_type": "code",
   "execution_count": 47,
   "id": "d4e34127",
   "metadata": {},
   "outputs": [],
   "source": [
    "re.match(\"hi\", \"ahihello\") #첫번째 문자부터 매치가 되지 않으면 뒤부분 검사 안함"
   ]
  },
  {
   "cell_type": "code",
   "execution_count": 48,
   "id": "d25be1b9",
   "metadata": {},
   "outputs": [],
   "source": [
    "re.match(\"hi\", \"hahihello\") #패턴이 다 매치가 되어야 매치 됬다고 나옴 "
   ]
  },
  {
   "cell_type": "code",
   "execution_count": 49,
   "id": "cf8b555f",
   "metadata": {},
   "outputs": [
    {
     "data": {
      "text/plain": [
       "<re.Match object; span=(0, 2), match='hi'>"
      ]
     },
     "execution_count": 49,
     "metadata": {},
     "output_type": "execute_result"
    }
   ],
   "source": [
    "re.search(\"hi\", \"hihello\")"
   ]
  },
  {
   "cell_type": "code",
   "execution_count": 50,
   "id": "52b9ffbd",
   "metadata": {},
   "outputs": [
    {
     "data": {
      "text/plain": [
       "<re.Match object; span=(6, 8), match='hi'>"
      ]
     },
     "execution_count": 50,
     "metadata": {},
     "output_type": "execute_result"
    }
   ],
   "source": [
    "re.search(\"hi\", \"ahellohi\")"
   ]
  },
  {
   "cell_type": "code",
   "execution_count": 51,
   "id": "80bfdeca",
   "metadata": {},
   "outputs": [
    {
     "data": {
      "text/plain": [
       "<re.Match object; span=(1, 3), match='hi'>"
      ]
     },
     "execution_count": 51,
     "metadata": {},
     "output_type": "execute_result"
    }
   ],
   "source": [
    "re.search(\"hi\", \"ahihellohi\")"
   ]
  },
  {
   "cell_type": "code",
   "execution_count": 52,
   "id": "ea991ddb",
   "metadata": {},
   "outputs": [
    {
     "data": {
      "text/plain": [
       "['hi', 'hi']"
      ]
     },
     "execution_count": 52,
     "metadata": {},
     "output_type": "execute_result"
    }
   ],
   "source": [
    "re.findall(\"hi\", \"ahihellohi\")"
   ]
  },
  {
   "cell_type": "code",
   "execution_count": 53,
   "id": "5155d212",
   "metadata": {},
   "outputs": [
    {
     "data": {
      "text/plain": [
       "<re.Match object; span=(0, 1), match='a'>"
      ]
     },
     "execution_count": 53,
     "metadata": {},
     "output_type": "execute_result"
    }
   ],
   "source": [
    "re.search(\"[abc]\", \"a\")"
   ]
  },
  {
   "cell_type": "code",
   "execution_count": 54,
   "id": "cf6274b3",
   "metadata": {},
   "outputs": [
    {
     "data": {
      "text/plain": [
       "<re.Match object; span=(0, 1), match='b'>"
      ]
     },
     "execution_count": 54,
     "metadata": {},
     "output_type": "execute_result"
    }
   ],
   "source": [
    "re.search(\"[a-c]\", \"before\")"
   ]
  },
  {
   "cell_type": "code",
   "execution_count": 56,
   "id": "69a3d7ab",
   "metadata": {},
   "outputs": [
    {
     "data": {
      "text/plain": [
       "['3', 'B', 'e', 'f', 'o', 'r', 'e']"
      ]
     },
     "execution_count": 56,
     "metadata": {},
     "output_type": "execute_result"
    }
   ],
   "source": [
    "re.findall(\"[a-zA-Z0-5]\", \"3Be7fore\")"
   ]
  },
  {
   "cell_type": "code",
   "execution_count": 60,
   "id": "daaf8a25",
   "metadata": {},
   "outputs": [],
   "source": [
    "wf = \"\"\"\n",
    "[앵커]\n",
    "\n",
    "폭염주의보가 다시 전국 곳곳으로 확대됐습니다.\n",
    "\n",
    "당분간 한낮에 대부분 지역의 기온이 30도를 웃돌아 덥겠습니다.\n",
    "\n",
    "[리포트]\n",
    "\n",
    "충청과 남부지방에 이어 수도권과 강원도 홍천에도 폭염주의보가 내려졌습니다.\n",
    "\n",
    "다시 전국 곳곳으로 폭염주의보가 확대됐는데요.\n",
    "\n",
    "오늘 서울과 광주, 대구의 낮 최고 기온은 32도까지 오르겠습니다.\n",
    "\n",
    "내일과 모레도 서울의 낮 기온 31도 등 당분간 한낮엔 30도 안팎까지 올라가는 더위가 이어지겠습니다.\n",
    "\n",
    "하지만 아침 기온은 점차 낮아지겠습니다.\n",
    "\n",
    "오늘 아침엔 서울 25도 등 지난 밤에 열대야가 나타났지만 내일 아침엔 23도, 모레 19도 등 아침 기온이 20도 안팎까지 내려가서 아침, 저녁엔 비교적 선선해지겠습니다\n",
    "\n",
    "오늘 오후에도 소나기가 올 가능성이 있습니다.\n",
    "\n",
    "5에서 최대 40밀리미터의 소나기가 오는 곳이 있겠고, 국지적으로 천둥, 번개가 치면서 시간당 30밀리미터 안팎의 강한 소나기가 오는 곳이 있을 것으로 예상됩니다.\n",
    "\n",
    "기상정보였습니다.\n",
    "\n",
    "노은지 기상캐스터/그래픽:강은지\n",
    "\"\"\""
   ]
  },
  {
   "cell_type": "code",
   "execution_count": 67,
   "id": "09726fd3",
   "metadata": {},
   "outputs": [
    {
     "name": "stdout",
     "output_type": "stream",
     "text": [
      "['[', ']', '.', '.', '[', ']', '.', '.', ',', '.', '.', '.', ',', ',', '.', ',', ',', '.', '.', '/', ':']\n"
     ]
    }
   ],
   "source": [
    "print(re.findall(\"[^ㄱ-ㅎ가-힣0-9a-zA-Z \\n]\", wf))"
   ]
  },
  {
   "cell_type": "code",
   "execution_count": 75,
   "id": "c35a7605",
   "metadata": {},
   "outputs": [
    {
     "name": "stdout",
     "output_type": "stream",
     "text": [
      "['앵', '커', '폭', '염', '주', '의', '보', '가', '다', '시', '전', '국', '곳', '곳', '으', '로', '확', '대', '됐', '습', '니', '다', '당', '분', '간', '한', '낮', '에', '대', '부', '분', '지', '역', '의', '기', '온', '이', '3', '0', '도', '를', '웃', '돌', '아', '덥', '겠', '습', '니', '다', '리', '포', '트', '충', '청', '과', '남', '부', '지', '방', '에', '이', '어', '수', '도', '권', '과', '강', '원', '도', '홍', '천', '에', '도', '폭', '염', '주', '의', '보', '가', '내', '려', '졌', '습', '니', '다', '다', '시', '전', '국', '곳', '곳', '으', '로', '폭', '염', '주', '의', '보', '가', '확', '대', '됐', '는', '데', '요', '오', '늘', '서', '울', '과', '광', '주', '대', '구', '의', '낮', '최', '고', '기', '온', '은', '3', '2', '도', '까', '지', '오', '르', '겠', '습', '니', '다', '내', '일', '과', '모', '레', '도', '서', '울', '의', '낮', '기', '온', '3', '1', '도', '등', '당', '분', '간', '한', '낮', '엔', '3', '0', '도', '안', '팎', '까', '지', '올', '라', '가', '는', '더', '위', '가', '이', '어', '지', '겠', '습', '니', '다', '하', '지', '만', '아', '침', '기', '온', '은', '점', '차', '낮', '아', '지', '겠', '습', '니', '다', '오', '늘', '아', '침', '엔', '서', '울', '2', '5', '도', '등', '지', '난', '밤', '에', '열', '대', '야', '가', '나', '타', '났', '지', '만', '내', '일', '아', '침', '엔', '2', '3', '도', '모', '레', '1', '9', '도', '등', '아', '침', '기', '온', '이', '2', '0', '도', '안', '팎', '까', '지', '내', '려', '가', '서', '아', '침', '저', '녁', '엔', '비', '교', '적', '선', '선', '해', '지', '겠', '습', '니', '다', '오', '늘', '오', '후', '에', '도', '소', '나', '기', '가', '올', '가', '능', '성', '이', '있', '습', '니', '다', '5', '에', '서', '최', '대', '4', '0', '밀', '리', '미', '터', '의', '소', '나', '기', '가', '오', '는', '곳', '이', '있', '겠', '고', '국', '지', '적', '으', '로', '천', '둥', '번', '개', '가', '치', '면', '서', '시', '간', '당', '3', '0', '밀', '리', '미', '터', '안', '팎', '의', '강', '한', '소', '나', '기', '가', '오', '는', '곳', '이', '있', '을', '것', '으', '로', '예', '상', '됩', '니', '다', '기', '상', '정', '보', '였', '습', '니', '다', '노', '은', '지', '기', '상', '캐', '스', '터', '그', '래', '픽', '강', '은', '지']\n"
     ]
    }
   ],
   "source": [
    "print(re.findall(\"\\w\", wf)) #화이트스페이스 공백문자 줄바꿈문자 라고 생각하면 됨"
   ]
  },
  {
   "cell_type": "code",
   "execution_count": 71,
   "id": "89962581",
   "metadata": {},
   "outputs": [
    {
     "name": "stdout",
     "output_type": "stream",
     "text": [
      "['\\n', '[', '앵', '커', ']', '\\n', '\\n', '폭', '염', '주', '의', '보', '가', ' ', '다', '시', ' ', '전', '국', ' ', '곳', '곳', '으', '로', ' ', '확', '대', '됐', '습', '니', '다', '.', '\\n', '\\n', '당', '분', '간', ' ', '한', '낮', '에', ' ', '대', '부', '분', ' ', '지', '역', '의', ' ', '기', '온', '이', ' ', '도', '를', ' ', '웃', '돌', '아', ' ', '덥', '겠', '습', '니', '다', '.', '\\n', '\\n', '[', '리', '포', '트', ']', '\\n', '\\n', '충', '청', '과', ' ', '남', '부', '지', '방', '에', ' ', '이', '어', ' ', '수', '도', '권', '과', ' ', '강', '원', '도', ' ', '홍', '천', '에', '도', ' ', '폭', '염', '주', '의', '보', '가', ' ', '내', '려', '졌', '습', '니', '다', '.', '\\n', '\\n', '다', '시', ' ', '전', '국', ' ', '곳', '곳', '으', '로', ' ', '폭', '염', '주', '의', '보', '가', ' ', '확', '대', '됐', '는', '데', '요', '.', '\\n', '\\n', '오', '늘', ' ', '서', '울', '과', ' ', '광', '주', ',', ' ', '대', '구', '의', ' ', '낮', ' ', '최', '고', ' ', '기', '온', '은', ' ', '도', '까', '지', ' ', '오', '르', '겠', '습', '니', '다', '.', '\\n', '\\n', '내', '일', '과', ' ', '모', '레', '도', ' ', '서', '울', '의', ' ', '낮', ' ', '기', '온', ' ', '도', ' ', '등', ' ', '당', '분', '간', ' ', '한', '낮', '엔', ' ', '도', ' ', '안', '팎', '까', '지', ' ', '올', '라', '가', '는', ' ', '더', '위', '가', ' ', '이', '어', '지', '겠', '습', '니', '다', '.', '\\n', '\\n', '하', '지', '만', ' ', '아', '침', ' ', '기', '온', '은', ' ', '점', '차', ' ', '낮', '아', '지', '겠', '습', '니', '다', '.', '\\n', '\\n', '오', '늘', ' ', '아', '침', '엔', ' ', '서', '울', ' ', '도', ' ', '등', ' ', '지', '난', ' ', '밤', '에', ' ', '열', '대', '야', '가', ' ', '나', '타', '났', '지', '만', ' ', '내', '일', ' ', '아', '침', '엔', ' ', '도', ',', ' ', '모', '레', ' ', '도', ' ', '등', ' ', '아', '침', ' ', '기', '온', '이', ' ', '도', ' ', '안', '팎', '까', '지', ' ', '내', '려', '가', '서', ' ', '아', '침', ',', ' ', '저', '녁', '엔', ' ', '비', '교', '적', ' ', '선', '선', '해', '지', '겠', '습', '니', '다', '\\n', '\\n', '오', '늘', ' ', '오', '후', '에', '도', ' ', '소', '나', '기', '가', ' ', '올', ' ', '가', '능', '성', '이', ' ', '있', '습', '니', '다', '.', '\\n', '\\n', '에', '서', ' ', '최', '대', ' ', '밀', '리', '미', '터', '의', ' ', '소', '나', '기', '가', ' ', '오', '는', ' ', '곳', '이', ' ', '있', '겠', '고', ',', ' ', '국', '지', '적', '으', '로', ' ', '천', '둥', ',', ' ', '번', '개', '가', ' ', '치', '면', '서', ' ', '시', '간', '당', ' ', '밀', '리', '미', '터', ' ', '안', '팎', '의', ' ', '강', '한', ' ', '소', '나', '기', '가', ' ', '오', '는', ' ', '곳', '이', ' ', '있', '을', ' ', '것', '으', '로', ' ', '예', '상', '됩', '니', '다', '.', '\\n', '\\n', '기', '상', '정', '보', '였', '습', '니', '다', '.', '\\n', '\\n', '노', '은', '지', ' ', '기', '상', '캐', '스', '터', '/', '그', '래', '픽', ':', '강', '은', '지', '\\n']\n"
     ]
    }
   ],
   "source": [
    "print(re.findall(\"[^0-9]\", wf))"
   ]
  },
  {
   "cell_type": "code",
   "execution_count": null,
   "id": "64a3ec7f",
   "metadata": {},
   "outputs": [],
   "source": [
    "re.search(\"hello\",\"hihello\")\n",
    "re.search(\"^hello\",\"hihello\") # 대상 문자열이 hello 문자열로 시작하는지 여부를 판단\n",
    "\n",
    "re.search(\"hello$\",\"hihello\") # 대상 문자열이 hello 문자열로 끝나는지 여부를 판단"
   ]
  },
  {
   "cell_type": "code",
   "execution_count": 80,
   "id": "154e2e76",
   "metadata": {},
   "outputs": [
    {
     "data": {
      "text/plain": [
       "<re.Match object; span=(13, 16), match='코리아'>"
      ]
     },
     "execution_count": 80,
     "metadata": {},
     "output_type": "execute_result"
    }
   ],
   "source": [
    "re.search(\"미국|중국|코리아\",\"우리나라 대한민국 한국 코리아\") # | : or랑 같음"
   ]
  },
  {
   "cell_type": "code",
   "execution_count": 83,
   "id": "79a8a79b",
   "metadata": {},
   "outputs": [
    {
     "data": {
      "text/plain": [
       "<re.Match object; span=(0, 1), match='1'>"
      ]
     },
     "execution_count": 83,
     "metadata": {},
     "output_type": "execute_result"
    }
   ],
   "source": [
    "re.match(\"1|2\",\"12345\")"
   ]
  },
  {
   "cell_type": "code",
   "execution_count": 88,
   "id": "d055ca00",
   "metadata": {},
   "outputs": [
    {
     "data": {
      "text/plain": [
       "<re.Match object; span=(0, 5), match='12345'>"
      ]
     },
     "execution_count": 88,
     "metadata": {},
     "output_type": "execute_result"
    }
   ],
   "source": [
    "re.match(\"[1-5]+\",\"12345\") # 패턴에 부합되는 문자가 1개 이상 있는지 확인\n",
    "re.match(\"[1-5]*\",\"12345\") # 패턴에 부합되는 문자가 0개 이상 있는지 확인"
   ]
  },
  {
   "cell_type": "code",
   "execution_count": 87,
   "id": "5a64a053",
   "metadata": {},
   "outputs": [
    {
     "data": {
      "text/plain": [
       "<re.Match object; span=(0, 3), match='312'>"
      ]
     },
     "execution_count": 87,
     "metadata": {},
     "output_type": "execute_result"
    }
   ],
   "source": [
    "re.match(\"[1-5]+\",\"3127345\")"
   ]
  },
  {
   "cell_type": "code",
   "execution_count": 91,
   "id": "aef03af9",
   "metadata": {},
   "outputs": [
    {
     "data": {
      "text/plain": [
       "<re.Match object; span=(0, 1), match='1'>"
      ]
     },
     "execution_count": 91,
     "metadata": {},
     "output_type": "execute_result"
    }
   ],
   "source": [
    "re.match(\"[0-9]\",\"123\")"
   ]
  },
  {
   "cell_type": "code",
   "execution_count": 92,
   "id": "80800408",
   "metadata": {},
   "outputs": [
    {
     "data": {
      "text/plain": [
       "<re.Match object; span=(0, 3), match='123'>"
      ]
     },
     "execution_count": 92,
     "metadata": {},
     "output_type": "execute_result"
    }
   ],
   "source": [
    "re.match(\"[0-9]+\",\"123\")"
   ]
  },
  {
   "cell_type": "code",
   "execution_count": 94,
   "id": "096eb3f3",
   "metadata": {},
   "outputs": [
    {
     "data": {
      "text/plain": [
       "<re.Match object; span=(0, 0), match=''>"
      ]
     },
     "execution_count": 94,
     "metadata": {},
     "output_type": "execute_result"
    }
   ],
   "source": [
    "re.match(\"[0-9]*\",\"123\")"
   ]
  },
  {
   "cell_type": "code",
   "execution_count": 96,
   "id": "45001add",
   "metadata": {},
   "outputs": [
    {
     "data": {
      "text/plain": [
       "<re.Match object; span=(0, 1), match='a'>"
      ]
     },
     "execution_count": 96,
     "metadata": {},
     "output_type": "execute_result"
    }
   ],
   "source": [
    "re.match(\"a\",\"a123\")"
   ]
  },
  {
   "cell_type": "code",
   "execution_count": 97,
   "id": "3a31bec8",
   "metadata": {},
   "outputs": [
    {
     "data": {
      "text/plain": [
       "<re.Match object; span=(0, 1), match='a'>"
      ]
     },
     "execution_count": 97,
     "metadata": {},
     "output_type": "execute_result"
    }
   ],
   "source": [
    "re.match(\"a\",\"aaaa123\")"
   ]
  },
  {
   "cell_type": "code",
   "execution_count": 105,
   "id": "b4cfaba4",
   "metadata": {},
   "outputs": [],
   "source": [
    "re.match(\"a+\",\"baaaa123\")"
   ]
  },
  {
   "cell_type": "code",
   "execution_count": 104,
   "id": "ed4a0222",
   "metadata": {},
   "outputs": [
    {
     "data": {
      "text/plain": [
       "<re.Match object; span=(0, 0), match=''>"
      ]
     },
     "execution_count": 104,
     "metadata": {},
     "output_type": "execute_result"
    }
   ],
   "source": [
    "re.match(\"a*\",\"baaaa123\")"
   ]
  },
  {
   "cell_type": "code",
   "execution_count": 103,
   "id": "8662fd13",
   "metadata": {},
   "outputs": [
    {
     "data": {
      "text/plain": [
       "<re.Match object; span=(0, 0), match=''>"
      ]
     },
     "execution_count": 103,
     "metadata": {},
     "output_type": "execute_result"
    }
   ],
   "source": [
    "re.match(\"b*\",\"aaaa123\")"
   ]
  },
  {
   "cell_type": "code",
   "execution_count": 107,
   "id": "3bb4c3ad",
   "metadata": {},
   "outputs": [
    {
     "data": {
      "text/plain": [
       "<re.Match object; span=(0, 1), match='b'>"
      ]
     },
     "execution_count": 107,
     "metadata": {},
     "output_type": "execute_result"
    }
   ],
   "source": [
    "re.match(\"a*b+\",\"baaaa123\")"
   ]
  },
  {
   "cell_type": "code",
   "execution_count": 108,
   "id": "0b56561f",
   "metadata": {},
   "outputs": [
    {
     "data": {
      "text/plain": [
       "<re.Match object; span=(0, 5), match='baaaa'>"
      ]
     },
     "execution_count": 108,
     "metadata": {},
     "output_type": "execute_result"
    }
   ],
   "source": [
    "re.match(\"ba*\",\"baaaa123\")"
   ]
  },
  {
   "cell_type": "code",
   "execution_count": 109,
   "id": "ea42c14e",
   "metadata": {},
   "outputs": [
    {
     "data": {
      "text/plain": [
       "<re.Match object; span=(0, 6), match='baaaa1'>"
      ]
     },
     "execution_count": 109,
     "metadata": {},
     "output_type": "execute_result"
    }
   ],
   "source": [
    "re.match(\"ba*1\",\"baaaa123\")"
   ]
  },
  {
   "cell_type": "code",
   "execution_count": 110,
   "id": "55c25492",
   "metadata": {},
   "outputs": [
    {
     "data": {
      "text/plain": [
       "<re.Match object; span=(0, 6), match='baaaa1'>"
      ]
     },
     "execution_count": 110,
     "metadata": {},
     "output_type": "execute_result"
    }
   ],
   "source": [
    "re.match(\"ba*[1-3]\",\"baaaa123\")"
   ]
  },
  {
   "cell_type": "code",
   "execution_count": 111,
   "id": "bdafc3a8",
   "metadata": {},
   "outputs": [
    {
     "data": {
      "text/plain": [
       "<re.Match object; span=(0, 8), match='baaaa123'>"
      ]
     },
     "execution_count": 111,
     "metadata": {},
     "output_type": "execute_result"
    }
   ],
   "source": [
    "re.match(\"ba*[1-3]+\",\"baaaa123\")"
   ]
  },
  {
   "cell_type": "code",
   "execution_count": 112,
   "id": "8cc9478c",
   "metadata": {},
   "outputs": [
    {
     "data": {
      "text/plain": [
       "<re.Match object; span=(0, 1), match='1'>"
      ]
     },
     "execution_count": 112,
     "metadata": {},
     "output_type": "execute_result"
    }
   ],
   "source": [
    "re.match(\"[0-9]\",\"1234\")"
   ]
  },
  {
   "cell_type": "code",
   "execution_count": 113,
   "id": "27ba3f48",
   "metadata": {},
   "outputs": [
    {
     "data": {
      "text/plain": [
       "<re.Match object; span=(0, 1), match='1'>"
      ]
     },
     "execution_count": 113,
     "metadata": {},
     "output_type": "execute_result"
    }
   ],
   "source": [
    "re.match(\"[0-9a-z]\",\"1234\")"
   ]
  },
  {
   "cell_type": "code",
   "execution_count": 114,
   "id": "23462506",
   "metadata": {},
   "outputs": [
    {
     "data": {
      "text/plain": [
       "<re.Match object; span=(0, 1), match='h'>"
      ]
     },
     "execution_count": 114,
     "metadata": {},
     "output_type": "execute_result"
    }
   ],
   "source": [
    "re.match(\"[0-9a-z]\",\"hi1234\")"
   ]
  },
  {
   "cell_type": "code",
   "execution_count": 115,
   "id": "ed39c1d3",
   "metadata": {},
   "outputs": [
    {
     "data": {
      "text/plain": [
       "<re.Match object; span=(0, 6), match='hi1234'>"
      ]
     },
     "execution_count": 115,
     "metadata": {},
     "output_type": "execute_result"
    }
   ],
   "source": [
    "re.match(\"[0-9a-z]+\",\"hi1234\")"
   ]
  },
  {
   "cell_type": "code",
   "execution_count": 116,
   "id": "15186052",
   "metadata": {},
   "outputs": [
    {
     "data": {
      "text/plain": [
       "<re.Match object; span=(0, 6), match='hi1234'>"
      ]
     },
     "execution_count": 116,
     "metadata": {},
     "output_type": "execute_result"
    }
   ],
   "source": [
    "re.match(\"[0-9a-z]*\",\"hi1234\")"
   ]
  },
  {
   "cell_type": "code",
   "execution_count": 117,
   "id": "04add362",
   "metadata": {},
   "outputs": [],
   "source": [
    "re.match(\"[0-9a-z]+\",\"Ahi1234\")"
   ]
  },
  {
   "cell_type": "code",
   "execution_count": 118,
   "id": "264c732d",
   "metadata": {},
   "outputs": [
    {
     "data": {
      "text/plain": [
       "<re.Match object; span=(0, 0), match=''>"
      ]
     },
     "execution_count": 118,
     "metadata": {},
     "output_type": "execute_result"
    }
   ],
   "source": [
    "re.match(\"[0-9a-z]*\",\"Ahi1234\")"
   ]
  },
  {
   "cell_type": "code",
   "execution_count": 120,
   "id": "c3ff7650",
   "metadata": {},
   "outputs": [
    {
     "data": {
      "text/plain": [
       "<re.Match object; span=(0, 7), match='hi1234가'>"
      ]
     },
     "execution_count": 120,
     "metadata": {},
     "output_type": "execute_result"
    }
   ],
   "source": [
    "re.match(\"[0-9a-z]*가\",\"hi1234가나다\")"
   ]
  },
  {
   "cell_type": "code",
   "execution_count": 121,
   "id": "1458cfed",
   "metadata": {},
   "outputs": [
    {
     "data": {
      "text/plain": [
       "<re.Match object; span=(0, 9), match='hi1234가나다'>"
      ]
     },
     "execution_count": 121,
     "metadata": {},
     "output_type": "execute_result"
    }
   ],
   "source": [
    "re.match(\"[0-9a-z가-힣]+\",\"hi1234가나다\")"
   ]
  },
  {
   "cell_type": "code",
   "execution_count": 124,
   "id": "7d51cdf9",
   "metadata": {},
   "outputs": [
    {
     "data": {
      "text/plain": [
       "<re.Match object; span=(0, 14), match='ㅋㅎㅋㅎㅋhi1234가나다'>"
      ]
     },
     "execution_count": 124,
     "metadata": {},
     "output_type": "execute_result"
    }
   ],
   "source": [
    "re.match(\"[0-9a-z가-힣ㅋ-ㅎ]+\",\"ㅋㅎㅋㅎㅋhi1234가나다\")"
   ]
  },
  {
   "cell_type": "code",
   "execution_count": 128,
   "id": "bbe1fed6",
   "metadata": {},
   "outputs": [
    {
     "data": {
      "text/plain": [
       "<re.Match object; span=(0, 1), match='b'>"
      ]
     },
     "execution_count": 128,
     "metadata": {},
     "output_type": "execute_result"
    }
   ],
   "source": [
    "re.match(\"a*b\",\"b\")"
   ]
  },
  {
   "cell_type": "code",
   "execution_count": 130,
   "id": "3b550c6d",
   "metadata": {},
   "outputs": [
    {
     "data": {
      "text/plain": [
       "<re.Match object; span=(0, 3), match='aab'>"
      ]
     },
     "execution_count": 130,
     "metadata": {},
     "output_type": "execute_result"
    }
   ],
   "source": [
    "re.match(\"a*b\",\"aab\")"
   ]
  },
  {
   "cell_type": "code",
   "execution_count": 133,
   "id": "c956027d",
   "metadata": {},
   "outputs": [
    {
     "data": {
      "text/plain": [
       "<re.Match object; span=(0, 3), match='aab'>"
      ]
     },
     "execution_count": 133,
     "metadata": {},
     "output_type": "execute_result"
    }
   ],
   "source": [
    "re.match(\"a.b\",\"aab\")"
   ]
  },
  {
   "cell_type": "code",
   "execution_count": 135,
   "id": "401cb90b",
   "metadata": {},
   "outputs": [
    {
     "data": {
      "text/plain": [
       "<re.Match object; span=(0, 3), match='abb'>"
      ]
     },
     "execution_count": 135,
     "metadata": {},
     "output_type": "execute_result"
    }
   ],
   "source": [
    "re.match(\"a.b\",\"abb\")"
   ]
  },
  {
   "cell_type": "code",
   "execution_count": 144,
   "id": "8d85806c",
   "metadata": {},
   "outputs": [
    {
     "name": "stdout",
     "output_type": "stream",
     "text": [
      "비정상적인 파일명 입니다.\n"
     ]
    }
   ],
   "source": [
    "#파일명.확장자\n",
    "\"test.py\"\n",
    "\"test@\"\n",
    "#res = re.match(\"[a-zA-Z0-9]+[.][a-zA-Z]+\", \"test.py\")\n",
    "res = re.match(\"[a-zA-Z0-9]+[.][a-zA-Z]+\", \"test2\")\n",
    "if res:\n",
    "    print(\"정상적인 파일명 입니다.\")\n",
    "else:\n",
    "    print(\"비정상적인 파일명 입니다.\")"
   ]
  },
  {
   "cell_type": "code",
   "execution_count": 148,
   "id": "536ef94b",
   "metadata": {},
   "outputs": [],
   "source": [
    "# ? 앞의 문자(범위)가 0개 또는 1개인지 판단"
   ]
  },
  {
   "cell_type": "code",
   "execution_count": 152,
   "id": "61cc6030",
   "metadata": {},
   "outputs": [],
   "source": [
    "re.match(\"ab[0-9]?d\",\"ab79d\")"
   ]
  },
  {
   "cell_type": "code",
   "execution_count": 153,
   "id": "2c75077a",
   "metadata": {},
   "outputs": [
    {
     "data": {
      "text/plain": [
       "<re.Match object; span=(0, 1), match='h'>"
      ]
     },
     "execution_count": 153,
     "metadata": {},
     "output_type": "execute_result"
    }
   ],
   "source": [
    "re.match(\"h\",\"hhheee\")"
   ]
  },
  {
   "cell_type": "code",
   "execution_count": 154,
   "id": "0592c875",
   "metadata": {},
   "outputs": [
    {
     "data": {
      "text/plain": [
       "<re.Match object; span=(0, 3), match='hhh'>"
      ]
     },
     "execution_count": 154,
     "metadata": {},
     "output_type": "execute_result"
    }
   ],
   "source": [
    "re.match(\"h{3}\",\"hhheee\")"
   ]
  },
  {
   "cell_type": "code",
   "execution_count": 159,
   "id": "0fb5e591",
   "metadata": {},
   "outputs": [],
   "source": [
    "re.match(\"h{5}\",\"hhhheee\")"
   ]
  },
  {
   "cell_type": "code",
   "execution_count": 161,
   "id": "9c3893c5",
   "metadata": {},
   "outputs": [
    {
     "data": {
      "text/plain": [
       "<re.Match object; span=(0, 2), match='hi'>"
      ]
     },
     "execution_count": 161,
     "metadata": {},
     "output_type": "execute_result"
    }
   ],
   "source": [
    "re.match(\"hi\",\"hihi\")"
   ]
  },
  {
   "cell_type": "code",
   "execution_count": 163,
   "id": "8e4e8edc",
   "metadata": {},
   "outputs": [
    {
     "data": {
      "text/plain": [
       "<re.Match object; span=(0, 4), match='hihi'>"
      ]
     },
     "execution_count": 163,
     "metadata": {},
     "output_type": "execute_result"
    }
   ],
   "source": [
    "re.match(\"(hi){2}\",\"hihi\")"
   ]
  },
  {
   "cell_type": "code",
   "execution_count": 165,
   "id": "0f118771",
   "metadata": {},
   "outputs": [
    {
     "data": {
      "text/plain": [
       "<re.Match object; span=(0, 6), match='hihihi'>"
      ]
     },
     "execution_count": 165,
     "metadata": {},
     "output_type": "execute_result"
    }
   ],
   "source": [
    "re.match(\"(hi){3}\",\"hihihihi\")"
   ]
  },
  {
   "cell_type": "code",
   "execution_count": 166,
   "id": "9eb6b7fe",
   "metadata": {},
   "outputs": [
    {
     "data": {
      "text/plain": [
       "<re.Match object; span=(0, 7), match='hihihih'>"
      ]
     },
     "execution_count": 166,
     "metadata": {},
     "output_type": "execute_result"
    }
   ],
   "source": [
    "re.match(\"(hi){3}h\",\"hihihihi\")"
   ]
  },
  {
   "cell_type": "code",
   "execution_count": 167,
   "id": "66687280",
   "metadata": {},
   "outputs": [],
   "source": [
    "re.match(\"(hi){3}hi[0-9]\",\"hihihihi\")"
   ]
  },
  {
   "cell_type": "code",
   "execution_count": 168,
   "id": "0c09b339",
   "metadata": {},
   "outputs": [
    {
     "data": {
      "text/plain": [
       "<re.Match object; span=(0, 8), match='hihihihi'>"
      ]
     },
     "execution_count": 168,
     "metadata": {},
     "output_type": "execute_result"
    }
   ],
   "source": [
    "re.match(\"(hi){3}hi[0-9]*\",\"hihihihi\")"
   ]
  },
  {
   "cell_type": "code",
   "execution_count": 169,
   "id": "d4c8bd30",
   "metadata": {},
   "outputs": [
    {
     "data": {
      "text/plain": [
       "<re.Match object; span=(0, 3), match='123'>"
      ]
     },
     "execution_count": 169,
     "metadata": {},
     "output_type": "execute_result"
    }
   ],
   "source": [
    "re.match(\"[0-9]{3}\",\"123\")"
   ]
  },
  {
   "cell_type": "code",
   "execution_count": 170,
   "id": "85322d2e",
   "metadata": {},
   "outputs": [],
   "source": [
    "re.match(\"[0-9]{3}\",\"12\")"
   ]
  },
  {
   "cell_type": "code",
   "execution_count": 171,
   "id": "3154cace",
   "metadata": {},
   "outputs": [
    {
     "data": {
      "text/plain": [
       "<re.Match object; span=(0, 2), match='12'>"
      ]
     },
     "execution_count": 171,
     "metadata": {},
     "output_type": "execute_result"
    }
   ],
   "source": [
    "re.match(\"[0-9]{2,3}\",\"12\")"
   ]
  },
  {
   "cell_type": "code",
   "execution_count": 172,
   "id": "072d861e",
   "metadata": {},
   "outputs": [
    {
     "data": {
      "text/plain": [
       "<re.Match object; span=(0, 5), match='12345'>"
      ]
     },
     "execution_count": 172,
     "metadata": {},
     "output_type": "execute_result"
    }
   ],
   "source": [
    "re.match(\"[0-9]{2,6}\",\"12345\")"
   ]
  },
  {
   "cell_type": "code",
   "execution_count": 174,
   "id": "ffbb5bd5",
   "metadata": {},
   "outputs": [
    {
     "data": {
      "text/plain": [
       "'\\n전화번호 검증 패턴식 정의\\n1) 지역 번호와 - 국번호 - 전화번호\\n2) 2 or 3 - 3 or 4 - 4\\n3) 모두 숫자\\n02-123-1234\\n'"
      ]
     },
     "execution_count": 174,
     "metadata": {},
     "output_type": "execute_result"
    }
   ],
   "source": [
    "\"\"\"\n",
    "전화번호 검증 패턴식 정의\n",
    "1) 지역 번호와 - 국번호 - 전화번호\n",
    "2) 2 or 3 - 3 or 4 - 4\n",
    "3) 모두 숫자\n",
    "02-123-1234\n",
    "\"\"\""
   ]
  },
  {
   "cell_type": "code",
   "execution_count": 180,
   "id": "1eaf7405",
   "metadata": {},
   "outputs": [
    {
     "name": "stdout",
     "output_type": "stream",
     "text": [
      "02-123-1234\n",
      "전화번호 입력 : 02-123-1234\n"
     ]
    }
   ],
   "source": [
    "callnum = print(\"전화번호 입력 :\",input())\n",
    "re.match(\"[0-9]{2,3}-[0-9]{2,3}-[0-9]{4}\",str(callnum))"
   ]
  },
  {
   "cell_type": "code",
   "execution_count": 182,
   "id": "04a09fdb",
   "metadata": {},
   "outputs": [],
   "source": [
    "p = re.compile(\"ab*\")"
   ]
  },
  {
   "cell_type": "code",
   "execution_count": 183,
   "id": "b00f7d9c",
   "metadata": {},
   "outputs": [
    {
     "name": "stdout",
     "output_type": "stream",
     "text": [
      "<re.Match object; span=(0, 2), match='ab'>\n"
     ]
    }
   ],
   "source": [
    "print(re.match(p, \"ab\"))"
   ]
  },
  {
   "cell_type": "code",
   "execution_count": 186,
   "id": "9bf66ea6",
   "metadata": {},
   "outputs": [
    {
     "data": {
      "text/plain": [
       "<re.Match object; span=(0, 3), match='홍길동'>"
      ]
     },
     "execution_count": 186,
     "metadata": {},
     "output_type": "execute_result"
    }
   ],
   "source": [
    "re.match(\"[가-힣]*\", \"홍길동\")"
   ]
  },
  {
   "cell_type": "code",
   "execution_count": 188,
   "id": "97b52750",
   "metadata": {},
   "outputs": [],
   "source": [
    "re.match(\"[A-Z]+\",\"Hello\")\n",
    "re.match(\"[^A-Z]+\",\"Hello\")"
   ]
  },
  {
   "cell_type": "code",
   "execution_count": 189,
   "id": "e6a7950c",
   "metadata": {},
   "outputs": [
    {
     "data": {
      "text/plain": [
       "<re.Match object; span=(0, 1), match='H'>"
      ]
     },
     "execution_count": 189,
     "metadata": {},
     "output_type": "execute_result"
    }
   ],
   "source": [
    "re.match(\"^[A-Z]+\",\"Hello\") #대문자로 시작하는 것이면 매치됨"
   ]
  },
  {
   "cell_type": "code",
   "execution_count": 190,
   "id": "54190f53",
   "metadata": {},
   "outputs": [
    {
     "data": {
      "text/plain": [
       "<re.Match object; span=(0, 1), match='H'>"
      ]
     },
     "execution_count": 190,
     "metadata": {},
     "output_type": "execute_result"
    }
   ],
   "source": [
    "re.match(\"^[A-Z]\",\"Hello\")"
   ]
  },
  {
   "cell_type": "code",
   "execution_count": 199,
   "id": "cec9d944",
   "metadata": {},
   "outputs": [
    {
     "data": {
      "text/plain": [
       "<re.Match object; span=(2, 4), match='**'>"
      ]
     },
     "execution_count": 199,
     "metadata": {},
     "output_type": "execute_result"
    }
   ],
   "source": [
    "re.search(\"\\*+\",\"2 ** 3\") #문자 *로 입력할땐 \\*로 입력"
   ]
  },
  {
   "cell_type": "code",
   "execution_count": 201,
   "id": "e9c200dc",
   "metadata": {},
   "outputs": [
    {
     "data": {
      "text/plain": [
       "<re.Match object; span=(0, 7), match='$(Doc9)'>"
      ]
     },
     "execution_count": 201,
     "metadata": {},
     "output_type": "execute_result"
    }
   ],
   "source": [
    "re.match(\"[a-zA-Z0-9()$]+\",\"$(Doc9)\")"
   ]
  },
  {
   "cell_type": "code",
   "execution_count": 202,
   "id": "4c2f5d0d",
   "metadata": {},
   "outputs": [
    {
     "data": {
      "text/plain": [
       "<re.Match object; span=(0, 6), match='2 ** 3'>"
      ]
     },
     "execution_count": 202,
     "metadata": {},
     "output_type": "execute_result"
    }
   ],
   "source": [
    "re.match(\"[0-9 *]+\",\"2 ** 3\")"
   ]
  },
  {
   "cell_type": "code",
   "execution_count": 206,
   "id": "5a694f10",
   "metadata": {},
   "outputs": [
    {
     "data": {
      "text/plain": [
       "<re.Match object; span=(2, 4), match='**'>"
      ]
     },
     "execution_count": 206,
     "metadata": {},
     "output_type": "execute_result"
    }
   ],
   "source": [
    "re.search(\"[*]+\",\"2 ** 3\") #[*] 문자"
   ]
  },
  {
   "cell_type": "code",
   "execution_count": 241,
   "id": "ee5768e8",
   "metadata": {},
   "outputs": [],
   "source": [
    "res = re.match(\"([0-9]+) ([0-9]+)\",\"123 45\") #()를 이용하여 그룹으로 나눔"
   ]
  },
  {
   "cell_type": "code",
   "execution_count": 242,
   "id": "eddc92fe",
   "metadata": {},
   "outputs": [
    {
     "data": {
      "text/plain": [
       "'123 45'"
      ]
     },
     "execution_count": 242,
     "metadata": {},
     "output_type": "execute_result"
    }
   ],
   "source": [
    "res.group()"
   ]
  },
  {
   "cell_type": "code",
   "execution_count": 223,
   "id": "6853e858",
   "metadata": {},
   "outputs": [
    {
     "data": {
      "text/plain": [
       "('123', '45')"
      ]
     },
     "execution_count": 223,
     "metadata": {},
     "output_type": "execute_result"
    }
   ],
   "source": [
    "res.groups() #tuple 형식으로 출력"
   ]
  },
  {
   "cell_type": "code",
   "execution_count": 224,
   "id": "ee3f56a7",
   "metadata": {},
   "outputs": [],
   "source": [
    "# 문자열 : \"print(123)\"\n",
    "# 문자열에서 함수명과 인수를 각각의 그룹으로 나누어 출력\n",
    "#res.group(0) => print\n",
    "#res.group(1) => 123"
   ]
  },
  {
   "cell_type": "code",
   "execution_count": 237,
   "id": "d187c1a3",
   "metadata": {},
   "outputs": [],
   "source": [
    "del res"
   ]
  },
  {
   "cell_type": "code",
   "execution_count": 245,
   "id": "4d13f89d",
   "metadata": {},
   "outputs": [
    {
     "data": {
      "text/plain": [
       "<re.Match object; span=(0, 9), match='print(123'>"
      ]
     },
     "execution_count": 245,
     "metadata": {},
     "output_type": "execute_result"
    }
   ],
   "source": [
    "re.match(\"([a-z]+)[(]([0-9]+)\",\"print(123)\")"
   ]
  },
  {
   "cell_type": "code",
   "execution_count": 271,
   "id": "5426af0d",
   "metadata": {},
   "outputs": [],
   "source": [
    "res = re.match(\"([a-z]+)[(]([0-9]+)\",\"print(123)\")"
   ]
  },
  {
   "cell_type": "code",
   "execution_count": 273,
   "id": "bcf9031c",
   "metadata": {},
   "outputs": [
    {
     "data": {
      "text/plain": [
       "'print'"
      ]
     },
     "execution_count": 273,
     "metadata": {},
     "output_type": "execute_result"
    }
   ],
   "source": [
    "res.group(1)"
   ]
  },
  {
   "cell_type": "code",
   "execution_count": 252,
   "id": "c9871d95",
   "metadata": {},
   "outputs": [
    {
     "data": {
      "text/plain": [
       "'123'"
      ]
     },
     "execution_count": 252,
     "metadata": {},
     "output_type": "execute_result"
    }
   ],
   "source": [
    "res.group(2)"
   ]
  },
  {
   "cell_type": "code",
   "execution_count": 263,
   "id": "6b75a47c",
   "metadata": {},
   "outputs": [],
   "source": [
    "res = re.match(\"(?P<fn>[a-zA-Z_][a-zA-Z_0-9]+)\\((?P<arg>\\w+)\\)\",\"print(123)\") # (?P<그룹명>)"
   ]
  },
  {
   "cell_type": "code",
   "execution_count": 266,
   "id": "3985ed86",
   "metadata": {},
   "outputs": [
    {
     "data": {
      "text/plain": [
       "'123'"
      ]
     },
     "execution_count": 266,
     "metadata": {},
     "output_type": "execute_result"
    }
   ],
   "source": [
    "res.group(\"arg\")"
   ]
  },
  {
   "cell_type": "code",
   "execution_count": 268,
   "id": "7e1d548c",
   "metadata": {},
   "outputs": [
    {
     "name": "stdout",
     "output_type": "stream",
     "text": [
      "print\n"
     ]
    }
   ],
   "source": [
    "res = re.match(\"([a-z]+)\\(([0-9]+)\\)\",\"print(123)\")\n",
    "print(res.group(1))"
   ]
  },
  {
   "cell_type": "code",
   "execution_count": null,
   "id": "accb23b2",
   "metadata": {},
   "outputs": [],
   "source": []
  }
 ],
 "metadata": {
  "kernelspec": {
   "display_name": "Python 3 (ipykernel)",
   "language": "python",
   "name": "python3"
  },
  "language_info": {
   "codemirror_mode": {
    "name": "ipython",
    "version": 3
   },
   "file_extension": ".py",
   "mimetype": "text/x-python",
   "name": "python",
   "nbconvert_exporter": "python",
   "pygments_lexer": "ipython3",
   "version": "3.11.4"
  }
 },
 "nbformat": 4,
 "nbformat_minor": 5
}
